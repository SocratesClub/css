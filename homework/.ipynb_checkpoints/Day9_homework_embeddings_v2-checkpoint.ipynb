{
 "cells": [
  {
   "cell_type": "markdown",
   "metadata": {
    "slideshow": {
     "slide_type": "slide"
    }
   },
   "source": [
    "***\n",
    "***\n",
    "\n",
    "## The Geometry of Culture\n",
    "\n",
    "Analyzing Meaning through Word Embeddings\n",
    "\n",
    "***\n",
    "***\n",
    "\n",
    "Code and data associated with the ASR paper on the Geometry of Culture. The full paper can be found here: https://journals.sagepub.com/doi/full/10.1177/0003122419877135\n",
    "\n",
    "Austin C. Kozlowski; Matt Taddy; James A. Evans\n",
    "\n",
    "Word embeddings represent **semantic relations** between words as **geometric relationships** between vectors in a high-dimensional space, operationalizing a relational model of meaning consistent with contemporary theories of identity and culture. "
   ]
  },
  {
   "cell_type": "markdown",
   "metadata": {
    "slideshow": {
     "slide_type": "subslide"
    }
   },
   "source": [
    "## Download this repo\n",
    "https://github.com/KnowledgeLab/GeometryofCulture"
   ]
  },
  {
   "cell_type": "markdown",
   "metadata": {
    "slideshow": {
     "slide_type": "subslide"
    }
   },
   "source": [
    "\n",
    "- Dimensions induced by word differences (e.g. man - woman, rich - poor, black - white, liberal - conservative) in these vector spaces closely correspond to dimensions of cultural meaning, \n",
    "- Macro-cultural investigation with a longitudinal analysis of the coevolution of gender and class associations in the United States over the 20th century \n",
    "\n",
    "The success of these high-dimensional models motivates a move towards \"high-dimensional theorizing\" of meanings, identities and cultural processes."
   ]
  },
  {
   "cell_type": "markdown",
   "metadata": {
    "slideshow": {
     "slide_type": "subslide"
    }
   },
   "source": [
    "$$\n",
    "\\text{similarity} = \\cos(\\theta) = {\\mathbf{A} \\cdot \\mathbf{B} \\over \\|\\mathbf{A}\\| \\|\\mathbf{B}\\|} = \\frac{ \\sum\\limits_{i=1}^{n}{A_i  B_i} }{ \\sqrt{\\sum\\limits_{i=1}^{n}{A_i^2}}  \\sqrt{\\sum\\limits_{i=1}^{n}{B_i^2}} },\n",
    "$$\n",
    "\n",
    "where $A_i$ and $B_i$ are components of vector $A$ and $B$ respectively."
   ]
  },
  {
   "cell_type": "code",
   "execution_count": 19,
   "metadata": {
    "ExecuteTime": {
     "end_time": "2020-08-14T05:04:59.325063Z",
     "start_time": "2020-08-14T05:04:59.318970Z"
    },
    "slideshow": {
     "slide_type": "subslide"
    }
   },
   "outputs": [
    {
     "data": {
      "text/plain": [
       "-0.4999999999999999"
      ]
     },
     "execution_count": 19,
     "metadata": {},
     "output_type": "execute_result"
    }
   ],
   "source": [
    "from numpy import dot\n",
    "from numpy.linalg import norm\n",
    "\n",
    "def cos_sim(a, b):\n",
    "    return dot(a, b)/(norm(a)*norm(b))\n",
    "\n",
    "cos_sim([1, 0, -1], [-1,-1, 0])"
   ]
  },
  {
   "cell_type": "code",
   "execution_count": 20,
   "metadata": {
    "ExecuteTime": {
     "end_time": "2020-08-14T05:05:01.584412Z",
     "start_time": "2020-08-14T05:05:01.439890Z"
    },
    "slideshow": {
     "slide_type": "subslide"
    }
   },
   "outputs": [
    {
     "data": {
      "text/plain": [
       "array([[-0.5]])"
      ]
     },
     "execution_count": 20,
     "metadata": {},
     "output_type": "execute_result"
    }
   ],
   "source": [
    "from sklearn.metrics.pairwise import cosine_similarity\n",
    "\n",
    "cosine_similarity([[1, 0, -1]], [[-1,-1, 0]])"
   ]
  },
  {
   "cell_type": "markdown",
   "metadata": {
    "slideshow": {
     "slide_type": "subslide"
    }
   },
   "source": [
    "### Google News Word2Vec\n",
    "\n",
    "You can download Google’s pre-trained model here.\n",
    "\n",
    "- It’s 1.5GB! \n",
    "- It includes word vectors for a vocabulary of 3 million words and phrases \n",
    "- It is trained on roughly 100 billion words from a Google News dataset. \n",
    "- The vector length is 300 features.\n",
    "\n",
    "http://mccormickml.com/2016/04/12/googles-pretrained-word2vec-model-in-python/"
   ]
  },
  {
   "cell_type": "markdown",
   "metadata": {
    "slideshow": {
     "slide_type": "subslide"
    }
   },
   "source": [
    "Using the **Gensim** library in python, we can \n",
    "- find the most similar words to the resulting vector. \n",
    "- add and subtract word vectors, \n"
   ]
  },
  {
   "cell_type": "code",
   "execution_count": 1,
   "metadata": {
    "ExecuteTime": {
     "end_time": "2020-08-14T03:46:06.885174Z",
     "start_time": "2020-08-14T03:45:43.187009Z"
    },
    "slideshow": {
     "slide_type": "subslide"
    }
   },
   "outputs": [],
   "source": [
    "import gensim\n",
    "# Load Google's pre-trained Word2Vec model.\n",
    "filepath = '/Users/datalab/bigdata/GoogleNews-vectors-negative300.bin'\n",
    "model = gensim.models.KeyedVectors.load_word2vec_format(filepath, binary=True) "
   ]
  },
  {
   "cell_type": "code",
   "execution_count": 3,
   "metadata": {
    "ExecuteTime": {
     "end_time": "2020-08-14T03:46:24.610657Z",
     "start_time": "2020-08-14T03:46:24.606517Z"
    },
    "slideshow": {
     "slide_type": "subslide"
    }
   },
   "outputs": [
    {
     "data": {
      "text/plain": [
       "array([ 0.24316406, -0.07714844, -0.10302734, -0.10742188,  0.11816406,\n",
       "       -0.10742188, -0.11425781,  0.02563477,  0.11181641,  0.04858398],\n",
       "      dtype=float32)"
      ]
     },
     "execution_count": 3,
     "metadata": {},
     "output_type": "execute_result"
    }
   ],
   "source": [
    "model['woman'][:10]"
   ]
  },
  {
   "cell_type": "code",
   "execution_count": 7,
   "metadata": {
    "ExecuteTime": {
     "end_time": "2020-08-14T03:48:06.918378Z",
     "start_time": "2020-08-14T03:48:06.713168Z"
    },
    "slideshow": {
     "slide_type": "subslide"
    }
   },
   "outputs": [
    {
     "data": {
      "text/plain": [
       "[('Plato_Apology', 0.5661361217498779),\n",
       " ('philosopher_Socrates', 0.561074435710907),\n",
       " ('Aristotle', 0.5599992275238037),\n",
       " ('Parmenides', 0.541626513004303),\n",
       " ('Sophists', 0.5381807088851929),\n",
       " ('Sócrates', 0.533310055732727),\n",
       " ('Plato', 0.5317621827125549),\n",
       " ('philosopher_Aristotle', 0.5256754159927368),\n",
       " ('Plato_Socrates', 0.524064838886261),\n",
       " ('philosopher_Plato', 0.5164784789085388)]"
      ]
     },
     "execution_count": 7,
     "metadata": {},
     "output_type": "execute_result"
    }
   ],
   "source": [
    "model.most_similar('Socrates')"
   ]
  },
  {
   "cell_type": "code",
   "execution_count": 10,
   "metadata": {
    "ExecuteTime": {
     "end_time": "2020-08-14T03:49:03.222758Z",
     "start_time": "2020-08-14T03:49:03.218521Z"
    },
    "slideshow": {
     "slide_type": "subslide"
    }
   },
   "outputs": [
    {
     "data": {
      "text/plain": [
       "0.76640123"
      ]
     },
     "execution_count": 10,
     "metadata": {},
     "output_type": "execute_result"
    }
   ],
   "source": [
    "model.similarity('woman', 'man')"
   ]
  },
  {
   "cell_type": "code",
   "execution_count": 24,
   "metadata": {
    "ExecuteTime": {
     "end_time": "2020-08-14T05:05:13.891241Z",
     "start_time": "2020-08-14T05:05:13.887119Z"
    },
    "slideshow": {
     "slide_type": "fragment"
    }
   },
   "outputs": [
    {
     "data": {
      "text/plain": [
       "0.76640123"
      ]
     },
     "execution_count": 24,
     "metadata": {},
     "output_type": "execute_result"
    }
   ],
   "source": [
    "cos_sim(model['woman'], model['man'])"
   ]
  },
  {
   "cell_type": "code",
   "execution_count": 25,
   "metadata": {
    "ExecuteTime": {
     "end_time": "2020-08-14T05:05:18.768602Z",
     "start_time": "2020-08-14T05:05:17.725021Z"
    },
    "slideshow": {
     "slide_type": "subslide"
    }
   },
   "outputs": [
    {
     "data": {
      "text/plain": [
       "[('queen', 0.7118192911148071),\n",
       " ('monarch', 0.6189674139022827),\n",
       " ('princess', 0.5902431607246399),\n",
       " ('crown_prince', 0.5499460697174072),\n",
       " ('prince', 0.5377321243286133)]"
      ]
     },
     "execution_count": 25,
     "metadata": {},
     "output_type": "execute_result"
    }
   ],
   "source": [
    "model.most_similar(positive=['woman', 'king'], negative=['man'], topn=5)"
   ]
  },
  {
   "cell_type": "code",
   "execution_count": 52,
   "metadata": {
    "ExecuteTime": {
     "end_time": "2020-08-14T05:35:16.629282Z",
     "start_time": "2020-08-14T05:35:16.624343Z"
    },
    "slideshow": {
     "slide_type": "subslide"
    }
   },
   "outputs": [],
   "source": [
    "from numpy import dot  #Dot product#\n",
    "from numpy.linalg import norm\n",
    "from sklearn.metrics.pairwise import cosine_similarity\n",
    "from scipy import spatial\n",
    "\n",
    "\n",
    "def cos_sim(a, b):\n",
    "    return dot(a, b)/(norm(a)*norm(b))\n",
    "\n",
    "def cos(x, y):\n",
    "    return 1 - spatial.distance.cosine(x, y)\n",
    "\n",
    "def nrm(x):\n",
    "    # Normalize vector#\n",
    "    return x/norm(x)\n",
    "\n",
    "def dimension(x, y):\n",
    "    # Calculate semantic dimension from antonym pair#\n",
    "    return nrm(nrm(x)-nrm(y))\n"
   ]
  },
  {
   "cell_type": "code",
   "execution_count": 53,
   "metadata": {
    "ExecuteTime": {
     "end_time": "2020-08-14T05:35:18.683800Z",
     "start_time": "2020-08-14T05:35:18.674726Z"
    },
    "slideshow": {
     "slide_type": "subslide"
    }
   },
   "outputs": [],
   "source": [
    "###IMPORT LISTS OF TERMS TO PROJECT AND ANTONYM PAIRS#####\n",
    "import pandas as pd\n",
    "ant_pairs_aff = pd.read_csv(\"../data/word_pairs/affluence_pairs.csv\",header=None)\n",
    "ant_pairs_gen = pd.read_csv()  # change here\n",
    "ant_pairs_race = pd.read_csv() # change here"
   ]
  },
  {
   "cell_type": "code",
   "execution_count": 68,
   "metadata": {
    "ExecuteTime": {
     "end_time": "2020-08-14T05:43:51.808816Z",
     "start_time": "2020-08-14T05:43:51.804442Z"
    },
    "slideshow": {
     "slide_type": "subslide"
    }
   },
   "outputs": [],
   "source": [
    "def make_dim(model, df):\n",
    "    word_dims = []\n",
    "    for i in df.index:\n",
    "        rp_word1 = df[0][i]\n",
    "        rp_word2 = df[1][i]\n",
    "        try:\n",
    "            # 计算rp_word1、rp_word2两个词向量构成的dimension\n",
    "            word_dims.append( ) # change here\n",
    "        except:\n",
    "            pass\n",
    "    dim_ave = pd.DataFrame(word_dims).mean().tolist()\n",
    "    dim_ave_= nrm(dim_ave)\n",
    "    return dim_ave\n",
    "    "
   ]
  },
  {
   "cell_type": "code",
   "execution_count": 73,
   "metadata": {
    "ExecuteTime": {
     "end_time": "2020-08-14T05:45:48.352084Z",
     "start_time": "2020-08-14T05:45:48.298841Z"
    },
    "slideshow": {
     "slide_type": "subslide"
    }
   },
   "outputs": [],
   "source": [
    "aff_dim = make_dim(model, ant_pairs_aff)\n",
    "gender_dim = make_dim( ) # change here\n",
    "race_dim = make_dim( ) # change here\n"
   ]
  },
  {
   "cell_type": "code",
   "execution_count": 75,
   "metadata": {
    "ExecuteTime": {
     "end_time": "2020-08-14T05:45:59.641849Z",
     "start_time": "2020-08-14T05:45:59.637310Z"
    },
    "slideshow": {
     "slide_type": "subslide"
    }
   },
   "outputs": [
    {
     "data": {
      "text/plain": [
       "(-0.014282578052009498, -0.10834102639266807, -0.06033891833467253)"
      ]
     },
     "execution_count": 75,
     "metadata": {},
     "output_type": "execute_result"
    }
   ],
   "source": [
    "# 计算aff_dim、gender_dim、race_dim三者的cosine similarity\n"
   ]
  },
  {
   "cell_type": "code",
   "execution_count": 83,
   "metadata": {
    "ExecuteTime": {
     "end_time": "2020-08-14T05:53:15.147398Z",
     "start_time": "2020-08-14T05:53:15.141404Z"
    },
    "slideshow": {
     "slide_type": "subslide"
    }
   },
   "outputs": [],
   "source": [
    "wlist=[\"camping\",\"baseball\",\"boxing\",\"volleyball\",\"softball\",\"golf\",\"tennis\",\"soccer\",\"basketball\",\"hockey\"]\n",
    "\n",
    "aff_proj = [cos(aff_dim, model[i]) for i in wlist]\n",
    "gender_proj = [] # change here\n",
    "race_proj = [ ]# change here"
   ]
  },
  {
   "cell_type": "code",
   "execution_count": 85,
   "metadata": {
    "ExecuteTime": {
     "end_time": "2020-08-14T05:53:33.837101Z",
     "start_time": "2020-08-14T05:53:33.832589Z"
    },
    "slideshow": {
     "slide_type": "subslide"
    }
   },
   "outputs": [
    {
     "data": {
      "text/plain": [
       "array([ 0.07256063,  0.12535858,  0.07870991,  0.0066219 , -0.00821159],\n",
       "      dtype=float32)"
      ]
     },
     "execution_count": 85,
     "metadata": {},
     "output_type": "execute_result"
    }
   ],
   "source": [
    "dimension(model['man'], model['woman'])[:5]"
   ]
  },
  {
   "cell_type": "code",
   "execution_count": 95,
   "metadata": {
    "ExecuteTime": {
     "end_time": "2020-08-14T05:58:55.051974Z",
     "start_time": "2020-08-14T05:58:54.882736Z"
    },
    "slideshow": {
     "slide_type": "subslide"
    }
   },
   "outputs": [
    {
     "data": {
      "image/png": "[encoded data removed]",
      "text/plain": [
       "<Figure size 576x576 with 1 Axes>"
      ]
     },
     "metadata": {},
     "output_type": "display_data"
    }
   ],
   "source": [
    "import matplotlib.pyplot as plt\n",
    "import matplotlib\n",
    "matplotlib.style.use('ggplot')\n",
    "\n",
    "# 绘图"
   ]
  },
  {
   "cell_type": "code",
   "execution_count": 96,
   "metadata": {
    "ExecuteTime": {
     "end_time": "2020-08-14T06:00:48.733815Z",
     "start_time": "2020-08-14T06:00:48.574819Z"
    },
    "slideshow": {
     "slide_type": "subslide"
    }
   },
   "outputs": [
    {
     "data": {
      "image/png": "[encoded data removed]",
      "text/plain": [
       "<Figure size 576x576 with 1 Axes>"
      ]
     },
     "metadata": {},
     "output_type": "display_data"
    }
   ],
   "source": [
    "# 绘图\n"
   ]
  },
  {
   "cell_type": "markdown",
   "metadata": {
    "slideshow": {
     "slide_type": "subslide"
    }
   },
   "source": [
    "Now that we’ve looked at trained word embeddings, \n",
    "\n",
    "- let’s learn more about the training process. \n",
    "- But before we get to word2vec, we need to look at a conceptual parent of word embeddings: **the neural language model**.\n",
    "\n"
   ]
  },
  {
   "cell_type": "markdown",
   "metadata": {
    "slideshow": {
     "slide_type": "slide"
    }
   },
   "source": [
    "# Gensim Word2vec "
   ]
  },
  {
   "cell_type": "code",
   "execution_count": 16,
   "metadata": {
    "ExecuteTime": {
     "end_time": "2020-08-14T06:38:40.740911Z",
     "start_time": "2020-08-14T06:38:39.309264Z"
    },
    "slideshow": {
     "slide_type": "fragment"
    }
   },
   "outputs": [],
   "source": [
    "import gensim as gensim\n",
    "from gensim.models import Word2Vec\n",
    "from gensim.models.keyedvectors import KeyedVectors\n",
    "from gensim.models.word2vec import LineSentence"
   ]
  },
  {
   "cell_type": "code",
   "execution_count": 47,
   "metadata": {
    "ExecuteTime": {
     "end_time": "2020-08-14T06:49:16.828954Z",
     "start_time": "2020-08-14T06:49:16.821352Z"
    },
    "slideshow": {
     "slide_type": "subslide"
    }
   },
   "outputs": [],
   "source": [
    "# 下载理想国英文版本txt文件，网址为：http://www.gutenberg.org/cache/epub/150/pg150.txt\n",
    "\n",
    "with open(\"pg150.txt\", 'r') as f:\n",
    "    lines = f.readlines()\n"
   ]
  },
  {
   "cell_type": "code",
   "execution_count": 48,
   "metadata": {
    "ExecuteTime": {
     "end_time": "2020-08-14T06:49:17.390106Z",
     "start_time": "2020-08-14T06:49:17.386315Z"
    },
    "slideshow": {
     "slide_type": "subslide"
    }
   },
   "outputs": [
    {
     "data": {
      "text/plain": [
       "16960"
      ]
     },
     "execution_count": 48,
     "metadata": {},
     "output_type": "execute_result"
    }
   ],
   "source": [
    "len(lines)"
   ]
  },
  {
   "cell_type": "code",
   "execution_count": 52,
   "metadata": {
    "ExecuteTime": {
     "end_time": "2020-08-14T06:49:33.192579Z",
     "start_time": "2020-08-14T06:49:33.180342Z"
    },
    "slideshow": {
     "slide_type": "subslide"
    }
   },
   "outputs": [],
   "source": [
    "book = []\n",
    "paragraph = ''\n",
    "for i in lines:\n",
    "    if i !='\\n':\n",
    "        paragraph = paragraph + ' '+ i\n",
    "    else:\n",
    "        book.append(paragraph)\n",
    "        paragraph = ''\n",
    "    "
   ]
  },
  {
   "cell_type": "code",
   "execution_count": 53,
   "metadata": {
    "ExecuteTime": {
     "end_time": "2020-08-14T06:49:33.668616Z",
     "start_time": "2020-08-14T06:49:33.664271Z"
    }
   },
   "outputs": [
    {
     "data": {
      "text/plain": [
       "4519"
      ]
     },
     "execution_count": 53,
     "metadata": {},
     "output_type": "execute_result"
    }
   ],
   "source": [
    "len(book)"
   ]
  },
  {
   "cell_type": "code",
   "execution_count": 54,
   "metadata": {
    "ExecuteTime": {
     "end_time": "2020-08-14T06:49:34.238414Z",
     "start_time": "2020-08-14T06:49:34.219461Z"
    }
   },
   "outputs": [
    {
     "data": {
      "text/plain": [
       "['',\n",
       " '\\ufeffThe',\n",
       " 'Project',\n",
       " 'Gutenberg',\n",
       " 'EBook',\n",
       " 'of',\n",
       " \"Plato's\",\n",
       " 'Republic,',\n",
       " 'by',\n",
       " 'Plato']"
      ]
     },
     "execution_count": 54,
     "metadata": {},
     "output_type": "execute_result"
    }
   ],
   "source": [
    "book = [i.replace('\\n', '').split(' ') for i in book]\n",
    "\n",
    "book[0]"
   ]
  },
  {
   "cell_type": "code",
   "execution_count": 55,
   "metadata": {
    "ExecuteTime": {
     "end_time": "2020-08-14T06:49:43.875182Z",
     "start_time": "2020-08-14T06:49:40.739848Z"
    },
    "slideshow": {
     "slide_type": "subslide"
    }
   },
   "outputs": [],
   "source": [
    "# 调用gensim Word2Vec的算法进行训练。\n",
    "# 参数分别为：size: 100 嵌入后的词向量维度；window: 2上下文的宽度，min_count 0 为考虑计算的单词的最低词频阈值\n",
    "model = Word2Vec( ) # change here"
   ]
  },
  {
   "cell_type": "code",
   "execution_count": 56,
   "metadata": {
    "ExecuteTime": {
     "end_time": "2020-08-14T06:49:55.113272Z",
     "start_time": "2020-08-14T06:49:55.107747Z"
    }
   },
   "outputs": [
    {
     "name": "stderr",
     "output_type": "stream",
     "text": [
      "/opt/anaconda3/lib/python3.7/site-packages/ipykernel_launcher.py:1: DeprecationWarning: Call to deprecated `__getitem__` (Method will be removed in 4.0.0, use self.wv.__getitem__() instead).\n",
      "  \"\"\"Entry point for launching an IPython kernel.\n"
     ]
    },
    {
     "data": {
      "text/plain": [
       "array([-1.37807399e-01, -8.50972980e-02, -1.13084763e-02, -5.47388643e-02,\n",
       "       -7.65230134e-03,  4.63625900e-02, -1.47486730e-02,  5.45147732e-02,\n",
       "       -4.95448150e-02,  3.51702049e-02, -2.01568142e-01, -2.71834917e-02,\n",
       "        2.41141934e-02, -2.37497687e-03,  5.85087836e-02, -2.91526467e-02,\n",
       "       -3.89404669e-02, -3.37465070e-02,  3.65749188e-02, -3.33004259e-02,\n",
       "        3.11295446e-02, -4.64655086e-02, -2.74411552e-02, -1.17913283e-01,\n",
       "       -9.69972741e-03, -2.03968666e-04,  3.42998542e-02, -4.59230319e-02,\n",
       "       -2.28419363e-01,  7.53095001e-02,  1.16067998e-01,  2.36383397e-02,\n",
       "        1.27256542e-01, -7.05621243e-02,  1.00037888e-01,  4.58286814e-02,\n",
       "       -5.83368801e-02, -8.03394169e-02, -1.82675138e-01, -6.63211495e-02,\n",
       "        8.43277853e-03, -6.84499145e-02,  1.28329352e-01, -1.21511919e-02,\n",
       "        3.29800136e-02,  4.06918265e-02,  6.52354583e-02,  1.52770486e-02,\n",
       "       -1.01396181e-01,  1.15474589e-01, -7.89184794e-02,  3.35669294e-02,\n",
       "        6.52226880e-02, -6.70596510e-02, -4.89763245e-02,  1.98891237e-01,\n",
       "        6.48066774e-02, -5.29073626e-02,  1.17686436e-01,  6.05571494e-02,\n",
       "        4.81364317e-03,  1.12978658e-02, -1.21227279e-01, -8.13504159e-02,\n",
       "        1.93354748e-02,  8.40817466e-02, -5.93261458e-02,  1.06367692e-01,\n",
       "       -1.17695704e-01,  1.33523375e-01, -1.05052598e-01,  8.11126828e-02,\n",
       "       -4.79990542e-02, -4.17293869e-02,  7.54278749e-02, -6.26239702e-02,\n",
       "        2.10881862e-03, -6.99369609e-02, -3.48991528e-02, -1.98208854e-01,\n",
       "        8.24960545e-02, -3.20518985e-02, -1.70636520e-01,  3.31224762e-02,\n",
       "       -1.96487531e-01,  3.06039937e-02,  5.15202433e-03, -1.20531274e-02,\n",
       "       -3.57166678e-02,  5.36215603e-02,  5.61406575e-02,  1.57578033e-03,\n",
       "        2.71171853e-02, -1.40045956e-01, -7.39080384e-02,  2.55121794e-02,\n",
       "       -9.88911688e-02, -7.16031566e-02, -8.72703791e-02,  1.23933800e-01],\n",
       "      dtype=float32)"
      ]
     },
     "execution_count": 56,
     "metadata": {},
     "output_type": "execute_result"
    }
   ],
   "source": [
    "model['Socrates']"
   ]
  },
  {
   "cell_type": "code",
   "execution_count": 57,
   "metadata": {
    "ExecuteTime": {
     "end_time": "2020-08-14T06:50:04.021580Z",
     "start_time": "2020-08-14T06:50:04.003200Z"
    }
   },
   "outputs": [
    {
     "data": {
      "text/plain": [
       "[('words', 0.9993601441383362),\n",
       " ('her', 0.9993101954460144),\n",
       " ('always', 0.9993042945861816),\n",
       " ('tyrant', 0.9992969036102295),\n",
       " ('real', 0.999282717704773),\n",
       " ('injustice', 0.9992785453796387),\n",
       " ('himself', 0.9992719888687134),\n",
       " ('public', 0.9992649555206299),\n",
       " ('after', 0.999255895614624),\n",
       " ('reason', 0.9992557764053345)]"
      ]
     },
     "execution_count": 57,
     "metadata": {},
     "output_type": "execute_result"
    }
   ],
   "source": [
    "model.wv.most_similar('Socrates', topn = 10)"
   ]
  },
  {
   "cell_type": "code",
   "execution_count": 67,
   "metadata": {
    "ExecuteTime": {
     "end_time": "2020-08-14T06:54:37.439056Z",
     "start_time": "2020-08-14T06:54:37.433219Z"
    }
   },
   "outputs": [
    {
     "data": {
      "text/plain": [
       "[('best', 0.9997957944869995),\n",
       " ('some', 0.9997676610946655),\n",
       " ('use', 0.9997552633285522),\n",
       " ('opinion', 0.9997509121894836),\n",
       " ('another', 0.9997390508651733),\n",
       " ('either', 0.9997327327728271),\n",
       " ('our', 0.9997314214706421),\n",
       " ('evil', 0.9997271299362183),\n",
       " ('pleasure', 0.999714195728302),\n",
       " ('thing', 0.9997127652168274)]"
      ]
     },
     "execution_count": 67,
     "metadata": {},
     "output_type": "execute_result"
    }
   ],
   "source": [
    "model.wv.most_similar('justice', topn = 10)"
   ]
  },
  {
   "cell_type": "code",
   "execution_count": 72,
   "metadata": {
    "ExecuteTime": {
     "end_time": "2020-08-14T06:56:59.439904Z",
     "start_time": "2020-08-14T06:56:59.434075Z"
    }
   },
   "outputs": [
    {
     "data": {
      "text/plain": [
       "[('good', 0.9996432065963745),\n",
       " ('city', 0.9995303153991699),\n",
       " ('him', 0.999497652053833),\n",
       " ('another', 0.9994549751281738),\n",
       " ('life', 0.9994546175003052),\n",
       " ('State,', 0.9994027018547058),\n",
       " ('way', 0.9993818998336792),\n",
       " ('evil', 0.9993690848350525),\n",
       " ('time', 0.999363899230957),\n",
       " ('class', 0.9993453025817871)]"
      ]
     },
     "execution_count": 72,
     "metadata": {},
     "output_type": "execute_result"
    }
   ],
   "source": [
    "model.wv.most_similar('man', topn = 10)"
   ]
  },
  {
   "cell_type": "code",
   "execution_count": 60,
   "metadata": {
    "ExecuteTime": {
     "end_time": "2020-08-14T06:50:52.526514Z",
     "start_time": "2020-08-14T06:50:52.123980Z"
    },
    "slideshow": {
     "slide_type": "subslide"
    }
   },
   "outputs": [
    {
     "name": "stderr",
     "output_type": "stream",
     "text": [
      "/opt/anaconda3/lib/python3.7/site-packages/ipykernel_launcher.py:8: DeprecationWarning: Call to deprecated `__getitem__` (Method will be removed in 4.0.0, use self.wv.__getitem__() instead).\n",
      "  \n"
     ]
    }
   ],
   "source": [
    "# 将词向量投影到二维空间\n",
    "import numpy as np\n",
    "from sklearn.decomposition import PCA\n",
    "\n",
    "rawWordVec = []\n",
    "word2ind = {}\n",
    "for i, w in enumerate(model.wv.vocab):\n",
    "    rawWordVec.append(model[w])\n",
    "    word2ind[w] = i\n",
    "rawWordVec = np.array(rawWordVec)\n",
    "X_reduced = PCA( ).fit_transform(rawWordVec) # change here"
   ]
  },
  {
   "cell_type": "code",
   "execution_count": 78,
   "metadata": {
    "ExecuteTime": {
     "end_time": "2020-08-14T06:58:51.837481Z",
     "start_time": "2020-08-14T06:58:51.578618Z"
    }
   },
   "outputs": [
    {
     "data": {
      "image/png": "[encoded data removed]",
      "text/plain": [
       "<Figure size 1080x720 with 1 Axes>"
      ]
     },
     "metadata": {
      "needs_background": "light"
     },
     "output_type": "display_data"
    }
   ],
   "source": [
    "# 绘制星空图\n",
    "# 绘制所有单词向量的二维空间投影\n",
    "import matplotlib.pyplot as plt\n",
    "\n",
    "fig = plt.figure(figsize = (15, 10))\n",
    "ax = fig.gca()\n",
    "ax.set_facecolor('black')\n",
    "ax.plot(X_reduced[:, 0], X_reduced[:, 1], '.', markersize = 1, alpha = 0.5, color = 'white')\n",
    "# 绘制几个特殊单词的向量\n",
    "words = [] # change here\n",
    "for w in words:\n",
    "    if w in word2ind:\n",
    "        ind = word2ind[w]\n",
    "        xy = X_reduced[ind]\n",
    "        plt.plot(xy[0], xy[1], '.', alpha =1, color = 'red')\n",
    "        plt.text(xy[0], xy[1], w,  alpha = 1, color = 'yellow')"
   ]
  },
  {
   "cell_type": "markdown",
   "metadata": {
    "slideshow": {
     "slide_type": "slide"
    }
   },
   "source": [
    "# END"
   ]
  }
 ],
 "metadata": {
  "celltoolbar": "Slideshow",
  "kernelspec": {
   "display_name": "Python 3",
   "language": "python",
   "name": "python3"
  },
  "language_info": {
   "codemirror_mode": {
    "name": "ipython",
    "version": 3
   },
   "file_extension": ".py",
   "mimetype": "text/x-python",
   "name": "python",
   "nbconvert_exporter": "python",
   "pygments_lexer": "ipython3",
   "version": "3.7.6"
  },
  "latex_envs": {
   "LaTeX_envs_menu_present": true,
   "autoclose": false,
   "autocomplete": true,
   "bibliofile": "biblio.bib",
   "cite_by": "apalike",
   "current_citInitial": 1,
   "eqLabelWithNumbers": true,
   "eqNumInitial": 1,
   "hotkeys": {
    "equation": "Ctrl-E",
    "itemize": "Ctrl-I"
   },
   "labels_anchors": false,
   "latex_user_defs": false,
   "report_style_numbering": false,
   "user_envs_cfg": false
  },
  "toc": {
   "base_numbering": 1,
   "nav_menu": {},
   "number_sections": false,
   "sideBar": false,
   "skip_h1_title": false,
   "title_cell": "Table of Contents",
   "title_sidebar": "Contents",
   "toc_cell": false,
   "toc_position": {
    "height": "517px",
    "left": "953px",
    "top": "134px",
    "width": "255px"
   },
   "toc_section_display": false,
   "toc_window_display": false
  }
 },
 "nbformat": 4,
 "nbformat_minor": 4
}
