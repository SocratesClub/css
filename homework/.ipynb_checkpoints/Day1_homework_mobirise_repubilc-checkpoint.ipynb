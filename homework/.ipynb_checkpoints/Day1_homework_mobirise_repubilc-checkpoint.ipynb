{
 "cells": [
  {
   "cell_type": "markdown",
   "metadata": {},
   "source": [
    "# TechX2020 - 计算社科 - HW1"
   ]
  },
  {
   "cell_type": "markdown",
   "metadata": {},
   "source": [
    "## 第一题 使用mobirise建立个人网站\n",
    "\n",
    "下载mobirise软件 https://mobirise.com/ ，使用mobirise建立个人网站，并提交个人网站的url。"
   ]
  },
  {
   "cell_type": "markdown",
   "metadata": {},
   "source": [
    "请在下面复制你个人网站的链接（不需要非常精美hh）："
   ]
  },
  {
   "cell_type": "markdown",
   "metadata": {},
   "source": [
    "我的网站链接为："
   ]
  },
  {
   "cell_type": "code",
   "execution_count": null,
   "metadata": {},
   "outputs": [],
   "source": []
  },
  {
   "cell_type": "code",
   "execution_count": null,
   "metadata": {},
   "outputs": [],
   "source": []
  },
  {
   "cell_type": "markdown",
   "metadata": {},
   "source": [
    "## 第二题 理想国数据分析\n",
    "\n",
    "- 下载理想国英文版本txt文件，网址为：http://www.gutenberg.org/cache/epub/150/pg150.txt\n",
    "- 将下载文件保存到某一个文件夹。\n",
    "- 使用python读取pg150.txt文件\n",
    "- 对读入的文件进行清洗\n",
    "- 计算每个单词出现的频次，格式：单词，频次\n",
    "- 将出现次数最多的100个单词及其频次写入硬盘。\n",
    "\n",
    "\n",
    "\n",
    "\n",
    "提示（非强制使用）：\n",
    "\n",
    "- 使用with open打开\n",
    "- 使用readlines读取\n",
    "- 使用join合并字符串构成的列表\n",
    "- 使用replace清洗\n",
    "- 使用split分词\n",
    "- 去除列表中的空元素''\n",
    "- from collections import Counter \n",
    "- 使用Counter计数\n",
    "- 对Counter的计算结果使用most_common输出最多的100个单词\n",
    "- 将结果写入硬盘\n"
   ]
  },
  {
   "cell_type": "code",
   "execution_count": null,
   "metadata": {},
   "outputs": [],
   "source": []
  },
  {
   "cell_type": "code",
   "execution_count": null,
   "metadata": {},
   "outputs": [],
   "source": []
  }
 ],
 "metadata": {
  "kernelspec": {
   "display_name": "Python 3",
   "language": "python",
   "name": "python3"
  },
  "language_info": {
   "codemirror_mode": {
    "name": "ipython",
    "version": 3
   },
   "file_extension": ".py",
   "mimetype": "text/x-python",
   "name": "python",
   "nbconvert_exporter": "python",
   "pygments_lexer": "ipython3",
   "version": "3.7.6"
  },
  "toc": {
   "base_numbering": 1,
   "nav_menu": {},
   "number_sections": false,
   "sideBar": true,
   "skip_h1_title": false,
   "title_cell": "Table of Contents",
   "title_sidebar": "Contents",
   "toc_cell": false,
   "toc_position": {},
   "toc_section_display": true,
   "toc_window_display": false
  }
 },
 "nbformat": 4,
 "nbformat_minor": 4
}
