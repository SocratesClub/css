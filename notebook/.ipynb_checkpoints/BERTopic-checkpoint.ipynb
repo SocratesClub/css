{
 "cells": [
  {
   "cell_type": "markdown",
   "id": "40d39dec",
   "metadata": {
    "slideshow": {
     "slide_type": "slide"
    }
   },
   "source": [
    "# BERTopic\n",
    "\n",
    "BERTopic is a topic modeling technique that leverages 🤗 transformers and c-TF-IDF to create dense clusters allowing for easily interpretable topics whilst keeping important words in the topic descriptions.\n",
    "\n",
    "https://maartengr.github.io/BERTopic/"
   ]
  },
  {
   "cell_type": "code",
   "execution_count": 4,
   "id": "55c78235",
   "metadata": {
    "ExecuteTime": {
     "end_time": "2024-08-03T07:59:18.174535Z",
     "start_time": "2024-08-03T07:59:17.777485Z"
    }
   },
   "outputs": [
    {
     "name": "stdout",
     "output_type": "stream",
     "text": [
      "channels:\n",
      "  - https://mirrors.tuna.tsinghua.edu.cn/anaconda/pkgs/main/\n",
      "  - https://mirrors.ustc.edu.cn/anaconda/pkgs/main/\n",
      "  - https://mirrors.tuna.tsinghua.edu.cn/anaconda/pkgs/free/\n",
      "  - https://mirrors.tuna.tsinghua.edu.cn/anaconda/cloud/msys2/\n",
      "  - https://mirrors.ustc.edu.cn/anaconda/cloud/bioconda/\n",
      "  - https://mirrors.ustc.edu.cn/anaconda/cloud/menpo/\n",
      "  - defaults\n",
      "\n",
      "Note: you may need to restart the kernel to use updated packages.\n"
     ]
    }
   ],
   "source": [
    "conda config --show channels"
   ]
  },
  {
   "cell_type": "code",
   "execution_count": 7,
   "id": "96c95d53",
   "metadata": {
    "ExecuteTime": {
     "end_time": "2024-08-03T08:01:32.972110Z",
     "start_time": "2024-08-03T07:59:54.222619Z"
    }
   },
   "outputs": [
    {
     "name": "stdout",
     "output_type": "stream",
     "text": [
      "Collecting package metadata (current_repodata.json): done\n",
      "Solving environment: failed with initial frozen solve. Retrying with flexible solve.\n",
      "Collecting package metadata (repodata.json): | ^C\n",
      "- "
     ]
    }
   ],
   "source": [
    "# conda config --add channels https://mirrors.tuna.tsinghua.edu.cn/anaconda/pkgs/main/\n",
    "!conda install hdbscan"
   ]
  },
  {
   "cell_type": "code",
   "execution_count": 2,
   "id": "b72c2063",
   "metadata": {
    "ExecuteTime": {
     "end_time": "2024-08-03T07:51:19.265753Z",
     "start_time": "2024-08-03T07:50:38.295860Z"
    }
   },
   "outputs": [
    {
     "name": "stdout",
     "output_type": "stream",
     "text": [
      "Looking in indexes: https://pypi.tuna.tsinghua.edu.cn/simple\n",
      "Collecting hdbscan\n",
      "  Using cached https://pypi.tuna.tsinghua.edu.cn/packages/9d/47/a6493a4e17cc45220a0b5de012641b81f57272961570a4ab99fcdf727c38/hdbscan-0.8.37.tar.gz (5.2 MB)\n",
      "  Installing build dependencies ... \u001b[?25ldone\n",
      "\u001b[?25h  Getting requirements to build wheel ... \u001b[?25ldone\n",
      "\u001b[?25h  Preparing metadata (pyproject.toml) ... \u001b[?25ldone\n",
      "\u001b[?25hRequirement already satisfied: cython<3,>=0.27 in /opt/anaconda3/lib/python3.8/site-packages (from hdbscan) (0.29.23)\n",
      "Requirement already satisfied: joblib>=1.0 in /opt/anaconda3/lib/python3.8/site-packages (from hdbscan) (1.0.1)\n",
      "Requirement already satisfied: scipy>=1.0 in /opt/anaconda3/lib/python3.8/site-packages (from hdbscan) (1.6.2)\n",
      "Requirement already satisfied: numpy<2,>=1.20 in /opt/anaconda3/lib/python3.8/site-packages (from hdbscan) (1.20.0)\n",
      "Requirement already satisfied: scikit-learn>=0.20 in /opt/anaconda3/lib/python3.8/site-packages (from hdbscan) (1.0)\n",
      "Requirement already satisfied: threadpoolctl>=2.0.0 in /opt/anaconda3/lib/python3.8/site-packages (from scikit-learn>=0.20->hdbscan) (2.1.0)\n",
      "Building wheels for collected packages: hdbscan\n",
      "  Building wheel for hdbscan (pyproject.toml) ... \u001b[?25lerror\n",
      "  \u001b[1;31merror\u001b[0m: \u001b[1msubprocess-exited-with-error\u001b[0m\n",
      "  \n",
      "  \u001b[31m×\u001b[0m \u001b[32mBuilding wheel for hdbscan \u001b[0m\u001b[1;32m(\u001b[0m\u001b[32mpyproject.toml\u001b[0m\u001b[1;32m)\u001b[0m did not run successfully.\n",
      "  \u001b[31m│\u001b[0m exit code: \u001b[1;36m1\u001b[0m\n",
      "  \u001b[31m╰─>\u001b[0m \u001b[31m[48 lines of output]\u001b[0m\n",
      "  \u001b[31m   \u001b[0m running bdist_wheel\n",
      "  \u001b[31m   \u001b[0m running build\n",
      "  \u001b[31m   \u001b[0m running build_py\n",
      "  \u001b[31m   \u001b[0m creating build\n",
      "  \u001b[31m   \u001b[0m creating build/lib.macosx-10.9-x86_64-cpython-38\n",
      "  \u001b[31m   \u001b[0m creating build/lib.macosx-10.9-x86_64-cpython-38/hdbscan\n",
      "  \u001b[31m   \u001b[0m copying hdbscan/validity.py -> build/lib.macosx-10.9-x86_64-cpython-38/hdbscan\n",
      "  \u001b[31m   \u001b[0m copying hdbscan/flat.py -> build/lib.macosx-10.9-x86_64-cpython-38/hdbscan\n",
      "  \u001b[31m   \u001b[0m copying hdbscan/__init__.py -> build/lib.macosx-10.9-x86_64-cpython-38/hdbscan\n",
      "  \u001b[31m   \u001b[0m copying hdbscan/prediction.py -> build/lib.macosx-10.9-x86_64-cpython-38/hdbscan\n",
      "  \u001b[31m   \u001b[0m copying hdbscan/plots.py -> build/lib.macosx-10.9-x86_64-cpython-38/hdbscan\n",
      "  \u001b[31m   \u001b[0m copying hdbscan/hdbscan_.py -> build/lib.macosx-10.9-x86_64-cpython-38/hdbscan\n",
      "  \u001b[31m   \u001b[0m copying hdbscan/robust_single_linkage_.py -> build/lib.macosx-10.9-x86_64-cpython-38/hdbscan\n",
      "  \u001b[31m   \u001b[0m creating build/lib.macosx-10.9-x86_64-cpython-38/hdbscan/tests\n",
      "  \u001b[31m   \u001b[0m copying hdbscan/tests/test_flat.py -> build/lib.macosx-10.9-x86_64-cpython-38/hdbscan/tests\n",
      "  \u001b[31m   \u001b[0m copying hdbscan/tests/test_prediction_utils.py -> build/lib.macosx-10.9-x86_64-cpython-38/hdbscan/tests\n",
      "  \u001b[31m   \u001b[0m copying hdbscan/tests/__init__.py -> build/lib.macosx-10.9-x86_64-cpython-38/hdbscan/tests\n",
      "  \u001b[31m   \u001b[0m copying hdbscan/tests/test_rsl.py -> build/lib.macosx-10.9-x86_64-cpython-38/hdbscan/tests\n",
      "  \u001b[31m   \u001b[0m copying hdbscan/tests/test_hdbscan.py -> build/lib.macosx-10.9-x86_64-cpython-38/hdbscan/tests\n",
      "  \u001b[31m   \u001b[0m running build_ext\n",
      "  \u001b[31m   \u001b[0m cythoning hdbscan/_hdbscan_tree.pyx to hdbscan/_hdbscan_tree.c\n",
      "  \u001b[31m   \u001b[0m cythoning hdbscan/_hdbscan_linkage.pyx to hdbscan/_hdbscan_linkage.c\n",
      "  \u001b[31m   \u001b[0m cythoning hdbscan/_hdbscan_boruvka.pyx to hdbscan/_hdbscan_boruvka.c\n",
      "  \u001b[31m   \u001b[0m cythoning hdbscan/_hdbscan_reachability.pyx to hdbscan/_hdbscan_reachability.c\n",
      "  \u001b[31m   \u001b[0m cythoning hdbscan/_prediction_utils.pyx to hdbscan/_prediction_utils.c\n",
      "  \u001b[31m   \u001b[0m cythoning hdbscan/dist_metrics.pyx to hdbscan/dist_metrics.c\n",
      "  \u001b[31m   \u001b[0m building 'hdbscan._hdbscan_tree' extension\n",
      "  \u001b[31m   \u001b[0m creating build/temp.macosx-10.9-x86_64-cpython-38\n",
      "  \u001b[31m   \u001b[0m creating build/temp.macosx-10.9-x86_64-cpython-38/hdbscan\n",
      "  \u001b[31m   \u001b[0m gcc -Wno-unused-result -Wsign-compare -Wunreachable-code -DNDEBUG -g -fwrapv -O3 -Wall -Wstrict-prototypes -I/opt/anaconda3/include -arch x86_64 -I/opt/anaconda3/include -arch x86_64 -I/opt/anaconda3/include/python3.8 -I/private/var/folders/l6/ntr5b4610hx38gy0_2xp7ngh0000gn/T/pip-build-env-egmmbja_/overlay/lib/python3.8/site-packages/numpy/core/include -c hdbscan/_hdbscan_tree.c -o build/temp.macosx-10.9-x86_64-cpython-38/hdbscan/_hdbscan_tree.o\n",
      "  \u001b[31m   \u001b[0m xcrun: error: invalid active developer path (/Library/Developer/CommandLineTools), missing xcrun at: /Library/Developer/CommandLineTools/usr/bin/xcrun\n",
      "  \u001b[31m   \u001b[0m /private/var/folders/l6/ntr5b4610hx38gy0_2xp7ngh0000gn/T/pip-build-env-egmmbja_/overlay/lib/python3.8/site-packages/setuptools/_distutils/dist.py:268: UserWarning: Unknown distribution option: 'test_suite'\n",
      "  \u001b[31m   \u001b[0m   warnings.warn(msg)\n",
      "  \u001b[31m   \u001b[0m /private/var/folders/l6/ntr5b4610hx38gy0_2xp7ngh0000gn/T/pip-build-env-egmmbja_/overlay/lib/python3.8/site-packages/setuptools/_distutils/dist.py:268: UserWarning: Unknown distribution option: 'tests_require'\n",
      "  \u001b[31m   \u001b[0m   warnings.warn(msg)\n",
      "  \u001b[31m   \u001b[0m /private/var/folders/l6/ntr5b4610hx38gy0_2xp7ngh0000gn/T/pip-build-env-egmmbja_/overlay/lib/python3.8/site-packages/Cython/Compiler/Main.py:369: FutureWarning: Cython directive 'language_level' not set, using 2 for now (Py2). This will change in a later release! File: /private/var/folders/l6/ntr5b4610hx38gy0_2xp7ngh0000gn/T/pip-install-9bt_cxv3/hdbscan_30f23a8a186c4fc89f6be4db193785c0/hdbscan/_hdbscan_tree.pyx\n",
      "  \u001b[31m   \u001b[0m   tree = Parsing.p_module(s, pxd, full_module_name)\n",
      "  \u001b[31m   \u001b[0m /private/var/folders/l6/ntr5b4610hx38gy0_2xp7ngh0000gn/T/pip-build-env-egmmbja_/overlay/lib/python3.8/site-packages/Cython/Compiler/Main.py:369: FutureWarning: Cython directive 'language_level' not set, using 2 for now (Py2). This will change in a later release! File: /private/var/folders/l6/ntr5b4610hx38gy0_2xp7ngh0000gn/T/pip-install-9bt_cxv3/hdbscan_30f23a8a186c4fc89f6be4db193785c0/hdbscan/_hdbscan_linkage.pyx\n",
      "  \u001b[31m   \u001b[0m   tree = Parsing.p_module(s, pxd, full_module_name)\n",
      "  \u001b[31m   \u001b[0m /private/var/folders/l6/ntr5b4610hx38gy0_2xp7ngh0000gn/T/pip-build-env-egmmbja_/overlay/lib/python3.8/site-packages/Cython/Compiler/Main.py:369: FutureWarning: Cython directive 'language_level' not set, using 2 for now (Py2). This will change in a later release! File: /private/var/folders/l6/ntr5b4610hx38gy0_2xp7ngh0000gn/T/pip-install-9bt_cxv3/hdbscan_30f23a8a186c4fc89f6be4db193785c0/hdbscan/_hdbscan_boruvka.pyx\n",
      "  \u001b[31m   \u001b[0m   tree = Parsing.p_module(s, pxd, full_module_name)\n",
      "  \u001b[31m   \u001b[0m /private/var/folders/l6/ntr5b4610hx38gy0_2xp7ngh0000gn/T/pip-build-env-egmmbja_/overlay/lib/python3.8/site-packages/Cython/Compiler/Main.py:369: FutureWarning: Cython directive 'language_level' not set, using 2 for now (Py2). This will change in a later release! File: /private/var/folders/l6/ntr5b4610hx38gy0_2xp7ngh0000gn/T/pip-install-9bt_cxv3/hdbscan_30f23a8a186c4fc89f6be4db193785c0/hdbscan/_hdbscan_reachability.pyx\n",
      "  \u001b[31m   \u001b[0m   tree = Parsing.p_module(s, pxd, full_module_name)\n",
      "  \u001b[31m   \u001b[0m /private/var/folders/l6/ntr5b4610hx38gy0_2xp7ngh0000gn/T/pip-build-env-egmmbja_/overlay/lib/python3.8/site-packages/Cython/Compiler/Main.py:369: FutureWarning: Cython directive 'language_level' not set, using 2 for now (Py2). This will change in a later release! File: /private/var/folders/l6/ntr5b4610hx38gy0_2xp7ngh0000gn/T/pip-install-9bt_cxv3/hdbscan_30f23a8a186c4fc89f6be4db193785c0/hdbscan/_prediction_utils.pyx\n",
      "  \u001b[31m   \u001b[0m   tree = Parsing.p_module(s, pxd, full_module_name)\n",
      "  \u001b[31m   \u001b[0m /private/var/folders/l6/ntr5b4610hx38gy0_2xp7ngh0000gn/T/pip-build-env-egmmbja_/overlay/lib/python3.8/site-packages/Cython/Compiler/Main.py:369: FutureWarning: Cython directive 'language_level' not set, using 2 for now (Py2). This will change in a later release! File: /private/var/folders/l6/ntr5b4610hx38gy0_2xp7ngh0000gn/T/pip-install-9bt_cxv3/hdbscan_30f23a8a186c4fc89f6be4db193785c0/hdbscan/dist_metrics.pxd\n",
      "  \u001b[31m   \u001b[0m   tree = Parsing.p_module(s, pxd, full_module_name)\n",
      "  \u001b[31m   \u001b[0m error: command '/usr/bin/gcc' failed with exit code 1\n",
      "  \u001b[31m   \u001b[0m \u001b[31m[end of output]\u001b[0m\n",
      "  \n",
      "  \u001b[1;35mnote\u001b[0m: This error originates from a subprocess, and is likely not a problem with pip.\n",
      "\u001b[31m  ERROR: Failed building wheel for hdbscan\u001b[0m\u001b[31m\n",
      "\u001b[0m\u001b[?25hFailed to build hdbscan\n",
      "\u001b[31mERROR: Could not build wheels for hdbscan, which is required to install pyproject.toml-based projects\u001b[0m\u001b[31m\n",
      "\u001b[0m\u001b[33mWARNING: You are using pip version 22.0.4; however, version 24.2 is available.\n",
      "You should consider upgrading via the '/opt/anaconda3/bin/python -m pip install --upgrade pip' command.\u001b[0m\u001b[33m\n",
      "\u001b[0m"
     ]
    }
   ],
   "source": [
    "# conda config --add channels https://mirrors.tuna.tsinghua.edu.cn/anaconda/pkgs/main/\n",
    "!pip install -i https://pypi.tuna.tsinghua.edu.cn/simple -U hdbscan"
   ]
  },
  {
   "cell_type": "code",
   "execution_count": 5,
   "id": "468ac5ed",
   "metadata": {
    "ExecuteTime": {
     "end_time": "2024-08-03T07:34:09.105736Z",
     "start_time": "2024-08-03T07:33:28.292626Z"
    },
    "slideshow": {
     "slide_type": "subslide"
    }
   },
   "outputs": [
    {
     "name": "stdout",
     "output_type": "stream",
     "text": [
      "Looking in indexes: https://pypi.tuna.tsinghua.edu.cn/simple\n",
      "Collecting bertopic\n",
      "  Using cached https://pypi.tuna.tsinghua.edu.cn/packages/34/38/a3b97cfc8346683d1498ffe7dc2c58265d1dea980d89c769b6b74e01e35c/bertopic-0.16.3-py3-none-any.whl (143 kB)\n",
      "Collecting hdbscan>=0.8.29\n",
      "  Using cached https://pypi.tuna.tsinghua.edu.cn/packages/9d/47/a6493a4e17cc45220a0b5de012641b81f57272961570a4ab99fcdf727c38/hdbscan-0.8.37.tar.gz (5.2 MB)\n",
      "  Installing build dependencies ... \u001b[?25ldone\n",
      "\u001b[?25h  Getting requirements to build wheel ... \u001b[?25ldone\n",
      "\u001b[?25h  Preparing metadata (pyproject.toml) ... \u001b[?25ldone\n",
      "\u001b[?25hCollecting plotly>=4.7.0\n",
      "  Using cached https://pypi.tuna.tsinghua.edu.cn/packages/b8/f0/bcf716a8e070370d6598c92fcd328bd9ef8a9bda2c5562da5a835c66700b/plotly-5.23.0-py3-none-any.whl (17.3 MB)\n",
      "Requirement already satisfied: pandas>=1.1.5 in /opt/anaconda3/lib/python3.8/site-packages (from bertopic) (1.4.3)\n",
      "Requirement already satisfied: sentence-transformers>=0.4.1 in /opt/anaconda3/lib/python3.8/site-packages (from bertopic) (3.0.1)\n",
      "Collecting umap-learn>=0.5.0\n",
      "  Using cached https://pypi.tuna.tsinghua.edu.cn/packages/d1/1b/46802a050b1c55d10c4f59fc6afd2b45ac9b4f62b2e12092d3f599286f14/umap_learn-0.5.6-py3-none-any.whl (85 kB)\n",
      "Requirement already satisfied: tqdm>=4.41.1 in /opt/anaconda3/lib/python3.8/site-packages (from bertopic) (4.59.0)\n",
      "Requirement already satisfied: numpy>=1.20.0 in /opt/anaconda3/lib/python3.8/site-packages (from bertopic) (1.20.0)\n",
      "Requirement already satisfied: scikit-learn>=0.22.2.post1 in /opt/anaconda3/lib/python3.8/site-packages (from bertopic) (1.0)\n",
      "Requirement already satisfied: scipy>=1.0 in /opt/anaconda3/lib/python3.8/site-packages (from hdbscan>=0.8.29->bertopic) (1.6.2)\n",
      "Requirement already satisfied: joblib>=1.0 in /opt/anaconda3/lib/python3.8/site-packages (from hdbscan>=0.8.29->bertopic) (1.0.1)\n",
      "Requirement already satisfied: cython<3,>=0.27 in /opt/anaconda3/lib/python3.8/site-packages (from hdbscan>=0.8.29->bertopic) (0.29.23)\n",
      "Requirement already satisfied: pytz>=2020.1 in /opt/anaconda3/lib/python3.8/site-packages (from pandas>=1.1.5->bertopic) (2021.1)\n",
      "Requirement already satisfied: python-dateutil>=2.8.1 in /opt/anaconda3/lib/python3.8/site-packages (from pandas>=1.1.5->bertopic) (2.8.1)\n",
      "Requirement already satisfied: packaging in /opt/anaconda3/lib/python3.8/site-packages (from plotly>=4.7.0->bertopic) (24.1)\n",
      "Requirement already satisfied: tenacity>=6.2.0 in /opt/anaconda3/lib/python3.8/site-packages (from plotly>=4.7.0->bertopic) (8.5.0)\n",
      "Requirement already satisfied: threadpoolctl>=2.0.0 in /opt/anaconda3/lib/python3.8/site-packages (from scikit-learn>=0.22.2.post1->bertopic) (2.1.0)\n",
      "Requirement already satisfied: torch>=1.11.0 in /opt/anaconda3/lib/python3.8/site-packages (from sentence-transformers>=0.4.1->bertopic) (2.2.2)\n",
      "Requirement already satisfied: Pillow in /opt/anaconda3/lib/python3.8/site-packages (from sentence-transformers>=0.4.1->bertopic) (8.2.0)\n",
      "Requirement already satisfied: transformers<5.0.0,>=4.34.0 in /opt/anaconda3/lib/python3.8/site-packages (from sentence-transformers>=0.4.1->bertopic) (4.43.3)\n",
      "Requirement already satisfied: huggingface-hub>=0.15.1 in /opt/anaconda3/lib/python3.8/site-packages (from sentence-transformers>=0.4.1->bertopic) (0.24.5)\n",
      "Collecting pynndescent>=0.5\n",
      "  Using cached https://pypi.tuna.tsinghua.edu.cn/packages/d2/53/d23a97e0a2c690d40b165d1062e2c4ccc796be458a1ce59f6ba030434663/pynndescent-0.5.13-py3-none-any.whl (56 kB)\n",
      "Requirement already satisfied: numba>=0.51.2 in /opt/anaconda3/lib/python3.8/site-packages (from umap-learn>=0.5.0->bertopic) (0.53.1)\n",
      "Requirement already satisfied: filelock in /opt/anaconda3/lib/python3.8/site-packages (from huggingface-hub>=0.15.1->sentence-transformers>=0.4.1->bertopic) (3.0.12)\n",
      "Requirement already satisfied: fsspec>=2023.5.0 in /opt/anaconda3/lib/python3.8/site-packages (from huggingface-hub>=0.15.1->sentence-transformers>=0.4.1->bertopic) (2024.6.1)\n",
      "Requirement already satisfied: requests in /opt/anaconda3/lib/python3.8/site-packages (from huggingface-hub>=0.15.1->sentence-transformers>=0.4.1->bertopic) (2.25.1)\n",
      "Requirement already satisfied: pyyaml>=5.1 in /opt/anaconda3/lib/python3.8/site-packages (from huggingface-hub>=0.15.1->sentence-transformers>=0.4.1->bertopic) (5.4.1)\n",
      "Requirement already satisfied: typing-extensions>=3.7.4.3 in /opt/anaconda3/lib/python3.8/site-packages (from huggingface-hub>=0.15.1->sentence-transformers>=0.4.1->bertopic) (4.12.2)\n",
      "Requirement already satisfied: setuptools in /opt/anaconda3/lib/python3.8/site-packages (from numba>=0.51.2->umap-learn>=0.5.0->bertopic) (52.0.0.post20210125)\n",
      "Requirement already satisfied: llvmlite<0.37,>=0.36.0rc1 in /opt/anaconda3/lib/python3.8/site-packages (from numba>=0.51.2->umap-learn>=0.5.0->bertopic) (0.36.0)\n",
      "Requirement already satisfied: six>=1.5 in /opt/anaconda3/lib/python3.8/site-packages (from python-dateutil>=2.8.1->pandas>=1.1.5->bertopic) (1.15.0)\n",
      "Requirement already satisfied: networkx in /opt/anaconda3/lib/python3.8/site-packages (from torch>=1.11.0->sentence-transformers>=0.4.1->bertopic) (2.5)\n",
      "Requirement already satisfied: jinja2 in /opt/anaconda3/lib/python3.8/site-packages (from torch>=1.11.0->sentence-transformers>=0.4.1->bertopic) (2.11.3)\n",
      "Requirement already satisfied: sympy in /opt/anaconda3/lib/python3.8/site-packages (from torch>=1.11.0->sentence-transformers>=0.4.1->bertopic) (1.8)\n",
      "Requirement already satisfied: regex!=2019.12.17 in /opt/anaconda3/lib/python3.8/site-packages (from transformers<5.0.0,>=4.34.0->sentence-transformers>=0.4.1->bertopic) (2021.4.4)\n",
      "Requirement already satisfied: safetensors>=0.4.1 in /opt/anaconda3/lib/python3.8/site-packages (from transformers<5.0.0,>=4.34.0->sentence-transformers>=0.4.1->bertopic) (0.4.3)\n",
      "Requirement already satisfied: tokenizers<0.20,>=0.19 in /opt/anaconda3/lib/python3.8/site-packages (from transformers<5.0.0,>=4.34.0->sentence-transformers>=0.4.1->bertopic) (0.19.1)\n",
      "Requirement already satisfied: MarkupSafe>=0.23 in /opt/anaconda3/lib/python3.8/site-packages (from jinja2->torch>=1.11.0->sentence-transformers>=0.4.1->bertopic) (1.1.1)\n",
      "Requirement already satisfied: decorator>=4.3.0 in /opt/anaconda3/lib/python3.8/site-packages (from networkx->torch>=1.11.0->sentence-transformers>=0.4.1->bertopic) (5.0.9)\n",
      "Requirement already satisfied: urllib3<1.27,>=1.21.1 in /opt/anaconda3/lib/python3.8/site-packages (from requests->huggingface-hub>=0.15.1->sentence-transformers>=0.4.1->bertopic) (1.26.4)\n",
      "Requirement already satisfied: certifi>=2017.4.17 in /opt/anaconda3/lib/python3.8/site-packages (from requests->huggingface-hub>=0.15.1->sentence-transformers>=0.4.1->bertopic) (2024.6.2)\n",
      "Requirement already satisfied: chardet<5,>=3.0.2 in /opt/anaconda3/lib/python3.8/site-packages (from requests->huggingface-hub>=0.15.1->sentence-transformers>=0.4.1->bertopic) (4.0.0)\n",
      "Requirement already satisfied: idna<3,>=2.5 in /opt/anaconda3/lib/python3.8/site-packages (from requests->huggingface-hub>=0.15.1->sentence-transformers>=0.4.1->bertopic) (2.10)\n",
      "Requirement already satisfied: mpmath>=0.19 in /opt/anaconda3/lib/python3.8/site-packages (from sympy->torch>=1.11.0->sentence-transformers>=0.4.1->bertopic) (1.2.1)\n",
      "Building wheels for collected packages: hdbscan\n",
      "  Building wheel for hdbscan (pyproject.toml) ... \u001b[?25lerror\n",
      "  \u001b[1;31merror\u001b[0m: \u001b[1msubprocess-exited-with-error\u001b[0m\n",
      "  \n",
      "  \u001b[31m×\u001b[0m \u001b[32mBuilding wheel for hdbscan \u001b[0m\u001b[1;32m(\u001b[0m\u001b[32mpyproject.toml\u001b[0m\u001b[1;32m)\u001b[0m did not run successfully.\n",
      "  \u001b[31m│\u001b[0m exit code: \u001b[1;36m1\u001b[0m\n",
      "  \u001b[31m╰─>\u001b[0m \u001b[31m[48 lines of output]\u001b[0m\n",
      "  \u001b[31m   \u001b[0m running bdist_wheel\n",
      "  \u001b[31m   \u001b[0m running build\n",
      "  \u001b[31m   \u001b[0m running build_py\n",
      "  \u001b[31m   \u001b[0m creating build\n",
      "  \u001b[31m   \u001b[0m creating build/lib.macosx-10.9-x86_64-cpython-38\n",
      "  \u001b[31m   \u001b[0m creating build/lib.macosx-10.9-x86_64-cpython-38/hdbscan\n",
      "  \u001b[31m   \u001b[0m copying hdbscan/validity.py -> build/lib.macosx-10.9-x86_64-cpython-38/hdbscan\n",
      "  \u001b[31m   \u001b[0m copying hdbscan/flat.py -> build/lib.macosx-10.9-x86_64-cpython-38/hdbscan\n",
      "  \u001b[31m   \u001b[0m copying hdbscan/__init__.py -> build/lib.macosx-10.9-x86_64-cpython-38/hdbscan\n",
      "  \u001b[31m   \u001b[0m copying hdbscan/prediction.py -> build/lib.macosx-10.9-x86_64-cpython-38/hdbscan\n",
      "  \u001b[31m   \u001b[0m copying hdbscan/plots.py -> build/lib.macosx-10.9-x86_64-cpython-38/hdbscan\n",
      "  \u001b[31m   \u001b[0m copying hdbscan/hdbscan_.py -> build/lib.macosx-10.9-x86_64-cpython-38/hdbscan\n",
      "  \u001b[31m   \u001b[0m copying hdbscan/robust_single_linkage_.py -> build/lib.macosx-10.9-x86_64-cpython-38/hdbscan\n",
      "  \u001b[31m   \u001b[0m creating build/lib.macosx-10.9-x86_64-cpython-38/hdbscan/tests\n",
      "  \u001b[31m   \u001b[0m copying hdbscan/tests/test_flat.py -> build/lib.macosx-10.9-x86_64-cpython-38/hdbscan/tests\n",
      "  \u001b[31m   \u001b[0m copying hdbscan/tests/test_prediction_utils.py -> build/lib.macosx-10.9-x86_64-cpython-38/hdbscan/tests\n",
      "  \u001b[31m   \u001b[0m copying hdbscan/tests/__init__.py -> build/lib.macosx-10.9-x86_64-cpython-38/hdbscan/tests\n",
      "  \u001b[31m   \u001b[0m copying hdbscan/tests/test_rsl.py -> build/lib.macosx-10.9-x86_64-cpython-38/hdbscan/tests\n",
      "  \u001b[31m   \u001b[0m copying hdbscan/tests/test_hdbscan.py -> build/lib.macosx-10.9-x86_64-cpython-38/hdbscan/tests\n",
      "  \u001b[31m   \u001b[0m running build_ext\n",
      "  \u001b[31m   \u001b[0m cythoning hdbscan/_hdbscan_tree.pyx to hdbscan/_hdbscan_tree.c\n",
      "  \u001b[31m   \u001b[0m cythoning hdbscan/_hdbscan_linkage.pyx to hdbscan/_hdbscan_linkage.c\n",
      "  \u001b[31m   \u001b[0m cythoning hdbscan/_hdbscan_boruvka.pyx to hdbscan/_hdbscan_boruvka.c\n",
      "  \u001b[31m   \u001b[0m cythoning hdbscan/_hdbscan_reachability.pyx to hdbscan/_hdbscan_reachability.c\n",
      "  \u001b[31m   \u001b[0m cythoning hdbscan/_prediction_utils.pyx to hdbscan/_prediction_utils.c\n",
      "  \u001b[31m   \u001b[0m cythoning hdbscan/dist_metrics.pyx to hdbscan/dist_metrics.c\n",
      "  \u001b[31m   \u001b[0m building 'hdbscan._hdbscan_tree' extension\n",
      "  \u001b[31m   \u001b[0m creating build/temp.macosx-10.9-x86_64-cpython-38\n",
      "  \u001b[31m   \u001b[0m creating build/temp.macosx-10.9-x86_64-cpython-38/hdbscan\n",
      "  \u001b[31m   \u001b[0m gcc -Wno-unused-result -Wsign-compare -Wunreachable-code -DNDEBUG -g -fwrapv -O3 -Wall -Wstrict-prototypes -I/opt/anaconda3/include -arch x86_64 -I/opt/anaconda3/include -arch x86_64 -I/opt/anaconda3/include/python3.8 -I/private/var/folders/l6/ntr5b4610hx38gy0_2xp7ngh0000gn/T/pip-build-env-cc69x99s/overlay/lib/python3.8/site-packages/numpy/core/include -c hdbscan/_hdbscan_tree.c -o build/temp.macosx-10.9-x86_64-cpython-38/hdbscan/_hdbscan_tree.o\n",
      "  \u001b[31m   \u001b[0m xcrun: error: invalid active developer path (/Library/Developer/CommandLineTools), missing xcrun at: /Library/Developer/CommandLineTools/usr/bin/xcrun\n",
      "  \u001b[31m   \u001b[0m /private/var/folders/l6/ntr5b4610hx38gy0_2xp7ngh0000gn/T/pip-build-env-cc69x99s/overlay/lib/python3.8/site-packages/setuptools/_distutils/dist.py:268: UserWarning: Unknown distribution option: 'test_suite'\n",
      "  \u001b[31m   \u001b[0m   warnings.warn(msg)\n",
      "  \u001b[31m   \u001b[0m /private/var/folders/l6/ntr5b4610hx38gy0_2xp7ngh0000gn/T/pip-build-env-cc69x99s/overlay/lib/python3.8/site-packages/setuptools/_distutils/dist.py:268: UserWarning: Unknown distribution option: 'tests_require'\n",
      "  \u001b[31m   \u001b[0m   warnings.warn(msg)\n",
      "  \u001b[31m   \u001b[0m /private/var/folders/l6/ntr5b4610hx38gy0_2xp7ngh0000gn/T/pip-build-env-cc69x99s/overlay/lib/python3.8/site-packages/Cython/Compiler/Main.py:369: FutureWarning: Cython directive 'language_level' not set, using 2 for now (Py2). This will change in a later release! File: /private/var/folders/l6/ntr5b4610hx38gy0_2xp7ngh0000gn/T/pip-install-h6jbk28q/hdbscan_28538faf0b4640dc9762d2c27f88113c/hdbscan/_hdbscan_tree.pyx\n",
      "  \u001b[31m   \u001b[0m   tree = Parsing.p_module(s, pxd, full_module_name)\n",
      "  \u001b[31m   \u001b[0m /private/var/folders/l6/ntr5b4610hx38gy0_2xp7ngh0000gn/T/pip-build-env-cc69x99s/overlay/lib/python3.8/site-packages/Cython/Compiler/Main.py:369: FutureWarning: Cython directive 'language_level' not set, using 2 for now (Py2). This will change in a later release! File: /private/var/folders/l6/ntr5b4610hx38gy0_2xp7ngh0000gn/T/pip-install-h6jbk28q/hdbscan_28538faf0b4640dc9762d2c27f88113c/hdbscan/_hdbscan_linkage.pyx\n",
      "  \u001b[31m   \u001b[0m   tree = Parsing.p_module(s, pxd, full_module_name)\n",
      "  \u001b[31m   \u001b[0m /private/var/folders/l6/ntr5b4610hx38gy0_2xp7ngh0000gn/T/pip-build-env-cc69x99s/overlay/lib/python3.8/site-packages/Cython/Compiler/Main.py:369: FutureWarning: Cython directive 'language_level' not set, using 2 for now (Py2). This will change in a later release! File: /private/var/folders/l6/ntr5b4610hx38gy0_2xp7ngh0000gn/T/pip-install-h6jbk28q/hdbscan_28538faf0b4640dc9762d2c27f88113c/hdbscan/_hdbscan_boruvka.pyx\n",
      "  \u001b[31m   \u001b[0m   tree = Parsing.p_module(s, pxd, full_module_name)\n",
      "  \u001b[31m   \u001b[0m /private/var/folders/l6/ntr5b4610hx38gy0_2xp7ngh0000gn/T/pip-build-env-cc69x99s/overlay/lib/python3.8/site-packages/Cython/Compiler/Main.py:369: FutureWarning: Cython directive 'language_level' not set, using 2 for now (Py2). This will change in a later release! File: /private/var/folders/l6/ntr5b4610hx38gy0_2xp7ngh0000gn/T/pip-install-h6jbk28q/hdbscan_28538faf0b4640dc9762d2c27f88113c/hdbscan/_hdbscan_reachability.pyx\n",
      "  \u001b[31m   \u001b[0m   tree = Parsing.p_module(s, pxd, full_module_name)\n",
      "  \u001b[31m   \u001b[0m /private/var/folders/l6/ntr5b4610hx38gy0_2xp7ngh0000gn/T/pip-build-env-cc69x99s/overlay/lib/python3.8/site-packages/Cython/Compiler/Main.py:369: FutureWarning: Cython directive 'language_level' not set, using 2 for now (Py2). This will change in a later release! File: /private/var/folders/l6/ntr5b4610hx38gy0_2xp7ngh0000gn/T/pip-install-h6jbk28q/hdbscan_28538faf0b4640dc9762d2c27f88113c/hdbscan/_prediction_utils.pyx\n",
      "  \u001b[31m   \u001b[0m   tree = Parsing.p_module(s, pxd, full_module_name)\n",
      "  \u001b[31m   \u001b[0m /private/var/folders/l6/ntr5b4610hx38gy0_2xp7ngh0000gn/T/pip-build-env-cc69x99s/overlay/lib/python3.8/site-packages/Cython/Compiler/Main.py:369: FutureWarning: Cython directive 'language_level' not set, using 2 for now (Py2). This will change in a later release! File: /private/var/folders/l6/ntr5b4610hx38gy0_2xp7ngh0000gn/T/pip-install-h6jbk28q/hdbscan_28538faf0b4640dc9762d2c27f88113c/hdbscan/dist_metrics.pxd\n",
      "  \u001b[31m   \u001b[0m   tree = Parsing.p_module(s, pxd, full_module_name)\n",
      "  \u001b[31m   \u001b[0m error: command '/usr/bin/gcc' failed with exit code 1\n",
      "  \u001b[31m   \u001b[0m \u001b[31m[end of output]\u001b[0m\n",
      "  \n",
      "  \u001b[1;35mnote\u001b[0m: This error originates from a subprocess, and is likely not a problem with pip.\n",
      "\u001b[31m  ERROR: Failed building wheel for hdbscan\u001b[0m\u001b[31m\n",
      "\u001b[0m\u001b[?25hFailed to build hdbscan\n",
      "\u001b[31mERROR: Could not build wheels for hdbscan, which is required to install pyproject.toml-based projects\u001b[0m\u001b[31m\n",
      "\u001b[0m\u001b[33mWARNING: You are using pip version 22.0.4; however, version 24.2 is available.\n",
      "You should consider upgrading via the '/opt/anaconda3/bin/python -m pip install --upgrade pip' command.\u001b[0m\u001b[33m\n",
      "\u001b[0m"
     ]
    }
   ],
   "source": [
    "# 使用清华大学镜像快速安装Python包 \n",
    "!pip install -i https://pypi.tuna.tsinghua.edu.cn/simple -U bertopic\n"
   ]
  },
  {
   "cell_type": "code",
   "execution_count": null,
   "id": "8c51277b",
   "metadata": {},
   "outputs": [],
   "source": []
  }
 ],
 "metadata": {
  "celltoolbar": "幻灯片",
  "kernelspec": {
   "display_name": "Python 3",
   "language": "python",
   "name": "python3"
  },
  "language_info": {
   "codemirror_mode": {
    "name": "ipython",
    "version": 3
   },
   "file_extension": ".py",
   "mimetype": "text/x-python",
   "name": "python",
   "nbconvert_exporter": "python",
   "pygments_lexer": "ipython3",
   "version": "3.8.8"
  },
  "toc": {
   "toc_cell": false,
   "toc_number_sections": true,
   "toc_threshold": 6,
   "toc_window_display": false
  }
 },
 "nbformat": 4,
 "nbformat_minor": 5
}
