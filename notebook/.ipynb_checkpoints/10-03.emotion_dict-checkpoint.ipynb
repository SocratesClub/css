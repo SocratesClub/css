{
 "cells": [
  {
   "cell_type": "markdown",
   "metadata": {
    "slideshow": {
     "slide_type": "slide"
    }
   },
   "source": [
    "## 大连理工大学中文情感词汇\n",
    "\n",
    "### 1. 介绍\n",
    "中文情感词汇本体库是大连理工大学信息检索研究室在林鸿飞教授的指导下经过全体教研室成员的努力整理和标注的一个中文本体资源。该资源从不同角度描述一个中文词汇或者短语，包括词语词性种类、情感类别、情感强度及极性等信息。\n",
    "\n",
    "中文情感词汇本体的情感分类体系是在国外比较有影响的Ekman的6大类情感分类体系的基础上构建的。在Ekman的基础上，词汇本体加入情感类别“好”对褒义情感进行了更细致的划分。最终词汇本体中的情感共分为7大类21小类。\n",
    "构造该资源的宗旨是在情感计算领域，为中文文本情感分析和倾向性分析提供一个便捷可靠的辅助手段。中文情感词汇本体可以用于解决多类别情感分类的问题，同时也可以用于解决一般的倾向性分析的问题。\n",
    "\n",
    "其中，一个情感词可能对应多个情感，情感分类用于刻画情感词的主要情感分类，辅助情感为该情感词在具有主要情感分类的同时含有的其他情感分类。\n",
    "\n",
    "\n"
   ]
  },
  {
   "cell_type": "markdown",
   "metadata": {
    "slideshow": {
     "slide_type": "subslide"
    }
   },
   "source": [
    "http://ir.dlut.edu.cn/"
   ]
  },
  {
   "cell_type": "markdown",
   "metadata": {
    "slideshow": {
     "slide_type": "subslide"
    }
   },
   "source": [
    " ### 2. 情感词汇本体格式\n",
    " \n",
    " | *词语*   | *词性种类* | *词义数* | *词义序号* | *情感分类* | *强度* | *极性* | *辅助情感分类* | *强度* | *极性* |\n",
    "| -------- | ---------- | -------- | ---------- | ---------- | ------ | ------ | -------------- | ------ | ------ |\n",
    "| 无所畏惧 | idiom      | 1        | 1          | PH         | 7      | 1      |                |        |        |\n",
    "| 手头紧   | idiom      | 1        | 1          | NE         | 7      | 0      |                |        |        |\n",
    "| 周到     | adj        | 1        | 1          | PH         | 5      | 1      |                |        |        |\n",
    "| 言过其实 | idiom      | 1        | 1          | NN         | 5      | 2      |                |        |        |"
   ]
  },
  {
   "cell_type": "markdown",
   "metadata": {
    "slideshow": {
     "slide_type": "subslide"
    }
   },
   "source": [
    "### 3.  情感分类及情感强度\n",
    "\n",
    "情感分类按照论文《情感词汇本体的构造》所述，情感分为7大类21小类。\n",
    "情感强度分为1,3,5,7,9五档，9表示强度最大，1为强度最小。\n",
    "\n",
    "\n",
    "\n",
    "| 编号 | 情感大类 | 情感类   | 例词                           |\n",
    "| ---- | -------- | -------- | ------------------------------ |\n",
    "| 1    | 乐       | 快乐(PA) | 喜悦、欢喜、笑眯眯、欢天喜地   |\n",
    "| 2    |          | 安心(PE) | 踏实、宽心、定心丸、问心无愧   |\n",
    "| 3    | 好       | 尊敬(PD) | 恭敬、敬爱、毕恭毕敬、肃然起敬 |\n",
    "| 4    |          | 赞扬(PH) | 英俊、优秀、通情达理、实事求是 |\n",
    "| 5    |          | 相信(PG) | 信任、信赖、可靠、毋庸置疑     |\n",
    "| 6    |          | 喜爱(PB) | 倾慕、宝贝、一见钟情、爱不释手 |\n",
    "| 7    |          | 祝愿(PK) | 渴望、保佑、福寿绵长、万寿无疆 |\n",
    "| 8    | 怒       | 愤怒(NA) | 气愤、恼火、大发雷霆、七窍生烟 |\n",
    "| 9    | 哀       | 悲伤(NB) | 忧伤、悲苦、心如刀割、悲痛欲绝 |\n",
    "| 10   |          | 失望(NJ) | 憾事、绝望、灰心丧气、心灰意冷 |\n",
    "| 11   |          | 疚(NH)   | 内疚、忏悔、过意不去、问心有愧 |\n",
    "| 12   |          | 思(PF)   | 思念、相思、牵肠挂肚、朝思暮想 |\n",
    "| 13   | 惧       | 慌(NI)   | 慌张、心慌、不知所措、手忙脚乱 |\n",
    "| 14   |          | 恐惧(NC) | 胆怯、害怕、担惊受怕、胆颤心惊 |\n",
    "| 15   |          | 羞(NG)   | 害羞、害臊、面红耳赤、无地自容 |\n",
    "| 16   | 恶       | 烦闷(NE) | 憋闷、烦躁、心烦意乱、自寻烦恼 |\n",
    "| 17   |          | 憎恶(ND) | 反感、可耻、恨之入骨、深恶痛绝 |\n",
    "| 18   |          | 贬责(NN) | 呆板、虚荣、杂乱无章、心狠手辣 |\n",
    "| 19   |          | 妒忌(NK) | 眼红、吃醋、醋坛子、嫉贤妒能   |\n",
    "| 20   |          | 怀疑(NL) | 多心、生疑、将信将疑、疑神疑鬼 |\n",
    "| 21   | 惊       | 惊奇(PC) | 奇怪、奇迹、大吃一惊、瞠目结舌 |"
   ]
  },
  {
   "cell_type": "markdown",
   "metadata": {
    "slideshow": {
     "slide_type": "subslide"
    }
   },
   "source": [
    "### 4.  词性种类\n",
    "\t情感词汇本体中的词性种类一共分为7类，分别是名词（noun），动词（verb），形容词（adj），副词（adv），网络词语（nw），成语（idiom），介词短语（prep）。\n",
    "### 5.  极性标注\n",
    "\t每个词在每一类情感下都对应了一个极性。其中，0代表中性，1代表褒义，2代表贬义，3代表兼有褒贬两性。\n",
    "\t注：褒贬标注时，通过词本身和情感共同确定，所以有些情感在一些词中可能极性1，而其他的词中有可能极性为0。\n",
    "### 6.  存储格式及规模\n",
    "\t中文情感本体以excel的格式进行存储，共含有情感词共计27466个，文件大小为1.22M。\n",
    "\n"
   ]
  },
  {
   "cell_type": "code",
   "execution_count": 24,
   "metadata": {
    "ExecuteTime": {
     "end_time": "2020-06-12T07:16:20.351218Z",
     "start_time": "2020-06-12T07:16:14.148823Z"
    },
    "slideshow": {
     "slide_type": "slide"
    }
   },
   "outputs": [
    {
     "data": {
      "text/html": [
       "<div>\n",
       "<style scoped>\n",
       "    .dataframe tbody tr th:only-of-type {\n",
       "        vertical-align: middle;\n",
       "    }\n",
       "\n",
       "    .dataframe tbody tr th {\n",
       "        vertical-align: top;\n",
       "    }\n",
       "\n",
       "    .dataframe thead th {\n",
       "        text-align: right;\n",
       "    }\n",
       "</style>\n",
       "<table border=\"1\" class=\"dataframe\">\n",
       "  <thead>\n",
       "    <tr style=\"text-align: right;\">\n",
       "      <th></th>\n",
       "      <th>词语</th>\n",
       "      <th>词性种类</th>\n",
       "      <th>词义数</th>\n",
       "      <th>词义序号</th>\n",
       "      <th>情感分类</th>\n",
       "      <th>强度</th>\n",
       "      <th>极性</th>\n",
       "      <th>辅助情感分类</th>\n",
       "      <th>强度.1</th>\n",
       "      <th>极性.1</th>\n",
       "      <th>Unnamed: 10</th>\n",
       "      <th>Unnamed: 11</th>\n",
       "    </tr>\n",
       "  </thead>\n",
       "  <tbody>\n",
       "    <tr>\n",
       "      <th>0</th>\n",
       "      <td>脏乱</td>\n",
       "      <td>adj</td>\n",
       "      <td>1.0</td>\n",
       "      <td>1.0</td>\n",
       "      <td>NN</td>\n",
       "      <td>7</td>\n",
       "      <td>2</td>\n",
       "      <td>NaN</td>\n",
       "      <td>NaN</td>\n",
       "      <td>NaN</td>\n",
       "      <td>NaN</td>\n",
       "      <td>NaN</td>\n",
       "    </tr>\n",
       "    <tr>\n",
       "      <th>1</th>\n",
       "      <td>糟报</td>\n",
       "      <td>adj</td>\n",
       "      <td>1.0</td>\n",
       "      <td>1.0</td>\n",
       "      <td>NN</td>\n",
       "      <td>5</td>\n",
       "      <td>2</td>\n",
       "      <td>NaN</td>\n",
       "      <td>NaN</td>\n",
       "      <td>NaN</td>\n",
       "      <td>NaN</td>\n",
       "      <td>NaN</td>\n",
       "    </tr>\n",
       "    <tr>\n",
       "      <th>2</th>\n",
       "      <td>早衰</td>\n",
       "      <td>adj</td>\n",
       "      <td>1.0</td>\n",
       "      <td>1.0</td>\n",
       "      <td>NE</td>\n",
       "      <td>5</td>\n",
       "      <td>2</td>\n",
       "      <td>NaN</td>\n",
       "      <td>NaN</td>\n",
       "      <td>NaN</td>\n",
       "      <td>NaN</td>\n",
       "      <td>NaN</td>\n",
       "    </tr>\n",
       "    <tr>\n",
       "      <th>3</th>\n",
       "      <td>责备</td>\n",
       "      <td>verb</td>\n",
       "      <td>1.0</td>\n",
       "      <td>1.0</td>\n",
       "      <td>NN</td>\n",
       "      <td>5</td>\n",
       "      <td>2</td>\n",
       "      <td>NaN</td>\n",
       "      <td>NaN</td>\n",
       "      <td>NaN</td>\n",
       "      <td>NaN</td>\n",
       "      <td>NaN</td>\n",
       "    </tr>\n",
       "    <tr>\n",
       "      <th>4</th>\n",
       "      <td>贼眼</td>\n",
       "      <td>noun</td>\n",
       "      <td>1.0</td>\n",
       "      <td>1.0</td>\n",
       "      <td>NN</td>\n",
       "      <td>5</td>\n",
       "      <td>2</td>\n",
       "      <td>NaN</td>\n",
       "      <td>NaN</td>\n",
       "      <td>NaN</td>\n",
       "      <td>NaN</td>\n",
       "      <td>NaN</td>\n",
       "    </tr>\n",
       "  </tbody>\n",
       "</table>\n",
       "</div>"
      ],
      "text/plain": [
       "   词语  词性种类  词义数  词义序号 情感分类  强度  极性 辅助情感分类  强度.1  极性.1 Unnamed: 10  \\\n",
       "0  脏乱   adj  1.0   1.0   NN   7   2    NaN   NaN   NaN         NaN   \n",
       "1  糟报   adj  1.0   1.0   NN   5   2    NaN   NaN   NaN         NaN   \n",
       "2  早衰   adj  1.0   1.0   NE   5   2    NaN   NaN   NaN         NaN   \n",
       "3  责备  verb  1.0   1.0   NN   5   2    NaN   NaN   NaN         NaN   \n",
       "4  贼眼  noun  1.0   1.0   NN   5   2    NaN   NaN   NaN         NaN   \n",
       "\n",
       "   Unnamed: 11  \n",
       "0          NaN  \n",
       "1          NaN  \n",
       "2          NaN  \n",
       "3          NaN  \n",
       "4          NaN  "
      ]
     },
     "execution_count": 24,
     "metadata": {},
     "output_type": "execute_result"
    }
   ],
   "source": [
    "import pandas as pd\n",
    "df = pd.read_excel('../data/情感词汇.xlsx')\n",
    "df.head()"
   ]
  },
  {
   "cell_type": "code",
   "execution_count": 25,
   "metadata": {
    "ExecuteTime": {
     "end_time": "2020-06-12T07:16:28.199843Z",
     "start_time": "2020-06-12T07:16:28.186093Z"
    },
    "slideshow": {
     "slide_type": "subslide"
    }
   },
   "outputs": [
    {
     "data": {
      "text/plain": [
       "(27466, 12)"
      ]
     },
     "execution_count": 25,
     "metadata": {},
     "output_type": "execute_result"
    }
   ],
   "source": [
    "df.shape"
   ]
  },
  {
   "cell_type": "code",
   "execution_count": 26,
   "metadata": {
    "ExecuteTime": {
     "end_time": "2020-06-12T07:16:36.544085Z",
     "start_time": "2020-06-12T07:16:36.502544Z"
    },
    "slideshow": {
     "slide_type": "subslide"
    }
   },
   "outputs": [
    {
     "data": {
      "text/html": [
       "<div>\n",
       "<style scoped>\n",
       "    .dataframe tbody tr th:only-of-type {\n",
       "        vertical-align: middle;\n",
       "    }\n",
       "\n",
       "    .dataframe tbody tr th {\n",
       "        vertical-align: top;\n",
       "    }\n",
       "\n",
       "    .dataframe thead th {\n",
       "        text-align: right;\n",
       "    }\n",
       "</style>\n",
       "<table border=\"1\" class=\"dataframe\">\n",
       "  <thead>\n",
       "    <tr style=\"text-align: right;\">\n",
       "      <th></th>\n",
       "      <th>词语</th>\n",
       "      <th>词性种类</th>\n",
       "      <th>词义数</th>\n",
       "      <th>词义序号</th>\n",
       "      <th>情感分类</th>\n",
       "      <th>强度</th>\n",
       "      <th>极性</th>\n",
       "    </tr>\n",
       "  </thead>\n",
       "  <tbody>\n",
       "    <tr>\n",
       "      <th>0</th>\n",
       "      <td>脏乱</td>\n",
       "      <td>adj</td>\n",
       "      <td>1.0</td>\n",
       "      <td>1.0</td>\n",
       "      <td>NN</td>\n",
       "      <td>7</td>\n",
       "      <td>2</td>\n",
       "    </tr>\n",
       "    <tr>\n",
       "      <th>1</th>\n",
       "      <td>糟报</td>\n",
       "      <td>adj</td>\n",
       "      <td>1.0</td>\n",
       "      <td>1.0</td>\n",
       "      <td>NN</td>\n",
       "      <td>5</td>\n",
       "      <td>2</td>\n",
       "    </tr>\n",
       "    <tr>\n",
       "      <th>2</th>\n",
       "      <td>早衰</td>\n",
       "      <td>adj</td>\n",
       "      <td>1.0</td>\n",
       "      <td>1.0</td>\n",
       "      <td>NE</td>\n",
       "      <td>5</td>\n",
       "      <td>2</td>\n",
       "    </tr>\n",
       "    <tr>\n",
       "      <th>3</th>\n",
       "      <td>责备</td>\n",
       "      <td>verb</td>\n",
       "      <td>1.0</td>\n",
       "      <td>1.0</td>\n",
       "      <td>NN</td>\n",
       "      <td>5</td>\n",
       "      <td>2</td>\n",
       "    </tr>\n",
       "    <tr>\n",
       "      <th>4</th>\n",
       "      <td>贼眼</td>\n",
       "      <td>noun</td>\n",
       "      <td>1.0</td>\n",
       "      <td>1.0</td>\n",
       "      <td>NN</td>\n",
       "      <td>5</td>\n",
       "      <td>2</td>\n",
       "    </tr>\n",
       "  </tbody>\n",
       "</table>\n",
       "</div>"
      ],
      "text/plain": [
       "   词语  词性种类  词义数  词义序号 情感分类  强度  极性\n",
       "0  脏乱   adj  1.0   1.0   NN   7   2\n",
       "1  糟报   adj  1.0   1.0   NN   5   2\n",
       "2  早衰   adj  1.0   1.0   NE   5   2\n",
       "3  责备  verb  1.0   1.0   NN   5   2\n",
       "4  贼眼  noun  1.0   1.0   NN   5   2"
      ]
     },
     "execution_count": 26,
     "metadata": {},
     "output_type": "execute_result"
    }
   ],
   "source": [
    "df = df[['词语', '词性种类', '词义数', '词义序号', '情感分类', '强度', '极性']]\n",
    "df.head()"
   ]
  },
  {
   "cell_type": "code",
   "execution_count": 27,
   "metadata": {
    "ExecuteTime": {
     "end_time": "2020-06-12T07:18:02.536323Z",
     "start_time": "2020-06-12T07:17:49.137131Z"
    },
    "slideshow": {
     "slide_type": "subslide"
    }
   },
   "outputs": [
    {
     "name": "stdout",
     "output_type": "stream",
     "text": [
      "情绪词语列表整理完成\n"
     ]
    }
   ],
   "source": [
    "Happy = []\n",
    "Good = []\n",
    "Surprise = []\n",
    "Anger = []\n",
    "Sad = []\n",
    "Fear = []\n",
    "Disgust = []\n",
    "for idx, row in df.iterrows():\n",
    "    if row['情感分类'] in ['PA', 'PE']:\n",
    "        Happy.append(row['词语'])\n",
    "    if row['情感分类'] in ['PD', 'PH', 'PG', 'PB', 'PK']:\n",
    "        Good.append(row['词语']) \n",
    "    if row['情感分类'] in ['PC']:\n",
    "        Surprise.append(row['词语'])     \n",
    "    if row['情感分类'] in ['NA']:\n",
    "        Anger.append(row['词语'])    \n",
    "    if row['情感分类'] in ['NB', 'NJ', 'NH', 'PF']:\n",
    "        Sad.append(row['词语'])\n",
    "    if row['情感分类'] in ['NI', 'NC', 'NG']:\n",
    "        Fear.append(row['词语'])\n",
    "    if row['情感分类'] in ['NE', 'ND', 'NN', 'NK', 'NL']:\n",
    "        Disgust.append(row['词语'])\n",
    "Positive = Happy + Good +Surprise\n",
    "Negative = Anger + Sad + Fear + Disgust\n",
    "print('情绪词语列表整理完成') "
   ]
  },
  {
   "cell_type": "code",
   "execution_count": 28,
   "metadata": {
    "ExecuteTime": {
     "end_time": "2020-06-12T07:18:51.413452Z",
     "start_time": "2020-06-12T07:18:51.270733Z"
    },
    "slideshow": {
     "slide_type": "subslide"
    }
   },
   "outputs": [
    {
     "data": {
      "text/plain": [
       "length      25\n",
       "positive     0\n",
       "negative     4\n",
       "anger        0\n",
       "disgust      4\n",
       "fear         0\n",
       "sadness      0\n",
       "surprise     0\n",
       "good         0\n",
       "happy        0\n",
       "dtype: int64"
      ]
     },
     "execution_count": 28,
     "metadata": {},
     "output_type": "execute_result"
    }
   ],
   "source": [
    "import jieba\n",
    "import time\n",
    "def emotion_caculate(text):\n",
    "    positive = 0\n",
    "    negative = 0\n",
    "    anger = 0\n",
    "    disgust = 0\n",
    "    fear = 0\n",
    "    sad = 0\n",
    "    surprise = 0\n",
    "    good = 0\n",
    "    happy = 0\n",
    "    wordlist = jieba.lcut(text)\n",
    "    wordset = set(wordlist)\n",
    "    wordfreq = []\n",
    "    for word in wordset:\n",
    "        freq = wordlist.count(word)\n",
    "        if word in Positive:\n",
    "            positive+=freq\n",
    "        if word in Negative:\n",
    "            negative+=freq\n",
    "        if word in Anger:\n",
    "            anger+=freq\n",
    "        if word in Disgust:\n",
    "            disgust+=freq\n",
    "        if word in Fear:\n",
    "            fear+=freq\n",
    "        if word in Sad:\n",
    "            sad+=freq\n",
    "        if word in Surprise:\n",
    "            surprise+=freq\n",
    "        if word in Good:\n",
    "            good+=freq\n",
    "        if word in Happy:\n",
    "            happy+=freq\n",
    "    emotion_info = {\n",
    "        'length':len(wordlist),\n",
    "        'positive': positive,\n",
    "        'negative': negative,\n",
    "        'anger': anger,\n",
    "        'disgust': disgust,\n",
    "        'fear':fear,\n",
    "        'good':good,\n",
    "        'sadness':sad,\n",
    "        'surprise':surprise,\n",
    "        'happy':happy,\n",
    "    }\n",
    "    indexs = ['length', 'positive', 'negative', 'anger', 'disgust','fear','sadness','surprise', 'good', 'happy']\n",
    "    return pd.Series(emotion_info, index=indexs)\n",
    "\n",
    "emotion_caculate(text='这个国家再对这些制造假冒伪劣食品药品的人手软的话，那后果真的会相当糟糕。坐牢？从快判个死刑')"
   ]
  },
  {
   "cell_type": "code",
   "execution_count": 30,
   "metadata": {
    "ExecuteTime": {
     "end_time": "2020-06-12T07:19:16.703936Z",
     "start_time": "2020-06-12T07:19:16.656777Z"
    },
    "slideshow": {
     "slide_type": "slide"
    }
   },
   "outputs": [],
   "source": [
    "#weibo = pd.read_csv('/Users/datalab/bigdata/fu_zhu_2020_jrr_cleaned.csv')\n",
    "\n",
    "f = open('/Users/datalab/bigdata/fu_zhu_2020_jrr_cleaned.csv',encoding='utf-8')\n",
    "reader = pd.read_table(f,  sep=',',  quotechar='\"', iterator=True, error_bad_lines=False) #跳过报错行\n",
    "chunkSize = 1000\n",
    "weibo_df = reader.get_chunk(chunkSize)"
   ]
  },
  {
   "cell_type": "code",
   "execution_count": 31,
   "metadata": {
    "ExecuteTime": {
     "end_time": "2020-06-12T07:19:17.559674Z",
     "start_time": "2020-06-12T07:19:17.533827Z"
    },
    "slideshow": {
     "slide_type": "subslide"
    }
   },
   "outputs": [
    {
     "data": {
      "text/html": [
       "<div>\n",
       "<style scoped>\n",
       "    .dataframe tbody tr th:only-of-type {\n",
       "        vertical-align: middle;\n",
       "    }\n",
       "\n",
       "    .dataframe tbody tr th {\n",
       "        vertical-align: top;\n",
       "    }\n",
       "\n",
       "    .dataframe thead th {\n",
       "        text-align: right;\n",
       "    }\n",
       "</style>\n",
       "<table border=\"1\" class=\"dataframe\">\n",
       "  <thead>\n",
       "    <tr style=\"text-align: right;\">\n",
       "      <th></th>\n",
       "      <th>created_at</th>\n",
       "      <th>censorship_type</th>\n",
       "      <th>id_hashed</th>\n",
       "      <th>retweeted_status_hashed</th>\n",
       "      <th>text_cleaned</th>\n",
       "    </tr>\n",
       "  </thead>\n",
       "  <tbody>\n",
       "    <tr>\n",
       "      <th>0</th>\n",
       "      <td>2019-12-31T11:58:20Z</td>\n",
       "      <td>NaN</td>\n",
       "      <td>2e041cb2c8814594aa800d918178a2c3</td>\n",
       "      <td>NaN</td>\n",
       "      <td>突发！武汉发现多名不明原因肺炎患者，没确定是否SARS病毒\\nhttp://t.cn/AiF...</td>\n",
       "    </tr>\n",
       "    <tr>\n",
       "      <th>1</th>\n",
       "      <td>2019-12-31T13:27:35Z</td>\n",
       "      <td>NaN</td>\n",
       "      <td>db0826e6447e40e8346fa0979eb51dfc</td>\n",
       "      <td>NaN</td>\n",
       "      <td>#武汉不明原因肺炎不能断定是SARS#望早日出结果 ​</td>\n",
       "    </tr>\n",
       "    <tr>\n",
       "      <th>2</th>\n",
       "      <td>2019-12-01T16:59:30Z</td>\n",
       "      <td>NaN</td>\n",
       "      <td>50e10abb2423ca1fbc89e80fafd48a49</td>\n",
       "      <td>NaN</td>\n",
       "      <td>#带着微博去旅行[超话]#缅甸神果 大自然回馈的天然礼物，一小瓶花果油，咳嗽肺病都不是问题！...</td>\n",
       "    </tr>\n",
       "    <tr>\n",
       "      <th>3</th>\n",
       "      <td>2019-12-01T17:15:39Z</td>\n",
       "      <td>NaN</td>\n",
       "      <td>572454f3f17bb1cb903a45ef5136fc4c</td>\n",
       "      <td>NaN</td>\n",
       "      <td>【文化视点】还记得这首《大侠霍元甲》的主题曲《万里长城永不倒》吗？12月1日，香港乐坛传来了...</td>\n",
       "    </tr>\n",
       "    <tr>\n",
       "      <th>4</th>\n",
       "      <td>2019-12-01T21:24:48Z</td>\n",
       "      <td>NaN</td>\n",
       "      <td>26e4e5727afc852ffe4fc67c91aa125c</td>\n",
       "      <td>NaN</td>\n",
       "      <td>#带着微博去旅行[超话]#缅甸神奇花果#探秘大美云南[超话]#微信17869425616\\n...</td>\n",
       "    </tr>\n",
       "  </tbody>\n",
       "</table>\n",
       "</div>"
      ],
      "text/plain": [
       "             created_at censorship_type                         id_hashed  \\\n",
       "0  2019-12-31T11:58:20Z             NaN  2e041cb2c8814594aa800d918178a2c3   \n",
       "1  2019-12-31T13:27:35Z             NaN  db0826e6447e40e8346fa0979eb51dfc   \n",
       "2  2019-12-01T16:59:30Z             NaN  50e10abb2423ca1fbc89e80fafd48a49   \n",
       "3  2019-12-01T17:15:39Z             NaN  572454f3f17bb1cb903a45ef5136fc4c   \n",
       "4  2019-12-01T21:24:48Z             NaN  26e4e5727afc852ffe4fc67c91aa125c   \n",
       "\n",
       "  retweeted_status_hashed                                       text_cleaned  \n",
       "0                     NaN  突发！武汉发现多名不明原因肺炎患者，没确定是否SARS病毒\\nhttp://t.cn/AiF...  \n",
       "1                     NaN                        #武汉不明原因肺炎不能断定是SARS#望早日出结果 ​  \n",
       "2                     NaN  #带着微博去旅行[超话]#缅甸神果 大自然回馈的天然礼物，一小瓶花果油，咳嗽肺病都不是问题！...  \n",
       "3                     NaN  【文化视点】还记得这首《大侠霍元甲》的主题曲《万里长城永不倒》吗？12月1日，香港乐坛传来了...  \n",
       "4                     NaN  #带着微博去旅行[超话]#缅甸神奇花果#探秘大美云南[超话]#微信17869425616\\n...  "
      ]
     },
     "execution_count": 31,
     "metadata": {},
     "output_type": "execute_result"
    }
   ],
   "source": [
    "weibo_df.head()"
   ]
  },
  {
   "cell_type": "code",
   "execution_count": 15,
   "metadata": {
    "ExecuteTime": {
     "end_time": "2020-06-12T05:32:58.513063Z",
     "start_time": "2020-06-12T05:32:58.510743Z"
    },
    "slideshow": {
     "slide_type": "skip"
    }
   },
   "outputs": [],
   "source": [
    "# from pandarallel import pandarallel\n",
    "# #并行初始化\n",
    "# pandarallel.initialize()\n",
    "# start = time.time()   \n",
    "# emotion_df = weibo['text_cleaned'].parallel_apply(emotion_caculate)\n",
    "# end = time.time()\n",
    "# print(end-start)\n",
    "# emotion_df.head()\n"
   ]
  },
  {
   "cell_type": "code",
   "execution_count": 32,
   "metadata": {
    "ExecuteTime": {
     "end_time": "2020-06-12T07:21:49.696649Z",
     "start_time": "2020-06-12T07:19:31.202996Z"
    },
    "slideshow": {
     "slide_type": "subslide"
    }
   },
   "outputs": [],
   "source": [
    "emotions = []\n",
    "for i in weibo_df['text_cleaned']:\n",
    "    emotions.append(emotion_caculate(text=i))"
   ]
  },
  {
   "cell_type": "code",
   "execution_count": 33,
   "metadata": {
    "ExecuteTime": {
     "end_time": "2020-06-12T07:22:04.254788Z",
     "start_time": "2020-06-12T07:22:04.241289Z"
    },
    "slideshow": {
     "slide_type": "subslide"
    }
   },
   "outputs": [
    {
     "data": {
      "text/plain": [
       "length      27\n",
       "positive     1\n",
       "negative     1\n",
       "anger        0\n",
       "disgust      0\n",
       "fear         1\n",
       "sadness      0\n",
       "surprise     0\n",
       "good         1\n",
       "happy        0\n",
       "dtype: int64"
      ]
     },
     "execution_count": 33,
     "metadata": {},
     "output_type": "execute_result"
    }
   ],
   "source": [
    "emotions[0]"
   ]
  },
  {
   "cell_type": "code",
   "execution_count": 34,
   "metadata": {
    "ExecuteTime": {
     "end_time": "2020-06-12T07:22:08.382359Z",
     "start_time": "2020-06-12T07:22:07.988573Z"
    },
    "slideshow": {
     "slide_type": "subslide"
    }
   },
   "outputs": [],
   "source": [
    "emotions_df = pd.DataFrame(emotions)"
   ]
  },
  {
   "cell_type": "code",
   "execution_count": 35,
   "metadata": {
    "ExecuteTime": {
     "end_time": "2020-06-12T07:22:09.328965Z",
     "start_time": "2020-06-12T07:22:09.281241Z"
    },
    "slideshow": {
     "slide_type": "subslide"
    }
   },
   "outputs": [
    {
     "data": {
      "text/html": [
       "<div>\n",
       "<style scoped>\n",
       "    .dataframe tbody tr th:only-of-type {\n",
       "        vertical-align: middle;\n",
       "    }\n",
       "\n",
       "    .dataframe tbody tr th {\n",
       "        vertical-align: top;\n",
       "    }\n",
       "\n",
       "    .dataframe thead th {\n",
       "        text-align: right;\n",
       "    }\n",
       "</style>\n",
       "<table border=\"1\" class=\"dataframe\">\n",
       "  <thead>\n",
       "    <tr style=\"text-align: right;\">\n",
       "      <th></th>\n",
       "      <th>created_at</th>\n",
       "      <th>censorship_type</th>\n",
       "      <th>id_hashed</th>\n",
       "      <th>retweeted_status_hashed</th>\n",
       "      <th>text_cleaned</th>\n",
       "      <th>length</th>\n",
       "      <th>positive</th>\n",
       "      <th>negative</th>\n",
       "      <th>anger</th>\n",
       "      <th>disgust</th>\n",
       "      <th>fear</th>\n",
       "      <th>sadness</th>\n",
       "      <th>surprise</th>\n",
       "      <th>good</th>\n",
       "      <th>happy</th>\n",
       "    </tr>\n",
       "  </thead>\n",
       "  <tbody>\n",
       "    <tr>\n",
       "      <th>0</th>\n",
       "      <td>2019-12-31T11:58:20Z</td>\n",
       "      <td>NaN</td>\n",
       "      <td>2e041cb2c8814594aa800d918178a2c3</td>\n",
       "      <td>NaN</td>\n",
       "      <td>突发！武汉发现多名不明原因肺炎患者，没确定是否SARS病毒\\nhttp://t.cn/AiF...</td>\n",
       "      <td>27</td>\n",
       "      <td>1</td>\n",
       "      <td>1</td>\n",
       "      <td>0</td>\n",
       "      <td>0</td>\n",
       "      <td>1</td>\n",
       "      <td>0</td>\n",
       "      <td>0</td>\n",
       "      <td>1</td>\n",
       "      <td>0</td>\n",
       "    </tr>\n",
       "    <tr>\n",
       "      <th>1</th>\n",
       "      <td>2019-12-31T13:27:35Z</td>\n",
       "      <td>NaN</td>\n",
       "      <td>db0826e6447e40e8346fa0979eb51dfc</td>\n",
       "      <td>NaN</td>\n",
       "      <td>#武汉不明原因肺炎不能断定是SARS#望早日出结果 ​</td>\n",
       "      <td>16</td>\n",
       "      <td>0</td>\n",
       "      <td>0</td>\n",
       "      <td>0</td>\n",
       "      <td>0</td>\n",
       "      <td>0</td>\n",
       "      <td>0</td>\n",
       "      <td>0</td>\n",
       "      <td>0</td>\n",
       "      <td>0</td>\n",
       "    </tr>\n",
       "    <tr>\n",
       "      <th>2</th>\n",
       "      <td>2019-12-01T16:59:30Z</td>\n",
       "      <td>NaN</td>\n",
       "      <td>50e10abb2423ca1fbc89e80fafd48a49</td>\n",
       "      <td>NaN</td>\n",
       "      <td>#带着微博去旅行[超话]#缅甸神果 大自然回馈的天然礼物，一小瓶花果油，咳嗽肺病都不是问题！...</td>\n",
       "      <td>107</td>\n",
       "      <td>2</td>\n",
       "      <td>1</td>\n",
       "      <td>0</td>\n",
       "      <td>1</td>\n",
       "      <td>0</td>\n",
       "      <td>0</td>\n",
       "      <td>0</td>\n",
       "      <td>2</td>\n",
       "      <td>0</td>\n",
       "    </tr>\n",
       "    <tr>\n",
       "      <th>3</th>\n",
       "      <td>2019-12-01T17:15:39Z</td>\n",
       "      <td>NaN</td>\n",
       "      <td>572454f3f17bb1cb903a45ef5136fc4c</td>\n",
       "      <td>NaN</td>\n",
       "      <td>【文化视点】还记得这首《大侠霍元甲》的主题曲《万里长城永不倒》吗？12月1日，香港乐坛传来了...</td>\n",
       "      <td>82</td>\n",
       "      <td>1</td>\n",
       "      <td>2</td>\n",
       "      <td>0</td>\n",
       "      <td>0</td>\n",
       "      <td>0</td>\n",
       "      <td>2</td>\n",
       "      <td>0</td>\n",
       "      <td>1</td>\n",
       "      <td>0</td>\n",
       "    </tr>\n",
       "    <tr>\n",
       "      <th>4</th>\n",
       "      <td>2019-12-01T21:24:48Z</td>\n",
       "      <td>NaN</td>\n",
       "      <td>26e4e5727afc852ffe4fc67c91aa125c</td>\n",
       "      <td>NaN</td>\n",
       "      <td>#带着微博去旅行[超话]#缅甸神奇花果#探秘大美云南[超话]#微信17869425616\\n...</td>\n",
       "      <td>89</td>\n",
       "      <td>2</td>\n",
       "      <td>1</td>\n",
       "      <td>0</td>\n",
       "      <td>1</td>\n",
       "      <td>0</td>\n",
       "      <td>0</td>\n",
       "      <td>1</td>\n",
       "      <td>1</td>\n",
       "      <td>0</td>\n",
       "    </tr>\n",
       "  </tbody>\n",
       "</table>\n",
       "</div>"
      ],
      "text/plain": [
       "             created_at censorship_type                         id_hashed  \\\n",
       "0  2019-12-31T11:58:20Z             NaN  2e041cb2c8814594aa800d918178a2c3   \n",
       "1  2019-12-31T13:27:35Z             NaN  db0826e6447e40e8346fa0979eb51dfc   \n",
       "2  2019-12-01T16:59:30Z             NaN  50e10abb2423ca1fbc89e80fafd48a49   \n",
       "3  2019-12-01T17:15:39Z             NaN  572454f3f17bb1cb903a45ef5136fc4c   \n",
       "4  2019-12-01T21:24:48Z             NaN  26e4e5727afc852ffe4fc67c91aa125c   \n",
       "\n",
       "  retweeted_status_hashed                                       text_cleaned  \\\n",
       "0                     NaN  突发！武汉发现多名不明原因肺炎患者，没确定是否SARS病毒\\nhttp://t.cn/AiF...   \n",
       "1                     NaN                        #武汉不明原因肺炎不能断定是SARS#望早日出结果 ​   \n",
       "2                     NaN  #带着微博去旅行[超话]#缅甸神果 大自然回馈的天然礼物，一小瓶花果油，咳嗽肺病都不是问题！...   \n",
       "3                     NaN  【文化视点】还记得这首《大侠霍元甲》的主题曲《万里长城永不倒》吗？12月1日，香港乐坛传来了...   \n",
       "4                     NaN  #带着微博去旅行[超话]#缅甸神奇花果#探秘大美云南[超话]#微信17869425616\\n...   \n",
       "\n",
       "   length  positive  negative  anger  disgust  fear  sadness  surprise  good  \\\n",
       "0      27         1         1      0        0     1        0         0     1   \n",
       "1      16         0         0      0        0     0        0         0     0   \n",
       "2     107         2         1      0        1     0        0         0     2   \n",
       "3      82         1         2      0        0     0        2         0     1   \n",
       "4      89         2         1      0        1     0        0         1     1   \n",
       "\n",
       "   happy  \n",
       "0      0  \n",
       "1      0  \n",
       "2      0  \n",
       "3      0  \n",
       "4      0  "
      ]
     },
     "execution_count": 35,
     "metadata": {},
     "output_type": "execute_result"
    }
   ],
   "source": [
    "weibo_df = pd.concat([weibo_df, emotions_df], axis=1)\n",
    "weibo_df.head()"
   ]
  },
  {
   "cell_type": "code",
   "execution_count": 36,
   "metadata": {
    "ExecuteTime": {
     "end_time": "2020-06-12T07:22:33.114828Z",
     "start_time": "2020-06-12T07:22:33.085978Z"
    },
    "slideshow": {
     "slide_type": "subslide"
    }
   },
   "outputs": [
    {
     "data": {
      "text/html": [
       "<div>\n",
       "<style scoped>\n",
       "    .dataframe tbody tr th:only-of-type {\n",
       "        vertical-align: middle;\n",
       "    }\n",
       "\n",
       "    .dataframe tbody tr th {\n",
       "        vertical-align: top;\n",
       "    }\n",
       "\n",
       "    .dataframe thead th {\n",
       "        text-align: right;\n",
       "    }\n",
       "</style>\n",
       "<table border=\"1\" class=\"dataframe\">\n",
       "  <thead>\n",
       "    <tr style=\"text-align: right;\">\n",
       "      <th></th>\n",
       "      <th>text_cleaned</th>\n",
       "      <th>fear</th>\n",
       "    </tr>\n",
       "  </thead>\n",
       "  <tbody>\n",
       "    <tr>\n",
       "      <th>906</th>\n",
       "      <td>【#武汉已发现27例肺炎病例#】据武汉卫健委网站，近期部分医疗机构发现接诊的多例肺炎病例与华...</td>\n",
       "      <td>6</td>\n",
       "    </tr>\n",
       "    <tr>\n",
       "      <th>866</th>\n",
       "      <td>【#武汉已发现27例肺炎病例#】据武汉卫健委网站，近期部分医疗机构发现接诊的多例肺炎病例与华...</td>\n",
       "      <td>6</td>\n",
       "    </tr>\n",
       "    <tr>\n",
       "      <th>972</th>\n",
       "      <td>【武汉卫健委：#已发现27例肺炎病例# 初步分析为病毒性肺炎，未出现人传人现象】近期部分医疗...</td>\n",
       "      <td>5</td>\n",
       "    </tr>\n",
       "    <tr>\n",
       "      <th>652</th>\n",
       "      <td>【#武汉病毒性肺炎病例多为海鲜城经营户#】据湖北省相关部门消息，12月以来，武汉市持续开展流...</td>\n",
       "      <td>5</td>\n",
       "    </tr>\n",
       "    <tr>\n",
       "      <th>958</th>\n",
       "      <td>【#武汉市卫健委通报肺炎疫情#：27例病例 7例病情严重】#武汉肺炎无明显人传人现象# 近期...</td>\n",
       "      <td>5</td>\n",
       "    </tr>\n",
       "  </tbody>\n",
       "</table>\n",
       "</div>"
      ],
      "text/plain": [
       "                                          text_cleaned  fear\n",
       "906  【#武汉已发现27例肺炎病例#】据武汉卫健委网站，近期部分医疗机构发现接诊的多例肺炎病例与华...     6\n",
       "866  【#武汉已发现27例肺炎病例#】据武汉卫健委网站，近期部分医疗机构发现接诊的多例肺炎病例与华...     6\n",
       "972  【武汉卫健委：#已发现27例肺炎病例# 初步分析为病毒性肺炎，未出现人传人现象】近期部分医疗...     5\n",
       "652  【#武汉病毒性肺炎病例多为海鲜城经营户#】据湖北省相关部门消息，12月以来，武汉市持续开展流...     5\n",
       "958  【#武汉市卫健委通报肺炎疫情#：27例病例 7例病情严重】#武汉肺炎无明显人传人现象# 近期...     5"
      ]
     },
     "execution_count": 36,
     "metadata": {},
     "output_type": "execute_result"
    }
   ],
   "source": [
    "fear = weibo_df.sort_values(by='fear',ascending=False)\n",
    "fear[['text_cleaned', 'fear']].head()"
   ]
  },
  {
   "cell_type": "code",
   "execution_count": 42,
   "metadata": {
    "ExecuteTime": {
     "end_time": "2020-06-12T07:24:33.554436Z",
     "start_time": "2020-06-12T07:24:33.542917Z"
    },
    "slideshow": {
     "slide_type": "subslide"
    }
   },
   "outputs": [
    {
     "data": {
      "text/plain": [
       "'【#武汉病毒性肺炎病例多为海鲜城经营户#】据湖北省相关部门消息，12月以来，武汉市持续开展流感及相关疾病监测，发现病毒性肺炎病例27例，均诊断为病毒性肺炎/肺部感染。其中7例病情危重，其余病例病情可控，2例病情好转拟近期出院。调查发现，此次肺炎病例大部分为华南海鲜城经营户。目前，相关病毒...全文： http://m.weibo.cn/2656274875/4455540560020855 \\u200b'"
      ]
     },
     "execution_count": 42,
     "metadata": {},
     "output_type": "execute_result"
    }
   ],
   "source": [
    "fear['text_cleaned'][652]"
   ]
  },
  {
   "cell_type": "code",
   "execution_count": 43,
   "metadata": {
    "ExecuteTime": {
     "end_time": "2020-06-12T07:24:48.413420Z",
     "start_time": "2020-06-12T07:24:48.386870Z"
    },
    "slideshow": {
     "slide_type": "subslide"
    }
   },
   "outputs": [
    {
     "data": {
      "text/html": [
       "<div>\n",
       "<style scoped>\n",
       "    .dataframe tbody tr th:only-of-type {\n",
       "        vertical-align: middle;\n",
       "    }\n",
       "\n",
       "    .dataframe tbody tr th {\n",
       "        vertical-align: top;\n",
       "    }\n",
       "\n",
       "    .dataframe thead th {\n",
       "        text-align: right;\n",
       "    }\n",
       "</style>\n",
       "<table border=\"1\" class=\"dataframe\">\n",
       "  <thead>\n",
       "    <tr style=\"text-align: right;\">\n",
       "      <th></th>\n",
       "      <th>text_cleaned</th>\n",
       "      <th>disgust</th>\n",
       "    </tr>\n",
       "  </thead>\n",
       "  <tbody>\n",
       "    <tr>\n",
       "      <th>40</th>\n",
       "      <td>#谢和弦吸毒##对毒品说不# 【吸毒毁容？这些吸毒者真实对比图给你真相（多图）】毒品能减肥能...</td>\n",
       "      <td>8</td>\n",
       "    </tr>\n",
       "    <tr>\n",
       "      <th>190</th>\n",
       "      <td>【呼吸过速】是肺炎最敏感和特异性的体征。如果连呼吸平稳一点都不快，基本可以排除肺炎。\\n孩子...</td>\n",
       "      <td>5</td>\n",
       "    </tr>\n",
       "    <tr>\n",
       "      <th>304</th>\n",
       "      <td>肺炎是症状。。。不明是不知道致病原因或者病毒。。。疑似病例是症状和某病类似，但没有疑似症状也...</td>\n",
       "      <td>4</td>\n",
       "    </tr>\n",
       "    <tr>\n",
       "      <th>741</th>\n",
       "      <td>#武汉发现不明原因肺炎# 病人“陆续出现”？销声匿迹的SARS卷土重来？从广东变成华中？出门...</td>\n",
       "      <td>4</td>\n",
       "    </tr>\n",
       "    <tr>\n",
       "      <th>68</th>\n",
       "      <td>回复@XXXX :辐射量很小的，不用担心。//@XXXX :张奶奶您好，小孩现在一岁五个月，...</td>\n",
       "      <td>4</td>\n",
       "    </tr>\n",
       "  </tbody>\n",
       "</table>\n",
       "</div>"
      ],
      "text/plain": [
       "                                          text_cleaned  disgust\n",
       "40   #谢和弦吸毒##对毒品说不# 【吸毒毁容？这些吸毒者真实对比图给你真相（多图）】毒品能减肥能...        8\n",
       "190  【呼吸过速】是肺炎最敏感和特异性的体征。如果连呼吸平稳一点都不快，基本可以排除肺炎。\\n孩子...        5\n",
       "304  肺炎是症状。。。不明是不知道致病原因或者病毒。。。疑似病例是症状和某病类似，但没有疑似症状也...        4\n",
       "741  #武汉发现不明原因肺炎# 病人“陆续出现”？销声匿迹的SARS卷土重来？从广东变成华中？出门...        4\n",
       "68   回复@XXXX :辐射量很小的，不用担心。//@XXXX :张奶奶您好，小孩现在一岁五个月，...        4"
      ]
     },
     "execution_count": 43,
     "metadata": {},
     "output_type": "execute_result"
    }
   ],
   "source": [
    "emotion_type = 'disgust'\n",
    "df_test = weibo_df.sort_values(by=emotion_type,ascending=False)\n",
    "df_test[['text_cleaned', emotion_type]].head()"
   ]
  },
  {
   "cell_type": "code",
   "execution_count": 46,
   "metadata": {
    "ExecuteTime": {
     "end_time": "2020-06-12T07:25:37.834889Z",
     "start_time": "2020-06-12T07:25:37.826430Z"
    },
    "slideshow": {
     "slide_type": "subslide"
    }
   },
   "outputs": [
    {
     "data": {
      "text/plain": [
       "'肺炎是症状。。。不明是不知道致病原因或者病毒。。。疑似病例是症状和某病类似，但没有疑似症状也未必不是某种病毒。。。所以，这个辟谣是瞎扯淡，大家等cdc的官方消息吧。。。'"
      ]
     },
     "execution_count": 46,
     "metadata": {},
     "output_type": "execute_result"
    }
   ],
   "source": [
    "df_test['text_cleaned'][304]"
   ]
  },
  {
   "cell_type": "markdown",
   "metadata": {
    "slideshow": {
     "slide_type": "slide"
    }
   },
   "source": [
    "https://blog.csdn.net/weixin_38008864/article/details/103900840"
   ]
  }
 ],
 "metadata": {
  "celltoolbar": "Slideshow",
  "kernelspec": {
   "display_name": "Python 3",
   "language": "python",
   "name": "python3"
  },
  "language_info": {
   "codemirror_mode": {
    "name": "ipython",
    "version": 3
   },
   "file_extension": ".py",
   "mimetype": "text/x-python",
   "name": "python",
   "nbconvert_exporter": "python",
   "pygments_lexer": "ipython3",
   "version": "3.7.6"
  },
  "toc": {
   "base_numbering": 1,
   "nav_menu": {},
   "number_sections": false,
   "sideBar": true,
   "skip_h1_title": false,
   "title_cell": "Table of Contents",
   "title_sidebar": "Contents",
   "toc_cell": false,
   "toc_position": {},
   "toc_section_display": true,
   "toc_window_display": false
  }
 },
 "nbformat": 4,
 "nbformat_minor": 4
}
