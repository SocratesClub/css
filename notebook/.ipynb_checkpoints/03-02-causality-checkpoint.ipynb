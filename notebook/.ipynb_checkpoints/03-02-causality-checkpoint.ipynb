{
 "cells": [
  {
   "cell_type": "markdown",
   "metadata": {
    "slideshow": {
     "slide_type": "slide"
    }
   },
   "source": [
    "---\n",
    "---\n",
    "\n",
    "# Causal Inference: The Potential Outcomes Framework\n",
    "\n",
    "\n",
    "## Bit by Bit: Social Research in the Digital Age\n",
    "\n",
    "\n",
    "---\n",
    "---\n",
    "\n",
    "\n",
    "\n",
    "\n",
    "![image.png](img/sep.png)"
   ]
  },
  {
   "cell_type": "markdown",
   "metadata": {
    "slideshow": {
     "slide_type": "subslide"
    }
   },
   "source": [
    "https://www.bitbybitbook.com/en/1st-ed/observing-behavior/observing-math-notes/\n",
    "\n",
    "![image.png](img/bit.png)"
   ]
  },
  {
   "cell_type": "markdown",
   "metadata": {
    "slideshow": {
     "slide_type": "slide"
    }
   },
   "source": [
    "![image.png](img/ca1.png)\n",
    "\n",
<<<<<<< Updated upstream
    "\n",
    ">  **The Road Not Taken** by Robert Frost. \n",
    "Two roads diverged in a yellow wood,\n",
    "And sorry I could not travel both.\n",
    "And be one traveler, long I stood.\n",
    "And looked down one as far as I could.\n",
=======
    "**The Road Not Taken** by Robert Frost\n",
    "\n",
    "Two roads diverged in a yellow wood,\n",
    "And sorry I could not travel both\n",
    "And be one traveler, long I stood\n",
    "And looked down one as far as I could\n",
>>>>>>> Stashed changes
    "To where it bent in the undergrowth;"
   ]
  },
  {
   "cell_type": "markdown",
   "metadata": {
    "slideshow": {
     "slide_type": "subslide"
    }
   },
   "source": [
    "The potential outcomes framework has three main elements: **units, treatments, and potential outcomes**. \n",
    "\n",
    "Let’s consider a stylized version of the question addressed in Angrist (1990): <u>What is the effect of military service on earnings?</u> \n",
    "- The **units** to be people eligible for the 1970 draft in the United States, and we can index these people by $i = 1, ..., N$. \n",
    "- The **treatments** in this case can be “serving in the military” or “not serving in the military.” \n",
    "    - the treatment condition\n",
    "        - $W_{i=1}$ if person $i$ is in the treatment condition \n",
    "    - the control condition\n",
    "        - $W_{i=0}$ if person $i$ is in the control condition. \n",
    "\n"
   ]
  },
  {
   "cell_type": "markdown",
   "metadata": {
    "slideshow": {
     "slide_type": "subslide"
    }
   },
   "source": [
    "The **potential outcomes** are “potential” things that could have happened. For each person eligible for the 1970 draft, we can imagine:\n",
    "\n",
    "- $Y_i(1)$ is the amount that they would have earned in 1978 if they served in the military.  \n",
    "- $Y_i(0)$ is the amount that they would have earned in 1978 if they did not serve in the military.\n",
    "\n",
    " \n",
    "$W_i$ is a random variable, while $Y_i(1)$ and  $Y_i(0)$ are considered fixed quantities."
   ]
  },
  {
   "cell_type": "markdown",
   "metadata": {
    "cell_style": "center",
    "slideshow": {
     "slide_type": "slide"
    }
   },
   "source": [
    "The choice of units, treatments, and outcomes is critical because it defines what can—and cannot—be learned from the study. \n",
    "- units: women vs. man \n",
    "- treatment: serve in military vs. war experience\n",
    "- oucome: salary vs. job satisfaction\n",
    "\n",
    "The choice of units, treatments, and outcomes should be driven by the scientific and policy goals of the study."
   ]
  },
  {
   "cell_type": "markdown",
   "metadata": {
    "cell_style": "center",
    "slideshow": {
     "slide_type": "slide"
    }
   },
   "source": [
    "Given the choices of units, treatments, and potential outcomes, the causal effect of the treatment on person $i$, \n",
    "$τ_i$, is\n",
    "\n",
    "$$τ_i = Y_i(1) - Y_i(0)$$"
   ]
  },
  {
   "cell_type": "markdown",
   "metadata": {
    "cell_style": "center",
    "slideshow": {
     "slide_type": "slide"
    }
   },
   "source": [
<<<<<<< Updated upstream
    "If you are not able to imagine a table like this for your study, then you might need to be more precise in your definitions of your units, treatments, and potential outcomes.\n",
    "\n",
    "| Person | Earnings in treatment condition | Earnings in control condition | Treatment effect |\n",
    "| :----- | :------------------------------ | :---------------------------- | :--------------- |\n",
    "| 1      | $Y_1(1)$   | $Y_1(0)$  | $τ_1$  |\n",
    "| 2   | $Y_2(1)$   | $Y_2(0)$| $τ_2$    |\n",
    "| ⋮     | ⋮   | ⋮   | ⋮               |\n",
    "| N     | $Y_N(1)$   | $Y_N(0)$  | $τ_N$    |\n",
    "| Mean  | $\\overline{Y}(1)$ | $\\overline{Y}(0)$   | $\\overline{τ}$   |\n",
    "\n"
   ]
  },
  {
   "cell_type": "markdown",
   "metadata": {
    "cell_style": "center",
    "slideshow": {
     "slide_type": "slide"
    }
   },
   "source": [
    "However, we can only observe one of the potential outcomes—$Y_i(1)$ or $Y_i(0)$—but not both. \n",
=======
    "Therefore, we observe one of the potential outcomes—$Y_i(1)$ or $Y_i(0)$—but not both. \n",
>>>>>>> Stashed changes
    "\n",
    "The inability to observe both potential outcomes is such a major problem that Holland (1986) called it the **Fundamental Problem of Causal Inference**.\n",
    "\n",
    "![image.png](img/c2.png)"
   ]
  },
  {
   "cell_type": "markdown",
   "metadata": {
    "cell_style": "center",
    "slideshow": {
     "slide_type": "slide"
    }
   },
   "source": [
<<<<<<< Updated upstream
    "| Person | Earnings in treatment condition | Earnings in control condition | Treatment effect |\n",
    "| :----: | :-----------------------------: | :---------------------------: | :--------------: |\n",
    "|   1    |  ?   |  $Y_1(0)$   |        ?         |\n",
    "|   2    |    $Y_2(1)$   |  ?    |        ?         |\n",
    "|   ⋮    |   ⋮ |    ⋮     |        ⋮         |\n",
    "|   N    |  $Y_N(1)$  |    ?    |   ?         |\n",
    "|  Mean  |     ?   |   ?     |   ?         |\n",
=======
    "If you are not able to imagine a table like this for your study, then you might need to be more precise in your definitions of your units, treatments, and potential outcomes.\n",
    "\n",
    "| Person | Earnings in treatment condition | Earnings in control condition | Treatment effect |\n",
    "| :----- | :------------------------------ | :---------------------------- | :--------------- |\n",
    "| 1      | $Y_1(1)$   | $Y_1(0)$  | $τ_1$  |\n",
    "| 2   | $Y_2(1)$   | $Y_2(0)$| $τ_2$    |\n",
    "| ⋮     | ⋮   | ⋮   | ⋮               |\n",
    "| N     | $Y_N(1)$   | $Y_N(0)$  | $τ_N$    |\n",
    "| Mean  | $\\overline{Y}(1)$ | $\\overline{Y}(0)$   | $\\overline{τ}$   |\n",
>>>>>>> Stashed changes
    "\n"
   ]
  },
  {
   "cell_type": "markdown",
   "metadata": {
    "cell_style": "center",
    "slideshow": {
     "slide_type": "slide"
    }
   },
   "source": [
    "Instead of attempting to estimate the individual-level treatment effect, we can estimate the **average treatment effect** for all units:\n",
    "\n",
    "$$ATE = \\frac{1}{N} \\sum_{i=1}^N τ_i$$\n",
    "\n",
    "However,  the terms of $τ_i$ are unobservable, "
   ]
  },
  {
   "cell_type": "markdown",
   "metadata": {
    "cell_style": "center",
    "slideshow": {
     "slide_type": "slide"
    }
   },
   "source": [
    "$$ATE = \\frac{1}{N} \\sum_{i=1}^N Y_i(1) - \\frac{1}{N} \\sum_{i=1}^N Y_i(0)$$\n",
    "\n",
    "if we can estimate the population average outcome under treatment and the population average outcome under control, then we can estimate the average treatment effect, even without estimating the treatment effect for any particular person."
   ]
  },
  {
   "cell_type": "markdown",
   "metadata": {
    "cell_style": "center",
    "slideshow": {
     "slide_type": "slide"
    }
   },
   "source": [
    "$$\\widehat{ATE} = \\underbrace{\\frac{1}{N_t}\\sum_{i: W_i = 1} Y_i(1)}_{treatment} - \\underbrace{\\frac{1}{N_c}\\sum_{i: W_i = 0} Y_i(0)}_{control}$$\n",
    "\n",
    "\n",
    "where $N_t$ and $N_c$ are the numbers of people in the treatment and control conditions. \n",
    "\n",
    "This approach will work well if the treatment assignment is independent of potential outcomes, a condition sometimes called **ignorability**. "
   ]
  },
  {
   "cell_type": "markdown",
   "metadata": {
<<<<<<< Updated upstream
=======
    "cell_style": "center",
>>>>>>> Stashed changes
    "slideshow": {
     "slide_type": "slide"
    }
   },
   "source": [
<<<<<<< Updated upstream
    "![image.png](img/c3.png)\n",
    "\n",
    "https://mru.org/courses/mastering-econometrics/path-cause-effect"
=======
    "| Person | Earnings in treatment condition | Earnings in control condition | Treatment effect |\n",
    "| :----: | :-----------------------------: | :---------------------------: | :--------------: |\n",
    "|   1    |  ?   |  $Y_1(0)$   |        ?         |\n",
    "|   2    |    $Y_2(1)$   |  ?    |        ?         |\n",
    "|   ⋮    |   ⋮ |    ⋮     |        ⋮         |\n",
    "|   N    |  $Y_N(1)$  |    ?    |   ?         |\n",
    "|  Mean  |     ?   |   ?     |   ?         |\n",
    "\n"
>>>>>>> Stashed changes
   ]
  },
  {
   "cell_type": "markdown",
   "metadata": {
    "slideshow": {
     "slide_type": "slide"
    }
   },
   "source": [
<<<<<<< Updated upstream
    "![image.png](img/chengjun2.png)"
=======
    "![image.png](img/c3.png)\n",
    "\n",
    "https://mru.org/courses/mastering-econometrics/path-cause-effect"
>>>>>>> Stashed changes
   ]
  },
  {
   "cell_type": "markdown",
   "metadata": {
    "slideshow": {
     "slide_type": "slide"
    }
   },
   "source": [
    "\n",
    "## Running Experiment\n",
    "\n",
    "\n",
    "Lab experiment & Field experiment\n",
    "\n",
    "![image.png](img/c4.png)\n"
   ]
  },
  {
   "cell_type": "markdown",
   "metadata": {
    "cell_style": "center",
    "slideshow": {
     "slide_type": "slide"
    }
   },
   "source": [
    "## Natural experiments\n",
    "\n",
    "One approach to making causal estimates without running an experiment is to look for something happening in the world that has randomly assigned a treatment for you. This approach is called **natural experiments**. \n",
    "\n",
    "- In many situations, unfortunately, nature does not randomly deliver the treatment that you want to the population of interest. \n",
    "- But sometimes, nature randomly delivers a related treatment. "
   ]
  },
  {
   "cell_type": "markdown",
   "metadata": {
    "cell_style": "center",
    "slideshow": {
     "slide_type": "slide"
    }
   },
   "source": [
    "## Instrumental Variables\n",
    "Let's consider the case where there is some secondary treatment that encourages people to receive the primary treatment. \n",
    "- For example, the draft could be considered a randomly assigned secondary treatment that encouraged some people to take the primary treatment, which was serving in the military. \n",
    "\n",
    "This design is sometimes called an **encouragement design**. And the analysis method that I’ll describe to handle this situation is sometimes called **instrumental variables**. \n",
    "- In this setting, with some assumptions, researchers can use the encouragement to learn about the effect of the primary treatment for a particular subset of units."
   ]
  },
  {
   "cell_type": "markdown",
   "metadata": {
    "cell_style": "center",
    "slideshow": {
     "slide_type": "slide"
    }
   },
   "source": [
    "- Among those who were drafted, some served ($Z_i$=1,$W_i$=1) and some did not ($Z_i$=1,$W_i$=0). \n",
    "- Likewise, among those who were not drafted, some served ($Z_i$=0, $W_i$=1) and some did not ($Z_i$=0,$W_i$=0).\n",
    "\n",
    "| Type          | Service if drafted | Service if not drafted |\n",
    "| :------------ | :----------------- | :--------------------- |\n",
    "| Compliers     | Yes, Wi(Zi=1)=1    | No, Wi(Zi=0)=0         |\n",
    "| Never-takers  | No, Wi(Zi=1)=0     | No, Wi(Zi=0)=0         |\n",
    "| Defiers       | No, Wi(Zi=1)=0     | Yes, Wi(Zi=0)=1        |\n",
    "| Always-takers | Yes, Wi(Zi=1)=1    | Yes, Wi(Zi=0)=1        |\n",
    "\n"
   ]
  },
  {
   "cell_type": "markdown",
   "metadata": {
    "slideshow": {
     "slide_type": "subslide"
    }
   },
   "source": [
    "\n",
    "**Two effects of the encouragement**\n",
    "\n",
    "- First, we can define the effect of the encouragement on the primary treatment. \n",
    "- Second, we can define the effect of the encouragement on the outcome. \n"
   ]
  },
  {
   "cell_type": "markdown",
   "metadata": {
    "cell_style": "center",
    "slideshow": {
     "slide_type": "slide"
    }
   },
   "source": [
    "First, the effect of the encouragement on treatment can be defined for person $i$:\n",
    "\n",
    "$$ITT_{W,i} = W_i(1) - W_i(0)$$\n",
    "\n",
    "Further, this quantity can be defined over the entire population as\n",
    "\n",
    "\n",
    "$$ITT_W = \\frac{1}{N} \\sum_{i=1}^N [W_i(1) - W_i(0)]$$\n",
    "\n",
    "Finally, we can estimate it with data\n",
    "\n",
    "\n",
    "$$\\widehat{ITT_W} = \\overline{W}_1^{obs} - \\overline{W}_0^{obs} $$\n",
    "\n"
   ]
  },
  {
   "cell_type": "markdown",
   "metadata": {
    "cell_style": "center",
    "slideshow": {
     "slide_type": "slide"
    }
   },
   "source": [
    "Next, the effect of the encouragement on the outcome can be defined for person $i$:\n",
    "\n",
    "$$ITT_{Y,i} = Y_i(1, W_i(1)) - Y_i(0, W_i(0))$$\n",
    "\n",
    "Further, this quantity can be defined over the entire population as\n",
    "\n",
    "$$ITT_Y = \\frac{1}{N} \\sum_{i=1}^N [Y_i(1,  W_i(1)) - Y_i(0, W_i(1))]$$\n",
    "\n",
    "Finally, we can estimate it with data\n",
    "\n",
    "$$\\widehat{ITT_Y} = \\overline{Y}_1^{obs} - \\overline{Y}_0^{obs} $$\n"
   ]
  },
  {
   "cell_type": "markdown",
   "metadata": {
    "cell_style": "center",
    "slideshow": {
     "slide_type": "slide"
    }
   },
   "source": [
    "Finally, the effect of the primary treatment (e.g., military service) on the outcome (e.g., earnings). \n",
    "- one cannot estimate this effect on all units. \n",
    "- with some assumptions, one can estimate the effect on **compliers**. \n",
    "\n",
    "$$CACE = \\frac{1}{N_{compilers}} \\sum_{i:G_i = compilers}^N [Y(1,  W_i(1)) - Y(0, W_i(1))]$$\n",
    "\n",
    "\n",
    "I’ll call this estimand the **complier average causal effect** (CACE) (i.e., the local average treatment effect, **LATE**)."
   ]
  },
  {
   "cell_type": "markdown",
   "metadata": {
    "cell_style": "center",
    "slideshow": {
     "slide_type": "slide"
    }
   },
   "source": [
    "Three assumptions\n",
    "- First, random assignment to treatment.\n",
    "- Second, no defiers (i.e., the monotonicity assumption). \n",
    "- Third, the exclusion restriction. \n",
    "    - all of the effect of the treatment assignment is passed through the treatment itself. \n",
    "    - there is no direct effect of encouragement on outcomes. "
   ]
  },
  {
   "cell_type": "markdown",
   "metadata": {
    "cell_style": "center",
    "slideshow": {
     "slide_type": "slide"
    }
   },
   "source": [
    "![image.png](img/c5.png)"
   ]
  },
  {
   "cell_type": "markdown",
   "metadata": {
    "cell_style": "center",
    "slideshow": {
     "slide_type": "subslide"
    }
   },
   "source": [
    "![image.png](img/c6.png)\n"
   ]
  },
  {
   "cell_type": "markdown",
   "metadata": {
    "cell_style": "center",
    "slideshow": {
     "slide_type": "slide"
    }
   },
   "source": [
    "If these three condition (random assignment to treatment, no defiers, and the exclusion restriction) are met, then\n",
    "\n",
    "$$\\widehat{CACE} = \\frac{ITT_Y}{ITT_W}$$\n",
    "\n",
    "so we can estimate CACE:\n",
    "\n",
    "\n",
    "$$\\widehat{CACE} = \\frac{\\widehat{ITT_Y}}{\\widehat{ITT_W}}$$\n"
   ]
  },
  {
   "cell_type": "markdown",
   "metadata": {
    "slideshow": {
     "slide_type": "subslide"
    }
   },
   "source": [
    "**Another Example of Natural Experiment**\n",
    "\n",
    "Charter Schools are public schools that operate with considerately more autonomy than traditional American American public schools.\n",
    "\n",
    "![image.png](img/c7.png)"
   ]
  },
  {
   "cell_type": "markdown",
   "metadata": {
    "slideshow": {
     "slide_type": "subslide"
    }
   },
   "source": [
    " ![image.png](img/c8.png)"
   ]
  },
  {
   "cell_type": "markdown",
   "metadata": {
    "cell_style": "center",
    "slideshow": {
     "slide_type": "slide"
    }
   },
   "source": [
    "# References\n",
    "- Angrist, Joshua D., and Jörn-Steffen Pischke. 2009. Mostly Harmless Econometrics: An Empiricist’s Companion. Princeton, NJ: Princeton University Press.\n",
    "- Imbens, Guido W., and Donald B. Rubin. 2015. Causal Inference in Statistics, Social, and Biomedical Sciences. Cambridge: Cambridge University Press.\n",
    "- Imbens, Guido W., and Paul R. Rosenbaum. 2005. “Robust, Accurate Confidence Intervals with a Weak Instrument: Quarter of Birth and Education.” Journal of the Royal Statistical Society: Series A (Statistics in Society) 168 (1):109–26. https://doi.org/10.1111/j.1467-985X.2004.00339.x.\n",
    "- Murray, Michael P. 2006. “Avoiding Invalid Instruments and Coping with Weak Instruments.” Journal of Economic Perspectives 20 (4):111–32. http://www.jstor.org/stable/30033686.\n",
    "- Sekhon, Jasjeet S., and Rocío Titiunik. 2012. “When Natural Experiments Are Neither Natural nor Experiments.” American Political Science Review 106 (1):35–57. https://doi.org/10.1017/S0003055411000542.\n",
    "- Aronow, Peter M., and Allison Carnegie. 2013. “Beyond LATE: Estimation of the Average Treatment Effect with an Instrumental Variable.” Political Analysis 21 (4):492–506. https://doi.org/10.1093/pan/mpt013.\n",
    "- Dunning, Thad. 2012. Natural Experiments in the Social Sciences: A Design-Based Approach. Cambridge: Cambridge University Press.\n",
    "- Gerber and Green. 2012. Field Experiments: Design, Analysis, and Interpretation. New York: W. W. Norton.\n",
    "\n",
    "\n",
    "\n"
   ]
<<<<<<< Updated upstream
  }
 ],
 "metadata": {
  "celltoolbar": "幻灯片",
  "kernelspec": {
   "display_name": "Python 3 (ipykernel)",
=======
  },
  {
   "cell_type": "markdown",
   "metadata": {
    "slideshow": {
     "slide_type": "slide"
    }
   },
   "source": [
    "![image.png](img/chengjun2.png)"
   ]
  }
 ],
 "metadata": {
  "celltoolbar": "Slideshow",
  "kernelspec": {
   "display_name": "Python 3",
>>>>>>> Stashed changes
   "language": "python",
   "name": "python3"
  },
  "language_info": {
   "codemirror_mode": {
    "name": "ipython",
    "version": 3
   },
   "file_extension": ".py",
   "mimetype": "text/x-python",
   "name": "python",
   "nbconvert_exporter": "python",
   "pygments_lexer": "ipython3",
<<<<<<< Updated upstream
   "version": "3.9.7"
=======
   "version": "3.8.8"
>>>>>>> Stashed changes
  },
  "toc": {
   "base_numbering": 1,
   "nav_menu": {},
   "number_sections": false,
   "sideBar": true,
   "skip_h1_title": false,
   "title_cell": "Table of Contents",
   "title_sidebar": "Contents",
   "toc_cell": false,
   "toc_position": {},
   "toc_section_display": true,
   "toc_window_display": false
  }
 },
 "nbformat": 4,
 "nbformat_minor": 4
}
