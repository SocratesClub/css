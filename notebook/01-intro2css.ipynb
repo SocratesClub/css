{
 "cells": [
  {
   "cell_type": "markdown",
   "metadata": {
    "slideshow": {
     "slide_type": "slide"
    }
   },
   "source": [
    "计算社会科学课程\n",
    "\n",
    "---\n",
    "---\n",
    "# 计算社会科学简介\n",
    "\n",
    "Introduction to Computational Social Science\n",
    "\n",
    "---\n",
    "---\n",
    "\n",
    "![image.png](img/chengjun.png)"
   ]
  },
  {
   "cell_type": "markdown",
   "metadata": {
    "slideshow": {
     "slide_type": "subslide"
    }
   },
   "source": [
    "简介\n",
    "\n",
    "大数据和机器学习为计算社会科学插上了计算的翅膀。在人工智能时代，如何理解人类社会所面临问题？本次讲座将从英雄的旅程开始讲起，重申计算社会科学应该有的一种认识论：以自己作为方法，认识人类自身，点燃内心火焰。在此基础上，本次讲座将介绍三个方面的问题：1. 计算中心的逻辑；2. 数据科学的编程工具；3. 计算社会科学的案例、方法和问题。"
   ]
  },
  {
   "cell_type": "markdown",
   "metadata": {
    "slideshow": {
     "slide_type": "subslide"
    }
   },
   "source": [
    "## 引言\n",
    "\n",
    "**达拉崩吧：神话叙事的娱乐化表达**\n",
    "\n",
    "人人都喜欢听故事：英雄来到山谷，战胜巨龙，救出公主。公主嫁给英雄。\n",
    "\n",
    "\n",
    "\n",
    "<img src=img/hero.png width= 500px>\n",
    "\n"
   ]
  },
  {
   "cell_type": "code",
   "execution_count": 1,
   "metadata": {
    "ExecuteTime": {
     "end_time": "2024-07-27T00:58:59.873777Z",
     "start_time": "2024-07-27T00:58:59.817394Z"
    },
    "cell_style": "center",
    "code_folding": [
     0
    ],
    "slideshow": {
     "slide_type": "subslide"
    }
   },
   "outputs": [
    {
     "data": {
      "text/html": [
       "<iframe src=\"//player.bilibili.com/player.html?aid=370100101&bvid=BV1YZ4y1j7s5&cid=170468595&page=2\" \n",
       "width=1000 height=600\n",
       "scrolling=\"no\" border=\"0\" frameborder=\"no\" framespacing=\"0\" allowfullscreen=\"true\"> </iframe>\n"
      ],
      "text/plain": [
       "<IPython.core.display.HTML object>"
      ]
     },
     "metadata": {},
     "output_type": "display_data"
    }
   ],
   "source": [
    "%%html \n",
    "<iframe src=\"//player.bilibili.com/player.html?aid=370100101&bvid=BV1YZ4y1j7s5&cid=170468595&page=2\" \n",
    "width=1000 height=600\n",
    "scrolling=\"no\" border=\"0\" frameborder=\"no\" framespacing=\"0\" allowfullscreen=\"true\"> </iframe>\n"
   ]
  },
  {
   "cell_type": "markdown",
   "metadata": {
    "slideshow": {
     "slide_type": "subslide"
    }
   },
   "source": [
    "**每个人内心当中都有一个万神殿。**\n",
    "\n",
    "![image.png](img/pantheon.png)\n",
    "\n",
    "César A. Hidalgo https://pantheon.world/data/datasets\n",
    "\n",
    "Yu, A. Z., et al. (2016). Pantheon 1.0, a manually verified dataset of globally famous biographies. Scientific Data 2:150075. doi: 10.1038/sdata.2015.75 \n",
    "\n",
    "https://www.kaggle.com/defiskaandangnugraha/historical-popularity-index-prediction"
   ]
  },
  {
   "cell_type": "markdown",
   "metadata": {
    "cell_style": "center",
    "slideshow": {
     "slide_type": "subslide"
    }
   },
   "source": [
    "YYDS\n",
    "\n",
    " ![](./img/socrates.jpg)\n",
    " \n",
    " \n",
    "向外：关心社区，关心城市，关心国家，关心人类。向内：冥想"
   ]
  },
  {
   "cell_type": "markdown",
   "metadata": {
    "cell_style": "center",
    "slideshow": {
     "slide_type": "subslide"
    }
   },
   "source": [
    "\n",
    "Education is not the filling of a vessel, but the kindling of a flame.\n",
    "\n",
    "![torch.gif](img/torch.gif)"
   ]
  },
  {
   "cell_type": "markdown",
   "metadata": {
    "slideshow": {
     "slide_type": "subslide"
    }
   },
   "source": [
    "![image.png](img/feyman.png)"
   ]
  },
  {
   "cell_type": "markdown",
   "metadata": {
    "slideshow": {
     "slide_type": "subslide"
    }
   },
   "source": [
    "**Warm up: Self-introduction.**\n",
    "\n",
    "![discuss.gif](img/discuss.gif)"
   ]
  },
  {
   "cell_type": "markdown",
   "metadata": {
    "ExecuteTime": {
     "end_time": "2020-08-05T15:18:58.593699Z",
     "start_time": "2020-08-05T15:18:58.461435Z"
    },
    "slideshow": {
     "slide_type": "subslide"
    }
   },
   "source": [
    "**Homework 1**\n",
    "\n",
    "- 使用mobirise建立个人网站\n",
    "    - 1. 下载mobirise软件 https://mobirise.com/\n",
    "    - 2. 制作个人网页\n",
    "    - 3. 上传到Github\n",
    "    \n",
    "例如 https://chengjunwang.com/about/"
   ]
  },
  {
   "cell_type": "markdown",
   "metadata": {
    "slideshow": {
     "slide_type": "subslide"
    }
   },
   "source": [
    "![image.png](img/content.png)"
   ]
  },
  {
   "cell_type": "markdown",
   "metadata": {
    "ExecuteTime": {
     "end_time": "2020-03-14T13:55:31.606081Z",
     "start_time": "2020-03-14T13:55:31.603451Z"
    },
    "slideshow": {
     "slide_type": "subslide"
    }
   },
   "source": [
    "**课程安排**\n",
    "\n",
    "| 日期     | 内容                                    | 时长   |\n",
    "| -------- | --------------------------------------- | ------ |\n",
    "|1  | 第一天 计算社会科学简介   | 3小时  |\n",
    "| 2  | 第二天 大数据 | 3小时  |\n",
    "| 3  | 第三天 调查与实验         | 3小时  |\n",
    "| 4 | 第四天 网络科学       | 3小时  |\n",
    "| 5 | 第五天 机器学习简介       | 3小时  |\n",
    "| 6 | 第六天 机器学习算法   | 3小时  |\n",
    "|  | <del>第八天 神经网络</del>    | 3小时 |\n",
    "| 7 | 第七天 词向量嵌入模型     | 3小时 |\n",
    "| 8 | 第八天 自然语言处理   | 3小时 |\n",
    "\n",
    "课程资料 https://github.com/SocratesAcademy/css\n",
    "\n"
   ]
  },
  {
   "cell_type": "markdown",
   "metadata": {
    "slideshow": {
     "slide_type": "slide"
    }
   },
   "source": [
    "## 第一部分 计算中心的逻辑"
   ]
  },
  {
   "cell_type": "markdown",
   "metadata": {
    "slideshow": {
     "slide_type": "slide"
    }
   },
   "source": [
    "![image.png](img/intro2.png)"
   ]
  },
  {
   "cell_type": "markdown",
   "metadata": {
    "slideshow": {
     "slide_type": "slide"
    }
   },
   "source": [
    "### What is the big problem?\n",
    "\n",
    "![image.png](img/into1.png)"
   ]
  },
  {
   "cell_type": "markdown",
   "metadata": {
    "slideshow": {
     "slide_type": "subslide"
    }
   },
   "source": [
    "![image.png](img/intro3.png)"
   ]
  },
  {
   "cell_type": "markdown",
   "metadata": {
    "slideshow": {
     "slide_type": "subslide"
    }
   },
   "source": [
    "<img src=img/calculation.png>"
   ]
  },
  {
   "cell_type": "markdown",
   "metadata": {
    "slideshow": {
     "slide_type": "subslide"
    }
   },
   "source": [
    "“土著那种不明确的地理学被地理学家明确化了；野蛮人的地方性知识转变为地图制作者的普遍知识；当地人含混而无稽的信念变成一种明确而可靠的知识。每一次轮转，外乡人和土著间的不对称都在增长，时至今日的结局是，这种不对称在某些方面的确像分水岭，或者说他们的对比关系是不成比例的：一些是拥有卫星设备，甚至不用离开他们位于休斯敦的空调房间就可以在计算机地图上定位的人；一些是无助的土著居民，他们甚至看不见从他们头顶越过的卫星。”\n"
   ]
  },
  {
   "cell_type": "markdown",
   "metadata": {
    "slideshow": {
     "slide_type": "subslide"
    }
   },
   "source": [
    "![image.png](img/intro4.png)"
   ]
  },
  {
   "cell_type": "markdown",
   "metadata": {
    "cell_style": "split",
    "slideshow": {
     "slide_type": "subslide"
    }
   },
   "source": [
    "<div>\n",
    "<img src=\"img/intro5.png\" width=\"240\"/>\n",
    "</div>\n",
    "\n",
    "\n",
    "\n",
    "Cioffi-Revilla, Claudio (2014). Introduction to Computational Social Science. Springer-Verlag, London.\n"
   ]
  },
  {
   "cell_type": "markdown",
   "metadata": {
    "cell_style": "split",
    "slideshow": {
     "slide_type": "fragment"
    }
   },
   "source": [
    "![image.png](img/into6.png)\n",
    "\n",
    "\n",
    "Matthew J. Salganik (2017) Bit by Bit: Social Research in the Digital Age. Princeton University Press\n",
    "\n"
   ]
  },
  {
   "cell_type": "markdown",
   "metadata": {
    "cell_style": "center",
    "slideshow": {
     "slide_type": "slide"
    }
   },
   "source": [
    "![image.png](img/intro7.png)\n",
    "\n",
    "\n",
    "张伦, 王成军, 许小可 2018 《计算传播学导论》北京师范大学出版社\n",
    "\n",
    "**Python代码和PPT**\n",
    "\n",
    "https://github.com/SocratesAcademy/ccrbook\n",
    "\n",
    "\n",
    "\n"
   ]
  },
  {
   "cell_type": "markdown",
   "metadata": {
    "cell_style": "center",
    "slideshow": {
     "slide_type": "subslide"
    }
   },
   "source": [
    "\n",
    "Know yourself and kindling the fire in your heart!\n",
    "\n",
    "![image.png](img/socrates.gif)\n",
    "\n",
    "---\n",
    "  \n",
    "王成军 (2019) 计算传播基础讲义. Jupyter Book. https://chengjun.github.io/mybook/\n",
    "\n"
   ]
  },
  {
   "cell_type": "markdown",
   "metadata": {
    "slideshow": {
     "slide_type": "subslide"
    }
   },
   "source": [
    "![blogs.png](img/intro8.png)\n",
    "\n",
    "“In short, a computational social science is emerging **field** that leverages the capacity to collect and analyze **data** with an unprecedented breadth and depth and scale.” (Lazer et al. 2009.)\n",
    "\n",
    "\n",
    "Lazer, D. et al. 2009. Computational Social Science. Science. 6 February 2009: Vol. 323, no. 5915, pp. 721-723."
   ]
  },
  {
   "cell_type": "markdown",
   "metadata": {
    "slideshow": {
     "slide_type": "subslide"
    }
   },
   "source": [
    "\n",
    "A field is emerging that leverages the capacity to collect and analyze data at a scale that may reveal **patterns** of individual and group behaviors.\n",
    "\n",
    "- We live life in the **network**.\n",
    "- Each of these transactions leaves **digital traces** that can be compiled into comprehensive pictures of both individual and group behavior, with the potential to transform our understanding of our lives, organizations, and societies.\n",
    "\n",
    "\n",
    "Lazer, D. et al. 2009. Computational Social Science. Science. 6 February 2009: Vol. 323, no. 5915, pp. 721-723."
   ]
  },
  {
   "cell_type": "markdown",
   "metadata": {
    "slideshow": {
     "slide_type": "subslide"
    }
   },
   "source": [
    "-  But the emergence of a **data-driven** “computational social science” has been much slower.\n",
    "- But computational social science is occurring—in Internet companies such as Google and Yahoo, and in government agencies such as the U.S. National Security Agency. \n",
    "- Computational social science could **become the exclusive domain** of private companies and government agencies. Alternatively, there might emerge a privileged set of academic researchers presiding over private data from which they produce papers that cannot be critiqued or replicated.\n",
    "\n",
    "\n",
    "Lazer, D. et al. 2009. Computational Social Science. Science. 6 February 2009: Vol. 323, no. 5915, pp. 721-723."
   ]
  },
  {
   "cell_type": "markdown",
   "metadata": {
    "slideshow": {
     "slide_type": "subslide"
    }
   },
   "source": [
    "- Theoretical limitations\n",
    "    - These vast, emerging data sets on how people interact surely offer qualitatively new perspectives on collective human behavior, but `our current paradigms may not be receptive`.\n",
    "- There are also enormous institutional obstacles.\n",
    "- Perhaps the thorniest challenges exist on the data side, with respect to access and privacy.\n",
    "    - Institutional Review Boards (IRBs) \n",
    "\n",
    "\n",
    "Lazer, D. et al. 2009. Computational Social Science. Science. 6 February 2009: Vol. 323, no. 5915, pp. 721-723."
   ]
  },
  {
   "cell_type": "markdown",
   "metadata": {
    "slideshow": {
     "slide_type": "subslide"
    }
   },
   "source": [
    "\n",
    "> If handled appropriately, **data** about **Internet-based communication** and **interactivity** could revolutionize our understanding of **collective human behaviour**.\n",
    "\n",
    "![image.png](img/intro9.png)\n",
    "\n",
    "D. Watts, A twenty-first century science. Nature 445, 489 (2007).\n"
   ]
  },
  {
   "cell_type": "markdown",
   "metadata": {
    "slideshow": {
     "slide_type": "subslide"
    }
   },
   "source": [
    "But few readers of Nature would consider social science to be the science of the twenty-first century. \n",
    "- Although economics, sociology, political science and anthropology have produced a plethora of findings regarding human social behaviour, \n",
    "- they have been much **less successful** than the physical and life sciences **in producing a coherent theoretical framework** that can account for their discoveries. \n",
    "- This is not because social scientists are less clever than their peers in other fields, \n",
    "- but because social phenomena are among **the hardest scientific problems to solve**."
   ]
  },
  {
   "cell_type": "markdown",
   "metadata": {
    "slideshow": {
     "slide_type": "subslide"
    }
   },
   "source": [
    "- Social phenomena involve the interactions of large (but still finite) numbers of heterogeneous entities, the behaviours of which unfold over time and manifest themselves on multiple scales.\n",
    "- Fortunately, recent developments in **network science** auger some hope for the future.\n",
    "- Clearly, the leap from these still simplistic studies to the **‘big questions’** of social science remains formidable. \n",
    "- In this regard, **cooperation between academic researchers and the large Internet companies** who currently dominate data collection may be extremely productive. "
   ]
  },
  {
   "cell_type": "markdown",
   "metadata": {
    "slideshow": {
     "slide_type": "subslide"
    }
   },
   "source": [
    "> “The increasing integration of technology into our lives has created unprecedented volumes of data on society’s everyday behaviour. Such data opens up exciting new opportunities to work towards a quantitative understanding of our **complex social systems**, within the realms of a new discipline known as Computational Social Science. Against a background of financial crises, riots and international epidemics, the urgent need for a greater comprehension of the **complexity** of our interconnected global society and an ability to apply such insights in policy decisions is clear. (Conte et al. 2012)\n",
    "\n",
    "Conte, R. 2012. Manifesto of Computational Social Science. The European Physical Journal Special Topics. November 2012: Vol. 214, Issue 1, pp. 325-346."
   ]
  },
  {
   "cell_type": "markdown",
   "metadata": {
    "slideshow": {
     "slide_type": "subslide"
    }
   },
   "source": [
    "> “Computational social science refers to the academic sub-disciplines concerned with **computational approaches** to the social sciences. Fields include computational economics and computational sociology. It is a multi-disciplinary and integrated approach to social survey focusing on information processing by means of advanced information technology. The computational tasks include the analysis of social networks and social geographic systems.” \n",
    "\n",
    "(Wikipedia 2015, http://en.wikipedia.org/wiki/Computational_social_science)\n",
    "\n"
   ]
  },
  {
   "cell_type": "markdown",
   "metadata": {
    "slideshow": {
     "slide_type": "subslide"
    }
   },
   "source": [
    "> “The new field of Computational Social Science can be defined as the interdisciplinary investigation of the **social universe** of many scales, ranging from individual actors to the largest groupings, through the medium of **computation**.” (Cioffi-Revilla, 2014.)\n",
    "\n",
    "\n",
    "Cioffi-Revilla, Claudio (2014). Introduction to Computational Social Science. Springer-Verlag, London.\n"
   ]
  },
  {
   "cell_type": "markdown",
   "metadata": {
    "slideshow": {
     "slide_type": "subslide"
    }
   },
   "source": [
    "### Areas of Computational Social Science\n",
    "\n",
    "- (Big) Data & automated data extraction\n",
    "    - Generate, retrieve, sort, modify, transform, … data\n",
    "- Social Networks\n",
    "    - Network analysis and social networks\n",
    "- Social Complexity\n",
    "    - Social complexity, complex adaptive systems, complex systems modeling\n",
    "- Simulation\n",
    "\n",
    "\n",
    "Cioffi-Revilla, Claudio (2014). Introduction to Computational Social Science. Springer-Verlag, London.\n"
   ]
  },
  {
   "cell_type": "markdown",
   "metadata": {
    "slideshow": {
     "slide_type": "subslide"
    }
   },
   "source": [
    "### Challenges to the scientific infrastructure\n",
    "\n",
    "> Massive increases in the availability of **informative social science data** are making dramatic progress possible in analyzing, understanding, and addressing many **major societal problems**. \n",
    "\n",
    "> Yet the same forces pose severe challenges to the **scientific infrastructure** supporting data sharing, data management, informatics, statistical methodology, and research ethics and policy, and these are collectively holding back progress. \n",
    "\n",
    "Gary King (2011) Ensuring the Data-Rich Future of the Social Sciences. Science."
   ]
  },
  {
   "cell_type": "markdown",
   "metadata": {
    "slideshow": {
     "slide_type": "slide"
    }
   },
   "source": [
    "## 第二部分 数据科学的编程工具\n",
    "\n",
    "### Anaconda Python\n",
    "\n",
    "![image.png](img/intro10.png)"
   ]
  },
  {
   "cell_type": "markdown",
   "metadata": {
    "slideshow": {
     "slide_type": "subslide"
    }
   },
   "source": [
    "### Jupyter notebook\n",
    "\n",
    "![image.png](img/intro11.png)\n",
    "\n"
   ]
  },
  {
   "cell_type": "markdown",
   "metadata": {
    "slideshow": {
     "slide_type": "subslide"
    }
   },
   "source": [
    "![image.png](img/intro12.png)\n",
    "\n",
    "IPython and Jupyter, NumPy, Pandas, Matplotlib, Scikit-Learn\n",
    "\n",
    "Jake VanderPlas https://github.com/jakevdp/PythonDataScienceHandbook/"
   ]
  },
  {
   "cell_type": "markdown",
   "metadata": {
    "slideshow": {
     "slide_type": "subslide"
    }
   },
   "source": [
    "### Machine learning for social scientist\n",
    "\n",
    "https://github.com/SocratesAcademy/machine-learning\n",
    "\n",
    "![image.png](img/intro13.png)"
   ]
  },
  {
   "cell_type": "markdown",
   "metadata": {
    "slideshow": {
     "slide_type": "subslide"
    }
   },
   "source": [
    "作业2: 下载并分析ows-raw.txt数据，统计每一天有多少人多少tweets。\n",
    "\n",
    "![image.png](img/intro14.png)"
   ]
  },
  {
   "cell_type": "markdown",
   "metadata": {
    "slideshow": {
     "slide_type": "slide"
    }
   },
   "source": [
    "## 第三部分 计算社会科学的案例、方法和问题\n",
    "\n",
    "![image.png](img/intro15.png)"
   ]
  },
  {
   "cell_type": "markdown",
   "metadata": {
    "slideshow": {
     "slide_type": "subslide"
    }
   },
   "source": [
    "**The foundation of CSS**\n",
    "\n",
    "![image.png](img/intro16.png)"
   ]
  },
  {
   "cell_type": "markdown",
   "metadata": {
    "slideshow": {
     "slide_type": "subslide"
    }
   },
   "source": [
    "![](./img/css.png)"
   ]
  },
  {
   "cell_type": "markdown",
   "metadata": {
    "slideshow": {
     "slide_type": "subslide"
    }
   },
   "source": [
    "![image.png](img/intro17.png)"
   ]
  },
  {
   "cell_type": "markdown",
   "metadata": {
    "slideshow": {
     "slide_type": "subslide"
    }
   },
   "source": [
    "![image.png](img/intro18.png)"
   ]
  },
  {
   "cell_type": "markdown",
   "metadata": {
    "slideshow": {
     "slide_type": "subslide"
    }
   },
   "source": [
    "![image.png](img/intro19.png)"
   ]
  },
  {
   "cell_type": "markdown",
   "metadata": {
    "slideshow": {
     "slide_type": "subslide"
    }
   },
   "source": [
    "![image.png](img/intro20.png)"
   ]
  },
  {
   "cell_type": "markdown",
   "metadata": {
    "slideshow": {
     "slide_type": "subslide"
    }
   },
   "source": [
    "![image.png](img/intro21.png)\n",
    "\n",
    "Most animals & Machine learning learn from associations."
   ]
  },
  {
   "cell_type": "markdown",
   "metadata": {
    "slideshow": {
     "slide_type": "subslide"
    }
   },
   "source": [
    "![image.png](img/intro22.png)\n",
    "\n",
    "\n",
    "Tool users use experiments to learn."
   ]
  },
  {
   "cell_type": "markdown",
   "metadata": {
    "slideshow": {
     "slide_type": "subslide"
    }
   },
   "source": [
    "![image.png](img/intro23.png)\n",
    "\n",
    "Counterfactual learners can imagine the counterfactual worlds."
   ]
  },
  {
   "cell_type": "markdown",
   "metadata": {
    "slideshow": {
     "slide_type": "subslide"
    }
   },
   "source": [
    "![image.png](img/intro24.png)"
   ]
  },
  {
   "cell_type": "markdown",
   "metadata": {
    "slideshow": {
     "slide_type": "subslide"
    }
   },
   "source": [
    "![image.png](img/intro25.png)"
   ]
  },
  {
   "cell_type": "markdown",
   "metadata": {
    "slideshow": {
     "slide_type": "subslide"
    }
   },
   "source": [
    "![image.png](img/intro26.png)"
   ]
  },
  {
   "cell_type": "markdown",
   "metadata": {
    "slideshow": {
     "slide_type": "subslide"
    }
   },
   "source": [
    "![image.png](img/intro27.png)"
   ]
  },
  {
   "cell_type": "markdown",
   "metadata": {
    "slideshow": {
     "slide_type": "slide"
    }
   },
   "source": [
    "![image.png](img/intro28.png)"
   ]
  },
  {
   "cell_type": "markdown",
   "metadata": {
    "slideshow": {
     "slide_type": "subslide"
    }
   },
   "source": [
    "![image.png](img/intro29.png)"
   ]
  },
  {
   "cell_type": "markdown",
   "metadata": {
    "slideshow": {
     "slide_type": "subslide"
    }
   },
   "source": [
    "![image.png](img/intro30.png)"
   ]
  },
  {
   "cell_type": "markdown",
   "metadata": {
    "slideshow": {
     "slide_type": "subslide"
    }
   },
   "source": [
    "![image.png](img/intro31.png)"
   ]
  },
  {
   "cell_type": "markdown",
   "metadata": {
    "slideshow": {
     "slide_type": "subslide"
    }
   },
   "source": [
    "![image.png](img/intro32.png)"
   ]
  },
  {
   "cell_type": "markdown",
   "metadata": {
    "slideshow": {
     "slide_type": "subslide"
    }
   },
   "source": [
    "![image.png](img/intro33.png)"
   ]
  },
  {
   "cell_type": "markdown",
   "metadata": {
    "slideshow": {
     "slide_type": "subslide"
    }
   },
   "source": [
    "![image.png](img/intro34.png)"
   ]
  },
  {
   "cell_type": "markdown",
   "metadata": {
    "slideshow": {
     "slide_type": "subslide"
    }
   },
   "source": [
    "![image.png](img/intro35.png)"
   ]
  },
  {
   "cell_type": "markdown",
   "metadata": {
    "slideshow": {
     "slide_type": "subslide"
    }
   },
   "source": [
    "![image.png](img/intro36.png)"
   ]
  },
  {
   "cell_type": "markdown",
   "metadata": {
    "slideshow": {
     "slide_type": "slide"
    }
   },
   "source": [
    "![image.png](img/socrates2.png)"
   ]
  },
  {
   "cell_type": "markdown",
   "metadata": {
    "slideshow": {
     "slide_type": "slide"
    }
   },
   "source": [
    "![image.png](img/chengjun2.png)"
   ]
  }
 ],
 "metadata": {
  "celltoolbar": "幻灯片",
  "kernelspec": {
   "display_name": "Python 3",
   "language": "python",
   "name": "python3"
  },
  "language_info": {
   "codemirror_mode": {
    "name": "ipython",
    "version": 3
   },
   "file_extension": ".py",
   "mimetype": "text/x-python",
   "name": "python",
   "nbconvert_exporter": "python",
   "pygments_lexer": "ipython3",
   "version": "3.8.8"
  },
  "latex_envs": {
   "LaTeX_envs_menu_present": true,
   "autoclose": false,
   "autocomplete": true,
   "bibliofile": "biblio.bib",
   "cite_by": "apalike",
   "current_citInitial": 1,
   "eqLabelWithNumbers": true,
   "eqNumInitial": 1,
   "hotkeys": {
    "equation": "Ctrl-E",
    "itemize": "Ctrl-I"
   },
   "labels_anchors": false,
   "latex_user_defs": false,
   "report_style_numbering": false,
   "user_envs_cfg": false
  },
  "nteract": {
   "version": "0.28.0"
  },
  "toc": {
   "base_numbering": 1,
   "nav_menu": {},
   "number_sections": false,
   "sideBar": true,
   "skip_h1_title": false,
   "title_cell": "Table of Contents",
   "title_sidebar": "Contents",
   "toc_cell": false,
   "toc_position": {
    "height": "calc(100% - 180px)",
    "left": "10px",
    "top": "150px",
    "width": "313.333px"
   },
   "toc_section_display": true,
   "toc_window_display": false
  }
 },
 "nbformat": 4,
 "nbformat_minor": 4
}
