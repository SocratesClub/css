{
 "cells": [
  {
   "cell_type": "markdown",
   "metadata": {
    "slideshow": {
     "slide_type": "slide"
    }
   },
   "source": [
    "---\n",
    "---\n",
    "\n",
    "\n",
    "# Big Data: Observing Behaviors\n",
    "## Bit by Bit: Social Research in the Digital Age\n",
    "\n",
    "\n",
    "---\n",
    "---\n",
    "\n",
    "![chengjun.png](img/chengjun.png)\n"
   ]
  },
  {
   "cell_type": "markdown",
   "metadata": {
    "slideshow": {
     "slide_type": "subslide"
    }
   },
   "source": [
    "**你会提问吗？线上课堂提问技巧**\n",
    "- Pose：屏幕上打出一个问题/观点供学生进行思考；\n",
    "    - Pause：给予一定时间供思考，这步很重要哦，很多时候学生不想回答是因为没有足够的时间思考；\n",
    "- Pounce：随机挑选一名同学回答，可以使用“抢答器”；\n",
    "    - Bounce：第一名学生分享后，千万不要马上反馈！\n",
    "        - 你要做的是再选一名学生去分享或添加更多的想法。如果时间允许，可以鼓励更多的同学进行分享。"
   ]
  },
  {
   "cell_type": "markdown",
   "metadata": {
    "slideshow": {
     "slide_type": "subslide"
    }
   },
   "source": [
    "### Question\n",
    "\n",
    "《长尾理论》作者克里斯·安德森（Chris Anderson）2008年在《连线》杂志发表了一篇文章《理论的终结：数据将会让科学方法失去效能》\n",
    "\n",
    "    “大量数据以及处理这些数据的统计工具的可用性为我们提供了一个理解世界的全新方式。相关性取代了因果关系，即使缺少了连续模型、统一理论或者任何机制论解释，科学依然可以前进。”\n",
    "\n",
    "\n",
    " "
   ]
  },
  {
   "cell_type": "code",
   "execution_count": 8,
   "metadata": {
    "ExecuteTime": {
     "end_time": "2021-08-02T01:13:27.794097Z",
     "start_time": "2021-08-02T01:13:27.784559Z"
    },
    "slideshow": {
     "slide_type": "fragment"
    }
   },
   "outputs": [
    {
     "data": {
      "text/plain": [
       "'郭金泽'"
      ]
     },
     "execution_count": 8,
     "metadata": {},
     "output_type": "execute_result"
    }
   ],
   "source": [
    "from random import choice\n",
    "pantheon = ['陈之尧','孙逸文','孙玮辰','庄振东','金星妍','李映萱','郭金泽','李星宸','姜心鹭','刘彦均', '连海彤']\n",
    "choice(pantheon) "
   ]
  },
  {
   "cell_type": "markdown",
   "metadata": {
    "slideshow": {
     "slide_type": "subslide"
    }
   },
   "source": [
    "https://www.bitbybitbook.com/\n",
    "    \n",
    "![image.png](img/bit.png)\n",
    "    "
   ]
  },
  {
   "cell_type": "markdown",
   "metadata": {
    "slideshow": {
     "slide_type": "subslide"
    }
   },
   "source": [
    "## 2.1 Introduction\n",
    "Now, in the digital age, the behaviors of billions of people are recorded, stored, and analyzable.\n",
    "\n",
    "Because these types of data are a **by-product** of people’s everyday actions, they are often called **digital traces**. \n",
    "\n",
    "In addition to these traces held by businesses, there are also large amounts of incredibly rich data held by governments. Together, these _business_ and _government_ records are often called **big data**.\n",
    "\n",
    "![bear.png](img/bear.png)"
   ]
  },
  {
   "cell_type": "markdown",
   "metadata": {
    "slideshow": {
     "slide_type": "subslide"
    }
   },
   "source": [
    "A first step to learning from big data is realizing that it is part of a broader category of data that has been used for social research for many years: **observational data**.\n",
    "\n",
    "In addition to business and government records, observational data also includes things like the text of newspaper articles and satellite photos."
   ]
  },
  {
   "cell_type": "markdown",
   "metadata": {
    "slideshow": {
     "slide_type": "subslide"
    }
   },
   "source": [
    "## 2.2 Big data\n",
    "Big data are created and collected by companies and governments for purposes other than research. \n",
    "\n",
    "Using this data for research therefore requires **repurposing**.\n",
    "\n",
    "使用大数据需要对其稍做调整以适应新的目的。"
   ]
  },
  {
   "cell_type": "markdown",
   "metadata": {
    "slideshow": {
     "slide_type": "subslide"
    }
   },
   "source": [
    "- First, increasingly, corporate big data sources come from digital devices in the physical world. \n",
    "- The second important source of big data missed by a narrow focus on online behavior is data created by governments--government administrative records."
   ]
  },
  {
   "cell_type": "markdown",
   "metadata": {
    "slideshow": {
     "slide_type": "subslide"
    }
   },
   "source": [
    "- 3 Vs”: Volume, Variety, and Velocity. \n",
    "- “5 Ws”: Who, What, Where, When, and Why. "
   ]
  },
  {
   "cell_type": "markdown",
   "metadata": {
    "slideshow": {
     "slide_type": "subslide"
    }
   },
   "source": [
    "Social scientists, who are accustomed to working with data designed for research, are typically quick to point out the problems with repurposed data, while ignoring its strengths. \n",
    "\n",
    "On the other hand, data scientists are typically quick to point out the benefits of repurposed data, while ignoring its weaknesses. \n",
    "\n",
    "Naturally, the best approach is a hybrid. "
   ]
  },
  {
   "cell_type": "markdown",
   "metadata": {
    "slideshow": {
     "slide_type": "subslide"
    }
   },
   "source": [
    "## 2.3 Ten common characteristics of big data\n",
    "\n",
    "- generally helpful for research: big, always-on, and nonreactive 海量性、持续性、不反应性\n",
    "\n",
    "- generally problematic for research: incomplete, inaccessible, nonrepresentative, drifting, algorithmically confounded, dirty, and sensitive 不完整、难获取、不具代表性、漂移、算法干扰、脏数据、敏感性"
   ]
  },
  {
   "cell_type": "markdown",
   "metadata": {
    "slideshow": {
     "slide_type": "subslide"
    }
   },
   "source": [
    "### 2.3.1 Big\n",
    "Large datasets are a means to an end; they are not an end in themselves. 大数据是实现目的的手段，不是最终目的。\n",
    "\n",
    "Three specific scientific ends of using big data:\n",
    "- the study of rare events\n",
    "- the study of heterogeneity\n",
    "- to detect small differences"
   ]
  },
  {
   "cell_type": "markdown",
   "metadata": {
    "slideshow": {
     "slide_type": "subslide"
    }
   },
   "source": [
    "### Question\n",
    "\n",
    "- 你见过最大的数据有多大？是哪一个数据？\n",
    "- 你分析过的最大的数据有多大？是什么数据？\n",
    "- 你想要分析的大数据是什么？有多大？\n",
    " "
   ]
  },
  {
   "cell_type": "code",
   "execution_count": 12,
   "metadata": {
    "ExecuteTime": {
     "end_time": "2021-08-02T01:39:08.227495Z",
     "start_time": "2021-08-02T01:39:08.220975Z"
    },
    "slideshow": {
     "slide_type": "fragment"
    }
   },
   "outputs": [
    {
     "data": {
      "text/plain": [
       "'李映萱'"
      ]
     },
     "execution_count": 12,
     "metadata": {},
     "output_type": "execute_result"
    }
   ],
   "source": [
    "choice(pantheon)"
   ]
  },
  {
   "cell_type": "markdown",
   "metadata": {
    "slideshow": {
     "slide_type": "subslide"
    }
   },
   "source": [
    "![image.png](img/big1.png)\n",
    "\n",
    "Jean-Baptiste Michel et al. (2011) Quantitative Analysis of Culture Using Millions of Digitized Books.Science 331, 176 "
   ]
  },
  {
   "cell_type": "markdown",
   "metadata": {
    "slideshow": {
     "slide_type": "subslide"
    }
   },
   "source": [
    "![image.png](img/big2.png)\n",
    " \n",
    "Raj Chetty, et al. (2017) The fading American dream: Trends in absolute income mobility since 1940. Science. 356(6336):398-406. https://opportunityinsights.org/"
   ]
  },
  {
   "cell_type": "markdown",
   "metadata": {
    "slideshow": {
     "slide_type": "subslide"
    }
   },
   "source": [
    "Chetty and colleagues were able to use the tax records from 40 million people to estimate the heterogeneity in intergenerational mobility across regions in the United States. They found, for example, that the probability that a child reaches the top quintile of the national income distribution starting from a family in the bottom quintile is about 13% in San Jose, California, but only about 4% in Charlotte, North Carolina."
   ]
  },
  {
   "cell_type": "markdown",
   "metadata": {
    "slideshow": {
     "slide_type": "subslide"
    }
   },
   "source": [
    "Finally, in addition to studying rare events and studying heterogeneity, large datasets also enable researchers to detect small differences.\n",
    "- Reliably detecting the difference between 1% and 1.1% click-through rates on an ad can translate into millions of dollars in extra revenue.\n",
    "- Picking the more effective intervention could end up saving thousands of additional lives."
   ]
  },
  {
   "cell_type": "markdown",
   "metadata": {
    "slideshow": {
     "slide_type": "subslide"
    }
   },
   "source": [
    "Although bigness is generally a good property when used correctly, I’ve noticed that it can sometimes lead to a conceptual error.\n",
    "- While bigness does reduce the need to worry about random error, it actually increases the need to worry about systematic errors.\n",
    "    - Social bots (Pury 2011; Back, Küfner, and Egloff 2011)\n",
    "\n",
    "Big datasets seem to lead some researchers to ignore how their data was created, which can lead them to get a precise estimate of an unimportant quantity."
   ]
  },
  {
   "cell_type": "markdown",
   "metadata": {
    "slideshow": {
     "slide_type": "subslide"
    }
   },
   "source": [
    "### 2.3.2 Always-on\n",
    "Always-on big data enables the study of unexpected events and real-time measurement."
   ]
  },
  {
   "cell_type": "markdown",
   "metadata": {
    "slideshow": {
     "slide_type": "subslide"
    }
   },
   "source": [
    "First, always-on data collection enables researchers to study unexpected events in ways that would not otherwise be possible. \n",
    "\n",
    "![image.png](img/big3.png)\n",
    "\n",
    "Design used by Budak and Watts (2015) to study the Occupy Gezi protests in Turkey in the summer of 2013. "
   ]
  },
  {
   "cell_type": "markdown",
   "metadata": {
    "ExecuteTime": {
     "end_time": "2020-04-02T13:01:23.217314Z",
     "start_time": "2020-04-02T13:01:23.208024Z"
    },
    "slideshow": {
     "slide_type": "subslide"
    }
   },
   "source": [
    "Studies of Unexpected Events Using Always-On Big Data Sources\n",
    "\n",
    "<table>\n",
    "  <tr>\n",
    "    <th>Unexpected event</th>\n",
    "    <th>Always-on data source</th>\n",
    "      <th>References</th>\n",
    "  </tr>\n",
    "  <tr>\n",
    "    <td>Occupy Gezi movement in Turkey</td>\n",
    "    <td>Twitter</td>\n",
    "    <td>Budak and Watts (2015)</td>\n",
    "  </tr>\n",
    "    <tr>\n",
    "    <td>Umbrella protests in Hong Kong</td>\n",
    "    <td>Weibo</td>\n",
    "    <td>Zhang (2016)</td>\n",
    "  </tr>\n",
    "  \n",
    "  <tr>\n",
    "    <td>Shootings of police in New York City</td>\n",
    "    <td>Stop-and-frisk reports</td>\n",
    "    <td>Legewie (2016)</td>\n",
    "  </tr>\n",
    "    \n",
    "  <tr>\n",
    "    <td>Person joining ISIS</td>\n",
    "    <td>Twitter</td>\n",
    "    <td>Magdy, Darwish, and Weber (2016)</td>\n",
    "  </tr>\n",
    "    \n",
    "  <tr>\n",
    "    <td>September 11, 2001 attack</td>\n",
    "    <td>livejournal.com</td>\n",
    "    <td>Cohn, Mehl, and Pennebaker (2004)</td>\n",
    "  </tr>\n",
    "    \n",
    "  <tr>\n",
    "    <td>September 11, 2001 attack</td>\n",
    "    <td>Pager messages</td>\n",
    "    <td>Back, Küfner, and Egloff (2010), Pury (2011), Back, Küfner, and Egloff (2011)</td>\n",
    "  </tr>\n",
    "\n",
    "</table>\n"
   ]
  },
  {
   "cell_type": "markdown",
   "metadata": {
    "slideshow": {
     "slide_type": "subslide"
    }
   },
   "source": [
    "In addition to studying unexpected events, always-on big data systems also enable researchers to produce real-time estimates, which can be important in settings where policy makers—in government or industry—want to respond based on situational awareness. \n",
    "\n",
    "- social media data can be used to guide emergency response to natural disasters (Castillo 2016)\n",
    "- a variety of different big data sources can be used to produce real-time estimates of economic activity (Choi and Varian 2012)."
   ]
  },
  {
   "cell_type": "markdown",
   "metadata": {
    "slideshow": {
     "slide_type": "subslide"
    }
   },
   "source": [
    "> I do not, however, think that always-on data systems are well suited for tracking changes over very long periods of time. That is because many big data systems are constantly changing—a process that I’ll call drift later."
   ]
  },
  {
   "cell_type": "markdown",
   "metadata": {
    "slideshow": {
     "slide_type": "subslide"
    }
   },
   "source": [
    "### 2.3.3 Nonreactive\n",
    "\n",
    "Measurement in big data sources is much less likely to change behavior."
   ]
  },
  {
   "cell_type": "markdown",
   "metadata": {
    "slideshow": {
     "slide_type": "subslide"
    }
   },
   "source": [
    "One challenge of social research is that people can change their behavior when they know that they are being observed by researchers. Social scientists generally call this **reactivity** (Webb et al. 1966). \n",
    "\n",
    "For example, people can be more generous in laboratory studies than field studies because in the former they are very aware that they are being observed (Levitt and List 2007a)."
   ]
  },
  {
   "cell_type": "markdown",
   "metadata": {
    "ExecuteTime": {
     "end_time": "2020-04-02T14:04:14.115423Z",
     "start_time": "2020-04-02T14:04:14.111886Z"
    },
    "code_folding": [],
    "slideshow": {
     "slide_type": "subslide"
    }
   },
   "source": [
    "One aspect of big data that many researchers find promising is that participants are generally not aware that their data are being captured or they have become so accustomed to this data collection that it no longer changes their behavior. \n",
    "\n",
    "For example, Stephens-Davidowitz (2014) used the prevalence of racist terms in search engine queries to measure racial animus in different regions of the United States. "
   ]
  },
  {
   "cell_type": "markdown",
   "metadata": {
    "ExecuteTime": {
     "end_time": "2020-04-02T14:04:14.115423Z",
     "start_time": "2020-04-02T14:04:14.111886Z"
    },
    "code_folding": [],
    "slideshow": {
     "slide_type": "subslide"
    }
   },
   "source": [
    "<u>Nonreactivity, however, does not ensure that these data are somehow a direct reflection of people’s behavior or attitudes.</u>\n",
    "\n",
    "Even though some big data sources are nonreactive, they are not always free of **social desirability bias**, the tendency for people to want to present themselves in the best possible way.\n",
    "\n",
    "The behavior captured in big data sources is sometimes impacted by the goals of platform owners, an issue of <u>algorithmic confounding</u>."
   ]
  },
  {
   "cell_type": "markdown",
   "metadata": {
    "ExecuteTime": {
     "end_time": "2020-04-02T14:04:14.115423Z",
     "start_time": "2020-04-02T14:04:14.111886Z"
    },
    "code_folding": [],
    "slideshow": {
     "slide_type": "subslide"
    }
   },
   "source": [
    "### 2.3.4 Incomplete\n",
    "\n",
    "No matter how big your big data, it probably doesn’t have the information you want."
   ]
  },
  {
   "cell_type": "markdown",
   "metadata": {
    "ExecuteTime": {
     "end_time": "2020-04-02T14:04:14.115423Z",
     "start_time": "2020-04-02T14:04:14.111886Z"
    },
    "code_folding": [],
    "slideshow": {
     "slide_type": "subslide"
    }
   },
   "source": [
    "Big data tends to be missing three types of information useful for social research: \n",
    "\n",
    "- demographic information about par ticipants, \n",
    "- behavior on other platforms, \n",
    "- and data to operationalize theoretical constructs."
   ]
  },
  {
   "cell_type": "markdown",
   "metadata": {
    "ExecuteTime": {
     "end_time": "2020-04-02T14:04:14.115423Z",
     "start_time": "2020-04-02T14:04:14.111886Z"
    },
    "code_folding": [],
    "slideshow": {
     "slide_type": "subslide"
    }
   },
   "source": [
    "Roughly, **theoretical constructs are abstract ideas** that social scientists study, and operationalizing a\n",
    "theoretical construct means proposing some way to capture that construct with observable data.\n",
    "\n",
    "Social scientists call the match between theoretical constructs and data <big>**construct validity**</big> (Cronbach and Meehl 1955). "
   ]
  },
  {
   "cell_type": "markdown",
   "metadata": {
    "ExecuteTime": {
     "end_time": "2020-04-02T14:04:14.115423Z",
     "start_time": "2020-04-02T14:04:14.111886Z"
    },
    "code_folding": [],
    "slideshow": {
     "slide_type": "subslide"
    }
   },
   "source": [
    "How to test this **claim**: _people who are more intelligent earn more money._ \n",
    "\n",
    "- In order to test this claim, you would need to measure “intelligence.” \n",
    "    - But what is intelligence?\n",
    "    Gardner (2011) argued that there are actually eight different forms of intelligence.\n",
    "\n",
    "- The Raven Progressive Matrices Test\n",
    "    - a well-studied test of analytic intelligence (Carpenter, Just, and Shell 1990)"
   ]
  },
  {
   "cell_type": "markdown",
   "metadata": {
    "ExecuteTime": {
     "end_time": "2020-04-02T14:04:14.115423Z",
     "start_time": "2020-04-02T14:04:14.111886Z"
    },
    "code_folding": [],
    "slideshow": {
     "slide_type": "subslide"
    }
   },
   "source": [
    "In the first study, the researcher found that people who score well on the Raven Progressive Matrices Test have higher reported incomes on their tax returns.\n",
    "\n",
    "In the second study, the researcher found that people on Twitter who used longer words are more likely to mention luxury brands."
   ]
  },
  {
   "cell_type": "markdown",
   "metadata": {
    "ExecuteTime": {
     "end_time": "2020-04-02T14:04:14.115423Z",
     "start_time": "2020-04-02T14:04:14.111886Z"
    },
    "code_folding": [],
    "slideshow": {
     "slide_type": "subslide"
    }
   },
   "source": [
    "As this example illustrates, more data does not automatically solve problems with construct validity.\n",
    "\n",
    "You should doubt the results of the second study whether it involved a million tweets, a billion tweets, or a trillion tweets.\n",
    "\n",
    "\n",
    "\n",
    "\n"
   ]
  },
  {
   "cell_type": "markdown",
   "metadata": {
    "slideshow": {
     "slide_type": "subslide"
    }
   },
   "source": [
    "Examples of Digital Traces That Were Used to Operationalize Theoretical Constructs\n",
    "\n",
    "<table>\n",
    "  <tr>\n",
    "    <th>Data source</th>\n",
    "    <th>Theoretical construct</th>\n",
    "    <th>References</th>\n",
    "  </tr>\n",
    "  <tr>\n",
    "    <td>Email logs from a university (metadata only)</td>\n",
    "    <td>Social relationships</td>\n",
    "    <td>Kossinets and Watts (2006), Kossinets and Watts (2009), De Choudhury et al. (2010)</td>\n",
    "  </tr>\n",
    "  <tr>\n",
    "    <td>Social media posts on Weibo</td>\n",
    "    <td>Civic engagement</td>\n",
    "    <td>Zhang (2016)</td>\n",
    "  </tr>\n",
    "  <tr>\n",
    "    <td>Email logs from a firm (metadata and complete text)</td>\n",
    "    <td>Cultural fit in an organization</td>\n",
    "    <td>Srivastava et al. (2017)</td>\n",
    "  </tr>\n",
    "</table>"
   ]
  },
  {
   "cell_type": "markdown",
   "metadata": {
    "ExecuteTime": {
     "end_time": "2020-04-02T14:04:14.115423Z",
     "start_time": "2020-04-02T14:04:14.111886Z"
    },
    "code_folding": [],
    "slideshow": {
     "slide_type": "subslide"
    }
   },
   "source": [
    "Three Solutions:\n",
    "- The first solution is to actually collect the data you need;\n",
    "- The second main solution is to do what data scientists call user-attribute inference and social scientists call imputation.\n",
    "- A third possible solution is to combine multiple data sources. This process is sometimes called record linkage."
   ]
  },
  {
   "cell_type": "markdown",
   "metadata": {
    "ExecuteTime": {
     "end_time": "2020-04-02T14:04:14.115423Z",
     "start_time": "2020-04-02T14:04:14.111886Z"
    },
    "code_folding": [],
    "slideshow": {
     "slide_type": "subslide"
    }
   },
   "source": [
    "**A book of life** or **a database of ruin**? (Dunn 1946;Ohm 2010)\n",
    "\n",
    "- Each person in the world creates **a Book of Life**. \n",
    "- This Book starts with birth and ends with death. \n",
    "- Its pages are made up of records of the principal events in life. \n",
    "- Record linkage is the name given to the process of assembling the pages of this book into a volume.\n",
    "\n"
   ]
  },
  {
   "cell_type": "markdown",
   "metadata": {
    "ExecuteTime": {
     "end_time": "2020-04-02T14:04:14.115423Z",
     "start_time": "2020-04-02T14:04:14.111886Z"
    },
    "code_folding": [],
    "slideshow": {
     "slide_type": "subslide"
    }
   },
   "source": [
    "### 2.3.5 Inaccessible\n",
    "Data held by companies and governments are difficult for researchers to access."
   ]
  },
  {
   "cell_type": "markdown",
   "metadata": {
    "ExecuteTime": {
     "end_time": "2020-04-02T14:04:14.115423Z",
     "start_time": "2020-04-02T14:04:14.111886Z"
    },
    "code_folding": [],
    "slideshow": {
     "slide_type": "subslide"
    }
   },
   "source": [
    "**The Utah Data Center**\n",
    "\n",
    "In May 2014, the US National Security Agency opened a data center in rural Utah with an awkward name, the Intelligence Community Comprehensive National Cybersecurity Initiative Data Center."
   ]
  },
  {
   "cell_type": "markdown",
   "metadata": {
    "ExecuteTime": {
     "end_time": "2020-04-02T14:04:14.115423Z",
     "start_time": "2020-04-02T14:04:14.111886Z"
    },
    "code_folding": [],
    "slideshow": {
     "slide_type": "subslide"
    }
   },
   "source": [
    "One report alleges that it is able to store and process all forms of communication including “the complete contents of private emails, cell phone calls, and Google searches, as well as all sorts of personal data trails—parking receipts, travel itineraries, bookstore purchases, and other digital ‘pocket litter’” (Bamford 2012). "
   ]
  },
  {
   "cell_type": "markdown",
   "metadata": {
    "ExecuteTime": {
     "end_time": "2020-04-02T14:04:14.115423Z",
     "start_time": "2020-04-02T14:04:14.111886Z"
    },
    "code_folding": [],
    "slideshow": {
     "slide_type": "subslide"
    }
   },
   "source": [
    "These data are inaccessible not because people at companies and governments are stupid, lazy, or uncaring. Rather, there are serious legal, business, and ethical barriers that prevent data access."
   ]
  },
  {
   "cell_type": "markdown",
   "metadata": {
    "ExecuteTime": {
     "end_time": "2020-04-02T14:04:14.115423Z",
     "start_time": "2020-04-02T14:04:14.111886Z"
    },
    "code_folding": [],
    "slideshow": {
     "slide_type": "subslide"
    }
   },
   "source": [
    "**The story of Abdur Chowdhury**\n",
    "\n",
    "In 2006, when he was the head of research at AOL, he intentionally released to the research community what he thought were anonymized search queries from 650,000 AOL users.\n",
    "\n",
    "Reporters from the New York Times were able to identify someone in the dataset with ease (Barbaro and Zeller 2006).\n",
    "\n",
    "Ultimately, Chowdhury was fired, and AOL’s chief technology officer resigned (Hafner 2006). "
   ]
  },
  {
   "cell_type": "markdown",
   "metadata": {
    "ExecuteTime": {
     "end_time": "2020-04-02T14:04:14.115423Z",
     "start_time": "2020-04-02T14:04:14.111886Z"
    },
    "code_folding": [],
    "slideshow": {
     "slide_type": "subslide"
    }
   },
   "source": [
    "Researchers can, however, sometimes gain access to data that is inac- cessible to the general public. \n",
    "\n",
    "Four ingredients in successful partnerships: \n",
    "- researcher interest, \n",
    "- researcher capability, \n",
    "- company interest, \n",
    "- company capability. \n",
    "\n"
   ]
  },
  {
   "cell_type": "markdown",
   "metadata": {
    "ExecuteTime": {
     "end_time": "2020-04-02T14:04:14.115423Z",
     "start_time": "2020-04-02T14:04:14.111886Z"
    },
    "code_folding": [],
    "slideshow": {
     "slide_type": "subslide"
    }
   },
   "source": [
    "- First, you will probably not be able to share your data with other researchers, which means that other researchers will not be able to verify and extend your results. \n",
    "- Second, the questions that you can ask may be limited; companies are unlikely to allow research that could make them look bad. \n",
    "- Finally, these partnerships can create at least the appearance of a conflict of interest, where people might think that your results were influenced by your partnerships. "
   ]
  },
  {
   "cell_type": "markdown",
   "metadata": {
    "ExecuteTime": {
     "end_time": "2020-04-02T14:04:14.115423Z",
     "start_time": "2020-04-02T14:04:14.111886Z"
    },
    "code_folding": [],
    "slideshow": {
     "slide_type": "subslide"
    }
   },
   "source": [
    "In summary, lots of big data are inaccessible to researchers. There are serious legal, business, and ethical barriers that prevent data access, and these barriers will not go away as technology improves, because they are not technical barriers. "
   ]
  },
  {
   "cell_type": "markdown",
   "metadata": {
    "ExecuteTime": {
     "end_time": "2020-04-02T14:04:14.115423Z",
     "start_time": "2020-04-02T14:04:14.111886Z"
    },
    "code_folding": [],
    "slideshow": {
     "slide_type": "subslide"
    }
   },
   "source": [
    "### 2.3.6 Nonrepresentative\n",
    "Nonrepresentative data are bad for out-of-sample generalizations, but can be quite useful for within-sample comparisons.\n"
   ]
  },
  {
   "cell_type": "markdown",
   "metadata": {
    "ExecuteTime": {
     "end_time": "2020-04-02T14:04:14.115423Z",
     "start_time": "2020-04-02T14:04:14.111886Z"
    },
    "code_folding": [],
    "slideshow": {
     "slide_type": "subslide"
    }
   },
   "source": [
    "Some social scientists are accustomed to working with data that comes from a probabilistic random sample from a well-defined population, such as all adults in a particular country. This kind of data is called representative data because the sample “represents” the larger population."
   ]
  },
  {
   "cell_type": "markdown",
   "metadata": {
    "ExecuteTime": {
     "end_time": "2020-04-02T14:04:14.115423Z",
     "start_time": "2020-04-02T14:04:14.111886Z"
    },
    "code_folding": [],
    "slideshow": {
     "slide_type": "subslide"
    }
   },
   "source": [
    "At the most extreme, some skeptics seem to believe that nothing can be learned from nonrepresentative data. Fortunately, these skeptics are only partially right. "
   ]
  },
  {
   "cell_type": "markdown",
   "metadata": {
    "ExecuteTime": {
     "end_time": "2020-04-02T14:04:14.115423Z",
     "start_time": "2020-04-02T14:04:14.111886Z"
    },
    "code_folding": [],
    "slideshow": {
     "slide_type": "subslide"
    }
   },
   "source": [
    "**John Snow’s study of the 1853–54 cholera outbreak in London**\n",
    "\n",
    "At the time, many doctors believed that cholera was caused by “bad air,” but Snow believed that it was an infectious disease, perhaps spread by sewage-laced drinking water. \n",
    "\n",
    "To test this idea, Snow took advantage of what we might now call a natural experiment. He compared the cholera rates of households served by two different water companies: Lambeth and Southwark & Vauxhall."
   ]
  },
  {
   "cell_type": "markdown",
   "metadata": {
    "ExecuteTime": {
     "end_time": "2020-04-02T14:04:14.115423Z",
     "start_time": "2020-04-02T14:04:14.111886Z"
    },
    "code_folding": [],
    "slideshow": {
     "slide_type": "subslide"
    }
   },
   "source": [
    "Lambeth moved its intake point upstream from the main sewage discharge in London, whereas Southwark & Vauxhall left their intake pipe downstream from the sewage discharge. When Snow compared the death rates from cholera in households served by the two companies, he found that: \n",
    "\n",
    "    Customers of Southwark & Vauxhall—the company that was providing customers sewage- tainted water—were 10 times more likely to die from cholera. "
   ]
  },
  {
   "cell_type": "markdown",
   "metadata": {
    "ExecuteTime": {
     "end_time": "2020-04-02T14:04:14.115423Z",
     "start_time": "2020-04-02T14:04:14.111886Z"
    },
    "code_folding": [],
    "slideshow": {
     "slide_type": "subslide"
    }
   },
   "source": [
    "This result provides strong scientific evidence for Snow’s argument about the cause of cholera, even though it is not based on a representative sample of people in London.\n",
    "\n",
    "The data from these two companies, however, would not be ideal for answering a different question: what was the prevalence of cholera in London during the outbreak? For that second question, which is also important, it would be much better to have a representative sample of people from London."
   ]
  },
  {
   "cell_type": "markdown",
   "metadata": {
    "ExecuteTime": {
     "end_time": "2020-04-02T14:04:14.115423Z",
     "start_time": "2020-04-02T14:04:14.111886Z"
    },
    "code_folding": [],
    "slideshow": {
     "slide_type": "subslide"
    }
   },
   "source": [
    "As Snow’s work illustrates, there are some scientific questions for which nonrepresentative data can be quite effective, and there are others for which it is not well suited. "
   ]
  },
  {
   "cell_type": "markdown",
   "metadata": {
    "ExecuteTime": {
     "end_time": "2020-04-02T14:04:14.115423Z",
     "start_time": "2020-04-02T14:04:14.111886Z"
    },
    "code_folding": [],
    "slideshow": {
     "slide_type": "subslide"
    }
   },
   "source": [
    "**The British Doctors Study** \n",
    "\n",
    "Richard Doll and A. Bradford Hill followed approximately 25,000 male doctors for several years and compared their death rates based on the amount that they smoked when the study began.\n",
    "\n",
    "Doll and Hill (1954) found a strong exposure–response relationship: the more heavily people smoked, the more likely they were to die from lung cancer. "
   ]
  },
  {
   "cell_type": "markdown",
   "metadata": {
    "ExecuteTime": {
     "end_time": "2020-04-02T14:04:14.115423Z",
     "start_time": "2020-04-02T14:04:14.111886Z"
    },
    "code_folding": [],
    "slideshow": {
     "slide_type": "subslide"
    }
   },
   "source": [
    "Of course, it would be unwise to estimate the prevalence of lung cancer among all British people based on this group of male doctors, but the within-sample comparison still provides evidence that smoking causes lung cancer."
   ]
  },
  {
   "cell_type": "markdown",
   "metadata": {
    "ExecuteTime": {
     "end_time": "2020-04-02T14:04:14.115423Z",
     "start_time": "2020-04-02T14:04:14.111886Z"
    },
    "code_folding": [],
    "slideshow": {
     "slide_type": "subslide"
    }
   },
   "source": [
    "The generalization from a sample to the population from which it is drawn is a largely a statistical issue, but questions about the **transportability of pattern** found in one group to another group is largely a nonstatistical issue (Pearl and Bareinboim 2014; Pearl 2015)."
   ]
  },
  {
   "cell_type": "markdown",
   "metadata": {
    "ExecuteTime": {
     "end_time": "2020-04-02T14:04:14.115423Z",
     "start_time": "2020-04-02T14:04:14.111886Z"
    },
    "code_folding": [],
    "slideshow": {
     "slide_type": "subslide"
    }
   },
   "source": [
    "**A study of the 2009 German parliamentary election by Andranik Tumasjan and colleagues (2010)** \n",
    "\n",
    "By analyzing more than 100,000 tweets, they found that the proportion of tweets mentioning a political party matched the proportion of votes that party received in the parliamentary election."
   ]
  },
  {
   "cell_type": "markdown",
   "metadata": {
    "ExecuteTime": {
     "end_time": "2020-04-02T14:04:14.115423Z",
     "start_time": "2020-04-02T14:04:14.111886Z"
    },
    "code_folding": [],
    "slideshow": {
     "slide_type": "subslide"
    }
   },
   "source": [
    "![image.png](img/big4.png)\n",
    "\n",
    "A follow-up paper by Andreas Jungherr, Pascal Jürgens, and Harald Schoen (2012) pointed out that the original analysis had excluded the political party that had received the most mentions on Twitter: the Pirate Party, a small party that fights government regulation of the Internet. "
   ]
  },
  {
   "cell_type": "markdown",
   "metadata": {
    "slideshow": {
     "slide_type": "subslide"
    }
   },
   "source": [
    "To conclude, many big data sources are not representative samples from some well-defined population. For questions that require generalizing results from the sample to the population from which it was drawn, this is a serious problem. But for questions about within-sample comparisons, nonrepresentative data can be powerful, so long as researchers are clear about the characteristics of their sample and support claims about transportability with theoretical or empirical evidence. In fact, my hope is that big data sources will enable researchers to make more within-sample comparisons in many nonrepresentative groups, and my guess is that estimates from many different groups will do more to advance social research than a single estimate from a probabilistic random sample."
   ]
  },
  {
   "cell_type": "markdown",
   "metadata": {
    "slideshow": {
     "slide_type": "subslide"
    }
   },
   "source": [
    "### 2.3.7 Drifting\n",
    "Population drift, usage drift, and system drift make it hard to use big data sources to study long-term trends.\n"
   ]
  },
  {
   "cell_type": "markdown",
   "metadata": {
    "slideshow": {
     "slide_type": "subslide"
    }
   },
   "source": [
    "In order to reliably measure change, however, the measurement system itself must be stable. In the words of sociologist Otis Dudley Duncan, “if you want to measure change, don’t change the measure” (Fischer 2011)."
   ]
  },
  {
   "cell_type": "markdown",
   "metadata": {
    "slideshow": {
     "slide_type": "subslide"
    }
   },
   "source": [
    "Unfortunately, many big data systems—especially business systems—are changing all the time, a process that is called drift. \n",
    "\n",
    "In particular, these systems change in three main ways: \n",
    "- population drift (change in who is using them), \n",
    "- behavioral drift (change in how people are using them), and \n",
    "- system drift (change in the system itself). "
   ]
  },
  {
   "cell_type": "markdown",
   "metadata": {
    "slideshow": {
     "slide_type": "subslide"
    }
   },
   "source": [
    "For example, during the US Presidential election of 2012 the proportion of tweets about politics that were written by women fluctuated from day to day (Diaz et al. 2016). "
   ]
  },
  {
   "cell_type": "markdown",
   "metadata": {
    "slideshow": {
     "slide_type": "subslide"
    }
   },
   "source": [
    "For example, during the 2013 Occupy Gezi protests in Turkey, protesters changed their use of hashtags as the protest evolved. "
   ]
  },
  {
   "cell_type": "markdown",
   "metadata": {
    "slideshow": {
     "slide_type": "subslide"
    }
   },
   "source": [
    "For example, over time, Facebook has increased the limit on the length of status updates."
   ]
  },
  {
   "cell_type": "markdown",
   "metadata": {
    "slideshow": {
     "slide_type": "subslide"
    }
   },
   "source": [
    "### 2.3.8 Algorithmically confounded\n",
    "\n",
    "Behavior in big data systems is not natural; it is driven by the engineering goals of the systems.\n"
   ]
  },
  {
   "cell_type": "markdown",
   "metadata": {
    "slideshow": {
     "slide_type": "subslide"
    }
   },
   "source": [
    "The ways that the goals of system designers can introduce patterns into data is called algorithmic confounding. "
   ]
  },
  {
   "cell_type": "markdown",
   "metadata": {
    "slideshow": {
     "slide_type": "subslide"
    }
   },
   "source": [
    "On Facebook there are an anomalously high number of users with approximately 20 friends, as was discovered by Johan Ugander and colleagues (2011).\n",
    "- Facebook encouraged people with few connections on Facebook to make more friends until they reached 20 friends. "
   ]
  },
  {
   "cell_type": "markdown",
   "metadata": {
    "slideshow": {
     "slide_type": "subslide"
    }
   },
   "source": [
    "In other words, the surprisingly high number of people with about 20 friends tells us more about Facebook than about human behavior."
   ]
  },
  {
   "cell_type": "markdown",
   "metadata": {
    "slideshow": {
     "slide_type": "subslide"
    }
   },
   "source": [
    "There is an even trickier version of algorithmic confounding that occurs when designers of online systems are aware of social theories and then bake these theories into the working of their systems. \n",
    "- Social scientists call this **performativity**(表演性): \n",
    "    - when a theory changes the world in such a way that it bring the world more into line with the theory. "
   ]
  },
  {
   "cell_type": "markdown",
   "metadata": {
    "slideshow": {
     "slide_type": "subslide"
    }
   },
   "source": [
    "One example of a pattern created by performativity is transitivity in online social networks.\n",
    "\n",
    "However, the magnitude of transitivity in the Facebook social graph is partially driven by algorithmic confounding. \n",
    "- That is, data scientists at Facebook knew of the empirical and theoretical research about transitivity and then baked it into how Facebook works. Facebook has a “People You May Know” feature that suggests new friends, and one way that Facebook decides who to suggest to you is transitivity. "
   ]
  },
  {
   "cell_type": "markdown",
   "metadata": {
    "slideshow": {
     "slide_type": "subslide"
    }
   },
   "source": [
    "The theory of transitivity brings the world into line with the predictions of the theory (Zignani et al. 2014; Healy 2015). "
   ]
  },
  {
   "cell_type": "markdown",
   "metadata": {
    "slideshow": {
     "slide_type": "subslide"
    }
   },
   "source": [
    "Algorithmic confounding was one possible explanation for the gradual breakdown of Google Flu Trends.\n",
    "\n",
    "We should be cautious about machines, social bots, and digital media."
   ]
  },
  {
   "cell_type": "markdown",
   "metadata": {
    "slideshow": {
     "slide_type": "subslide"
    }
   },
   "source": [
    "### 2.3.9 Dirty\n",
    "Big data sources can be loaded with junk and spam.\n"
   ]
  },
  {
   "cell_type": "markdown",
   "metadata": {
    "slideshow": {
     "slide_type": "subslide"
    }
   },
   "source": [
    "Cleaning big data sources seems to be more difficult. \n",
    "- the ultimate source of this difficulty is that many of these big data sources were never intended to be used for research \n",
    "- they are not collected, stored, and documented in a way that facilitates data cleaning."
   ]
  },
  {
   "cell_type": "markdown",
   "metadata": {
    "slideshow": {
     "slide_type": "subslide"
    }
   },
   "source": [
    "![image.png](img/big5.png)\n",
    "\n",
    "Back and colleagues’ (2010) study of the emotional response to the attacks of September 11, 2001."
   ]
  },
  {
   "cell_type": "markdown",
   "metadata": {
    "slideshow": {
     "slide_type": "subslide"
    }
   },
   "source": [
    "Originally, Back, Küfner, and Egloff (2010) reported a pattern of increasing anger throughout the day. However, most of these apparently angry messages were generated by a single pager that repeatedly sent out the following message: \n",
    "> “Reboot NT machine [name] in cabinet [name] at [location]:CRITICAL:[date and time]”. \n",
    "\n",
    "With this message removed, the apparent increase in anger disappears (Pury 2011; Back, Küfner, and Egloff 2011). "
   ]
  },
  {
   "cell_type": "markdown",
   "metadata": {
    "slideshow": {
     "slide_type": "subslide"
    }
   },
   "source": [
    "While dirty data that is created unintentionally,there are also some online systems that attract intentional spammers.\n",
    "\n",
    "For example, political activity on Twitter seems to include at least some reasonably sophisticated spam, whereby some political causes are intentionally made to look more popular than they actually are (Ratkiewicz et al. 2011).\n",
    "\n",
    "For example, many edits to Wikipedia are created by automated bots (Geiger 2014)."
   ]
  },
  {
   "cell_type": "markdown",
   "metadata": {
    "slideshow": {
     "slide_type": "subslide"
    }
   },
   "source": [
    "The best way to avoid being fooled by dirty data is to understand as much as possible about how your data were created."
   ]
  },
  {
   "cell_type": "markdown",
   "metadata": {
    "slideshow": {
     "slide_type": "subslide"
    }
   },
   "source": [
    "### 2.3.10 Sensitive\n",
    "Some of the information that companies and governments have is sensitive."
   ]
  },
  {
   "cell_type": "markdown",
   "metadata": {
    "slideshow": {
     "slide_type": "subslide"
    }
   },
   "source": [
    "The Netflix Prize. \n",
    "\n",
    "In 2006, Netflix released 100 million movie ratings provided by almost 500,000 members and had an open call where people from all over the world submitted algorithms that could improve Netflix’s ability to recommend movies. \n",
    "\n",
    "Arvind Narayanan and Vitaly Shmatikov (2008) showed that it was possible to learn about specific people’s movie ratings using a trick"
   ]
  },
  {
   "cell_type": "markdown",
   "metadata": {
    "slideshow": {
     "slide_type": "subslide"
    }
   },
   "source": [
    "In fact, in response to the release and re-identification of the data, a closeted lesbian woman joined a class-action suit against Netflix. Here’s how the problem was expressed in this lawsuit (Singel 2009):\n",
    "\n",
    "> “[M]ovie and rating data contains information of a . . . highly personal and sensitive nature. The member’s movie data exposes a Netflix mem- ber’s personal interest and/or struggles with various highly personal is- sues, including sexuality, mental illness, recovery from alcoholism, and victimization from incest, physical abuse, domestic violence, adultery, and rape.”"
   ]
  },
  {
   "cell_type": "markdown",
   "metadata": {
    "slideshow": {
     "slide_type": "subslide"
    }
   },
   "source": [
    "In the digital age companies and governments are able to collect data at a scale that was not possible previously, but these data were not collected by researchers for researchers.\n",
    "- 3 Pros: big, always-on, and nonreactive\n",
    "- 7 Cons: incomplete, inaccessible, nonrepresentative, drifting, algorithmically confounded, dirty, and sensitive\n",
    "\n",
    "Government data tends to be less nonrepresentative, less algorithmically confounded, and less drifting. One the other hand, business administrative records tend to be more always-on. "
   ]
  },
  {
   "cell_type": "markdown",
   "metadata": {
    "slideshow": {
     "slide_type": "subslide"
    }
   },
   "source": [
    "### Question\n",
    "\n",
    "[Bollen, Mao, and Zeng (2011)](https://doi.org/10.1016/j.jocs.2010.12.007) claims that data from Twitter can be used to predict the stock market. This finding led to the creation of a hedge fund—**Derwent Capital Markets**—to invest in the stock market based on data collected from Twitter ([Jordan 2010](http://www.bloomberg.com/news/articles/2010-12-22/hedge-fund-will-track-twitter-to-predict-stockmarket-movements)). What evidence would you want to see before putting your money in that fund?\n",
    " "
   ]
  },
  {
   "cell_type": "code",
   "execution_count": 13,
   "metadata": {
    "ExecuteTime": {
     "end_time": "2021-08-02T03:06:10.591944Z",
     "start_time": "2021-08-02T03:06:10.582168Z"
    },
    "slideshow": {
     "slide_type": "fragment"
    }
   },
   "outputs": [
    {
     "data": {
      "text/plain": [
       "'陈之尧'"
      ]
     },
     "execution_count": 13,
     "metadata": {},
     "output_type": "execute_result"
    }
   ],
   "source": [
    "choice(pantheon)"
   ]
  },
  {
   "cell_type": "markdown",
   "metadata": {
    "slideshow": {
     "slide_type": "subslide"
    }
   },
   "source": [
    "\n",
    "---\n",
    "---\n",
    "\n",
    "## 2.4 Research Strategies With Big Data\n",
    "\n",
    "\n",
    "\n",
    "---\n",
    "---\n",
    "\n",
    "- counting things\n",
    "- forecasting things\n",
    "- approximating experiments.\n"
   ]
  },
  {
   "cell_type": "markdown",
   "metadata": {
    "slideshow": {
     "slide_type": "subslide"
    }
   },
   "source": [
    "- motivation by absence \n",
    "    - does not usually lead to good research.\n",
    "- a better strategy is to look for research questions that are important or interesting (or ideally both)"
   ]
  },
  {
   "cell_type": "markdown",
   "metadata": {
    "slideshow": {
     "slide_type": "subslide"
    }
   },
   "source": [
    "### 2.4.1 Counting things\n",
    "\n",
    "Simple counting can be interesting if you combine a good question with good data."
   ]
  },
  {
   "cell_type": "markdown",
   "metadata": {
    "slideshow": {
     "slide_type": "subslide"
    }
   },
   "source": [
    "One way to think about important research is that it has some measurable impact or feeds into an important decision by policy makers. \n",
    "\n",
    "- For example, measuring the rate of unemployment is important because it is an indicator of the economy that drives policy decisions. \n",
    "\n",
    "Counting in very particular settings can reveal important insights into more general ideas about how social systems work. \n"
   ]
  },
  {
   "cell_type": "markdown",
   "metadata": {
    "slideshow": {
     "slide_type": "subslide"
    }
   },
   "source": [
    "> What makes these particular counting exercises interesting is not the data itself, it comes from these more general ideas.\n",
    "\n",
    "![torch.gif](img/torch.gif)\n",
    "\n"
   ]
  },
  {
   "cell_type": "markdown",
   "metadata": {
    "slideshow": {
     "slide_type": "subslide"
    }
   },
   "source": [
    "**Henry Farber’s (2015) study of the behavior of New York City taxi drivers**\n",
    "\n",
    "- Neoclassical models in economics predict that taxi drivers will work more on days where they have higher hourly wages. \n",
    "- Alternatively, models from behavioral economics predict exactly the opposite.\n",
    "\n",
    "So, do drivers work more hours on days with higher hourly wages (as predicted by the neoclassical models) or more hours on days with lower hourly wages (as predicted by behavioral economic models)?\n",
    "\n"
   ]
  },
  {
   "cell_type": "markdown",
   "metadata": {
    "slideshow": {
     "slide_type": "subslide"
    }
   },
   "source": [
    "**Taxi meter data** \n",
    "- start time, start location, end time, end location, fare, and tip (if the tip was paid with a credit card)\n",
    "- https://www1.nyc.gov/site/tlc/about/tlc-trip-record-data.page\n",
    "\n",
    "Farber found that most drivers work more on days when wages are higher, consistent with the neoclassical theory."
   ]
  },
  {
   "cell_type": "markdown",
   "metadata": {
    "slideshow": {
     "slide_type": "subslide"
    }
   },
   "source": [
    "In addition, Farber was able to use the size of the data for a better understanding of heterogeneity and dynamics. \n",
    "- Over time, newer drivers gradually learn to work more hours on high-wage days (e.g., they learn to behave as the neoclassical model predicts). \n",
    "- And new drivers who behave more like target earners are more likely to quit being taxi drivers. \n",
    "\n",
    "Both of these more subtle findings, which help explain the observed behavior of current drivers, were only possible because of the size of the dataset. They were impossible to detect in earlier studies that used paper trip sheets from a small number of taxi drivers over a short period of time (Camerer et al. 1997)."
   ]
  },
  {
   "cell_type": "markdown",
   "metadata": {
    "slideshow": {
     "slide_type": "subslide"
    }
   },
   "source": [
    "> The key to Farber’s research was bringing an interesting question to the data, a question that has larger implications beyond just this specific setting.\n",
    "\n",
    "![bear.png](img/bear.png)"
   ]
  },
  {
   "cell_type": "markdown",
   "metadata": {
    "slideshow": {
     "slide_type": "subslide"
    }
   },
   "source": [
    "**Online censorship research** by Gary King, Jennifer Pan, and Molly Roberts (2013)\n",
    "\n",
    "Scholars actually have conflicting expectations about which kinds of posts are most likely to get deleted. \n",
    "\n",
    "- posts that are critical of the state\n",
    "- posts that encourage collective behavior, such as protests."
   ]
  },
  {
   "cell_type": "markdown",
   "metadata": {
    "slideshow": {
     "slide_type": "subslide"
    }
   },
   "source": [
    "- Crawling more than 1,000 Chinese social media websites, finding relevant posts, and then revisiting these posts to see which were subsequently deleted.\n",
    "- King and colleagues had obtained about 11 million posts on 85 different prespecified topics, about 2 million had been censored.\n",
    "- King and colleagues needed a way to label their 11 million social media posts as to whether they were (1) critical of the state, (2) supportive of the state, or (3) irrelevant or factual reports about the events. "
   ]
  },
  {
   "cell_type": "markdown",
   "metadata": {
    "slideshow": {
     "slide_type": "subslide"
    }
   },
   "source": [
    "![image.png](img/big6.png)"
   ]
  },
  {
   "cell_type": "markdown",
   "metadata": {
    "slideshow": {
     "slide_type": "subslide"
    }
   },
   "source": [
    "- the probability of a post being deleted was unrelated to whether it was critical of the state or supportive of the state.\n",
    "- only three types of posts were regularly censored: pornography, criticism of censors, and those that had collective action potential (i.e., the possibility of leading to large-scale protests). \n",
    "\n",
    "By observing a huge number of posts that were deleted and posts that were not deleted, King and colleagues were able to learn how the censors work just by watching and counting. "
   ]
  },
  {
   "cell_type": "markdown",
   "metadata": {
    "slideshow": {
     "slide_type": "subslide"
    }
   },
   "source": [
    "### 2.4.2 Forecasting and nowcasting\n",
    "Predicting the future is hard, but predicting the present is easier."
   ]
  },
  {
   "cell_type": "markdown",
   "metadata": {
    "slideshow": {
     "slide_type": "subslide"
    }
   },
   "source": [
    "Each year, seasonal influenza epidemics cause millions of illnesses and hundreds\n",
    "of thousands of deaths around the world. \n",
    "- The 1918 influenza outbreak, for example, is estimated to have killed between 50 and 100 million people (Morens and Fauci 2007). \n",
    "\n",
    "Centers for Disease Control and Prevention (CDC) regularly and systematically collect information from carefully selected doctors\n",
    "- Although this system produces high-quality data, it has a reporting lag."
   ]
  },
  {
   "cell_type": "markdown",
   "metadata": {
    "slideshow": {
     "slide_type": "subslide"
    }
   },
   "source": [
    "**Nowcasting**\n",
    "- a term derived from combining “now” and “forecasting.” \n",
    "\n",
    "Rather than predicting the future, nowcasting attempts to use ideas from forecasting to measure the current state of the world: \n",
    "- it attempts to “predict the present” (Choi and Varian 2012). \n",
    "\n",
    "Nowcasting has the potential to be especially useful to governments and companies that require timely and accurate measures of the world."
   ]
  },
  {
   "cell_type": "markdown",
   "metadata": {
    "slideshow": {
     "slide_type": "subslide"
    }
   },
   "source": [
    "**Google Flu Trends**\n",
    " \n",
    "- Using data from 2003 to 2007, Ginsberg and colleagues estimated the relationship between the prevalence of influenza in the CDC data and the search volume for 50 million distinct terms. \n",
    "- researchers found a set of 45 different queries that seemed to be most predictive of the CDC flu prevalence data. \n",
    "- Ginsberg and colleagues tested their model during the 2007–2008 influenza season. \n",
    " "
   ]
  },
  {
   "cell_type": "markdown",
   "metadata": {
    "slideshow": {
     "slide_type": "subslide"
    }
   },
   "source": [
    "**Google Flu Trends**\n",
    " \n",
    "- Ginsberg and colleagues found that their procedures could indeed make useful and accurate nowcasts.\n",
    "    \n",
    "\n",
    "![image.png](img/big7.png)"
   ]
  },
  {
   "cell_type": "markdown",
   "metadata": {
    "slideshow": {
     "slide_type": "subslide"
    }
   },
   "source": [
    "First, the performance of Google Flu Trends was actually not much better than that of a simple model that estimates the amount of flu based on a linear extrapolation from the two most recent measurements of flu prevalence (Goel et al. 2010). And, over some time periods, Google Flu Trends was actually worse than this simple approach (Lazer et al. 2014). \n",
    "\n",
    "The second important caveat about Google Flu Trends is that its ability to predict the CDC flu data was prone to short-term failure and long-term decay because of drift and algorithmic confounding. "
   ]
  },
  {
   "cell_type": "markdown",
   "metadata": {
    "slideshow": {
     "slide_type": "subslide"
    }
   },
   "source": [
    "By using more careful methods, Lazer et al. (2014) and Yang, Santillana, and Kou (2015) were able to avoid these two problems."
   ]
  },
  {
   "cell_type": "markdown",
   "metadata": {
    "slideshow": {
     "slide_type": "subslide"
    }
   },
   "source": [
    "### 2.4.3 Approximating experiments 近似实验\n",
    "\n",
    "We can approximate experiments that we can’t do. Two approaches that especially benefit from the digital age are \n",
    "- natural experiments \n",
    "- matching."
   ]
  },
  {
   "cell_type": "markdown",
   "metadata": {
    "slideshow": {
     "slide_type": "subslide"
    }
   },
   "source": [
    "Highly recommend reading one of the many excellent books on causal inference \n",
    "- Imbens and Rubin 2015 \n",
    "- Pearl 2009\n",
    "- Morgan and Winship 2014"
   ]
  },
  {
   "cell_type": "markdown",
   "metadata": {
    "slideshow": {
     "slide_type": "subslide"
    }
   },
   "source": [
    "One approach to making causal estimates from non-experimental data is to look for an event that has randomly assigned a treatment to some people and not to others. These situations are called **natural experiments**."
   ]
  },
  {
   "cell_type": "markdown",
   "metadata": {
    "slideshow": {
     "slide_type": "subslide"
    }
   },
   "source": [
    "**The research of Joshua Angrist (1990) measuring the effect of military service on earnings**\n",
    "\n",
    "- During the war in Vietnam, the US government held a lottery to randomly call young men into service.\n",
    "- Joshua Angrist (1990) combined the draft lottery with earnings data from the Social Security Administration to estimate the effect of military service on earnings.\n",
    "- The earnings of veterans were about 15% less than the earnings of comparable non-veterans."
   ]
  },
  {
   "cell_type": "markdown",
   "metadata": {
    "slideshow": {
     "slide_type": "subslide"
    }
   },
   "source": [
    "As this example illustrates, sometimes social, political, or natural forces create experiments that can be leveraged by researchers, and sometimes the effects of those experiments are captured in always-on big data sources. \n",
    "\n",
    "**random (or as if random) variation** + **always-on data** = natural experiment"
   ]
  },
  {
   "cell_type": "markdown",
   "metadata": {
    "slideshow": {
     "slide_type": "subslide"
    }
   },
   "source": [
    "The effect of working with productive colleagues on a worker’s productivity\n",
    "\n",
    "Alexandre Mas and Enrico Moretti (2009) studied cashiers at a particular supermarket.\n",
    "- each cashier had different co-workers at different times of day.\n",
    "- a digital-age checkout system\n",
    "- a cashier was assigned co-workers who were 10% more productive than average, her productivity would increase by 1.5%. "
   ]
  },
  {
   "cell_type": "markdown",
   "metadata": {
    "slideshow": {
     "slide_type": "subslide"
    }
   },
   "source": [
    "In practice, researchers use two different strategies for finding natural experiments, both of which can be fruitful. \n",
    "- Some researchers start with an always-on data source and look for random events in the world; \n",
    "- others start with a random event in the world and look for data sources that capture its impact."
   ]
  },
  {
   "cell_type": "markdown",
   "metadata": {
    "slideshow": {
     "slide_type": "subslide"
    }
   },
   "source": [
    "**Examples of Natural Experiments Using Big Data Sources**\n",
    "\n",
    "| Substantive focus                      | Source of natural experiment | Always-on data source   | Reference                                |\n",
    "| :------------------------------------- | :--------------------------- | :---------------------- | :--------------------------------------- |\n",
    "| Peer effects on productivity           | Scheduling process           | Checkout data           | Mas and Moretti (2009)                   |\n",
    "| Friendship formation                   | Hurricanes                   | Facebook                | Phan and Airoldi (2015)                  |\n",
    "| Spread of emotions                     | Rain                         | Facebook                | Lorenzo Coviello et al. (2014)           |\n",
    "| Peer-to-peer economic transfers        | Earthquake                   | Mobile money data       | Blumenstock, Fafchamps, and Eagle (2011) |\n",
    "| Personal consumption behavior          | 2013 US government shutdown  | Personal finance data   | Baker and Yannelis (2015)                |\n",
    "| Economic impact of recommender systems | Various                      | Browsing data at Amazon | Sharma, Hofman, and Watts (2015)         |\n",
    "| Effect of stress on unborn babies      | 2006 Israel–Hezbollah war    | Birth records           | Torche and Shwed (2015)                  |\n",
    "| Reading behavior on Wikipedia          | Snowden revelations          | Wikipedia logs          | Penney (2016)                            |\n",
    "| Peer effects on exercise               | Weather                      | Fitness trackers        | Aral and Nicolaides (2017)               |"
   ]
  },
  {
   "cell_type": "markdown",
   "metadata": {
    "slideshow": {
     "slide_type": "subslide"
    }
   },
   "source": [
    "Angrist was interested in estimating the effect of military service on earnings. \n",
    "\n",
    "Unfortunately, military service was not randomly assigned; rather it was being drafted that was randomly assigned. \n",
    "- not everyone who was drafted served (there were a variety of exemptions), \n",
    "- not everyone who served was drafted (people could volunteer to serve). \n",
    "\n",
    "But Angrist didn’t want to know the effect of being drafted; he wanted to know the effect of serving in the military. "
   ]
  },
  {
   "cell_type": "markdown",
   "metadata": {
    "slideshow": {
     "slide_type": "subslide"
    }
   },
   "source": [
    "To make this estimate, however, additional assumptions and complications are required. \n",
    "\n",
    "- **the exclusion restriction** assumption (排除限制假设)\n",
    "    - researchers need to assume that <u>the only way that being drafted impacted earnings is through military service</u>\n",
    "    \n",
    "If it is violated, researchers can only estimate the effect on a specific subset of men called compliers (men who would serve when drafted, but would not serve when not drafted) (Angrist, Imbens, and Rubin 1996). Compliers, however, were not the original population of interest."
   ]
  },
  {
   "cell_type": "markdown",
   "metadata": {
    "slideshow": {
     "slide_type": "subslide"
    }
   },
   "source": [
    "The second strategy for making causal estimates from non-experimental data depends on **statistically adjusting** non-experimental data \n",
    "- in an attempt to account for preexisting differences between those who did and did not receive the treatment. \n",
    "\n",
    "In matching, the researcher looks through non-experimental data \n",
    "- to create pairs of people who are similar except that one has received the treatment and one has not. \n",
    "- to prune/discard cases where there are no obvious match. \n"
   ]
  },
  {
   "cell_type": "markdown",
   "metadata": {
    "slideshow": {
     "slide_type": "subslide"
    }
   },
   "source": [
    "The research on consumer behavior by Liran Einav and colleagues (2015).\n",
    "\n",
    "- One example of the power of matching strategies with massive non-experimental data sources \n",
    "- the effect of auction starting price on auction outcomes, such as the sale price or the probability of a sale.\n",
    "- to discover things similar to field experiments that have already happened on eBay. \n"
   ]
  },
  {
   "cell_type": "markdown",
   "metadata": {
    "slideshow": {
     "slide_type": "subslide"
    }
   },
   "source": [
    "An example of a matched set. This is the exact same golf club (a Taylormade Burner 09 Driver) being sold by the exact same person (“budgetgolfer”), but some of these sales were performed under different conditions (e.g., different starting prices).\n",
    "\n",
    "![image.png](img/big8.png)"
   ]
  },
  {
   "cell_type": "markdown",
   "metadata": {
    "slideshow": {
     "slide_type": "subslide"
    }
   },
   "source": [
    "![image.png](img/big9.png)"
   ]
  },
  {
   "cell_type": "markdown",
   "metadata": {
    "slideshow": {
     "slide_type": "subslide"
    }
   },
   "source": [
    "![image.png](img/big10.png)"
   ]
  },
  {
   "cell_type": "markdown",
   "metadata": {
    "slideshow": {
     "slide_type": "subslide"
    }
   },
   "source": [
    "Bias in the matching\n",
    "- An artifact of seasonal variation in demand\n",
    "    - trying many different kinds of matching. \n",
    "    - repeated their analysis while varying the time window used for matching\n",
    "- Estimates from matching only apply to matched data; they do not apply to the cases that could not be matched. \n",
    "    - By limiting their research to items that had multiple listings, they are focusing on professional and semi-professional sellers. \n",
    "        - Thus, when interpreting these comparisons we must remember that they only apply to this subset of eBay."
   ]
  },
  {
   "cell_type": "markdown",
   "metadata": {
    "slideshow": {
     "slide_type": "subslide"
    }
   },
   "source": [
    "Matching in massive data might be better than a small number of field experiments when \n",
    "- (1) heterogeneity in effects is important\n",
    "- (2) the important variables needed for matching have been measured."
   ]
  },
  {
   "cell_type": "markdown",
   "metadata": {
    "slideshow": {
     "slide_type": "subslide"
    }
   },
   "source": [
    "Examples of Studies that Use Matching with Big Data Sources\n",
    "\n",
    "| Substantive focus                                      | Big data source                         | Reference                              |\n",
    "| :----------------------------------------------------- | :-------------------------------------- | :------------------------------------- |\n",
    "| Effect of shootings on police violence                 | Stop-and-frisk records                  | Legewie (2016)                         |\n",
    "| Effect of September 11, 2001 on families and neighbors | Voting records and donation records     | Hersh (2013)                           |\n",
    "| Social contagion                                       | Communication and product adoption data | Aral, Muchnik, and Sundararajan (2009) |\n",
    "\n"
   ]
  },
  {
   "cell_type": "markdown",
   "metadata": {
    "slideshow": {
     "slide_type": "slide"
    }
   },
   "source": [
    "## 2.5 Conclusion\n",
    "\n",
    "Big data sources are everywhere, but using them for social research can be tricky. In my experience, there is something like a “no free lunch” rule for data: \n",
    "\n",
    "> if you don’t put in a lot of work collecting it, then you are probably going to have to put in a lot of work think about it and analyzing it."
   ]
  },
  {
   "cell_type": "markdown",
   "metadata": {
    "slideshow": {
     "slide_type": "subslide"
    }
   },
   "source": [
    "The big data sources of today—and likely tomorrow—will tend to have 10 characteristics. \n",
    "- Three of these are generally (but not always) helpful for research: big, always-on, and nonreactive. \n",
    "- Seven are generally (but not always) problematic for research: incomplete, inaccessible, nonrepresentative, drifting, algorithmically confounded, dirty, and sensitive. \n",
    "\n",
    "Many of these characteristics ultimately arise because big data sources were not created for the purpose of social research."
   ]
  },
  {
   "cell_type": "markdown",
   "metadata": {
    "slideshow": {
     "slide_type": "subslide"
    }
   },
   "source": [
    "Based on the ideas in this chapter, I think that there are three main ways that big data sources will be most valuable for social research. \n",
    "- First, they can enable researchers to decide between competing theoretical predictions.  \n",
    "- Second, big data sources can enable improved measurement for policy through nowcasting. \n",
    "- Finally, big data sources can help researchers make causal estimates without running experiments. \n"
   ]
  },
  {
   "cell_type": "markdown",
   "metadata": {
    "slideshow": {
     "slide_type": "subslide"
    }
   },
   "source": [
    "Each of these approaches, however, tends to require researchers to bring a lot to the data, such as \n",
    "- `the definition of a quantity that is important to estimate` \n",
    "- `two theories that make competing predictions`. \n",
    "\n",
    "\n",
    "Big data sources can help researchers who can ask interesting and important questions.\n",
    "\n",
    "- A rebalancing in the relationship between data and theory."
   ]
  },
  {
   "cell_type": "markdown",
   "metadata": {
    "slideshow": {
     "slide_type": "subslide"
    }
   },
   "source": [
    "![image.png](img/chengjun2.png)"
   ]
  }
 ],
 "metadata": {
  "celltoolbar": "幻灯片",
  "kernelspec": {
   "display_name": "Python 3 (ipykernel)",
   "language": "python",
   "name": "python3"
  },
  "language_info": {
   "codemirror_mode": {
    "name": "ipython",
    "version": 3
   },
   "file_extension": ".py",
   "mimetype": "text/x-python",
   "name": "python",
   "nbconvert_exporter": "python",
   "pygments_lexer": "ipython3",
   "version": "3.9.7"
  },
  "toc": {
   "base_numbering": 1,
   "nav_menu": {},
   "number_sections": false,
   "sideBar": true,
   "skip_h1_title": false,
   "title_cell": "Table of Contents",
   "title_sidebar": "Contents",
   "toc_cell": false,
   "toc_position": {
    "height": "calc(100% - 180px)",
    "left": "10px",
    "top": "150px",
    "width": "261.818px"
   },
   "toc_section_display": true,
   "toc_window_display": false
  }
 },
 "nbformat": 4,
 "nbformat_minor": 4
}
