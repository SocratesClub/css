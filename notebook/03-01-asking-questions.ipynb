{
 "cells": [
  {
   "cell_type": "markdown",
   "metadata": {
    "slideshow": {
     "slide_type": "slide"
    }
   },
   "source": [
    "\n",
    "---\n",
    "---\n",
    "\n",
    "# Survey: Asking Questions\n",
    "\n",
    "Bit by Bit: Social Research in the Digital Age\n",
    "\n",
    "---\n",
    "---\n",
    "\n",
    "![image.png](img/chengjun.png)"
   ]
  },
  {
   "cell_type": "markdown",
   "metadata": {
    "slideshow": {
     "slide_type": "subslide"
    }
   },
   "source": [
    "https://www.bitbybitbook.com/en/1st-ed/asking-questions/\n",
    "\n",
    "![image.png](img/bit.png)"
   ]
  },
  {
   "attachments": {},
   "cell_type": "markdown",
   "metadata": {
    "slideshow": {
     "slide_type": "subslide"
    }
   },
   "source": [
    "Socratic questioning\n",
    "\n",
    "\n",
    "<img src= 'img/socorates_ask.png' width = 800px>\n",
    "\n",
    "> \"The disciplined practice of thoughtful questioning enables the scholar/student to examine ideas and be able to determine the validity of those ideas.\""
   ]
  },
  {
   "cell_type": "markdown",
   "metadata": {
    "slideshow": {
     "slide_type": "subslide"
    }
   },
   "source": [
    "### Questiion\n",
    "\n",
    "你愿意使用提问的方式开展研究吗？为什么？"
   ]
  },
  {
   "cell_type": "code",
   "execution_count": 1,
   "metadata": {
    "ExecuteTime": {
     "end_time": "2021-08-03T00:25:40.038578Z",
     "start_time": "2021-08-03T00:25:40.021768Z"
    },
    "slideshow": {
     "slide_type": "subslide"
    }
   },
   "outputs": [
    {
     "data": {
      "text/plain": [
       "'王宣哲'"
      ]
     },
     "execution_count": 1,
     "metadata": {},
     "output_type": "execute_result"
    }
   ],
   "source": [
    "from random import choice\n",
    "pantheon = ['王宣哲','刘清和','曹铸华','钦号','陈思澎','邱桐','谢子彦','陆紫珺','陈芯颖']\n",
    "choice(pantheon) "
   ]
  },
  {
   "cell_type": "markdown",
   "metadata": {
    "slideshow": {
     "slide_type": "subslide"
    }
   },
   "source": [
    "## 3.1 Introduction\n",
    "Researchers who study dolphins can’t ask them questions and are therefore forced to try to learn about dolphins by observing their behavior. \n",
    "\n",
    "![image.png](img/ask1.png)"
   ]
  },
  {
   "cell_type": "markdown",
   "metadata": {
    "slideshow": {
     "slide_type": "subslide"
    }
   },
   "source": [
    "Surveys involves \n",
    "- systematic recruitment of large numbers of participants, \n",
    "- highly structured questionnaires, and \n",
    "- the use of statistical methods to generalize from the participants to a larger population. \n",
    "\n",
    "In-depth interviews involves \n",
    "- a small number of participants, \n",
    "- semi-structured conversations, and \n",
    "- results in a rich, qualitative description of the participants. \n",
    "\n",
    "Surveys are more impacted by the transition from the analog to the digital age. "
   ]
  },
  {
   "cell_type": "markdown",
   "metadata": {
    "slideshow": {
     "slide_type": "subslide"
    }
   },
   "source": [
    "The digital age creates many exciting opportunities for survey researchers \n",
    "- to collect data more quickly and cheaply, \n",
    "- to ask different kinds of questions, and \n",
    "- to magnify the value of survey data with big data sources."
   ]
  },
  {
   "cell_type": "markdown",
   "metadata": {
    "slideshow": {
     "slide_type": "subslide"
    }
   },
   "source": [
    "|            | Sampling                                        | Interviewing          | Data environment                   |\n",
    "| :--------- | :---------------------------------------------- | :-------------------- | :--------------------------------- |\n",
    "| First era  | Area probability sampling                       | Face-to-face          | Stand-alone surveys                |\n",
    "| Second era | Random-digit dialing (RDD) probability sampling | Telephone             | Stand-alone surveys                |\n",
    "| Third era  | Non-probability sampling                        | Computer-administered | Surveys linked to big data sources |\n",
    "\n"
   ]
  },
  {
   "cell_type": "markdown",
   "metadata": {
    "slideshow": {
     "slide_type": "subslide"
    }
   },
   "source": [
    "\n",
    "The history of survey research shows that the field evolves, driven by changes in technology and society. \n",
    "\n",
    "> The nonresponse rate can now exceed 90% in standard telephone surveys (Kohut et al. 2012).\n"
   ]
  },
  {
   "cell_type": "markdown",
   "metadata": {
    "slideshow": {
     "slide_type": "subslide"
    }
   },
   "source": [
    "## 3.2 Asking versus observing\n",
    "We are always going to need to ask people questions.\n",
    "\n",
    "- First, there are real problems with the accuracy, completeness, and accessibility of many big data sources. \n",
    "- Second, there are some things that are very hard to learn from behavioral data—even perfect behavioral data. \n",
    "\n",
    "For example, some of the most important social outcomes and predictors are internal states, such as emotions, knowledge, expectations, and opinions.\n"
   ]
  },
  {
   "cell_type": "markdown",
   "metadata": {
    "slideshow": {
     "slide_type": "subslide"
    }
   },
   "source": [
    "Moira Burke and Robert Kraut’s (2014) research on how the strength of friendships was impacted by interaction on Facebook.\n",
    "\n",
    "Burke and Kraut had to use surveys in order to \n",
    "\n",
    "- measure the the subjective feeling of closeness \n",
    "- learn about potentially confounding factors. \n",
    "- collect the information of non-Facebook interaction\n",
    "\n",
    "By combining server log analysis and longitudinal surveys of 3,649 Facebook users, they concluded that communication via Facebook did in fact lead to increased feelings of closeness. https://doi.org/10.1145/2556288.2557094.\n",
    "\n"
   ]
  },
  {
   "cell_type": "markdown",
   "metadata": {
    "slideshow": {
     "slide_type": "subslide"
    }
   },
   "source": [
    "Big data and surveys are complements rather than substitutes\n",
    "\n",
    "- Big data sources will not eliminate the need to ask people questions\n",
    "- Big data sources can actually increase the value of asking questions\n",
    "- when there is more big data, people will want more surveys.\n",
    "\n",
    "![image.png](img/ask2.png)"
   ]
  },
  {
   "cell_type": "markdown",
   "metadata": {
    "slideshow": {
     "slide_type": "subslide"
    }
   },
   "source": [
    "## 3.3 The total survey error framework \n",
    "\n",
    "总调查误差框架\n",
    "\n",
    "**Total survey error** = representation errors + measurement errors.\n",
    "\n",
    "There are two sources of errors: problems related to who you talk to (representation) and problems related to what you learn from those conversations (measurement). "
   ]
  },
  {
   "cell_type": "markdown",
   "metadata": {
    "slideshow": {
     "slide_type": "subslide"
    }
   },
   "source": [
    " Bias and variance 偏误与变异性\n",
    "![image.png](img/ask3.png)\n",
    "\n",
    "偏差与方差"
   ]
  },
  {
   "cell_type": "markdown",
   "metadata": {
    "slideshow": {
     "slide_type": "subslide"
    }
   },
   "source": [
    "### 3.3.1 Representation 代表性\n",
    "Representation is about making inferences from your respondents to your target population.\n",
    "\n",
    "泛化能力\n"
   ]
  },
  {
   "cell_type": "markdown",
   "metadata": {
    "slideshow": {
     "slide_type": "subslide"
    }
   },
   "source": [
    "The Literary Digest straw poll (选举前的非正式民意测验) of the 1936 US presidential election. \n",
    "\n",
    "- Literary Digest correctly predicted the winners of the elections in 1920, 1924, 1928 and 1932.\n",
    "- Of the 10 million ballots distributed, an amazing 2.4 million were returned—that’s roughly 1,000 times larger than modern political polls. \n",
    "- From these 2.4 million respondents, the verdict was clear: Alf Landon was going to defeat the incumbent Franklin Roosevelt."
   ]
  },
  {
   "cell_type": "markdown",
   "metadata": {
    "slideshow": {
     "slide_type": "subslide"
    }
   },
   "source": [
    "![image.png](img/ask4.png)\n",
    "\n",
    "- **Coverage error**: The frame population was the 10 million people whose names came predominately from telephone directories and automobile registration records.\n",
    "- **Sampling error**: The magazine to contact everyone in the frame population—and therefore there was no sampling error.\n",
    "- **Nonresponse bias**: Only 24% of the people who received a ballot responded."
   ]
  },
  {
   "cell_type": "markdown",
   "metadata": {
    "slideshow": {
     "slide_type": "subslide"
    }
   },
   "source": [
    "**Dewey Defeats Truman**\n",
    "\n",
    "![image.png](img/ask5.png)\n",
    "\n",
    "President Harry Truman holding up the headline of a newspaper that had incorrectly announced his defeat in 1948. This headline was based in part on estimates from non-probability samples."
   ]
  },
  {
   "cell_type": "markdown",
   "metadata": {
    "slideshow": {
     "slide_type": "subslide"
    }
   },
   "source": [
    "The most common moral of the story is that researchers can’t learn anything from non-probability samples, that’s not quite right.\n",
    "- First, a large amount of haphazardly collected data will not guarantee a good estimate. \n",
    "- Second, researchers need to account for how their sample was collected when making estimates. \n",
    "\n",
    "In general, having a large number of respondents decreases the variance of estimates, but it does not necessarily decrease the bias.\n",
    "\n",
    "Researchers needed to use a more complex estimation process/weighting procedure, e.g., post-stratification"
   ]
  },
  {
   "cell_type": "markdown",
   "metadata": {
    "slideshow": {
     "slide_type": "subslide"
    }
   },
   "source": [
    "### 3.3.2 Measurement\n",
    "Measurement is about inferring what your respondents think and do from what they say."
   ]
  },
  {
   "cell_type": "markdown",
   "metadata": {
    "slideshow": {
     "slide_type": "subslide"
    }
   },
   "source": [
    "![image.png](img/ask6.png)\n",
    "\n",
    "Bradburn, Norman M., Seymour Sudman, and Brian Wansink. 2004. Asking Questions: The Definitive Guide to Questionnaire Design. Rev. ed. San Francisco: Jossey-Bass."
   ]
  },
  {
   "cell_type": "markdown",
   "metadata": {
    "slideshow": {
     "slide_type": "subslide"
    }
   },
   "source": [
    "Question form effects 提问方式效应\n",
    "\n",
    "![image.png](img/ask7.png)\n",
    "\n",
    "Schuman and Presser (1996) Questions and Answers in Attitude Surveys: Experiments on Question Form, Wording, and Context. Thousand Oaks, CA: SAGE."
   ]
  },
  {
   "cell_type": "markdown",
   "metadata": {
    "slideshow": {
     "slide_type": "subslide"
    }
   },
   "source": [
    "If you are analyzing survey data collected by someone else, make sure that you have read the actual questionnaire. \n",
    "\n",
    "- First, read more about questionnaire design.\n",
    "- Second, copy—word for word—questions from high-quality surveys.\n",
    "- Third, if you think your questionnaire might contain important question wording effects or question form effects, you could run a survey experiment where half the respondents receive one version of the question and half receive the other version (Krosnick 2011).\n",
    "- Fourth, Survey pre-testing is extremely helpful."
   ]
  },
  {
   "cell_type": "markdown",
   "metadata": {
    "slideshow": {
     "slide_type": "subslide"
    }
   },
   "source": [
    "### 3.3.3 Cost\n",
    "Surveys are not free, and this is a real constraint.\n",
    "\n",
    "Many of the opportunities created by the digital age are not about making estimates that obviously have lower error. Rather, these opportunities are about estimating different quantities and about making estimates faster and cheaper, even with possibly higher errors. "
   ]
  },
  {
   "cell_type": "markdown",
   "metadata": {
    "slideshow": {
     "slide_type": "subslide"
    }
   },
   "source": [
    "## 3.4 Who to ask\n",
    "The digital age is making probability sampling in practice harder and is creating new opportunities for non-probability sampling.\n",
    "\n",
    "By using non-probability methods, the **Cooperative Congressional Election Study** (CCES) is able to have roughly 10 times more participants than earlier studies using probability sampling. This much larger sample enables political researchers to study variation in attitudes and behavior across subgroups and social contexts. Further, all of this added scale came without decreases in the quality of estimates (Ansolabehere and Rivers 2013)."
   ]
  },
  {
   "cell_type": "markdown",
   "metadata": {
    "slideshow": {
     "slide_type": "subslide"
    }
   },
   "source": [
    "The differences between probability sampling in theory and probability sampling in practice have been increasing\n",
    "- For example, nonresponse rates have been steadily increasing, even in high-quality, expensive surveys\n",
    "- These increases in nonresponse threaten the quality of estimates\n",
    "- Further, these decreases in quality have happened despite increasingly expensive efforts by survey researchers to maintain high response rates."
   ]
  },
  {
   "cell_type": "markdown",
   "metadata": {
    "slideshow": {
     "slide_type": "subslide"
    }
   },
   "source": [
    "Wei Wang, David Rothschild, Sharad Goel, and Andrew Gelman (2015) correctly recovered the outcome of the 2012 US election using a non-probability sample of American Xbox users\n",
    "\n",
    "![image.png](img/ask8.png)"
   ]
  },
  {
   "cell_type": "markdown",
   "metadata": {
    "slideshow": {
     "slide_type": "subslide"
    }
   },
   "source": [
    "**Post-Stratification**\n",
    "\n",
    "The main idea of post-stratification is to use auxiliary information about the target population to help improve the estimate that comes from a sample. \n",
    "\n",
    "- Wang and colleague chopped the population into different groups (e.g., men and women)\n",
    "- estimated the support for Obama in each group, \n",
    "- and then took a weighted average of the group estimates to produce an overall estimate (e.g., women 53% and men 47%. )\n"
   ]
  },
  {
   "cell_type": "markdown",
   "metadata": {
    "slideshow": {
     "slide_type": "subslide"
    }
   },
   "source": [
    "**The homogeneous-response-propensities-within-groups assumption**\n",
    "\n",
    "The key to post-stratification is to form the right groups.\n",
    "\n",
    "- If you can chop up the population into homogeneous groups such that the response propensities are the same for everyone in each group, then post-stratification will produce unbiased estimates. \n",
    "\n",
    "The number of groups used in post-stratification gets larger, the assumptions needed to support the method become more reasonable. \n",
    "\n",
    "- It might seem more plausible that there is the same response propensity for all women who are aged 18-29, who graduated from college, and who are living in California. "
   ]
  },
  {
   "cell_type": "markdown",
   "metadata": {
    "slideshow": {
     "slide_type": "subslide"
    }
   },
   "source": [
    "Using a non-probability sampling method with computer-administered interviews, Wang and colleagues were able to \n",
    "- collect information from 345,858 unique participants,  \n",
    "- divide the population into 176,256 groups defined by gender (2 categories), race (4 categories), age (4 categories), education (4 categories), state (51 categories), party ID (3 categories), ideology (3 categories), and 2008 vote (3 categories). \n",
    "\n",
    "Multilevel regression with post-stratification, Mr. P."
   ]
  },
  {
   "cell_type": "markdown",
   "metadata": {
    "slideshow": {
     "slide_type": "subslide"
    }
   },
   "source": [
    "![image.png](img/ask9.png)\n",
    "\n",
    "Non-probability samples need not automatically lead to something like the Literary Digest fiasco."
   ]
  },
  {
   "cell_type": "markdown",
   "metadata": {
    "slideshow": {
     "slide_type": "subslide"
    }
   },
   "source": [
    "![image.png](img/ask10.png)"
   ]
  },
  {
   "cell_type": "markdown",
   "metadata": {
    "slideshow": {
     "slide_type": "subslide"
    }
   },
   "source": [
    "![image.png](img/ask11.png)\n",
    "\n",
    "subgroups"
   ]
  },
  {
   "cell_type": "markdown",
   "metadata": {
    "slideshow": {
     "slide_type": "subslide"
    }
   },
   "source": [
    "The core idea is to \n",
    "- partition the population into cells based on combinations of various demographic and political attributes, \n",
    "- use the sample to estimate the response variable within each cell \n",
    "- aggregate the cell-level estimates up to a population-level estimate \n",
    "    - by weighting each cell by its relative proportion in the population. \n",
    "    \n",
    "$$\\hat{y}^{PS} = \\frac{\\sum_{j=1}^{J} N_j \\hat{y}_j}{\\sum_{j=1}^J N_j} $$\n",
    "\n",
    "where $\\hat{y}_j$ is the estimate of $y$ in cell $j$, and $N_j$ is the size of the jth cell in the population."
   ]
  },
  {
   "cell_type": "markdown",
   "metadata": {
    "slideshow": {
     "slide_type": "subslide"
    }
   },
   "source": [
    "## 3.5 New ways of asking questions\n",
    "Traditional surveys are closed, boring, and removed from life. Now we can ask questions that are more open, more fun, and more embedded in life."
   ]
  },
  {
   "cell_type": "markdown",
   "metadata": {
    "slideshow": {
     "slide_type": "fragment"
    }
   },
   "source": [
    "Michael Schober and colleagues (2015) compared different approaches to asking people questions via a mobile phone. \n",
    "- They found that microsurveys sent through text messages led to higher-quality data than voice interviews. \n",
    "\n"
   ]
  },
  {
   "cell_type": "markdown",
   "metadata": {
    "slideshow": {
     "slide_type": "subslide"
    }
   },
   "source": [
    "The most critical feature of digital-age survey modes is that they are computer-administered, rather than interviewer-administered.\n",
    "\n",
    "Benefits of removing human interviewers: \n",
    "- reduce **social desirability bias**. 社会期望偏差\n",
    "- eliminate **interviewer effects**. 采访者影响\n",
    "- dramatically reduces cost （e.g., interview time) and increases flexibility.\n",
    "\n",
    "However, removing the human interviewer also creates some challenges. In particular, interviewers can develop a rapport with respondents that can increase participation rates, clarify confusing questions, and maintain respondents’ engagement while they slog through a long (potentially tedious) questionnaire."
   ]
  },
  {
   "cell_type": "markdown",
   "metadata": {
    "slideshow": {
     "slide_type": "subslide"
    }
   },
   "source": [
    "### 3.5.1 Ecological momentary assessments\n",
    "\n",
    "生态瞬时评估法\n",
    "\n",
    "Ecological momentary assessment (EMA) involves taking traditional surveys, chopping them up into pieces, and sprinkling them into the lives of participants. Thus, survey questions can be asked at an appropriate time and place, rather than in a long interview weeks after the events have occurred."
   ]
  },
  {
   "cell_type": "markdown",
   "metadata": {
    "slideshow": {
     "slide_type": "subslide"
    }
   },
   "source": [
    "EMA is characterized by four features: \n",
    "- (1) collection of data in real-world environments; \n",
    "- (2) assessments that focus on individuals’ current or very recent states or behaviors; \n",
    "- (3) assessments that may be event-based, time-based, or randomly prompted (depending on the research question); and \n",
    "- (4) completion of multiple assessments over time (Stone and Shiffman 1994).\n",
    "\n",
    "Smartphones are packed with sensors—such as GPS and accelerometers—it is increasingly possible to trigger measurements based on activity.\n"
   ]
  },
  {
   "cell_type": "markdown",
   "metadata": {
    "slideshow": {
     "slide_type": "subslide"
    }
   },
   "source": [
    "Sugie (2014) took a standard probability sample of 131 people from the complete list of individuals leaving prison in Newark, New Jersey. \n",
    "- She provided each participant with a smartphone. \n",
    "- Sugie used the phones to administer two kinds of surveys. \n",
    "    - First, she sent an “experience sampling survey” at a randomly selected time between 9 a.m. and 6 p.m. \n",
    "    - Second, at 7 p.m., she sent a “daily survey” asking about all the activities of that day. \n",
    "- Further, the phones recorded their geographic location at regular intervals and kept encrypted records of call and text meta-data. "
   ]
  },
  {
   "cell_type": "markdown",
   "metadata": {
    "slideshow": {
     "slide_type": "subslide"
    }
   },
   "source": [
    "**躺平：苦海无边回头是岸**\n",
    "\n",
    "Surprisingly, Sugie found that the “early exit” group did not report higher levels of stress or unhappiness. Rather, it was the opposite: those who continued to search for work reported more feelings of emotional distress.\n",
    "\n",
    "> Sugie, Naomi F. 2014. “Finding Work: A Smartphone Study of Job Searching, Social Contacts, and Wellbeing After Prison.” Ph.D. Thesis, Princeton University. https://dataspace.princeton.edu/jspui/handle/88435/dsp011544br32k"
   ]
  },
  {
   "cell_type": "markdown",
   "metadata": {
    "slideshow": {
     "slide_type": "subslide"
    }
   },
   "source": [
    "### 3.5.2 Wiki surveys\n",
    "Wiki surveys enable new hybrids of closed and open questions.\n",
    "\n",
    "Salganik, Matthew J., and Karen E. C. Levy. 2015. “Wiki Surveys: Open and Quantifiable Social Data Collection.” PLoS ONE 10 (5):e0123483. https://doi.org/10.1371/journal.pone.0123483."
   ]
  },
  {
   "cell_type": "markdown",
   "metadata": {
    "slideshow": {
     "slide_type": "subslide"
    }
   },
   "source": [
    "![image.png](img/ask12.png)\n",
    "\n",
    "A survey experiment by Howard Schuman and Stanley Presser (1979) revealed that nearly 60% of the responses to the open question are not included in the five researcher-created responses."
   ]
  },
  {
   "cell_type": "markdown",
   "metadata": {
    "slideshow": {
     "slide_type": "subslide"
    }
   },
   "source": [
    "Bringing survey research into the digital age.\n",
    "Mix core ideas from survey research with new insights from crowdsourcing. \n",
    "\n",
    "![image.png](img/ask13.png)\n",
    "\n",
    "http://www.allourideas.org/"
   ]
  },
  {
   "cell_type": "markdown",
   "metadata": {
    "slideshow": {
     "slide_type": "subslide"
    }
   },
   "source": [
    "![image.png](img/ask14.png)\n",
    "\n",
    "The Mayor’s Office launched its wiki survey in October 2010 in conjunction with a series of community meetings to obtain resident feedback. Over about four months, 1,436 respondents contributed 31,893 responses and 464 new ideas. Critically, 8 of the top 10 scoring ideas were uploaded by participants rather than being part of the set of seed ideas from the Mayor’s Office."
   ]
  },
  {
   "cell_type": "markdown",
   "metadata": {
    "slideshow": {
     "slide_type": "subslide"
    }
   },
   "source": [
    "http://www.allourideas.org/css\n",
    "\n",
    "![image.png](img/ask15.png)\n",
    "\n"
   ]
  },
  {
   "cell_type": "markdown",
   "metadata": {
    "slideshow": {
     "slide_type": "subslide"
    }
   },
   "source": [
    "### 3.5.3 Gamification\n",
    "Standard surveys are boring for participants; that can change, and it must change.\n",
    "\n",
    "However, one downside of computer-administered interviews is that there is no human interviewer to help induce and maintain participation. This is a problem because many surveys are both time-consuming and boring. \n",
    "\n",
    "Therefore, in the future, survey designers are going to have to design around their participants and make the process of answering questions more enjoyable and game-like. This process is sometimes called gamification."
   ]
  },
  {
   "cell_type": "markdown",
   "metadata": {
    "slideshow": {
     "slide_type": "subslide"
    }
   },
   "source": [
    "![image.png](img/ask16.png)\n",
    "\n",
    "Goel, Sharad, Winter Mason, and Duncan J. Watts. 2010. “Real and Perceived Attitude Agreement in Social Networks.” Journal of Personality and Social Psychology 99 (4):611–21. https://doi.org/10.1037/a0020697."
   ]
  },
  {
   "cell_type": "markdown",
   "metadata": {
    "slideshow": {
     "slide_type": "subslide"
    }
   },
   "source": [
    "## 3.6 Surveys linked to big data sources\n",
    "Linking surveys to big data sources enables you to produce estimates that would be impossible with either data source individually."
   ]
  },
  {
   "cell_type": "markdown",
   "metadata": {
    "slideshow": {
     "slide_type": "subslide"
    }
   },
   "source": [
    "Enriched asking & Amplified asking\n",
    "\n",
    "![image.png](img/ask17.png)"
   ]
  },
  {
   "cell_type": "markdown",
   "metadata": {
    "slideshow": {
     "slide_type": "subslide"
    }
   },
   "source": [
    "### 3.6.1 Enriched asking\n",
    "In enriched asking, survey data builds context around a big data source that contains some important measurements but lack others.\n",
    "\n",
    "Burke and Kraut (2014) combined survey data with Facebook log data to study whether interacting on Facebook increases friendship strength"
   ]
  },
  {
   "cell_type": "markdown",
   "metadata": {
    "slideshow": {
     "slide_type": "subslide"
    }
   },
   "source": [
    "![image.png](img/ask18.png)\n",
    "\n",
    "Ansolabehere and Hersh (2012) collected the data from the CCES survey. Then they gave their data to Catalist, and Catalist gave them back a merged data file."
   ]
  },
  {
   "cell_type": "markdown",
   "metadata": {
    "slideshow": {
     "slide_type": "subslide"
    }
   },
   "source": [
    "### 3.6.2 Amplified asking\n",
    "Amplified asking using a predictive model to combine survey data from a few people with a big data source from many people."
   ]
  },
  {
   "cell_type": "markdown",
   "metadata": {
    "slideshow": {
     "slide_type": "subslide"
    }
   },
   "source": [
    "![image.png](img/ask19.png)\n",
    "\n",
    " Blumenstock, Cadamuro, and On (2015)"
   ]
  },
  {
   "cell_type": "markdown",
   "metadata": {
    "slideshow": {
     "slide_type": "subslide"
    }
   },
   "source": [
    "![image.png](img/ask20.png)"
   ]
  },
  {
   "cell_type": "markdown",
   "metadata": {
    "slideshow": {
     "slide_type": "subslide"
    }
   },
   "source": [
    "The amplified asking estimates were more timely, substantially cheaper, and more granular. But, on the other hand, there is not yet a strong theoretical basis for this kind of amplified asking. Using this approach need to be especially concerned about possible biases caused by who is included—and who is not included—in their big data source.\n",
    "\n",
    "Further, the amplified asking approach does not yet have good ways to quantify uncertainty around its estimates.\n",
    "Fortunately, amplified asking has deep connections to three large areas in statistics:\n",
    "- small-area estimation (Rao and Molina 2015), \n",
    "- imputation (Rubin 2004), \n",
    "- model-based post-stratification (Little 1993)."
   ]
  },
  {
   "cell_type": "markdown",
   "metadata": {
    "slideshow": {
     "slide_type": "subslide"
    }
   },
   "source": [
    "## 3.7 Conclusion\n",
    "The transition from the analog age to the digital age is creating new opportunities for survey researchers. Big data sources will not replace surveys and that the abundance of big data sources increases—not decreases—the value of surveys. \n",
    "\n",
    "The total survey error framework can help researchers develop and evaluate third-era approaches. Three exciting opportunities are (1) non-probability sampling, (2) computer-administrated interviews, and (3) linking surveys and big data sources. \n",
    "\n",
    "Survey research has always evolved, driven by changes in technology and society. We should embrace that evolution, while continuing to draw wisdom from earlier eras."
   ]
  },
  {
   "cell_type": "markdown",
   "metadata": {
    "slideshow": {
     "slide_type": "slide"
    }
   },
   "source": [
    "![image.png](img/chengjun2.png)"
   ]
  }
 ],
 "metadata": {
  "celltoolbar": "幻灯片",
  "kernelspec": {
   "display_name": "Python 3",
   "language": "python",
   "name": "python3"
  },
  "language_info": {
   "codemirror_mode": {
    "name": "ipython",
    "version": 3
   },
   "file_extension": ".py",
   "mimetype": "text/x-python",
   "name": "python",
   "nbconvert_exporter": "python",
   "pygments_lexer": "ipython3",
   "version": "3.7.6"
  },
  "toc": {
   "base_numbering": 1,
   "nav_menu": {},
   "number_sections": false,
   "sideBar": true,
   "skip_h1_title": false,
   "title_cell": "Table of Contents",
   "title_sidebar": "Contents",
   "toc_cell": false,
   "toc_position": {},
   "toc_section_display": true,
   "toc_window_display": false
  }
 },
 "nbformat": 4,
 "nbformat_minor": 4
}
