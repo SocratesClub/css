{
 "cells": [
  {
   "cell_type": "markdown",
   "metadata": {
    "slideshow": {
     "slide_type": "slide"
    }
   },
   "source": [
    "\n",
    "\n",
    "***\n",
    "***\n",
    "\n",
    "# Introduction to Word Embeddings\n",
    "Analyzing Meaning through Word Embeddings\n",
    "\n",
    "***\n",
    "***\n",
    "\n",
    "![image.png](img/chengjun.png)"
   ]
  },
  {
   "cell_type": "markdown",
   "metadata": {
    "slideshow": {
     "slide_type": "subslide"
    }
   },
   "source": [
    "**Using vectors to represent things**\n",
    "- one of the most fascinating ideas in machine learning. \n",
    "- Word2vec is a method to efficiently create word embeddings. \n",
    "    - Mikolov et al. (2013). [Efficient Estimation of Word Representations in Vector Space](https://arxiv.org/pdf/1301.3781.pdf)\n",
    "    - Mikolov et al. (2013). [Distributed representations of words and phrases and their compositionality](https://arxiv.org/pdf/1310.4546.pdf)\n",
    "\n"
   ]
  },
  {
   "cell_type": "markdown",
   "metadata": {
    "slideshow": {
     "slide_type": "slide"
    }
   },
   "source": [
    "***\n",
    "***\n",
    "\n",
    "## The Geometry of Culture\n",
    "\n",
    "Analyzing Meaning through Word Embeddings\n",
    "\n",
    "***\n",
    "***\n",
    "\n",
    "Austin C. Kozlowski; Matt Taddy; James A. Evans\n",
    "\n",
    "Word embeddings represent **semantic relations** between words as **geometric relationships** between vectors in a high-dimensional space, operationalizing a relational model of meaning consistent with contemporary theories of identity and culture. "
   ]
  },
  {
   "cell_type": "markdown",
   "metadata": {
    "slideshow": {
     "slide_type": "subslide"
    }
   },
   "source": [
    "\n",
    "- Dimensions induced by word differences (e.g. man - woman, rich - poor, black - white, liberal - conservative) in these vector spaces closely correspond to dimensions of cultural meaning, \n",
    "- Macro-cultural investigation with a longitudinal analysis of the coevolution of gender and class associations in the United States over the 20th century \n",
    "\n",
    "The success of these high-dimensional models motivates a move towards \"high-dimensional theorizing\" of meanings, identities and cultural processes."
   ]
  },
  {
   "cell_type": "markdown",
   "metadata": {
    "slideshow": {
     "slide_type": "subslide"
    }
   },
   "source": [
    "<img src= 'img/word2vec/gender_class.png' width= \"700px\">\n"
   ]
  },
  {
   "cell_type": "markdown",
   "metadata": {
    "slideshow": {
     "slide_type": "subslide"
    }
   },
   "source": [
    "## HistWords \n",
    "\n",
    "HistWords is a collection of tools and datasets for analyzing language change using word vector embeddings. \n",
    "\n",
    "- The goal of this project is to facilitate quantitative research in diachronic linguistics, history, and the digital humanities.\n",
    "\n",
    "\n",
    "- We used the historical word vectors in HistWords to study the semantic evolution of more than 30,000 words across 4 languages. \n",
    "\n",
    "- This study led us to propose two statistical laws that govern the evolution of word meaning \n",
    "\n",
    "\n",
    "https://nlp.stanford.edu/projects/histwords/\n",
    "\n",
    "https://github.com/williamleif/histwords\n",
    "\n"
   ]
  },
  {
   "cell_type": "markdown",
   "metadata": {
    "slideshow": {
     "slide_type": "subslide"
    }
   },
   "source": [
    "**Diachronic Word Embeddings Reveal Statistical Laws of Semantic Change**\n",
    "\n",
    "<img src= 'img/word2vec/wordpaths-final.png' width= \"900px\">"
   ]
  },
  {
   "cell_type": "markdown",
   "metadata": {
    "slideshow": {
     "slide_type": "subslide"
    }
   },
   "source": [
    "## Word embeddings quantify 100 years of gender and ethnic stereotypes\n",
    "\n",
    "http://www.pnas.org/content/early/2018/03/30/1720347115\n",
    "\n",
    "<img src= 'img/word2vec/sex.png' width= \"500px\">\n"
   ]
  },
  {
   "cell_type": "markdown",
   "metadata": {
    "slideshow": {
     "slide_type": "subslide"
    }
   },
   "source": [
    "## Semantics derived automatically from language corpora contain human-like biases.\n",
    "\n",
    "![](./img/word2vec/bias.png)\n",
    "\n",
    "Caliskan, A., Bryson, J. J., & Narayanan, A. (2017). Semantics derived automatically from language corpora contain human-like biases. Science, 356(6334), 183– 186."
   ]
  },
  {
   "cell_type": "markdown",
   "metadata": {
    "slideshow": {
     "slide_type": "subslide"
    }
   },
   "source": [
    "## The Illustrated Word2vec\n",
    "\n",
    "Jay Alammar.  https://jalammar.github.io/illustrated-word2vec/"
   ]
  },
  {
   "cell_type": "markdown",
   "metadata": {
    "slideshow": {
     "slide_type": "slide"
    }
   },
   "source": [
    "## Personality Embeddings\n",
    "\n",
    "> What are you like?\n",
    "\n",
    "**Big Five personality traits**: openness to experience, conscientiousness, extraversion, agreeableness, and neuroticism\n",
    "- the five-factor model (FFM) \n",
    "- **the OCEAN model**\n",
    "\n"
   ]
  },
  {
   "cell_type": "markdown",
   "metadata": {
    "ExecuteTime": {
     "end_time": "2019-04-05T09:08:26.103877Z",
     "start_time": "2019-04-05T09:08:26.096732Z"
    },
    "slideshow": {
     "slide_type": "subslide"
    }
   },
   "source": [
    "- 开放性（openness）：具有想象、审美、情感丰富、求异、创造、智能等特质。\n",
    "- 责任心（conscientiousness）：显示胜任、公正、条理、尽职、成就、自律、谨慎、克制等特点。\n",
    "- 外倾性（extraversion）：表现出热情、社交、果断、活跃、冒险、乐观等特质。\n",
    "- 宜人性（agreeableness）：具有信任、利他、直率、依从、谦虚、移情等特质。\n",
    "- 神经质或情绪稳定性（neuroticism）：具有平衡焦虑、敌对、压抑、自我意识、冲动、脆弱等情绪的特质，即具有保持情绪稳定的能力。"
   ]
  },
  {
   "cell_type": "code",
   "execution_count": 21,
   "metadata": {
    "ExecuteTime": {
     "end_time": "2024-08-04T03:19:10.706800Z",
     "start_time": "2024-08-04T03:19:10.587677Z"
    },
    "slideshow": {
     "slide_type": "subslide"
    }
   },
   "outputs": [],
   "source": [
    "# Personality Embeddings: What are you like?\n",
    "jay = [-0.4, 0.8, 0.5, -0.2, 0.3]\n",
    "john = [-0.3, 0.2, 0.3, -0.4, 0.9]\n",
    "mike = [-0.5, -0.4, -0.2, 0.7, -0.1]"
   ]
  },
  {
   "cell_type": "markdown",
   "metadata": {
    "slideshow": {
     "slide_type": "subslide"
    }
   },
   "source": [
    "## Cosine Similarity\n",
    "The cosine of two non-zero vectors can be derived by using the Euclidean dot product formula:\n",
    "\n",
    "$$\n",
    "\\mathbf{A}\\cdot\\mathbf{B}\n",
    "=\\left\\|\\mathbf{A}\\right\\|\\left\\|\\mathbf{B}\\right\\|\\cos\\theta\n",
    "$$\n"
   ]
  },
  {
   "cell_type": "markdown",
   "metadata": {
    "slideshow": {
     "slide_type": "subslide"
    }
   },
   "source": [
    "$$\n",
    "\\text{similarity} = \\cos(\\theta) = {\\mathbf{A} \\cdot \\mathbf{B} \\over \\|\\mathbf{A}\\| \\|\\mathbf{B}\\|} = \\frac{ \\sum\\limits_{i=1}^{n}{A_i  B_i} }{ \\sqrt{\\sum\\limits_{i=1}^{n}{A_i^2}}  \\sqrt{\\sum\\limits_{i=1}^{n}{B_i^2}} },\n",
    "$$\n",
    "\n",
    "where $A_i$ and $B_i$ are components of vector $A$ and $B$ respectively."
   ]
  },
  {
   "cell_type": "code",
   "execution_count": 22,
   "metadata": {
    "ExecuteTime": {
     "end_time": "2024-08-04T03:20:38.593334Z",
     "start_time": "2024-08-04T03:20:38.549440Z"
    },
    "slideshow": {
     "slide_type": "subslide"
    }
   },
   "outputs": [
    {
     "data": {
      "text/plain": [
       "-0.4999999999999999"
      ]
     },
     "execution_count": 22,
     "metadata": {},
     "output_type": "execute_result"
    }
   ],
   "source": [
    "from numpy import dot\n",
    "from numpy.linalg import norm\n",
    "from math import sqrt\n",
    "\n",
    "def cos_sim(a, b):\n",
    "    return dot(a, b)/(norm(a)*norm(b))\n",
    "\n",
    "cos_sim([1, 0, -1], [-1,-1, 0])\n",
    "\n",
    "# (1*-1 + 0*-1-1*0)/(sqrt(1**2 + 0**2 + 1**2)*sqrt(1**2 + 1**2 + 0**2))"
   ]
  },
  {
   "cell_type": "code",
   "execution_count": 23,
   "metadata": {
    "ExecuteTime": {
     "end_time": "2024-08-04T03:20:47.960736Z",
     "start_time": "2024-08-04T03:20:47.894750Z"
    },
    "slideshow": {
     "slide_type": "subslide"
    }
   },
   "outputs": [
    {
     "data": {
      "text/plain": [
       "array([[-0.5]])"
      ]
     },
     "execution_count": 23,
     "metadata": {},
     "output_type": "execute_result"
    }
   ],
   "source": [
    "from sklearn.metrics.pairwise import cosine_similarity\n",
    "\n",
    "cosine_similarity([[1, 0, -1]], [[-1,-1, 0]])"
   ]
  },
  {
   "cell_type": "markdown",
   "metadata": {
    "slideshow": {
     "slide_type": "subslide"
    }
   },
   "source": [
    "$$CosineDistance = 1- CosineSimilarity$$"
   ]
  },
  {
   "cell_type": "code",
   "execution_count": 24,
   "metadata": {
    "ExecuteTime": {
     "end_time": "2024-08-04T03:21:42.789378Z",
     "start_time": "2024-08-04T03:21:42.771898Z"
    },
    "slideshow": {
     "slide_type": "fragment"
    }
   },
   "outputs": [
    {
     "data": {
      "text/plain": [
       "-0.5"
      ]
     },
     "execution_count": 24,
     "metadata": {},
     "output_type": "execute_result"
    }
   ],
   "source": [
    "from scipy import spatial\n",
    "# spatial.distance.cosine computes \n",
    "# the Cosine distance between 1-D arrays.\n",
    "1 - spatial.distance.cosine([1, 0, -1], [-1,-1, 0]) "
   ]
  },
  {
   "cell_type": "code",
   "execution_count": 25,
   "metadata": {
    "ExecuteTime": {
     "end_time": "2024-08-04T03:21:52.649531Z",
     "start_time": "2024-08-04T03:21:52.643475Z"
    },
    "slideshow": {
     "slide_type": "subslide"
    }
   },
   "outputs": [
    {
     "data": {
      "text/plain": [
       "0.6582337075311759"
      ]
     },
     "execution_count": 25,
     "metadata": {},
     "output_type": "execute_result"
    }
   ],
   "source": [
    "cos_sim(jay, john)"
   ]
  },
  {
   "cell_type": "code",
   "execution_count": 26,
   "metadata": {
    "ExecuteTime": {
     "end_time": "2024-08-04T03:21:58.847464Z",
     "start_time": "2024-08-04T03:21:58.842663Z"
    },
    "slideshow": {
     "slide_type": "fragment"
    }
   },
   "outputs": [
    {
     "data": {
      "text/plain": [
       "-0.3683509554826695"
      ]
     },
     "execution_count": 26,
     "metadata": {},
     "output_type": "execute_result"
    }
   ],
   "source": [
    "cos_sim(jay, mike)"
   ]
  },
  {
   "cell_type": "markdown",
   "metadata": {
    "slideshow": {
     "slide_type": "subslide"
    }
   },
   "source": [
    "Cosine similarity works for any number of dimensions. \n",
    "- We can represent people (and things) as vectors of numbers (which is great for machines!).\n",
    "- We can easily calculate how similar vectors are to each other."
   ]
  },
  {
   "cell_type": "markdown",
   "metadata": {
    "slideshow": {
     "slide_type": "slide"
    }
   },
   "source": [
    "## Word Embeddings\n"
   ]
  },
  {
   "cell_type": "markdown",
   "metadata": {
    "slideshow": {
     "slide_type": "subslide"
    }
   },
   "source": [
    "### Google News Word2Vec\n",
    "\n",
    "You can download Google’s pre-trained model here.\n",
    "\n",
    "- It’s 1.5GB! \n",
    "- It includes word vectors for a vocabulary of 3 million words and phrases \n",
    "- It is trained on roughly 100 billion words from a Google News dataset. \n",
    "- The vector length is 300 features.\n",
    "\n",
    "http://mccormickml.com/2016/04/12/googles-pretrained-word2vec-model-in-python/\n",
    "\n",
    "链接: https://pan.baidu.com/s/11iwl1KV4CQneeJxhTOe-8Q?pwd=6v3m "
   ]
  },
  {
   "cell_type": "markdown",
   "metadata": {
    "slideshow": {
     "slide_type": "subslide"
    }
   },
   "source": [
    "Using the **Gensim** library in python, we can \n",
    "- find the most similar words to the resulting vector. \n",
    "- add and subtract word vectors, \n"
   ]
  },
  {
   "cell_type": "code",
   "execution_count": 27,
   "metadata": {
    "ExecuteTime": {
     "end_time": "2024-08-04T03:24:10.076477Z",
     "start_time": "2024-08-04T03:23:35.013799Z"
    },
    "slideshow": {
     "slide_type": "subslide"
    }
   },
   "outputs": [],
   "source": [
    "import gensim\n",
    "# Load Google's pre-trained Word2Vec model.\n",
    "filepath = '/Users/chengjun/bigdata/GoogleNews-vectors-negative300.bin'\n",
    "model = gensim.models.KeyedVectors.load_word2vec_format(filepath, binary=True) "
   ]
  },
  {
   "cell_type": "code",
   "execution_count": 29,
   "metadata": {
    "ExecuteTime": {
     "end_time": "2024-08-04T03:24:54.321178Z",
     "start_time": "2024-08-04T03:24:54.314183Z"
    },
    "slideshow": {
     "slide_type": "subslide"
    }
   },
   "outputs": [
    {
     "data": {
      "text/plain": [
       "array([ 0.24316406, -0.07714844, -0.10302734, -0.10742188,  0.11816406,\n",
       "       -0.10742188, -0.11425781,  0.02563477,  0.11181641,  0.04858398],\n",
       "      dtype=float32)"
      ]
     },
     "execution_count": 29,
     "metadata": {},
     "output_type": "execute_result"
    }
   ],
   "source": [
    "model['woman'][:10]"
   ]
  },
  {
   "cell_type": "code",
   "execution_count": 31,
   "metadata": {
    "ExecuteTime": {
     "end_time": "2024-08-04T03:26:23.195463Z",
     "start_time": "2024-08-04T03:26:22.920970Z"
    },
    "slideshow": {
     "slide_type": "subslide"
    }
   },
   "outputs": [
    {
     "data": {
      "text/plain": [
       "[('Plato_Apology', 0.5661361217498779),\n",
       " ('philosopher_Socrates', 0.561074435710907),\n",
       " ('Aristotle', 0.5599992275238037),\n",
       " ('Parmenides', 0.5416265726089478),\n",
       " ('Sophists', 0.5381807088851929),\n",
       " ('Sócrates', 0.533310055732727),\n",
       " ('Plato', 0.5317621231079102),\n",
       " ('philosopher_Aristotle', 0.5256754755973816),\n",
       " ('Plato_Socrates', 0.5240647792816162),\n",
       " ('philosopher_Plato', 0.5164784789085388)]"
      ]
     },
     "execution_count": 31,
     "metadata": {},
     "output_type": "execute_result"
    }
   ],
   "source": [
    "model.most_similar('Socrates')"
   ]
  },
  {
   "cell_type": "code",
   "execution_count": 32,
   "metadata": {
    "ExecuteTime": {
     "end_time": "2024-08-04T03:26:53.787888Z",
     "start_time": "2024-08-04T03:26:53.772787Z"
    },
    "slideshow": {
     "slide_type": "subslide"
    }
   },
   "outputs": [
    {
     "data": {
      "text/plain": [
       "0.76640123"
      ]
     },
     "execution_count": 32,
     "metadata": {},
     "output_type": "execute_result"
    }
   ],
   "source": [
    "model.similarity('woman', 'man')"
   ]
  },
  {
   "cell_type": "code",
   "execution_count": 33,
   "metadata": {
    "ExecuteTime": {
     "end_time": "2024-08-04T03:27:07.391195Z",
     "start_time": "2024-08-04T03:27:07.381976Z"
    },
    "slideshow": {
     "slide_type": "fragment"
    }
   },
   "outputs": [
    {
     "data": {
      "text/plain": [
       "0.76640123"
      ]
     },
     "execution_count": 33,
     "metadata": {},
     "output_type": "execute_result"
    }
   ],
   "source": [
    "cos_sim(model['woman'], model['man'])"
   ]
  },
  {
   "cell_type": "code",
   "execution_count": 37,
   "metadata": {
    "ExecuteTime": {
     "end_time": "2024-08-04T03:28:59.716020Z",
     "start_time": "2024-08-04T03:28:59.462173Z"
    },
    "slideshow": {
     "slide_type": "subslide"
    }
   },
   "outputs": [
    {
     "data": {
      "text/plain": [
       "[('went', 0.7435076236724854),\n",
       " ('came', 0.5402584671974182),\n",
       " ('ran', 0.5255370140075684),\n",
       " ('gone', 0.5027263164520264),\n",
       " ('stayed', 0.4797917604446411)]"
      ]
     },
     "execution_count": 37,
     "metadata": {},
     "output_type": "execute_result"
    }
   ],
   "source": [
    "#model.most_similar(positive=['woman', 'king'], negative=['man'], topn=5)\n",
    "#model.most_similar(positive=['London', 'China'], negative=['Beijing'], topn=5)\n",
    "#model.most_similar(positive=['big', 'worst'], negative=['bad'], topn=5)\n",
    "model.most_similar(positive=['go', 'did'], negative=['do'], topn=5)"
   ]
  },
  {
   "cell_type": "markdown",
   "metadata": {
    "slideshow": {
     "slide_type": "subslide"
    }
   },
   "source": [
    "$$King- Queen = Man - Woman$$"
   ]
  },
  {
   "cell_type": "markdown",
   "metadata": {
    "slideshow": {
     "slide_type": "subslide"
    }
   },
   "source": [
    "\n",
    "<img src= 'img/word2vec/word2vec.png' width= \"700px\">"
   ]
  },
  {
   "cell_type": "code",
   "execution_count": 39,
   "metadata": {
    "ExecuteTime": {
     "end_time": "2024-08-04T03:30:15.506542Z",
     "start_time": "2024-08-04T03:30:15.501677Z"
    },
    "slideshow": {
     "slide_type": "subslide"
    }
   },
   "outputs": [],
   "source": [
    "from numpy import dot  #Dot product#\n",
    "from numpy.linalg import norm\n",
    "from sklearn.metrics.pairwise import cosine_similarity\n",
    "from scipy import spatial\n",
    "\n",
    "\n",
    "def cos_sim(a, b):\n",
    "    return dot(a, b)/(norm(a)*norm(b))\n",
    "\n",
    "def cos(x, y):\n",
    "    return 1 - spatial.distance.cosine(x, y)\n",
    "\n",
    "def nrm(x):\n",
    "    # Normalize vector#\n",
    "    return x/norm(x)\n",
    "\n",
    "def dimension(x, y):\n",
    "    # Calculate semantic dimension from antonym pair#\n",
    "    return nrm(nrm(x)-nrm(y))\n"
   ]
  },
  {
   "cell_type": "code",
   "execution_count": 40,
   "metadata": {
    "ExecuteTime": {
     "end_time": "2024-08-04T03:30:20.615247Z",
     "start_time": "2024-08-04T03:30:20.606779Z"
    },
    "slideshow": {
     "slide_type": "subslide"
    }
   },
   "outputs": [
    {
     "data": {
      "text/plain": [
       "array([ 0.07256063,  0.12535858,  0.07870991,  0.0066219 , -0.00821159,\n",
       "        0.03305559, -0.06257528, -0.00975556,  0.02929368, -0.02553372],\n",
       "      dtype=float32)"
      ]
     },
     "execution_count": 40,
     "metadata": {},
     "output_type": "execute_result"
    }
   ],
   "source": [
    "dimension(model['man'], model['woman'])[:10]"
   ]
  },
  {
   "cell_type": "code",
   "execution_count": 41,
   "metadata": {
    "ExecuteTime": {
     "end_time": "2024-08-04T03:30:33.411130Z",
     "start_time": "2024-08-04T03:30:33.253872Z"
    },
    "slideshow": {
     "slide_type": "subslide"
    }
   },
   "outputs": [],
   "source": [
    "###IMPORT LISTS OF TERMS TO PROJECT AND ANTONYM PAIRS#####\n",
    "import pandas as pd\n",
    "ant_pairs_aff = pd.read_csv(\"../data/word_pairs/affluence_pairs.csv\",header=None)\n",
    "ant_pairs_gen = pd.read_csv(\"../data/word_pairs/gender_pairs.csv\",header=None)\n",
    "ant_pairs_race = pd.read_csv(\"../data/word_pairs/race_pairs.csv\",header=None)"
   ]
  },
  {
   "cell_type": "markdown",
   "metadata": {
    "ExecuteTime": {
     "end_time": "2020-08-14T05:35:19.253721Z",
     "start_time": "2020-08-14T05:35:19.248336Z"
    },
    "slideshow": {
     "slide_type": "skip"
    }
   },
   "source": [
    "```R\n",
    "make_dim<-function(embedding,pairs){\n",
    "                    word_dims<-data.frame(matrix(NA,nrow(pairs),300))\n",
    "                    for (j in 1:nrow(pairs)){\n",
    "                    rp_word1<-pairs[j,1]\n",
    "                    rp_word2<-pairs[j,2]\n",
    "                    tryCatch(word_dims[j,]<-dimension(embedding[rp_word1,],\n",
    "                        embedding[rp_word2,]),\n",
    "                        error=function(e){})\n",
    "                    }\n",
    "                    dim_ave<-colMeans(word_dims, na.rm = TRUE)\n",
    "                    dim_ave_n<-nrm(dim_ave)\n",
    "                    return(dim_ave_n)\n",
    "                    }\n",
    "```"
   ]
  },
  {
   "cell_type": "code",
   "execution_count": 42,
   "metadata": {
    "ExecuteTime": {
     "end_time": "2024-08-04T03:30:37.853213Z",
     "start_time": "2024-08-04T03:30:37.843930Z"
    },
    "slideshow": {
     "slide_type": "subslide"
    }
   },
   "outputs": [],
   "source": [
    "def make_dim(model, df):\n",
    "    word_dims = []\n",
    "    for i in df.index:\n",
    "        rp_word1 = df[0][i]\n",
    "        rp_word2 = df[1][i]\n",
    "        try:\n",
    "            word_dims.append( dimension(model[rp_word1], model[rp_word2]) )\n",
    "        except:\n",
    "            pass\n",
    "    dim_ave = pd.DataFrame(word_dims).mean().tolist()\n",
    "    dim_ave_= nrm(dim_ave)\n",
    "    return dim_ave\n",
    "    "
   ]
  },
  {
   "cell_type": "code",
   "execution_count": 43,
   "metadata": {
    "ExecuteTime": {
     "end_time": "2024-08-04T03:30:40.985134Z",
     "start_time": "2024-08-04T03:30:40.829064Z"
    },
    "slideshow": {
     "slide_type": "subslide"
    }
   },
   "outputs": [],
   "source": [
    "aff_dim = make_dim(model, ant_pairs_aff)\n",
    "gender_dim = make_dim(model, ant_pairs_gen)\n",
    "race_dim = make_dim(model, ant_pairs_race)\n"
   ]
  },
  {
   "cell_type": "code",
   "execution_count": 44,
   "metadata": {
    "ExecuteTime": {
     "end_time": "2024-08-04T03:30:53.223559Z",
     "start_time": "2024-08-04T03:30:53.217667Z"
    },
    "slideshow": {
     "slide_type": "subslide"
    }
   },
   "outputs": [
    {
     "data": {
      "text/plain": [
       "(-0.014282565941581948, -0.10834102708111581, -0.060338924032504515)"
      ]
     },
     "execution_count": 44,
     "metadata": {},
     "output_type": "execute_result"
    }
   ],
   "source": [
    "cos(aff_dim,gender_dim), cos(aff_dim,race_dim), cos(gender_dim,race_dim)"
   ]
  },
  {
   "cell_type": "code",
   "execution_count": 45,
   "metadata": {
    "ExecuteTime": {
     "end_time": "2024-08-04T03:31:00.001106Z",
     "start_time": "2024-08-04T03:30:59.983439Z"
    },
    "slideshow": {
     "slide_type": "subslide"
    }
   },
   "outputs": [],
   "source": [
    "wlist=[\"camping\",\"baseball\",\"boxing\",\"volleyball\",\"softball\",\n",
    "       \"badminton\", \"golf\",\"tennis\",\"soccer\",\"basketball\",\"hockey\"]\n",
    "\n",
    "aff_proj = [cos(aff_dim, model[i]) for i in wlist]\n",
    "gender_proj = [cos(gender_dim, model[i]) for i in wlist]\n",
    "race_proj = [cos(race_dim, model[i]) for i in wlist]"
   ]
  },
  {
   "cell_type": "code",
   "execution_count": 20,
   "metadata": {
    "ExecuteTime": {
     "end_time": "2024-08-01T05:58:10.594033Z",
     "start_time": "2024-08-01T05:58:09.702748Z"
    },
    "code_folding": [
     0
    ],
    "slideshow": {
     "slide_type": "subslide"
    }
   },
   "outputs": [
    {
     "data": {
      "image/png": "[encoded data removed]",
      "text/plain": [
       "<Figure size 576x576 with 1 Axes>"
      ]
     },
     "metadata": {},
     "output_type": "display_data"
    }
   ],
   "source": [
    "# plot\n",
    "import matplotlib.pyplot as plt\n",
    "import matplotlib\n",
    "matplotlib.style.use('ggplot')\n",
    "\n",
    "plt.figure(figsize  = [8, 8])\n",
    "plt.plot(gender_proj, aff_proj, 'ro')\n",
    "for k, i in enumerate(wlist):\n",
    "    plt.text(gender_proj[k], aff_proj[k], i, fontsize = 16)\n",
    "plt.xlim([-0.25, 0.25])\n",
    "plt.ylim([-0.25, 0.25])\n",
    "plt.xlabel('Gender', fontsize = 16)\n",
    "plt.ylabel('Affluence', fontsize = 16)\n",
    "\n",
    "plt.show()"
   ]
  },
  {
   "cell_type": "code",
   "execution_count": 96,
   "metadata": {
    "ExecuteTime": {
     "end_time": "2020-08-14T06:00:48.733815Z",
     "start_time": "2020-08-14T06:00:48.574819Z"
    },
    "slideshow": {
     "slide_type": "subslide"
    }
   },
   "outputs": [
    {
     "data": {
      "image/png": "[encoded data removed]",
      "text/plain": [
       "<Figure size 576x576 with 1 Axes>"
      ]
     },
     "metadata": {},
     "output_type": "display_data"
    }
   ],
   "source": [
    "plt.figure(figsize  = [8, 8])\n",
    "plt.plot(gender_proj, race_proj, 'ro')\n",
    "for k, i in enumerate(wlist):\n",
    "    plt.text(gender_proj[k], race_proj[k], i, fontsize = 16)\n",
    "plt.xlim([-0.25, 0.25])\n",
    "plt.ylim([-0.25, 0.25])\n",
    "\n",
    "plt.show()"
   ]
  },
  {
   "cell_type": "markdown",
   "metadata": {
    "slideshow": {
     "slide_type": "subslide"
    }
   },
   "source": [
    "Now that we’ve looked at trained word embeddings, \n",
    "\n",
    "- let’s learn more about the training process. \n",
    "- But before we get to word2vec, we need to look at a conceptual parent of word embeddings: **the neural language model**.\n",
    "\n"
   ]
  },
  {
   "cell_type": "markdown",
   "metadata": {
    "slideshow": {
     "slide_type": "slide"
    }
   },
   "source": [
    "# The neural language model\n",
    "\n",
    "“You shall know a word by the company it keeps” J.R. Firth\n",
    "\n",
    "\n",
    "\n",
    "> Bengio 2003 A Neural Probabilistic Language Model. Journal of Machine Learning Research. 3:1137–1155\n",
    "\n",
    "After being trained, early neural language models (Bengio 2003) would calculate a prediction in three steps:\n",
    "\n"
   ]
  },
  {
   "cell_type": "markdown",
   "metadata": {
    "slideshow": {
     "slide_type": "subslide"
    }
   },
   "source": [
    "<img src= 'img/word2vec/bengio.png' width= \"800px\">\n",
    "\n",
    "Bengio 2003"
   ]
  },
  {
   "cell_type": "markdown",
   "metadata": {
    "slideshow": {
     "slide_type": "subslide"
    }
   },
   "source": [
    "\n",
    "The $y_i$ are the unnormalized log-probabilities for each output word i, computed as follows, with\n",
    "parameters b,W,U,d and H:\n",
    "\n",
    "$$y = b+W x+U tanh(d +Hx) $$\n",
    "\n",
    "where the hyperbolic tangent tanh is applied element by element, W is optionally zero (no direct\n",
    "connections), and x is the word features layer activation vector, which is the concatenation of the\n",
    "input word features from the matrix C:\n",
    "\n",
    "$$x = (C(wt−1),C(wt−2),··· ,C(wt−n+1))$$\n",
    "\n"
   ]
  },
  {
   "cell_type": "markdown",
   "metadata": {
    "slideshow": {
     "slide_type": "subslide"
    }
   },
   "source": [
    "<img src= 'img/word2vec/neural-language-model-prediction.png' width= \"700px\">\n"
   ]
  },
  {
   "cell_type": "code",
   "execution_count": 41,
   "metadata": {
    "ExecuteTime": {
     "end_time": "2021-08-09T03:01:12.012324Z",
     "start_time": "2021-08-09T03:01:11.986339Z"
    },
    "slideshow": {
     "slide_type": "subslide"
    }
   },
   "outputs": [],
   "source": [
    "import torch\n",
    "from torch import nn\n",
    "\n",
    "# nn.Embedding is a look-up table \n",
    "# As no model has been trained, they will be random.\n",
    "nn.Embedding?"
   ]
  },
  {
   "cell_type": "code",
   "execution_count": 43,
   "metadata": {
    "ExecuteTime": {
     "end_time": "2021-08-09T03:03:27.633500Z",
     "start_time": "2021-08-09T03:03:27.597890Z"
    },
    "slideshow": {
     "slide_type": "subslide"
    }
   },
   "outputs": [
    {
     "data": {
      "text/plain": [
       "tensor([[[-2.3822, -0.4025, -1.2410, -2.6375, -0.6984]],\n",
       "\n",
       "        [[-0.3102, -0.9101, -0.9985, -0.1395, -0.9633]]],\n",
       "       grad_fn=<EmbeddingBackward0>)"
      ]
     },
     "execution_count": 43,
     "metadata": {},
     "output_type": "execute_result"
    }
   ],
   "source": [
    "import torch\n",
    "from torch import nn\n",
    "\n",
    "# nn.Embedding is a look-up table \n",
    "# As no model has been trained, they will be random.\n",
    "embedding = nn.Embedding(10, 5)\n",
    "# it contains 10 tensors (vocab_size = 10) of size 5 (embedding_dim = 3)\n",
    "# a batch of 2 samples of 1 indices each \n",
    "input = torch.LongTensor([[1],[4]])\n",
    "embedding(input)\n",
    "# return the embedding vectors corresponding \n",
    "# to the word 1 and 4 in your vocabulary. \n"
   ]
  },
  {
   "cell_type": "code",
   "execution_count": 122,
   "metadata": {
    "ExecuteTime": {
     "end_time": "2021-08-09T06:22:06.278169Z",
     "start_time": "2021-08-09T06:22:06.272176Z"
    },
    "slideshow": {
     "slide_type": "skip"
    }
   },
   "outputs": [
    {
     "data": {
      "text/plain": [
       "(tensor([[ 0.0313,  0.2405, -0.2528,  0.4643, -0.5979],\n",
       "         [ 1.4610,  0.4069, -1.8128,  0.0924, -0.9638]],\n",
       "        grad_fn=<EmbeddingBackward>),\n",
       " tensor([[ 0.0313,  0.2405, -0.2528,  0.4643, -0.5979,  1.4610,  0.4069, -1.8128,\n",
       "           0.0924, -0.9638]], grad_fn=<ViewBackward>))"
      ]
     },
     "execution_count": 122,
     "metadata": {},
     "output_type": "execute_result"
    }
   ],
   "source": [
    "embedding(torch.LongTensor([1,4])), embedding(torch.LongTensor([1,4])).view(1, -1)"
   ]
  },
  {
   "cell_type": "markdown",
   "metadata": {
    "ExecuteTime": {
     "end_time": "2019-04-05T10:08:02.288041Z",
     "start_time": "2019-04-05T10:08:02.282384Z"
    },
    "slideshow": {
     "slide_type": "subslide"
    }
   },
   "source": [
    "The output of the neural language model is a probability score for all the words the model knows. \n",
    "- We're referring to the probability as a percentage here, \n",
    "- but 40% would actually be represented as 0.4 in the output vector.\n"
   ]
  },
  {
   "cell_type": "markdown",
   "metadata": {
    "slideshow": {
     "slide_type": "subslide"
    }
   },
   "source": [
    "## Language Model Training\n",
    "\n",
    "- We get a lot of text data (say, all Wikipedia articles, for example). then\n",
    "- We have a window (say, of three words) that we slide against all of that text.\n",
    "- The sliding window generates training samples for our model"
   ]
  },
  {
   "cell_type": "markdown",
   "metadata": {
    "slideshow": {
     "slide_type": "subslide"
    }
   },
   "source": [
    "\n",
    "<img src= 'img/word2vec/lm-sliding-window-4.png' width= \"700px\">"
   ]
  },
  {
   "cell_type": "markdown",
   "metadata": {
    "slideshow": {
     "slide_type": "fragment"
    }
   },
   "source": [
    "As this window slides against the text, we (virtually) generate a dataset that we use to train a model. "
   ]
  },
  {
   "cell_type": "markdown",
   "metadata": {
    "slideshow": {
     "slide_type": "subslide"
    }
   },
   "source": [
    "Instead of only looking two words before the target word, we can also look at two words after it.\n",
    "\n",
    "\n",
    "\n",
    "\n",
    "<img src= 'img/word2vec/continuous-bag-of-words-example.png' width= \"700px\">\n",
    "\n"
   ]
  },
  {
   "cell_type": "markdown",
   "metadata": {
    "slideshow": {
     "slide_type": "subslide"
    }
   },
   "source": [
    "If we do this, the dataset we’re virtually building and training the model against would look like this:\n",
    "\n",
    "<img src= 'img/word2vec/continuous-bag-of-words-dataset.png' width= \"700px\">\n",
    "\n",
    "This is called a **Continuous Bag of Words** (CBOW) https://arxiv.org/pdf/1301.3781.pdf"
   ]
  },
  {
   "cell_type": "markdown",
   "metadata": {
    "slideshow": {
     "slide_type": "subslide"
    }
   },
   "source": [
    "## Skip-gram\n",
    "Instead of guessing a word based on its context (the words before and after it), this other architecture tries to guess neighboring words using the current word. \n",
    "\n",
    "<img src= 'img/word2vec/skipgram.png' width= \"700px\">\n",
    "\n",
    "https://arxiv.org/pdf/1301.3781.pdf"
   ]
  },
  {
   "cell_type": "markdown",
   "metadata": {
    "slideshow": {
     "slide_type": "subslide"
    }
   },
   "source": [
    "\n",
    "\n",
    "<img src= 'img/word2vec/skipgram-sliding-window-samples.png' width= \"700px\">"
   ]
  },
  {
   "cell_type": "markdown",
   "metadata": {
    "slideshow": {
     "slide_type": "subslide"
    }
   },
   "source": [
    "The pink boxes are in different shades because this sliding window actually creates four separate samples in our training dataset.\n",
    "\n",
    "\n",
    "- We then slide our window to the next position:\n",
    "- Which generates our next four examples:\n",
    "\n"
   ]
  },
  {
   "cell_type": "markdown",
   "metadata": {
    "slideshow": {
     "slide_type": "subslide"
    }
   },
   "source": [
    "\n",
    "<img src= 'img/word2vec/skipgram-language-model-training.png' width= \"700px\">"
   ]
  },
  {
   "cell_type": "markdown",
   "metadata": {
    "slideshow": {
     "slide_type": "subslide"
    }
   },
   "source": [
    "\n",
    "\n",
    "<img src= 'img/word2vec/skipgram-language-model-training-4.png' width= \"700px\">"
   ]
  },
  {
   "cell_type": "markdown",
   "metadata": {
    "slideshow": {
     "slide_type": "subslide"
    }
   },
   "source": [
    "\n",
    "\n",
    "<img src= 'img/word2vec/skipgram-language-model-training-5.png' width= \"700px\">"
   ]
  },
  {
   "cell_type": "markdown",
   "metadata": {
    "slideshow": {
     "slide_type": "subslide"
    }
   },
   "source": [
    "we need to introduce negative samples to our dataset\n",
    "- samples of words that are not neighbors. \n",
    "- Our model needs to return 0 for those samples.\n",
    "- This leads to a great tradeoff of computational and statistical efficiency.\n",
    "\n",
    "## Skipgram with Negative Sampling (SGNS)\n"
   ]
  },
  {
   "cell_type": "markdown",
   "metadata": {
    "slideshow": {
     "slide_type": "subslide"
    }
   },
   "source": [
    "The *skip-gram* model assumes that a word can be used to generate its surrounding words in a text sequence.\n",
    "Take the text sequence \"the\", \"man\", \"loves\", \"his\", \"son\" as an example.\n",
    "Let us choose \"loves\" as the *center word* and set the context window size to 2.\n",
    "\n",
    "\n",
    "Given the center word \"loves\",\n",
    "the skip-gram model considers\n",
    "the conditional probability for generating the *context words*: \"the\", \"man\", \"his\", and \"son\",\n",
    "which are no more than 2 words away from the center word:\n",
    "\n",
    "$$P(\\textrm{\"the\"},\\textrm{\"man\"},\\textrm{\"his\"},\\textrm{\"son\"}\\mid\\textrm{\"loves\"}).$$\n",
    "\n",
    "\n",
    "Assume that\n",
    "the context words are independently generated\n",
    "given the center word (i.e., conditional independence).\n",
    "In this case, the above conditional probability\n",
    "can be rewritten as\n",
    "\n",
    "$$P(\\textrm{\"the\"}\\mid\\textrm{\"loves\"})\\cdot P(\\textrm{\"man\"}\\mid\\textrm{\"loves\"})\\cdot P(\\textrm{\"his\"}\\mid\\textrm{\"loves\"})\\cdot P(\\textrm{\"son\"}\\mid\\textrm{\"loves\"}).$$"
   ]
  },
  {
   "cell_type": "markdown",
   "metadata": {
    "slideshow": {
     "slide_type": "subslide"
    }
   },
   "source": [
    "In the skip-gram model, each word\n",
    "has two $d$-dimensional-vector representations\n",
    "for calculating conditional probabilities.\n",
    "More concretely,\n",
    "for any word with index $i$ in the dictionary,\n",
    "denote by $\\mathbf{v}_i\\in\\mathbb{R}^d$\n",
    "and $\\mathbf{u}_i\\in\\mathbb{R}^d$\n",
    "its two vectors\n",
    "when used as a *center* word and a *context* word, respectively.\n",
    "The conditional probability of generating any\n",
    "context word $w_o$ (with index $o$ in the dictionary) given the center word $w_c$ (with index $c$ in the dictionary) can be modeled by\n",
    "a softmax operation on vector dot products:\n",
    "\n",
    "\n",
    "$$P(w_o \\mid w_c) = \\frac{\\text{exp}(\\mathbf{u}_o^\\top \\mathbf{v}_c)}{ \\sum_{i \\in \\mathcal{V}} \\text{exp}(\\mathbf{u}_i^\\top \\mathbf{v}_c)},$$\n",
    "\n",
    "where the vocabulary index set $\\mathcal{V} = \\{0, 1, \\ldots, |\\mathcal{V}|-1\\}$.\n",
    "Given a text sequence of length $T$, where the word at time step $t$ is denoted as $w^{(t)}$.\n",
    "Assume that\n",
    "context words are independently generated\n",
    "given any center word.\n",
    "\n",
    "http://d2l.ai/chapter_natural-language-processing-pretraining/word2vec.html#the-skip-gram-model\n"
   ]
  },
  {
   "cell_type": "markdown",
   "metadata": {
    "ExecuteTime": {
     "end_time": "2019-04-05T10:45:28.851644Z",
     "start_time": "2019-04-05T10:45:28.847193Z"
    },
    "slideshow": {
     "slide_type": "subslide"
    }
   },
   "source": [
    "\n",
    "\n",
    "<img src= 'img/word2vec/language-model-expensive.png' width= \"700px\">"
   ]
  },
  {
   "cell_type": "markdown",
   "metadata": {
    "slideshow": {
     "slide_type": "slide"
    }
   },
   "source": [
    "## Negative Sampling\n"
   ]
  },
  {
   "cell_type": "markdown",
   "metadata": {
    "slideshow": {
     "slide_type": "subslide"
    }
   },
   "source": [
    "And switch it to a model that takes the input and output word, and outputs a score indicating **if they’re neighbors or not** \n",
    "- 0 for “not neighbors”, 1 for “neighbors”.\n",
    "\n",
    "\n",
    "\n",
    "<img src= 'img/word2vec/are-the-words-neighbors.png' width= \"700px\">"
   ]
  },
  {
   "cell_type": "markdown",
   "metadata": {
    "slideshow": {
     "slide_type": "subslide"
    }
   },
   "source": [
    "\n",
    "<img src= 'img/word2vec/word2vec-negative-sampling-2.png' width= \"700px\">"
   ]
  },
  {
   "cell_type": "markdown",
   "metadata": {
    "ExecuteTime": {
     "end_time": "2019-04-05T10:48:55.984057Z",
     "start_time": "2019-04-05T10:48:55.979592Z"
    },
    "slideshow": {
     "slide_type": "subslide"
    }
   },
   "source": [
    "## Word2vec Training Process\n",
    "\n",
    "\n",
    "<img src= 'img/word2vec/word2vec-training-update.png' width= \"700px\">\n",
    "\n",
    "The embeddings continue to be improved while we cycle through our entire dataset for a number of times. We can then stop the training process, discard the Context matrix, and use the Embeddings matrix as our pre-trained embeddings for the next task."
   ]
  },
  {
   "cell_type": "markdown",
   "metadata": {
    "ExecuteTime": {
     "end_time": "2019-04-05T10:48:55.984057Z",
     "start_time": "2019-04-05T10:48:55.979592Z"
    },
    "slideshow": {
     "slide_type": "subslide"
    }
   },
   "source": [
    "\n",
    "<img src= 'img/word2vec/cbow.png' width= \"700px\">"
   ]
  },
  {
   "cell_type": "markdown",
   "metadata": {
    "slideshow": {
     "slide_type": "slide"
    }
   },
   "source": [
    "# Pytorch word2vec \n",
    "https://github.com/jojonki/word2vec-pytorch/blob/master/word2vec.ipynb\n",
    "\n",
    "https://github.com/bamtercelboo/pytorch_word2vec/blob/master/model.py"
   ]
  },
  {
   "cell_type": "code",
   "execution_count": 44,
   "metadata": {
    "ExecuteTime": {
     "end_time": "2021-08-09T03:22:02.518537Z",
     "start_time": "2021-08-09T03:22:02.494480Z"
    },
    "slideshow": {
     "slide_type": "subslide"
    }
   },
   "outputs": [
    {
     "data": {
      "text/plain": [
       "<torch._C.Generator at 0x212140570>"
      ]
     },
     "execution_count": 44,
     "metadata": {},
     "output_type": "execute_result"
    }
   ],
   "source": [
    "# see http://pytorch.org/tutorials/beginner/nlp/word_embeddings_tutorial.html\n",
    "import torch\n",
    "from torch.autograd import Variable\n",
    "import torch.nn as nn\n",
    "import torch.nn.functional as F\n",
    "import torch.optim as optim\n",
    "\n",
    "torch.manual_seed(1) "
   ]
  },
  {
   "cell_type": "code",
   "execution_count": 45,
   "metadata": {
    "ExecuteTime": {
     "end_time": "2021-08-09T03:22:24.544075Z",
     "start_time": "2021-08-09T03:22:24.539368Z"
    },
    "slideshow": {
     "slide_type": "subslide"
    }
   },
   "outputs": [],
   "source": [
    "text = \"\"\"We are about to study the idea of a computational process.\n",
    "Computational processes are abstract beings that inhabit computers.\n",
    "As they evolve, processes manipulate other abstract things called data.\n",
    "The evolution of a process is directed by a pattern of rules\n",
    "called a program. People create programs to direct processes. In effect,\n",
    "we conjure the spirits of the computer with our spells.\"\"\"\n",
    "\n",
    "text = text.replace(',', '').replace('.', '').lower().split()"
   ]
  },
  {
   "cell_type": "code",
   "execution_count": 46,
   "metadata": {
    "ExecuteTime": {
     "end_time": "2021-08-09T03:23:19.097557Z",
     "start_time": "2021-08-09T03:23:19.091475Z"
    },
    "slideshow": {
     "slide_type": "subslide"
    }
   },
   "outputs": [
    {
     "name": "stdout",
     "output_type": "stream",
     "text": [
      "vocab_size: 44\n"
     ]
    }
   ],
   "source": [
    "# By deriving a set from `raw_text`, we deduplicate the array\n",
    "vocab = set(text)\n",
    "vocab_size = len(vocab)\n",
    "print('vocab_size:', vocab_size)\n",
    "\n",
    "w2i = {w: i for i, w in enumerate(vocab)}\n",
    "i2w = {i: w for i, w in enumerate(vocab)}"
   ]
  },
  {
   "cell_type": "code",
   "execution_count": 47,
   "metadata": {
    "ExecuteTime": {
     "end_time": "2021-08-09T03:23:55.890819Z",
     "start_time": "2021-08-09T03:23:55.884356Z"
    },
    "slideshow": {
     "slide_type": "subslide"
    }
   },
   "outputs": [
    {
     "name": "stdout",
     "output_type": "stream",
     "text": [
      "cbow sample (['we', 'are', 'to', 'study'], 'about')\n"
     ]
    }
   ],
   "source": [
    "# context window size is two\n",
    "def create_cbow_dataset(text):\n",
    "    data = []\n",
    "    for i in range(2, len(text) - 2):\n",
    "        context = [text[i - 2], text[i - 1],\n",
    "                   text[i + 1], text[i + 2]]\n",
    "        target = text[i]\n",
    "        data.append((context, target))\n",
    "    return data\n",
    "\n",
    "cbow_train = create_cbow_dataset(text)\n",
    "print('cbow sample', cbow_train[0])\n"
   ]
  },
  {
   "cell_type": "code",
   "execution_count": 48,
   "metadata": {
    "ExecuteTime": {
     "end_time": "2021-08-09T03:24:57.159574Z",
     "start_time": "2021-08-09T03:24:57.146050Z"
    },
    "slideshow": {
     "slide_type": "subslide"
    }
   },
   "outputs": [
    {
     "name": "stdout",
     "output_type": "stream",
     "text": [
      "skipgram sample ('about', 'we', 1)\n"
     ]
    }
   ],
   "source": [
    "def create_skipgram_dataset(text):\n",
    "    import random\n",
    "    data = []\n",
    "    for i in range(2, len(text) - 2):\n",
    "        data.append((text[i], text[i-2], 1))\n",
    "        data.append((text[i], text[i-1], 1))\n",
    "        data.append((text[i], text[i+1], 1))\n",
    "        data.append((text[i], text[i+2], 1))\n",
    "        # negative sampling\n",
    "        for _ in range(4):\n",
    "            if random.random() < 0.5 or i >= len(text) - 3:\n",
    "                rand_id = random.randint(0, i-1)\n",
    "            else:\n",
    "                rand_id = random.randint(i+3, len(text)-1)\n",
    "            data.append((text[i], text[rand_id], 0))\n",
    "    return data\n",
    "\n",
    "\n",
    "skipgram_train = create_skipgram_dataset(text)\n",
    "print('skipgram sample', skipgram_train[0])"
   ]
  },
  {
   "cell_type": "code",
   "execution_count": 49,
   "metadata": {
    "ExecuteTime": {
     "end_time": "2021-08-09T03:26:55.379831Z",
     "start_time": "2021-08-09T03:26:55.372617Z"
    },
    "slideshow": {
     "slide_type": "subslide"
    }
   },
   "outputs": [],
   "source": [
    "class CBOW(nn.Module):\n",
    "    def __init__(self, vocab_size, embd_size, context_size, hidden_size):\n",
    "        super(CBOW, self).__init__()\n",
    "        self.embeddings = nn.Embedding(vocab_size, embd_size)\n",
    "        self.linear1 = nn.Linear(2*context_size*embd_size, hidden_size)\n",
    "        self.linear2 = nn.Linear(hidden_size, vocab_size)\n",
    "        \n",
    "    def forward(self, inputs):\n",
    "        embedded = self.embeddings(inputs).view((1, -1))\n",
    "        hid = F.relu(self.linear1(embedded))\n",
    "        out = self.linear2(hid)\n",
    "        log_probs = F.log_softmax(out, dim = 1)\n",
    "        return log_probs\n",
    "    \n",
    "    def extract(self, inputs):\n",
    "        embeds = self.embeddings(inputs)\n",
    "        return embeds"
   ]
  },
  {
   "cell_type": "code",
   "execution_count": 50,
   "metadata": {
    "ExecuteTime": {
     "end_time": "2021-08-09T03:29:32.402134Z",
     "start_time": "2021-08-09T03:29:32.395614Z"
    },
    "slideshow": {
     "slide_type": "subslide"
    }
   },
   "outputs": [],
   "source": [
    "class SkipGram(nn.Module):\n",
    "    def __init__(self, vocab_size, embd_size):\n",
    "        super(SkipGram, self).__init__()\n",
    "        self.embeddings = nn.Embedding(vocab_size, embd_size)\n",
    "    \n",
    "    def forward(self, focus, context):\n",
    "        embed_focus = self.embeddings(focus).view((1, -1)) # input\n",
    "        embed_ctx = self.embeddings(context).view((1, -1)) # output\n",
    "        score = torch.mm(embed_focus, torch.t(embed_ctx)) # input*output\n",
    "        log_probs = F.logsigmoid(score) # sigmoid\n",
    "        return log_probs\n",
    "    \n",
    "    def extract(self, focus):\n",
    "        embed_focus = self.embeddings(focus)\n",
    "        return embed_focus"
   ]
  },
  {
   "cell_type": "markdown",
   "metadata": {
    "ExecuteTime": {
     "end_time": "2019-04-07T08:24:20.526644Z",
     "start_time": "2019-04-07T08:24:20.523217Z"
    },
    "slideshow": {
     "slide_type": "subslide"
    }
   },
   "source": [
    "`torch.mm` Performs a matrix multiplication of the matrices \n",
    "\n",
    "`torch.t` Expects :attr:`input` to be a matrix (2-D tensor) and transposes dimensions 0\n",
    "and 1. Can be seen as a short-hand function for ``transpose(input, 0, 1)``."
   ]
  },
  {
   "cell_type": "code",
   "execution_count": 51,
   "metadata": {
    "ExecuteTime": {
     "end_time": "2021-08-09T03:28:30.631900Z",
     "start_time": "2021-08-09T03:28:30.627685Z"
    },
    "slideshow": {
     "slide_type": "subslide"
    }
   },
   "outputs": [],
   "source": [
    "embd_size = 100\n",
    "learning_rate = 0.001\n",
    "n_epoch = 30\n",
    "CONTEXT_SIZE = 2  # 2 words to the left, 2 to the right"
   ]
  },
  {
   "cell_type": "code",
   "execution_count": 52,
   "metadata": {
    "ExecuteTime": {
     "end_time": "2021-08-09T03:28:48.333415Z",
     "start_time": "2021-08-09T03:28:48.322829Z"
    },
    "code_folding": [],
    "slideshow": {
     "slide_type": "subslide"
    }
   },
   "outputs": [],
   "source": [
    "def train_cbow():\n",
    "    hidden_size = 64\n",
    "    losses = []\n",
    "    loss_fn = nn.NLLLoss()\n",
    "    model = CBOW(vocab_size, embd_size, CONTEXT_SIZE, hidden_size)\n",
    "    print(model)\n",
    "    optimizer = optim.SGD(model.parameters(), lr=learning_rate)\n",
    "    for epoch in range(n_epoch):\n",
    "        total_loss = .0\n",
    "        for context, target in cbow_train:\n",
    "            ctx_idxs = [w2i[w] for w in context]\n",
    "            ctx_var = Variable(torch.LongTensor(ctx_idxs))\n",
    "\n",
    "            model.zero_grad()\n",
    "            log_probs = model(ctx_var)\n",
    "\n",
    "            loss = loss_fn(log_probs, Variable(torch.LongTensor([w2i[target]])))\n",
    "\n",
    "            loss.backward()\n",
    "            optimizer.step()\n",
    "\n",
    "            total_loss += loss.data.item()\n",
    "        losses.append(total_loss)\n",
    "    return model, losses "
   ]
  },
  {
   "cell_type": "code",
   "execution_count": 53,
   "metadata": {
    "ExecuteTime": {
     "end_time": "2021-08-09T03:29:08.733284Z",
     "start_time": "2021-08-09T03:29:08.721018Z"
    },
    "slideshow": {
     "slide_type": "subslide"
    }
   },
   "outputs": [],
   "source": [
    "def train_skipgram():\n",
    "    losses = []\n",
    "    loss_fn = nn.MSELoss()\n",
    "    model = SkipGram(vocab_size, embd_size)\n",
    "    print(model)\n",
    "    optimizer = optim.SGD(model.parameters(), lr=learning_rate)\n",
    "    \n",
    "    for epoch in range(n_epoch):\n",
    "        total_loss = .0\n",
    "        for in_w, out_w, target in skipgram_train:\n",
    "            in_w_var = Variable(torch.LongTensor([w2i[in_w]]))\n",
    "            out_w_var = Variable(torch.LongTensor([w2i[out_w]]))\n",
    "            \n",
    "            model.zero_grad()\n",
    "            log_probs = model(in_w_var, out_w_var)\n",
    "            loss = loss_fn(log_probs[0], Variable(torch.Tensor([target])))\n",
    "            \n",
    "            loss.backward()\n",
    "            optimizer.step()\n",
    "\n",
    "            total_loss += loss.data.item()\n",
    "        losses.append(total_loss)\n",
    "    return model, losses"
   ]
  },
  {
   "cell_type": "code",
   "execution_count": 54,
   "metadata": {
    "ExecuteTime": {
     "end_time": "2021-08-09T03:29:46.851285Z",
     "start_time": "2021-08-09T03:29:38.439313Z"
    },
    "slideshow": {
     "slide_type": "subslide"
    }
   },
   "outputs": [
    {
     "name": "stdout",
     "output_type": "stream",
     "text": [
      "CBOW(\n",
      "  (embeddings): Embedding(44, 100)\n",
      "  (linear1): Linear(in_features=400, out_features=64, bias=True)\n",
      "  (linear2): Linear(in_features=64, out_features=44, bias=True)\n",
      ")\n",
      "SkipGram(\n",
      "  (embeddings): Embedding(44, 100)\n",
      ")\n"
     ]
    }
   ],
   "source": [
    "cbow_model, cbow_losses = train_cbow()\n",
    "sg_model, sg_losses = train_skipgram()"
   ]
  },
  {
   "cell_type": "code",
   "execution_count": 55,
   "metadata": {
    "ExecuteTime": {
     "end_time": "2021-08-09T03:30:20.910470Z",
     "start_time": "2021-08-09T03:30:20.474872Z"
    },
    "slideshow": {
     "slide_type": "subslide"
    }
   },
   "outputs": [
    {
     "data": {
      "image/png": "[encoded data removed]",
      "text/plain": [
       "<Figure size 720x288 with 2 Axes>"
      ]
     },
     "metadata": {
      "needs_background": "light"
     },
     "output_type": "display_data"
    }
   ],
   "source": [
    "%matplotlib inline\n",
    "import matplotlib.pyplot as plt\n",
    "plt.figure(figsize= (10, 4))\n",
    "plt.subplot(121)\n",
    "plt.plot(range(n_epoch), cbow_losses, 'r-o', label = 'CBOW Losses')\n",
    "plt.legend()\n",
    "plt.subplot(122)\n",
    "plt.plot(range(n_epoch), sg_losses, 'g-s', label = 'SkipGram Losses')\n",
    "plt.legend()\n",
    "plt.tight_layout()\n"
   ]
  },
  {
   "cell_type": "code",
   "execution_count": 56,
   "metadata": {
    "ExecuteTime": {
     "end_time": "2021-08-09T03:32:16.089005Z",
     "start_time": "2021-08-09T03:32:16.081939Z"
    },
    "slideshow": {
     "slide_type": "subslide"
    }
   },
   "outputs": [
    {
     "data": {
      "text/plain": [
       "(array([-1.5265782 , -0.75102204, -0.6537413 , -1.6095216 , -0.10046538,\n",
       "        -0.6081966 , -0.9808079 , -1.6088549 , -0.7116271 ,  0.3036908 ],\n",
       "       dtype=float32),\n",
       " 'things')"
      ]
     },
     "execution_count": 56,
     "metadata": {},
     "output_type": "execute_result"
    }
   ],
   "source": [
    "cbow_vec = cbow_model.extract(Variable(torch.LongTensor([v for v in w2i.values()])))\n",
    "cbow_vec = cbow_vec.data.numpy()\n",
    "cbow_vec[0][:10], i2w[0]"
   ]
  },
  {
   "cell_type": "code",
   "execution_count": 57,
   "metadata": {
    "ExecuteTime": {
     "end_time": "2021-08-09T03:32:33.486555Z",
     "start_time": "2021-08-09T03:32:33.479240Z"
    },
    "slideshow": {
     "slide_type": "fragment"
    }
   },
   "outputs": [
    {
     "data": {
      "text/plain": [
       "(array([-1.1290283 , -1.2949514 ,  0.20717405, -0.78186876,  0.10776962,\n",
       "         0.268825  , -0.477101  , -1.0378562 ,  1.6678699 ,  2.1115868 ],\n",
       "       dtype=float32),\n",
       " 'things')"
      ]
     },
     "execution_count": 57,
     "metadata": {},
     "output_type": "execute_result"
    }
   ],
   "source": [
    "sg_vec = sg_model.extract(Variable(torch.LongTensor([v for v in w2i.values()])))\n",
    "sg_vec = sg_vec.data.numpy()\n",
    "sg_vec[0][:10], i2w[0]"
   ]
  },
  {
   "cell_type": "code",
   "execution_count": 27,
   "metadata": {
    "ExecuteTime": {
     "end_time": "2019-04-07T09:09:21.040471Z",
     "start_time": "2019-04-07T09:09:20.289414Z"
    },
    "code_folding": [
     0
    ],
    "slideshow": {
     "slide_type": "subslide"
    }
   },
   "outputs": [
    {
     "data": {
      "image/png": "[encoded data removed]",
      "text/plain": [
       "<Figure size 1440x720 with 1 Axes>"
      ]
     },
     "metadata": {
      "needs_background": "light"
     },
     "output_type": "display_data"
    }
   ],
   "source": [
    "# 利用PCA算法进行降维\n",
    "from sklearn.decomposition import PCA\n",
    "X_reduced = PCA(n_components=2).fit_transform(sg_vec)\n",
    "\n",
    "# 绘制所有单词向量的二维空间投影\n",
    "import matplotlib.pyplot as plt\n",
    "import matplotlib\n",
    "\n",
    "fig = plt.figure(figsize = (20, 10))\n",
    "ax = fig.gca()\n",
    "ax.set_facecolor('black')\n",
    "ax.plot(X_reduced[:, 0], X_reduced[:, 1], '.', markersize = 1, alpha = 0.4, color = 'white')\n",
    "# 绘制几个特殊单词的向量\n",
    "words = list(w2i.keys())\n",
    "# 设置中文字体，否则无法在图形上显示中文\n",
    "for w in words:\n",
    "    if w in w2i:\n",
    "        ind = w2i[w]\n",
    "        xy = X_reduced[ind]\n",
    "        plt.plot(xy[0], xy[1], '.', alpha =1, color = 'red')\n",
    "        plt.text(xy[0], xy[1], w, alpha = 1, color = 'white', fontsize = 20)"
   ]
  },
  {
   "cell_type": "markdown",
   "metadata": {
    "slideshow": {
     "slide_type": "slide"
    }
   },
   "source": [
    "# NGram词向量模型\n",
    "\n",
    "本文件是集智AI学园http://campus.swarma.org 出品的“火炬上的深度学习”第VI课的配套源代码\n",
    "\n",
    "原理：利用一个人工神经网络来根据前N个单词来预测下一个单词，从而得到每个单词的词向量\n",
    "\n",
    "以刘慈欣著名的科幻小说《三体》为例，来展示利用NGram模型训练词向量的方法\n",
    "- 预处理分为两个步骤：1、读取文件、2、分词、3、将语料划分为N＋1元组，准备好训练用数据\n",
    "- 在这里，我们并没有去除标点符号，一是为了编程简洁，而是考虑到分词会自动将标点符号当作一个单词处理，因此不需要额外考虑。"
   ]
  },
  {
   "cell_type": "code",
   "execution_count": 58,
   "metadata": {
    "ExecuteTime": {
     "end_time": "2021-08-09T03:34:43.206396Z",
     "start_time": "2021-08-09T03:34:43.200389Z"
    },
    "slideshow": {
     "slide_type": "subslide"
    }
   },
   "outputs": [],
   "source": [
    "with open(\"../data/3body.txt\", 'r') as f:\n",
    "    text = str(f.read())"
   ]
  },
  {
   "cell_type": "code",
   "execution_count": 59,
   "metadata": {
    "ExecuteTime": {
     "end_time": "2021-08-09T03:34:51.349197Z",
     "start_time": "2021-08-09T03:34:51.155998Z"
    },
    "slideshow": {
     "slide_type": "subslide"
    }
   },
   "outputs": [
    {
     "name": "stderr",
     "output_type": "stream",
     "text": [
      "Building prefix dict from the default dictionary ...\n",
      "Dumping model to file cache /var/folders/8b/hhnbt0nd4zsg2qhxc28q23w80000gn/T/jieba.cache\n",
      "Loading model cost 2.876 seconds.\n",
      "Prefix dict has been built successfully.\n"
     ]
    },
    {
     "name": "stdout",
     "output_type": "stream",
     "text": [
      "7754\n"
     ]
    }
   ],
   "source": [
    "import jieba, re\n",
    "temp = jieba.lcut(text)\n",
    "words = []\n",
    "for i in temp:\n",
    "    #过滤掉所有的标点符号\n",
    "    i = re.sub(\"[\\s+\\.\\!\\/_,$%^*(+\\\"\\'””《》]+|[+——！，。？、~@#￥%……&*（）：]+\", \"\", i)\n",
    "    if len(i) > 0:\n",
    "        words.append(i)\n",
    "print(len(words))"
   ]
  },
  {
   "cell_type": "code",
   "execution_count": 60,
   "metadata": {
    "ExecuteTime": {
     "end_time": "2021-08-09T03:34:57.824808Z",
     "start_time": "2021-08-09T03:34:57.809220Z"
    },
    "slideshow": {
     "slide_type": "subslide"
    }
   },
   "outputs": [
    {
     "data": {
      "text/plain": [
       "'八万五千三体时（约8.6个地球年）后。\\n\\n元首下令召开三体世界全体执政官紧急会议，这很不寻常，一定有什么重大的事件发生。\\n\\n两万三体时前，三体舰队启航了，它们只知道目标的大致方向，却不知道它的距离。也'"
      ]
     },
     "execution_count": 60,
     "metadata": {},
     "output_type": "execute_result"
    }
   ],
   "source": [
    "text[:100]"
   ]
  },
  {
   "cell_type": "code",
   "execution_count": 61,
   "metadata": {
    "ExecuteTime": {
     "end_time": "2019-04-07T06:14:48.293883Z",
     "start_time": "2019-04-07T06:14:48.286653Z"
    },
    "slideshow": {
     "slide_type": "fragment"
    }
   },
   "outputs": [
    {
     "name": "stdout",
     "output_type": "stream",
     "text": [
      "八万五千 三体 时 约 86 个 地球 年 后 元首 下令 召开 三体 世界 全体 执政官 紧急会议 这 很 不 寻常 一定 有 什么 重大 的 事件 发生 两万 三体 时前 三体 舰队 启航 了 它们 只 知道 目标 的 大致 方向 却 不 知道 它 的 距离 也许 目标\n"
     ]
    }
   ],
   "source": [
    "print(*words[:50])"
   ]
  },
  {
   "cell_type": "code",
   "execution_count": 62,
   "metadata": {
    "ExecuteTime": {
     "end_time": "2021-08-09T03:35:50.258538Z",
     "start_time": "2021-08-09T03:35:50.248378Z"
    },
    "slideshow": {
     "slide_type": "subslide"
    }
   },
   "outputs": [
    {
     "name": "stdout",
     "output_type": "stream",
     "text": [
      "[(['八万五千', '三体'], '时'), (['三体', '时'], '约'), (['时', '约'], '86')]\n"
     ]
    }
   ],
   "source": [
    "trigrams = [([words[i], words[i + 1]], words[i + 2]) for i in range(len(words) - 2)]\n",
    "# 打印出前三个元素看看\n",
    "print(trigrams[:3])"
   ]
  },
  {
   "cell_type": "code",
   "execution_count": 63,
   "metadata": {
    "ExecuteTime": {
     "end_time": "2021-08-09T03:36:15.679217Z",
     "start_time": "2021-08-09T03:36:15.669694Z"
    },
    "slideshow": {
     "slide_type": "subslide"
    }
   },
   "outputs": [
    {
     "name": "stdout",
     "output_type": "stream",
     "text": [
      "2000\n"
     ]
    }
   ],
   "source": [
    "# 得到词汇表\n",
    "vocab = set(words)\n",
    "print(len(vocab))\n",
    "word_to_idx = {i:[k, 0] for k, i in enumerate(vocab)} \n",
    "idx_to_word = {k:i for k, i in enumerate(vocab)}\n",
    "for w in words:\n",
    "     word_to_idx[w][1] +=1"
   ]
  },
  {
   "cell_type": "markdown",
   "metadata": {
    "slideshow": {
     "slide_type": "subslide"
    }
   },
   "source": [
    "构造NGram神经网络模型 (三层的网络)\n",
    "\n",
    "1. 输入层：embedding层，这一层的作用是：先将输入单词的编号映射为一个one hot编码的向量，形如：001000，维度为单词表大小。\n",
    "然后，embedding会通过一个线性的神经网络层映射到这个词的向量表示，输出为embedding_dim\n",
    "2. 线性层，从embedding_dim维度到128维度，然后经过非线性ReLU函数\n",
    "3. 线性层：从128维度到单词表大小维度，然后log softmax函数，给出预测每个单词的概率"
   ]
  },
  {
   "cell_type": "code",
   "execution_count": 64,
   "metadata": {
    "ExecuteTime": {
     "end_time": "2021-08-08T14:58:48.262570Z",
     "start_time": "2021-08-08T14:58:46.798847Z"
    },
    "code_folding": [],
    "slideshow": {
     "slide_type": "subslide"
    }
   },
   "outputs": [],
   "source": [
    "import torch.nn as nn\n",
    "import torch.nn.functional as F\n",
    "import torch.optim as optim\n",
    "from torch.autograd import Variable\n",
    "\n",
    "import torch\n",
    "\n",
    "class NGram(nn.Module):\n",
    "    def __init__(self, vocab_size, embedding_dim, context_size):\n",
    "        super(NGram, self).__init__()\n",
    "        self.embeddings = nn.Embedding(vocab_size, embedding_dim)  #嵌入层\n",
    "        self.linear1 = nn.Linear(context_size * embedding_dim, 128) #线性层\n",
    "        self.linear2 = nn.Linear(128, vocab_size) #线性层\n",
    "\n",
    "    def forward(self, inputs):\n",
    "        #嵌入运算，嵌入运算在内部分为两步：将输入的单词编码映射为one hot向量表示，然后经过一个线性层得到单词的词向量\n",
    "        embeds = self.embeddings(inputs).view(1, -1)\n",
    "        # 线性层加ReLU\n",
    "        out = F.relu(self.linear1(embeds))\n",
    "        \n",
    "        # 线性层加Softmax\n",
    "        out = self.linear2(out)\n",
    "        log_probs = F.log_softmax(out, dim = 1)\n",
    "        return log_probs\n",
    "    def extract(self, inputs):\n",
    "        embeds = self.embeddings(inputs)\n",
    "        return embeds"
   ]
  },
  {
   "cell_type": "code",
   "execution_count": 89,
   "metadata": {
    "ExecuteTime": {
     "end_time": "2019-04-07T07:14:30.758701Z",
     "start_time": "2019-04-07T07:02:06.973444Z"
    },
    "slideshow": {
     "slide_type": "subslide"
    }
   },
   "outputs": [
    {
     "name": "stdout",
     "output_type": "stream",
     "text": [
      "第0轮，损失函数为：56704.61\n",
      "第1轮，损失函数为：53935.28\n",
      "第2轮，损失函数为：52241.16\n",
      "第3轮，损失函数为：51008.51\n",
      "第4轮，损失函数为：50113.76\n",
      "第5轮，损失函数为：49434.07\n",
      "第6轮，损失函数为：48879.33\n",
      "第7轮，损失函数为：48404.71\n",
      "第8轮，损失函数为：47983.95\n",
      "第9轮，损失函数为：47600.01\n",
      "第10轮，损失函数为：47240.32\n",
      "第11轮，损失函数为：46897.53\n",
      "第12轮，损失函数为：46566.24\n",
      "第13轮，损失函数为：46241.59\n",
      "第14轮，损失函数为：45920.18\n",
      "第15轮，损失函数为：45599.50\n",
      "第16轮，损失函数为：45277.74\n",
      "第17轮，损失函数为：44953.10\n",
      "第18轮，损失函数为：44624.41\n",
      "第19轮，损失函数为：44290.34\n",
      "第20轮，损失函数为：43950.63\n",
      "第21轮，损失函数为：43604.48\n",
      "第22轮，损失函数为：43251.90\n",
      "第23轮，损失函数为：42891.99\n",
      "第24轮，损失函数为：42524.64\n",
      "第25轮，损失函数为：42149.46\n",
      "第26轮，损失函数为：41766.14\n",
      "第27轮，损失函数为：41374.89\n",
      "第28轮，损失函数为：40975.62\n",
      "第29轮，损失函数为：40568.36\n",
      "第30轮，损失函数为：40153.31\n",
      "第31轮，损失函数为：39730.61\n",
      "第32轮，损失函数为：39300.70\n",
      "第33轮，损失函数为：38863.39\n",
      "第34轮，损失函数为：38419.11\n",
      "第35轮，损失函数为：37968.16\n",
      "第36轮，损失函数为：37510.99\n",
      "第37轮，损失函数为：37048.06\n",
      "第38轮，损失函数为：36579.82\n",
      "第39轮，损失函数为：36106.78\n",
      "第40轮，损失函数为：35629.46\n",
      "第41轮，损失函数为：35148.57\n",
      "第42轮，损失函数为：34665.39\n",
      "第43轮，损失函数为：34180.25\n",
      "第44轮，损失函数为：33693.93\n",
      "第45轮，损失函数为：33207.48\n",
      "第46轮，损失函数为：32721.72\n",
      "第47轮，损失函数为：32237.36\n",
      "第48轮，损失函数为：31755.00\n",
      "第49轮，损失函数为：31275.05\n",
      "第50轮，损失函数为：30798.38\n",
      "第51轮，损失函数为：30325.62\n",
      "第52轮，损失函数为：29857.59\n",
      "第53轮，损失函数为：29394.65\n",
      "第54轮，损失函数为：28937.08\n",
      "第55轮，损失函数为：28485.72\n",
      "第56轮，损失函数为：28041.07\n",
      "第57轮，损失函数为：27603.33\n",
      "第58轮，损失函数为：27173.14\n",
      "第59轮，损失函数为：26750.82\n",
      "第60轮，损失函数为：26336.92\n",
      "第61轮，损失函数为：25931.60\n",
      "第62轮，损失函数为：25534.87\n",
      "第63轮，损失函数为：25147.07\n",
      "第64轮，损失函数为：24768.02\n",
      "第65轮，损失函数为：24397.92\n",
      "第66轮，损失函数为：24036.68\n",
      "第67轮，损失函数为：23684.69\n",
      "第68轮，损失函数为：23341.30\n",
      "第69轮，损失函数为：23006.46\n",
      "第70轮，损失函数为：22680.18\n",
      "第71轮，损失函数为：22361.95\n",
      "第72轮，损失函数为：22051.86\n",
      "第73轮，损失函数为：21749.46\n",
      "第74轮，损失函数为：21454.48\n",
      "第75轮，损失函数为：21167.06\n",
      "第76轮，损失函数为：20886.72\n",
      "第77轮，损失函数为：20613.04\n",
      "第78轮，损失函数为：20346.13\n",
      "第79轮，损失函数为：20085.52\n",
      "第80轮，损失函数为：19831.27\n",
      "第81轮，损失函数为：19583.16\n",
      "第82轮，损失函数为：19341.03\n",
      "第83轮，损失函数为：19104.43\n",
      "第84轮，损失函数为：18873.11\n",
      "第85轮，损失函数为：18646.91\n",
      "第86轮，损失函数为：18425.87\n",
      "第87轮，损失函数为：18209.80\n",
      "第88轮，损失函数为：17998.34\n",
      "第89轮，损失函数为：17791.97\n",
      "第90轮，损失函数为：17589.94\n",
      "第91轮，损失函数为：17392.24\n",
      "第92轮，损失函数为：17199.04\n",
      "第93轮，损失函数为：17009.97\n",
      "第94轮，损失函数为：16824.82\n",
      "第95轮，损失函数为：16643.87\n",
      "第96轮，损失函数为：16466.76\n",
      "第97轮，损失函数为：16293.54\n",
      "第98轮，损失函数为：16123.99\n",
      "第99轮，损失函数为：15957.75\n"
     ]
    }
   ],
   "source": [
    "losses = [] #纪录每一步的损失函数\n",
    "criterion = nn.NLLLoss() #运用负对数似然函数作为目标函数（常用于多分类问题的目标函数）\n",
    "model = NGram(len(vocab), 10, 2) #定义NGram模型，向量嵌入维数为10维，N（窗口大小）为2\n",
    "optimizer = optim.SGD(model.parameters(), lr=0.001) #使用随机梯度下降算法作为优化器 \n",
    "#循环100个周期\n",
    "for epoch in range(100):\n",
    "    total_loss = torch.Tensor([0])\n",
    "    for context, target in trigrams:\n",
    "        # 准备好输入模型的数据，将词汇映射为编码\n",
    "        context_idxs = [word_to_idx[w][0] for w in context]\n",
    "        # 包装成PyTorch的Variable\n",
    "        context_var = Variable(torch.LongTensor(context_idxs))\n",
    "        # 清空梯度：注意PyTorch会在调用backward的时候自动积累梯度信息，故而每隔周期要清空梯度信息一次。\n",
    "        optimizer.zero_grad()\n",
    "        # 用神经网络做计算，计算得到输出的每个单词的可能概率对数值\n",
    "        log_probs = model(context_var)\n",
    "        # 计算损失函数，同样需要把目标数据转化为编码，并包装为Variable\n",
    "        loss = criterion(log_probs, Variable(torch.LongTensor([word_to_idx[target][0]])))\n",
    "        # 梯度反传\n",
    "        loss.backward()\n",
    "        # 对网络进行优化\n",
    "        optimizer.step()\n",
    "        # 累加损失函数值\n",
    "        total_loss += loss.data\n",
    "    losses.append(total_loss)\n",
    "    print('第{}轮，损失函数为：{:.2f}'.format(epoch, total_loss.numpy()[0]))"
   ]
  },
  {
   "cell_type": "markdown",
   "metadata": {
    "slideshow": {
     "slide_type": "subslide"
    }
   },
   "source": [
    " 12m 24s!!!"
   ]
  },
  {
   "cell_type": "code",
   "execution_count": 91,
   "metadata": {
    "ExecuteTime": {
     "end_time": "2019-04-07T07:17:40.676666Z",
     "start_time": "2019-04-07T07:17:39.894446Z"
    },
    "slideshow": {
     "slide_type": "subslide"
    }
   },
   "outputs": [],
   "source": [
    "# 从训练好的模型中提取每个单词的向量\n",
    "vec = model.extract(Variable(torch.LongTensor([v[0] for v in word_to_idx.values()])))\n",
    "vec = vec.data.numpy()\n",
    "\n",
    "# 利用PCA算法进行降维\n",
    "from sklearn.decomposition import PCA\n",
    "X_reduced = PCA(n_components=2).fit_transform(vec)"
   ]
  },
  {
   "cell_type": "code",
   "execution_count": 107,
   "metadata": {
    "ExecuteTime": {
     "end_time": "2019-04-07T07:21:25.499695Z",
     "start_time": "2019-04-07T07:21:24.948708Z"
    },
    "code_folding": [
     0
    ],
    "slideshow": {
     "slide_type": "subslide"
    }
   },
   "outputs": [
    {
     "data": {
      "image/png": "[encoded data removed]",
      "text/plain": [
       "<Figure size 1440x720 with 1 Axes>"
      ]
     },
     "metadata": {},
     "output_type": "display_data"
    }
   ],
   "source": [
    "# 绘制所有单词向量的二维空间投影\n",
    "import matplotlib.pyplot as plt\n",
    "import matplotlib\n",
    "\n",
    "fig = plt.figure(figsize = (20, 10))\n",
    "ax = fig.gca()\n",
    "ax.set_facecolor('black')\n",
    "ax.plot(X_reduced[:, 0], X_reduced[:, 1], '.', markersize = 1, alpha = 0.4, color = 'white')\n",
    "# 绘制几个特殊单词的向量\n",
    "words = ['智子', '地球', '三体', '质子', '科学', '世界', '文明', '太空', '加速器', '平面', '宇宙', '信息']\n",
    "# 设置中文字体，否则无法在图形上显示中文\n",
    "zhfont1 = matplotlib.font_manager.FontProperties(fname='/Library/Fonts/华文仿宋.ttf', size = 35)\n",
    "for w in words:\n",
    "    if w in word_to_idx:\n",
    "        ind = word_to_idx[w][0]\n",
    "        xy = X_reduced[ind]\n",
    "        plt.plot(xy[0], xy[1], '.', alpha =1, color = 'red')\n",
    "        plt.text(xy[0], xy[1], w, fontproperties = zhfont1, alpha = 1, color = 'white')"
   ]
  },
  {
   "cell_type": "code",
   "execution_count": 109,
   "metadata": {
    "ExecuteTime": {
     "end_time": "2019-04-07T07:22:21.974225Z",
     "start_time": "2019-04-07T07:22:21.911757Z"
    },
    "slideshow": {
     "slide_type": "subslide"
    }
   },
   "outputs": [
    {
     "data": {
      "text/plain": [
       "['局部', '一场', '来', '错误', '一生', '正中', '航行', '地面', '只是', '政府']"
      ]
     },
     "execution_count": 109,
     "metadata": {},
     "output_type": "execute_result"
    }
   ],
   "source": [
    "# 定义计算cosine相似度的函数\n",
    "import numpy as np\n",
    "def cos_similarity(vec1, vec2):\n",
    "    norm1 = np.linalg.norm(vec1)\n",
    "    norm2 = np.linalg.norm(vec2)\n",
    "    norm = norm1 * norm2\n",
    "    dot = np.dot(vec1, vec2)\n",
    "    result = dot / norm if norm > 0 else 0\n",
    "    return result\n",
    "    \n",
    "# 在所有的词向量中寻找到与目标词（word）相近的向量，并按相似度进行排列\n",
    "def find_most_similar(word, vectors, word_idx):\n",
    "    vector = vectors[word_to_idx[word][0]]\n",
    "    simi = [[cos_similarity(vector, vectors[num]), key] for num, key in enumerate(word_idx.keys())]\n",
    "    sort = sorted(simi)[::-1]\n",
    "    words = [i[1] for i in sort]\n",
    "    return words\n",
    "\n",
    "# 与智子靠近的词汇\n",
    "find_most_similar('智子', vec, word_to_idx)[:10]"
   ]
  },
  {
   "cell_type": "markdown",
   "metadata": {
    "slideshow": {
     "slide_type": "slide"
    }
   },
   "source": [
    "# Gensim Word2vec "
   ]
  },
  {
   "cell_type": "code",
   "execution_count": 65,
   "metadata": {
    "ExecuteTime": {
     "end_time": "2021-08-09T03:43:25.467747Z",
     "start_time": "2021-08-09T03:43:25.462451Z"
    },
    "slideshow": {
     "slide_type": "fragment"
    }
   },
   "outputs": [],
   "source": [
    "import gensim as gensim\n",
    "from gensim.models import Word2Vec\n",
    "from gensim.models.keyedvectors import KeyedVectors\n",
    "from gensim.models.word2vec import LineSentence\n",
    "import jieba, re\n",
    "import numpy as np"
   ]
  },
  {
   "cell_type": "code",
   "execution_count": 66,
   "metadata": {
    "ExecuteTime": {
     "end_time": "2021-08-09T03:43:31.655410Z",
     "start_time": "2021-08-09T03:43:30.167440Z"
    },
    "slideshow": {
     "slide_type": "subslide"
    }
   },
   "outputs": [],
   "source": [
    "f = open(\"../data/三体.txt\", 'r')\n",
    "lines = []\n",
    "for line in f:\n",
    "    temp = jieba.lcut(line)\n",
    "    words = []\n",
    "    for i in temp:\n",
    "        #过滤掉所有的标点符号\n",
    "        i = re.sub(\"[\\s+\\.\\!\\/_,$%^*(+\\\"\\'””《》]+|[+——！，。？、~@#￥%……&*（）：；‘]+\", \"\", i)\n",
    "        if len(i) > 0:\n",
    "            words.append(i)\n",
    "    if len(words) > 0:\n",
    "        lines.append(words)"
   ]
  },
  {
   "cell_type": "code",
   "execution_count": 67,
   "metadata": {
    "ExecuteTime": {
     "end_time": "2021-08-09T03:43:56.930922Z",
     "start_time": "2021-08-09T03:43:53.062991Z"
    },
    "slideshow": {
     "slide_type": "subslide"
    }
   },
   "outputs": [],
   "source": [
    "# 调用gensim Word2Vec的算法进行训练。\n",
    "# 参数分别为：size: 嵌入后的词向量维度；window: 上下文的宽度，min_count为考虑计算的单词的最低词频阈值\n",
    "model = Word2Vec(lines, size = 20, window = 2 , min_count = 0)"
   ]
  },
  {
   "cell_type": "code",
   "execution_count": 108,
   "metadata": {
    "ExecuteTime": {
     "end_time": "2021-08-09T03:44:02.730753Z",
     "start_time": "2021-08-09T03:44:02.714790Z"
    },
    "slideshow": {
     "slide_type": "fragment"
    }
   },
   "outputs": [
    {
     "data": {
      "text/plain": [
       "[('地球', 0.9993689060211182),\n",
       " ('监听', 0.999006986618042),\n",
       " ('这个', 0.998995304107666),\n",
       " ('中', 0.9989717602729797),\n",
       " ('人类', 0.9989665746688843),\n",
       " ('那些', 0.9988716840744019),\n",
       " ('设备', 0.9988386034965515),\n",
       " ('其中', 0.9988256692886353),\n",
       " ('时间', 0.9988114833831787),\n",
       " ('而', 0.9987934827804565)]"
      ]
     },
     "execution_count": 108,
     "metadata": {},
     "output_type": "execute_result"
    }
   ],
   "source": [
    "model.wv.most_similar('三体', topn = 10)"
   ]
  },
  {
   "cell_type": "code",
   "execution_count": 109,
   "metadata": {
    "ExecuteTime": {
     "end_time": "2021-08-09T03:44:18.167174Z",
     "start_time": "2021-08-09T03:44:18.032510Z"
    },
    "slideshow": {
     "slide_type": "subslide"
    }
   },
   "outputs": [
    {
     "name": "stderr",
     "output_type": "stream",
     "text": [
      "/opt/anaconda3/lib/python3.7/site-packages/ipykernel_launcher.py:7: DeprecationWarning: Call to deprecated `__getitem__` (Method will be removed in 4.0.0, use self.wv.__getitem__() instead).\n",
      "  import sys\n"
     ]
    }
   ],
   "source": [
    "from sklearn.decomposition import PCA\n",
    "\n",
    "# 将词向量投影到二维空间\n",
    "rawWordVec = []\n",
    "word2ind = {}\n",
    "for i, w in enumerate(model.wv.key_to_index):\n",
    "    rawWordVec.append(model.wv[w])\n",
    "    word2ind[w] = i\n",
    "rawWordVec = np.array(rawWordVec)\n",
    "X_reduced = PCA(n_components=2).fit_transform(rawWordVec)"
   ]
  },
  {
   "cell_type": "code",
   "execution_count": 112,
   "metadata": {
    "ExecuteTime": {
     "end_time": "2021-08-09T03:46:28.782496Z",
     "start_time": "2021-08-09T03:46:28.441207Z"
    },
    "code_folding": [
     0
    ],
    "scrolled": true,
    "slideshow": {
     "slide_type": "subslide"
    }
   },
   "outputs": [
    {
     "data": {
      "image/png": "[encoded data removed]",
      "text/plain": [
       "<Figure size 1080x720 with 1 Axes>"
      ]
     },
     "metadata": {
      "needs_background": "light"
     },
     "output_type": "display_data"
    }
   ],
   "source": [
    "# 绘制星空图\n",
    "# 绘制所有单词向量的二维空间投影\n",
    "fig = plt.figure(figsize = (15, 10))\n",
    "ax = fig.gca()\n",
    "ax.set_facecolor('black')\n",
    "ax.plot(X_reduced[:, 0], X_reduced[:, 1], '.', markersize = 1, alpha = 0.3, color = 'white')\n",
    "# 绘制几个特殊单词的向量\n",
    "words = ['智子', '地球', '三体', '质子', '科学', '世界', '文明', '太空', '加速器', '平面', '宇宙', '进展','的']\n",
    "# 设置中文字体，否则无法在图形上显示中文\n",
    "#zhfont1 = matplotlib.font_manager.FontProperties(fname='/Library/Fonts/华文仿宋.ttf', size=26)\n",
    "for w in words:\n",
    "    if w in word2ind:\n",
    "        ind = word2ind[w]\n",
    "        xy = X_reduced[ind]\n",
    "        plt.plot(xy[0], xy[1], '.', alpha =1, color = 'red')\n",
    "        plt.text(xy[0], xy[1], w,  alpha = 1, color = 'yellow', fontsize = 26) # fontproperties = zhfont1,"
   ]
  },
  {
   "attachments": {
    "image.png": {
     "image/png": "[encoded data removed]"
    }
   },
   "cell_type": "markdown",
   "metadata": {
    "slideshow": {
     "slide_type": "subslide"
    }
   },
   "source": [
    "![image.png](attachment:image.png)"
   ]
  },
  {
   "cell_type": "markdown",
   "metadata": {
    "slideshow": {
     "slide_type": "slide"
    }
   },
   "source": [
    "# END"
   ]
  }
 ],
 "metadata": {
  "celltoolbar": "幻灯片",
  "kernelspec": {
   "display_name": "Python 3",
   "language": "python",
   "name": "python3"
  },
  "language_info": {
   "codemirror_mode": {
    "name": "ipython",
    "version": 3
   },
   "file_extension": ".py",
   "mimetype": "text/x-python",
   "name": "python",
   "nbconvert_exporter": "python",
   "pygments_lexer": "ipython3",
   "version": "3.8.8"
  },
  "latex_envs": {
   "LaTeX_envs_menu_present": true,
   "autoclose": false,
   "autocomplete": true,
   "bibliofile": "biblio.bib",
   "cite_by": "apalike",
   "current_citInitial": 1,
   "eqLabelWithNumbers": true,
   "eqNumInitial": 1,
   "hotkeys": {
    "equation": "Ctrl-E",
    "itemize": "Ctrl-I"
   },
   "labels_anchors": false,
   "latex_user_defs": false,
   "report_style_numbering": false,
   "user_envs_cfg": false
  },
  "toc": {
   "base_numbering": 1,
   "nav_menu": {},
   "number_sections": false,
   "sideBar": false,
   "skip_h1_title": false,
   "title_cell": "Table of Contents",
   "title_sidebar": "Contents",
   "toc_cell": false,
   "toc_position": {
    "height": "517px",
    "left": "953px",
    "top": "134px",
    "width": "255px"
   },
   "toc_section_display": false,
   "toc_window_display": false
  }
 },
 "nbformat": 4,
 "nbformat_minor": 4
}
