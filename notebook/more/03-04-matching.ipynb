{
 "cells": [
  {
   "attachments": {},
   "cell_type": "markdown",
   "metadata": {
    "slideshow": {
     "slide_type": "slide"
    }
   },
   "source": [
    "---\n",
    "---\n",
    "# Propensity Score Matching\n",
    "\n",
    "## The Path from Cause to Effect\n",
    "\n",
    "\n",
    "---\n",
    "---\n",
    "\n",
    "![image.png](img/chengjun.png)"
   ]
  },
  {
   "attachments": {},
   "cell_type": "markdown",
   "metadata": {
    "slideshow": {
     "slide_type": "subslide"
    }
   },
   "source": [
    "http://www.masteringmetrics.com/resources/\n",
    "\n",
    "![image.png](img/metric.png)"
   ]
  },
  {
   "attachments": {},
   "cell_type": "markdown",
   "metadata": {
    "slideshow": {
     "slide_type": "subslide"
    }
   },
   "source": [
    "https://www.bilibili.com/video/BV1AE4114754\n",
    "\n",
    "![image.png](img/me1.png)\n",
    "\n",
    "Join MIT professor Josh Angrist and learn to [master the econometrics \"Furious Five\"](https://mru.org/courses/mastering-econometrics/path-cause-effect): random assignment,regression, instrumental variables, regresh Angrist and learn to master the econometrics \"Furious Five\""
   ]
  },
  {
   "cell_type": "markdown",
   "metadata": {
    "slideshow": {
     "slide_type": "subslide"
    }
   },
   "source": [
    "\n",
    "The most basic of these tools is regression, which compares treatment and control subjects who have the same observed characteristics. \n",
    "\n",
    "Regression-based causal inference is predicated on the assumption that:\n",
    "\n",
    "> when key observed variables have been made equal across treatment and control groups, selection bias from the things we can’t see is also mostly eliminated. \n",
    "\n"
   ]
  },
  {
   "attachments": {},
   "cell_type": "markdown",
   "metadata": {
    "slideshow": {
     "slide_type": "subslide"
    }
   },
   "source": [
    "![image.png](img/ca1.png)"
   ]
  },
  {
   "attachments": {},
   "cell_type": "markdown",
   "metadata": {
    "slideshow": {
     "slide_type": "subslide"
    }
   },
   "source": [
    "![image.png](img/me2.png)"
   ]
  },
  {
   "cell_type": "code",
   "execution_count": 5,
   "metadata": {
    "ExecuteTime": {
     "end_time": "2020-04-12T14:10:28.705765Z",
     "start_time": "2020-04-12T14:10:28.685048Z"
    },
    "slideshow": {
     "slide_type": "subslide"
    }
   },
   "outputs": [
    {
     "name": "stdout",
     "output_type": "stream",
     "text": [
      "19500\n"
     ]
    }
   ],
   "source": [
    "* Uncontrolled comparison \n",
    "dis (110+100+60+115+75)*1000/5 - (110+30+90+60)*1000/4 "
   ]
  },
  {
   "attachments": {},
   "cell_type": "markdown",
   "metadata": {
    "slideshow": {
     "slide_type": "subslide"
    }
   },
   "source": [
    "**A ceteris paribus (everything-equal) comparision**\n",
    "\n",
    "![image.png](img/me3.png)"
   ]
  },
  {
   "cell_type": "markdown",
   "metadata": {
    "slideshow": {
     "slide_type": "subslide"
    }
   },
   "source": [
    "$$\\frac{3}{5}*-5000 + \\frac{2}{5}*30000 = 9000$$"
   ]
  },
  {
   "cell_type": "code",
   "execution_count": 5,
   "metadata": {
    "ExecuteTime": {
     "end_time": "2020-03-05T09:09:25.326302Z",
     "start_time": "2020-03-05T09:09:25.305877Z"
    },
    "slideshow": {
     "slide_type": "fragment"
    }
   },
   "outputs": [
    {
     "name": "stdout",
     "output_type": "stream",
     "text": [
      "9000\n"
     ]
    }
   ],
   "source": [
    "dis 3/5*-5000 + 2/5*30000"
   ]
  },
  {
   "cell_type": "markdown",
   "metadata": {
    "slideshow": {
     "slide_type": "subslide"
    }
   },
   "source": [
    "Even when limited to the five students in groups A and B, the uncontrolled comparison generates a gap of $20,000\n",
    "\n",
    "$$(110+100+60)*1000/3 - (110+30)*1000/2 = 20000$$\n",
    "\n"
   ]
  },
  {
   "cell_type": "code",
   "execution_count": 2,
   "metadata": {
    "ExecuteTime": {
     "end_time": "2020-04-12T14:07:59.074243Z",
     "start_time": "2020-04-12T14:07:59.054545Z"
    },
    "slideshow": {
     "slide_type": "fragment"
    }
   },
   "outputs": [
    {
     "name": "stdout",
     "output_type": "stream",
     "text": [
      "20000\n"
     ]
    }
   ],
   "source": [
    "dis (110+100+60)*1000/3 - (110+30)*1000/2 "
   ]
  },
  {
   "cell_type": "markdown",
   "metadata": {
    "slideshow": {
     "slide_type": "subslide"
    }
   },
   "source": [
    "**Estimating The Payoff Of Attending A More Selective College**\n",
    "\n",
    "Dale, Stacy Berg and Alan B. Krueger. \"Estimating The Payoff Of Attending A More Selective College: An Application Of Selection On Observables And Unobservables,\" Quarterly Journal of Economics, 2002, v107(4,Nov), 1491-1527."
   ]
  },
  {
   "attachments": {},
   "cell_type": "markdown",
   "metadata": {
    "ExecuteTime": {
     "end_time": "2020-03-05T09:12:42.231908Z",
     "start_time": "2020-03-05T09:12:42.211770Z"
    },
    "slideshow": {
     "slide_type": "subslide"
    }
   },
   "source": [
    "![image.png](img/me4.png)"
   ]
  },
  {
   "attachments": {},
   "cell_type": "markdown",
   "metadata": {
    "slideshow": {
     "slide_type": "subslide"
    }
   },
   "source": [
    "![image.png](img/me5.png)"
   ]
  },
  {
   "cell_type": "markdown",
   "metadata": {
    "slideshow": {
     "slide_type": "subslide"
    }
   },
   "source": [
    "## Ambition and Ability\n",
    "\n",
    "These much larger uncontrolled comparisons reflect selection bias: \n",
    "- students who apply to and are admitted to private schools have higher earnings wherever they ultimately chose to go.\n",
    "\n",
    "- the cross-group differential is explained by a combination of ambition and ability\n",
    "\n",
    "\n",
    "\n",
    "\n"
   ]
  },
  {
   "cell_type": "markdown",
   "metadata": {},
   "source": [
    "Gary King & Richard Nielsen(2015) Why Propensity Scores Should Not Be Used for Matching\n",
    "\n",
    "- The goal of PSM is to reduce imbalance in the chosen pre-treatment covariates between the treated and control groups, thereby reducing the degree of model dependence and potential for bias. \n",
    "- We show here that PSM often accomplishes the opposite of what is intended — increasing imbalance, inefficiency, model dependence, and bias. \n",
    "- The weakness of PSM is that it attempts to approximate a completely randomized experiment, rather than, as with other matching methods, a more powerful fully blocked randomized experiment. \n",
    "- PSM, unlike other matching methods, is thus blind to the often large portion of imbalance that could have been eliminated by approximating full blocking. \n",
    "- Moreover, in data balanced enough to approximate complete randomization, either to begin with or after pruning some observations, PSM approximates random matching which turns out to increase imbalance. \n",
    "- For other matching methods, the point where additional pruning increases imbalance occurs much later in the pruning process, when full blocking is approximated and there is no reason to prune, and so the danger is considerably less. \n",
    "- We show that these problems with PSM occur even in data designed for PSM, with as few as two covariates, and in many real applications. \n",
    "- Although these results suggest that researchers replace PSM with one of the other available methods when performing matching, propensity scores have many other productive uses."
   ]
  },
  {
   "cell_type": "code",
   "execution_count": 120,
   "metadata": {
    "ExecuteTime": {
     "end_time": "2020-03-07T02:13:40.373048Z",
     "start_time": "2020-03-07T02:13:08.733962Z"
    },
    "slideshow": {
     "slide_type": "subslide"
    }
   },
   "outputs": [
    {
     "name": "stdout",
     "output_type": "stream",
     "text": [
      "checking st0026_2 consistency and verifying not already installed...\n",
      "installing into /Users/datalab/Library/Application Support/Stata/ado/plus/...\n",
      "installation complete.\n"
     ]
    }
   ],
   "source": [
    "net install st0026_2.pkg, replace from(http://www.stata-journal.com/software/sj5-3/)"
   ]
  },
  {
   "cell_type": "code",
   "execution_count": 7,
   "metadata": {
    "ExecuteTime": {
     "end_time": "2020-04-07T10:01:30.330277Z",
     "start_time": "2020-04-07T10:01:30.307769Z"
    },
    "slideshow": {
     "slide_type": "subslide"
    }
   },
   "outputs": [
    {
     "name": "stdout",
     "output_type": "stream",
     "text": [
      "   STATA:  /Applications/Stata/\n",
      "    BASE:  /Applications/Stata/ado/base/\n",
      "    SITE:  /Applications/ado/\n",
      "    PLUS:  /Users/datalab/Library/Application Support/Stata/ado/plus/\n",
      "PERSONAL:  /Users/datalab/Library/Application Support/Stata/ado/personal/\n",
      "OLDPLACE:  ~/ado/\n"
     ]
    }
   ],
   "source": [
    "sysdir"
   ]
  },
  {
   "cell_type": "code",
   "execution_count": 121,
   "metadata": {
    "ExecuteTime": {
     "end_time": "2020-03-07T02:14:00.266733Z",
     "start_time": "2020-03-07T02:14:00.199609Z"
    },
    "slideshow": {
     "slide_type": "subslide"
    }
   },
   "outputs": [],
   "source": [
    "* Propensity Score Matching in Stata\n",
    "* Copyright 2013 by Ani Katchova\n",
    "clear all\n",
    "set more off"
   ]
  },
  {
   "cell_type": "code",
   "execution_count": 122,
   "metadata": {
    "ExecuteTime": {
     "end_time": "2020-03-07T02:14:00.650363Z",
     "start_time": "2020-03-07T02:14:00.630349Z"
    },
    "slideshow": {
     "slide_type": "subslide"
    }
   },
   "outputs": [
    {
     "name": "stdout",
     "output_type": "stream",
     "text": [
      "/Users/datalab/github/datascience/causal-inference/psm\n"
     ]
    }
   ],
   "source": [
    "cd \"/Users/datalab/github/css/data/psm/\""
   ]
  },
  {
   "cell_type": "code",
   "execution_count": 123,
   "metadata": {
    "ExecuteTime": {
     "end_time": "2020-03-07T02:14:01.455091Z",
     "start_time": "2020-03-07T02:14:01.434812Z"
    },
    "slideshow": {
     "slide_type": "subslide"
    }
   },
   "outputs": [],
   "source": [
    "use matching_earnings.dta"
   ]
  },
  {
   "cell_type": "code",
   "execution_count": 124,
   "metadata": {
    "ExecuteTime": {
     "end_time": "2020-03-07T02:14:03.976209Z",
     "start_time": "2020-03-07T02:14:03.949053Z"
    },
    "slideshow": {
     "slide_type": "subslide"
    }
   },
   "outputs": [
    {
     "name": "stdout",
     "output_type": "stream",
     "text": [
      "\n",
      "Contains data from matching_earnings.dta\n",
      "  obs:         2,675                          \n",
      " vars:            19                          18 Mar 2009 17:33\n",
      " size:       203,300                          \n",
      "--------------------------------------------------------------------------------\n",
      "              storage   display    value\n",
      "variable name   type    format     label      variable label\n",
      "--------------------------------------------------------------------------------\n",
      "TREAT           float   %9.0g                 \n",
      "AGE             float   %9.0g                 \n",
      "EDUC            float   %9.0g                 \n",
      "BLACK           float   %9.0g                 \n",
      "HISP            float   %9.0g                 \n",
      "MARR            float   %9.0g                 \n",
      "RE74            float   %9.0g                 \n",
      "RE75            float   %9.0g                 \n",
      "RE78            float   %9.0g                 \n",
      "U74             float   %9.0g                 \n",
      "U75             float   %9.0g                 \n",
      "AGESQ           float   %9.0g                 \n",
      "EDUCSQ          float   %9.0g                 \n",
      "NODEGREE        float   %9.0g                 \n",
      "RE74SQ          float   %9.0g                 \n",
      "RE75SQ          float   %9.0g                 \n",
      "U74BLACK        float   %9.0g                 \n",
      "U74HISP         float   %9.0g                 \n",
      "REDIFF          float   %9.0g                 \n",
      "--------------------------------------------------------------------------------\n",
      "Sorted by: TREAT\n"
     ]
    }
   ],
   "source": [
    "des"
   ]
  },
  {
   "cell_type": "markdown",
   "metadata": {
    "slideshow": {
     "slide_type": "slide"
    }
   },
   "source": [
    "# pscore"
   ]
  },
  {
   "cell_type": "code",
   "execution_count": 131,
   "metadata": {
    "ExecuteTime": {
     "end_time": "2020-03-07T02:17:11.313263Z",
     "start_time": "2020-03-07T02:17:11.267582Z"
    },
    "slideshow": {
     "slide_type": "subslide"
    }
   },
   "outputs": [
    {
     "name": "stdout",
     "output_type": "stream",
     "text": [
      "\n",
      "\n",
      "\n",
      "\n",
      "\n",
      "\n",
      "              storage   display    value\n",
      "variable name   type    format     label      variable label\n",
      "--------------------------------------------------------------------------------\n",
      "TREAT           float   %9.0g                 \n",
      "RE78            float   %9.0g                 \n",
      "AGE             float   %9.0g                 \n",
      "EDUC            float   %9.0g                 \n",
      "MARR            float   %9.0g                 \n",
      "\n",
      "\n",
      "    Variable |        Obs        Mean    Std. Dev.       Min        Max\n",
      "-------------+---------------------------------------------------------\n",
      "       TREAT |      2,675    .0691589    .2537716          0          1\n",
      "        RE78 |      2,675    20502.38    15632.52          0     121174\n",
      "         AGE |      2,675    34.22579    10.49984         17         55\n",
      "        EDUC |      2,675    11.99439    3.053556          0         17\n",
      "        MARR |      2,675    .8194393    .3847257          0          1\n",
      "\n",
      "\n",
      "--------------------------------------------------------------------------------\n",
      "-> TREAT = 0\n",
      "\n",
      "    Variable |        Obs        Mean    Std. Dev.       Min        Max\n",
      "-------------+---------------------------------------------------------\n",
      "        RE78 |      2,490    21553.92    15555.35          0     121174\n",
      "         AGE |      2,490     34.8506    10.44076         18         55\n",
      "        EDUC |      2,490    12.11687    3.082435          0         17\n",
      "        MARR |      2,490    .8662651    .3404357          0          1\n",
      "\n",
      "--------------------------------------------------------------------------------\n",
      "-> TREAT = 1\n",
      "\n",
      "    Variable |        Obs        Mean    Std. Dev.       Min        Max\n",
      "-------------+---------------------------------------------------------\n",
      "        RE78 |        185    6349.145    7867.405          0    60307.9\n",
      "         AGE |        185    25.81622    7.155019         17         48\n",
      "        EDUC |        185    10.34595     2.01065          4         16\n",
      "        MARR |        185    .1891892    .3927217          0          1\n",
      "\n"
     ]
    }
   ],
   "source": [
    "* Define treatment, outcome, and independent variables\n",
    "global treatment TREAT\n",
    "global ylist RE78\n",
    "global xlist AGE EDUC MARR \n",
    "global breps 5\n",
    "\n",
    "* For difference-in-differences, outcome is the differences in outcomes after and before\n",
    "* global ylist REDIFF \n",
    "\n",
    "describe $treatment $ylist $xlist\n",
    "summarize $treatment $ylist $xlist\n",
    "\n",
    "bysort $treatment: summarize $ylist $xlist"
   ]
  },
  {
   "cell_type": "code",
   "execution_count": 132,
   "metadata": {
    "ExecuteTime": {
     "end_time": "2020-03-07T02:17:22.109280Z",
     "start_time": "2020-03-07T02:17:22.059515Z"
    },
    "slideshow": {
     "slide_type": "subslide"
    }
   },
   "outputs": [
    {
     "name": "stdout",
     "output_type": "stream",
     "text": [
      "\n",
      "\n",
      "      Source |       SS           df       MS      Number of obs   =     2,675\n",
      "-------------+----------------------------------   F(1, 2673)      =    173.41\n",
      "       Model |  3.9811e+10         1  3.9811e+10   Prob > F        =    0.0000\n",
      "    Residual |  6.1365e+11     2,673   229573201   R-squared       =    0.0609\n",
      "-------------+----------------------------------   Adj R-squared   =    0.0606\n",
      "       Total |  6.5346e+11     2,674   244375675   Root MSE        =     15152\n",
      "\n",
      "------------------------------------------------------------------------------\n",
      "        RE78 |      Coef.   Std. Err.      t    P>|t|     [95% Conf. Interval]\n",
      "-------------+----------------------------------------------------------------\n",
      "       TREAT |  -15204.78   1154.614   -13.17   0.000     -17468.8   -12940.75\n",
      "       _cons |   21553.92   303.6414    70.98   0.000     20958.53    22149.32\n",
      "------------------------------------------------------------------------------\n",
      "\n",
      "\n",
      "      Source |       SS           df       MS      Number of obs   =     2,675\n",
      "-------------+----------------------------------   F(4, 2670)      =    171.99\n",
      "       Model |  1.3388e+11         4  3.3470e+10   Prob > F        =    0.0000\n",
      "    Residual |  5.1958e+11     2,670   194600040   R-squared       =    0.2049\n",
      "-------------+----------------------------------   Adj R-squared   =    0.2037\n",
      "       Total |  6.5346e+11     2,674   244375675   Root MSE        =     13950\n",
      "\n",
      "------------------------------------------------------------------------------\n",
      "        RE78 |      Coef.   Std. Err.      t    P>|t|     [95% Conf. Interval]\n",
      "-------------+----------------------------------------------------------------\n",
      "       TREAT |  -6901.379   1213.245    -5.69   0.000    -9280.375   -4522.384\n",
      "         AGE |   176.6396   27.60029     6.40   0.000     122.5195    230.7597\n",
      "        EDUC |   1900.046   91.77385    20.70   0.000     1720.091    2080.001\n",
      "        MARR |   4937.016   800.0326     6.17   0.000     3368.269    6505.762\n",
      "       _cons |  -11901.44   1703.792    -6.99   0.000    -15242.33   -8560.557\n",
      "------------------------------------------------------------------------------\n"
     ]
    }
   ],
   "source": [
    "* Regression with a dummy variable for treatment (t-test)\n",
    "reg $ylist $treatment \n",
    "\n",
    "* Regression with a dummy variable for treatment controlling for x\n",
    "reg $ylist $treatment $xlist"
   ]
  },
  {
   "cell_type": "code",
   "execution_count": 133,
   "metadata": {
    "ExecuteTime": {
     "end_time": "2020-03-07T02:17:30.033964Z",
     "start_time": "2020-03-07T02:17:29.833775Z"
    },
    "slideshow": {
     "slide_type": "subslide"
    }
   },
   "outputs": [
    {
     "name": "stdout",
     "output_type": "stream",
     "text": [
      "\n",
      "\n",
      "\n",
      "**************************************************** \n",
      "Algorithm to estimate the propensity score \n",
      "**************************************************** \n",
      "\n",
      "\n",
      "The treatment is TREAT\n",
      "\n",
      "      TREAT |      Freq.     Percent        Cum.\n",
      "------------+-----------------------------------\n",
      "          0 |      2,490       93.08       93.08\n",
      "          1 |        185        6.92      100.00\n",
      "------------+-----------------------------------\n",
      "      Total |      2,675      100.00\n",
      "\n",
      "\n",
      "\n",
      "Estimation of the propensity score \n",
      "\n",
      "Iteration 0:   log likelihood = -672.64954\n",
      "Iteration 1:   log likelihood = -445.24322\n",
      "Iteration 2:   log likelihood = -417.65611\n",
      "Iteration 3:   log likelihood = -414.43392\n",
      "Iteration 4:   log likelihood = -414.37065\n",
      "Iteration 5:   log likelihood = -414.37062\n",
      "\n",
      "Probit regression                                 Number of obs   =       2675\n",
      "                                                  LR chi2(3)      =     516.56\n",
      "                                                  Prob > chi2     =     0.0000\n",
      "Log likelihood = -414.37062                       Pseudo R2       =     0.3840\n",
      "\n",
      "------------------------------------------------------------------------------\n",
      "       TREAT |      Coef.   Std. Err.      z    P>|z|     [95% Conf. Interval]\n",
      "-------------+----------------------------------------------------------------\n",
      "         AGE |  -.0479858   .0060942    -7.87   0.000    -.0599302   -.0360415\n",
      "        EDUC |  -.1686459   .0192597    -8.76   0.000    -.2063942   -.1308977\n",
      "        MARR |  -1.469566   .0995124   -14.77   0.000    -1.664607   -1.274526\n",
      "       _cons |   2.729172   .3230556     8.45   0.000     2.095994    3.362349\n",
      "------------------------------------------------------------------------------\n",
      "\n",
      "\n",
      "\n",
      "Note: the common support option has been selected\n",
      "The region of common support is [.000914, .80332316]\n",
      "\n",
      "\n",
      "\n",
      "Description of the estimated propensity score \n",
      "in region of common support \n",
      "\n",
      "                 Estimated propensity score\n",
      "-------------------------------------------------------------\n",
      "      Percentiles      Smallest\n",
      " 1%     .0010694        .000914\n",
      " 5%     .0014751        .000914\n",
      "10%     .0020168        .000914       Obs               2,332\n",
      "25%     .0048323       .0009183       Sum of Wgt.       2,332\n",
      "\n",
      "50%     .0177077                      Mean           .0796709\n",
      "                        Largest       Std. Dev.       .144896\n",
      "75%     .0534804       .7537369\n",
      "90%     .3188462       .7681876       Variance       .0209948\n",
      "95%     .4279398       .7897533       Skewness        2.41066\n",
      "99%      .645166       .8033232       Kurtosis       8.272405\n",
      "\n",
      "\n",
      "\n",
      "****************************************************** \n",
      "Step 1: Identification of the optimal number of blocks \n",
      "Use option detail if you want more detailed output \n",
      "****************************************************** \n",
      "\n",
      "\n",
      "The final number of blocks is 10\n",
      "\n",
      "This number of blocks ensures that the mean propensity score\n",
      "is not different for treated and controls in each blocks\n",
      "\n",
      "\n",
      "\n",
      "********************************************************** \n",
      "Step 2: Test of balancing property of the propensity score \n",
      "Use option detail if you want more detailed output \n",
      "********************************************************** \n",
      "\n",
      "\n",
      "The balancing property is satisfied \n",
      "\n",
      "\n",
      "This table shows the inferior bound, the number of treated\n",
      "and the number of controls for each block \n",
      "\n",
      "  Inferior |\n",
      "  of block |         TREAT\n",
      "of pscore  |         0          1 |     Total\n",
      "-----------+----------------------+----------\n",
      "   .000914 |       671          1 |       672 \n",
      "    .00625 |       316          6 |       322 \n",
      "     .0125 |       379          8 |       387 \n",
      "      .025 |       341         14 |       355 \n",
      "       .05 |       135          8 |       143 \n",
      "        .1 |       110         12 |       122 \n",
      "        .2 |       137         61 |       198 \n",
      "        .4 |        51         51 |       102 \n",
      "        .6 |         7         23 |        30 \n",
      "        .8 |         0          1 |         1 \n",
      "-----------+----------------------+----------\n",
      "     Total |     2,147        185 |     2,332 \n",
      "\n",
      "Note: the common support option has been selected\n",
      "\n",
      "\n",
      "******************************************* \n",
      "End of the algorithm to estimate the pscore \n",
      "******************************************* \n"
     ]
    }
   ],
   "source": [
    "* Propensity score matching with common support\n",
    "pscore $treatment $xlist, pscore(myscore) blockid(myblock) comsup"
   ]
  },
  {
   "cell_type": "code",
   "execution_count": 134,
   "metadata": {
    "ExecuteTime": {
     "end_time": "2020-03-07T02:17:47.600727Z",
     "start_time": "2020-03-07T02:17:47.138312Z"
    },
    "slideshow": {
     "slide_type": "subslide"
    }
   },
   "outputs": [
    {
     "name": "stdout",
     "output_type": "stream",
     "text": [
      "> \n",
      "\n",
      "\n",
      " The program is searching the nearest neighbor of each treated unit. \n",
      " This operation may take a while.\n",
      "\n",
      "\n",
      "\n",
      "ATT estimation with Nearest Neighbor Matching method \n",
      "(random draw version)\n",
      "Analytical standard errors\n",
      "\n",
      "---------------------------------------------------------\n",
      "n. treat.   n. contr.         ATT    Std. Err.          t\n",
      "---------------------------------------------------------\n",
      "\n",
      "      185         431   -6715.251     1200.953     -5.592\n",
      "\n",
      "---------------------------------------------------------\n",
      "Note: the numbers of treated and controls refer to actual\n",
      "nearest neighbour matches\n",
      "\n",
      "\n",
      "\n",
      "\n",
      "\n",
      "Bootstrapping of standard errors \n",
      "\n",
      "command:      attnd RE78 TREAT AGE EDUC MARR , pscore(myscore) comsup\n",
      "statistic:    attnd      = r(attnd)\n",
      ".....\n",
      "\n",
      "\n",
      "Bootstrap statistics                              Number of obs    =      2675\n",
      "                                                  Replications     =         5\n",
      "\n",
      "------------------------------------------------------------------------------\n",
      "Variable     |  Reps  Observed      Bias  Std. Err. [95% Conf. Interval]\n",
      "-------------+----------------------------------------------------------------\n",
      "       attnd |     5 -6715.251 -1246.729  1445.776  -10729.37  -2701.134   (N)\n",
      "             |                                      -9286.341  -5496.152   (P)\n",
      "             |                                       -8562.59  -5496.152  (BC)\n",
      "------------------------------------------------------------------------------\n",
      "Note:  N   = normal\n",
      "       P   = percentile\n",
      "       BC  = bias-corrected\n",
      "\n",
      "\n",
      "\n",
      "ATT estimation with Nearest Neighbor Matching method\n",
      "(random draw version)\n",
      "Bootstrapped standard errors\n",
      "\n",
      "---------------------------------------------------------\n",
      "n. treat.   n. contr.         ATT   Std. Err.           t\n",
      "---------------------------------------------------------\n",
      "\n",
      "      185         431   -6715.251    1445.776      -4.645\n",
      "\n",
      "---------------------------------------------------------\n",
      "Note: the numbers of treated and controls refer to actual\n",
      "nearest neighbour matches\n"
     ]
    }
   ],
   "source": [
    "* Matching methods \n",
    "\n",
    "* Nearest neighbor matching \n",
    "attnd $ylist $treatment $xlist, pscore(myscore) comsup boot reps($breps) dots \n"
   ]
  },
  {
   "cell_type": "code",
   "execution_count": 135,
   "metadata": {
    "ExecuteTime": {
     "end_time": "2020-03-07T02:18:33.204994Z",
     "start_time": "2020-03-07T02:18:03.784971Z"
    },
    "slideshow": {
     "slide_type": "subslide"
    }
   },
   "outputs": [
    {
     "name": "stdout",
     "output_type": "stream",
     "text": [
      "\n",
      "\n",
      " The program is searching for matches of treated units within radius. \n",
      " This operation may take a while.\n",
      "\n",
      "\n",
      "\n",
      "ATT estimation with the Radius Matching method\n",
      "Analytical standard errors\n",
      "\n",
      "---------------------------------------------------------\n",
      "n. treat.   n. contr.         ATT   Std. Err.           t\n",
      "---------------------------------------------------------\n",
      "\n",
      "      185        2147   -1.33e+04     652.019     -20.324\n",
      "\n",
      "---------------------------------------------------------\n",
      "Note: the numbers of treated and controls refer to actual\n",
      "matches within radius\n",
      "\n",
      "\n",
      "\n",
      "\n",
      "\n",
      "Bootstrapping of standard errors \n",
      "\n",
      "command:      attr RE78 TREAT AGE EDUC MARR , pscore(myscore) comsup radius(.1)\n",
      "statistic:    attr       = r(attr)\n",
      ".....\n",
      "\n",
      "\n",
      "Bootstrap statistics                              Number of obs    =      2675\n",
      "                                                  Replications     =         5\n",
      "\n",
      "------------------------------------------------------------------------------\n",
      "Variable     |  Reps  Observed      Bias  Std. Err. [95% Conf. Interval]\n",
      "-------------+----------------------------------------------------------------\n",
      "        attr |     5 -13252.01  1257.987  1904.299  -18539.19  -7964.828   (N)\n",
      "             |                                      -13960.26  -9687.716   (P)\n",
      "             |                                      -13960.26  -9687.716  (BC)\n",
      "------------------------------------------------------------------------------\n",
      "Note:  N   = normal\n",
      "       P   = percentile\n",
      "       BC  = bias-corrected\n",
      "\n",
      "\n",
      "\n",
      "ATT estimation with the Radius Matching method\n",
      "Bootstrapped standard errors\n",
      "\n",
      "---------------------------------------------------------\n",
      "n. treat.   n. contr.         ATT   Std. Err.           t\n",
      "---------------------------------------------------------\n",
      "\n",
      "      185        2147   -1.33e+04    1904.299      -6.959\n",
      "\n",
      "---------------------------------------------------------\n",
      "Note: the numbers of treated and controls refer to actual\n",
      "matches within radius\n"
     ]
    }
   ],
   "source": [
    "* Radius matching \n",
    "attr $ylist $treatment $xlist, pscore(myscore) comsup boot reps($breps) dots radius(0.1)\n"
   ]
  },
  {
   "cell_type": "code",
   "execution_count": 136,
   "metadata": {
    "ExecuteTime": {
     "end_time": "2020-03-07T02:18:33.944989Z",
     "start_time": "2020-03-07T02:18:33.206779Z"
    },
    "slideshow": {
     "slide_type": "subslide"
    }
   },
   "outputs": [
    {
     "name": "stdout",
     "output_type": "stream",
     "text": [
      "\n",
      "\n",
      " The program is searching for matches of each treated unit. \n",
      " This operation may take a while.\n",
      "\n",
      "\n",
      "\n",
      "ATT estimation with the Kernel Matching method \n",
      "\n",
      "---------------------------------------------------------\n",
      "n. treat.   n. contr.         ATT   Std. Err.           t\n",
      "---------------------------------------------------------\n",
      "\n",
      "      185        2147   -7009.315           .           .\n",
      "\n",
      "---------------------------------------------------------\n",
      "Note: Analytical standard errors cannot be computed. Use\n",
      "the bootstrap option to get bootstrapped standard errors.\n",
      "\n",
      "\n",
      "\n",
      "\n",
      "\n",
      "Bootstrapping of standard errors \n",
      "\n",
      "command:      attk RE78 TREAT AGE EDUC MARR , pscore(myscore) comsup bwidth(.06)\n",
      "statistic:    attk       = r(attk)\n",
      ".....\n",
      "\n",
      "\n",
      "Bootstrap statistics                              Number of obs    =      2675\n",
      "                                                  Replications     =         5\n",
      "\n",
      "------------------------------------------------------------------------------\n",
      "Variable     |  Reps  Observed      Bias  Std. Err. [95% Conf. Interval]\n",
      "-------------+----------------------------------------------------------------\n",
      "        attk |     5 -7009.315 -27.76328  750.1761  -9092.138  -4926.492   (N)\n",
      "             |                                      -7616.903   -5740.19   (P)\n",
      "             |                                      -7471.613   -5740.19  (BC)\n",
      "------------------------------------------------------------------------------\n",
      "Note:  N   = normal\n",
      "       P   = percentile\n",
      "       BC  = bias-corrected\n",
      "\n",
      "\n",
      "\n",
      "ATT estimation with the Kernel Matching method\n",
      "Bootstrapped standard errors\n",
      "\n",
      "---------------------------------------------------------\n",
      "n. treat.   n. contr.         ATT   Std. Err.           t\n",
      "---------------------------------------------------------\n",
      "\n",
      "      185        2147   -7009.315     750.176      -9.344\n",
      "\n",
      "---------------------------------------------------------\n"
     ]
    }
   ],
   "source": [
    "* Kernel Matching\n",
    "attk $ylist $treatment $xlist, pscore(myscore) comsup boot reps($breps) dots\n"
   ]
  },
  {
   "cell_type": "code",
   "execution_count": 137,
   "metadata": {
    "ExecuteTime": {
     "end_time": "2020-03-07T02:18:40.666740Z",
     "start_time": "2020-03-07T02:18:40.511100Z"
    },
    "slideshow": {
     "slide_type": "subslide"
    }
   },
   "outputs": [
    {
     "name": "stdout",
     "output_type": "stream",
     "text": [
      "\n",
      "\n",
      "\n",
      "ATT estimation with the Stratification method\n",
      "Analytical standard errors\n",
      "\n",
      "---------------------------------------------------------\n",
      "n. treat.   n. contr.         ATT   Std. Err.           t\n",
      "---------------------------------------------------------\n",
      "\n",
      "      184        2148   -6497.606           .           .\n",
      "\n",
      "---------------------------------------------------------\n",
      "\n",
      "\n",
      "\n",
      "\n",
      "\n",
      "Bootstrapping of standard errors \n",
      "\n",
      "command:      atts RE78 TREAT AGE EDUC MARR , pscore(myscore) blockid(myblock) c\n",
      "> omsup\n",
      "statistic:    atts       = r(atts)\n",
      ".....\n",
      "\n",
      "note: label truncated to 80 characters\n",
      "\n",
      "Bootstrap statistics                              Number of obs    =      2675\n",
      "                                                  Replications     =         5\n",
      "\n",
      "------------------------------------------------------------------------------\n",
      "Variable     |  Reps  Observed      Bias  Std. Err. [95% Conf. Interval]\n",
      "-------------+----------------------------------------------------------------\n",
      "        atts |     5 -6497.605  83.62314  338.2789  -7436.818  -5558.393   (N)\n",
      "             |                                      -6883.234  -6012.567   (P)\n",
      "             |                                      -6883.234  -6012.567  (BC)\n",
      "------------------------------------------------------------------------------\n",
      "Note:  N   = normal\n",
      "       P   = percentile\n",
      "       BC  = bias-corrected\n",
      "\n",
      "\n",
      "\n",
      "ATT estimation with the Stratification method\n",
      "Bootstrapped standard errors\n",
      "\n",
      "---------------------------------------------------------\n",
      "n. treat.   n. contr.         ATT   Std. Err.           t\n",
      "---------------------------------------------------------\n",
      "\n",
      "      184        2148   -6497.605     338.279     -19.208\n",
      "\n",
      "---------------------------------------------------------\n"
     ]
    }
   ],
   "source": [
    "* Stratification Matching\n",
    "atts $ylist $treatment $xlist, pscore(myscore) blockid(myblock) comsup boot reps($breps) dots\n",
    "\n"
   ]
  },
  {
   "cell_type": "markdown",
   "metadata": {
    "slideshow": {
     "slide_type": "slide"
    }
   },
   "source": [
    "## psestimate 筛选匹配变量的一阶、二阶形式"
   ]
  },
  {
   "cell_type": "code",
   "execution_count": 125,
   "metadata": {
    "ExecuteTime": {
     "end_time": "2020-03-07T02:14:30.013775Z",
     "start_time": "2020-03-07T02:14:21.601096Z"
    },
    "slideshow": {
     "slide_type": "subslide"
    }
   },
   "outputs": [
    {
     "name": "stdout",
     "output_type": "stream",
     "text": [
      "Selecting first order covariates... (15)\n",
      "----+--- 1 ---+--- 2 ---+--- 3 ---+--- 4 ---+--- 5 \n",
      "....s...s..s.ss.\n",
      "Selected first order covariates are: MARR BLACK AGE HISP EDUC\n",
      "Selecting second order covariates... (231)\n",
      "----+--- 1 ---+--- 2 ---+--- 3 ---+--- 4 ---+--- 5 \n",
      "....................s...................s.........    50\n",
      ".........s.................s................s.....   100\n",
      "...........\n",
      "Selected second order covariates are: c.EDUC#c.AGE c.EDUC#c.BLACK c.AGE#c.BLACK \n",
      "> c.AGE#c.AGE c.BLACK#c.MARR\n",
      "Final model is: RE78 MARR BLACK AGE HISP EDUC c.EDUC#c.AGE c.EDUC#c.BLACK c.AGE#\n",
      "> c.BLACK c.AGE#c.AGE c.BLACK#c.MARR\n"
     ]
    }
   ],
   "source": [
    "psestimate TREAT RE78, totry(AGE EDUC MARR BLACK HISP)\n"
   ]
  },
  {
   "cell_type": "code",
   "execution_count": 90,
   "metadata": {
    "ExecuteTime": {
     "end_time": "2020-03-05T16:26:20.345911Z",
     "start_time": "2020-03-05T16:26:20.256570Z"
    }
   },
   "outputs": [],
   "source": [
    "* select RE78 MARR BLACK AGESQ HISP EDUCSQ EDUC AGE c.AGE#c.EDUCSQ c.EDUC"
   ]
  },
  {
   "cell_type": "code",
   "execution_count": 126,
   "metadata": {
    "ExecuteTime": {
     "end_time": "2020-03-07T02:14:58.723103Z",
     "start_time": "2020-03-07T02:14:58.692408Z"
    },
    "slideshow": {
     "slide_type": "subslide"
    }
   },
   "outputs": [],
   "source": [
    "* Define treatment, outcome, and independent variables\n",
    "global treatment TREAT\n",
    "global ylist RE78\n",
    "global xlist MARR BLACK AGESQ HISP EDUCSQ EDUC AGE \n",
    "*global xlist AGE EDUC MARR \n",
    "global breps 5"
   ]
  },
  {
   "cell_type": "code",
   "execution_count": 127,
   "metadata": {
    "ExecuteTime": {
     "end_time": "2020-03-07T02:15:00.522584Z",
     "start_time": "2020-03-07T02:15:00.473929Z"
    },
    "slideshow": {
     "slide_type": "subslide"
    }
   },
   "outputs": [
    {
     "name": "stdout",
     "output_type": "stream",
     "text": [
      "\n",
      "\n",
      "              storage   display    value\n",
      "variable name   type    format     label      variable label\n",
      "--------------------------------------------------------------------------------\n",
      "TREAT           float   %9.0g                 \n",
      "RE78            float   %9.0g                 \n",
      "MARR            float   %9.0g                 \n",
      "BLACK           float   %9.0g                 \n",
      "AGESQ           float   %9.0g                 \n",
      "HISP            float   %9.0g                 \n",
      "EDUCSQ          float   %9.0g                 \n",
      "EDUC            float   %9.0g                 \n",
      "AGE             float   %9.0g                 \n",
      "\n",
      "\n",
      "    Variable |        Obs        Mean    Std. Dev.       Min        Max\n",
      "-------------+---------------------------------------------------------\n",
      "       TREAT |      2,675    .0691589    .2537716          0          1\n",
      "        RE78 |      2,675    20502.38    15632.52          0     121174\n",
      "        MARR |      2,675    .8194393    .3847257          0          1\n",
      "       BLACK |      2,675    .2915888    .4545789          0          1\n",
      "       AGESQ |      2,675     1281.61    766.8415        289       3025\n",
      "-------------+---------------------------------------------------------\n",
      "        HISP |      2,675    .0343925    .1822693          0          1\n",
      "      EDUCSQ |      2,675    153.1862    70.62231          0        289\n",
      "        EDUC |      2,675    11.99439    3.053556          0         17\n",
      "         AGE |      2,675    34.22579    10.49984         17         55\n",
      "\n",
      "\n",
      "--------------------------------------------------------------------------------\n",
      "-> TREAT = 0\n",
      "\n",
      "    Variable |        Obs        Mean    Std. Dev.       Min        Max\n",
      "-------------+---------------------------------------------------------\n",
      "        RE78 |      2,490    21553.92    15555.35          0     121174\n",
      "        MARR |      2,490    .8662651    .3404357          0          1\n",
      "       BLACK |      2,490    .2506024     .433447          0          1\n",
      "       AGESQ |      2,490     1323.53     769.796        324       3025\n",
      "        HISP |      2,490    .0325301    .1774389          0          1\n",
      "-------------+---------------------------------------------------------\n",
      "      EDUCSQ |      2,490    156.3161    71.43048          0        289\n",
      "        EDUC |      2,490    12.11687    3.082435          0         17\n",
      "         AGE |      2,490     34.8506    10.44076         18         55\n",
      "\n",
      "--------------------------------------------------------------------------------\n",
      "-> TREAT = 1\n",
      "\n",
      "    Variable |        Obs        Mean    Std. Dev.       Min        Max\n",
      "-------------+---------------------------------------------------------\n",
      "        RE78 |        185    6349.145    7867.405          0    60307.9\n",
      "        MARR |        185    .1891892    .3927217          0          1\n",
      "       BLACK |        185    .8432432    .3645579          0          1\n",
      "       AGESQ |        185    717.3946    431.2517        289       2304\n",
      "        HISP |        185    .0594595    .2371244          0          1\n",
      "-------------+---------------------------------------------------------\n",
      "      EDUCSQ |        185    111.0595    39.30388         16        256\n",
      "        EDUC |        185    10.34595     2.01065          4         16\n",
      "         AGE |        185    25.81622    7.155019         17         48\n",
      "\n"
     ]
    }
   ],
   "source": [
    "* For difference-in-differences, outcome is the differences in outcomes after and before\n",
    "* global ylist REDIFF \n",
    "\n",
    "describe $treatment $ylist $xlist\n",
    "summarize $treatment $ylist $xlist\n",
    "\n",
    "bysort $treatment: summarize $ylist $xlist"
   ]
  },
  {
   "cell_type": "code",
   "execution_count": 130,
   "metadata": {
    "ExecuteTime": {
     "end_time": "2020-03-07T02:15:21.339780Z",
     "start_time": "2020-03-07T02:15:21.236839Z"
    },
    "slideshow": {
     "slide_type": "subslide"
    }
   },
   "outputs": [
    {
     "name": "stdout",
     "output_type": "stream",
     "text": [
      "\n",
      "Probit regression                               Number of obs     =      2,675\n",
      "                                                LR chi2(7)        =     644.23\n",
      "                                                Prob > chi2       =     0.0000\n",
      "Log likelihood = -350.53316                     Pseudo R2         =     0.4789\n",
      "\n",
      "------------------------------------------------------------------------------\n",
      "       TREAT |      Coef.   Std. Err.      z    P>|z|     [95% Conf. Interval]\n",
      "-------------+----------------------------------------------------------------\n",
      "        MARR |  -1.436539   .1131407   -12.70   0.000    -1.658291   -1.214788\n",
      "       BLACK |    1.15185   .1337161     8.61   0.000     .8897711    1.413929\n",
      "       AGESQ |  -.0013987   .0007246    -1.93   0.054    -.0028189    .0000214\n",
      "        HISP |   1.141139   .2507147     4.55   0.000     .6497472    1.632531\n",
      "      EDUCSQ |  -.0242514   .0069926    -3.47   0.001    -.0379566   -.0105462\n",
      "        EDUC |   .3656487    .140998     2.59   0.010     .0892976    .6419997\n",
      "         AGE |   .0537819    .047324     1.14   0.256    -.0389714    .1465351\n",
      "       _cons |   -2.52339   .9923452    -2.54   0.011    -4.468351   -.5784294\n",
      "------------------------------------------------------------------------------\n",
      "Note: 1 failure and 0 successes completely determined.\n",
      "--------------------------------------------------------------------------------\n",
      "> --------\n",
      "        Variable     Sample |    Treated     Controls   Difference         S.E. \n",
      ">   T-stat\n",
      "----------------------------+---------------------------------------------------\n",
      "> --------\n",
      "            RE78  Unmatched | 6349.14537   21553.9213  -15204.7759   1154.61435 \n",
      ">   -13.17\n",
      "                        ATT | 6349.14537   12894.6987  -6545.55335   1442.54904 \n",
      ">    -4.54\n",
      "----------------------------+---------------------------------------------------\n",
      "> --------\n",
      "Note: S.E. does not take into account that the propensity score is estimated.\n",
      "\n",
      "           | psmatch2:\n",
      " psmatch2: |   Common\n",
      " Treatment |  support\n",
      "assignment | On suppor |     Total\n",
      "-----------+-----------+----------\n",
      " Untreated |     2,490 |     2,490 \n",
      "   Treated |       185 |       185 \n",
      "-----------+-----------+----------\n",
      "     Total |     2,675 |     2,675 \n",
      "\n"
     ]
    }
   ],
   "source": [
    "psmatch2 $treatment $xlist, out($ylist)"
   ]
  },
  {
   "cell_type": "code",
   "execution_count": 72,
   "metadata": {
    "ExecuteTime": {
     "end_time": "2020-03-05T15:43:43.031512Z",
     "start_time": "2020-03-05T15:43:43.004724Z"
    },
    "slideshow": {
     "slide_type": "subslide"
    }
   },
   "outputs": [],
   "source": [
    "* Propensity score matching with common support\n",
    "* pscore $treatment $xlist, pscore(myscore) blockid(myblock) comsup\n",
    "* can not install pscore, using psmatch2 instead"
   ]
  },
  {
   "cell_type": "code",
   "execution_count": 107,
   "metadata": {
    "ExecuteTime": {
     "end_time": "2020-03-05T16:29:01.768741Z",
     "start_time": "2020-03-05T16:29:01.410577Z"
    },
    "slideshow": {
     "slide_type": "subslide"
    }
   },
   "outputs": [
    {
     "name": "stdout",
     "output_type": "stream",
     "text": [
      "note: EDUC omitted because of collinearity\n",
      "\n",
      "Probit regression                               Number of obs     =      2,675\n",
      "                                                LR chi2(8)        =     657.17\n",
      "                                                Prob > chi2       =     0.0000\n",
      "Log likelihood = -344.06239                     Pseudo R2         =     0.4885\n",
      "\n",
      "------------------------------------------------------------------------------\n",
      "       TREAT |      Coef.   Std. Err.      z    P>|z|     [95% Conf. Interval]\n",
      "-------------+----------------------------------------------------------------\n",
      "        MARR |   -1.42234   .1135241   -12.53   0.000    -1.644843   -1.199837\n",
      "       BLACK |   1.163088   .1340631     8.68   0.000     .9003294    1.425847\n",
      "       AGESQ |  -.0009722   .0007126    -1.36   0.172    -.0023689    .0004245\n",
      "        HISP |   1.164901   .2531837     4.60   0.000     .6686698    1.661132\n",
      "      EDUCSQ |  -.0321221   .0074507    -4.31   0.000    -.0467253    -.017519\n",
      "        EDUC |   .2191077   .1391062     1.58   0.115    -.0535354    .4917508\n",
      "         AGE |    -.02651   .0485746    -0.55   0.585    -.1217145    .0686944\n",
      "             |\n",
      "       c.AGE#|\n",
      "    c.EDUCSQ |   .0004922    .000122     4.04   0.000     .0002532    .0007312\n",
      "             |\n",
      "        EDUC |          0  (omitted)\n",
      "       _cons |   .2480205   1.130188     0.22   0.826    -1.967108    2.463149\n",
      "------------------------------------------------------------------------------\n",
      "--------------------------------------------------------------------------------\n",
      "> --------\n",
      "        Variable     Sample |    Treated     Controls   Difference         S.E. \n",
      ">   T-stat\n",
      "----------------------------+---------------------------------------------------\n",
      "> --------\n",
      "            RE78  Unmatched | 6349.14537   21553.9213  -15204.7759   1154.61435 \n",
      ">   -13.17\n",
      "                        ATT | 6349.14537   12456.4625  -6107.31711   1406.21862 \n",
      ">    -4.34\n",
      "                        ATU | 21553.9213   6869.25339  -14684.6679            . \n",
      ">        .\n",
      "                        ATE |                           -14091.468            . \n",
      ">        .\n",
      "----------------------------+---------------------------------------------------\n",
      "> --------\n",
      "Note: S.E. does not take into account that the propensity score is estimated.\n",
      "\n",
      "           | psmatch2:\n",
      " psmatch2: |   Common\n",
      " Treatment |  support\n",
      "assignment | On suppor |     Total\n",
      "-----------+-----------+----------\n",
      " Untreated |     2,490 |     2,490 \n",
      "   Treated |       185 |       185 \n",
      "-----------+-----------+----------\n",
      "     Total |     2,675 |     2,675 \n",
      "\n"
     ]
    }
   ],
   "source": [
    "*近邻匹配\n",
    "psmatch2 $treatment $xlist,out($ylist) neighbor(2) ate"
   ]
  },
  {
   "cell_type": "code",
   "execution_count": 108,
   "metadata": {
    "ExecuteTime": {
     "end_time": "2020-03-05T16:29:16.448232Z",
     "start_time": "2020-03-05T16:29:14.106185Z"
    },
    "slideshow": {
     "slide_type": "subslide"
    }
   },
   "outputs": [
    {
     "name": "stdout",
     "output_type": "stream",
     "text": [
      "note: EDUC omitted because of collinearity\n",
      "\n",
      "Probit regression                               Number of obs     =      2,675\n",
      "                                                LR chi2(8)        =     657.17\n",
      "                                                Prob > chi2       =     0.0000\n",
      "Log likelihood = -344.06239                     Pseudo R2         =     0.4885\n",
      "\n",
      "------------------------------------------------------------------------------\n",
      "       TREAT |      Coef.   Std. Err.      z    P>|z|     [95% Conf. Interval]\n",
      "-------------+----------------------------------------------------------------\n",
      "        MARR |   -1.42234   .1135241   -12.53   0.000    -1.644843   -1.199837\n",
      "       BLACK |   1.163088   .1340631     8.68   0.000     .9003294    1.425847\n",
      "       AGESQ |  -.0009722   .0007126    -1.36   0.172    -.0023689    .0004245\n",
      "        HISP |   1.164901   .2531837     4.60   0.000     .6686698    1.661132\n",
      "      EDUCSQ |  -.0321221   .0074507    -4.31   0.000    -.0467253    -.017519\n",
      "        EDUC |   .2191077   .1391062     1.58   0.115    -.0535354    .4917508\n",
      "         AGE |    -.02651   .0485746    -0.55   0.585    -.1217145    .0686944\n",
      "             |\n",
      "       c.AGE#|\n",
      "    c.EDUCSQ |   .0004922    .000122     4.04   0.000     .0002532    .0007312\n",
      "             |\n",
      "        EDUC |          0  (omitted)\n",
      "       _cons |   .2480205   1.130188     0.22   0.826    -1.967108    2.463149\n",
      "------------------------------------------------------------------------------\n",
      "--------------------------------------------------------------------------------\n",
      "> --------\n",
      "        Variable     Sample |    Treated     Controls   Difference         S.E. \n",
      ">   T-stat\n",
      "----------------------------+---------------------------------------------------\n",
      "> --------\n",
      "            RE78  Unmatched | 6349.14537   21553.9213  -15204.7759   1154.61435 \n",
      ">   -13.17\n",
      "                        ATT | 6370.93346   11717.0915    -5346.158   1779.23579 \n",
      ">    -3.00\n",
      "                        ATU | 21648.7605   7366.04307  -14282.7174            . \n",
      ">        .\n",
      "                        ATE |                          -13684.0153            . \n",
      ">        .\n",
      "----------------------------+---------------------------------------------------\n",
      "> --------\n",
      "Note: S.E. does not take into account that the propensity score is estimated.\n",
      "\n",
      " psmatch2: |   psmatch2: Common\n",
      " Treatment |        support\n",
      "assignment | Off suppo  On suppor |     Total\n",
      "-----------+----------------------+----------\n",
      " Untreated |        25      2,465 |     2,490 \n",
      "   Treated |         8        177 |       185 \n",
      "-----------+----------------------+----------\n",
      "     Total |        33      2,642 |     2,675 \n",
      "\n"
     ]
    }
   ],
   "source": [
    "*半径匹配\n",
    "psmatch2 $treatment $xlist,out($ylist) ate radius caliper(0.01)"
   ]
  },
  {
   "cell_type": "code",
   "execution_count": 109,
   "metadata": {
    "ExecuteTime": {
     "end_time": "2020-03-05T16:29:26.794967Z",
     "start_time": "2020-03-05T16:29:24.457495Z"
    },
    "slideshow": {
     "slide_type": "subslide"
    }
   },
   "outputs": [
    {
     "name": "stdout",
     "output_type": "stream",
     "text": [
      "note: EDUC omitted because of collinearity\n",
      "\n",
      "Probit regression                               Number of obs     =      2,675\n",
      "                                                LR chi2(8)        =     657.17\n",
      "                                                Prob > chi2       =     0.0000\n",
      "Log likelihood = -344.06239                     Pseudo R2         =     0.4885\n",
      "\n",
      "------------------------------------------------------------------------------\n",
      "       TREAT |      Coef.   Std. Err.      z    P>|z|     [95% Conf. Interval]\n",
      "-------------+----------------------------------------------------------------\n",
      "        MARR |   -1.42234   .1135241   -12.53   0.000    -1.644843   -1.199837\n",
      "       BLACK |   1.163088   .1340631     8.68   0.000     .9003294    1.425847\n",
      "       AGESQ |  -.0009722   .0007126    -1.36   0.172    -.0023689    .0004245\n",
      "        HISP |   1.164901   .2531837     4.60   0.000     .6686698    1.661132\n",
      "      EDUCSQ |  -.0321221   .0074507    -4.31   0.000    -.0467253    -.017519\n",
      "        EDUC |   .2191077   .1391062     1.58   0.115    -.0535354    .4917508\n",
      "         AGE |    -.02651   .0485746    -0.55   0.585    -.1217145    .0686944\n",
      "             |\n",
      "       c.AGE#|\n",
      "    c.EDUCSQ |   .0004922    .000122     4.04   0.000     .0002532    .0007312\n",
      "             |\n",
      "        EDUC |          0  (omitted)\n",
      "       _cons |   .2480205   1.130188     0.22   0.826    -1.967108    2.463149\n",
      "------------------------------------------------------------------------------\n",
      "--------------------------------------------------------------------------------\n",
      "> --------\n",
      "        Variable     Sample |    Treated     Controls   Difference         S.E. \n",
      ">   T-stat\n",
      "----------------------------+---------------------------------------------------\n",
      "> --------\n",
      "            RE78  Unmatched | 6349.14537   21553.9213  -15204.7759   1154.61435 \n",
      ">   -13.17\n",
      "                        ATT | 6349.14537   11451.1117  -5101.96629   1429.98371 \n",
      ">    -3.57\n",
      "                        ATU | 21553.9213   8979.44235   -12574.479            . \n",
      ">        .\n",
      "                        ATE |                          -12057.6884            . \n",
      ">        .\n",
      "----------------------------+---------------------------------------------------\n",
      "> --------\n",
      "Note: S.E. does not take into account that the propensity score is estimated.\n",
      "\n",
      "           | psmatch2:\n",
      " psmatch2: |   Common\n",
      " Treatment |  support\n",
      "assignment | On suppor |     Total\n",
      "-----------+-----------+----------\n",
      " Untreated |     2,490 |     2,490 \n",
      "   Treated |       185 |       185 \n",
      "-----------+-----------+----------\n",
      "     Total |     2,675 |     2,675 \n",
      "\n"
     ]
    }
   ],
   "source": [
    "*核匹配\n",
    "\n",
    "psmatch2 $treatment $xlist,out($ylist) ate kernel"
   ]
  },
  {
   "cell_type": "code",
   "execution_count": 78,
   "metadata": {
    "ExecuteTime": {
     "end_time": "2020-03-05T15:48:13.483995Z",
     "start_time": "2020-03-05T15:48:13.388751Z"
    }
   },
   "outputs": [],
   "source": [
    "// * Matching methods \n",
    "\n",
    "// * Nearest neighbor matching \n",
    "// attnd $ylist $treatment $xlist, pscore(myscore) comsup boot reps($breps) dots \n",
    "\n",
    "// * Radius matching \n",
    "// attr $ylist $treatment $xlist, pscore(myscore) comsup boot reps($breps) dots radius(0.1)\n",
    "\n",
    "// * Kernel Matching\n",
    "// attk $ylist $treatment $xlist, pscore(myscore) comsup boot reps($breps) dots\n",
    "\n",
    "// * Stratification Matching\n",
    "// atts $ylist $treatment $xlist, pscore(myscore) blockid(myblock) comsup boot reps($breps) dots"
   ]
  },
  {
   "cell_type": "markdown",
   "metadata": {
    "slideshow": {
     "slide_type": "slide"
    }
   },
   "source": [
    "## pstest 进行平衡性假设检验"
   ]
  },
  {
   "cell_type": "code",
   "execution_count": 110,
   "metadata": {
    "ExecuteTime": {
     "end_time": "2020-03-05T16:29:32.883405Z",
     "start_time": "2020-03-05T16:29:32.177967Z"
    },
    "slideshow": {
     "slide_type": "subslide"
    }
   },
   "outputs": [
    {
     "name": "stdout",
     "output_type": "stream",
     "text": [
      "\n",
      "--------------------------------------------------------------------------------\n",
      "> --------\n",
      "                Unmatched |       Mean               %reduct |     t-test    |  \n",
      "> V(T)/\n",
      "Variable          Matched | Treated Control    %bias  |bias| |    t    p>|t| |  \n",
      "> V(C)\n",
      "--------------------------+----------------------------------+---------------+--\n",
      "> --------\n",
      "MARR                   U  | .18919   .86627   -184.2         | -25.81  0.000 |  \n",
      ">    .\n",
      "                       M  | .18919    .2082     -5.2    97.2 |  -0.46  0.648 |  \n",
      ">    .\n",
      "                          |                                  |               |\n",
      "BLACK                  U  | .84324    .2506    148.0         |  18.13  0.000 |  \n",
      ">    .\n",
      "                       M  | .84324   .85038     -1.8    98.8 |  -0.19  0.849 |  \n",
      ">    .\n",
      "                          |                                  |               |\n",
      "AGESQ                  U  | 717.39   1323.5    -97.1         | -10.59  0.000 |  \n",
      "> 0.31*\n",
      "                       M  | 717.39    753.4     -5.8    94.1 |  -0.77  0.442 |  \n",
      "> 0.85\n",
      "                          |                                  |               |\n",
      "HISP                   U  | .05946   .03253     12.9         |   1.94  0.053 |  \n",
      ">    .\n",
      "                       M  | .05946   .03431     12.0     6.6 |   1.14  0.254 |  \n",
      ">    .\n",
      "                          |                                  |               |\n",
      "EDUCSQ                 U  | 111.06   156.32    -78.5         |  -8.52  0.000 |  \n",
      "> 0.30*\n",
      "                       M  | 111.06   110.97      0.2    99.8 |   0.02  0.983 |  \n",
      "> 0.80\n",
      "                          |                                  |               |\n",
      "EDUC                   U  | 10.346   12.117    -68.1         |  -7.69  0.000 |  \n",
      "> 0.43*\n",
      "                       M  | 10.346   10.314      1.2    98.2 |   0.15  0.884 |  \n",
      "> 0.88\n",
      "                          |                                  |               |\n",
      "AGE                    U  | 25.816   34.851   -100.9         | -11.57  0.000 |  \n",
      "> 0.47*\n",
      "                       M  | 25.816   26.475     -7.4    92.7 |  -0.88  0.380 |  \n",
      "> 0.97\n",
      "                          |                                  |               |\n",
      "c.AGE#c.EDUCSQ         U  | 2879.5   5308.9   -105.8         | -11.18  0.000 |  \n",
      "> 0.23*\n",
      "                       M  | 2879.5   2934.9     -2.4    97.7 |  -0.36  0.718 |  \n",
      "> 0.82\n",
      "                          |                                  |               |\n",
      "EDUC                   U  | 10.346   12.117    -68.1         |  -7.69  0.000 |  \n",
      "> 0.43*\n",
      "                       M  | 10.346   10.314      1.2    98.2 |   0.15  0.884 |  \n",
      "> 0.88\n",
      "                          |                                  |               |\n",
      "--------------------------------------------------------------------------------\n",
      "> --------\n",
      "* if variance ratio outside [0.75; 1.34] for U and [0.75; 1.34] for M\n",
      "\n",
      "--------------------------------------------------------------------------------\n",
      "> ---\n",
      " Sample    | Ps R2   LR chi2   p>chi2   MeanBias   MedBias      B      R     %Va\n",
      "> r\n",
      "-----------+--------------------------------------------------------------------\n",
      "> ---\n",
      " Unmatched | 0.488    657.17    0.000     95.9      97.1     256.5*   0.70    10\n",
      "> 0\n",
      " Matched   | 0.006      3.03    0.933      4.1       2.4      18.0    1.51      \n",
      "> 0\n",
      "--------------------------------------------------------------------------------\n",
      "> ---\n",
      "* if B>25%, R outside [0.5; 2]\n"
     ]
    }
   ],
   "source": [
    "*对自变量进行平衡性检验\n",
    "pstest $xlist, both graph"
   ]
  },
  {
   "cell_type": "code",
   "execution_count": 111,
   "metadata": {
    "ExecuteTime": {
     "end_time": "2020-03-05T16:30:16.027123Z",
     "start_time": "2020-03-05T16:30:15.806395Z"
    },
    "slideshow": {
     "slide_type": "subslide"
    }
   },
   "outputs": [
    {
     "name": "stdout",
     "output_type": "stream",
     "text": [
      "\n",
      "------------------------------------------------------------------------------\n",
      "                        |       Mean               |     t-test    |  V(T)/\n",
      "Variable                | Treated Control    %bias |    t    p>|t| |  V(C)\n",
      "------------------------+--------------------------+---------------+----------\n",
      "MARR                    | .18919    .2082     -5.2 |  -0.46  0.648 |     .\n",
      "BLACK                   | .84324   .85038     -1.8 |  -0.19  0.849 |     .\n",
      "AGESQ                   | 717.39    753.4     -5.8 |  -0.77  0.442 |  0.85\n",
      "HISP                    | .05946   .03431     12.0 |   1.14  0.254 |     .\n",
      "EDUCSQ                  | 111.06   110.97      0.2 |   0.02  0.983 |  0.80\n",
      "EDUC                    | 10.346   10.314      1.2 |   0.15  0.884 |  0.88\n",
      "AGE                     | 25.816   26.475     -7.4 |  -0.88  0.380 |  0.97\n",
      "c.AGE#c.EDUCSQ          | 2879.5   2934.9     -2.4 |  -0.36  0.718 |  0.82\n",
      "EDUC                    | 10.346   10.314      1.2 |   0.15  0.884 |  0.88\n",
      "------------------------------------------------------------------------------\n",
      "* if variance ratio outside [0.75; 1.34]\n",
      "\n",
      "----------------------------------------------------------------------\n",
      "Ps R2   LR chi2   p>chi2   MeanBias   MedBias      B       R     %Var \n",
      "----------------------------------------------------------------------\n",
      "0.006      3.03    0.933      4.1       2.4      18.0    1.51       0\n",
      "----------------------------------------------------------------------\n",
      "* if B>25%, R outside [0.5; 2]\n"
     ]
    }
   ],
   "source": [
    "pstest $xlist, t($treatment)\n",
    "* 可以发现，匹配后实验组与控制组的匹配变量均没有显著差异，满足平衡性假设条件"
   ]
  },
  {
   "cell_type": "markdown",
   "metadata": {
    "slideshow": {
     "slide_type": "slide"
    }
   },
   "source": [
    "## psgraph 绘图直观呈现各匹配变量的平衡性状况"
   ]
  },
  {
   "cell_type": "code",
   "execution_count": 112,
   "metadata": {
    "ExecuteTime": {
     "end_time": "2020-03-05T16:30:23.999947Z",
     "start_time": "2020-03-05T16:30:23.653536Z"
    },
    "slideshow": {
     "slide_type": "subslide"
    }
   },
   "outputs": [],
   "source": [
    "psgraph\n",
    "* 比较差。还是样本量的原因。\n",
    "* 图中也可以直观看出，实验组与控制组的倾向得分值分布大致平衡。"
   ]
  },
  {
   "cell_type": "code",
   "execution_count": 116,
   "metadata": {
    "ExecuteTime": {
     "end_time": "2020-03-05T16:35:56.666952Z",
     "start_time": "2020-03-05T16:35:56.571202Z"
    },
    "slideshow": {
     "slide_type": "subslide"
    }
   },
   "outputs": [],
   "source": [
    "cap log close\n"
   ]
  },
  {
   "cell_type": "markdown",
   "metadata": {
    "slideshow": {
     "slide_type": "subslide"
    }
   },
   "source": [
    "## Reference\n",
    "\n",
    "- 郭申阳 & 马克·W.弗雷泽（2002）倾向值分析：统计方法与应用.重庆大学出版社 \n",
    "- Ani Katchova (2013) Propensity Score Matching in Stata https://www.bilibili.com/video/av50118270?p=3\n",
    "- https://www.sohu.com/a/243177248_659080\n",
    "- https://zhuanlan.zhihu.com/p/73946644"
   ]
  },
  {
   "attachments": {},
   "cell_type": "markdown",
   "metadata": {
    "slideshow": {
     "slide_type": "slide"
    }
   },
   "source": [
    "![image.png](img/chengjun2.png)"
   ]
  }
 ],
 "metadata": {
  "celltoolbar": "Slideshow",
  "kernelspec": {
   "display_name": "Stata",
   "language": "stata",
   "name": "stata"
  },
  "language_info": {
   "codemirror_mode": "stata",
   "file_extension": ".do",
   "mimetype": "text/x-stata",
   "name": "stata",
   "version": "15.1"
  },
  "latex_envs": {
   "LaTeX_envs_menu_present": true,
   "autoclose": false,
   "autocomplete": true,
   "bibliofile": "biblio.bib",
   "cite_by": "apalike",
   "current_citInitial": 1,
   "eqLabelWithNumbers": true,
   "eqNumInitial": 1,
   "hotkeys": {
    "equation": "Ctrl-E",
    "itemize": "Ctrl-I"
   },
   "labels_anchors": false,
   "latex_user_defs": false,
   "report_style_numbering": false,
   "user_envs_cfg": false
  },
  "toc": {
   "base_numbering": 1,
   "nav_menu": {},
   "number_sections": false,
   "sideBar": true,
   "skip_h1_title": false,
   "title_cell": "Table of Contents",
   "title_sidebar": "Contents",
   "toc_cell": false,
   "toc_position": {},
   "toc_section_display": true,
   "toc_window_display": false
  }
 },
 "nbformat": 4,
 "nbformat_minor": 2
}
