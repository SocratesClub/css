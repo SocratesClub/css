{
 "cells": [
  {
   "cell_type": "markdown",
   "metadata": {
    "slideshow": {
     "slide_type": "slide"
    }
   },
   "source": [
    "----\n",
    "---\n",
    "\n",
    "# Simulating Network Diffusion With NDlib\n",
    " <span><img src=img/si1.png   align='middle'/></span>\n",
    "----\n",
    "---\n",
    "\n",
    "\n",
    "[**NDlib**](https://ndlib.readthedocs.io/en/latest/overview.html) is a Python language software package for the describing, simulate, and study diffusion processes on complex networks."
   ]
  },
  {
   "cell_type": "markdown",
   "metadata": {
    "slideshow": {
     "slide_type": "subslide"
    }
   },
   "source": [
    "NDlib is built upon the `NetworkX ` python library and is intended to provide:\n",
    "\n",
    "- tools for the study diffusion dynamics on social, biological, and infrastructure networks,\n",
    "- a standard programming interface and diffusion models \n",
    "- implementation that is suitable for many applications,\n",
    "a rapid development environment for collaborative, multidisciplinary, projects."
   ]
  },
  {
   "cell_type": "markdown",
   "metadata": {
    "slideshow": {
     "slide_type": "slide"
    }
   },
   "source": [
    "## The SI Model \n",
    "![image.png](img/si2.png)"
   ]
  },
  {
   "cell_type": "markdown",
   "metadata": {
    "slideshow": {
     "slide_type": "subslide"
    }
   },
   "source": [
    "$$\\frac{dS}{dt} = -\\beta S I$$\n",
    "\n",
    "$$\\frac{dI}{dt} = \\beta S I$$\n",
    "\n",
    "Given every individual in the system must be either susceptible or infected, $I + S = 1$. Thus, the equations above can be transformed to:\n",
    "\n",
    "$$\\frac{dI}{dt} = \\beta I (1-I)$$\n",
    "\n"
   ]
  },
  {
   "cell_type": "markdown",
   "metadata": {
    "slideshow": {
     "slide_type": "subslide"
    }
   },
   "source": [
    "To solve this differential equation, we can get the cumulative growth curve as a function of time:\n",
    "\n",
    "$$I_{t} = \\frac{x_0 e^{\\beta t}}{1-x_0 + x_0 e^{\\beta t}}$$\n",
    "\n",
    "Interestingly, this is a logistic growth featured by its S-shaped curve. The curve grows exponentially shortly after the system is infected, and then saturates as the number of susceptible shrinks which makes it harder to find the next victims. "
   ]
  },
  {
   "cell_type": "code",
   "execution_count": 65,
   "metadata": {
    "ExecuteTime": {
     "end_time": "2020-08-10T10:50:32.136468Z",
     "start_time": "2020-08-10T10:50:31.110545Z"
    },
    "slideshow": {
     "slide_type": "subslide"
    }
   },
   "outputs": [
    {
     "data": {
      "text/latex": [
       "$\\displaystyle I{\\left(t \\right)} = \\frac{1}{C_{1} e^{- b t} + 1}$"
      ],
      "text/plain": [
       "Eq(I(t), 1/(C1*exp(-b*t) + 1))"
      ]
     },
     "execution_count": 65,
     "metadata": {},
     "output_type": "execute_result"
    }
   ],
   "source": [
    "from sympy import dsolve, Eq, symbols, Function\n",
    "\n",
    "t = symbols('t')\n",
    "b = symbols('b')\n",
    "I = symbols('I', cls=Function)\n",
    "deqn1 = Eq(I(t).diff(t), b*I(t)*(1 - I(t)))\n",
    "dsolve(deqn1, I(t))"
   ]
  },
  {
   "cell_type": "code",
   "execution_count": 41,
   "metadata": {
    "ExecuteTime": {
     "end_time": "2020-08-09T14:35:29.099944Z",
     "start_time": "2020-08-09T14:35:29.097293Z"
    },
    "slideshow": {
     "slide_type": "subslide"
    }
   },
   "outputs": [],
   "source": [
    "import scipy.integrate as spi\n",
    "import numpy as np\n",
    "import matplotlib.pyplot as plt\n"
   ]
  },
  {
   "cell_type": "code",
   "execution_count": 58,
   "metadata": {
    "ExecuteTime": {
     "end_time": "2020-08-10T03:50:31.223535Z",
     "start_time": "2020-08-10T03:50:31.204311Z"
    },
    "slideshow": {
     "slide_type": "subslide"
    }
   },
   "outputs": [],
   "source": [
    "# Integrate a system of ordinary differential equations.\n",
    "# Solves the initial value problem for stiff or non-stiff systems\n",
    "# of first order ode-s::\n",
    "# dy/dt = func(y, t, ...)  [or func(t, y, ...)]\n",
    "spi.odeint?\n"
   ]
  },
  {
   "cell_type": "code",
   "execution_count": 67,
   "metadata": {
    "ExecuteTime": {
     "end_time": "2020-08-10T11:01:56.094762Z",
     "start_time": "2020-08-10T11:01:56.091832Z"
    },
    "slideshow": {
     "slide_type": "subslide"
    }
   },
   "outputs": [],
   "source": [
    "# N为人群总数\n",
    "N = 10000\n",
    "# β为传染率系数\n",
    "beta = 0.25\n",
    "# I_0为感染者的初始人数\n",
    "I_0 = 1\n",
    "# S_0为易感者的初始人数\n",
    "S_0 = N - I_0\n",
    "# T为传播时间\n",
    "T = 150"
   ]
  },
  {
   "cell_type": "code",
   "execution_count": 68,
   "metadata": {
    "ExecuteTime": {
     "end_time": "2020-08-10T11:01:56.513937Z",
     "start_time": "2020-08-10T11:01:56.507553Z"
    },
    "slideshow": {
     "slide_type": "subslide"
    }
   },
   "outputs": [],
   "source": [
    "def funcSI(inivalue,_):\n",
    "    # inivalue = (S_0,I_0)\n",
    "    Y = np.zeros(2)\n",
    "    X = inivalue\n",
    "    # 易感个体变化\n",
    "    Y[0] = - (beta * X[0] * X[1]) / N \n",
    "    # 感染个体变化\n",
    "    Y[1] = (beta * X[0] * X[1]) / N \n",
    "    return Y\n",
    "\n",
    "# INI为初始状态下的数组\n",
    "INI = (S_0,I_0)\n",
    "T_range = np.arange(0,T + 1)\n",
    "RES = spi.odeint(funcSI,INI,T_range)\n"
   ]
  },
  {
   "cell_type": "code",
   "execution_count": 80,
   "metadata": {
    "ExecuteTime": {
     "end_time": "2020-08-10T11:09:14.275648Z",
     "start_time": "2020-08-10T11:09:14.271552Z"
    }
   },
   "outputs": [
    {
     "name": "stdout",
     "output_type": "stream",
     "text": [
      "Help on function odeint in module scipy.integrate.odepack:\n",
      "\n",
      "odeint(func, y0, t, args=(), Dfun=None, col_deriv=0, full_output=0, ml=None, mu=None, rtol=None, atol=None, tcrit=None, h0=0.0, hmax=0.0, hmin=0.0, ixpr=0, mxstep=0, mxhnil=0, mxordn=12, mxords=5, printmessg=0, tfirst=False)\n",
      "    Integrate a system of ordinary differential equations.\n",
      "    \n",
      "    .. note:: For new code, use `scipy.integrate.solve_ivp` to solve a\n",
      "              differential equation.\n",
      "    \n",
      "    Solve a system of ordinary differential equations using lsoda from the\n",
      "    FORTRAN library odepack.\n",
      "    \n",
      "    Solves the initial value problem for stiff or non-stiff systems\n",
      "    of first order ode-s::\n",
      "    \n",
      "        dy/dt = func(y, t, ...)  [or func(t, y, ...)]\n",
      "    \n",
      "    where y can be a vector.\n",
      "    \n",
      "    .. note:: By default, the required order of the first two arguments of\n",
      "              `func` are in the opposite order of the arguments in the system\n",
      "              definition function used by the `scipy.integrate.ode` class and\n",
      "              the function `scipy.integrate.solve_ivp`.  To use a function with\n",
      "              the signature ``func(t, y, ...)``, the argument `tfirst` must be\n",
      "              set to ``True``.\n",
      "    \n",
      "    Parameters\n",
      "    ----------\n",
      "    func : callable(y, t, ...) or callable(t, y, ...)\n",
      "        Computes the derivative of y at t.\n",
      "        If the signature is ``callable(t, y, ...)``, then the argument\n",
      "        `tfirst` must be set ``True``.\n",
      "    y0 : array\n",
      "        Initial condition on y (can be a vector).\n",
      "    t : array\n",
      "        A sequence of time points for which to solve for y.  The initial\n",
      "        value point should be the first element of this sequence.\n",
      "        This sequence must be monotonically increasing or monotonically\n",
      "        decreasing; repeated values are allowed.\n",
      "    args : tuple, optional\n",
      "        Extra arguments to pass to function.\n",
      "    Dfun : callable(y, t, ...) or callable(t, y, ...)\n",
      "        Gradient (Jacobian) of `func`.\n",
      "        If the signature is ``callable(t, y, ...)``, then the argument\n",
      "        `tfirst` must be set ``True``.\n",
      "    col_deriv : bool, optional\n",
      "        True if `Dfun` defines derivatives down columns (faster),\n",
      "        otherwise `Dfun` should define derivatives across rows.\n",
      "    full_output : bool, optional\n",
      "        True if to return a dictionary of optional outputs as the second output\n",
      "    printmessg : bool, optional\n",
      "        Whether to print the convergence message\n",
      "    tfirst: bool, optional\n",
      "        If True, the first two arguments of `func` (and `Dfun`, if given)\n",
      "        must ``t, y`` instead of the default ``y, t``.\n",
      "    \n",
      "        .. versionadded:: 1.1.0\n",
      "    \n",
      "    Returns\n",
      "    -------\n",
      "    y : array, shape (len(t), len(y0))\n",
      "        Array containing the value of y for each desired time in t,\n",
      "        with the initial value `y0` in the first row.\n",
      "    infodict : dict, only returned if full_output == True\n",
      "        Dictionary containing additional output information\n",
      "    \n",
      "        =======  ============================================================\n",
      "        key      meaning\n",
      "        =======  ============================================================\n",
      "        'hu'     vector of step sizes successfully used for each time step.\n",
      "        'tcur'   vector with the value of t reached for each time step.\n",
      "                 (will always be at least as large as the input times).\n",
      "        'tolsf'  vector of tolerance scale factors, greater than 1.0,\n",
      "                 computed when a request for too much accuracy was detected.\n",
      "        'tsw'    value of t at the time of the last method switch\n",
      "                 (given for each time step)\n",
      "        'nst'    cumulative number of time steps\n",
      "        'nfe'    cumulative number of function evaluations for each time step\n",
      "        'nje'    cumulative number of jacobian evaluations for each time step\n",
      "        'nqu'    a vector of method orders for each successful step.\n",
      "        'imxer'  index of the component of largest magnitude in the\n",
      "                 weighted local error vector (e / ewt) on an error return, -1\n",
      "                 otherwise.\n",
      "        'lenrw'  the length of the double work array required.\n",
      "        'leniw'  the length of integer work array required.\n",
      "        'mused'  a vector of method indicators for each successful time step:\n",
      "                 1: adams (nonstiff), 2: bdf (stiff)\n",
      "        =======  ============================================================\n",
      "    \n",
      "    Other Parameters\n",
      "    ----------------\n",
      "    ml, mu : int, optional\n",
      "        If either of these are not None or non-negative, then the\n",
      "        Jacobian is assumed to be banded.  These give the number of\n",
      "        lower and upper non-zero diagonals in this banded matrix.\n",
      "        For the banded case, `Dfun` should return a matrix whose\n",
      "        rows contain the non-zero bands (starting with the lowest diagonal).\n",
      "        Thus, the return matrix `jac` from `Dfun` should have shape\n",
      "        ``(ml + mu + 1, len(y0))`` when ``ml >=0`` or ``mu >=0``.\n",
      "        The data in `jac` must be stored such that ``jac[i - j + mu, j]``\n",
      "        holds the derivative of the `i`th equation with respect to the `j`th\n",
      "        state variable.  If `col_deriv` is True, the transpose of this\n",
      "        `jac` must be returned.\n",
      "    rtol, atol : float, optional\n",
      "        The input parameters `rtol` and `atol` determine the error\n",
      "        control performed by the solver.  The solver will control the\n",
      "        vector, e, of estimated local errors in y, according to an\n",
      "        inequality of the form ``max-norm of (e / ewt) <= 1``,\n",
      "        where ewt is a vector of positive error weights computed as\n",
      "        ``ewt = rtol * abs(y) + atol``.\n",
      "        rtol and atol can be either vectors the same length as y or scalars.\n",
      "        Defaults to 1.49012e-8.\n",
      "    tcrit : ndarray, optional\n",
      "        Vector of critical points (e.g. singularities) where integration\n",
      "        care should be taken.\n",
      "    h0 : float, (0: solver-determined), optional\n",
      "        The step size to be attempted on the first step.\n",
      "    hmax : float, (0: solver-determined), optional\n",
      "        The maximum absolute step size allowed.\n",
      "    hmin : float, (0: solver-determined), optional\n",
      "        The minimum absolute step size allowed.\n",
      "    ixpr : bool, optional\n",
      "        Whether to generate extra printing at method switches.\n",
      "    mxstep : int, (0: solver-determined), optional\n",
      "        Maximum number of (internally defined) steps allowed for each\n",
      "        integration point in t.\n",
      "    mxhnil : int, (0: solver-determined), optional\n",
      "        Maximum number of messages printed.\n",
      "    mxordn : int, (0: solver-determined), optional\n",
      "        Maximum order to be allowed for the non-stiff (Adams) method.\n",
      "    mxords : int, (0: solver-determined), optional\n",
      "        Maximum order to be allowed for the stiff (BDF) method.\n",
      "    \n",
      "    See Also\n",
      "    --------\n",
      "    solve_ivp : Solve an initial value problem for a system of ODEs.\n",
      "    ode : a more object-oriented integrator based on VODE.\n",
      "    quad : for finding the area under a curve.\n",
      "    \n",
      "    Examples\n",
      "    --------\n",
      "    The second order differential equation for the angle `theta` of a\n",
      "    pendulum acted on by gravity with friction can be written::\n",
      "    \n",
      "        theta''(t) + b*theta'(t) + c*sin(theta(t)) = 0\n",
      "    \n",
      "    where `b` and `c` are positive constants, and a prime (') denotes a\n",
      "    derivative.  To solve this equation with `odeint`, we must first convert\n",
      "    it to a system of first order equations.  By defining the angular\n",
      "    velocity ``omega(t) = theta'(t)``, we obtain the system::\n",
      "    \n",
      "        theta'(t) = omega(t)\n",
      "        omega'(t) = -b*omega(t) - c*sin(theta(t))\n",
      "    \n",
      "    Let `y` be the vector [`theta`, `omega`].  We implement this system\n",
      "    in python as:\n",
      "    \n",
      "    >>> def pend(y, t, b, c):\n",
      "    ...     theta, omega = y\n",
      "    ...     dydt = [omega, -b*omega - c*np.sin(theta)]\n",
      "    ...     return dydt\n",
      "    ...\n",
      "    \n",
      "    We assume the constants are `b` = 0.25 and `c` = 5.0:\n",
      "    \n",
      "    >>> b = 0.25\n",
      "    >>> c = 5.0\n",
      "    \n",
      "    For initial conditions, we assume the pendulum is nearly vertical\n",
      "    with `theta(0)` = `pi` - 0.1, and is initially at rest, so\n",
      "    `omega(0)` = 0.  Then the vector of initial conditions is\n",
      "    \n",
      "    >>> y0 = [np.pi - 0.1, 0.0]\n",
      "    \n",
      "    We will generate a solution at 101 evenly spaced samples in the interval\n",
      "    0 <= `t` <= 10.  So our array of times is:\n",
      "    \n",
      "    >>> t = np.linspace(0, 10, 101)\n",
      "    \n",
      "    Call `odeint` to generate the solution.  To pass the parameters\n",
      "    `b` and `c` to `pend`, we give them to `odeint` using the `args`\n",
      "    argument.\n",
      "    \n",
      "    >>> from scipy.integrate import odeint\n",
      "    >>> sol = odeint(pend, y0, t, args=(b, c))\n",
      "    \n",
      "    The solution is an array with shape (101, 2).  The first column\n",
      "    is `theta(t)`, and the second is `omega(t)`.  The following code\n",
      "    plots both components.\n",
      "    \n",
      "    >>> import matplotlib.pyplot as plt\n",
      "    >>> plt.plot(t, sol[:, 0], 'b', label='theta(t)')\n",
      "    >>> plt.plot(t, sol[:, 1], 'g', label='omega(t)')\n",
      "    >>> plt.legend(loc='best')\n",
      "    >>> plt.xlabel('t')\n",
      "    >>> plt.grid()\n",
      "    >>> plt.show()\n",
      "\n"
     ]
    }
   ],
   "source": [
    "help(spi.odeint)"
   ]
  },
  {
   "cell_type": "code",
   "execution_count": 69,
   "metadata": {
    "ExecuteTime": {
     "end_time": "2020-08-10T11:02:02.712054Z",
     "start_time": "2020-08-10T11:02:02.708740Z"
    }
   },
   "outputs": [
    {
     "data": {
      "text/plain": [
       "(9999, 1)"
      ]
     },
     "execution_count": 69,
     "metadata": {},
     "output_type": "execute_result"
    }
   ],
   "source": [
    "INI"
   ]
  },
  {
   "cell_type": "code",
   "execution_count": 71,
   "metadata": {
    "ExecuteTime": {
     "end_time": "2020-08-10T11:02:42.217844Z",
     "start_time": "2020-08-10T11:02:42.213849Z"
    }
   },
   "outputs": [
    {
     "data": {
      "text/plain": [
       "array([[9.99900000e+03, 1.00000000e+00],\n",
       "       [9.99871601e+03, 1.28398894e+00],\n",
       "       [9.99835139e+03, 1.64861432e+00]])"
      ]
     },
     "execution_count": 71,
     "metadata": {},
     "output_type": "execute_result"
    }
   ],
   "source": [
    "RES[:3]"
   ]
  },
  {
   "cell_type": "code",
   "execution_count": 61,
   "metadata": {
    "ExecuteTime": {
     "end_time": "2020-08-10T03:51:58.500176Z",
     "start_time": "2020-08-10T03:51:58.332253Z"
    },
    "slideshow": {
     "slide_type": "subslide"
    }
   },
   "outputs": [
    {
     "data": {
      "image/png": "[encoded data removed]",
      "text/plain": [
       "<Figure size 432x288 with 1 Axes>"
      ]
     },
     "metadata": {
      "needs_background": "light"
     },
     "output_type": "display_data"
    }
   ],
   "source": [
    "plt.plot(RES[:,0],color = 'darkblue',label = 'Susceptible',marker = '.')\n",
    "plt.plot(RES[:,1],color = 'red',label = 'Infection',marker = '.')\n",
    "plt.title('SI Model')\n",
    "plt.legend()\n",
    "plt.xlabel('Day')\n",
    "plt.ylabel('Number')\n",
    "plt.show()"
   ]
  },
  {
   "cell_type": "markdown",
   "metadata": {
    "slideshow": {
     "slide_type": "slide"
    }
   },
   "source": [
    "## The SIS Model\n",
    "\n",
    "Another extension of the SI model is the one that allows for reinfection. \n",
    "\n",
    "$$\\frac{dS}{dt} =\\gamma I -\\beta S I$$\n",
    "\n",
    "$$\\frac{dI}{dt} = \\beta S I - \\gamma I$$\n"
   ]
  },
  {
   "cell_type": "markdown",
   "metadata": {
    "slideshow": {
     "slide_type": "subslide"
    }
   },
   "source": [
    "Given S + I = 1, the differential equations have the solution:\n",
    "\n",
    "$$I_t = (1- \\frac{\\gamma}{\\beta})\\frac{C e^{(\\beta-\\gamma)t}}{1+C e^{(\\beta-\\gamma)t}})$$\n",
    "\n",
    "The constant $C = \\frac{\\beta x_0}{\\beta - \\gamma - \\beta x_0}$"
   ]
  },
  {
   "cell_type": "code",
   "execution_count": 28,
   "metadata": {
    "ExecuteTime": {
     "end_time": "2020-08-09T14:16:04.499760Z",
     "start_time": "2020-08-09T14:16:04.496209Z"
    },
    "slideshow": {
     "slide_type": "subslide"
    }
   },
   "outputs": [],
   "source": [
    "# N为人群总数\n",
    "N = 10000\n",
    "# β为传染率系数\n",
    "beta = 0.25\n",
    "# gamma为恢复率系数\n",
    "gamma = 0.05\n",
    "# I_0为感染者的初始人数\n",
    "I_0 = 1\n",
    "# S_0为易感者的初始人数\n",
    "S_0 = N - I_0\n",
    "# T为传播时间\n",
    "T = 150\n",
    "\n",
    "# INI为初始状态下的数组\n",
    "INI = (S_0,I_0)"
   ]
  },
  {
   "cell_type": "code",
   "execution_count": 29,
   "metadata": {
    "ExecuteTime": {
     "end_time": "2020-08-09T14:16:15.107356Z",
     "start_time": "2020-08-09T14:16:15.101237Z"
    },
    "slideshow": {
     "slide_type": "subslide"
    }
   },
   "outputs": [],
   "source": [
    "def funcSIS(inivalue,_):\n",
    "    Y = np.zeros(2)\n",
    "    X = inivalue\n",
    "    # 易感个体变化\n",
    "    Y[0] = - (beta * X[0]) / N * X[1] + gamma * X[1]\n",
    "    # 感染个体变化\n",
    "    Y[1] = (beta * X[0] * X[1]) / N - gamma * X[1]\n",
    "    return Y\n",
    "\n",
    "T_range = np.arange(0,T + 1)\n",
    "RES = spi.odeint(funcSIS,INI,T_range)"
   ]
  },
  {
   "cell_type": "code",
   "execution_count": 30,
   "metadata": {
    "ExecuteTime": {
     "end_time": "2020-08-09T14:16:19.031230Z",
     "start_time": "2020-08-09T14:16:18.885711Z"
    },
    "slideshow": {
     "slide_type": "subslide"
    }
   },
   "outputs": [
    {
     "data": {
      "image/png": "[encoded data removed]",
      "text/plain": [
       "<Figure size 432x288 with 1 Axes>"
      ]
     },
     "metadata": {
      "needs_background": "light"
     },
     "output_type": "display_data"
    }
   ],
   "source": [
    "plt.plot(RES[:,0],color = 'darkblue',label = 'Susceptible',marker = '.')\n",
    "plt.plot(RES[:,1],color = 'red',label = 'Infection',marker = '.')\n",
    "plt.title('SIS Model')\n",
    "plt.legend()\n",
    "plt.xlabel('Day')\n",
    "plt.ylabel('Number')\n",
    "plt.show()"
   ]
  },
  {
   "cell_type": "markdown",
   "metadata": {
    "slideshow": {
     "slide_type": "slide"
    }
   },
   "source": [
    "## The SIR Model \n",
    "\n",
    "For many diseases, there is usually a status of recovery denoted by $R$. Let $\\gamma$ denote the removal or recovery rate.\n",
    "\n",
    "![image.png](img/si3.png)\n",
    "\n",
    "\n"
   ]
  },
  {
   "cell_type": "markdown",
   "metadata": {
    "slideshow": {
     "slide_type": "subslide"
    }
   },
   "source": [
    "$$\\frac{dS}{dt} = -\\beta S I$$\n",
    "\n",
    "$$\\frac{dI}{dt} = \\beta S I - \\gamma I$$\n",
    "\n",
    "$$\\frac{dR}{dt} =  \\gamma I$$\n",
    "\n",
    "However, the differential equations above could not be analytically solved."
   ]
  },
  {
   "cell_type": "code",
   "execution_count": 31,
   "metadata": {
    "ExecuteTime": {
     "end_time": "2020-08-09T14:19:30.553939Z",
     "start_time": "2020-08-09T14:19:30.550630Z"
    },
    "slideshow": {
     "slide_type": "subslide"
    }
   },
   "outputs": [],
   "source": [
    "# N为人群总数\n",
    "N = 10000\n",
    "# β为传染率系数\n",
    "beta = 0.25\n",
    "# gamma为恢复率系数\n",
    "gamma = 0.05\n",
    "# I_0为感染者的初始人数\n",
    "I_0 = 1\n",
    "# R_0为治愈者的初始人数\n",
    "R_0 = 0\n",
    "# S_0为易感者的初始人数\n",
    "S_0 = N - I_0 - R_0\n",
    "# T为传播时间\n",
    "T = 150\n",
    "\n",
    "# INI为初始状态下的数组\n",
    "INI = (S_0,I_0,R_0)"
   ]
  },
  {
   "cell_type": "code",
   "execution_count": 32,
   "metadata": {
    "ExecuteTime": {
     "end_time": "2020-08-09T14:20:08.030424Z",
     "start_time": "2020-08-09T14:20:08.023773Z"
    },
    "slideshow": {
     "slide_type": "subslide"
    }
   },
   "outputs": [],
   "source": [
    "def funcSIR(inivalue,_):\n",
    "    Y = np.zeros(3)\n",
    "    X = inivalue\n",
    "    # 易感个体变化\n",
    "    Y[0] = - (beta * X[0] * X[1]) / N\n",
    "    # 感染个体变化\n",
    "    Y[1] = (beta * X[0] * X[1]) / N - gamma * X[1]\n",
    "    # 治愈个体变化\n",
    "    Y[2] = gamma * X[1]\n",
    "    return Y\n",
    "\n",
    "T_range = np.arange(0,T + 1)\n",
    "RES = spi.odeint(funcSIR,INI,T_range)"
   ]
  },
  {
   "cell_type": "code",
   "execution_count": 33,
   "metadata": {
    "ExecuteTime": {
     "end_time": "2020-08-09T14:20:09.287480Z",
     "start_time": "2020-08-09T14:20:09.071396Z"
    },
    "slideshow": {
     "slide_type": "subslide"
    }
   },
   "outputs": [
    {
     "data": {
      "image/png": "[encoded data removed]",
      "text/plain": [
       "<Figure size 432x288 with 1 Axes>"
      ]
     },
     "metadata": {
      "needs_background": "light"
     },
     "output_type": "display_data"
    }
   ],
   "source": [
    "plt.plot(RES[:,0],color = 'darkblue',label = 'Susceptible',marker = '.')\n",
    "plt.plot(RES[:,1],color = 'red',label = 'Infection',marker = '.')\n",
    "plt.plot(RES[:,2],color = 'green',label = 'Recovery',marker = '.')\n",
    "plt.title('SIR Model')\n",
    "plt.legend()\n",
    "plt.xlabel('Day')\n",
    "plt.ylabel('Number')\n",
    "plt.show()"
   ]
  },
  {
   "cell_type": "markdown",
   "metadata": {
    "slideshow": {
     "slide_type": "slide"
    }
   },
   "source": [
    "## The SEIR Model\n",
    "\n",
    "![image.png](img/si4.png)"
   ]
  },
  {
   "cell_type": "code",
   "execution_count": 34,
   "metadata": {
    "ExecuteTime": {
     "end_time": "2020-08-09T14:22:27.630910Z",
     "start_time": "2020-08-09T14:22:27.627428Z"
    },
    "slideshow": {
     "slide_type": "subslide"
    }
   },
   "outputs": [],
   "source": [
    "# N为人群总数\n",
    "N = 10000\n",
    "# β为传染率系数\n",
    "beta = 0.6\n",
    "# gamma为恢复率系数\n",
    "gamma = 0.1\n",
    "# Te为疾病潜伏期\n",
    "Te = 14\n",
    "# I_0为感染者的初始人数\n",
    "I_0 = 1\n",
    "# E_0为潜伏者的初始人数\n",
    "E_0 = 0\n",
    "# R_0为治愈者的初始人数\n",
    "R_0 = 0\n",
    "# S_0为易感者的初始人数\n",
    "S_0 = N - I_0 - E_0 - R_0\n",
    "# T为传播时间\n",
    "T = 150"
   ]
  },
  {
   "cell_type": "code",
   "execution_count": 35,
   "metadata": {
    "ExecuteTime": {
     "end_time": "2020-08-09T14:24:35.358335Z",
     "start_time": "2020-08-09T14:24:35.350771Z"
    },
    "slideshow": {
     "slide_type": "subslide"
    }
   },
   "outputs": [],
   "source": [
    "# INI为初始状态下的数组\n",
    "INI = (S_0,E_0,I_0,R_0)\n",
    "def funcSEIR(inivalue,_):\n",
    "    Y = np.zeros(4)\n",
    "    X = inivalue\n",
    "    # 易感个体变化\n",
    "    Y[0] = - (beta * X[0] * X[2]) / N\n",
    "    # 潜伏个体变化\n",
    "    Y[1] = (beta * X[0] * X[2]) / N - X[1] / Te\n",
    "    # 感染个体变化\n",
    "    Y[2] = X[1] / Te - gamma * X[2]\n",
    "    # 治愈个体变化\n",
    "    Y[3] = gamma * X[2]\n",
    "    return Y\n",
    "\n",
    "T_range = np.arange(0,T + 1)\n",
    "RES = spi.odeint(funcSEIR,INI,T_range)"
   ]
  },
  {
   "cell_type": "code",
   "execution_count": 36,
   "metadata": {
    "ExecuteTime": {
     "end_time": "2020-08-09T14:24:49.180925Z",
     "start_time": "2020-08-09T14:24:49.013897Z"
    },
    "slideshow": {
     "slide_type": "subslide"
    }
   },
   "outputs": [
    {
     "data": {
      "image/png": "[encoded data removed]",
      "text/plain": [
       "<Figure size 432x288 with 1 Axes>"
      ]
     },
     "metadata": {
      "needs_background": "light"
     },
     "output_type": "display_data"
    }
   ],
   "source": [
    "plt.plot(RES[:,0],color = 'darkblue',label = 'Susceptible',marker = '.')\n",
    "plt.plot(RES[:,1],color = 'orange',label = 'Exposed',marker = '.')\n",
    "plt.plot(RES[:,2],color = 'red',label = 'Infection',marker = '.')\n",
    "plt.plot(RES[:,3],color = 'green',label = 'Recovery',marker = '.')\n",
    "\n",
    "plt.title('SEIR Model')\n",
    "plt.legend()\n",
    "plt.xlabel('Day')\n",
    "plt.ylabel('Number')\n",
    "plt.show()"
   ]
  },
  {
   "cell_type": "markdown",
   "metadata": {
    "slideshow": {
     "slide_type": "subslide"
    }
   },
   "source": [
    "## The SEIRS Model\n",
    "\n",
    "![image.png](img/si5.png)\n"
   ]
  },
  {
   "cell_type": "code",
   "execution_count": 37,
   "metadata": {
    "ExecuteTime": {
     "end_time": "2020-08-09T14:31:48.957681Z",
     "start_time": "2020-08-09T14:31:48.953611Z"
    },
    "slideshow": {
     "slide_type": "subslide"
    }
   },
   "outputs": [],
   "source": [
    "# N为人群总数\n",
    "N = 10000\n",
    "# β为传染率系数\n",
    "beta = 0.6\n",
    "# gamma为恢复率系数\n",
    "gamma = 0.1\n",
    "# Ts为抗体持续时间\n",
    "Ts = 7\n",
    "# Te为疾病潜伏期\n",
    "Te = 14\n",
    "# I_0为感染者的初始人数\n",
    "I_0 = 1\n",
    "# E_0为潜伏者的初始人数\n",
    "E_0 = 0\n",
    "# R_0为治愈者的初始人数\n",
    "R_0 = 0\n",
    "# S_0为易感者的初始人数\n",
    "S_0 = N - I_0 - E_0 - R_0\n",
    "# T为传播时间\n",
    "T = 150"
   ]
  },
  {
   "cell_type": "code",
   "execution_count": 38,
   "metadata": {
    "ExecuteTime": {
     "end_time": "2020-08-09T14:31:58.488415Z",
     "start_time": "2020-08-09T14:31:58.480604Z"
    },
    "slideshow": {
     "slide_type": "subslide"
    }
   },
   "outputs": [],
   "source": [
    "# INI为初始状态下的数组\n",
    "INI = (S_0,E_0,I_0,R_0)\n",
    "\n",
    "\n",
    "def funcSEIRS(inivalue,_):\n",
    "    Y = np.zeros(4)\n",
    "    X = inivalue\n",
    "    # 易感个体变化\n",
    "    Y[0] = - (beta * X[0] * X[2]) / N + X[3] / Ts\n",
    "    # 潜伏个体变化\n",
    "    Y[1] = (beta * X[0] * X[2]) / N - X[1] / Te\n",
    "    # 感染个体变化\n",
    "    Y[2] = X[1] / Te - gamma * X[2]\n",
    "    # 治愈个体变化\n",
    "    Y[3] = gamma * X[2] - X[3] / Ts\n",
    "    return Y\n",
    "\n",
    "T_range = np.arange(0,T + 1)\n",
    "\n",
    "RES = spi.odeint(funcSEIRS,INI,T_range)"
   ]
  },
  {
   "cell_type": "code",
   "execution_count": 39,
   "metadata": {
    "ExecuteTime": {
     "end_time": "2020-08-09T14:32:07.766740Z",
     "start_time": "2020-08-09T14:32:07.600407Z"
    },
    "slideshow": {
     "slide_type": "subslide"
    }
   },
   "outputs": [
    {
     "data": {
      "image/png": "[encoded data removed]",
      "text/plain": [
       "<Figure size 432x288 with 1 Axes>"
      ]
     },
     "metadata": {
      "needs_background": "light"
     },
     "output_type": "display_data"
    }
   ],
   "source": [
    "plt.plot(RES[:,0],color = 'darkblue',label = 'Susceptible',marker = '.')\n",
    "plt.plot(RES[:,1],color = 'orange',label = 'Exposed',marker = '.')\n",
    "plt.plot(RES[:,2],color = 'red',label = 'Infection',marker = '.')\n",
    "plt.plot(RES[:,3],color = 'green',label = 'Recovery',marker = '.')\n",
    "\n",
    "plt.title('SEIRS Model')\n",
    "plt.legend()\n",
    "plt.xlabel('Day')\n",
    "plt.ylabel('Number')\n",
    "plt.show()"
   ]
  },
  {
   "cell_type": "code",
   "execution_count": 57,
   "metadata": {
    "ExecuteTime": {
     "end_time": "2020-08-09T16:23:31.758533Z",
     "start_time": "2020-08-09T16:23:30.852257Z"
    },
    "slideshow": {
     "slide_type": "skip"
    }
   },
   "outputs": [
    {
     "data": {
      "image/png": "[encoded data removed]",
      "text/plain": [
       "<Figure size 576x576 with 4 Axes>"
      ]
     },
     "metadata": {
      "needs_background": "light"
     },
     "output_type": "display_data"
    }
   ],
   "source": [
    "# https://zhuanlan.zhihu.com/p/115869172\n",
    "import scipy.integrate as spi\n",
    "import numpy as np\n",
    "import matplotlib.pyplot as plt\n",
    "\n",
    "# N为人群总数\n",
    "N =11000000\n",
    "# β为传染率系数\n",
    "beta = 0.01\n",
    "# gamma为恢复率系数\n",
    "gamma = 0.1\n",
    "#δ为受到治疗系数\n",
    "δ = 0.3\n",
    "# Te为疾病潜伏期\n",
    "Te = 5\n",
    "# I_0为感染未住院的初始人数\n",
    "I_0 = 4058\n",
    "# E_0为潜伏者的初始人数\n",
    "E_0 = 3178\n",
    "# R_0为治愈者的初始人数\n",
    "R_0 = 91750\n",
    "#T_0为治疗中的初始人数\n",
    "T_0 = 53941\n",
    "# S_0为易感者的初始人数\n",
    "S_0 = N - I_0 - E_0 - R_0 - T_0\n",
    "# T为传播时间\n",
    "T = 100\n",
    "\n",
    "# INI为初始状态下的数组\n",
    "INI = (S_0,E_0,I_0,R_0,T_0)\n",
    "\n",
    "def funcSEIR(inivalue,_):\n",
    "    Y = np.zeros(5)\n",
    "    X = inivalue\n",
    "    # 易感个体变化\n",
    "    Y[0] = - (beta * X[0] *( X[2]+X[1])) / N\n",
    "    # 潜伏个体变化\n",
    "    Y[1] = (beta * X[0] *( X[2]+X[1])) / N - X[1] / Te\n",
    "    # 感染未住院\n",
    "    Y[2] = X[1] / Te - δ * X[2]\n",
    "    # 治愈个体变化\n",
    "    Y[3] = gamma * X[4]\n",
    "    #治疗中个体变化\n",
    "    Y[4] = δ* X[2] - gamma* X[4]\n",
    "    return Y\n",
    "\n",
    "T_range = np.arange(0,T + 1)\n",
    "\n",
    "RES = spi.odeint(funcSEIR,INI,T_range)\n",
    "\n",
    "\n",
    "plt.figure(figsize = [8, 8])\n",
    "\n",
    "plt.subplot(221)\n",
    "plt.plot(RES[:,0],color = 'darkblue',label = 'Susceptible',marker = '.')\n",
    "plt.yscale('log')\n",
    "plt.xscale('log')\n",
    "plt.legend()\n",
    "plt.title('“SEITR” Model')\n",
    "\n",
    "plt.subplot(222)\n",
    "plt.plot(RES[:,1],color = 'orange',label = 'Exposed',marker = '.')\n",
    "plt.legend()\n",
    "plt.subplot(223)\n",
    "plt.plot(RES[:,2],color = 'red',label = 'Infection',marker = '.')\n",
    "plt.legend()\n",
    "plt.subplot(224)\n",
    "plt.plot(RES[:,3],color = 'green',label = 'Recovery',marker = '.')\n",
    "plt.plot(RES[:,4],color = 'purple',label = 'Under Treatment',marker = '.')\n",
    "plt.legend()\n",
    "\n",
    "\n",
    "plt.xlabel('Day')\n",
    "plt.ylabel('Number')\n",
    "plt.tight_layout()"
   ]
  },
  {
   "cell_type": "markdown",
   "metadata": {
    "slideshow": {
     "slide_type": "slide"
    }
   },
   "source": [
    "## Install"
   ]
  },
  {
   "cell_type": "code",
   "execution_count": 5,
   "metadata": {
    "ExecuteTime": {
     "end_time": "2020-08-02T06:08:23.554793Z",
     "start_time": "2020-08-02T06:08:21.633737Z"
    },
    "scrolled": true,
    "slideshow": {
     "slide_type": "subslide"
    }
   },
   "outputs": [
    {
     "name": "stdout",
     "output_type": "stream",
     "text": [
      "Requirement already satisfied: ndlib in /opt/anaconda3/lib/python3.7/site-packages (5.0.2)\n",
      "Requirement already satisfied: python-igraph in /opt/anaconda3/lib/python3.7/site-packages (from ndlib) (0.8.2)\n",
      "Requirement already satisfied: bokeh in /opt/anaconda3/lib/python3.7/site-packages (from ndlib) (1.4.0)\n",
      "Requirement already satisfied: netdispatch in /opt/anaconda3/lib/python3.7/site-packages (from ndlib) (0.0.5)\n",
      "Requirement already satisfied: numpy in /opt/anaconda3/lib/python3.7/site-packages (from ndlib) (1.18.1)\n",
      "Requirement already satisfied: dynetx in /opt/anaconda3/lib/python3.7/site-packages (from ndlib) (0.2.3)\n",
      "Requirement already satisfied: scipy in /opt/anaconda3/lib/python3.7/site-packages (from ndlib) (1.4.1)\n",
      "Requirement already satisfied: networkx in /opt/anaconda3/lib/python3.7/site-packages (from ndlib) (2.4)\n",
      "Requirement already satisfied: future in /opt/anaconda3/lib/python3.7/site-packages (from ndlib) (0.18.2)\n",
      "Requirement already satisfied: texttable>=1.6.2 in /opt/anaconda3/lib/python3.7/site-packages (from python-igraph->ndlib) (1.6.2)\n",
      "Requirement already satisfied: Jinja2>=2.7 in /opt/anaconda3/lib/python3.7/site-packages (from bokeh->ndlib) (2.11.1)\n",
      "Requirement already satisfied: python-dateutil>=2.1 in /opt/anaconda3/lib/python3.7/site-packages (from bokeh->ndlib) (2.8.1)\n",
      "Requirement already satisfied: tornado>=4.3 in /opt/anaconda3/lib/python3.7/site-packages (from bokeh->ndlib) (6.0.3)\n",
      "Requirement already satisfied: pillow>=4.0 in /opt/anaconda3/lib/python3.7/site-packages (from bokeh->ndlib) (7.0.0)\n",
      "Requirement already satisfied: packaging>=16.8 in /opt/anaconda3/lib/python3.7/site-packages (from bokeh->ndlib) (20.1)\n",
      "Requirement already satisfied: six>=1.5.2 in /opt/anaconda3/lib/python3.7/site-packages (from bokeh->ndlib) (1.14.0)\n",
      "Requirement already satisfied: PyYAML>=3.10 in /opt/anaconda3/lib/python3.7/site-packages (from bokeh->ndlib) (5.3)\n",
      "Requirement already satisfied: decorator>=4.3.0 in /opt/anaconda3/lib/python3.7/site-packages (from networkx->ndlib) (4.4.1)\n",
      "Requirement already satisfied: MarkupSafe>=0.23 in /opt/anaconda3/lib/python3.7/site-packages (from Jinja2>=2.7->bokeh->ndlib) (1.1.1)\n",
      "Requirement already satisfied: pyparsing>=2.0.2 in /opt/anaconda3/lib/python3.7/site-packages (from packaging>=16.8->bokeh->ndlib) (2.4.6)\n",
      "Note: you may need to restart the kernel to use updated packages.\n"
     ]
    }
   ],
   "source": [
    "pip install ndlib"
   ]
  },
  {
   "cell_type": "markdown",
   "metadata": {
    "slideshow": {
     "slide_type": "subslide"
    }
   },
   "source": [
    "## Tutorial\n",
    "https://ndlib.readthedocs.io/en/latest/tutorial.html"
   ]
  },
  {
   "cell_type": "code",
   "execution_count": 1,
   "metadata": {
    "ExecuteTime": {
     "end_time": "2020-08-09T13:46:43.874822Z",
     "start_time": "2020-08-09T13:46:41.520212Z"
    },
    "slideshow": {
     "slide_type": "subslide"
    }
   },
   "outputs": [],
   "source": [
    "import networkx as nx\n",
    "import ndlib.models.epidemics as ep\n",
    "import ndlib.models.ModelConfig as mc\n",
    "from bokeh.io import output_notebook, show\n",
    "from ndlib.viz.bokeh.DiffusionTrend import DiffusionTrend\n",
    "from ndlib.viz.bokeh.DiffusionPrevalence import DiffusionPrevalence\n",
    "from ndlib.viz.bokeh.MultiPlot import MultiPlot"
   ]
  },
  {
   "cell_type": "markdown",
   "metadata": {
    "slideshow": {
     "slide_type": "subslide"
    }
   },
   "source": [
    "<span><img src=img/si6.png   width = '400px' align='middle'/></span>\n"
   ]
  },
  {
   "cell_type": "code",
   "execution_count": 2,
   "metadata": {
    "ExecuteTime": {
     "end_time": "2020-08-02T06:26:41.325317Z",
     "start_time": "2020-08-02T06:26:41.193007Z"
    },
    "slideshow": {
     "slide_type": "subslide"
    }
   },
   "outputs": [],
   "source": [
    "# Network Definition\n",
    "g = nx.erdos_renyi_graph(1000, 0.1)\n",
    "\n",
    "# Model Selection\n",
    "model = ep.SIRModel(g)"
   ]
  },
  {
   "cell_type": "code",
   "execution_count": 3,
   "metadata": {
    "ExecuteTime": {
     "end_time": "2020-08-02T06:26:41.828440Z",
     "start_time": "2020-08-02T06:26:41.823839Z"
    },
    "slideshow": {
     "slide_type": "subslide"
    }
   },
   "outputs": [],
   "source": [
    "# Model Configuration\n",
    "config = mc.Configuration()\n",
    "config.add_model_parameter('beta', 0.001)\n",
    "config.add_model_parameter('gamma', 0.01)\n",
    "config.add_model_parameter(\"fraction_infected\", 0.05)\n",
    "model.set_initial_status(config)"
   ]
  },
  {
   "cell_type": "code",
   "execution_count": 4,
   "metadata": {
    "ExecuteTime": {
     "end_time": "2020-08-02T06:26:43.626868Z",
     "start_time": "2020-08-02T06:26:42.529407Z"
    },
    "slideshow": {
     "slide_type": "subslide"
    }
   },
   "outputs": [
    {
     "name": "stderr",
     "output_type": "stream",
     "text": [
      "100%|██████████| 200/200 [00:01<00:00, 183.84it/s]\n"
     ]
    }
   ],
   "source": [
    "# Simulation\n",
    "iterations = model.iteration_bunch(200)\n",
    "trends = model.build_trends(iterations)"
   ]
  },
  {
   "cell_type": "code",
   "execution_count": 6,
   "metadata": {
    "ExecuteTime": {
     "end_time": "2020-08-02T06:28:14.860343Z",
     "start_time": "2020-08-02T06:28:14.785328Z"
    },
    "slideshow": {
     "slide_type": "subslide"
    }
   },
   "outputs": [
    {
     "data": {
      "text/html": [
       "\n",
       "    <div class=\"bk-root\">\n",
       "        <a href=\"https://bokeh.org\" target=\"_blank\" class=\"bk-logo bk-logo-small bk-logo-notebook\"></a>\n",
       "        <span id=\"1238\">Loading BokehJS ...</span>\n",
       "    </div>"
      ]
     },
     "metadata": {},
     "output_type": "display_data"
    },
    {
     "data": {
      "application/javascript": [
       "\n",
       "(function(root) {\n",
       "  function now() {\n",
       "    return new Date();\n",
       "  }\n",
       "\n",
       "  var force = true;\n",
       "\n",
       "  if (typeof root._bokeh_onload_callbacks === \"undefined\" || force === true) {\n",
       "    root._bokeh_onload_callbacks = [];\n",
       "    root._bokeh_is_loading = undefined;\n",
       "  }\n",
       "\n",
       "  var JS_MIME_TYPE = 'application/javascript';\n",
       "  var HTML_MIME_TYPE = 'text/html';\n",
       "  var EXEC_MIME_TYPE = 'application/vnd.bokehjs_exec.v0+json';\n",
       "  var CLASS_NAME = 'output_bokeh rendered_html';\n",
       "\n",
       "  /**\n",
       "   * Render data to the DOM node\n",
       "   */\n",
       "  function render(props, node) {\n",
       "    var script = document.createElement(\"script\");\n",
       "    node.appendChild(script);\n",
       "  }\n",
       "\n",
       "  /**\n",
       "   * Handle when an output is cleared or removed\n",
       "   */\n",
       "  function handleClearOutput(event, handle) {\n",
       "    var cell = handle.cell;\n",
       "\n",
       "    var id = cell.output_area._bokeh_element_id;\n",
       "    var server_id = cell.output_area._bokeh_server_id;\n",
       "    // Clean up Bokeh references\n",
       "    if (id != null && id in Bokeh.index) {\n",
       "      Bokeh.index[id].model.document.clear();\n",
       "      delete Bokeh.index[id];\n",
       "    }\n",
       "\n",
       "    if (server_id !== undefined) {\n",
       "      // Clean up Bokeh references\n",
       "      var cmd = \"from bokeh.io.state import curstate; print(curstate().uuid_to_server['\" + server_id + \"'].get_sessions()[0].document.roots[0]._id)\";\n",
       "      cell.notebook.kernel.execute(cmd, {\n",
       "        iopub: {\n",
       "          output: function(msg) {\n",
       "            var id = msg.content.text.trim();\n",
       "            if (id in Bokeh.index) {\n",
       "              Bokeh.index[id].model.document.clear();\n",
       "              delete Bokeh.index[id];\n",
       "            }\n",
       "          }\n",
       "        }\n",
       "      });\n",
       "      // Destroy server and session\n",
       "      var cmd = \"import bokeh.io.notebook as ion; ion.destroy_server('\" + server_id + \"')\";\n",
       "      cell.notebook.kernel.execute(cmd);\n",
       "    }\n",
       "  }\n",
       "\n",
       "  /**\n",
       "   * Handle when a new output is added\n",
       "   */\n",
       "  function handleAddOutput(event, handle) {\n",
       "    var output_area = handle.output_area;\n",
       "    var output = handle.output;\n",
       "\n",
       "    // limit handleAddOutput to display_data with EXEC_MIME_TYPE content only\n",
       "    if ((output.output_type != \"display_data\") || (!output.data.hasOwnProperty(EXEC_MIME_TYPE))) {\n",
       "      return\n",
       "    }\n",
       "\n",
       "    var toinsert = output_area.element.find(\".\" + CLASS_NAME.split(' ')[0]);\n",
       "\n",
       "    if (output.metadata[EXEC_MIME_TYPE][\"id\"] !== undefined) {\n",
       "      toinsert[toinsert.length - 1].firstChild.textContent = output.data[JS_MIME_TYPE];\n",
       "      // store reference to embed id on output_area\n",
       "      output_area._bokeh_element_id = output.metadata[EXEC_MIME_TYPE][\"id\"];\n",
       "    }\n",
       "    if (output.metadata[EXEC_MIME_TYPE][\"server_id\"] !== undefined) {\n",
       "      var bk_div = document.createElement(\"div\");\n",
       "      bk_div.innerHTML = output.data[HTML_MIME_TYPE];\n",
       "      var script_attrs = bk_div.children[0].attributes;\n",
       "      for (var i = 0; i < script_attrs.length; i++) {\n",
       "        toinsert[toinsert.length - 1].firstChild.setAttribute(script_attrs[i].name, script_attrs[i].value);\n",
       "      }\n",
       "      // store reference to server id on output_area\n",
       "      output_area._bokeh_server_id = output.metadata[EXEC_MIME_TYPE][\"server_id\"];\n",
       "    }\n",
       "  }\n",
       "\n",
       "  function register_renderer(events, OutputArea) {\n",
       "\n",
       "    function append_mime(data, metadata, element) {\n",
       "      // create a DOM node to render to\n",
       "      var toinsert = this.create_output_subarea(\n",
       "        metadata,\n",
       "        CLASS_NAME,\n",
       "        EXEC_MIME_TYPE\n",
       "      );\n",
       "      this.keyboard_manager.register_events(toinsert);\n",
       "      // Render to node\n",
       "      var props = {data: data, metadata: metadata[EXEC_MIME_TYPE]};\n",
       "      render(props, toinsert[toinsert.length - 1]);\n",
       "      element.append(toinsert);\n",
       "      return toinsert\n",
       "    }\n",
       "\n",
       "    /* Handle when an output is cleared or removed */\n",
       "    events.on('clear_output.CodeCell', handleClearOutput);\n",
       "    events.on('delete.Cell', handleClearOutput);\n",
       "\n",
       "    /* Handle when a new output is added */\n",
       "    events.on('output_added.OutputArea', handleAddOutput);\n",
       "\n",
       "    /**\n",
       "     * Register the mime type and append_mime function with output_area\n",
       "     */\n",
       "    OutputArea.prototype.register_mime_type(EXEC_MIME_TYPE, append_mime, {\n",
       "      /* Is output safe? */\n",
       "      safe: true,\n",
       "      /* Index of renderer in `output_area.display_order` */\n",
       "      index: 0\n",
       "    });\n",
       "  }\n",
       "\n",
       "  // register the mime type if in Jupyter Notebook environment and previously unregistered\n",
       "  if (root.Jupyter !== undefined) {\n",
       "    var events = require('base/js/events');\n",
       "    var OutputArea = require('notebook/js/outputarea').OutputArea;\n",
       "\n",
       "    if (OutputArea.prototype.mime_types().indexOf(EXEC_MIME_TYPE) == -1) {\n",
       "      register_renderer(events, OutputArea);\n",
       "    }\n",
       "  }\n",
       "\n",
       "  \n",
       "  if (typeof (root._bokeh_timeout) === \"undefined\" || force === true) {\n",
       "    root._bokeh_timeout = Date.now() + 5000;\n",
       "    root._bokeh_failed_load = false;\n",
       "  }\n",
       "\n",
       "  var NB_LOAD_WARNING = {'data': {'text/html':\n",
       "     \"<div style='background-color: #fdd'>\\n\"+\n",
       "     \"<p>\\n\"+\n",
       "     \"BokehJS does not appear to have successfully loaded. If loading BokehJS from CDN, this \\n\"+\n",
       "     \"may be due to a slow or bad network connection. Possible fixes:\\n\"+\n",
       "     \"</p>\\n\"+\n",
       "     \"<ul>\\n\"+\n",
       "     \"<li>re-rerun `output_notebook()` to attempt to load from CDN again, or</li>\\n\"+\n",
       "     \"<li>use INLINE resources instead, as so:</li>\\n\"+\n",
       "     \"</ul>\\n\"+\n",
       "     \"<code>\\n\"+\n",
       "     \"from bokeh.resources import INLINE\\n\"+\n",
       "     \"output_notebook(resources=INLINE)\\n\"+\n",
       "     \"</code>\\n\"+\n",
       "     \"</div>\"}};\n",
       "\n",
       "  function display_loaded() {\n",
       "    var el = document.getElementById(\"1238\");\n",
       "    if (el != null) {\n",
       "      el.textContent = \"BokehJS is loading...\";\n",
       "    }\n",
       "    if (root.Bokeh !== undefined) {\n",
       "      if (el != null) {\n",
       "        el.textContent = \"BokehJS \" + root.Bokeh.version + \" successfully loaded.\";\n",
       "      }\n",
       "    } else if (Date.now() < root._bokeh_timeout) {\n",
       "      setTimeout(display_loaded, 100)\n",
       "    }\n",
       "  }\n",
       "\n",
       "\n",
       "  function run_callbacks() {\n",
       "    try {\n",
       "      root._bokeh_onload_callbacks.forEach(function(callback) {\n",
       "        if (callback != null)\n",
       "          callback();\n",
       "      });\n",
       "    } finally {\n",
       "      delete root._bokeh_onload_callbacks\n",
       "    }\n",
       "    console.debug(\"Bokeh: all callbacks have finished\");\n",
       "  }\n",
       "\n",
       "  function load_libs(css_urls, js_urls, callback) {\n",
       "    if (css_urls == null) css_urls = [];\n",
       "    if (js_urls == null) js_urls = [];\n",
       "\n",
       "    root._bokeh_onload_callbacks.push(callback);\n",
       "    if (root._bokeh_is_loading > 0) {\n",
       "      console.debug(\"Bokeh: BokehJS is being loaded, scheduling callback at\", now());\n",
       "      return null;\n",
       "    }\n",
       "    if (js_urls == null || js_urls.length === 0) {\n",
       "      run_callbacks();\n",
       "      return null;\n",
       "    }\n",
       "    console.debug(\"Bokeh: BokehJS not loaded, scheduling load and callback at\", now());\n",
       "    root._bokeh_is_loading = css_urls.length + js_urls.length;\n",
       "\n",
       "    function on_load() {\n",
       "      root._bokeh_is_loading--;\n",
       "      if (root._bokeh_is_loading === 0) {\n",
       "        console.debug(\"Bokeh: all BokehJS libraries/stylesheets loaded\");\n",
       "        run_callbacks()\n",
       "      }\n",
       "    }\n",
       "\n",
       "    function on_error() {\n",
       "      console.error(\"failed to load \" + url);\n",
       "    }\n",
       "\n",
       "    for (var i = 0; i < css_urls.length; i++) {\n",
       "      var url = css_urls[i];\n",
       "      const element = document.createElement(\"link\");\n",
       "      element.onload = on_load;\n",
       "      element.onerror = on_error;\n",
       "      element.rel = \"stylesheet\";\n",
       "      element.type = \"text/css\";\n",
       "      element.href = url;\n",
       "      console.debug(\"Bokeh: injecting link tag for BokehJS stylesheet: \", url);\n",
       "      document.body.appendChild(element);\n",
       "    }\n",
       "\n",
       "    for (var i = 0; i < js_urls.length; i++) {\n",
       "      var url = js_urls[i];\n",
       "      var element = document.createElement('script');\n",
       "      element.onload = on_load;\n",
       "      element.onerror = on_error;\n",
       "      element.async = false;\n",
       "      element.src = url;\n",
       "      console.debug(\"Bokeh: injecting script tag for BokehJS library: \", url);\n",
       "      document.head.appendChild(element);\n",
       "    }\n",
       "  };var element = document.getElementById(\"1238\");\n",
       "  if (element == null) {\n",
       "    console.error(\"Bokeh: ERROR: autoload.js configured with elementid '1238' but no matching script tag was found. \")\n",
       "    return false;\n",
       "  }\n",
       "\n",
       "  function inject_raw_css(css) {\n",
       "    const element = document.createElement(\"style\");\n",
       "    element.appendChild(document.createTextNode(css));\n",
       "    document.body.appendChild(element);\n",
       "  }\n",
       "\n",
       "  \n",
       "  var js_urls = [\"https://cdn.pydata.org/bokeh/release/bokeh-1.4.0.min.js\", \"https://cdn.pydata.org/bokeh/release/bokeh-widgets-1.4.0.min.js\", \"https://cdn.pydata.org/bokeh/release/bokeh-tables-1.4.0.min.js\", \"https://cdn.pydata.org/bokeh/release/bokeh-gl-1.4.0.min.js\"];\n",
       "  var css_urls = [];\n",
       "  \n",
       "\n",
       "  var inline_js = [\n",
       "    function(Bokeh) {\n",
       "      Bokeh.set_log_level(\"info\");\n",
       "    },\n",
       "    function(Bokeh) {\n",
       "    \n",
       "    \n",
       "    }\n",
       "  ];\n",
       "\n",
       "  function run_inline_js() {\n",
       "    \n",
       "    if (root.Bokeh !== undefined || force === true) {\n",
       "      \n",
       "    for (var i = 0; i < inline_js.length; i++) {\n",
       "      inline_js[i].call(root, root.Bokeh);\n",
       "    }\n",
       "    if (force === true) {\n",
       "        display_loaded();\n",
       "      }} else if (Date.now() < root._bokeh_timeout) {\n",
       "      setTimeout(run_inline_js, 100);\n",
       "    } else if (!root._bokeh_failed_load) {\n",
       "      console.log(\"Bokeh: BokehJS failed to load within specified timeout.\");\n",
       "      root._bokeh_failed_load = true;\n",
       "    } else if (force !== true) {\n",
       "      var cell = $(document.getElementById(\"1238\")).parents('.cell').data().cell;\n",
       "      cell.output_area.append_execute_result(NB_LOAD_WARNING)\n",
       "    }\n",
       "\n",
       "  }\n",
       "\n",
       "  if (root._bokeh_is_loading === 0) {\n",
       "    console.debug(\"Bokeh: BokehJS loaded, going straight to plotting\");\n",
       "    run_inline_js();\n",
       "  } else {\n",
       "    load_libs(css_urls, js_urls, function() {\n",
       "      console.debug(\"Bokeh: BokehJS plotting callback run at\", now());\n",
       "      run_inline_js();\n",
       "    });\n",
       "  }\n",
       "}(window));"
      ],
      "application/vnd.bokehjs_load.v0+json": "\n(function(root) {\n  function now() {\n    return new Date();\n  }\n\n  var force = true;\n\n  if (typeof root._bokeh_onload_callbacks === \"undefined\" || force === true) {\n    root._bokeh_onload_callbacks = [];\n    root._bokeh_is_loading = undefined;\n  }\n\n  \n\n  \n  if (typeof (root._bokeh_timeout) === \"undefined\" || force === true) {\n    root._bokeh_timeout = Date.now() + 5000;\n    root._bokeh_failed_load = false;\n  }\n\n  var NB_LOAD_WARNING = {'data': {'text/html':\n     \"<div style='background-color: #fdd'>\\n\"+\n     \"<p>\\n\"+\n     \"BokehJS does not appear to have successfully loaded. If loading BokehJS from CDN, this \\n\"+\n     \"may be due to a slow or bad network connection. Possible fixes:\\n\"+\n     \"</p>\\n\"+\n     \"<ul>\\n\"+\n     \"<li>re-rerun `output_notebook()` to attempt to load from CDN again, or</li>\\n\"+\n     \"<li>use INLINE resources instead, as so:</li>\\n\"+\n     \"</ul>\\n\"+\n     \"<code>\\n\"+\n     \"from bokeh.resources import INLINE\\n\"+\n     \"output_notebook(resources=INLINE)\\n\"+\n     \"</code>\\n\"+\n     \"</div>\"}};\n\n  function display_loaded() {\n    var el = document.getElementById(\"1238\");\n    if (el != null) {\n      el.textContent = \"BokehJS is loading...\";\n    }\n    if (root.Bokeh !== undefined) {\n      if (el != null) {\n        el.textContent = \"BokehJS \" + root.Bokeh.version + \" successfully loaded.\";\n      }\n    } else if (Date.now() < root._bokeh_timeout) {\n      setTimeout(display_loaded, 100)\n    }\n  }\n\n\n  function run_callbacks() {\n    try {\n      root._bokeh_onload_callbacks.forEach(function(callback) {\n        if (callback != null)\n          callback();\n      });\n    } finally {\n      delete root._bokeh_onload_callbacks\n    }\n    console.debug(\"Bokeh: all callbacks have finished\");\n  }\n\n  function load_libs(css_urls, js_urls, callback) {\n    if (css_urls == null) css_urls = [];\n    if (js_urls == null) js_urls = [];\n\n    root._bokeh_onload_callbacks.push(callback);\n    if (root._bokeh_is_loading > 0) {\n      console.debug(\"Bokeh: BokehJS is being loaded, scheduling callback at\", now());\n      return null;\n    }\n    if (js_urls == null || js_urls.length === 0) {\n      run_callbacks();\n      return null;\n    }\n    console.debug(\"Bokeh: BokehJS not loaded, scheduling load and callback at\", now());\n    root._bokeh_is_loading = css_urls.length + js_urls.length;\n\n    function on_load() {\n      root._bokeh_is_loading--;\n      if (root._bokeh_is_loading === 0) {\n        console.debug(\"Bokeh: all BokehJS libraries/stylesheets loaded\");\n        run_callbacks()\n      }\n    }\n\n    function on_error() {\n      console.error(\"failed to load \" + url);\n    }\n\n    for (var i = 0; i < css_urls.length; i++) {\n      var url = css_urls[i];\n      const element = document.createElement(\"link\");\n      element.onload = on_load;\n      element.onerror = on_error;\n      element.rel = \"stylesheet\";\n      element.type = \"text/css\";\n      element.href = url;\n      console.debug(\"Bokeh: injecting link tag for BokehJS stylesheet: \", url);\n      document.body.appendChild(element);\n    }\n\n    for (var i = 0; i < js_urls.length; i++) {\n      var url = js_urls[i];\n      var element = document.createElement('script');\n      element.onload = on_load;\n      element.onerror = on_error;\n      element.async = false;\n      element.src = url;\n      console.debug(\"Bokeh: injecting script tag for BokehJS library: \", url);\n      document.head.appendChild(element);\n    }\n  };var element = document.getElementById(\"1238\");\n  if (element == null) {\n    console.error(\"Bokeh: ERROR: autoload.js configured with elementid '1238' but no matching script tag was found. \")\n    return false;\n  }\n\n  function inject_raw_css(css) {\n    const element = document.createElement(\"style\");\n    element.appendChild(document.createTextNode(css));\n    document.body.appendChild(element);\n  }\n\n  \n  var js_urls = [\"https://cdn.pydata.org/bokeh/release/bokeh-1.4.0.min.js\", \"https://cdn.pydata.org/bokeh/release/bokeh-widgets-1.4.0.min.js\", \"https://cdn.pydata.org/bokeh/release/bokeh-tables-1.4.0.min.js\", \"https://cdn.pydata.org/bokeh/release/bokeh-gl-1.4.0.min.js\"];\n  var css_urls = [];\n  \n\n  var inline_js = [\n    function(Bokeh) {\n      Bokeh.set_log_level(\"info\");\n    },\n    function(Bokeh) {\n    \n    \n    }\n  ];\n\n  function run_inline_js() {\n    \n    if (root.Bokeh !== undefined || force === true) {\n      \n    for (var i = 0; i < inline_js.length; i++) {\n      inline_js[i].call(root, root.Bokeh);\n    }\n    if (force === true) {\n        display_loaded();\n      }} else if (Date.now() < root._bokeh_timeout) {\n      setTimeout(run_inline_js, 100);\n    } else if (!root._bokeh_failed_load) {\n      console.log(\"Bokeh: BokehJS failed to load within specified timeout.\");\n      root._bokeh_failed_load = true;\n    } else if (force !== true) {\n      var cell = $(document.getElementById(\"1238\")).parents('.cell').data().cell;\n      cell.output_area.append_execute_result(NB_LOAD_WARNING)\n    }\n\n  }\n\n  if (root._bokeh_is_loading === 0) {\n    console.debug(\"Bokeh: BokehJS loaded, going straight to plotting\");\n    run_inline_js();\n  } else {\n    load_libs(css_urls, js_urls, function() {\n      console.debug(\"Bokeh: BokehJS plotting callback run at\", now());\n      run_inline_js();\n    });\n  }\n}(window));"
     },
     "metadata": {},
     "output_type": "display_data"
    },
    {
     "name": "stderr",
     "output_type": "stream",
     "text": [
      "BokehDeprecationWarning: 'legend' keyword is deprecated, use explicit 'legend_label', 'legend_field', or 'legend_group' keywords instead\n",
      "BokehDeprecationWarning: 'legend' keyword is deprecated, use explicit 'legend_label', 'legend_field', or 'legend_group' keywords instead\n",
      "BokehDeprecationWarning: 'legend' keyword is deprecated, use explicit 'legend_label', 'legend_field', or 'legend_group' keywords instead\n"
     ]
    },
    {
     "data": {
      "text/html": [
       "\n",
       "\n",
       "\n",
       "\n",
       "\n",
       "\n",
       "  <div class=\"bk-root\" id=\"d6149ac4-a504-48e8-8ade-1ea33558fcae\" data-root-id=\"1239\"></div>\n"
      ]
     },
     "metadata": {},
     "output_type": "display_data"
    },
    {
     "data": {
      "application/javascript": [
       "(function(root) {\n",
       "  function embed_document(root) {\n",
       "    \n",
       "  var docs_json = {\"727eaad6-6f39-46a6-a367-58febb95a457\":{\"roots\":{\"references\":[{\"attributes\":{\"below\":[{\"id\":\"1248\",\"type\":\"LinearAxis\"},{\"id\":\"1318\",\"type\":\"Title\"}],\"center\":[{\"id\":\"1252\",\"type\":\"Grid\"},{\"id\":\"1257\",\"type\":\"Grid\"},{\"id\":\"1283\",\"type\":\"Legend\"}],\"left\":[{\"id\":\"1253\",\"type\":\"LinearAxis\"}],\"plot_height\":400,\"plot_width\":400,\"renderers\":[{\"id\":\"1274\",\"type\":\"GlyphRenderer\"},{\"id\":\"1288\",\"type\":\"GlyphRenderer\"},{\"id\":\"1303\",\"type\":\"GlyphRenderer\"}],\"title\":{\"id\":\"1277\",\"type\":\"Title\"},\"toolbar\":{\"id\":\"1264\",\"type\":\"Toolbar\"},\"x_range\":{\"id\":\"1240\",\"type\":\"DataRange1d\"},\"x_scale\":{\"id\":\"1244\",\"type\":\"LinearScale\"},\"y_range\":{\"id\":\"1242\",\"type\":\"DataRange1d\"},\"y_scale\":{\"id\":\"1246\",\"type\":\"LinearScale\"}},\"id\":\"1239\",\"subtype\":\"Figure\",\"type\":\"Plot\"},{\"attributes\":{\"line_alpha\":0.5,\"line_color\":\"#1f77b4\",\"line_width\":2,\"x\":{\"field\":\"x\"},\"y\":{\"field\":\"y\"}},\"id\":\"1272\",\"type\":\"Line\"},{\"attributes\":{\"axis_label\":\"#Nodes\",\"formatter\":{\"id\":\"1280\",\"type\":\"BasicTickFormatter\"},\"ticker\":{\"id\":\"1254\",\"type\":\"BasicTicker\"}},\"id\":\"1253\",\"type\":\"LinearAxis\"},{\"attributes\":{\"line_alpha\":0.1,\"line_color\":\"#1f77b4\",\"line_width\":2,\"x\":{\"field\":\"x\"},\"y\":{\"field\":\"y\"}},\"id\":\"1273\",\"type\":\"Line\"},{\"attributes\":{},\"id\":\"1331\",\"type\":\"UnionRenderers\"},{\"attributes\":{\"align\":\"center\",\"text\":\"beta: 0.001, gamma: 0.01, fraction infected: 0.05, tp rate: 1\"},\"id\":\"1318\",\"type\":\"Title\"},{\"attributes\":{\"source\":{\"id\":\"1271\",\"type\":\"ColumnDataSource\"}},\"id\":\"1275\",\"type\":\"CDSView\"},{\"attributes\":{\"dimension\":1,\"grid_line_alpha\":0.5,\"ticker\":{\"id\":\"1254\",\"type\":\"BasicTicker\"}},\"id\":\"1257\",\"type\":\"Grid\"},{\"attributes\":{},\"id\":\"1278\",\"type\":\"BasicTickFormatter\"},{\"attributes\":{},\"id\":\"1249\",\"type\":\"BasicTicker\"},{\"attributes\":{\"bottom_units\":\"screen\",\"fill_alpha\":{\"value\":0.5},\"fill_color\":{\"value\":\"lightgrey\"},\"left_units\":\"screen\",\"level\":\"overlay\",\"line_alpha\":{\"value\":1.0},\"line_color\":{\"value\":\"black\"},\"line_dash\":[4,4],\"line_width\":{\"value\":2},\"render_mode\":\"css\",\"right_units\":\"screen\",\"top_units\":\"screen\"},\"id\":\"1282\",\"type\":\"BoxAnnotation\"},{\"attributes\":{\"label\":{\"value\":\"Infected\"},\"renderers\":[{\"id\":\"1288\",\"type\":\"GlyphRenderer\"}]},\"id\":\"1299\",\"type\":\"LegendItem\"},{\"attributes\":{},\"id\":\"1254\",\"type\":\"BasicTicker\"},{\"attributes\":{},\"id\":\"1280\",\"type\":\"BasicTickFormatter\"},{\"attributes\":{\"callback\":null,\"data\":{\"x\":[0,1,2,3,4,5,6,7,8,9,10,11,12,13,14,15,16,17,18,19,20,21,22,23,24,25,26,27,28,29,30,31,32,33,34,35,36,37,38,39,40,41,42,43,44,45,46,47,48,49,50,51,52,53,54,55,56,57,58,59,60,61,62,63,64,65,66,67,68,69,70,71,72,73,74,75,76,77,78,79,80,81,82,83,84,85,86,87,88,89,90,91,92,93,94,95,96,97,98,99,100,101,102,103,104,105,106,107,108,109,110,111,112,113,114,115,116,117,118,119,120,121,122,123,124,125,126,127,128,129,130,131,132,133,134,135,136,137,138,139,140,141,142,143,144,145,146,147,148,149,150,151,152,153,154,155,156,157,158,159,160,161,162,163,164,165,166,167,168,169,170,171,172,173,174,175,176,177,178,179,180,181,182,183,184,185,186,187,188,189,190,191,192,193,194,195,196,197,198,199],\"y\":{\"__ndarray__\":\"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\",\"dtype\":\"float64\",\"shape\":[200]}},\"selected\":{\"id\":\"1330\",\"type\":\"Selection\"},\"selection_policy\":{\"id\":\"1331\",\"type\":\"UnionRenderers\"}},\"id\":\"1300\",\"type\":\"ColumnDataSource\"},{\"attributes\":{},\"id\":\"1330\",\"type\":\"Selection\"},{\"attributes\":{},\"id\":\"1244\",\"type\":\"LinearScale\"},{\"attributes\":{\"callback\":null},\"id\":\"1240\",\"type\":\"DataRange1d\"},{\"attributes\":{\"label\":{\"value\":\"Susceptible\"},\"renderers\":[{\"id\":\"1274\",\"type\":\"GlyphRenderer\"}]},\"id\":\"1284\",\"type\":\"LegendItem\"},{\"attributes\":{\"callback\":null,\"data\":{\"x\":[0,1,2,3,4,5,6,7,8,9,10,11,12,13,14,15,16,17,18,19,20,21,22,23,24,25,26,27,28,29,30,31,32,33,34,35,36,37,38,39,40,41,42,43,44,45,46,47,48,49,50,51,52,53,54,55,56,57,58,59,60,61,62,63,64,65,66,67,68,69,70,71,72,73,74,75,76,77,78,79,80,81,82,83,84,85,86,87,88,89,90,91,92,93,94,95,96,97,98,99,100,101,102,103,104,105,106,107,108,109,110,111,112,113,114,115,116,117,118,119,120,121,122,123,124,125,126,127,128,129,130,131,132,133,134,135,136,137,138,139,140,141,142,143,144,145,146,147,148,149,150,151,152,153,154,155,156,157,158,159,160,161,162,163,164,165,166,167,168,169,170,171,172,173,174,175,176,177,178,179,180,181,182,183,184,185,186,187,188,189,190,191,192,193,194,195,196,197,198,199],\"y\":{\"__ndarray__\":\"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\",\"dtype\":\"float64\",\"shape\":[200]}},\"selected\":{\"id\":\"1297\",\"type\":\"Selection\"},\"selection_policy\":{\"id\":\"1298\",\"type\":\"UnionRenderers\"}},\"id\":\"1271\",\"type\":\"ColumnDataSource\"},{\"attributes\":{\"active_drag\":\"auto\",\"active_inspect\":\"auto\",\"active_multi\":null,\"active_scroll\":\"auto\",\"active_tap\":\"auto\",\"tools\":[{\"id\":\"1258\",\"type\":\"PanTool\"},{\"id\":\"1259\",\"type\":\"WheelZoomTool\"},{\"id\":\"1260\",\"type\":\"BoxZoomTool\"},{\"id\":\"1261\",\"type\":\"SaveTool\"},{\"id\":\"1262\",\"type\":\"ResetTool\"},{\"id\":\"1263\",\"type\":\"HelpTool\"}]},\"id\":\"1264\",\"type\":\"Toolbar\"},{\"attributes\":{},\"id\":\"1315\",\"type\":\"UnionRenderers\"},{\"attributes\":{\"data_source\":{\"id\":\"1271\",\"type\":\"ColumnDataSource\"},\"glyph\":{\"id\":\"1272\",\"type\":\"Line\"},\"hover_glyph\":null,\"muted_glyph\":null,\"nonselection_glyph\":{\"id\":\"1273\",\"type\":\"Line\"},\"selection_glyph\":null,\"view\":{\"id\":\"1275\",\"type\":\"CDSView\"}},\"id\":\"1274\",\"type\":\"GlyphRenderer\"},{\"attributes\":{\"callback\":null},\"id\":\"1242\",\"type\":\"DataRange1d\"},{\"attributes\":{\"label\":{\"value\":\"Removed\"},\"renderers\":[{\"id\":\"1303\",\"type\":\"GlyphRenderer\"}]},\"id\":\"1316\",\"type\":\"LegendItem\"},{\"attributes\":{},\"id\":\"1258\",\"type\":\"PanTool\"},{\"attributes\":{\"grid_line_alpha\":0.5,\"ticker\":{\"id\":\"1249\",\"type\":\"BasicTicker\"}},\"id\":\"1252\",\"type\":\"Grid\"},{\"attributes\":{\"line_alpha\":0.5,\"line_color\":\"#aec7e8\",\"line_width\":2,\"x\":{\"field\":\"x\"},\"y\":{\"field\":\"y\"}},\"id\":\"1286\",\"type\":\"Line\"},{\"attributes\":{},\"id\":\"1259\",\"type\":\"WheelZoomTool\"},{\"attributes\":{\"source\":{\"id\":\"1300\",\"type\":\"ColumnDataSource\"}},\"id\":\"1304\",\"type\":\"CDSView\"},{\"attributes\":{},\"id\":\"1314\",\"type\":\"Selection\"},{\"attributes\":{},\"id\":\"1246\",\"type\":\"LinearScale\"},{\"attributes\":{\"line_alpha\":0.1,\"line_color\":\"#1f77b4\",\"line_width\":2,\"x\":{\"field\":\"x\"},\"y\":{\"field\":\"y\"}},\"id\":\"1302\",\"type\":\"Line\"},{\"attributes\":{\"overlay\":{\"id\":\"1282\",\"type\":\"BoxAnnotation\"}},\"id\":\"1260\",\"type\":\"BoxZoomTool\"},{\"attributes\":{\"callback\":null,\"data\":{\"x\":[0,1,2,3,4,5,6,7,8,9,10,11,12,13,14,15,16,17,18,19,20,21,22,23,24,25,26,27,28,29,30,31,32,33,34,35,36,37,38,39,40,41,42,43,44,45,46,47,48,49,50,51,52,53,54,55,56,57,58,59,60,61,62,63,64,65,66,67,68,69,70,71,72,73,74,75,76,77,78,79,80,81,82,83,84,85,86,87,88,89,90,91,92,93,94,95,96,97,98,99,100,101,102,103,104,105,106,107,108,109,110,111,112,113,114,115,116,117,118,119,120,121,122,123,124,125,126,127,128,129,130,131,132,133,134,135,136,137,138,139,140,141,142,143,144,145,146,147,148,149,150,151,152,153,154,155,156,157,158,159,160,161,162,163,164,165,166,167,168,169,170,171,172,173,174,175,176,177,178,179,180,181,182,183,184,185,186,187,188,189,190,191,192,193,194,195,196,197,198,199],\"y\":{\"__ndarray__\":\"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\",\"dtype\":\"float64\",\"shape\":[200]}},\"selected\":{\"id\":\"1314\",\"type\":\"Selection\"},\"selection_policy\":{\"id\":\"1315\",\"type\":\"UnionRenderers\"}},\"id\":\"1285\",\"type\":\"ColumnDataSource\"},{\"attributes\":{\"data_source\":{\"id\":\"1300\",\"type\":\"ColumnDataSource\"},\"glyph\":{\"id\":\"1301\",\"type\":\"Line\"},\"hover_glyph\":null,\"muted_glyph\":null,\"nonselection_glyph\":{\"id\":\"1302\",\"type\":\"Line\"},\"selection_glyph\":null,\"view\":{\"id\":\"1304\",\"type\":\"CDSView\"}},\"id\":\"1303\",\"type\":\"GlyphRenderer\"},{\"attributes\":{},\"id\":\"1261\",\"type\":\"SaveTool\"},{\"attributes\":{\"line_alpha\":0.1,\"line_color\":\"#1f77b4\",\"line_width\":2,\"x\":{\"field\":\"x\"},\"y\":{\"field\":\"y\"}},\"id\":\"1287\",\"type\":\"Line\"},{\"attributes\":{\"axis_label\":\"Iterations\",\"formatter\":{\"id\":\"1278\",\"type\":\"BasicTickFormatter\"},\"ticker\":{\"id\":\"1249\",\"type\":\"BasicTicker\"}},\"id\":\"1248\",\"type\":\"LinearAxis\"},{\"attributes\":{},\"id\":\"1262\",\"type\":\"ResetTool\"},{\"attributes\":{\"line_alpha\":0.5,\"line_color\":\"#ff7f0e\",\"line_width\":2,\"x\":{\"field\":\"x\"},\"y\":{\"field\":\"y\"}},\"id\":\"1301\",\"type\":\"Line\"},{\"attributes\":{\"data_source\":{\"id\":\"1285\",\"type\":\"ColumnDataSource\"},\"glyph\":{\"id\":\"1286\",\"type\":\"Line\"},\"hover_glyph\":null,\"muted_glyph\":null,\"nonselection_glyph\":{\"id\":\"1287\",\"type\":\"Line\"},\"selection_glyph\":null,\"view\":{\"id\":\"1289\",\"type\":\"CDSView\"}},\"id\":\"1288\",\"type\":\"GlyphRenderer\"},{\"attributes\":{},\"id\":\"1263\",\"type\":\"HelpTool\"},{\"attributes\":{\"source\":{\"id\":\"1285\",\"type\":\"ColumnDataSource\"}},\"id\":\"1289\",\"type\":\"CDSView\"},{\"attributes\":{},\"id\":\"1297\",\"type\":\"Selection\"},{\"attributes\":{},\"id\":\"1298\",\"type\":\"UnionRenderers\"},{\"attributes\":{\"text\":\"SIR - Diffusion Trend\"},\"id\":\"1277\",\"type\":\"Title\"},{\"attributes\":{\"items\":[{\"id\":\"1284\",\"type\":\"LegendItem\"},{\"id\":\"1299\",\"type\":\"LegendItem\"},{\"id\":\"1316\",\"type\":\"LegendItem\"}],\"orientation\":\"horizontal\"},\"id\":\"1283\",\"type\":\"Legend\"}],\"root_ids\":[\"1239\"]},\"title\":\"Bokeh Application\",\"version\":\"1.4.0\"}};\n",
       "  var render_items = [{\"docid\":\"727eaad6-6f39-46a6-a367-58febb95a457\",\"roots\":{\"1239\":\"d6149ac4-a504-48e8-8ade-1ea33558fcae\"}}];\n",
       "  root.Bokeh.embed.embed_items_notebook(docs_json, render_items);\n",
       "\n",
       "  }\n",
       "  if (root.Bokeh !== undefined) {\n",
       "    embed_document(root);\n",
       "  } else {\n",
       "    var attempts = 0;\n",
       "    var timer = setInterval(function(root) {\n",
       "      if (root.Bokeh !== undefined) {\n",
       "        clearInterval(timer);\n",
       "        embed_document(root);\n",
       "      } else {\n",
       "        attempts++;\n",
       "        if (attempts > 100) {\n",
       "          clearInterval(timer);\n",
       "          console.log(\"Bokeh: ERROR: Unable to run BokehJS code because BokehJS library is missing\");\n",
       "        }\n",
       "      }\n",
       "    }, 10, root)\n",
       "  }\n",
       "})(window);"
      ],
      "application/vnd.bokehjs_exec.v0+json": ""
     },
     "metadata": {
      "application/vnd.bokehjs_exec.v0+json": {
       "id": "1239"
      }
     },
     "output_type": "display_data"
    }
   ],
   "source": [
    "output_notebook() # show bokeh in notebook\n",
    "viz = DiffusionTrend(model, trends)\n",
    "p = viz.plot(width=400, height=400)\n",
    "show(p)"
   ]
  },
  {
   "cell_type": "code",
   "execution_count": 7,
   "metadata": {
    "ExecuteTime": {
     "end_time": "2020-08-02T06:28:18.713916Z",
     "start_time": "2020-08-02T06:28:18.656586Z"
    },
    "slideshow": {
     "slide_type": "subslide"
    }
   },
   "outputs": [
    {
     "name": "stderr",
     "output_type": "stream",
     "text": [
      "BokehDeprecationWarning: 'legend' keyword is deprecated, use explicit 'legend_label', 'legend_field', or 'legend_group' keywords instead\n",
      "BokehDeprecationWarning: 'legend' keyword is deprecated, use explicit 'legend_label', 'legend_field', or 'legend_group' keywords instead\n",
      "BokehDeprecationWarning: 'legend' keyword is deprecated, use explicit 'legend_label', 'legend_field', or 'legend_group' keywords instead\n"
     ]
    },
    {
     "data": {
      "text/html": [
       "\n",
       "\n",
       "\n",
       "\n",
       "\n",
       "\n",
       "  <div class=\"bk-root\" id=\"119cd2c3-b67c-489f-b4fb-9b1b80b454c7\" data-root-id=\"1410\"></div>\n"
      ]
     },
     "metadata": {},
     "output_type": "display_data"
    },
    {
     "data": {
      "application/javascript": [
       "(function(root) {\n",
       "  function embed_document(root) {\n",
       "    \n",
       "  var docs_json = {\"9aaaf4b6-fab9-44ab-b4b7-0e3216a44785\":{\"roots\":{\"references\":[{\"attributes\":{\"below\":[{\"id\":\"1419\",\"type\":\"LinearAxis\"},{\"id\":\"1489\",\"type\":\"Title\"}],\"center\":[{\"id\":\"1423\",\"type\":\"Grid\"},{\"id\":\"1428\",\"type\":\"Grid\"},{\"id\":\"1454\",\"type\":\"Legend\"}],\"left\":[{\"id\":\"1424\",\"type\":\"LinearAxis\"}],\"plot_height\":400,\"plot_width\":400,\"renderers\":[{\"id\":\"1445\",\"type\":\"GlyphRenderer\"},{\"id\":\"1459\",\"type\":\"GlyphRenderer\"},{\"id\":\"1474\",\"type\":\"GlyphRenderer\"}],\"title\":{\"id\":\"1448\",\"type\":\"Title\"},\"toolbar\":{\"id\":\"1435\",\"type\":\"Toolbar\"},\"x_range\":{\"id\":\"1411\",\"type\":\"DataRange1d\"},\"x_scale\":{\"id\":\"1415\",\"type\":\"LinearScale\"},\"y_range\":{\"id\":\"1413\",\"type\":\"DataRange1d\"},\"y_scale\":{\"id\":\"1417\",\"type\":\"LinearScale\"}},\"id\":\"1410\",\"subtype\":\"Figure\",\"type\":\"Plot\"},{\"attributes\":{},\"id\":\"1430\",\"type\":\"WheelZoomTool\"},{\"attributes\":{\"callback\":null,\"data\":{\"x\":[0,1,2,3,4,5,6,7,8,9,10,11,12,13,14,15,16,17,18,19,20,21,22,23,24,25,26,27,28,29,30,31,32,33,34,35,36,37,38,39,40,41,42,43,44,45,46,47,48,49,50,51,52,53,54,55,56,57,58,59,60,61,62,63,64,65,66,67,68,69,70,71,72,73,74,75,76,77,78,79,80,81,82,83,84,85,86,87,88,89,90,91,92,93,94,95,96,97,98,99,100,101,102,103,104,105,106,107,108,109,110,111,112,113,114,115,116,117,118,119,120,121,122,123,124,125,126,127,128,129,130,131,132,133,134,135,136,137,138,139,140,141,142,143,144,145,146,147,148,149,150,151,152,153,154,155,156,157,158,159,160,161,162,163,164,165,166,167,168,169,170,171,172,173,174,175,176,177,178,179,180,181,182,183,184,185,186,187,188,189,190,191,192,193,194,195,196,197,198,199],\"y\":{\"__ndarray__\":\"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\",\"dtype\":\"float64\",\"shape\":[200]}},\"selected\":{\"id\":\"1514\",\"type\":\"Selection\"},\"selection_policy\":{\"id\":\"1515\",\"type\":\"UnionRenderers\"}},\"id\":\"1471\",\"type\":\"ColumnDataSource\"},{\"attributes\":{},\"id\":\"1420\",\"type\":\"BasicTicker\"},{\"attributes\":{\"callback\":null,\"data\":{\"x\":[0,1,2,3,4,5,6,7,8,9,10,11,12,13,14,15,16,17,18,19,20,21,22,23,24,25,26,27,28,29,30,31,32,33,34,35,36,37,38,39,40,41,42,43,44,45,46,47,48,49,50,51,52,53,54,55,56,57,58,59,60,61,62,63,64,65,66,67,68,69,70,71,72,73,74,75,76,77,78,79,80,81,82,83,84,85,86,87,88,89,90,91,92,93,94,95,96,97,98,99,100,101,102,103,104,105,106,107,108,109,110,111,112,113,114,115,116,117,118,119,120,121,122,123,124,125,126,127,128,129,130,131,132,133,134,135,136,137,138,139,140,141,142,143,144,145,146,147,148,149,150,151,152,153,154,155,156,157,158,159,160,161,162,163,164,165,166,167,168,169,170,171,172,173,174,175,176,177,178,179,180,181,182,183,184,185,186,187,188,189,190,191,192,193,194,195,196,197,198,199],\"y\":{\"__ndarray__\":\"AAAAAAAAAAAAAAAAAAAIQAAAAAAAABRAAAAAAAAA8D8AAAAAAADwPwAAAAAAABRAAAAAAAAAKEAAAAAAAAAUQAAAAAAAABhAAAAAAAAAIkAAAAAAAAAkQAAAAAAAACxAAAAAAAAAJkAAAAAAAAAiQAAAAAAAAChAAAAAAAAAKkAAAAAAAAAuQAAAAAAAACRAAAAAAAAAMEAAAAAAAAAcQAAAAAAAADVAAAAAAAAAMkAAAAAAAAA0QAAAAAAAADhAAAAAAAAALEAAAAAAAAA5QAAAAAAAADVAAAAAAAAANEAAAAAAAAA7QAAAAAAAACZAAAAAAAAAMkAAAAAAAAA0QAAAAAAAACxAAAAAAAAANEAAAAAAAAAuQAAAAAAAADVAAAAAAAAAKEAAAAAAAAAoQAAAAAAAACJAAAAAAAAANEAAAAAAAAAiQAAAAAAAADJAAAAAAAAAKEAAAAAAAAAmQAAAAAAAAC5AAAAAAAAAJEAAAAAAAAAUQAAAAAAAABhAAAAAAAAAHEAAAAAAAADwPwAAAAAAACZAAAAAAAAAFEAAAAAAAADwPwAAAAAAAAhAAAAAAAAA8D8AAAAAAADwvwAAAAAAAAAAAAAAAAAAAEAAAAAAAAAAwAAAAAAAAABAAAAAAAAAGMAAAAAAAAAIwAAAAAAAAAjAAAAAAAAAAEAAAAAAAAAAwAAAAAAAAPC/AAAAAAAAIMAAAAAAAADwvwAAAAAAAAjAAAAAAAAACEAAAAAAAADwvwAAAAAAAADAAAAAAAAAHMAAAAAAAAAAwAAAAAAAABjAAAAAAAAAEMAAAAAAAAAQwAAAAAAAABTAAAAAAAAA8D8AAAAAAAAgwAAAAAAAABTAAAAAAAAACMAAAAAAAAAcwAAAAAAAAADAAAAAAAAAAMAAAAAAAAAQwAAAAAAAABDAAAAAAAAACMAAAAAAAAAkwAAAAAAAAPC/AAAAAAAAHMAAAAAAAAAQwAAAAAAAABTAAAAAAAAAIsAAAAAAAAAYwAAAAAAAABDAAAAAAAAAIMAAAAAAAAAcwAAAAAAAACDAAAAAAAAAEMAAAAAAAAAQwAAAAAAAAAjAAAAAAAAAGMAAAAAAAAAiwAAAAAAAABTAAAAAAAAAFMAAAAAAAAAAwAAAAAAAABjAAAAAAAAAEMAAAAAAAAAcwAAAAAAAAADAAAAAAAAAIsAAAAAAAAAQwAAAAAAAABzAAAAAAAAAIMAAAAAAAAAQwAAAAAAAAADAAAAAAAAAAMAAAAAAAAAYwAAAAAAAACDAAAAAAAAAFMAAAAAAAAAQwAAAAAAAABzAAAAAAAAAHMAAAAAAAAAIwAAAAAAAAAjAAAAAAAAAEMAAAAAAAADwvwAAAAAAAADAAAAAAAAAFMAAAAAAAAAgwAAAAAAAAAjAAAAAAAAAFMAAAAAAAAAAwAAAAAAAABDAAAAAAAAACMAAAAAAAAAIwAAAAAAAABzAAAAAAAAAAMAAAAAAAAAQwAAAAAAAAPC/AAAAAAAAGMAAAAAAAAAUwAAAAAAAAAjAAAAAAAAAAAAAAAAAAAAQwAAAAAAAAADAAAAAAAAACMAAAAAAAADwvwAAAAAAABDAAAAAAAAACMAAAAAAAAAIwAAAAAAAABDAAAAAAAAAEMAAAAAAAADwvwAAAAAAABDAAAAAAAAAEMAAAAAAAAAAAAAAAAAAAAjAAAAAAAAACMAAAAAAAAAQwAAAAAAAAAjAAAAAAAAAAMAAAAAAAAAYwAAAAAAAAPC/AAAAAAAAAMAAAAAAAAAAwAAAAAAAAADAAAAAAAAACMAAAAAAAAAIwAAAAAAAAAjAAAAAAAAAAMAAAAAAAAAIwAAAAAAAABTAAAAAAAAAEMAAAAAAAAAAwAAAAAAAAADAAAAAAAAACMAAAAAAAAAAwAAAAAAAABDAAAAAAAAAEMAAAAAAAAAIwAAAAAAAABDAAAAAAAAAAAAAAAAAAAAIwAAAAAAAAAAAAAAAAAAAAAAAAAAAAAAAAAAAAAAAABDAAAAAAAAACMAAAAAAAAAAwAAAAAAAAAjAAAAAAAAACMAAAAAAAADwvwAAAAAAAPC/AAAAAAAA8L8AAAAAAADwvwAAAAAAAPC/AAAAAAAACMAAAAAAAAAIwA==\",\"dtype\":\"float64\",\"shape\":[200]}},\"selected\":{\"id\":\"1485\",\"type\":\"Selection\"},\"selection_policy\":{\"id\":\"1486\",\"type\":\"UnionRenderers\"}},\"id\":\"1456\",\"type\":\"ColumnDataSource\"},{\"attributes\":{\"source\":{\"id\":\"1456\",\"type\":\"ColumnDataSource\"}},\"id\":\"1460\",\"type\":\"CDSView\"},{\"attributes\":{\"overlay\":{\"id\":\"1453\",\"type\":\"BoxAnnotation\"}},\"id\":\"1431\",\"type\":\"BoxZoomTool\"},{\"attributes\":{},\"id\":\"1468\",\"type\":\"Selection\"},{\"attributes\":{\"line_alpha\":0.1,\"line_color\":\"#1f77b4\",\"line_width\":2,\"x\":{\"field\":\"x\"},\"y\":{\"field\":\"y\"}},\"id\":\"1458\",\"type\":\"Line\"},{\"attributes\":{},\"id\":\"1432\",\"type\":\"SaveTool\"},{\"attributes\":{\"line_alpha\":0.1,\"line_color\":\"#1f77b4\",\"line_width\":2,\"x\":{\"field\":\"x\"},\"y\":{\"field\":\"y\"}},\"id\":\"1473\",\"type\":\"Line\"},{\"attributes\":{},\"id\":\"1433\",\"type\":\"ResetTool\"},{\"attributes\":{\"data_source\":{\"id\":\"1471\",\"type\":\"ColumnDataSource\"},\"glyph\":{\"id\":\"1472\",\"type\":\"Line\"},\"hover_glyph\":null,\"muted_glyph\":null,\"nonselection_glyph\":{\"id\":\"1473\",\"type\":\"Line\"},\"selection_glyph\":null,\"view\":{\"id\":\"1475\",\"type\":\"CDSView\"}},\"id\":\"1474\",\"type\":\"GlyphRenderer\"},{\"attributes\":{},\"id\":\"1434\",\"type\":\"HelpTool\"},{\"attributes\":{\"active_drag\":\"auto\",\"active_inspect\":\"auto\",\"active_multi\":null,\"active_scroll\":\"auto\",\"active_tap\":\"auto\",\"tools\":[{\"id\":\"1429\",\"type\":\"PanTool\"},{\"id\":\"1430\",\"type\":\"WheelZoomTool\"},{\"id\":\"1431\",\"type\":\"BoxZoomTool\"},{\"id\":\"1432\",\"type\":\"SaveTool\"},{\"id\":\"1433\",\"type\":\"ResetTool\"},{\"id\":\"1434\",\"type\":\"HelpTool\"}]},\"id\":\"1435\",\"type\":\"Toolbar\"},{\"attributes\":{\"source\":{\"id\":\"1471\",\"type\":\"ColumnDataSource\"}},\"id\":\"1475\",\"type\":\"CDSView\"},{\"attributes\":{},\"id\":\"1417\",\"type\":\"LinearScale\"},{\"attributes\":{\"data_source\":{\"id\":\"1456\",\"type\":\"ColumnDataSource\"},\"glyph\":{\"id\":\"1457\",\"type\":\"Line\"},\"hover_glyph\":null,\"muted_glyph\":null,\"nonselection_glyph\":{\"id\":\"1458\",\"type\":\"Line\"},\"selection_glyph\":null,\"view\":{\"id\":\"1460\",\"type\":\"CDSView\"}},\"id\":\"1459\",\"type\":\"GlyphRenderer\"},{\"attributes\":{},\"id\":\"1429\",\"type\":\"PanTool\"},{\"attributes\":{},\"id\":\"1485\",\"type\":\"Selection\"},{\"attributes\":{\"callback\":null},\"id\":\"1413\",\"type\":\"DataRange1d\"},{\"attributes\":{\"text\":\"SIR - Prevalence\"},\"id\":\"1448\",\"type\":\"Title\"},{\"attributes\":{\"items\":[{\"id\":\"1455\",\"type\":\"LegendItem\"},{\"id\":\"1470\",\"type\":\"LegendItem\"},{\"id\":\"1487\",\"type\":\"LegendItem\"}],\"orientation\":\"horizontal\"},\"id\":\"1454\",\"type\":\"Legend\"},{\"attributes\":{\"axis_label\":\"Iterations\",\"formatter\":{\"id\":\"1449\",\"type\":\"BasicTickFormatter\"},\"ticker\":{\"id\":\"1420\",\"type\":\"BasicTicker\"}},\"id\":\"1419\",\"type\":\"LinearAxis\"},{\"attributes\":{\"label\":{\"value\":\"Removed\"},\"renderers\":[{\"id\":\"1474\",\"type\":\"GlyphRenderer\"}]},\"id\":\"1487\",\"type\":\"LegendItem\"},{\"attributes\":{},\"id\":\"1486\",\"type\":\"UnionRenderers\"},{\"attributes\":{\"align\":\"center\",\"text\":\"beta: 0.001, gamma: 0.01, fraction infected: 0.05, tp rate: 1\"},\"id\":\"1489\",\"type\":\"Title\"},{\"attributes\":{},\"id\":\"1425\",\"type\":\"BasicTicker\"},{\"attributes\":{\"line_alpha\":0.5,\"line_color\":\"#1f77b4\",\"line_width\":2,\"x\":{\"field\":\"x\"},\"y\":{\"field\":\"y\"}},\"id\":\"1443\",\"type\":\"Line\"},{\"attributes\":{},\"id\":\"1415\",\"type\":\"LinearScale\"},{\"attributes\":{},\"id\":\"1449\",\"type\":\"BasicTickFormatter\"},{\"attributes\":{\"callback\":null,\"data\":{\"x\":[0,1,2,3,4,5,6,7,8,9,10,11,12,13,14,15,16,17,18,19,20,21,22,23,24,25,26,27,28,29,30,31,32,33,34,35,36,37,38,39,40,41,42,43,44,45,46,47,48,49,50,51,52,53,54,55,56,57,58,59,60,61,62,63,64,65,66,67,68,69,70,71,72,73,74,75,76,77,78,79,80,81,82,83,84,85,86,87,88,89,90,91,92,93,94,95,96,97,98,99,100,101,102,103,104,105,106,107,108,109,110,111,112,113,114,115,116,117,118,119,120,121,122,123,124,125,126,127,128,129,130,131,132,133,134,135,136,137,138,139,140,141,142,143,144,145,146,147,148,149,150,151,152,153,154,155,156,157,158,159,160,161,162,163,164,165,166,167,168,169,170,171,172,173,174,175,176,177,178,179,180,181,182,183,184,185,186,187,188,189,190,191,192,193,194,195,196,197,198,199],\"y\":{\"__ndarray__\":\"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\",\"dtype\":\"float64\",\"shape\":[200]}},\"selected\":{\"id\":\"1468\",\"type\":\"Selection\"},\"selection_policy\":{\"id\":\"1469\",\"type\":\"UnionRenderers\"}},\"id\":\"1442\",\"type\":\"ColumnDataSource\"},{\"attributes\":{\"bottom_units\":\"screen\",\"fill_alpha\":{\"value\":0.5},\"fill_color\":{\"value\":\"lightgrey\"},\"left_units\":\"screen\",\"level\":\"overlay\",\"line_alpha\":{\"value\":1.0},\"line_color\":{\"value\":\"black\"},\"line_dash\":[4,4],\"line_width\":{\"value\":2},\"render_mode\":\"css\",\"right_units\":\"screen\",\"top_units\":\"screen\"},\"id\":\"1453\",\"type\":\"BoxAnnotation\"},{\"attributes\":{\"dimension\":1,\"grid_line_alpha\":0.5,\"ticker\":{\"id\":\"1425\",\"type\":\"BasicTicker\"}},\"id\":\"1428\",\"type\":\"Grid\"},{\"attributes\":{\"callback\":null},\"id\":\"1411\",\"type\":\"DataRange1d\"},{\"attributes\":{\"label\":{\"value\":\"Infected\"},\"renderers\":[{\"id\":\"1459\",\"type\":\"GlyphRenderer\"}]},\"id\":\"1470\",\"type\":\"LegendItem\"},{\"attributes\":{\"source\":{\"id\":\"1442\",\"type\":\"ColumnDataSource\"}},\"id\":\"1446\",\"type\":\"CDSView\"},{\"attributes\":{\"grid_line_alpha\":0.5,\"ticker\":{\"id\":\"1420\",\"type\":\"BasicTicker\"}},\"id\":\"1423\",\"type\":\"Grid\"},{\"attributes\":{\"data_source\":{\"id\":\"1442\",\"type\":\"ColumnDataSource\"},\"glyph\":{\"id\":\"1443\",\"type\":\"Line\"},\"hover_glyph\":null,\"muted_glyph\":null,\"nonselection_glyph\":{\"id\":\"1444\",\"type\":\"Line\"},\"selection_glyph\":null,\"view\":{\"id\":\"1446\",\"type\":\"CDSView\"}},\"id\":\"1445\",\"type\":\"GlyphRenderer\"},{\"attributes\":{},\"id\":\"1451\",\"type\":\"BasicTickFormatter\"},{\"attributes\":{},\"id\":\"1514\",\"type\":\"Selection\"},{\"attributes\":{\"axis_label\":\"#Delta Nodes\",\"formatter\":{\"id\":\"1451\",\"type\":\"BasicTickFormatter\"},\"ticker\":{\"id\":\"1425\",\"type\":\"BasicTicker\"}},\"id\":\"1424\",\"type\":\"LinearAxis\"},{\"attributes\":{\"line_alpha\":0.1,\"line_color\":\"#1f77b4\",\"line_width\":2,\"x\":{\"field\":\"x\"},\"y\":{\"field\":\"y\"}},\"id\":\"1444\",\"type\":\"Line\"},{\"attributes\":{\"label\":{\"value\":\"Susceptible\"},\"renderers\":[{\"id\":\"1445\",\"type\":\"GlyphRenderer\"}]},\"id\":\"1455\",\"type\":\"LegendItem\"},{\"attributes\":{},\"id\":\"1469\",\"type\":\"UnionRenderers\"},{\"attributes\":{\"line_alpha\":0.5,\"line_color\":\"#ff7f0e\",\"line_width\":2,\"x\":{\"field\":\"x\"},\"y\":{\"field\":\"y\"}},\"id\":\"1472\",\"type\":\"Line\"},{\"attributes\":{},\"id\":\"1515\",\"type\":\"UnionRenderers\"},{\"attributes\":{\"line_alpha\":0.5,\"line_color\":\"#aec7e8\",\"line_width\":2,\"x\":{\"field\":\"x\"},\"y\":{\"field\":\"y\"}},\"id\":\"1457\",\"type\":\"Line\"}],\"root_ids\":[\"1410\"]},\"title\":\"Bokeh Application\",\"version\":\"1.4.0\"}};\n",
       "  var render_items = [{\"docid\":\"9aaaf4b6-fab9-44ab-b4b7-0e3216a44785\",\"roots\":{\"1410\":\"119cd2c3-b67c-489f-b4fb-9b1b80b454c7\"}}];\n",
       "  root.Bokeh.embed.embed_items_notebook(docs_json, render_items);\n",
       "\n",
       "  }\n",
       "  if (root.Bokeh !== undefined) {\n",
       "    embed_document(root);\n",
       "  } else {\n",
       "    var attempts = 0;\n",
       "    var timer = setInterval(function(root) {\n",
       "      if (root.Bokeh !== undefined) {\n",
       "        clearInterval(timer);\n",
       "        embed_document(root);\n",
       "      } else {\n",
       "        attempts++;\n",
       "        if (attempts > 100) {\n",
       "          clearInterval(timer);\n",
       "          console.log(\"Bokeh: ERROR: Unable to run BokehJS code because BokehJS library is missing\");\n",
       "        }\n",
       "      }\n",
       "    }, 10, root)\n",
       "  }\n",
       "})(window);"
      ],
      "application/vnd.bokehjs_exec.v0+json": ""
     },
     "metadata": {
      "application/vnd.bokehjs_exec.v0+json": {
       "id": "1410"
      }
     },
     "output_type": "display_data"
    }
   ],
   "source": [
    "viz2 = DiffusionPrevalence(model, trends)\n",
    "p2 = viz2.plot(width=400, height=400)\n",
    "show(p2)"
   ]
  },
  {
   "cell_type": "code",
   "execution_count": 8,
   "metadata": {
    "ExecuteTime": {
     "end_time": "2020-08-02T06:28:47.825154Z",
     "start_time": "2020-08-02T06:28:47.742019Z"
    },
    "slideshow": {
     "slide_type": "subslide"
    }
   },
   "outputs": [
    {
     "data": {
      "text/html": [
       "\n",
       "\n",
       "\n",
       "\n",
       "\n",
       "\n",
       "  <div class=\"bk-root\" id=\"82dc4cc9-b767-4782-a768-de742e57619e\" data-root-id=\"1625\"></div>\n"
      ]
     },
     "metadata": {},
     "output_type": "display_data"
    },
    {
     "data": {
      "application/javascript": [
       "(function(root) {\n",
       "  function embed_document(root) {\n",
       "    \n",
       "  var docs_json = {\"6bbc79b5-6801-4c5f-8b4a-917aa22fd169\":{\"roots\":{\"references\":[{\"attributes\":{\"children\":[{\"id\":\"1624\",\"type\":\"ToolbarBox\"},{\"id\":\"1622\",\"type\":\"GridBox\"}]},\"id\":\"1625\",\"type\":\"Column\"},{\"attributes\":{\"axis_label\":\"#Nodes\",\"formatter\":{\"id\":\"1280\",\"type\":\"BasicTickFormatter\"},\"ticker\":{\"id\":\"1254\",\"type\":\"BasicTicker\"}},\"id\":\"1253\",\"type\":\"LinearAxis\"},{\"attributes\":{},\"id\":\"1420\",\"type\":\"BasicTicker\"},{\"attributes\":{},\"id\":\"1249\",\"type\":\"BasicTicker\"},{\"attributes\":{\"below\":[{\"id\":\"1248\",\"type\":\"LinearAxis\"},{\"id\":\"1318\",\"type\":\"Title\"}],\"center\":[{\"id\":\"1252\",\"type\":\"Grid\"},{\"id\":\"1257\",\"type\":\"Grid\"},{\"id\":\"1283\",\"type\":\"Legend\"}],\"left\":[{\"id\":\"1253\",\"type\":\"LinearAxis\"}],\"plot_height\":400,\"plot_width\":400,\"renderers\":[{\"id\":\"1274\",\"type\":\"GlyphRenderer\"},{\"id\":\"1288\",\"type\":\"GlyphRenderer\"},{\"id\":\"1303\",\"type\":\"GlyphRenderer\"}],\"title\":{\"id\":\"1277\",\"type\":\"Title\"},\"toolbar\":{\"id\":\"1264\",\"type\":\"Toolbar\"},\"toolbar_location\":null,\"x_range\":{\"id\":\"1240\",\"type\":\"DataRange1d\"},\"x_scale\":{\"id\":\"1244\",\"type\":\"LinearScale\"},\"y_range\":{\"id\":\"1242\",\"type\":\"DataRange1d\"},\"y_scale\":{\"id\":\"1246\",\"type\":\"LinearScale\"}},\"id\":\"1239\",\"subtype\":\"Figure\",\"type\":\"Plot\"},{\"attributes\":{},\"id\":\"1429\",\"type\":\"PanTool\"},{\"attributes\":{},\"id\":\"1417\",\"type\":\"LinearScale\"},{\"attributes\":{\"axis_label\":\"Iterations\",\"formatter\":{\"id\":\"1449\",\"type\":\"BasicTickFormatter\"},\"ticker\":{\"id\":\"1420\",\"type\":\"BasicTicker\"}},\"id\":\"1419\",\"type\":\"LinearAxis\"},{\"attributes\":{},\"id\":\"1425\",\"type\":\"BasicTicker\"},{\"attributes\":{\"line_alpha\":0.5,\"line_color\":\"#1f77b4\",\"line_width\":2,\"x\":{\"field\":\"x\"},\"y\":{\"field\":\"y\"}},\"id\":\"1443\",\"type\":\"Line\"},{\"attributes\":{},\"id\":\"1415\",\"type\":\"LinearScale\"},{\"attributes\":{\"dimension\":1,\"grid_line_alpha\":0.5,\"ticker\":{\"id\":\"1425\",\"type\":\"BasicTicker\"}},\"id\":\"1428\",\"type\":\"Grid\"},{\"attributes\":{\"grid_line_alpha\":0.5,\"ticker\":{\"id\":\"1420\",\"type\":\"BasicTicker\"}},\"id\":\"1423\",\"type\":\"Grid\"},{\"attributes\":{\"children\":[[{\"id\":\"1239\",\"subtype\":\"Figure\",\"type\":\"Plot\"},0,0],[{\"id\":\"1410\",\"subtype\":\"Figure\",\"type\":\"Plot\"},0,1]]},\"id\":\"1622\",\"type\":\"GridBox\"},{\"attributes\":{},\"id\":\"1514\",\"type\":\"Selection\"},{\"attributes\":{\"axis_label\":\"#Delta Nodes\",\"formatter\":{\"id\":\"1451\",\"type\":\"BasicTickFormatter\"},\"ticker\":{\"id\":\"1425\",\"type\":\"BasicTicker\"}},\"id\":\"1424\",\"type\":\"LinearAxis\"},{\"attributes\":{\"line_alpha\":0.1,\"line_color\":\"#1f77b4\",\"line_width\":2,\"x\":{\"field\":\"x\"},\"y\":{\"field\":\"y\"}},\"id\":\"1444\",\"type\":\"Line\"},{\"attributes\":{\"callback\":null,\"data\":{\"x\":[0,1,2,3,4,5,6,7,8,9,10,11,12,13,14,15,16,17,18,19,20,21,22,23,24,25,26,27,28,29,30,31,32,33,34,35,36,37,38,39,40,41,42,43,44,45,46,47,48,49,50,51,52,53,54,55,56,57,58,59,60,61,62,63,64,65,66,67,68,69,70,71,72,73,74,75,76,77,78,79,80,81,82,83,84,85,86,87,88,89,90,91,92,93,94,95,96,97,98,99,100,101,102,103,104,105,106,107,108,109,110,111,112,113,114,115,116,117,118,119,120,121,122,123,124,125,126,127,128,129,130,131,132,133,134,135,136,137,138,139,140,141,142,143,144,145,146,147,148,149,150,151,152,153,154,155,156,157,158,159,160,161,162,163,164,165,166,167,168,169,170,171,172,173,174,175,176,177,178,179,180,181,182,183,184,185,186,187,188,189,190,191,192,193,194,195,196,197,198,199],\"y\":{\"__ndarray__\":\"AAAAAAAAAAAAAAAAAAAAAAAAAAAAAAAA/Knx0k1iYD/6fmq8dJNoP/p+arx0k2g/+n5qvHSTaD/8qfHSTWJwP/yp8dJNYnA/+n5qvHSTeD/6fmq8dJN4P3npJjEIrHw/O99PjZdugj8730+Nl26CPzvfT42XboI/+n5qvHSTiD/6fmq8dJOIP3npJjEIrIw/nMQgsHJokT/b+X5qvHSTPxsv3SQGgZU/mpmZmZmZmT/ZzvdT46WbP9nO91PjpZs//Knx0k1ioD8730+Nl26iP3sUrkfheqQ/WmQ730+Npz9KDAIrhxapP9nO91Pjpas/yXa+nxovrT/Jdr6fGi+tP/yp8dJNYrA/9P3UeOkmsT+cxCCwcmixP0SLbOf7qbE/K4cW2c73sz9qvHSTGAS2P/p+arx0k7g/SgwCK4cWuT85tMh2vp+6P9nO91Pjpbs/GQRWDi2yvT+4HoXrUbi+PwAAAAAAAMA/oBov3SQGwT+YbhKDwMrBP4ts5/up8cI/16NwPQrXwz/P91PjpZvEP3e+nxov3cQ/w/UoXI/CxT9iEFg5tMjGP7Kd76fGS8c/UrgehetRyD/2KFyPwvXIP5ZDi2zn+8k/jZduEoPAyj+F61G4HoXLP30/NV66Scw/HVpkO99PzT8UrkfhehTOP2Dl0CLb+c4/sHJoke18zz9U46WbxCDQP/p+arx0k9A/nu+nxks30T/wp8ZLN4nRP+kmMQisHNI/ObTIdr6f0j+Nl24Sg8DSPzMzMzMzM9M/2c73U+Ol0z/Xo3A9CtfTPycxCKwcWtQ/d76fGi/d1D8fhetRuB7VP8UgsHJokdU/w/UoXI/C1T8Sg8DKoUXWP2Q730+Nl9Y/tvP91Hjp1j9cj8L1KFzXP1pkO99Pjdc/WDm0yHa+1z+q8dJNYhDYP6abxCCwctg/+FPjpZvE2D9GtvP91HjZP0SLbOf7qdk/6SYxCKwc2j+R7Xw/NV7aP+Olm8QgsNo/3SQGgZVD2z+DwMqhRbbbPyuHFtnO99s/exSuR+F63D8hsHJoke3cP3E9CtejcN0/GQRWDi2y3T/ByqFFtvPdP2iR7Xw/Nd4/ZDvfT42X3j9eukkMAivfP7ByaJHtfN8/AiuHFtnO3z/VeOkmMQjgP9NNYhBYOeA/JzEIrBxa4D/6fmq8dJPgP6RwPQrXo+A/9ihcj8L14D9KDAIrhxbhPx1aZDvfT+E/xSCwcmiR4T8ZBFYOLbLhP8P1KFyPwuE/bef7qfHS4T8/NV66SQziP+f7qfHSTeI/5dAi2/l+4j85tMh2vp/iPwwCK4cW2eI/30+Nl24S4z9eukkMAivjP90kBoGVQ+M/MQisHFpk4z/b+X5qvHTjP4XrUbgeheM/rkfhehSu4z9WDi2yne/jP9V46SYxCOQ//tR46SYx5D+oxks3iUHkP/yp8dJNYuQ/exSuR+F65D/6fmq8dJPkP83MzMzMzOQ/d76fGi/d5D/LoUW28/3kP6AaL90kBuU/nu+nxks35T/HSzeJQWDlP0a28/3UeOU/Rrbz/dR45T+amZmZmZnlP0SLbOf7qeU/w/UoXI/C5T+YbhKDwMrlP+xRuB6F6+U/arx0kxgE5j/pJjEIrBzmPz0K16NwPeY/ke18PzVe5j9mZmZmZmbmP7pJDAIrh+Y/Di2yne+n5j8OLbKd76fmP42XbhKDwOY/DAIrhxbZ5j9g5dAi2/nmP99PjZduEuc/iUFg5dAi5z+HFtnO91PnP1yPwvUoXOc/BoGVQ4ts5z+wcmiR7XznP1pkO99Pjec/2c73U+Ol5z9YObTIdr7nP9ejcD0K1+c/gZVDi2zn5z8AAAAAAADoPylcj8L1KOg/fT81XrpJ6D8nMQisHFroP9Ei2/l+aug/UI2XbhKD6D/6fmq8dJPoP05iEFg5tOg/okW28/3U6D8hsHJoke3oP3WTGARWDuk/dZMYBFYO6T/0/dR46SbpP/T91HjpJuk/9P3UeOkm6T/0/dR46SbpP0jhehSuR+k/x0s3iUFg6T9xPQrXo3DpP/Cnxks3iek/bxKDwMqh6T9Ei2zn+6npPxkEVg4tsuk/7nw/NV666T/D9Shcj8LpP5huEoPAyuk/F9nO91Pj6T+WQ4ts5/vpPw==\",\"dtype\":\"float64\",\"shape\":[200]}},\"selected\":{\"id\":\"1330\",\"type\":\"Selection\"},\"selection_policy\":{\"id\":\"1331\",\"type\":\"UnionRenderers\"}},\"id\":\"1300\",\"type\":\"ColumnDataSource\"},{\"attributes\":{},\"id\":\"1254\",\"type\":\"BasicTicker\"},{\"attributes\":{},\"id\":\"1244\",\"type\":\"LinearScale\"},{\"attributes\":{\"data_source\":{\"id\":\"1456\",\"type\":\"ColumnDataSource\"},\"glyph\":{\"id\":\"1457\",\"type\":\"Line\"},\"hover_glyph\":null,\"muted_glyph\":null,\"nonselection_glyph\":{\"id\":\"1458\",\"type\":\"Line\"},\"selection_glyph\":null,\"view\":{\"id\":\"1460\",\"type\":\"CDSView\"}},\"id\":\"1459\",\"type\":\"GlyphRenderer\"},{\"attributes\":{\"callback\":null},\"id\":\"1242\",\"type\":\"DataRange1d\"},{\"attributes\":{\"grid_line_alpha\":0.5,\"ticker\":{\"id\":\"1249\",\"type\":\"BasicTicker\"}},\"id\":\"1252\",\"type\":\"Grid\"},{\"attributes\":{\"source\":{\"id\":\"1300\",\"type\":\"ColumnDataSource\"}},\"id\":\"1304\",\"type\":\"CDSView\"},{\"attributes\":{},\"id\":\"1246\",\"type\":\"LinearScale\"},{\"attributes\":{\"data_source\":{\"id\":\"1300\",\"type\":\"ColumnDataSource\"},\"glyph\":{\"id\":\"1301\",\"type\":\"Line\"},\"hover_glyph\":null,\"muted_glyph\":null,\"nonselection_glyph\":{\"id\":\"1302\",\"type\":\"Line\"},\"selection_glyph\":null,\"view\":{\"id\":\"1304\",\"type\":\"CDSView\"}},\"id\":\"1303\",\"type\":\"GlyphRenderer\"},{\"attributes\":{\"callback\":null,\"data\":{\"x\":[0,1,2,3,4,5,6,7,8,9,10,11,12,13,14,15,16,17,18,19,20,21,22,23,24,25,26,27,28,29,30,31,32,33,34,35,36,37,38,39,40,41,42,43,44,45,46,47,48,49,50,51,52,53,54,55,56,57,58,59,60,61,62,63,64,65,66,67,68,69,70,71,72,73,74,75,76,77,78,79,80,81,82,83,84,85,86,87,88,89,90,91,92,93,94,95,96,97,98,99,100,101,102,103,104,105,106,107,108,109,110,111,112,113,114,115,116,117,118,119,120,121,122,123,124,125,126,127,128,129,130,131,132,133,134,135,136,137,138,139,140,141,142,143,144,145,146,147,148,149,150,151,152,153,154,155,156,157,158,159,160,161,162,163,164,165,166,167,168,169,170,171,172,173,174,175,176,177,178,179,180,181,182,183,184,185,186,187,188,189,190,191,192,193,194,195,196,197,198,199],\"y\":{\"__ndarray__\":\"AAAAAAAAAAAAAAAAAAAIwAAAAAAAABTAAAAAAAAACMAAAAAAAAAAwAAAAAAAABTAAAAAAAAAKMAAAAAAAAAYwAAAAAAAABjAAAAAAAAAJsAAAAAAAAAkwAAAAAAAAC7AAAAAAAAAKsAAAAAAAAAiwAAAAAAAACjAAAAAAAAAMMAAAAAAAAAuwAAAAAAAACjAAAAAAAAAM8AAAAAAAAAiwAAAAAAAADfAAAAAAAAANsAAAAAAAAA2wAAAAAAAADjAAAAAAAAAM8AAAAAAAAA9wAAAAAAAADnAAAAAAAAAOsAAAAAAAAA+wAAAAAAAADDAAAAAAAAANcAAAAAAAAA0wAAAAAAAADXAAAAAAAAAN8AAAAAAAAAwwAAAAAAAADbAAAAAAAAANcAAAAAAAAA0wAAAAAAAADPAAAAAAAAANsAAAAAAAAAuwAAAAAAAADbAAAAAAAAANMAAAAAAAAAuwAAAAAAAADTAAAAAAAAAMsAAAAAAAAAmwAAAAAAAAC7AAAAAAAAALMAAAAAAAAAcwAAAAAAAACrAAAAAAAAAKMAAAAAAAAAiwAAAAAAAABzAAAAAAAAAIsAAAAAAAAAQwAAAAAAAACDAAAAAAAAAIMAAAAAAAAAQwAAAAAAAACDAAAAAAAAAAMAAAAAAAAAIwAAAAAAAABDAAAAAAAAAGMAAAAAAAAAQwAAAAAAAABjAAAAAAAAAAMAAAAAAAAAQwAAAAAAAABjAAAAAAAAAJsAAAAAAAADwvwAAAAAAABTAAAAAAAAAAAAAAAAAAADwvwAAAAAAAADAAAAAAAAAEMAAAAAAAAAAAAAAAAAAAADAAAAAAAAAEMAAAAAAAAAAAAAAAAAAAAAAAAAAAAAAAMAAAAAAAAAAAAAAAAAAAPC/AAAAAAAA8L8AAAAAAADwvwAAAAAAAADAAAAAAAAAAMAAAAAAAADwvwAAAAAAAADAAAAAAAAAAAAAAAAAAAAAAAAAAAAAAAAAAAAAAAAAAAAAAAAAAADwvwAAAAAAAAAAAAAAAAAAAAAAAAAAAAAAAAAAAAAAAAAAAAAAAAAAAAAAAAAAAAAAAAAAAAAAAPC/AAAAAAAAAAAAAAAAAAAAAAAAAAAAAAAAAAAAAAAAAAAAAAAAAAAAwAAAAAAAAAAAAAAAAAAAAAAAAAAAAAAAAAAAAAAAAAAAAAAAAAAA8L8AAAAAAAAAAAAAAAAAAAAAAAAAAAAAAAAAAAAAAAAAAAAAAAAAAAAAAAAAAAAAAAAAAAAAAADwvwAAAAAAAAAAAAAAAAAA8L8AAAAAAAAAAAAAAAAAAAAAAAAAAAAAAAAAAAAAAAAAAAAAAAAAAAAAAAAAAAAAAAAAAAAAAADwvwAAAAAAAAAAAAAAAAAAAAAAAAAAAAAAAAAAAAAAAAAAAAAAAAAAAAAAAAAAAAAAAAAAAAAAAAAAAAAAAAAAAAAAAAAAAAAAAAAAAAAAAAAAAAAAAAAAAAAAAAAAAAAAAAAAAAAAAAAAAAAAAAAAAAAAAAAAAAAAAAAAAAAAAAAAAAAAAAAAAAAAAAAAAAAAAAAAAAAAAAAAAAAAAAAAAAAAAAAAAAAAAAAAAAAAAAAAAAAAAAAAAAAAAAAAAAAAAAAAAAAAAAAAAAAAAAAAAAAAAAAAAAAAAAAAAAAAAAAAAAAAAAAAAAAAAAAAAAAAAAAAAAAAAAAAAAAAAAAAAAAAAAAAAAAAAAAAAAAAAAAAAAAAAAAAAAAAAAAAAAAAAAAAAAAAAAAAAAAAAAAAAAAAAAAAAAAAAAAAAAAAAAAAAAAAAAAAAAAAAAAAAAAAAAAAAAAAAAAAAAAAAAAAAAAAAAAAAAAAAAAAAAAAAAAAAAAAAAAAAAAAAAAAAAAAAAAAAAAAAAAAAAAAAAAAAAAAAAAAAAAAAAAAAAAAAAAAAAAAAAAAAAAAAAAAAAAAAAAAAAAAAAAAAAAAAAAAAAAAAAAAAAAAAAAAAAAAAAAAAAAAAAAAAAAAAAAAAAAAAAAAAAAAAAAAAAAAAAAAAAAAAAAAAAAAAAAAAAAAAAAAAAAAAAAAAAAAAAAAAAAAAAAAAAAAAAAAAAAAAAAAAAAAAAAAAAAAAAAAAAAAAAAAAAAAAAAAAAAAAAAAAAAAAA==\",\"dtype\":\"float64\",\"shape\":[200]}},\"selected\":{\"id\":\"1468\",\"type\":\"Selection\"},\"selection_policy\":{\"id\":\"1469\",\"type\":\"UnionRenderers\"}},\"id\":\"1442\",\"type\":\"ColumnDataSource\"},{\"attributes\":{\"axis_label\":\"Iterations\",\"formatter\":{\"id\":\"1278\",\"type\":\"BasicTickFormatter\"},\"ticker\":{\"id\":\"1249\",\"type\":\"BasicTicker\"}},\"id\":\"1248\",\"type\":\"LinearAxis\"},{\"attributes\":{\"line_alpha\":0.5,\"line_color\":\"#ff7f0e\",\"line_width\":2,\"x\":{\"field\":\"x\"},\"y\":{\"field\":\"y\"}},\"id\":\"1301\",\"type\":\"Line\"},{\"attributes\":{\"label\":{\"value\":\"Infected\"},\"renderers\":[{\"id\":\"1459\",\"type\":\"GlyphRenderer\"}]},\"id\":\"1470\",\"type\":\"LegendItem\"},{\"attributes\":{\"source\":{\"id\":\"1442\",\"type\":\"ColumnDataSource\"}},\"id\":\"1446\",\"type\":\"CDSView\"},{\"attributes\":{\"data_source\":{\"id\":\"1442\",\"type\":\"ColumnDataSource\"},\"glyph\":{\"id\":\"1443\",\"type\":\"Line\"},\"hover_glyph\":null,\"muted_glyph\":null,\"nonselection_glyph\":{\"id\":\"1444\",\"type\":\"Line\"},\"selection_glyph\":null,\"view\":{\"id\":\"1446\",\"type\":\"CDSView\"}},\"id\":\"1445\",\"type\":\"GlyphRenderer\"},{\"attributes\":{},\"id\":\"1515\",\"type\":\"UnionRenderers\"},{\"attributes\":{\"line_alpha\":0.1,\"line_color\":\"#1f77b4\",\"line_width\":2,\"x\":{\"field\":\"x\"},\"y\":{\"field\":\"y\"}},\"id\":\"1302\",\"type\":\"Line\"},{\"attributes\":{},\"id\":\"1430\",\"type\":\"WheelZoomTool\"},{\"attributes\":{\"line_alpha\":0.1,\"line_color\":\"#1f77b4\",\"line_width\":2,\"x\":{\"field\":\"x\"},\"y\":{\"field\":\"y\"}},\"id\":\"1273\",\"type\":\"Line\"},{\"attributes\":{},\"id\":\"1331\",\"type\":\"UnionRenderers\"},{\"attributes\":{\"align\":\"center\",\"text\":\"beta: 0.001, gamma: 0.01, fraction infected: 0.05, tp rate: 1\"},\"id\":\"1318\",\"type\":\"Title\"},{\"attributes\":{\"source\":{\"id\":\"1456\",\"type\":\"ColumnDataSource\"}},\"id\":\"1460\",\"type\":\"CDSView\"},{\"attributes\":{\"overlay\":{\"id\":\"1453\",\"type\":\"BoxAnnotation\"}},\"id\":\"1431\",\"type\":\"BoxZoomTool\"},{\"attributes\":{},\"id\":\"1468\",\"type\":\"Selection\"},{\"attributes\":{\"dimension\":1,\"grid_line_alpha\":0.5,\"ticker\":{\"id\":\"1254\",\"type\":\"BasicTicker\"}},\"id\":\"1257\",\"type\":\"Grid\"},{\"attributes\":{},\"id\":\"1432\",\"type\":\"SaveTool\"},{\"attributes\":{},\"id\":\"1433\",\"type\":\"ResetTool\"},{\"attributes\":{},\"id\":\"1330\",\"type\":\"Selection\"},{\"attributes\":{},\"id\":\"1434\",\"type\":\"HelpTool\"},{\"attributes\":{\"callback\":null,\"data\":{\"x\":[0,1,2,3,4,5,6,7,8,9,10,11,12,13,14,15,16,17,18,19,20,21,22,23,24,25,26,27,28,29,30,31,32,33,34,35,36,37,38,39,40,41,42,43,44,45,46,47,48,49,50,51,52,53,54,55,56,57,58,59,60,61,62,63,64,65,66,67,68,69,70,71,72,73,74,75,76,77,78,79,80,81,82,83,84,85,86,87,88,89,90,91,92,93,94,95,96,97,98,99,100,101,102,103,104,105,106,107,108,109,110,111,112,113,114,115,116,117,118,119,120,121,122,123,124,125,126,127,128,129,130,131,132,133,134,135,136,137,138,139,140,141,142,143,144,145,146,147,148,149,150,151,152,153,154,155,156,157,158,159,160,161,162,163,164,165,166,167,168,169,170,171,172,173,174,175,176,177,178,179,180,181,182,183,184,185,186,187,188,189,190,191,192,193,194,195,196,197,198,199],\"y\":{\"__ndarray__\":\"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\",\"dtype\":\"float64\",\"shape\":[200]}},\"selected\":{\"id\":\"1297\",\"type\":\"Selection\"},\"selection_policy\":{\"id\":\"1298\",\"type\":\"UnionRenderers\"}},\"id\":\"1271\",\"type\":\"ColumnDataSource\"},{\"attributes\":{\"active_drag\":\"auto\",\"active_inspect\":\"auto\",\"active_multi\":null,\"active_scroll\":\"auto\",\"active_tap\":\"auto\",\"tools\":[{\"id\":\"1429\",\"type\":\"PanTool\"},{\"id\":\"1430\",\"type\":\"WheelZoomTool\"},{\"id\":\"1431\",\"type\":\"BoxZoomTool\"},{\"id\":\"1432\",\"type\":\"SaveTool\"},{\"id\":\"1433\",\"type\":\"ResetTool\"},{\"id\":\"1434\",\"type\":\"HelpTool\"}]},\"id\":\"1435\",\"type\":\"Toolbar\"},{\"attributes\":{\"active_drag\":\"auto\",\"active_inspect\":\"auto\",\"active_multi\":null,\"active_scroll\":\"auto\",\"active_tap\":\"auto\",\"tools\":[{\"id\":\"1258\",\"type\":\"PanTool\"},{\"id\":\"1259\",\"type\":\"WheelZoomTool\"},{\"id\":\"1260\",\"type\":\"BoxZoomTool\"},{\"id\":\"1261\",\"type\":\"SaveTool\"},{\"id\":\"1262\",\"type\":\"ResetTool\"},{\"id\":\"1263\",\"type\":\"HelpTool\"}]},\"id\":\"1264\",\"type\":\"Toolbar\"},{\"attributes\":{\"data_source\":{\"id\":\"1271\",\"type\":\"ColumnDataSource\"},\"glyph\":{\"id\":\"1272\",\"type\":\"Line\"},\"hover_glyph\":null,\"muted_glyph\":null,\"nonselection_glyph\":{\"id\":\"1273\",\"type\":\"Line\"},\"selection_glyph\":null,\"view\":{\"id\":\"1275\",\"type\":\"CDSView\"}},\"id\":\"1274\",\"type\":\"GlyphRenderer\"},{\"attributes\":{\"callback\":null},\"id\":\"1413\",\"type\":\"DataRange1d\"},{\"attributes\":{\"text\":\"SIR - Prevalence\"},\"id\":\"1448\",\"type\":\"Title\"},{\"attributes\":{},\"id\":\"1258\",\"type\":\"PanTool\"},{\"attributes\":{\"items\":[{\"id\":\"1455\",\"type\":\"LegendItem\"},{\"id\":\"1470\",\"type\":\"LegendItem\"},{\"id\":\"1487\",\"type\":\"LegendItem\"}],\"orientation\":\"horizontal\"},\"id\":\"1454\",\"type\":\"Legend\"},{\"attributes\":{},\"id\":\"1259\",\"type\":\"WheelZoomTool\"},{\"attributes\":{\"overlay\":{\"id\":\"1282\",\"type\":\"BoxAnnotation\"}},\"id\":\"1260\",\"type\":\"BoxZoomTool\"},{\"attributes\":{\"tools\":[{\"id\":\"1258\",\"type\":\"PanTool\"},{\"id\":\"1259\",\"type\":\"WheelZoomTool\"},{\"id\":\"1260\",\"type\":\"BoxZoomTool\"},{\"id\":\"1261\",\"type\":\"SaveTool\"},{\"id\":\"1262\",\"type\":\"ResetTool\"},{\"id\":\"1263\",\"type\":\"HelpTool\"},{\"id\":\"1429\",\"type\":\"PanTool\"},{\"id\":\"1430\",\"type\":\"WheelZoomTool\"},{\"id\":\"1431\",\"type\":\"BoxZoomTool\"},{\"id\":\"1432\",\"type\":\"SaveTool\"},{\"id\":\"1433\",\"type\":\"ResetTool\"},{\"id\":\"1434\",\"type\":\"HelpTool\"}]},\"id\":\"1623\",\"type\":\"ProxyToolbar\"},{\"attributes\":{},\"id\":\"1449\",\"type\":\"BasicTickFormatter\"},{\"attributes\":{},\"id\":\"1261\",\"type\":\"SaveTool\"},{\"attributes\":{\"bottom_units\":\"screen\",\"fill_alpha\":{\"value\":0.5},\"fill_color\":{\"value\":\"lightgrey\"},\"left_units\":\"screen\",\"level\":\"overlay\",\"line_alpha\":{\"value\":1.0},\"line_color\":{\"value\":\"black\"},\"line_dash\":[4,4],\"line_width\":{\"value\":2},\"render_mode\":\"css\",\"right_units\":\"screen\",\"top_units\":\"screen\"},\"id\":\"1453\",\"type\":\"BoxAnnotation\"},{\"attributes\":{},\"id\":\"1262\",\"type\":\"ResetTool\"},{\"attributes\":{},\"id\":\"1451\",\"type\":\"BasicTickFormatter\"},{\"attributes\":{},\"id\":\"1263\",\"type\":\"HelpTool\"},{\"attributes\":{\"label\":{\"value\":\"Susceptible\"},\"renderers\":[{\"id\":\"1445\",\"type\":\"GlyphRenderer\"}]},\"id\":\"1455\",\"type\":\"LegendItem\"},{\"attributes\":{\"line_alpha\":0.5,\"line_color\":\"#ff7f0e\",\"line_width\":2,\"x\":{\"field\":\"x\"},\"y\":{\"field\":\"y\"}},\"id\":\"1472\",\"type\":\"Line\"},{\"attributes\":{\"toolbar\":{\"id\":\"1623\",\"type\":\"ProxyToolbar\"},\"toolbar_location\":\"above\"},\"id\":\"1624\",\"type\":\"ToolbarBox\"},{\"attributes\":{\"text\":\"SIR - Diffusion Trend\"},\"id\":\"1277\",\"type\":\"Title\"},{\"attributes\":{\"below\":[{\"id\":\"1419\",\"type\":\"LinearAxis\"},{\"id\":\"1489\",\"type\":\"Title\"}],\"center\":[{\"id\":\"1423\",\"type\":\"Grid\"},{\"id\":\"1428\",\"type\":\"Grid\"},{\"id\":\"1454\",\"type\":\"Legend\"}],\"left\":[{\"id\":\"1424\",\"type\":\"LinearAxis\"}],\"plot_height\":400,\"plot_width\":400,\"renderers\":[{\"id\":\"1445\",\"type\":\"GlyphRenderer\"},{\"id\":\"1459\",\"type\":\"GlyphRenderer\"},{\"id\":\"1474\",\"type\":\"GlyphRenderer\"}],\"title\":{\"id\":\"1448\",\"type\":\"Title\"},\"toolbar\":{\"id\":\"1435\",\"type\":\"Toolbar\"},\"toolbar_location\":null,\"x_range\":{\"id\":\"1411\",\"type\":\"DataRange1d\"},\"x_scale\":{\"id\":\"1415\",\"type\":\"LinearScale\"},\"y_range\":{\"id\":\"1413\",\"type\":\"DataRange1d\"},\"y_scale\":{\"id\":\"1417\",\"type\":\"LinearScale\"}},\"id\":\"1410\",\"subtype\":\"Figure\",\"type\":\"Plot\"},{\"attributes\":{\"items\":[{\"id\":\"1284\",\"type\":\"LegendItem\"},{\"id\":\"1299\",\"type\":\"LegendItem\"},{\"id\":\"1316\",\"type\":\"LegendItem\"}],\"orientation\":\"horizontal\"},\"id\":\"1283\",\"type\":\"Legend\"},{\"attributes\":{\"line_alpha\":0.5,\"line_color\":\"#aec7e8\",\"line_width\":2,\"x\":{\"field\":\"x\"},\"y\":{\"field\":\"y\"}},\"id\":\"1457\",\"type\":\"Line\"},{\"attributes\":{},\"id\":\"1469\",\"type\":\"UnionRenderers\"},{\"attributes\":{\"line_alpha\":0.5,\"line_color\":\"#1f77b4\",\"line_width\":2,\"x\":{\"field\":\"x\"},\"y\":{\"field\":\"y\"}},\"id\":\"1272\",\"type\":\"Line\"},{\"attributes\":{\"callback\":null,\"data\":{\"x\":[0,1,2,3,4,5,6,7,8,9,10,11,12,13,14,15,16,17,18,19,20,21,22,23,24,25,26,27,28,29,30,31,32,33,34,35,36,37,38,39,40,41,42,43,44,45,46,47,48,49,50,51,52,53,54,55,56,57,58,59,60,61,62,63,64,65,66,67,68,69,70,71,72,73,74,75,76,77,78,79,80,81,82,83,84,85,86,87,88,89,90,91,92,93,94,95,96,97,98,99,100,101,102,103,104,105,106,107,108,109,110,111,112,113,114,115,116,117,118,119,120,121,122,123,124,125,126,127,128,129,130,131,132,133,134,135,136,137,138,139,140,141,142,143,144,145,146,147,148,149,150,151,152,153,154,155,156,157,158,159,160,161,162,163,164,165,166,167,168,169,170,171,172,173,174,175,176,177,178,179,180,181,182,183,184,185,186,187,188,189,190,191,192,193,194,195,196,197,198,199],\"y\":{\"__ndarray__\":\"AAAAAAAAAAAAAAAAAAAAAAAAAAAAAAAAAAAAAAAAAEAAAAAAAADwPwAAAAAAAAAAAAAAAAAAAAAAAAAAAADwPwAAAAAAAAAAAAAAAAAAAEAAAAAAAAAAAAAAAAAAAPA/AAAAAAAAAEAAAAAAAAAAAAAAAAAAAAAAAAAAAAAACEAAAAAAAAAAAAAAAAAAAABAAAAAAAAACEAAAAAAAAAAQAAAAAAAAABAAAAAAAAAEEAAAAAAAAAAQAAAAAAAAAAAAAAAAAAAFEAAAAAAAAAQQAAAAAAAABBAAAAAAAAAGEAAAAAAAAAIQAAAAAAAABRAAAAAAAAACEAAAAAAAAAAAAAAAAAAABxAAAAAAAAACEAAAAAAAADwPwAAAAAAAPA/AAAAAAAAIkAAAAAAAAAgQAAAAAAAACRAAAAAAAAAAEAAAAAAAAAYQAAAAAAAABBAAAAAAAAAIEAAAAAAAAAQQAAAAAAAABRAAAAAAAAAIEAAAAAAAAAYQAAAAAAAACJAAAAAAAAAHEAAAAAAAAAYQAAAAAAAAABAAAAAAAAAHEAAAAAAAAAgQAAAAAAAABBAAAAAAAAAIEAAAAAAAAAUQAAAAAAAACBAAAAAAAAAGEAAAAAAAAAYQAAAAAAAABhAAAAAAAAAIEAAAAAAAAAYQAAAAAAAABxAAAAAAAAAEEAAAAAAAAAYQAAAAAAAABxAAAAAAAAAJEAAAAAAAAAUQAAAAAAAACJAAAAAAAAAIEAAAAAAAAAAQAAAAAAAABxAAAAAAAAAHEAAAAAAAAAIQAAAAAAAACBAAAAAAAAAIEAAAAAAAAAQQAAAAAAAABxAAAAAAAAACEAAAAAAAAAgQAAAAAAAABRAAAAAAAAAFEAAAAAAAAAcQAAAAAAAAAhAAAAAAAAACEAAAAAAAAAUQAAAAAAAABhAAAAAAAAAFEAAAAAAAAAmQAAAAAAAAAhAAAAAAAAAHEAAAAAAAAAQQAAAAAAAABRAAAAAAAAAIkAAAAAAAAAcQAAAAAAAABBAAAAAAAAAIEAAAAAAAAAcQAAAAAAAACBAAAAAAAAAEEAAAAAAAAAQQAAAAAAAABBAAAAAAAAAGEAAAAAAAAAiQAAAAAAAABRAAAAAAAAAFEAAAAAAAAAQQAAAAAAAABhAAAAAAAAAEEAAAAAAAAAcQAAAAAAAAABAAAAAAAAAJEAAAAAAAAAQQAAAAAAAABxAAAAAAAAAIEAAAAAAAAAQQAAAAAAAAABAAAAAAAAAAEAAAAAAAAAcQAAAAAAAACBAAAAAAAAAGEAAAAAAAAAQQAAAAAAAABxAAAAAAAAAHEAAAAAAAAAIQAAAAAAAAAhAAAAAAAAAEEAAAAAAAAAAQAAAAAAAAABAAAAAAAAAFEAAAAAAAAAgQAAAAAAAAAhAAAAAAAAAFEAAAAAAAAAAQAAAAAAAABBAAAAAAAAACEAAAAAAAAAIQAAAAAAAABxAAAAAAAAAAEAAAAAAAAAQQAAAAAAAAPA/AAAAAAAAGEAAAAAAAAAUQAAAAAAAAAhAAAAAAAAAAAAAAAAAAAAQQAAAAAAAAABAAAAAAAAACEAAAAAAAADwPwAAAAAAABBAAAAAAAAACEAAAAAAAAAIQAAAAAAAABBAAAAAAAAAEEAAAAAAAADwPwAAAAAAABBAAAAAAAAAEEAAAAAAAAAAAAAAAAAAAAhAAAAAAAAACEAAAAAAAAAQQAAAAAAAAAhAAAAAAAAAAEAAAAAAAAAYQAAAAAAAAPA/AAAAAAAAAEAAAAAAAAAAQAAAAAAAAABAAAAAAAAACEAAAAAAAAAIQAAAAAAAAAhAAAAAAAAAAEAAAAAAAAAIQAAAAAAAABRAAAAAAAAAEEAAAAAAAAAAQAAAAAAAAABAAAAAAAAACEAAAAAAAAAAQAAAAAAAABBAAAAAAAAAEEAAAAAAAAAIQAAAAAAAABBAAAAAAAAAAAAAAAAAAAAIQAAAAAAAAAAAAAAAAAAAAAAAAAAAAAAAAAAAAAAAABBAAAAAAAAACEAAAAAAAAAAQAAAAAAAAAhAAAAAAAAACEAAAAAAAADwPwAAAAAAAPA/AAAAAAAA8D8AAAAAAADwPwAAAAAAAPA/AAAAAAAACEAAAAAAAAAIQA==\",\"dtype\":\"float64\",\"shape\":[200]}},\"selected\":{\"id\":\"1514\",\"type\":\"Selection\"},\"selection_policy\":{\"id\":\"1515\",\"type\":\"UnionRenderers\"}},\"id\":\"1471\",\"type\":\"ColumnDataSource\"},{\"attributes\":{\"callback\":null,\"data\":{\"x\":[0,1,2,3,4,5,6,7,8,9,10,11,12,13,14,15,16,17,18,19,20,21,22,23,24,25,26,27,28,29,30,31,32,33,34,35,36,37,38,39,40,41,42,43,44,45,46,47,48,49,50,51,52,53,54,55,56,57,58,59,60,61,62,63,64,65,66,67,68,69,70,71,72,73,74,75,76,77,78,79,80,81,82,83,84,85,86,87,88,89,90,91,92,93,94,95,96,97,98,99,100,101,102,103,104,105,106,107,108,109,110,111,112,113,114,115,116,117,118,119,120,121,122,123,124,125,126,127,128,129,130,131,132,133,134,135,136,137,138,139,140,141,142,143,144,145,146,147,148,149,150,151,152,153,154,155,156,157,158,159,160,161,162,163,164,165,166,167,168,169,170,171,172,173,174,175,176,177,178,179,180,181,182,183,184,185,186,187,188,189,190,191,192,193,194,195,196,197,198,199],\"y\":{\"__ndarray__\":\"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\",\"dtype\":\"float64\",\"shape\":[200]}},\"selected\":{\"id\":\"1485\",\"type\":\"Selection\"},\"selection_policy\":{\"id\":\"1486\",\"type\":\"UnionRenderers\"}},\"id\":\"1456\",\"type\":\"ColumnDataSource\"},{\"attributes\":{\"source\":{\"id\":\"1271\",\"type\":\"ColumnDataSource\"}},\"id\":\"1275\",\"type\":\"CDSView\"},{\"attributes\":{},\"id\":\"1278\",\"type\":\"BasicTickFormatter\"},{\"attributes\":{\"line_alpha\":0.1,\"line_color\":\"#1f77b4\",\"line_width\":2,\"x\":{\"field\":\"x\"},\"y\":{\"field\":\"y\"}},\"id\":\"1458\",\"type\":\"Line\"},{\"attributes\":{\"bottom_units\":\"screen\",\"fill_alpha\":{\"value\":0.5},\"fill_color\":{\"value\":\"lightgrey\"},\"left_units\":\"screen\",\"level\":\"overlay\",\"line_alpha\":{\"value\":1.0},\"line_color\":{\"value\":\"black\"},\"line_dash\":[4,4],\"line_width\":{\"value\":2},\"render_mode\":\"css\",\"right_units\":\"screen\",\"top_units\":\"screen\"},\"id\":\"1282\",\"type\":\"BoxAnnotation\"},{\"attributes\":{\"label\":{\"value\":\"Infected\"},\"renderers\":[{\"id\":\"1288\",\"type\":\"GlyphRenderer\"}]},\"id\":\"1299\",\"type\":\"LegendItem\"},{\"attributes\":{\"line_alpha\":0.1,\"line_color\":\"#1f77b4\",\"line_width\":2,\"x\":{\"field\":\"x\"},\"y\":{\"field\":\"y\"}},\"id\":\"1473\",\"type\":\"Line\"},{\"attributes\":{},\"id\":\"1280\",\"type\":\"BasicTickFormatter\"},{\"attributes\":{\"data_source\":{\"id\":\"1471\",\"type\":\"ColumnDataSource\"},\"glyph\":{\"id\":\"1472\",\"type\":\"Line\"},\"hover_glyph\":null,\"muted_glyph\":null,\"nonselection_glyph\":{\"id\":\"1473\",\"type\":\"Line\"},\"selection_glyph\":null,\"view\":{\"id\":\"1475\",\"type\":\"CDSView\"}},\"id\":\"1474\",\"type\":\"GlyphRenderer\"},{\"attributes\":{\"callback\":null},\"id\":\"1240\",\"type\":\"DataRange1d\"},{\"attributes\":{\"label\":{\"value\":\"Susceptible\"},\"renderers\":[{\"id\":\"1274\",\"type\":\"GlyphRenderer\"}]},\"id\":\"1284\",\"type\":\"LegendItem\"},{\"attributes\":{\"source\":{\"id\":\"1471\",\"type\":\"ColumnDataSource\"}},\"id\":\"1475\",\"type\":\"CDSView\"},{\"attributes\":{},\"id\":\"1315\",\"type\":\"UnionRenderers\"},{\"attributes\":{},\"id\":\"1485\",\"type\":\"Selection\"},{\"attributes\":{\"label\":{\"value\":\"Removed\"},\"renderers\":[{\"id\":\"1303\",\"type\":\"GlyphRenderer\"}]},\"id\":\"1316\",\"type\":\"LegendItem\"},{\"attributes\":{\"label\":{\"value\":\"Removed\"},\"renderers\":[{\"id\":\"1474\",\"type\":\"GlyphRenderer\"}]},\"id\":\"1487\",\"type\":\"LegendItem\"},{\"attributes\":{\"line_alpha\":0.5,\"line_color\":\"#aec7e8\",\"line_width\":2,\"x\":{\"field\":\"x\"},\"y\":{\"field\":\"y\"}},\"id\":\"1286\",\"type\":\"Line\"},{\"attributes\":{},\"id\":\"1486\",\"type\":\"UnionRenderers\"},{\"attributes\":{\"align\":\"center\",\"text\":\"beta: 0.001, gamma: 0.01, fraction infected: 0.05, tp rate: 1\"},\"id\":\"1489\",\"type\":\"Title\"},{\"attributes\":{},\"id\":\"1314\",\"type\":\"Selection\"},{\"attributes\":{\"callback\":null,\"data\":{\"x\":[0,1,2,3,4,5,6,7,8,9,10,11,12,13,14,15,16,17,18,19,20,21,22,23,24,25,26,27,28,29,30,31,32,33,34,35,36,37,38,39,40,41,42,43,44,45,46,47,48,49,50,51,52,53,54,55,56,57,58,59,60,61,62,63,64,65,66,67,68,69,70,71,72,73,74,75,76,77,78,79,80,81,82,83,84,85,86,87,88,89,90,91,92,93,94,95,96,97,98,99,100,101,102,103,104,105,106,107,108,109,110,111,112,113,114,115,116,117,118,119,120,121,122,123,124,125,126,127,128,129,130,131,132,133,134,135,136,137,138,139,140,141,142,143,144,145,146,147,148,149,150,151,152,153,154,155,156,157,158,159,160,161,162,163,164,165,166,167,168,169,170,171,172,173,174,175,176,177,178,179,180,181,182,183,184,185,186,187,188,189,190,191,192,193,194,195,196,197,198,199],\"y\":{\"__ndarray__\":\"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\",\"dtype\":\"float64\",\"shape\":[200]}},\"selected\":{\"id\":\"1314\",\"type\":\"Selection\"},\"selection_policy\":{\"id\":\"1315\",\"type\":\"UnionRenderers\"}},\"id\":\"1285\",\"type\":\"ColumnDataSource\"},{\"attributes\":{\"line_alpha\":0.1,\"line_color\":\"#1f77b4\",\"line_width\":2,\"x\":{\"field\":\"x\"},\"y\":{\"field\":\"y\"}},\"id\":\"1287\",\"type\":\"Line\"},{\"attributes\":{\"callback\":null},\"id\":\"1411\",\"type\":\"DataRange1d\"},{\"attributes\":{\"data_source\":{\"id\":\"1285\",\"type\":\"ColumnDataSource\"},\"glyph\":{\"id\":\"1286\",\"type\":\"Line\"},\"hover_glyph\":null,\"muted_glyph\":null,\"nonselection_glyph\":{\"id\":\"1287\",\"type\":\"Line\"},\"selection_glyph\":null,\"view\":{\"id\":\"1289\",\"type\":\"CDSView\"}},\"id\":\"1288\",\"type\":\"GlyphRenderer\"},{\"attributes\":{\"source\":{\"id\":\"1285\",\"type\":\"ColumnDataSource\"}},\"id\":\"1289\",\"type\":\"CDSView\"},{\"attributes\":{},\"id\":\"1297\",\"type\":\"Selection\"},{\"attributes\":{},\"id\":\"1298\",\"type\":\"UnionRenderers\"}],\"root_ids\":[\"1625\"]},\"title\":\"Bokeh Application\",\"version\":\"1.4.0\"}};\n",
       "  var render_items = [{\"docid\":\"6bbc79b5-6801-4c5f-8b4a-917aa22fd169\",\"roots\":{\"1625\":\"82dc4cc9-b767-4782-a768-de742e57619e\"}}];\n",
       "  root.Bokeh.embed.embed_items_notebook(docs_json, render_items);\n",
       "\n",
       "  }\n",
       "  if (root.Bokeh !== undefined) {\n",
       "    embed_document(root);\n",
       "  } else {\n",
       "    var attempts = 0;\n",
       "    var timer = setInterval(function(root) {\n",
       "      if (root.Bokeh !== undefined) {\n",
       "        clearInterval(timer);\n",
       "        embed_document(root);\n",
       "      } else {\n",
       "        attempts++;\n",
       "        if (attempts > 100) {\n",
       "          clearInterval(timer);\n",
       "          console.log(\"Bokeh: ERROR: Unable to run BokehJS code because BokehJS library is missing\");\n",
       "        }\n",
       "      }\n",
       "    }, 10, root)\n",
       "  }\n",
       "})(window);"
      ],
      "application/vnd.bokehjs_exec.v0+json": ""
     },
     "metadata": {
      "application/vnd.bokehjs_exec.v0+json": {
       "id": "1625"
      }
     },
     "output_type": "display_data"
    }
   ],
   "source": [
    "vm = MultiPlot()\n",
    "vm.add_plot(p)\n",
    "vm.add_plot(p2)\n",
    "m = vm.plot()\n",
    "show(m)"
   ]
  },
  {
   "cell_type": "markdown",
   "metadata": {
    "slideshow": {
     "slide_type": "subslide"
    }
   },
   "source": [
    "### Kertesz Threshold model\n",
    "\n",
    "The Kertesz Threshold model was introduced in 2015 by `Ruan` et al. [1] and it is an extension of the Watts threshold model [2].\n",
    "\n",
    "We set the initial infected as well blocked node sets equals to the 10% of the overall population, assign a threshold of 0.25 to all the nodes and impose an probability of spontaneous adoptions of 40%.\n",
    "\n",
    "- [1]\tZ. Ruan, G. In ̃iguez, M. Karsai, and J. Kertész, “Kinetics of social contagion,” Phys. Rev. Lett., vol. 115, p. 218702, Nov 2015.\n",
    "- [2]\tD.J. Watts, “A simple model of global cascades on random networks,” Proceedings of the National Academy of Sciences, vol. 99, no. 9, pp. 5766–5771, 2002."
   ]
  },
  {
   "cell_type": "code",
   "execution_count": 18,
   "metadata": {
    "ExecuteTime": {
     "end_time": "2020-08-02T06:43:28.695686Z",
     "start_time": "2020-08-02T06:43:27.593137Z"
    },
    "slideshow": {
     "slide_type": "subslide"
    }
   },
   "outputs": [
    {
     "name": "stderr",
     "output_type": "stream",
     "text": [
      "100%|██████████| 200/200 [00:00<00:00, 207.32it/s]\n"
     ]
    }
   ],
   "source": [
    "# Network topology\n",
    "g = nx.erdos_renyi_graph(1000, 0.1)\n",
    "\n",
    "# Model selection\n",
    "th_model = ep.KerteszThresholdModel(g)\n",
    "\n",
    "# Model Configuration\n",
    "config = mc.Configuration()\n",
    "config.add_model_parameter('adopter_rate', 0.4)\n",
    "config.add_model_parameter('percentage_blocked', 0.1)\n",
    "config.add_model_parameter('fraction_infected', 0.1)\n",
    "\n",
    "# Setting node parameters\n",
    "threshold = 0.25\n",
    "for i in g.nodes():\n",
    "    config.add_node_configuration(\"threshold\", i, threshold)\n",
    "\n",
    "th_model.set_initial_status(config)\n",
    "\n",
    "# Simulation execution\n",
    "iterations = th_model.iteration_bunch(200)"
   ]
  },
  {
   "cell_type": "code",
   "execution_count": 19,
   "metadata": {
    "ExecuteTime": {
     "end_time": "2020-08-02T06:43:42.346680Z",
     "start_time": "2020-08-02T06:43:42.248361Z"
    },
    "slideshow": {
     "slide_type": "subslide"
    }
   },
   "outputs": [
    {
     "data": {
      "text/html": [
       "\n",
       "    <div class=\"bk-root\">\n",
       "        <a href=\"https://bokeh.org\" target=\"_blank\" class=\"bk-logo bk-logo-small bk-logo-notebook\"></a>\n",
       "        <span id=\"2455\">Loading BokehJS ...</span>\n",
       "    </div>"
      ]
     },
     "metadata": {},
     "output_type": "display_data"
    },
    {
     "data": {
      "application/javascript": [
       "\n",
       "(function(root) {\n",
       "  function now() {\n",
       "    return new Date();\n",
       "  }\n",
       "\n",
       "  var force = true;\n",
       "\n",
       "  if (typeof root._bokeh_onload_callbacks === \"undefined\" || force === true) {\n",
       "    root._bokeh_onload_callbacks = [];\n",
       "    root._bokeh_is_loading = undefined;\n",
       "  }\n",
       "\n",
       "  var JS_MIME_TYPE = 'application/javascript';\n",
       "  var HTML_MIME_TYPE = 'text/html';\n",
       "  var EXEC_MIME_TYPE = 'application/vnd.bokehjs_exec.v0+json';\n",
       "  var CLASS_NAME = 'output_bokeh rendered_html';\n",
       "\n",
       "  /**\n",
       "   * Render data to the DOM node\n",
       "   */\n",
       "  function render(props, node) {\n",
       "    var script = document.createElement(\"script\");\n",
       "    node.appendChild(script);\n",
       "  }\n",
       "\n",
       "  /**\n",
       "   * Handle when an output is cleared or removed\n",
       "   */\n",
       "  function handleClearOutput(event, handle) {\n",
       "    var cell = handle.cell;\n",
       "\n",
       "    var id = cell.output_area._bokeh_element_id;\n",
       "    var server_id = cell.output_area._bokeh_server_id;\n",
       "    // Clean up Bokeh references\n",
       "    if (id != null && id in Bokeh.index) {\n",
       "      Bokeh.index[id].model.document.clear();\n",
       "      delete Bokeh.index[id];\n",
       "    }\n",
       "\n",
       "    if (server_id !== undefined) {\n",
       "      // Clean up Bokeh references\n",
       "      var cmd = \"from bokeh.io.state import curstate; print(curstate().uuid_to_server['\" + server_id + \"'].get_sessions()[0].document.roots[0]._id)\";\n",
       "      cell.notebook.kernel.execute(cmd, {\n",
       "        iopub: {\n",
       "          output: function(msg) {\n",
       "            var id = msg.content.text.trim();\n",
       "            if (id in Bokeh.index) {\n",
       "              Bokeh.index[id].model.document.clear();\n",
       "              delete Bokeh.index[id];\n",
       "            }\n",
       "          }\n",
       "        }\n",
       "      });\n",
       "      // Destroy server and session\n",
       "      var cmd = \"import bokeh.io.notebook as ion; ion.destroy_server('\" + server_id + \"')\";\n",
       "      cell.notebook.kernel.execute(cmd);\n",
       "    }\n",
       "  }\n",
       "\n",
       "  /**\n",
       "   * Handle when a new output is added\n",
       "   */\n",
       "  function handleAddOutput(event, handle) {\n",
       "    var output_area = handle.output_area;\n",
       "    var output = handle.output;\n",
       "\n",
       "    // limit handleAddOutput to display_data with EXEC_MIME_TYPE content only\n",
       "    if ((output.output_type != \"display_data\") || (!output.data.hasOwnProperty(EXEC_MIME_TYPE))) {\n",
       "      return\n",
       "    }\n",
       "\n",
       "    var toinsert = output_area.element.find(\".\" + CLASS_NAME.split(' ')[0]);\n",
       "\n",
       "    if (output.metadata[EXEC_MIME_TYPE][\"id\"] !== undefined) {\n",
       "      toinsert[toinsert.length - 1].firstChild.textContent = output.data[JS_MIME_TYPE];\n",
       "      // store reference to embed id on output_area\n",
       "      output_area._bokeh_element_id = output.metadata[EXEC_MIME_TYPE][\"id\"];\n",
       "    }\n",
       "    if (output.metadata[EXEC_MIME_TYPE][\"server_id\"] !== undefined) {\n",
       "      var bk_div = document.createElement(\"div\");\n",
       "      bk_div.innerHTML = output.data[HTML_MIME_TYPE];\n",
       "      var script_attrs = bk_div.children[0].attributes;\n",
       "      for (var i = 0; i < script_attrs.length; i++) {\n",
       "        toinsert[toinsert.length - 1].firstChild.setAttribute(script_attrs[i].name, script_attrs[i].value);\n",
       "      }\n",
       "      // store reference to server id on output_area\n",
       "      output_area._bokeh_server_id = output.metadata[EXEC_MIME_TYPE][\"server_id\"];\n",
       "    }\n",
       "  }\n",
       "\n",
       "  function register_renderer(events, OutputArea) {\n",
       "\n",
       "    function append_mime(data, metadata, element) {\n",
       "      // create a DOM node to render to\n",
       "      var toinsert = this.create_output_subarea(\n",
       "        metadata,\n",
       "        CLASS_NAME,\n",
       "        EXEC_MIME_TYPE\n",
       "      );\n",
       "      this.keyboard_manager.register_events(toinsert);\n",
       "      // Render to node\n",
       "      var props = {data: data, metadata: metadata[EXEC_MIME_TYPE]};\n",
       "      render(props, toinsert[toinsert.length - 1]);\n",
       "      element.append(toinsert);\n",
       "      return toinsert\n",
       "    }\n",
       "\n",
       "    /* Handle when an output is cleared or removed */\n",
       "    events.on('clear_output.CodeCell', handleClearOutput);\n",
       "    events.on('delete.Cell', handleClearOutput);\n",
       "\n",
       "    /* Handle when a new output is added */\n",
       "    events.on('output_added.OutputArea', handleAddOutput);\n",
       "\n",
       "    /**\n",
       "     * Register the mime type and append_mime function with output_area\n",
       "     */\n",
       "    OutputArea.prototype.register_mime_type(EXEC_MIME_TYPE, append_mime, {\n",
       "      /* Is output safe? */\n",
       "      safe: true,\n",
       "      /* Index of renderer in `output_area.display_order` */\n",
       "      index: 0\n",
       "    });\n",
       "  }\n",
       "\n",
       "  // register the mime type if in Jupyter Notebook environment and previously unregistered\n",
       "  if (root.Jupyter !== undefined) {\n",
       "    var events = require('base/js/events');\n",
       "    var OutputArea = require('notebook/js/outputarea').OutputArea;\n",
       "\n",
       "    if (OutputArea.prototype.mime_types().indexOf(EXEC_MIME_TYPE) == -1) {\n",
       "      register_renderer(events, OutputArea);\n",
       "    }\n",
       "  }\n",
       "\n",
       "  \n",
       "  if (typeof (root._bokeh_timeout) === \"undefined\" || force === true) {\n",
       "    root._bokeh_timeout = Date.now() + 5000;\n",
       "    root._bokeh_failed_load = false;\n",
       "  }\n",
       "\n",
       "  var NB_LOAD_WARNING = {'data': {'text/html':\n",
       "     \"<div style='background-color: #fdd'>\\n\"+\n",
       "     \"<p>\\n\"+\n",
       "     \"BokehJS does not appear to have successfully loaded. If loading BokehJS from CDN, this \\n\"+\n",
       "     \"may be due to a slow or bad network connection. Possible fixes:\\n\"+\n",
       "     \"</p>\\n\"+\n",
       "     \"<ul>\\n\"+\n",
       "     \"<li>re-rerun `output_notebook()` to attempt to load from CDN again, or</li>\\n\"+\n",
       "     \"<li>use INLINE resources instead, as so:</li>\\n\"+\n",
       "     \"</ul>\\n\"+\n",
       "     \"<code>\\n\"+\n",
       "     \"from bokeh.resources import INLINE\\n\"+\n",
       "     \"output_notebook(resources=INLINE)\\n\"+\n",
       "     \"</code>\\n\"+\n",
       "     \"</div>\"}};\n",
       "\n",
       "  function display_loaded() {\n",
       "    var el = document.getElementById(\"2455\");\n",
       "    if (el != null) {\n",
       "      el.textContent = \"BokehJS is loading...\";\n",
       "    }\n",
       "    if (root.Bokeh !== undefined) {\n",
       "      if (el != null) {\n",
       "        el.textContent = \"BokehJS \" + root.Bokeh.version + \" successfully loaded.\";\n",
       "      }\n",
       "    } else if (Date.now() < root._bokeh_timeout) {\n",
       "      setTimeout(display_loaded, 100)\n",
       "    }\n",
       "  }\n",
       "\n",
       "\n",
       "  function run_callbacks() {\n",
       "    try {\n",
       "      root._bokeh_onload_callbacks.forEach(function(callback) {\n",
       "        if (callback != null)\n",
       "          callback();\n",
       "      });\n",
       "    } finally {\n",
       "      delete root._bokeh_onload_callbacks\n",
       "    }\n",
       "    console.debug(\"Bokeh: all callbacks have finished\");\n",
       "  }\n",
       "\n",
       "  function load_libs(css_urls, js_urls, callback) {\n",
       "    if (css_urls == null) css_urls = [];\n",
       "    if (js_urls == null) js_urls = [];\n",
       "\n",
       "    root._bokeh_onload_callbacks.push(callback);\n",
       "    if (root._bokeh_is_loading > 0) {\n",
       "      console.debug(\"Bokeh: BokehJS is being loaded, scheduling callback at\", now());\n",
       "      return null;\n",
       "    }\n",
       "    if (js_urls == null || js_urls.length === 0) {\n",
       "      run_callbacks();\n",
       "      return null;\n",
       "    }\n",
       "    console.debug(\"Bokeh: BokehJS not loaded, scheduling load and callback at\", now());\n",
       "    root._bokeh_is_loading = css_urls.length + js_urls.length;\n",
       "\n",
       "    function on_load() {\n",
       "      root._bokeh_is_loading--;\n",
       "      if (root._bokeh_is_loading === 0) {\n",
       "        console.debug(\"Bokeh: all BokehJS libraries/stylesheets loaded\");\n",
       "        run_callbacks()\n",
       "      }\n",
       "    }\n",
       "\n",
       "    function on_error() {\n",
       "      console.error(\"failed to load \" + url);\n",
       "    }\n",
       "\n",
       "    for (var i = 0; i < css_urls.length; i++) {\n",
       "      var url = css_urls[i];\n",
       "      const element = document.createElement(\"link\");\n",
       "      element.onload = on_load;\n",
       "      element.onerror = on_error;\n",
       "      element.rel = \"stylesheet\";\n",
       "      element.type = \"text/css\";\n",
       "      element.href = url;\n",
       "      console.debug(\"Bokeh: injecting link tag for BokehJS stylesheet: \", url);\n",
       "      document.body.appendChild(element);\n",
       "    }\n",
       "\n",
       "    for (var i = 0; i < js_urls.length; i++) {\n",
       "      var url = js_urls[i];\n",
       "      var element = document.createElement('script');\n",
       "      element.onload = on_load;\n",
       "      element.onerror = on_error;\n",
       "      element.async = false;\n",
       "      element.src = url;\n",
       "      console.debug(\"Bokeh: injecting script tag for BokehJS library: \", url);\n",
       "      document.head.appendChild(element);\n",
       "    }\n",
       "  };var element = document.getElementById(\"2455\");\n",
       "  if (element == null) {\n",
       "    console.error(\"Bokeh: ERROR: autoload.js configured with elementid '2455' but no matching script tag was found. \")\n",
       "    return false;\n",
       "  }\n",
       "\n",
       "  function inject_raw_css(css) {\n",
       "    const element = document.createElement(\"style\");\n",
       "    element.appendChild(document.createTextNode(css));\n",
       "    document.body.appendChild(element);\n",
       "  }\n",
       "\n",
       "  \n",
       "  var js_urls = [\"https://cdn.pydata.org/bokeh/release/bokeh-1.4.0.min.js\", \"https://cdn.pydata.org/bokeh/release/bokeh-widgets-1.4.0.min.js\", \"https://cdn.pydata.org/bokeh/release/bokeh-tables-1.4.0.min.js\", \"https://cdn.pydata.org/bokeh/release/bokeh-gl-1.4.0.min.js\"];\n",
       "  var css_urls = [];\n",
       "  \n",
       "\n",
       "  var inline_js = [\n",
       "    function(Bokeh) {\n",
       "      Bokeh.set_log_level(\"info\");\n",
       "    },\n",
       "    function(Bokeh) {\n",
       "    \n",
       "    \n",
       "    }\n",
       "  ];\n",
       "\n",
       "  function run_inline_js() {\n",
       "    \n",
       "    if (root.Bokeh !== undefined || force === true) {\n",
       "      \n",
       "    for (var i = 0; i < inline_js.length; i++) {\n",
       "      inline_js[i].call(root, root.Bokeh);\n",
       "    }\n",
       "    if (force === true) {\n",
       "        display_loaded();\n",
       "      }} else if (Date.now() < root._bokeh_timeout) {\n",
       "      setTimeout(run_inline_js, 100);\n",
       "    } else if (!root._bokeh_failed_load) {\n",
       "      console.log(\"Bokeh: BokehJS failed to load within specified timeout.\");\n",
       "      root._bokeh_failed_load = true;\n",
       "    } else if (force !== true) {\n",
       "      var cell = $(document.getElementById(\"2455\")).parents('.cell').data().cell;\n",
       "      cell.output_area.append_execute_result(NB_LOAD_WARNING)\n",
       "    }\n",
       "\n",
       "  }\n",
       "\n",
       "  if (root._bokeh_is_loading === 0) {\n",
       "    console.debug(\"Bokeh: BokehJS loaded, going straight to plotting\");\n",
       "    run_inline_js();\n",
       "  } else {\n",
       "    load_libs(css_urls, js_urls, function() {\n",
       "      console.debug(\"Bokeh: BokehJS plotting callback run at\", now());\n",
       "      run_inline_js();\n",
       "    });\n",
       "  }\n",
       "}(window));"
      ],
      "application/vnd.bokehjs_load.v0+json": "\n(function(root) {\n  function now() {\n    return new Date();\n  }\n\n  var force = true;\n\n  if (typeof root._bokeh_onload_callbacks === \"undefined\" || force === true) {\n    root._bokeh_onload_callbacks = [];\n    root._bokeh_is_loading = undefined;\n  }\n\n  \n\n  \n  if (typeof (root._bokeh_timeout) === \"undefined\" || force === true) {\n    root._bokeh_timeout = Date.now() + 5000;\n    root._bokeh_failed_load = false;\n  }\n\n  var NB_LOAD_WARNING = {'data': {'text/html':\n     \"<div style='background-color: #fdd'>\\n\"+\n     \"<p>\\n\"+\n     \"BokehJS does not appear to have successfully loaded. If loading BokehJS from CDN, this \\n\"+\n     \"may be due to a slow or bad network connection. Possible fixes:\\n\"+\n     \"</p>\\n\"+\n     \"<ul>\\n\"+\n     \"<li>re-rerun `output_notebook()` to attempt to load from CDN again, or</li>\\n\"+\n     \"<li>use INLINE resources instead, as so:</li>\\n\"+\n     \"</ul>\\n\"+\n     \"<code>\\n\"+\n     \"from bokeh.resources import INLINE\\n\"+\n     \"output_notebook(resources=INLINE)\\n\"+\n     \"</code>\\n\"+\n     \"</div>\"}};\n\n  function display_loaded() {\n    var el = document.getElementById(\"2455\");\n    if (el != null) {\n      el.textContent = \"BokehJS is loading...\";\n    }\n    if (root.Bokeh !== undefined) {\n      if (el != null) {\n        el.textContent = \"BokehJS \" + root.Bokeh.version + \" successfully loaded.\";\n      }\n    } else if (Date.now() < root._bokeh_timeout) {\n      setTimeout(display_loaded, 100)\n    }\n  }\n\n\n  function run_callbacks() {\n    try {\n      root._bokeh_onload_callbacks.forEach(function(callback) {\n        if (callback != null)\n          callback();\n      });\n    } finally {\n      delete root._bokeh_onload_callbacks\n    }\n    console.debug(\"Bokeh: all callbacks have finished\");\n  }\n\n  function load_libs(css_urls, js_urls, callback) {\n    if (css_urls == null) css_urls = [];\n    if (js_urls == null) js_urls = [];\n\n    root._bokeh_onload_callbacks.push(callback);\n    if (root._bokeh_is_loading > 0) {\n      console.debug(\"Bokeh: BokehJS is being loaded, scheduling callback at\", now());\n      return null;\n    }\n    if (js_urls == null || js_urls.length === 0) {\n      run_callbacks();\n      return null;\n    }\n    console.debug(\"Bokeh: BokehJS not loaded, scheduling load and callback at\", now());\n    root._bokeh_is_loading = css_urls.length + js_urls.length;\n\n    function on_load() {\n      root._bokeh_is_loading--;\n      if (root._bokeh_is_loading === 0) {\n        console.debug(\"Bokeh: all BokehJS libraries/stylesheets loaded\");\n        run_callbacks()\n      }\n    }\n\n    function on_error() {\n      console.error(\"failed to load \" + url);\n    }\n\n    for (var i = 0; i < css_urls.length; i++) {\n      var url = css_urls[i];\n      const element = document.createElement(\"link\");\n      element.onload = on_load;\n      element.onerror = on_error;\n      element.rel = \"stylesheet\";\n      element.type = \"text/css\";\n      element.href = url;\n      console.debug(\"Bokeh: injecting link tag for BokehJS stylesheet: \", url);\n      document.body.appendChild(element);\n    }\n\n    for (var i = 0; i < js_urls.length; i++) {\n      var url = js_urls[i];\n      var element = document.createElement('script');\n      element.onload = on_load;\n      element.onerror = on_error;\n      element.async = false;\n      element.src = url;\n      console.debug(\"Bokeh: injecting script tag for BokehJS library: \", url);\n      document.head.appendChild(element);\n    }\n  };var element = document.getElementById(\"2455\");\n  if (element == null) {\n    console.error(\"Bokeh: ERROR: autoload.js configured with elementid '2455' but no matching script tag was found. \")\n    return false;\n  }\n\n  function inject_raw_css(css) {\n    const element = document.createElement(\"style\");\n    element.appendChild(document.createTextNode(css));\n    document.body.appendChild(element);\n  }\n\n  \n  var js_urls = [\"https://cdn.pydata.org/bokeh/release/bokeh-1.4.0.min.js\", \"https://cdn.pydata.org/bokeh/release/bokeh-widgets-1.4.0.min.js\", \"https://cdn.pydata.org/bokeh/release/bokeh-tables-1.4.0.min.js\", \"https://cdn.pydata.org/bokeh/release/bokeh-gl-1.4.0.min.js\"];\n  var css_urls = [];\n  \n\n  var inline_js = [\n    function(Bokeh) {\n      Bokeh.set_log_level(\"info\");\n    },\n    function(Bokeh) {\n    \n    \n    }\n  ];\n\n  function run_inline_js() {\n    \n    if (root.Bokeh !== undefined || force === true) {\n      \n    for (var i = 0; i < inline_js.length; i++) {\n      inline_js[i].call(root, root.Bokeh);\n    }\n    if (force === true) {\n        display_loaded();\n      }} else if (Date.now() < root._bokeh_timeout) {\n      setTimeout(run_inline_js, 100);\n    } else if (!root._bokeh_failed_load) {\n      console.log(\"Bokeh: BokehJS failed to load within specified timeout.\");\n      root._bokeh_failed_load = true;\n    } else if (force !== true) {\n      var cell = $(document.getElementById(\"2455\")).parents('.cell').data().cell;\n      cell.output_area.append_execute_result(NB_LOAD_WARNING)\n    }\n\n  }\n\n  if (root._bokeh_is_loading === 0) {\n    console.debug(\"Bokeh: BokehJS loaded, going straight to plotting\");\n    run_inline_js();\n  } else {\n    load_libs(css_urls, js_urls, function() {\n      console.debug(\"Bokeh: BokehJS plotting callback run at\", now());\n      run_inline_js();\n    });\n  }\n}(window));"
     },
     "metadata": {},
     "output_type": "display_data"
    },
    {
     "name": "stderr",
     "output_type": "stream",
     "text": [
      "BokehDeprecationWarning: 'legend' keyword is deprecated, use explicit 'legend_label', 'legend_field', or 'legend_group' keywords instead\n",
      "BokehDeprecationWarning: 'legend' keyword is deprecated, use explicit 'legend_label', 'legend_field', or 'legend_group' keywords instead\n",
      "BokehDeprecationWarning: 'legend' keyword is deprecated, use explicit 'legend_label', 'legend_field', or 'legend_group' keywords instead\n"
     ]
    },
    {
     "data": {
      "text/html": [
       "\n",
       "\n",
       "\n",
       "\n",
       "\n",
       "\n",
       "  <div class=\"bk-root\" id=\"0c599d0f-d482-4756-86d4-7fd57c14674a\" data-root-id=\"2456\"></div>\n"
      ]
     },
     "metadata": {},
     "output_type": "display_data"
    },
    {
     "data": {
      "application/javascript": [
       "(function(root) {\n",
       "  function embed_document(root) {\n",
       "    \n",
       "  var docs_json = {\"d0e616ad-7803-47b8-8f80-60c240c64391\":{\"roots\":{\"references\":[{\"attributes\":{\"below\":[{\"id\":\"2465\",\"type\":\"LinearAxis\"},{\"id\":\"2535\",\"type\":\"Title\"}],\"center\":[{\"id\":\"2469\",\"type\":\"Grid\"},{\"id\":\"2474\",\"type\":\"Grid\"},{\"id\":\"2500\",\"type\":\"Legend\"}],\"left\":[{\"id\":\"2470\",\"type\":\"LinearAxis\"}],\"plot_height\":400,\"plot_width\":400,\"renderers\":[{\"id\":\"2491\",\"type\":\"GlyphRenderer\"},{\"id\":\"2505\",\"type\":\"GlyphRenderer\"},{\"id\":\"2520\",\"type\":\"GlyphRenderer\"}],\"title\":{\"id\":\"2494\",\"type\":\"Title\"},\"toolbar\":{\"id\":\"2481\",\"type\":\"Toolbar\"},\"x_range\":{\"id\":\"2457\",\"type\":\"DataRange1d\"},\"x_scale\":{\"id\":\"2461\",\"type\":\"LinearScale\"},\"y_range\":{\"id\":\"2459\",\"type\":\"DataRange1d\"},\"y_scale\":{\"id\":\"2463\",\"type\":\"LinearScale\"}},\"id\":\"2456\",\"subtype\":\"Figure\",\"type\":\"Plot\"},{\"attributes\":{},\"id\":\"2497\",\"type\":\"BasicTickFormatter\"},{\"attributes\":{},\"id\":\"2463\",\"type\":\"LinearScale\"},{\"attributes\":{},\"id\":\"2646\",\"type\":\"UnionRenderers\"},{\"attributes\":{\"label\":{\"value\":\"Blocked\"},\"renderers\":[{\"id\":\"2520\",\"type\":\"GlyphRenderer\"}]},\"id\":\"2533\",\"type\":\"LegendItem\"},{\"attributes\":{\"text\":\"Kertesz Threhold - Diffusion Trend\"},\"id\":\"2494\",\"type\":\"Title\"},{\"attributes\":{\"grid_line_alpha\":0.5,\"ticker\":{\"id\":\"2466\",\"type\":\"BasicTicker\"}},\"id\":\"2469\",\"type\":\"Grid\"},{\"attributes\":{\"line_alpha\":0.5,\"line_color\":\"#ff7f0e\",\"line_width\":2,\"x\":{\"field\":\"x\"},\"y\":{\"field\":\"y\"}},\"id\":\"2518\",\"type\":\"Line\"},{\"attributes\":{},\"id\":\"2514\",\"type\":\"Selection\"},{\"attributes\":{},\"id\":\"2480\",\"type\":\"HelpTool\"},{\"attributes\":{},\"id\":\"2531\",\"type\":\"Selection\"},{\"attributes\":{\"dimension\":1,\"grid_line_alpha\":0.5,\"ticker\":{\"id\":\"2471\",\"type\":\"BasicTicker\"}},\"id\":\"2474\",\"type\":\"Grid\"},{\"attributes\":{},\"id\":\"2475\",\"type\":\"PanTool\"},{\"attributes\":{\"data_source\":{\"id\":\"2517\",\"type\":\"ColumnDataSource\"},\"glyph\":{\"id\":\"2518\",\"type\":\"Line\"},\"hover_glyph\":null,\"muted_glyph\":null,\"nonselection_glyph\":{\"id\":\"2519\",\"type\":\"Line\"},\"selection_glyph\":null,\"view\":{\"id\":\"2521\",\"type\":\"CDSView\"}},\"id\":\"2520\",\"type\":\"GlyphRenderer\"},{\"attributes\":{},\"id\":\"2471\",\"type\":\"BasicTicker\"},{\"attributes\":{\"source\":{\"id\":\"2502\",\"type\":\"ColumnDataSource\"}},\"id\":\"2506\",\"type\":\"CDSView\"},{\"attributes\":{\"callback\":null,\"data\":{\"x\":[0,1,2,3,4,5,6,7,8,9,10,11,12,13,14,15,16,17,18,19,20,21,22,23,24,25,26,27,28,29,30,31,32,33,34,35,36,37,38,39,40,41,42,43,44,45,46,47,48,49,50,51,52,53,54,55,56,57,58,59,60,61,62,63,64,65,66,67,68,69,70,71,72,73,74,75,76,77,78,79,80,81,82,83,84,85,86,87,88,89,90,91,92,93,94,95,96,97,98,99,100,101,102,103,104,105,106,107,108,109,110,111,112,113,114,115,116,117,118,119,120,121,122,123,124,125,126,127,128,129,130,131,132,133,134,135,136,137,138,139,140,141,142,143,144,145,146,147,148,149,150,151,152,153,154,155,156,157,158,159,160,161,162,163,164,165,166,167,168,169,170,171,172,173,174,175,176,177,178,179,180,181,182,183,184,185,186,187,188,189,190,191,192,193,194,195,196,197,198,199],\"y\":{\"__ndarray__\":\"mpmZmZmZuT+amZmZmZm5P5qZmZmZmbk/mpmZmZmZuT+amZmZmZm5P5qZmZmZmbk/mpmZmZmZuT+amZmZmZm5P5qZmZmZmbk/mpmZmZmZuT+amZmZmZm5P5qZmZmZmbk/mpmZmZmZuT+amZmZmZm5P5qZmZmZmbk/mpmZmZmZuT+amZmZmZm5P5qZmZmZmbk/mpmZmZmZuT+amZmZmZm5P5qZmZmZmbk/mpmZmZmZuT+amZmZmZm5P5qZmZmZmbk/mpmZmZmZuT+amZmZmZm5P5qZmZmZmbk/mpmZmZmZuT+amZmZmZm5P5qZmZmZmbk/mpmZmZmZuT+amZmZmZm5P5qZmZmZmbk/mpmZmZmZuT+amZmZmZm5P5qZmZmZmbk/mpmZmZmZuT+amZmZmZm5P5qZmZmZmbk/mpmZmZmZuT+amZmZmZm5P5qZmZmZmbk/mpmZmZmZuT+amZmZmZm5P5qZmZmZmbk/mpmZmZmZuT+amZmZmZm5P5qZmZmZmbk/mpmZmZmZuT+amZmZmZm5P5qZmZmZmbk/mpmZmZmZuT+amZmZmZm5P5qZmZmZmbk/mpmZmZmZuT+amZmZmZm5P5qZmZmZmbk/mpmZmZmZuT+amZmZmZm5P5qZmZmZmbk/mpmZmZmZuT+amZmZmZm5P5qZmZmZmbk/mpmZmZmZuT+amZmZmZm5P5qZmZmZmbk/mpmZmZmZuT+amZmZmZm5P5qZmZmZmbk/mpmZmZmZuT+amZmZmZm5P5qZmZmZmbk/mpmZmZmZuT+amZmZmZm5P5qZmZmZmbk/mpmZmZmZuT+amZmZmZm5P5qZmZmZmbk/mpmZmZmZuT+amZmZmZm5P5qZmZmZmbk/mpmZmZmZuT+amZmZmZm5P5qZmZmZmbk/mpmZmZmZuT+amZmZmZm5P5qZmZmZmbk/mpmZmZmZuT+amZmZmZm5P5qZmZmZmbk/mpmZmZmZuT+amZmZmZm5P5qZmZmZmbk/mpmZmZmZuT+amZmZmZm5P5qZmZmZmbk/mpmZmZmZuT+amZmZmZm5P5qZmZmZmbk/mpmZmZmZuT+amZmZmZm5P5qZmZmZmbk/mpmZmZmZuT+amZmZmZm5P5qZmZmZmbk/mpmZmZmZuT+amZmZmZm5P5qZmZmZmbk/mpmZmZmZuT+amZmZmZm5P5qZmZmZmbk/mpmZmZmZuT+amZmZmZm5P5qZmZmZmbk/mpmZmZmZuT+amZmZmZm5P5qZmZmZmbk/mpmZmZmZuT+amZmZmZm5P5qZmZmZmbk/mpmZmZmZuT+amZmZmZm5P5qZmZmZmbk/mpmZmZmZuT+amZmZmZm5P5qZmZmZmbk/mpmZmZmZuT+amZmZmZm5P5qZmZmZmbk/mpmZmZmZuT+amZmZmZm5P5qZmZmZmbk/mpmZmZmZuT+amZmZmZm5P5qZmZmZmbk/mpmZmZmZuT+amZmZmZm5P5qZmZmZmbk/mpmZmZmZuT+amZmZmZm5P5qZmZmZmbk/mpmZmZmZuT+amZmZmZm5P5qZmZmZmbk/mpmZmZmZuT+amZmZmZm5P5qZmZmZmbk/mpmZmZmZuT+amZmZmZm5P5qZmZmZmbk/mpmZmZmZuT+amZmZmZm5P5qZmZmZmbk/mpmZmZmZuT+amZmZmZm5P5qZmZmZmbk/mpmZmZmZuT+amZmZmZm5P5qZmZmZmbk/mpmZmZmZuT+amZmZmZm5P5qZmZmZmbk/mpmZmZmZuT+amZmZmZm5P5qZmZmZmbk/mpmZmZmZuT+amZmZmZm5P5qZmZmZmbk/mpmZmZmZuT+amZmZmZm5P5qZmZmZmbk/mpmZmZmZuT+amZmZmZm5P5qZmZmZmbk/mpmZmZmZuT+amZmZmZm5P5qZmZmZmbk/mpmZmZmZuT+amZmZmZm5P5qZmZmZmbk/mpmZmZmZuT+amZmZmZm5P5qZmZmZmbk/mpmZmZmZuT+amZmZmZm5P5qZmZmZmbk/mpmZmZmZuT+amZmZmZm5P5qZmZmZmbk/mpmZmZmZuT+amZmZmZm5P5qZmZmZmbk/mpmZmZmZuT+amZmZmZm5P5qZmZmZmbk/mpmZmZmZuT+amZmZmZm5P5qZmZmZmbk/mpmZmZmZuT+amZmZmZm5Pw==\",\"dtype\":\"float64\",\"shape\":[200]}},\"selected\":{\"id\":\"2645\",\"type\":\"Selection\"},\"selection_policy\":{\"id\":\"2646\",\"type\":\"UnionRenderers\"}},\"id\":\"2517\",\"type\":\"ColumnDataSource\"},{\"attributes\":{},\"id\":\"2479\",\"type\":\"ResetTool\"},{\"attributes\":{\"align\":\"center\",\"text\":\"adopter rate: 0.4, percentage blocked: 0.1, fraction infected: 0.1\"},\"id\":\"2535\",\"type\":\"Title\"},{\"attributes\":{\"source\":{\"id\":\"2488\",\"type\":\"ColumnDataSource\"}},\"id\":\"2492\",\"type\":\"CDSView\"},{\"attributes\":{\"overlay\":{\"id\":\"2499\",\"type\":\"BoxAnnotation\"}},\"id\":\"2477\",\"type\":\"BoxZoomTool\"},{\"attributes\":{\"line_alpha\":0.5,\"line_color\":\"#aec7e8\",\"line_width\":2,\"x\":{\"field\":\"x\"},\"y\":{\"field\":\"y\"}},\"id\":\"2503\",\"type\":\"Line\"},{\"attributes\":{\"line_alpha\":0.1,\"line_color\":\"#1f77b4\",\"line_width\":2,\"x\":{\"field\":\"x\"},\"y\":{\"field\":\"y\"}},\"id\":\"2519\",\"type\":\"Line\"},{\"attributes\":{\"axis_label\":\"Iterations\",\"formatter\":{\"id\":\"2495\",\"type\":\"BasicTickFormatter\"},\"ticker\":{\"id\":\"2466\",\"type\":\"BasicTicker\"}},\"id\":\"2465\",\"type\":\"LinearAxis\"},{\"attributes\":{\"axis_label\":\"#Nodes\",\"formatter\":{\"id\":\"2497\",\"type\":\"BasicTickFormatter\"},\"ticker\":{\"id\":\"2471\",\"type\":\"BasicTicker\"}},\"id\":\"2470\",\"type\":\"LinearAxis\"},{\"attributes\":{\"callback\":null,\"data\":{\"x\":[0,1,2,3,4,5,6,7,8,9,10,11,12,13,14,15,16,17,18,19,20,21,22,23,24,25,26,27,28,29,30,31,32,33,34,35,36,37,38,39,40,41,42,43,44,45,46,47,48,49,50,51,52,53,54,55,56,57,58,59,60,61,62,63,64,65,66,67,68,69,70,71,72,73,74,75,76,77,78,79,80,81,82,83,84,85,86,87,88,89,90,91,92,93,94,95,96,97,98,99,100,101,102,103,104,105,106,107,108,109,110,111,112,113,114,115,116,117,118,119,120,121,122,123,124,125,126,127,128,129,130,131,132,133,134,135,136,137,138,139,140,141,142,143,144,145,146,147,148,149,150,151,152,153,154,155,156,157,158,159,160,161,162,163,164,165,166,167,168,169,170,171,172,173,174,175,176,177,178,179,180,181,182,183,184,185,186,187,188,189,190,191,192,193,194,195,196,197,198,199],\"y\":{\"__ndarray__\":\"mpmZmZmZ6T9zaJHtfD/dPwAAAAAAAAAAAAAAAAAAAAAAAAAAAAAAAAAAAAAAAAAAAAAAAAAAAAAAAAAAAAAAAAAAAAAAAAAAAAAAAAAAAAAAAAAAAAAAAAAAAAAAAAAAAAAAAAAAAAAAAAAAAAAAAAAAAAAAAAAAAAAAAAAAAAAAAAAAAAAAAAAAAAAAAAAAAAAAAAAAAAAAAAAAAAAAAAAAAAAAAAAAAAAAAAAAAAAAAAAAAAAAAAAAAAAAAAAAAAAAAAAAAAAAAAAAAAAAAAAAAAAAAAAAAAAAAAAAAAAAAAAAAAAAAAAAAAAAAAAAAAAAAAAAAAAAAAAAAAAAAAAAAAAAAAAAAAAAAAAAAAAAAAAAAAAAAAAAAAAAAAAAAAAAAAAAAAAAAAAAAAAAAAAAAAAAAAAAAAAAAAAAAAAAAAAAAAAAAAAAAAAAAAAAAAAAAAAAAAAAAAAAAAAAAAAAAAAAAAAAAAAAAAAAAAAAAAAAAAAAAAAAAAAAAAAAAAAAAAAAAAAAAAAAAAAAAAAAAAAAAAAAAAAAAAAAAAAAAAAAAAAAAAAAAAAAAAAAAAAAAAAAAAAAAAAAAAAAAAAAAAAAAAAAAAAAAAAAAAAAAAAAAAAAAAAAAAAAAAAAAAAAAAAAAAAAAAAAAAAAAAAAAAAAAAAAAAAAAAAAAAAAAAAAAAAAAAAAAAAAAAAAAAAAAAAAAAAAAAAAAAAAAAAAAAAAAAAAAAAAAAAAAAAAAAAAAAAAAAAAAAAAAAAAAAAAAAAAAAAAAAAAAAAAAAAAAAAAAAAAAAAAAAAAAAAAAAAAAAAAAAAAAAAAAAAAAAAAAAAAAAAAAAAAAAAAAAAAAAAAAAAAAAAAAAAAAAAAAAAAAAAAAAAAAAAAAAAAAAAAAAAAAAAAAAAAAAAAAAAAAAAAAAAAAAAAAAAAAAAAAAAAAAAAAAAAAAAAAAAAAAAAAAAAAAAAAAAAAAAAAAAAAAAAAAAAAAAAAAAAAAAAAAAAAAAAAAAAAAAAAAAAAAAAAAAAAAAAAAAAAAAAAAAAAAAAAAAAAAAAAAAAAAAAAAAAAAAAAAAAAAAAAAAAAAAAAAAAAAAAAAAAAAAAAAAAAAAAAAAAAAAAAAAAAAAAAAAAAAAAAAAAAAAAAAAAAAAAAAAAAAAAAAAAAAAAAAAAAAAAAAAAAAAAAAAAAAAAAAAAAAAAAAAAAAAAAAAAAAAAAAAAAAAAAAAAAAAAAAAAAAAAAAAAAAAAAAAAAAAAAAAAAAAAAAAAAAAAAAAAAAAAAAAAAAAAAAAAAAAAAAAAAAAAAAAAAAAAAAAAAAAAAAAAAAAAAAAAAAAAAAAAAAAAAAAAAAAAAAAAAAAAAAAAAAAAAAAAAAAAAAAAAAAAAAAAAAAAAAAAAAAAAAAAAAAAAAAAAAAAAAAAAAAAAAAAAAAAAAAAAAAAAAAAAAAAAAAAAAAAAAAAAAAAAAAAAAAAAAAAAAAAAAAAAAAAAAAAAAAAAAAAAAAAAAAAAAAAAAAAAAAAAAAAAAAAAAAAAAAAAAAAAAAAAAAAAAAAAAAAAAAAAAAAAAAAAAAAAAAAAAAAAAAAAAAAAAAAAAAAAAAAAAAAAAAAAAAAAAAAAAAAAAAAAAAAAAAAAAAAAAAAAAAAAAAAAAAAAAAAAAAAAAAAAAAAAAAAAAAAAAAAAAAAAAAAAAAAAAAAAAAAAAAAAAAAAAAAAAAAAAAAAAAAAAAAAAAAAAAAAAAAAAAAAAAAAAAAAAAAAAAAAAAAAAAAAAAAAAAAAAAAAAAAAAAAAAAAAAAAAAAAAAAAAAAAAAAAAAAAAAAAAAAAAAAAAAAAAAAAAAAAAAAAAAAAAAAAAAAAAAAAAAAAAAAAAAAAAAAAAAAAAAAAAAAAAAAAAAAAAAAAAAAAAAAAAAAAAAAAAAAAAAAAAAAAAAAAAAAAAAAAAAAAAAAAAAAAAAAAAAAAAAAAAAAAAAAAAAAAAAAAAAAAAAAAAAAAAAAAAAAAAAAAAAAAAAAAAAAAAAAAAAAAAAAAAAAAAAAAAAAAAAAAAAAAAAAAAAAAAAAAAAAAAAAAAAAAAAAAAAAAAAAAAAAAAAAAAAAAAAAAAAAAAAAAAAAAAAAAAAAAAAAAAAAAAA==\",\"dtype\":\"float64\",\"shape\":[200]}},\"selected\":{\"id\":\"2514\",\"type\":\"Selection\"},\"selection_policy\":{\"id\":\"2515\",\"type\":\"UnionRenderers\"}},\"id\":\"2488\",\"type\":\"ColumnDataSource\"},{\"attributes\":{\"bottom_units\":\"screen\",\"fill_alpha\":{\"value\":0.5},\"fill_color\":{\"value\":\"lightgrey\"},\"left_units\":\"screen\",\"level\":\"overlay\",\"line_alpha\":{\"value\":1.0},\"line_color\":{\"value\":\"black\"},\"line_dash\":[4,4],\"line_width\":{\"value\":2},\"render_mode\":\"css\",\"right_units\":\"screen\",\"top_units\":\"screen\"},\"id\":\"2499\",\"type\":\"BoxAnnotation\"},{\"attributes\":{},\"id\":\"2645\",\"type\":\"Selection\"},{\"attributes\":{},\"id\":\"2466\",\"type\":\"BasicTicker\"},{\"attributes\":{\"items\":[{\"id\":\"2501\",\"type\":\"LegendItem\"},{\"id\":\"2516\",\"type\":\"LegendItem\"},{\"id\":\"2533\",\"type\":\"LegendItem\"}],\"orientation\":\"horizontal\"},\"id\":\"2500\",\"type\":\"Legend\"},{\"attributes\":{\"callback\":null,\"data\":{\"x\":[0,1,2,3,4,5,6,7,8,9,10,11,12,13,14,15,16,17,18,19,20,21,22,23,24,25,26,27,28,29,30,31,32,33,34,35,36,37,38,39,40,41,42,43,44,45,46,47,48,49,50,51,52,53,54,55,56,57,58,59,60,61,62,63,64,65,66,67,68,69,70,71,72,73,74,75,76,77,78,79,80,81,82,83,84,85,86,87,88,89,90,91,92,93,94,95,96,97,98,99,100,101,102,103,104,105,106,107,108,109,110,111,112,113,114,115,116,117,118,119,120,121,122,123,124,125,126,127,128,129,130,131,132,133,134,135,136,137,138,139,140,141,142,143,144,145,146,147,148,149,150,151,152,153,154,155,156,157,158,159,160,161,162,163,164,165,166,167,168,169,170,171,172,173,174,175,176,177,178,179,180,181,182,183,184,185,186,187,188,189,190,191,192,193,194,195,196,197,198,199],\"y\":{\"__ndarray__\":\"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\",\"dtype\":\"float64\",\"shape\":[200]}},\"selected\":{\"id\":\"2531\",\"type\":\"Selection\"},\"selection_policy\":{\"id\":\"2532\",\"type\":\"UnionRenderers\"}},\"id\":\"2502\",\"type\":\"ColumnDataSource\"},{\"attributes\":{},\"id\":\"2478\",\"type\":\"SaveTool\"},{\"attributes\":{\"line_alpha\":0.1,\"line_color\":\"#1f77b4\",\"line_width\":2,\"x\":{\"field\":\"x\"},\"y\":{\"field\":\"y\"}},\"id\":\"2490\",\"type\":\"Line\"},{\"attributes\":{},\"id\":\"2515\",\"type\":\"UnionRenderers\"},{\"attributes\":{\"label\":{\"value\":\"Infected\"},\"renderers\":[{\"id\":\"2505\",\"type\":\"GlyphRenderer\"}]},\"id\":\"2516\",\"type\":\"LegendItem\"},{\"attributes\":{},\"id\":\"2476\",\"type\":\"WheelZoomTool\"},{\"attributes\":{},\"id\":\"2495\",\"type\":\"BasicTickFormatter\"},{\"attributes\":{},\"id\":\"2532\",\"type\":\"UnionRenderers\"},{\"attributes\":{},\"id\":\"2461\",\"type\":\"LinearScale\"},{\"attributes\":{\"callback\":null},\"id\":\"2459\",\"type\":\"DataRange1d\"},{\"attributes\":{\"label\":{\"value\":\"Susceptible\"},\"renderers\":[{\"id\":\"2491\",\"type\":\"GlyphRenderer\"}]},\"id\":\"2501\",\"type\":\"LegendItem\"},{\"attributes\":{\"source\":{\"id\":\"2517\",\"type\":\"ColumnDataSource\"}},\"id\":\"2521\",\"type\":\"CDSView\"},{\"attributes\":{\"line_alpha\":0.5,\"line_color\":\"#1f77b4\",\"line_width\":2,\"x\":{\"field\":\"x\"},\"y\":{\"field\":\"y\"}},\"id\":\"2489\",\"type\":\"Line\"},{\"attributes\":{\"callback\":null},\"id\":\"2457\",\"type\":\"DataRange1d\"},{\"attributes\":{\"line_alpha\":0.1,\"line_color\":\"#1f77b4\",\"line_width\":2,\"x\":{\"field\":\"x\"},\"y\":{\"field\":\"y\"}},\"id\":\"2504\",\"type\":\"Line\"},{\"attributes\":{\"data_source\":{\"id\":\"2488\",\"type\":\"ColumnDataSource\"},\"glyph\":{\"id\":\"2489\",\"type\":\"Line\"},\"hover_glyph\":null,\"muted_glyph\":null,\"nonselection_glyph\":{\"id\":\"2490\",\"type\":\"Line\"},\"selection_glyph\":null,\"view\":{\"id\":\"2492\",\"type\":\"CDSView\"}},\"id\":\"2491\",\"type\":\"GlyphRenderer\"},{\"attributes\":{\"data_source\":{\"id\":\"2502\",\"type\":\"ColumnDataSource\"},\"glyph\":{\"id\":\"2503\",\"type\":\"Line\"},\"hover_glyph\":null,\"muted_glyph\":null,\"nonselection_glyph\":{\"id\":\"2504\",\"type\":\"Line\"},\"selection_glyph\":null,\"view\":{\"id\":\"2506\",\"type\":\"CDSView\"}},\"id\":\"2505\",\"type\":\"GlyphRenderer\"},{\"attributes\":{\"active_drag\":\"auto\",\"active_inspect\":\"auto\",\"active_multi\":null,\"active_scroll\":\"auto\",\"active_tap\":\"auto\",\"tools\":[{\"id\":\"2475\",\"type\":\"PanTool\"},{\"id\":\"2476\",\"type\":\"WheelZoomTool\"},{\"id\":\"2477\",\"type\":\"BoxZoomTool\"},{\"id\":\"2478\",\"type\":\"SaveTool\"},{\"id\":\"2479\",\"type\":\"ResetTool\"},{\"id\":\"2480\",\"type\":\"HelpTool\"}]},\"id\":\"2481\",\"type\":\"Toolbar\"}],\"root_ids\":[\"2456\"]},\"title\":\"Bokeh Application\",\"version\":\"1.4.0\"}};\n",
       "  var render_items = [{\"docid\":\"d0e616ad-7803-47b8-8f80-60c240c64391\",\"roots\":{\"2456\":\"0c599d0f-d482-4756-86d4-7fd57c14674a\"}}];\n",
       "  root.Bokeh.embed.embed_items_notebook(docs_json, render_items);\n",
       "\n",
       "  }\n",
       "  if (root.Bokeh !== undefined) {\n",
       "    embed_document(root);\n",
       "  } else {\n",
       "    var attempts = 0;\n",
       "    var timer = setInterval(function(root) {\n",
       "      if (root.Bokeh !== undefined) {\n",
       "        clearInterval(timer);\n",
       "        embed_document(root);\n",
       "      } else {\n",
       "        attempts++;\n",
       "        if (attempts > 100) {\n",
       "          clearInterval(timer);\n",
       "          console.log(\"Bokeh: ERROR: Unable to run BokehJS code because BokehJS library is missing\");\n",
       "        }\n",
       "      }\n",
       "    }, 10, root)\n",
       "  }\n",
       "})(window);"
      ],
      "application/vnd.bokehjs_exec.v0+json": ""
     },
     "metadata": {
      "application/vnd.bokehjs_exec.v0+json": {
       "id": "2456"
      }
     },
     "output_type": "display_data"
    }
   ],
   "source": [
    "output_notebook() # show bokeh in notebook\n",
    "\n",
    "trends = th_model.build_trends(iterations)\n",
    "\n",
    "viz = DiffusionTrend(th_model, trends)\n",
    "p = viz.plot(width=400, height=400)\n",
    "show(p)"
   ]
  },
  {
   "cell_type": "code",
   "execution_count": 20,
   "metadata": {
    "ExecuteTime": {
     "end_time": "2020-08-02T06:44:51.346018Z",
     "start_time": "2020-08-02T06:44:51.263002Z"
    },
    "slideshow": {
     "slide_type": "subslide"
    }
   },
   "outputs": [
    {
     "name": "stderr",
     "output_type": "stream",
     "text": [
      "BokehDeprecationWarning: 'legend' keyword is deprecated, use explicit 'legend_label', 'legend_field', or 'legend_group' keywords instead\n",
      "BokehDeprecationWarning: 'legend' keyword is deprecated, use explicit 'legend_label', 'legend_field', or 'legend_group' keywords instead\n",
      "BokehDeprecationWarning: 'legend' keyword is deprecated, use explicit 'legend_label', 'legend_field', or 'legend_group' keywords instead\n"
     ]
    },
    {
     "data": {
      "text/html": [
       "\n",
       "\n",
       "\n",
       "\n",
       "\n",
       "\n",
       "  <div class=\"bk-root\" id=\"8f6f8a05-7834-4101-952c-92cb4ab0e166\" data-root-id=\"2725\"></div>\n"
      ]
     },
     "metadata": {},
     "output_type": "display_data"
    },
    {
     "data": {
      "application/javascript": [
       "(function(root) {\n",
       "  function embed_document(root) {\n",
       "    \n",
       "  var docs_json = {\"91eeb6a2-ff57-4165-a6cc-dadd885d0be7\":{\"roots\":{\"references\":[{\"attributes\":{\"below\":[{\"id\":\"2734\",\"type\":\"LinearAxis\"},{\"id\":\"2804\",\"type\":\"Title\"}],\"center\":[{\"id\":\"2738\",\"type\":\"Grid\"},{\"id\":\"2743\",\"type\":\"Grid\"},{\"id\":\"2769\",\"type\":\"Legend\"}],\"left\":[{\"id\":\"2739\",\"type\":\"LinearAxis\"}],\"plot_height\":400,\"plot_width\":400,\"renderers\":[{\"id\":\"2760\",\"type\":\"GlyphRenderer\"},{\"id\":\"2774\",\"type\":\"GlyphRenderer\"},{\"id\":\"2789\",\"type\":\"GlyphRenderer\"}],\"title\":{\"id\":\"2763\",\"type\":\"Title\"},\"toolbar\":{\"id\":\"2750\",\"type\":\"Toolbar\"},\"x_range\":{\"id\":\"2726\",\"type\":\"DataRange1d\"},\"x_scale\":{\"id\":\"2730\",\"type\":\"LinearScale\"},\"y_range\":{\"id\":\"2728\",\"type\":\"DataRange1d\"},\"y_scale\":{\"id\":\"2732\",\"type\":\"LinearScale\"}},\"id\":\"2725\",\"subtype\":\"Figure\",\"type\":\"Plot\"},{\"attributes\":{\"axis_label\":\"Iterations\",\"formatter\":{\"id\":\"2764\",\"type\":\"BasicTickFormatter\"},\"ticker\":{\"id\":\"2735\",\"type\":\"BasicTicker\"}},\"id\":\"2734\",\"type\":\"LinearAxis\"},{\"attributes\":{},\"id\":\"2749\",\"type\":\"HelpTool\"},{\"attributes\":{\"source\":{\"id\":\"2757\",\"type\":\"ColumnDataSource\"}},\"id\":\"2761\",\"type\":\"CDSView\"},{\"attributes\":{\"text\":\"Kertesz Threhold - Prevalence\"},\"id\":\"2763\",\"type\":\"Title\"},{\"attributes\":{\"data_source\":{\"id\":\"2757\",\"type\":\"ColumnDataSource\"},\"glyph\":{\"id\":\"2758\",\"type\":\"Line\"},\"hover_glyph\":null,\"muted_glyph\":null,\"nonselection_glyph\":{\"id\":\"2759\",\"type\":\"Line\"},\"selection_glyph\":null,\"view\":{\"id\":\"2761\",\"type\":\"CDSView\"}},\"id\":\"2760\",\"type\":\"GlyphRenderer\"},{\"attributes\":{\"callback\":null,\"data\":{\"x\":[0,1,2,3,4,5,6,7,8,9,10,11,12,13,14,15,16,17,18,19,20,21,22,23,24,25,26,27,28,29,30,31,32,33,34,35,36,37,38,39,40,41,42,43,44,45,46,47,48,49,50,51,52,53,54,55,56,57,58,59,60,61,62,63,64,65,66,67,68,69,70,71,72,73,74,75,76,77,78,79,80,81,82,83,84,85,86,87,88,89,90,91,92,93,94,95,96,97,98,99,100,101,102,103,104,105,106,107,108,109,110,111,112,113,114,115,116,117,118,119,120,121,122,123,124,125,126,127,128,129,130,131,132,133,134,135,136,137,138,139,140,141,142,143,144,145,146,147,148,149,150,151,152,153,154,155,156,157,158,159,160,161,162,163,164,165,166,167,168,169,170,171,172,173,174,175,176,177,178,179,180,181,182,183,184,185,186,187,188,189,190,191,192,193,194,195,196,197,198,199],\"y\":{\"__ndarray__\":\"AAAAAAAAAAAAAAAAAHB1QAAAAAAAkHxAAAAAAAAAAAAAAAAAAAAAAAAAAAAAAAAAAAAAAAAAAAAAAAAAAAAAAAAAAAAAAAAAAAAAAAAAAAAAAAAAAAAAAAAAAAAAAAAAAAAAAAAAAAAAAAAAAAAAAAAAAAAAAAAAAAAAAAAAAAAAAAAAAAAAAAAAAAAAAAAAAAAAAAAAAAAAAAAAAAAAAAAAAAAAAAAAAAAAAAAAAAAAAAAAAAAAAAAAAAAAAAAAAAAAAAAAAAAAAAAAAAAAAAAAAAAAAAAAAAAAAAAAAAAAAAAAAAAAAAAAAAAAAAAAAAAAAAAAAAAAAAAAAAAAAAAAAAAAAAAAAAAAAAAAAAAAAAAAAAAAAAAAAAAAAAAAAAAAAAAAAAAAAAAAAAAAAAAAAAAAAAAAAAAAAAAAAAAAAAAAAAAAAAAAAAAAAAAAAAAAAAAAAAAAAAAAAAAAAAAAAAAAAAAAAAAAAAAAAAAAAAAAAAAAAAAAAAAAAAAAAAAAAAAAAAAAAAAAAAAAAAAAAAAAAAAAAAAAAAAAAAAAAAAAAAAAAAAAAAAAAAAAAAAAAAAAAAAAAAAAAAAAAAAAAAAAAAAAAAAAAAAAAAAAAAAAAAAAAAAAAAAAAAAAAAAAAAAAAAAAAAAAAAAAAAAAAAAAAAAAAAAAAAAAAAAAAAAAAAAAAAAAAAAAAAAAAAAAAAAAAAAAAAAAAAAAAAAAAAAAAAAAAAAAAAAAAAAAAAAAAAAAAAAAAAAAAAAAAAAAAAAAAAAAAAAAAAAAAAAAAAAAAAAAAAAAAAAAAAAAAAAAAAAAAAAAAAAAAAAAAAAAAAAAAAAAAAAAAAAAAAAAAAAAAAAAAAAAAAAAAAAAAAAAAAAAAAAAAAAAAAAAAAAAAAAAAAAAAAAAAAAAAAAAAAAAAAAAAAAAAAAAAAAAAAAAAAAAAAAAAAAAAAAAAAAAAAAAAAAAAAAAAAAAAAAAAAAAAAAAAAAAAAAAAAAAAAAAAAAAAAAAAAAAAAAAAAAAAAAAAAAAAAAAAAAAAAAAAAAAAAAAAAAAAAAAAAAAAAAAAAAAAAAAAAAAAAAAAAAAAAAAAAAAAAAAAAAAAAAAAAAAAAAAAAAAAAAAAAAAAAAAAAAAAAAAAAAAAAAAAAAAAAAAAAAAAAAAAAAAAAAAAAAAAAAAAAAAAAAAAAAAAAAAAAAAAAAAAAAAAAAAAAAAAAAAAAAAAAAAAAAAAAAAAAAAAAAAAAAAAAAAAAAAAAAAAAAAAAAAAAAAAAAAAAAAAAAAAAAAAAAAAAAAAAAAAAAAAAAAAAAAAAAAAAAAAAAAAAAAAAAAAAAAAAAAAAAAAAAAAAAAAAAAAAAAAAAAAAAAAAAAAAAAAAAAAAAAAAAAAAAAAAAAAAAAAAAAAAAAAAAAAAAAAAAAAAAAAAAAAAAAAAAAAAAAAAAAAAAAAAAAAAAAAAAAAAAAAAAAAAAAAAAAAAAAAAAAAAAAAAAAAAAAAAAAAAAAAAAAAAAAAAAAAAAAAAAAAAAAAAAAAAAAAAAAAAAAAAAAAAAAAAAAAAAAAAAAAAAAAAAAAAAAAAAAAAAAAAAAAAAAAAAAAAAAAAAAAAAAAAAAAAAAAAAAAAAAAAAAAAAAAAAAAAAAAAAAAAAAAAAAAAAAAAAAAAAAAAAAAAAAAAAAAAAAAAAAAAAAAAAAAAAAAAAAAAAAAAAAAAAAAAAAAAAAAAAAAAAAAAAAAAAAAAAAAAAAAAAAAAAAAAAAAAAAAAAAAAAAAAAAAAAAAAAAAAAAAAAAAAAAAAAAAAAAAAAAAAAAAAAAAAAAAAAAAAAAAAAAAAAAAAAAAAAAAAAAAAAAAAAAAAAAAAAAAAAAAAAAAAAAAAAAAAAAAAAAAAAAAAAAAAAAAAAAAAAAAAAAAAAAAAAAAAAAAAAAAAAAAAAAAAAAAAAAAAAAAAAAAAAAAAAAAAAAAAAAAAAAAAAAAAAAAAAAAAAAAAAAAAAAAAAAAAAAAAAAAAAAAAAAAAAAAAAAAAAAAAAAAAAAAAAAAAAAAAAAAAAAAAAAAAAAAAAAAAAAAAAAAAAAAAAAAAAAAAAAAAAAAAAAAAAAAAAAAAAAAAAAAAAAAAAAAAAAAAAAAAAAAA==\",\"dtype\":\"float64\",\"shape\":[200]}},\"selected\":{\"id\":\"2800\",\"type\":\"Selection\"},\"selection_policy\":{\"id\":\"2801\",\"type\":\"UnionRenderers\"}},\"id\":\"2771\",\"type\":\"ColumnDataSource\"},{\"attributes\":{\"data_source\":{\"id\":\"2771\",\"type\":\"ColumnDataSource\"},\"glyph\":{\"id\":\"2772\",\"type\":\"Line\"},\"hover_glyph\":null,\"muted_glyph\":null,\"nonselection_glyph\":{\"id\":\"2773\",\"type\":\"Line\"},\"selection_glyph\":null,\"view\":{\"id\":\"2775\",\"type\":\"CDSView\"}},\"id\":\"2774\",\"type\":\"GlyphRenderer\"},{\"attributes\":{\"line_alpha\":0.5,\"line_color\":\"#ff7f0e\",\"line_width\":2,\"x\":{\"field\":\"x\"},\"y\":{\"field\":\"y\"}},\"id\":\"2787\",\"type\":\"Line\"},{\"attributes\":{},\"id\":\"2766\",\"type\":\"BasicTickFormatter\"},{\"attributes\":{\"bottom_units\":\"screen\",\"fill_alpha\":{\"value\":0.5},\"fill_color\":{\"value\":\"lightgrey\"},\"left_units\":\"screen\",\"level\":\"overlay\",\"line_alpha\":{\"value\":1.0},\"line_color\":{\"value\":\"black\"},\"line_dash\":[4,4],\"line_width\":{\"value\":2},\"render_mode\":\"css\",\"right_units\":\"screen\",\"top_units\":\"screen\"},\"id\":\"2768\",\"type\":\"BoxAnnotation\"},{\"attributes\":{\"callback\":null},\"id\":\"2728\",\"type\":\"DataRange1d\"},{\"attributes\":{},\"id\":\"2764\",\"type\":\"BasicTickFormatter\"},{\"attributes\":{\"line_alpha\":0.1,\"line_color\":\"#1f77b4\",\"line_width\":2,\"x\":{\"field\":\"x\"},\"y\":{\"field\":\"y\"}},\"id\":\"2759\",\"type\":\"Line\"},{\"attributes\":{},\"id\":\"2744\",\"type\":\"PanTool\"},{\"attributes\":{},\"id\":\"2783\",\"type\":\"Selection\"},{\"attributes\":{},\"id\":\"2740\",\"type\":\"BasicTicker\"},{\"attributes\":{\"source\":{\"id\":\"2771\",\"type\":\"ColumnDataSource\"}},\"id\":\"2775\",\"type\":\"CDSView\"},{\"attributes\":{\"callback\":null,\"data\":{\"x\":[0,1,2,3,4,5,6,7,8,9,10,11,12,13,14,15,16,17,18,19,20,21,22,23,24,25,26,27,28,29,30,31,32,33,34,35,36,37,38,39,40,41,42,43,44,45,46,47,48,49,50,51,52,53,54,55,56,57,58,59,60,61,62,63,64,65,66,67,68,69,70,71,72,73,74,75,76,77,78,79,80,81,82,83,84,85,86,87,88,89,90,91,92,93,94,95,96,97,98,99,100,101,102,103,104,105,106,107,108,109,110,111,112,113,114,115,116,117,118,119,120,121,122,123,124,125,126,127,128,129,130,131,132,133,134,135,136,137,138,139,140,141,142,143,144,145,146,147,148,149,150,151,152,153,154,155,156,157,158,159,160,161,162,163,164,165,166,167,168,169,170,171,172,173,174,175,176,177,178,179,180,181,182,183,184,185,186,187,188,189,190,191,192,193,194,195,196,197,198,199],\"y\":{\"__ndarray__\":\"AAAAAAAAAAAAAAAAAAAAAAAAAAAAAAAAAAAAAAAAAAAAAAAAAAAAAAAAAAAAAAAAAAAAAAAAAAAAAAAAAAAAAAAAAAAAAAAAAAAAAAAAAAAAAAAAAAAAAAAAAAAAAAAAAAAAAAAAAAAAAAAAAAAAAAAAAAAAAAAAAAAAAAAAAAAAAAAAAAAAAAAAAAAAAAAAAAAAAAAAAAAAAAAAAAAAAAAAAAAAAAAAAAAAAAAAAAAAAAAAAAAAAAAAAAAAAAAAAAAAAAAAAAAAAAAAAAAAAAAAAAAAAAAAAAAAAAAAAAAAAAAAAAAAAAAAAAAAAAAAAAAAAAAAAAAAAAAAAAAAAAAAAAAAAAAAAAAAAAAAAAAAAAAAAAAAAAAAAAAAAAAAAAAAAAAAAAAAAAAAAAAAAAAAAAAAAAAAAAAAAAAAAAAAAAAAAAAAAAAAAAAAAAAAAAAAAAAAAAAAAAAAAAAAAAAAAAAAAAAAAAAAAAAAAAAAAAAAAAAAAAAAAAAAAAAAAAAAAAAAAAAAAAAAAAAAAAAAAAAAAAAAAAAAAAAAAAAAAAAAAAAAAAAAAAAAAAAAAAAAAAAAAAAAAAAAAAAAAAAAAAAAAAAAAAAAAAAAAAAAAAAAAAAAAAAAAAAAAAAAAAAAAAAAAAAAAAAAAAAAAAAAAAAAAAAAAAAAAAAAAAAAAAAAAAAAAAAAAAAAAAAAAAAAAAAAAAAAAAAAAAAAAAAAAAAAAAAAAAAAAAAAAAAAAAAAAAAAAAAAAAAAAAAAAAAAAAAAAAAAAAAAAAAAAAAAAAAAAAAAAAAAAAAAAAAAAAAAAAAAAAAAAAAAAAAAAAAAAAAAAAAAAAAAAAAAAAAAAAAAAAAAAAAAAAAAAAAAAAAAAAAAAAAAAAAAAAAAAAAAAAAAAAAAAAAAAAAAAAAAAAAAAAAAAAAAAAAAAAAAAAAAAAAAAAAAAAAAAAAAAAAAAAAAAAAAAAAAAAAAAAAAAAAAAAAAAAAAAAAAAAAAAAAAAAAAAAAAAAAAAAAAAAAAAAAAAAAAAAAAAAAAAAAAAAAAAAAAAAAAAAAAAAAAAAAAAAAAAAAAAAAAAAAAAAAAAAAAAAAAAAAAAAAAAAAAAAAAAAAAAAAAAAAAAAAAAAAAAAAAAAAAAAAAAAAAAAAAAAAAAAAAAAAAAAAAAAAAAAAAAAAAAAAAAAAAAAAAAAAAAAAAAAAAAAAAAAAAAAAAAAAAAAAAAAAAAAAAAAAAAAAAAAAAAAAAAAAAAAAAAAAAAAAAAAAAAAAAAAAAAAAAAAAAAAAAAAAAAAAAAAAAAAAAAAAAAAAAAAAAAAAAAAAAAAAAAAAAAAAAAAAAAAAAAAAAAAAAAAAAAAAAAAAAAAAAAAAAAAAAAAAAAAAAAAAAAAAAAAAAAAAAAAAAAAAAAAAAAAAAAAAAAAAAAAAAAAAAAAAAAAAAAAAAAAAAAAAAAAAAAAAAAAAAAAAAAAAAAAAAAAAAAAAAAAAAAAAAAAAAAAAAAAAAAAAAAAAAAAAAAAAAAAAAAAAAAAAAAAAAAAAAAAAAAAAAAAAAAAAAAAAAAAAAAAAAAAAAAAAAAAAAAAAAAAAAAAAAAAAAAAAAAAAAAAAAAAAAAAAAAAAAAAAAAAAAAAAAAAAAAAAAAAAAAAAAAAAAAAAAAAAAAAAAAAAAAAAAAAAAAAAAAAAAAAAAAAAAAAAAAAAAAAAAAAAAAAAAAAAAAAAAAAAAAAAAAAAAAAAAAAAAAAAAAAAAAAAAAAAAAAAAAAAAAAAAAAAAAAAAAAAAAAAAAAAAAAAAAAAAAAAAAAAAAAAAAAAAAAAAAAAAAAAAAAAAAAAAAAAAAAAAAAAAAAAAAAAAAAAAAAAAAAAAAAAAAAAAAAAAAAAAAAAAAAAAAAAAAAAAAAAAAAAAAAAAAAAAAAAAAAAAAAAAAAAAAAAAAAAAAAAAAAAAAAAAAAAAAAAAAAAAAAAAAAAAAAAAAAAAAAAAAAAAAAAAAAAAAAAAAAAAAAAAAAAAAAAAAAAAAAAAAAAAAAAAAAAAAAAAAAAAAAAAAAAAAAAAAAAAAAAAAAAAAAAAAAAAAAAAAAAAAAAAAAAAAAAAAAAAAAAAAAAAAAAAAAAAAAAAAAAAAAAAAAAAAA==\",\"dtype\":\"float64\",\"shape\":[200]}},\"selected\":{\"id\":\"2927\",\"type\":\"Selection\"},\"selection_policy\":{\"id\":\"2928\",\"type\":\"UnionRenderers\"}},\"id\":\"2786\",\"type\":\"ColumnDataSource\"},{\"attributes\":{\"data_source\":{\"id\":\"2786\",\"type\":\"ColumnDataSource\"},\"glyph\":{\"id\":\"2787\",\"type\":\"Line\"},\"hover_glyph\":null,\"muted_glyph\":null,\"nonselection_glyph\":{\"id\":\"2788\",\"type\":\"Line\"},\"selection_glyph\":null,\"view\":{\"id\":\"2790\",\"type\":\"CDSView\"}},\"id\":\"2789\",\"type\":\"GlyphRenderer\"},{\"attributes\":{},\"id\":\"2732\",\"type\":\"LinearScale\"},{\"attributes\":{\"active_drag\":\"auto\",\"active_inspect\":\"auto\",\"active_multi\":null,\"active_scroll\":\"auto\",\"active_tap\":\"auto\",\"tools\":[{\"id\":\"2744\",\"type\":\"PanTool\"},{\"id\":\"2745\",\"type\":\"WheelZoomTool\"},{\"id\":\"2746\",\"type\":\"BoxZoomTool\"},{\"id\":\"2747\",\"type\":\"SaveTool\"},{\"id\":\"2748\",\"type\":\"ResetTool\"},{\"id\":\"2749\",\"type\":\"HelpTool\"}]},\"id\":\"2750\",\"type\":\"Toolbar\"},{\"attributes\":{},\"id\":\"2730\",\"type\":\"LinearScale\"},{\"attributes\":{},\"id\":\"2735\",\"type\":\"BasicTicker\"},{\"attributes\":{\"line_alpha\":0.1,\"line_color\":\"#1f77b4\",\"line_width\":2,\"x\":{\"field\":\"x\"},\"y\":{\"field\":\"y\"}},\"id\":\"2773\",\"type\":\"Line\"},{\"attributes\":{\"line_alpha\":0.5,\"line_color\":\"#aec7e8\",\"line_width\":2,\"x\":{\"field\":\"x\"},\"y\":{\"field\":\"y\"}},\"id\":\"2772\",\"type\":\"Line\"},{\"attributes\":{\"items\":[{\"id\":\"2770\",\"type\":\"LegendItem\"},{\"id\":\"2785\",\"type\":\"LegendItem\"},{\"id\":\"2802\",\"type\":\"LegendItem\"}],\"orientation\":\"horizontal\"},\"id\":\"2769\",\"type\":\"Legend\"},{\"attributes\":{},\"id\":\"2784\",\"type\":\"UnionRenderers\"},{\"attributes\":{\"grid_line_alpha\":0.5,\"ticker\":{\"id\":\"2735\",\"type\":\"BasicTicker\"}},\"id\":\"2738\",\"type\":\"Grid\"},{\"attributes\":{\"line_alpha\":0.1,\"line_color\":\"#1f77b4\",\"line_width\":2,\"x\":{\"field\":\"x\"},\"y\":{\"field\":\"y\"}},\"id\":\"2788\",\"type\":\"Line\"},{\"attributes\":{\"line_alpha\":0.5,\"line_color\":\"#1f77b4\",\"line_width\":2,\"x\":{\"field\":\"x\"},\"y\":{\"field\":\"y\"}},\"id\":\"2758\",\"type\":\"Line\"},{\"attributes\":{\"source\":{\"id\":\"2786\",\"type\":\"ColumnDataSource\"}},\"id\":\"2790\",\"type\":\"CDSView\"},{\"attributes\":{\"callback\":null},\"id\":\"2726\",\"type\":\"DataRange1d\"},{\"attributes\":{},\"id\":\"2800\",\"type\":\"Selection\"},{\"attributes\":{\"callback\":null,\"data\":{\"x\":[0,1,2,3,4,5,6,7,8,9,10,11,12,13,14,15,16,17,18,19,20,21,22,23,24,25,26,27,28,29,30,31,32,33,34,35,36,37,38,39,40,41,42,43,44,45,46,47,48,49,50,51,52,53,54,55,56,57,58,59,60,61,62,63,64,65,66,67,68,69,70,71,72,73,74,75,76,77,78,79,80,81,82,83,84,85,86,87,88,89,90,91,92,93,94,95,96,97,98,99,100,101,102,103,104,105,106,107,108,109,110,111,112,113,114,115,116,117,118,119,120,121,122,123,124,125,126,127,128,129,130,131,132,133,134,135,136,137,138,139,140,141,142,143,144,145,146,147,148,149,150,151,152,153,154,155,156,157,158,159,160,161,162,163,164,165,166,167,168,169,170,171,172,173,174,175,176,177,178,179,180,181,182,183,184,185,186,187,188,189,190,191,192,193,194,195,196,197,198,199],\"y\":{\"__ndarray__\":\"AAAAAAAAAAAAAAAAAHB1wAAAAAAAkHzAAAAAAAAAAAAAAAAAAAAAAAAAAAAAAAAAAAAAAAAAAAAAAAAAAAAAAAAAAAAAAAAAAAAAAAAAAAAAAAAAAAAAAAAAAAAAAAAAAAAAAAAAAAAAAAAAAAAAAAAAAAAAAAAAAAAAAAAAAAAAAAAAAAAAAAAAAAAAAAAAAAAAAAAAAAAAAAAAAAAAAAAAAAAAAAAAAAAAAAAAAAAAAAAAAAAAAAAAAAAAAAAAAAAAAAAAAAAAAAAAAAAAAAAAAAAAAAAAAAAAAAAAAAAAAAAAAAAAAAAAAAAAAAAAAAAAAAAAAAAAAAAAAAAAAAAAAAAAAAAAAAAAAAAAAAAAAAAAAAAAAAAAAAAAAAAAAAAAAAAAAAAAAAAAAAAAAAAAAAAAAAAAAAAAAAAAAAAAAAAAAAAAAAAAAAAAAAAAAAAAAAAAAAAAAAAAAAAAAAAAAAAAAAAAAAAAAAAAAAAAAAAAAAAAAAAAAAAAAAAAAAAAAAAAAAAAAAAAAAAAAAAAAAAAAAAAAAAAAAAAAAAAAAAAAAAAAAAAAAAAAAAAAAAAAAAAAAAAAAAAAAAAAAAAAAAAAAAAAAAAAAAAAAAAAAAAAAAAAAAAAAAAAAAAAAAAAAAAAAAAAAAAAAAAAAAAAAAAAAAAAAAAAAAAAAAAAAAAAAAAAAAAAAAAAAAAAAAAAAAAAAAAAAAAAAAAAAAAAAAAAAAAAAAAAAAAAAAAAAAAAAAAAAAAAAAAAAAAAAAAAAAAAAAAAAAAAAAAAAAAAAAAAAAAAAAAAAAAAAAAAAAAAAAAAAAAAAAAAAAAAAAAAAAAAAAAAAAAAAAAAAAAAAAAAAAAAAAAAAAAAAAAAAAAAAAAAAAAAAAAAAAAAAAAAAAAAAAAAAAAAAAAAAAAAAAAAAAAAAAAAAAAAAAAAAAAAAAAAAAAAAAAAAAAAAAAAAAAAAAAAAAAAAAAAAAAAAAAAAAAAAAAAAAAAAAAAAAAAAAAAAAAAAAAAAAAAAAAAAAAAAAAAAAAAAAAAAAAAAAAAAAAAAAAAAAAAAAAAAAAAAAAAAAAAAAAAAAAAAAAAAAAAAAAAAAAAAAAAAAAAAAAAAAAAAAAAAAAAAAAAAAAAAAAAAAAAAAAAAAAAAAAAAAAAAAAAAAAAAAAAAAAAAAAAAAAAAAAAAAAAAAAAAAAAAAAAAAAAAAAAAAAAAAAAAAAAAAAAAAAAAAAAAAAAAAAAAAAAAAAAAAAAAAAAAAAAAAAAAAAAAAAAAAAAAAAAAAAAAAAAAAAAAAAAAAAAAAAAAAAAAAAAAAAAAAAAAAAAAAAAAAAAAAAAAAAAAAAAAAAAAAAAAAAAAAAAAAAAAAAAAAAAAAAAAAAAAAAAAAAAAAAAAAAAAAAAAAAAAAAAAAAAAAAAAAAAAAAAAAAAAAAAAAAAAAAAAAAAAAAAAAAAAAAAAAAAAAAAAAAAAAAAAAAAAAAAAAAAAAAAAAAAAAAAAAAAAAAAAAAAAAAAAAAAAAAAAAAAAAAAAAAAAAAAAAAAAAAAAAAAAAAAAAAAAAAAAAAAAAAAAAAAAAAAAAAAAAAAAAAAAAAAAAAAAAAAAAAAAAAAAAAAAAAAAAAAAAAAAAAAAAAAAAAAAAAAAAAAAAAAAAAAAAAAAAAAAAAAAAAAAAAAAAAAAAAAAAAAAAAAAAAAAAAAAAAAAAAAAAAAAAAAAAAAAAAAAAAAAAAAAAAAAAAAAAAAAAAAAAAAAAAAAAAAAAAAAAAAAAAAAAAAAAAAAAAAAAAAAAAAAAAAAAAAAAAAAAAAAAAAAAAAAAAAAAAAAAAAAAAAAAAAAAAAAAAAAAAAAAAAAAAAAAAAAAAAAAAAAAAAAAAAAAAAAAAAAAAAAAAAAAAAAAAAAAAAAAAAAAAAAAAAAAAAAAAAAAAAAAAAAAAAAAAAAAAAAAAAAAAAAAAAAAAAAAAAAAAAAAAAAAAAAAAAAAAAAAAAAAAAAAAAAAAAAAAAAAAAAAAAAAAAAAAAAAAAAAAAAAAAAAAAAAAAAAAAAAAAAAAAAAAAAAAAAAAAAAAAAAAAAAAAAAAAAAAAAAAAAAAAAAAAAAAAAAAAAAAAAAAAAAAAAAAAAAAAAAAAAAAAA==\",\"dtype\":\"float64\",\"shape\":[200]}},\"selected\":{\"id\":\"2783\",\"type\":\"Selection\"},\"selection_policy\":{\"id\":\"2784\",\"type\":\"UnionRenderers\"}},\"id\":\"2757\",\"type\":\"ColumnDataSource\"},{\"attributes\":{},\"id\":\"2745\",\"type\":\"WheelZoomTool\"},{\"attributes\":{\"dimension\":1,\"grid_line_alpha\":0.5,\"ticker\":{\"id\":\"2740\",\"type\":\"BasicTicker\"}},\"id\":\"2743\",\"type\":\"Grid\"},{\"attributes\":{\"label\":{\"value\":\"Susceptible\"},\"renderers\":[{\"id\":\"2760\",\"type\":\"GlyphRenderer\"}]},\"id\":\"2770\",\"type\":\"LegendItem\"},{\"attributes\":{},\"id\":\"2801\",\"type\":\"UnionRenderers\"},{\"attributes\":{\"axis_label\":\"#Delta Nodes\",\"formatter\":{\"id\":\"2766\",\"type\":\"BasicTickFormatter\"},\"ticker\":{\"id\":\"2740\",\"type\":\"BasicTicker\"}},\"id\":\"2739\",\"type\":\"LinearAxis\"},{\"attributes\":{\"overlay\":{\"id\":\"2768\",\"type\":\"BoxAnnotation\"}},\"id\":\"2746\",\"type\":\"BoxZoomTool\"},{\"attributes\":{\"label\":{\"value\":\"Blocked\"},\"renderers\":[{\"id\":\"2789\",\"type\":\"GlyphRenderer\"}]},\"id\":\"2802\",\"type\":\"LegendItem\"},{\"attributes\":{\"align\":\"center\",\"text\":\"adopter rate: 0.4, percentage blocked: 0.1, fraction infected: 0.1\"},\"id\":\"2804\",\"type\":\"Title\"},{\"attributes\":{},\"id\":\"2748\",\"type\":\"ResetTool\"},{\"attributes\":{\"label\":{\"value\":\"Infected\"},\"renderers\":[{\"id\":\"2774\",\"type\":\"GlyphRenderer\"}]},\"id\":\"2785\",\"type\":\"LegendItem\"},{\"attributes\":{},\"id\":\"2928\",\"type\":\"UnionRenderers\"},{\"attributes\":{},\"id\":\"2747\",\"type\":\"SaveTool\"},{\"attributes\":{},\"id\":\"2927\",\"type\":\"Selection\"}],\"root_ids\":[\"2725\"]},\"title\":\"Bokeh Application\",\"version\":\"1.4.0\"}};\n",
       "  var render_items = [{\"docid\":\"91eeb6a2-ff57-4165-a6cc-dadd885d0be7\",\"roots\":{\"2725\":\"8f6f8a05-7834-4101-952c-92cb4ab0e166\"}}];\n",
       "  root.Bokeh.embed.embed_items_notebook(docs_json, render_items);\n",
       "\n",
       "  }\n",
       "  if (root.Bokeh !== undefined) {\n",
       "    embed_document(root);\n",
       "  } else {\n",
       "    var attempts = 0;\n",
       "    var timer = setInterval(function(root) {\n",
       "      if (root.Bokeh !== undefined) {\n",
       "        clearInterval(timer);\n",
       "        embed_document(root);\n",
       "      } else {\n",
       "        attempts++;\n",
       "        if (attempts > 100) {\n",
       "          clearInterval(timer);\n",
       "          console.log(\"Bokeh: ERROR: Unable to run BokehJS code because BokehJS library is missing\");\n",
       "        }\n",
       "      }\n",
       "    }, 10, root)\n",
       "  }\n",
       "})(window);"
      ],
      "application/vnd.bokehjs_exec.v0+json": ""
     },
     "metadata": {
      "application/vnd.bokehjs_exec.v0+json": {
       "id": "2725"
      }
     },
     "output_type": "display_data"
    }
   ],
   "source": [
    "viz2 = DiffusionPrevalence(th_model, trends)\n",
    "p2 = viz2.plot(width=400, height=400)\n",
    "show(p2)"
   ]
  },
  {
   "cell_type": "markdown",
   "metadata": {
    "slideshow": {
     "slide_type": "slide"
    }
   },
   "source": [
    "### Model Comparisions"
   ]
  },
  {
   "cell_type": "code",
   "execution_count": 9,
   "metadata": {
    "ExecuteTime": {
     "end_time": "2020-08-02T06:30:16.333205Z",
     "start_time": "2020-08-02T06:30:13.172719Z"
    },
    "code_folding": [
     0
    ],
    "slideshow": {
     "slide_type": "subslide"
    }
   },
   "outputs": [
    {
     "name": "stderr",
     "output_type": "stream",
     "text": [
      "100%|██████████| 200/200 [00:01<00:00, 149.48it/s]\n",
      "BokehDeprecationWarning: 'legend' keyword is deprecated, use explicit 'legend_label', 'legend_field', or 'legend_group' keywords instead\n",
      "BokehDeprecationWarning: 'legend' keyword is deprecated, use explicit 'legend_label', 'legend_field', or 'legend_group' keywords instead\n",
      "100%|██████████| 200/200 [00:01<00:00, 198.91it/s]\n",
      "BokehDeprecationWarning: 'legend' keyword is deprecated, use explicit 'legend_label', 'legend_field', or 'legend_group' keywords instead\n",
      "BokehDeprecationWarning: 'legend' keyword is deprecated, use explicit 'legend_label', 'legend_field', or 'legend_group' keywords instead\n",
      "100%|██████████| 60/60 [00:00<00:00, 94.43it/s] \n",
      "BokehDeprecationWarning: 'legend' keyword is deprecated, use explicit 'legend_label', 'legend_field', or 'legend_group' keywords instead\n",
      "BokehDeprecationWarning: 'legend' keyword is deprecated, use explicit 'legend_label', 'legend_field', or 'legend_group' keywords instead\n"
     ]
    },
    {
     "data": {
      "text/html": [
       "\n",
       "\n",
       "\n",
       "\n",
       "\n",
       "\n",
       "  <div class=\"bk-root\" id=\"1cd66838-511e-4219-aa17-5602944471b9\" data-root-id=\"2076\"></div>\n"
      ]
     },
     "metadata": {},
     "output_type": "display_data"
    },
    {
     "data": {
      "application/javascript": [
       "(function(root) {\n",
       "  function embed_document(root) {\n",
       "    \n",
       "  var docs_json = {\"8b5f184a-5c7a-4e13-8083-f64f8610ca4a\":{\"roots\":{\"references\":[{\"attributes\":{\"children\":[{\"id\":\"2075\",\"type\":\"ToolbarBox\"},{\"id\":\"2073\",\"type\":\"GridBox\"}]},\"id\":\"2076\",\"type\":\"Column\"},{\"attributes\":{\"axis_label\":\"#Nodes\",\"formatter\":{\"id\":\"1280\",\"type\":\"BasicTickFormatter\"},\"ticker\":{\"id\":\"1254\",\"type\":\"BasicTicker\"}},\"id\":\"1253\",\"type\":\"LinearAxis\"},{\"attributes\":{\"callback\":null},\"id\":\"1963\",\"type\":\"DataRange1d\"},{\"attributes\":{},\"id\":\"1249\",\"type\":\"BasicTicker\"},{\"attributes\":{\"line_alpha\":0.1,\"line_color\":\"#1f77b4\",\"line_width\":2,\"x\":{\"field\":\"x\"},\"y\":{\"field\":\"y\"}},\"id\":\"1945\",\"type\":\"Line\"},{\"attributes\":{\"data_source\":{\"id\":\"1943\",\"type\":\"ColumnDataSource\"},\"glyph\":{\"id\":\"1944\",\"type\":\"Line\"},\"hover_glyph\":null,\"muted_glyph\":null,\"nonselection_glyph\":{\"id\":\"1945\",\"type\":\"Line\"},\"selection_glyph\":null,\"view\":{\"id\":\"1947\",\"type\":\"CDSView\"}},\"id\":\"1946\",\"type\":\"GlyphRenderer\"},{\"attributes\":{\"source\":{\"id\":\"1943\",\"type\":\"ColumnDataSource\"}},\"id\":\"1947\",\"type\":\"CDSView\"},{\"attributes\":{},\"id\":\"1955\",\"type\":\"Selection\"},{\"attributes\":{\"below\":[{\"id\":\"1248\",\"type\":\"LinearAxis\"},{\"id\":\"1318\",\"type\":\"Title\"}],\"center\":[{\"id\":\"1252\",\"type\":\"Grid\"},{\"id\":\"1257\",\"type\":\"Grid\"},{\"id\":\"1283\",\"type\":\"Legend\"}],\"left\":[{\"id\":\"1253\",\"type\":\"LinearAxis\"}],\"plot_height\":400,\"plot_width\":400,\"renderers\":[{\"id\":\"1274\",\"type\":\"GlyphRenderer\"},{\"id\":\"1288\",\"type\":\"GlyphRenderer\"},{\"id\":\"1303\",\"type\":\"GlyphRenderer\"}],\"title\":{\"id\":\"1277\",\"type\":\"Title\"},\"toolbar\":{\"id\":\"1264\",\"type\":\"Toolbar\"},\"toolbar_location\":null,\"x_range\":{\"id\":\"1240\",\"type\":\"DataRange1d\"},\"x_scale\":{\"id\":\"1244\",\"type\":\"LinearScale\"},\"y_range\":{\"id\":\"1242\",\"type\":\"DataRange1d\"},\"y_scale\":{\"id\":\"1246\",\"type\":\"LinearScale\"}},\"id\":\"1239\",\"subtype\":\"Figure\",\"type\":\"Plot\"},{\"attributes\":{\"label\":{\"value\":\"Infected\"},\"renderers\":[{\"id\":\"1946\",\"type\":\"GlyphRenderer\"}]},\"id\":\"1957\",\"type\":\"LegendItem\"},{\"attributes\":{},\"id\":\"1956\",\"type\":\"UnionRenderers\"},{\"attributes\":{\"align\":\"center\",\"text\":\"beta: 0.001, fraction infected: 0.05, tp rate: 1\"},\"id\":\"1959\",\"type\":\"Title\"},{\"attributes\":{\"callback\":null,\"data\":{\"x\":[0,1,2,3,4,5,6,7,8,9,10,11,12,13,14,15,16,17,18,19,20,21,22,23,24,25,26,27,28,29,30,31,32,33,34,35,36,37,38,39,40,41,42,43,44,45,46,47,48,49,50,51,52,53,54,55,56,57,58,59,60,61,62,63,64,65,66,67,68,69,70,71,72,73,74,75,76,77,78,79,80,81,82,83,84,85,86,87,88,89,90,91,92,93,94,95,96,97,98,99,100,101,102,103,104,105,106,107,108,109,110,111,112,113,114,115,116,117,118,119,120,121,122,123,124,125,126,127,128,129,130,131,132,133,134,135,136,137,138,139,140,141,142,143,144,145,146,147,148,149,150,151,152,153,154,155,156,157,158,159,160,161,162,163,164,165,166,167,168,169,170,171,172,173,174,175,176,177,178,179,180,181,182,183,184,185,186,187,188,189,190,191,192,193,194,195,196,197,198,199],\"y\":{\"__ndarray__\":\"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\",\"dtype\":\"float64\",\"shape\":[200]}},\"selected\":{\"id\":\"1330\",\"type\":\"Selection\"},\"selection_policy\":{\"id\":\"1331\",\"type\":\"UnionRenderers\"}},\"id\":\"1300\",\"type\":\"ColumnDataSource\"},{\"attributes\":{\"label\":{\"value\":\"Susceptible\"},\"renderers\":[{\"id\":\"1995\",\"type\":\"GlyphRenderer\"}]},\"id\":\"2005\",\"type\":\"LegendItem\"},{\"attributes\":{\"items\":[{\"id\":\"2005\",\"type\":\"LegendItem\"},{\"id\":\"2020\",\"type\":\"LegendItem\"}],\"orientation\":\"horizontal\"},\"id\":\"2004\",\"type\":\"Legend\"},{\"attributes\":{},\"id\":\"2046\",\"type\":\"Selection\"},{\"attributes\":{},\"id\":\"1965\",\"type\":\"LinearScale\"},{\"attributes\":{},\"id\":\"1893\",\"type\":\"UnionRenderers\"},{\"attributes\":{},\"id\":\"1254\",\"type\":\"BasicTicker\"},{\"attributes\":{},\"id\":\"1967\",\"type\":\"LinearScale\"},{\"attributes\":{},\"id\":\"1244\",\"type\":\"LinearScale\"},{\"attributes\":{\"axis_label\":\"Iterations\",\"formatter\":{\"id\":\"1999\",\"type\":\"BasicTickFormatter\"},\"ticker\":{\"id\":\"1970\",\"type\":\"BasicTicker\"}},\"id\":\"1969\",\"type\":\"LinearAxis\"},{\"attributes\":{},\"id\":\"1975\",\"type\":\"BasicTicker\"},{\"attributes\":{},\"id\":\"1970\",\"type\":\"BasicTicker\"},{\"attributes\":{\"below\":[{\"id\":\"1843\",\"type\":\"LinearAxis\"},{\"id\":\"1896\",\"type\":\"Title\"}],\"center\":[{\"id\":\"1847\",\"type\":\"Grid\"},{\"id\":\"1852\",\"type\":\"Grid\"},{\"id\":\"1878\",\"type\":\"Legend\"}],\"left\":[{\"id\":\"1848\",\"type\":\"LinearAxis\"}],\"plot_height\":400,\"plot_width\":400,\"renderers\":[{\"id\":\"1869\",\"type\":\"GlyphRenderer\"},{\"id\":\"1883\",\"type\":\"GlyphRenderer\"}],\"title\":{\"id\":\"1872\",\"type\":\"Title\"},\"toolbar\":{\"id\":\"1859\",\"type\":\"Toolbar\"},\"toolbar_location\":null,\"x_range\":{\"id\":\"1835\",\"type\":\"DataRange1d\"},\"x_scale\":{\"id\":\"1839\",\"type\":\"LinearScale\"},\"y_range\":{\"id\":\"1837\",\"type\":\"DataRange1d\"},\"y_scale\":{\"id\":\"1841\",\"type\":\"LinearScale\"}},\"id\":\"1834\",\"subtype\":\"Figure\",\"type\":\"Plot\"},{\"attributes\":{\"callback\":null},\"id\":\"1242\",\"type\":\"DataRange1d\"},{\"attributes\":{\"callback\":null},\"id\":\"1837\",\"type\":\"DataRange1d\"},{\"attributes\":{\"grid_line_alpha\":0.5,\"ticker\":{\"id\":\"1970\",\"type\":\"BasicTicker\"}},\"id\":\"1973\",\"type\":\"Grid\"},{\"attributes\":{\"grid_line_alpha\":0.5,\"ticker\":{\"id\":\"1249\",\"type\":\"BasicTicker\"}},\"id\":\"1252\",\"type\":\"Grid\"},{\"attributes\":{\"line_alpha\":0.5,\"line_color\":\"#1f77b4\",\"line_width\":2,\"x\":{\"field\":\"x\"},\"y\":{\"field\":\"y\"}},\"id\":\"1930\",\"type\":\"Line\"},{\"attributes\":{\"line_alpha\":0.1,\"line_color\":\"#1f77b4\",\"line_width\":2,\"x\":{\"field\":\"x\"},\"y\":{\"field\":\"y\"}},\"id\":\"1994\",\"type\":\"Line\"},{\"attributes\":{\"dimension\":1,\"grid_line_alpha\":0.5,\"ticker\":{\"id\":\"1975\",\"type\":\"BasicTicker\"}},\"id\":\"1978\",\"type\":\"Grid\"},{\"attributes\":{\"source\":{\"id\":\"1300\",\"type\":\"ColumnDataSource\"}},\"id\":\"1304\",\"type\":\"CDSView\"},{\"attributes\":{},\"id\":\"1246\",\"type\":\"LinearScale\"},{\"attributes\":{},\"id\":\"1839\",\"type\":\"LinearScale\"},{\"attributes\":{\"axis_label\":\"#Nodes\",\"formatter\":{\"id\":\"2001\",\"type\":\"BasicTickFormatter\"},\"ticker\":{\"id\":\"1975\",\"type\":\"BasicTicker\"}},\"id\":\"1974\",\"type\":\"LinearAxis\"},{\"attributes\":{\"data_source\":{\"id\":\"1300\",\"type\":\"ColumnDataSource\"},\"glyph\":{\"id\":\"1301\",\"type\":\"Line\"},\"hover_glyph\":null,\"muted_glyph\":null,\"nonselection_glyph\":{\"id\":\"1302\",\"type\":\"Line\"},\"selection_glyph\":null,\"view\":{\"id\":\"1304\",\"type\":\"CDSView\"}},\"id\":\"1303\",\"type\":\"GlyphRenderer\"},{\"attributes\":{},\"id\":\"1841\",\"type\":\"LinearScale\"},{\"attributes\":{\"source\":{\"id\":\"1992\",\"type\":\"ColumnDataSource\"}},\"id\":\"1996\",\"type\":\"CDSView\"},{\"attributes\":{\"axis_label\":\"Iterations\",\"formatter\":{\"id\":\"1278\",\"type\":\"BasicTickFormatter\"},\"ticker\":{\"id\":\"1249\",\"type\":\"BasicTicker\"}},\"id\":\"1248\",\"type\":\"LinearAxis\"},{\"attributes\":{\"line_alpha\":0.5,\"line_color\":\"#ff7f0e\",\"line_width\":2,\"x\":{\"field\":\"x\"},\"y\":{\"field\":\"y\"}},\"id\":\"1301\",\"type\":\"Line\"},{\"attributes\":{\"data_source\":{\"id\":\"1992\",\"type\":\"ColumnDataSource\"},\"glyph\":{\"id\":\"1993\",\"type\":\"Line\"},\"hover_glyph\":null,\"muted_glyph\":null,\"nonselection_glyph\":{\"id\":\"1994\",\"type\":\"Line\"},\"selection_glyph\":null,\"view\":{\"id\":\"1996\",\"type\":\"CDSView\"}},\"id\":\"1995\",\"type\":\"GlyphRenderer\"},{\"attributes\":{\"callback\":null,\"data\":{\"x\":[0,1,2,3,4,5,6,7,8,9,10,11,12,13,14,15,16,17,18,19,20,21,22,23,24,25,26,27,28,29,30,31,32,33,34,35,36,37,38,39,40,41,42,43,44,45,46,47,48,49,50,51,52,53,54,55,56,57,58,59],\"y\":{\"__ndarray__\":\"ZmZmZmZm5j+8dJMYBFbmP7x0kxgEVuY/vHSTGARW5j+8dJMYBFbmP7x0kxgEVuY/vHSTGARW5j+8dJMYBFbmP7x0kxgEVuY/vHSTGARW5j+8dJMYBFbmP7x0kxgEVuY/vHSTGARW5j+8dJMYBFbmP7x0kxgEVuY/vHSTGARW5j+8dJMYBFbmP7x0kxgEVuY/vHSTGARW5j+8dJMYBFbmP7x0kxgEVuY/vHSTGARW5j+8dJMYBFbmP7x0kxgEVuY/vHSTGARW5j+8dJMYBFbmP7x0kxgEVuY/vHSTGARW5j+8dJMYBFbmP7x0kxgEVuY/vHSTGARW5j+8dJMYBFbmP7x0kxgEVuY/vHSTGARW5j+8dJMYBFbmP7x0kxgEVuY/vHSTGARW5j+8dJMYBFbmP7x0kxgEVuY/vHSTGARW5j+8dJMYBFbmP7x0kxgEVuY/vHSTGARW5j+8dJMYBFbmP7x0kxgEVuY/vHSTGARW5j+8dJMYBFbmP7x0kxgEVuY/vHSTGARW5j+8dJMYBFbmP7x0kxgEVuY/vHSTGARW5j+8dJMYBFbmP7x0kxgEVuY/vHSTGARW5j+8dJMYBFbmP7x0kxgEVuY/vHSTGARW5j+8dJMYBFbmP7x0kxgEVuY/\",\"dtype\":\"float64\",\"shape\":[60]}},\"selected\":{\"id\":\"2018\",\"type\":\"Selection\"},\"selection_policy\":{\"id\":\"2019\",\"type\":\"UnionRenderers\"}},\"id\":\"1992\",\"type\":\"ColumnDataSource\"},{\"attributes\":{\"items\":[{\"id\":\"1879\",\"type\":\"LegendItem\"},{\"id\":\"1894\",\"type\":\"LegendItem\"}],\"orientation\":\"horizontal\"},\"id\":\"1878\",\"type\":\"Legend\"},{\"attributes\":{},\"id\":\"1979\",\"type\":\"PanTool\"},{\"attributes\":{\"grid_line_alpha\":0.5,\"ticker\":{\"id\":\"1844\",\"type\":\"BasicTicker\"}},\"id\":\"1847\",\"type\":\"Grid\"},{\"attributes\":{\"axis_label\":\"Iterations\",\"formatter\":{\"id\":\"1873\",\"type\":\"BasicTickFormatter\"},\"ticker\":{\"id\":\"1844\",\"type\":\"BasicTicker\"}},\"id\":\"1843\",\"type\":\"LinearAxis\"},{\"attributes\":{},\"id\":\"1980\",\"type\":\"WheelZoomTool\"},{\"attributes\":{\"line_alpha\":0.1,\"line_color\":\"#1f77b4\",\"line_width\":2,\"x\":{\"field\":\"x\"},\"y\":{\"field\":\"y\"}},\"id\":\"1302\",\"type\":\"Line\"},{\"attributes\":{},\"id\":\"1844\",\"type\":\"BasicTicker\"},{\"attributes\":{\"line_alpha\":0.1,\"line_color\":\"#1f77b4\",\"line_width\":2,\"x\":{\"field\":\"x\"},\"y\":{\"field\":\"y\"}},\"id\":\"1273\",\"type\":\"Line\"},{\"attributes\":{},\"id\":\"1331\",\"type\":\"UnionRenderers\"},{\"attributes\":{\"overlay\":{\"id\":\"2003\",\"type\":\"BoxAnnotation\"}},\"id\":\"1981\",\"type\":\"BoxZoomTool\"},{\"attributes\":{\"align\":\"center\",\"text\":\"beta: 0.001, gamma: 0.01, fraction infected: 0.05, tp rate: 1\"},\"id\":\"1318\",\"type\":\"Title\"},{\"attributes\":{},\"id\":\"1849\",\"type\":\"BasicTicker\"},{\"attributes\":{},\"id\":\"1982\",\"type\":\"SaveTool\"},{\"attributes\":{\"align\":\"center\",\"text\":\"beta: 0.001, lambda: 0.01, fraction infected: 0.05, tp rate: 1\"},\"id\":\"1896\",\"type\":\"Title\"},{\"attributes\":{\"dimension\":1,\"grid_line_alpha\":0.5,\"ticker\":{\"id\":\"1254\",\"type\":\"BasicTicker\"}},\"id\":\"1257\",\"type\":\"Grid\"},{\"attributes\":{\"line_alpha\":0.1,\"line_color\":\"#1f77b4\",\"line_width\":2,\"x\":{\"field\":\"x\"},\"y\":{\"field\":\"y\"}},\"id\":\"1868\",\"type\":\"Line\"},{\"attributes\":{},\"id\":\"1983\",\"type\":\"ResetTool\"},{\"attributes\":{\"dimension\":1,\"grid_line_alpha\":0.5,\"ticker\":{\"id\":\"1849\",\"type\":\"BasicTicker\"}},\"id\":\"1852\",\"type\":\"Grid\"},{\"attributes\":{\"axis_label\":\"#Nodes\",\"formatter\":{\"id\":\"1875\",\"type\":\"BasicTickFormatter\"},\"ticker\":{\"id\":\"1849\",\"type\":\"BasicTicker\"}},\"id\":\"1848\",\"type\":\"LinearAxis\"},{\"attributes\":{},\"id\":\"1984\",\"type\":\"HelpTool\"},{\"attributes\":{},\"id\":\"1330\",\"type\":\"Selection\"},{\"attributes\":{\"active_drag\":\"auto\",\"active_inspect\":\"auto\",\"active_multi\":null,\"active_scroll\":\"auto\",\"active_tap\":\"auto\",\"tools\":[{\"id\":\"1979\",\"type\":\"PanTool\"},{\"id\":\"1980\",\"type\":\"WheelZoomTool\"},{\"id\":\"1981\",\"type\":\"BoxZoomTool\"},{\"id\":\"1982\",\"type\":\"SaveTool\"},{\"id\":\"1983\",\"type\":\"ResetTool\"},{\"id\":\"1984\",\"type\":\"HelpTool\"}]},\"id\":\"1985\",\"type\":\"Toolbar\"},{\"attributes\":{\"callback\":null,\"data\":{\"x\":[0,1,2,3,4,5,6,7,8,9,10,11,12,13,14,15,16,17,18,19,20,21,22,23,24,25,26,27,28,29,30,31,32,33,34,35,36,37,38,39,40,41,42,43,44,45,46,47,48,49,50,51,52,53,54,55,56,57,58,59,60,61,62,63,64,65,66,67,68,69,70,71,72,73,74,75,76,77,78,79,80,81,82,83,84,85,86,87,88,89,90,91,92,93,94,95,96,97,98,99,100,101,102,103,104,105,106,107,108,109,110,111,112,113,114,115,116,117,118,119,120,121,122,123,124,125,126,127,128,129,130,131,132,133,134,135,136,137,138,139,140,141,142,143,144,145,146,147,148,149,150,151,152,153,154,155,156,157,158,159,160,161,162,163,164,165,166,167,168,169,170,171,172,173,174,175,176,177,178,179,180,181,182,183,184,185,186,187,188,189,190,191,192,193,194,195,196,197,198,199],\"y\":{\"__ndarray__\":\"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\",\"dtype\":\"float64\",\"shape\":[200]}},\"selected\":{\"id\":\"1297\",\"type\":\"Selection\"},\"selection_policy\":{\"id\":\"1298\",\"type\":\"UnionRenderers\"}},\"id\":\"1271\",\"type\":\"ColumnDataSource\"},{\"attributes\":{},\"id\":\"1902\",\"type\":\"LinearScale\"},{\"attributes\":{\"text\":\"Threshold - Diffusion Trend\"},\"id\":\"1998\",\"type\":\"Title\"},{\"attributes\":{\"active_drag\":\"auto\",\"active_inspect\":\"auto\",\"active_multi\":null,\"active_scroll\":\"auto\",\"active_tap\":\"auto\",\"tools\":[{\"id\":\"1258\",\"type\":\"PanTool\"},{\"id\":\"1259\",\"type\":\"WheelZoomTool\"},{\"id\":\"1260\",\"type\":\"BoxZoomTool\"},{\"id\":\"1261\",\"type\":\"SaveTool\"},{\"id\":\"1262\",\"type\":\"ResetTool\"},{\"id\":\"1263\",\"type\":\"HelpTool\"}]},\"id\":\"1264\",\"type\":\"Toolbar\"},{\"attributes\":{\"active_drag\":\"auto\",\"active_inspect\":\"auto\",\"active_multi\":null,\"active_scroll\":\"auto\",\"active_tap\":\"auto\",\"tools\":[{\"id\":\"1853\",\"type\":\"PanTool\"},{\"id\":\"1854\",\"type\":\"WheelZoomTool\"},{\"id\":\"1855\",\"type\":\"BoxZoomTool\"},{\"id\":\"1856\",\"type\":\"SaveTool\"},{\"id\":\"1857\",\"type\":\"ResetTool\"},{\"id\":\"1858\",\"type\":\"HelpTool\"}]},\"id\":\"1859\",\"type\":\"Toolbar\"},{\"attributes\":{\"data_source\":{\"id\":\"1271\",\"type\":\"ColumnDataSource\"},\"glyph\":{\"id\":\"1272\",\"type\":\"Line\"},\"hover_glyph\":null,\"muted_glyph\":null,\"nonselection_glyph\":{\"id\":\"1273\",\"type\":\"Line\"},\"selection_glyph\":null,\"view\":{\"id\":\"1275\",\"type\":\"CDSView\"}},\"id\":\"1274\",\"type\":\"GlyphRenderer\"},{\"attributes\":{\"callback\":null,\"data\":{\"x\":[0,1,2,3,4,5,6,7,8,9,10,11,12,13,14,15,16,17,18,19,20,21,22,23,24,25,26,27,28,29,30,31,32,33,34,35,36,37,38,39,40,41,42,43,44,45,46,47,48,49,50,51,52,53,54,55,56,57,58,59,60,61,62,63,64,65,66,67,68,69,70,71,72,73,74,75,76,77,78,79,80,81,82,83,84,85,86,87,88,89,90,91,92,93,94,95,96,97,98,99,100,101,102,103,104,105,106,107,108,109,110,111,112,113,114,115,116,117,118,119,120,121,122,123,124,125,126,127,128,129,130,131,132,133,134,135,136,137,138,139,140,141,142,143,144,145,146,147,148,149,150,151,152,153,154,155,156,157,158,159,160,161,162,163,164,165,166,167,168,169,170,171,172,173,174,175,176,177,178,179,180,181,182,183,184,185,186,187,188,189,190,191,192,193,194,195,196,197,198,199],\"y\":{\"__ndarray__\":\"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\",\"dtype\":\"float64\",\"shape\":[200]}},\"selected\":{\"id\":\"1892\",\"type\":\"Selection\"},\"selection_policy\":{\"id\":\"1893\",\"type\":\"UnionRenderers\"}},\"id\":\"1866\",\"type\":\"ColumnDataSource\"},{\"attributes\":{},\"id\":\"1258\",\"type\":\"PanTool\"},{\"attributes\":{\"data_source\":{\"id\":\"1866\",\"type\":\"ColumnDataSource\"},\"glyph\":{\"id\":\"1867\",\"type\":\"Line\"},\"hover_glyph\":null,\"muted_glyph\":null,\"nonselection_glyph\":{\"id\":\"1868\",\"type\":\"Line\"},\"selection_glyph\":null,\"view\":{\"id\":\"1870\",\"type\":\"CDSView\"}},\"id\":\"1869\",\"type\":\"GlyphRenderer\"},{\"attributes\":{\"tools\":[{\"id\":\"1258\",\"type\":\"PanTool\"},{\"id\":\"1259\",\"type\":\"WheelZoomTool\"},{\"id\":\"1260\",\"type\":\"BoxZoomTool\"},{\"id\":\"1261\",\"type\":\"SaveTool\"},{\"id\":\"1262\",\"type\":\"ResetTool\"},{\"id\":\"1263\",\"type\":\"HelpTool\"},{\"id\":\"1853\",\"type\":\"PanTool\"},{\"id\":\"1854\",\"type\":\"WheelZoomTool\"},{\"id\":\"1855\",\"type\":\"BoxZoomTool\"},{\"id\":\"1856\",\"type\":\"SaveTool\"},{\"id\":\"1857\",\"type\":\"ResetTool\"},{\"id\":\"1858\",\"type\":\"HelpTool\"},{\"id\":\"1916\",\"type\":\"PanTool\"},{\"id\":\"1917\",\"type\":\"WheelZoomTool\"},{\"id\":\"1918\",\"type\":\"BoxZoomTool\"},{\"id\":\"1919\",\"type\":\"SaveTool\"},{\"id\":\"1920\",\"type\":\"ResetTool\"},{\"id\":\"1921\",\"type\":\"HelpTool\"},{\"id\":\"1979\",\"type\":\"PanTool\"},{\"id\":\"1980\",\"type\":\"WheelZoomTool\"},{\"id\":\"1981\",\"type\":\"BoxZoomTool\"},{\"id\":\"1982\",\"type\":\"SaveTool\"},{\"id\":\"1983\",\"type\":\"ResetTool\"},{\"id\":\"1984\",\"type\":\"HelpTool\"}]},\"id\":\"2074\",\"type\":\"ProxyToolbar\"},{\"attributes\":{},\"id\":\"1853\",\"type\":\"PanTool\"},{\"attributes\":{},\"id\":\"1259\",\"type\":\"WheelZoomTool\"},{\"attributes\":{},\"id\":\"1854\",\"type\":\"WheelZoomTool\"},{\"attributes\":{\"bottom_units\":\"screen\",\"fill_alpha\":{\"value\":0.5},\"fill_color\":{\"value\":\"lightgrey\"},\"left_units\":\"screen\",\"level\":\"overlay\",\"line_alpha\":{\"value\":1.0},\"line_color\":{\"value\":\"black\"},\"line_dash\":[4,4],\"line_width\":{\"value\":2},\"render_mode\":\"css\",\"right_units\":\"screen\",\"top_units\":\"screen\"},\"id\":\"2003\",\"type\":\"BoxAnnotation\"},{\"attributes\":{},\"id\":\"1999\",\"type\":\"BasicTickFormatter\"},{\"attributes\":{\"overlay\":{\"id\":\"1282\",\"type\":\"BoxAnnotation\"}},\"id\":\"1260\",\"type\":\"BoxZoomTool\"},{\"attributes\":{},\"id\":\"1912\",\"type\":\"BasicTicker\"},{\"attributes\":{\"line_alpha\":0.5,\"line_color\":\"#aec7e8\",\"line_width\":2,\"x\":{\"field\":\"x\"},\"y\":{\"field\":\"y\"}},\"id\":\"2007\",\"type\":\"Line\"},{\"attributes\":{\"overlay\":{\"id\":\"1877\",\"type\":\"BoxAnnotation\"}},\"id\":\"1855\",\"type\":\"BoxZoomTool\"},{\"attributes\":{\"axis_label\":\"Iterations\",\"formatter\":{\"id\":\"1936\",\"type\":\"BasicTickFormatter\"},\"ticker\":{\"id\":\"1907\",\"type\":\"BasicTicker\"}},\"id\":\"1906\",\"type\":\"LinearAxis\"},{\"attributes\":{},\"id\":\"1261\",\"type\":\"SaveTool\"},{\"attributes\":{},\"id\":\"1904\",\"type\":\"LinearScale\"},{\"attributes\":{},\"id\":\"1856\",\"type\":\"SaveTool\"},{\"attributes\":{},\"id\":\"1262\",\"type\":\"ResetTool\"},{\"attributes\":{\"label\":{\"value\":\"Susceptible\"},\"renderers\":[{\"id\":\"1932\",\"type\":\"GlyphRenderer\"}]},\"id\":\"1942\",\"type\":\"LegendItem\"},{\"attributes\":{},\"id\":\"2001\",\"type\":\"BasicTickFormatter\"},{\"attributes\":{\"line_alpha\":0.5,\"line_color\":\"#1f77b4\",\"line_width\":2,\"x\":{\"field\":\"x\"},\"y\":{\"field\":\"y\"}},\"id\":\"1993\",\"type\":\"Line\"},{\"attributes\":{},\"id\":\"1857\",\"type\":\"ResetTool\"},{\"attributes\":{},\"id\":\"1907\",\"type\":\"BasicTicker\"},{\"attributes\":{\"grid_line_alpha\":0.5,\"ticker\":{\"id\":\"1907\",\"type\":\"BasicTicker\"}},\"id\":\"1910\",\"type\":\"Grid\"},{\"attributes\":{\"callback\":null},\"id\":\"1898\",\"type\":\"DataRange1d\"},{\"attributes\":{\"callback\":null,\"data\":{\"x\":[0,1,2,3,4,5,6,7,8,9,10,11,12,13,14,15,16,17,18,19,20,21,22,23,24,25,26,27,28,29,30,31,32,33,34,35,36,37,38,39,40,41,42,43,44,45,46,47,48,49,50,51,52,53,54,55,56,57,58,59],\"y\":{\"__ndarray__\":\"MzMzMzMz0z+HFtnO91PTP4cW2c73U9M/hxbZzvdT0z+HFtnO91PTP4cW2c73U9M/hxbZzvdT0z+HFtnO91PTP4cW2c73U9M/hxbZzvdT0z+HFtnO91PTP4cW2c73U9M/hxbZzvdT0z+HFtnO91PTP4cW2c73U9M/hxbZzvdT0z+HFtnO91PTP4cW2c73U9M/hxbZzvdT0z+HFtnO91PTP4cW2c73U9M/hxbZzvdT0z+HFtnO91PTP4cW2c73U9M/hxbZzvdT0z+HFtnO91PTP4cW2c73U9M/hxbZzvdT0z+HFtnO91PTP4cW2c73U9M/hxbZzvdT0z+HFtnO91PTP4cW2c73U9M/hxbZzvdT0z+HFtnO91PTP4cW2c73U9M/hxbZzvdT0z+HFtnO91PTP4cW2c73U9M/hxbZzvdT0z+HFtnO91PTP4cW2c73U9M/hxbZzvdT0z+HFtnO91PTP4cW2c73U9M/hxbZzvdT0z+HFtnO91PTP4cW2c73U9M/hxbZzvdT0z+HFtnO91PTP4cW2c73U9M/hxbZzvdT0z+HFtnO91PTP4cW2c73U9M/hxbZzvdT0z+HFtnO91PTP4cW2c73U9M/hxbZzvdT0z+HFtnO91PTP4cW2c73U9M/\",\"dtype\":\"float64\",\"shape\":[60]}},\"selected\":{\"id\":\"2070\",\"type\":\"Selection\"},\"selection_policy\":{\"id\":\"2071\",\"type\":\"UnionRenderers\"}},\"id\":\"2006\",\"type\":\"ColumnDataSource\"},{\"attributes\":{},\"id\":\"1263\",\"type\":\"HelpTool\"},{\"attributes\":{\"callback\":null},\"id\":\"1961\",\"type\":\"DataRange1d\"},{\"attributes\":{\"line_alpha\":0.1,\"line_color\":\"#1f77b4\",\"line_width\":2,\"x\":{\"field\":\"x\"},\"y\":{\"field\":\"y\"}},\"id\":\"1931\",\"type\":\"Line\"},{\"attributes\":{},\"id\":\"1858\",\"type\":\"HelpTool\"},{\"attributes\":{\"dimension\":1,\"grid_line_alpha\":0.5,\"ticker\":{\"id\":\"1912\",\"type\":\"BasicTicker\"}},\"id\":\"1915\",\"type\":\"Grid\"},{\"attributes\":{\"line_alpha\":0.1,\"line_color\":\"#1f77b4\",\"line_width\":2,\"x\":{\"field\":\"x\"},\"y\":{\"field\":\"y\"}},\"id\":\"2008\",\"type\":\"Line\"},{\"attributes\":{\"axis_label\":\"#Nodes\",\"formatter\":{\"id\":\"1938\",\"type\":\"BasicTickFormatter\"},\"ticker\":{\"id\":\"1912\",\"type\":\"BasicTicker\"}},\"id\":\"1911\",\"type\":\"LinearAxis\"},{\"attributes\":{},\"id\":\"1938\",\"type\":\"BasicTickFormatter\"},{\"attributes\":{\"label\":{\"value\":\"Susceptible\"},\"renderers\":[{\"id\":\"1869\",\"type\":\"GlyphRenderer\"}]},\"id\":\"1879\",\"type\":\"LegendItem\"},{\"attributes\":{\"text\":\"SIR - Diffusion Trend\"},\"id\":\"1277\",\"type\":\"Title\"},{\"attributes\":{\"data_source\":{\"id\":\"2006\",\"type\":\"ColumnDataSource\"},\"glyph\":{\"id\":\"2007\",\"type\":\"Line\"},\"hover_glyph\":null,\"muted_glyph\":null,\"nonselection_glyph\":{\"id\":\"2008\",\"type\":\"Line\"},\"selection_glyph\":null,\"view\":{\"id\":\"2010\",\"type\":\"CDSView\"}},\"id\":\"2009\",\"type\":\"GlyphRenderer\"},{\"attributes\":{\"text\":\"SIS - Diffusion Trend\"},\"id\":\"1872\",\"type\":\"Title\"},{\"attributes\":{\"items\":[{\"id\":\"1284\",\"type\":\"LegendItem\"},{\"id\":\"1299\",\"type\":\"LegendItem\"},{\"id\":\"1316\",\"type\":\"LegendItem\"}],\"orientation\":\"horizontal\"},\"id\":\"1283\",\"type\":\"Legend\"},{\"attributes\":{\"line_alpha\":0.5,\"line_color\":\"#1f77b4\",\"line_width\":2,\"x\":{\"field\":\"x\"},\"y\":{\"field\":\"y\"}},\"id\":\"1272\",\"type\":\"Line\"},{\"attributes\":{\"source\":{\"id\":\"2006\",\"type\":\"ColumnDataSource\"}},\"id\":\"2010\",\"type\":\"CDSView\"},{\"attributes\":{},\"id\":\"2018\",\"type\":\"Selection\"},{\"attributes\":{\"active_drag\":\"auto\",\"active_inspect\":\"auto\",\"active_multi\":null,\"active_scroll\":\"auto\",\"active_tap\":\"auto\",\"tools\":[{\"id\":\"1916\",\"type\":\"PanTool\"},{\"id\":\"1917\",\"type\":\"WheelZoomTool\"},{\"id\":\"1918\",\"type\":\"BoxZoomTool\"},{\"id\":\"1919\",\"type\":\"SaveTool\"},{\"id\":\"1920\",\"type\":\"ResetTool\"},{\"id\":\"1921\",\"type\":\"HelpTool\"}]},\"id\":\"1922\",\"type\":\"Toolbar\"},{\"attributes\":{\"source\":{\"id\":\"1271\",\"type\":\"ColumnDataSource\"}},\"id\":\"1275\",\"type\":\"CDSView\"},{\"attributes\":{\"label\":{\"value\":\"Infected\"},\"renderers\":[{\"id\":\"2009\",\"type\":\"GlyphRenderer\"}]},\"id\":\"2020\",\"type\":\"LegendItem\"},{\"attributes\":{},\"id\":\"1278\",\"type\":\"BasicTickFormatter\"},{\"attributes\":{\"source\":{\"id\":\"1866\",\"type\":\"ColumnDataSource\"}},\"id\":\"1870\",\"type\":\"CDSView\"},{\"attributes\":{\"callback\":null,\"data\":{\"x\":[0,1,2,3,4,5,6,7,8,9,10,11,12,13,14,15,16,17,18,19,20,21,22,23,24,25,26,27,28,29,30,31,32,33,34,35,36,37,38,39,40,41,42,43,44,45,46,47,48,49,50,51,52,53,54,55,56,57,58,59,60,61,62,63,64,65,66,67,68,69,70,71,72,73,74,75,76,77,78,79,80,81,82,83,84,85,86,87,88,89,90,91,92,93,94,95,96,97,98,99,100,101,102,103,104,105,106,107,108,109,110,111,112,113,114,115,116,117,118,119,120,121,122,123,124,125,126,127,128,129,130,131,132,133,134,135,136,137,138,139,140,141,142,143,144,145,146,147,148,149,150,151,152,153,154,155,156,157,158,159,160,161,162,163,164,165,166,167,168,169,170,171,172,173,174,175,176,177,178,179,180,181,182,183,184,185,186,187,188,189,190,191,192,193,194,195,196,197,198,199],\"y\":{\"__ndarray__\":\"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\",\"dtype\":\"float64\",\"shape\":[200]}},\"selected\":{\"id\":\"1955\",\"type\":\"Selection\"},\"selection_policy\":{\"id\":\"1956\",\"type\":\"UnionRenderers\"}},\"id\":\"1929\",\"type\":\"ColumnDataSource\"},{\"attributes\":{},\"id\":\"2019\",\"type\":\"UnionRenderers\"},{\"attributes\":{\"data_source\":{\"id\":\"1929\",\"type\":\"ColumnDataSource\"},\"glyph\":{\"id\":\"1930\",\"type\":\"Line\"},\"hover_glyph\":null,\"muted_glyph\":null,\"nonselection_glyph\":{\"id\":\"1931\",\"type\":\"Line\"},\"selection_glyph\":null,\"view\":{\"id\":\"1933\",\"type\":\"CDSView\"}},\"id\":\"1932\",\"type\":\"GlyphRenderer\"},{\"attributes\":{\"align\":\"center\",\"text\":\"fraction infected: 0.3\"},\"id\":\"2022\",\"type\":\"Title\"},{\"attributes\":{\"bottom_units\":\"screen\",\"fill_alpha\":{\"value\":0.5},\"fill_color\":{\"value\":\"lightgrey\"},\"left_units\":\"screen\",\"level\":\"overlay\",\"line_alpha\":{\"value\":1.0},\"line_color\":{\"value\":\"black\"},\"line_dash\":[4,4],\"line_width\":{\"value\":2},\"render_mode\":\"css\",\"right_units\":\"screen\",\"top_units\":\"screen\"},\"id\":\"1282\",\"type\":\"BoxAnnotation\"},{\"attributes\":{},\"id\":\"1873\",\"type\":\"BasicTickFormatter\"},{\"attributes\":{},\"id\":\"1916\",\"type\":\"PanTool\"},{\"attributes\":{\"bottom_units\":\"screen\",\"fill_alpha\":{\"value\":0.5},\"fill_color\":{\"value\":\"lightgrey\"},\"left_units\":\"screen\",\"level\":\"overlay\",\"line_alpha\":{\"value\":1.0},\"line_color\":{\"value\":\"black\"},\"line_dash\":[4,4],\"line_width\":{\"value\":2},\"render_mode\":\"css\",\"right_units\":\"screen\",\"top_units\":\"screen\"},\"id\":\"1877\",\"type\":\"BoxAnnotation\"},{\"attributes\":{\"label\":{\"value\":\"Infected\"},\"renderers\":[{\"id\":\"1288\",\"type\":\"GlyphRenderer\"}]},\"id\":\"1299\",\"type\":\"LegendItem\"},{\"attributes\":{},\"id\":\"1917\",\"type\":\"WheelZoomTool\"},{\"attributes\":{\"below\":[{\"id\":\"1969\",\"type\":\"LinearAxis\"},{\"id\":\"2022\",\"type\":\"Title\"}],\"center\":[{\"id\":\"1973\",\"type\":\"Grid\"},{\"id\":\"1978\",\"type\":\"Grid\"},{\"id\":\"2004\",\"type\":\"Legend\"}],\"left\":[{\"id\":\"1974\",\"type\":\"LinearAxis\"}],\"plot_height\":400,\"plot_width\":400,\"renderers\":[{\"id\":\"1995\",\"type\":\"GlyphRenderer\"},{\"id\":\"2009\",\"type\":\"GlyphRenderer\"}],\"title\":{\"id\":\"1998\",\"type\":\"Title\"},\"toolbar\":{\"id\":\"1985\",\"type\":\"Toolbar\"},\"toolbar_location\":null,\"x_range\":{\"id\":\"1961\",\"type\":\"DataRange1d\"},\"x_scale\":{\"id\":\"1965\",\"type\":\"LinearScale\"},\"y_range\":{\"id\":\"1963\",\"type\":\"DataRange1d\"},\"y_scale\":{\"id\":\"1967\",\"type\":\"LinearScale\"}},\"id\":\"1960\",\"subtype\":\"Figure\",\"type\":\"Plot\"},{\"attributes\":{},\"id\":\"1280\",\"type\":\"BasicTickFormatter\"},{\"attributes\":{\"overlay\":{\"id\":\"1940\",\"type\":\"BoxAnnotation\"}},\"id\":\"1918\",\"type\":\"BoxZoomTool\"},{\"attributes\":{},\"id\":\"1875\",\"type\":\"BasicTickFormatter\"},{\"attributes\":{\"callback\":null},\"id\":\"1240\",\"type\":\"DataRange1d\"},{\"attributes\":{\"label\":{\"value\":\"Susceptible\"},\"renderers\":[{\"id\":\"1274\",\"type\":\"GlyphRenderer\"}]},\"id\":\"1284\",\"type\":\"LegendItem\"},{\"attributes\":{},\"id\":\"1919\",\"type\":\"SaveTool\"},{\"attributes\":{},\"id\":\"2047\",\"type\":\"UnionRenderers\"},{\"attributes\":{},\"id\":\"1315\",\"type\":\"UnionRenderers\"},{\"attributes\":{},\"id\":\"1920\",\"type\":\"ResetTool\"},{\"attributes\":{\"label\":{\"value\":\"Removed\"},\"renderers\":[{\"id\":\"1303\",\"type\":\"GlyphRenderer\"}]},\"id\":\"1316\",\"type\":\"LegendItem\"},{\"attributes\":{},\"id\":\"2059\",\"type\":\"UnionRenderers\"},{\"attributes\":{},\"id\":\"2071\",\"type\":\"UnionRenderers\"},{\"attributes\":{\"callback\":null},\"id\":\"1835\",\"type\":\"DataRange1d\"},{\"attributes\":{\"line_alpha\":0.5,\"line_color\":\"#aec7e8\",\"line_width\":2,\"x\":{\"field\":\"x\"},\"y\":{\"field\":\"y\"}},\"id\":\"1286\",\"type\":\"Line\"},{\"attributes\":{\"line_alpha\":0.5,\"line_color\":\"#aec7e8\",\"line_width\":2,\"x\":{\"field\":\"x\"},\"y\":{\"field\":\"y\"}},\"id\":\"1881\",\"type\":\"Line\"},{\"attributes\":{},\"id\":\"1921\",\"type\":\"HelpTool\"},{\"attributes\":{\"callback\":null,\"data\":{\"x\":[0,1,2,3,4,5,6,7,8,9,10,11,12,13,14,15,16,17,18,19,20,21,22,23,24,25,26,27,28,29,30,31,32,33,34,35,36,37,38,39,40,41,42,43,44,45,46,47,48,49,50,51,52,53,54,55,56,57,58,59,60,61,62,63,64,65,66,67,68,69,70,71,72,73,74,75,76,77,78,79,80,81,82,83,84,85,86,87,88,89,90,91,92,93,94,95,96,97,98,99,100,101,102,103,104,105,106,107,108,109,110,111,112,113,114,115,116,117,118,119,120,121,122,123,124,125,126,127,128,129,130,131,132,133,134,135,136,137,138,139,140,141,142,143,144,145,146,147,148,149,150,151,152,153,154,155,156,157,158,159,160,161,162,163,164,165,166,167,168,169,170,171,172,173,174,175,176,177,178,179,180,181,182,183,184,185,186,187,188,189,190,191,192,193,194,195,196,197,198,199],\"y\":{\"__ndarray__\":\"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\",\"dtype\":\"float64\",\"shape\":[200]}},\"selected\":{\"id\":\"2058\",\"type\":\"Selection\"},\"selection_policy\":{\"id\":\"2059\",\"type\":\"UnionRenderers\"}},\"id\":\"1943\",\"type\":\"ColumnDataSource\"},{\"attributes\":{},\"id\":\"1314\",\"type\":\"Selection\"},{\"attributes\":{},\"id\":\"2070\",\"type\":\"Selection\"},{\"attributes\":{\"line_alpha\":0.5,\"line_color\":\"#aec7e8\",\"line_width\":2,\"x\":{\"field\":\"x\"},\"y\":{\"field\":\"y\"}},\"id\":\"1944\",\"type\":\"Line\"},{\"attributes\":{\"children\":[[{\"id\":\"1239\",\"subtype\":\"Figure\",\"type\":\"Plot\"},0,0],[{\"id\":\"1834\",\"subtype\":\"Figure\",\"type\":\"Plot\"},0,1],[{\"id\":\"1897\",\"subtype\":\"Figure\",\"type\":\"Plot\"},1,0],[{\"id\":\"1960\",\"subtype\":\"Figure\",\"type\":\"Plot\"},1,1]]},\"id\":\"2073\",\"type\":\"GridBox\"},{\"attributes\":{\"callback\":null,\"data\":{\"x\":[0,1,2,3,4,5,6,7,8,9,10,11,12,13,14,15,16,17,18,19,20,21,22,23,24,25,26,27,28,29,30,31,32,33,34,35,36,37,38,39,40,41,42,43,44,45,46,47,48,49,50,51,52,53,54,55,56,57,58,59,60,61,62,63,64,65,66,67,68,69,70,71,72,73,74,75,76,77,78,79,80,81,82,83,84,85,86,87,88,89,90,91,92,93,94,95,96,97,98,99,100,101,102,103,104,105,106,107,108,109,110,111,112,113,114,115,116,117,118,119,120,121,122,123,124,125,126,127,128,129,130,131,132,133,134,135,136,137,138,139,140,141,142,143,144,145,146,147,148,149,150,151,152,153,154,155,156,157,158,159,160,161,162,163,164,165,166,167,168,169,170,171,172,173,174,175,176,177,178,179,180,181,182,183,184,185,186,187,188,189,190,191,192,193,194,195,196,197,198,199],\"y\":{\"__ndarray__\":\"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\",\"dtype\":\"float64\",\"shape\":[200]}},\"selected\":{\"id\":\"1314\",\"type\":\"Selection\"},\"selection_policy\":{\"id\":\"1315\",\"type\":\"UnionRenderers\"}},\"id\":\"1285\",\"type\":\"ColumnDataSource\"},{\"attributes\":{\"callback\":null,\"data\":{\"x\":[0,1,2,3,4,5,6,7,8,9,10,11,12,13,14,15,16,17,18,19,20,21,22,23,24,25,26,27,28,29,30,31,32,33,34,35,36,37,38,39,40,41,42,43,44,45,46,47,48,49,50,51,52,53,54,55,56,57,58,59,60,61,62,63,64,65,66,67,68,69,70,71,72,73,74,75,76,77,78,79,80,81,82,83,84,85,86,87,88,89,90,91,92,93,94,95,96,97,98,99,100,101,102,103,104,105,106,107,108,109,110,111,112,113,114,115,116,117,118,119,120,121,122,123,124,125,126,127,128,129,130,131,132,133,134,135,136,137,138,139,140,141,142,143,144,145,146,147,148,149,150,151,152,153,154,155,156,157,158,159,160,161,162,163,164,165,166,167,168,169,170,171,172,173,174,175,176,177,178,179,180,181,182,183,184,185,186,187,188,189,190,191,192,193,194,195,196,197,198,199],\"y\":{\"__ndarray__\":\"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\",\"dtype\":\"float64\",\"shape\":[200]}},\"selected\":{\"id\":\"2046\",\"type\":\"Selection\"},\"selection_policy\":{\"id\":\"2047\",\"type\":\"UnionRenderers\"}},\"id\":\"1880\",\"type\":\"ColumnDataSource\"},{\"attributes\":{},\"id\":\"2058\",\"type\":\"Selection\"},{\"attributes\":{\"text\":\"SI - Diffusion Trend\"},\"id\":\"1935\",\"type\":\"Title\"},{\"attributes\":{\"line_alpha\":0.1,\"line_color\":\"#1f77b4\",\"line_width\":2,\"x\":{\"field\":\"x\"},\"y\":{\"field\":\"y\"}},\"id\":\"1287\",\"type\":\"Line\"},{\"attributes\":{\"line_alpha\":0.1,\"line_color\":\"#1f77b4\",\"line_width\":2,\"x\":{\"field\":\"x\"},\"y\":{\"field\":\"y\"}},\"id\":\"1882\",\"type\":\"Line\"},{\"attributes\":{\"items\":[{\"id\":\"1942\",\"type\":\"LegendItem\"},{\"id\":\"1957\",\"type\":\"LegendItem\"}],\"orientation\":\"horizontal\"},\"id\":\"1941\",\"type\":\"Legend\"},{\"attributes\":{\"below\":[{\"id\":\"1906\",\"type\":\"LinearAxis\"},{\"id\":\"1959\",\"type\":\"Title\"}],\"center\":[{\"id\":\"1910\",\"type\":\"Grid\"},{\"id\":\"1915\",\"type\":\"Grid\"},{\"id\":\"1941\",\"type\":\"Legend\"}],\"left\":[{\"id\":\"1911\",\"type\":\"LinearAxis\"}],\"plot_height\":400,\"plot_width\":400,\"renderers\":[{\"id\":\"1932\",\"type\":\"GlyphRenderer\"},{\"id\":\"1946\",\"type\":\"GlyphRenderer\"}],\"title\":{\"id\":\"1935\",\"type\":\"Title\"},\"toolbar\":{\"id\":\"1922\",\"type\":\"Toolbar\"},\"toolbar_location\":null,\"x_range\":{\"id\":\"1898\",\"type\":\"DataRange1d\"},\"x_scale\":{\"id\":\"1902\",\"type\":\"LinearScale\"},\"y_range\":{\"id\":\"1900\",\"type\":\"DataRange1d\"},\"y_scale\":{\"id\":\"1904\",\"type\":\"LinearScale\"}},\"id\":\"1897\",\"subtype\":\"Figure\",\"type\":\"Plot\"},{\"attributes\":{\"toolbar\":{\"id\":\"2074\",\"type\":\"ProxyToolbar\"},\"toolbar_location\":\"above\"},\"id\":\"2075\",\"type\":\"ToolbarBox\"},{\"attributes\":{\"data_source\":{\"id\":\"1285\",\"type\":\"ColumnDataSource\"},\"glyph\":{\"id\":\"1286\",\"type\":\"Line\"},\"hover_glyph\":null,\"muted_glyph\":null,\"nonselection_glyph\":{\"id\":\"1287\",\"type\":\"Line\"},\"selection_glyph\":null,\"view\":{\"id\":\"1289\",\"type\":\"CDSView\"}},\"id\":\"1288\",\"type\":\"GlyphRenderer\"},{\"attributes\":{\"data_source\":{\"id\":\"1880\",\"type\":\"ColumnDataSource\"},\"glyph\":{\"id\":\"1881\",\"type\":\"Line\"},\"hover_glyph\":null,\"muted_glyph\":null,\"nonselection_glyph\":{\"id\":\"1882\",\"type\":\"Line\"},\"selection_glyph\":null,\"view\":{\"id\":\"1884\",\"type\":\"CDSView\"}},\"id\":\"1883\",\"type\":\"GlyphRenderer\"},{\"attributes\":{\"source\":{\"id\":\"1285\",\"type\":\"ColumnDataSource\"}},\"id\":\"1289\",\"type\":\"CDSView\"},{\"attributes\":{\"source\":{\"id\":\"1880\",\"type\":\"ColumnDataSource\"}},\"id\":\"1884\",\"type\":\"CDSView\"},{\"attributes\":{\"source\":{\"id\":\"1929\",\"type\":\"ColumnDataSource\"}},\"id\":\"1933\",\"type\":\"CDSView\"},{\"attributes\":{},\"id\":\"1936\",\"type\":\"BasicTickFormatter\"},{\"attributes\":{},\"id\":\"1297\",\"type\":\"Selection\"},{\"attributes\":{},\"id\":\"1892\",\"type\":\"Selection\"},{\"attributes\":{\"line_alpha\":0.5,\"line_color\":\"#1f77b4\",\"line_width\":2,\"x\":{\"field\":\"x\"},\"y\":{\"field\":\"y\"}},\"id\":\"1867\",\"type\":\"Line\"},{\"attributes\":{\"bottom_units\":\"screen\",\"fill_alpha\":{\"value\":0.5},\"fill_color\":{\"value\":\"lightgrey\"},\"left_units\":\"screen\",\"level\":\"overlay\",\"line_alpha\":{\"value\":1.0},\"line_color\":{\"value\":\"black\"},\"line_dash\":[4,4],\"line_width\":{\"value\":2},\"render_mode\":\"css\",\"right_units\":\"screen\",\"top_units\":\"screen\"},\"id\":\"1940\",\"type\":\"BoxAnnotation\"},{\"attributes\":{\"label\":{\"value\":\"Infected\"},\"renderers\":[{\"id\":\"1883\",\"type\":\"GlyphRenderer\"}]},\"id\":\"1894\",\"type\":\"LegendItem\"},{\"attributes\":{},\"id\":\"1298\",\"type\":\"UnionRenderers\"},{\"attributes\":{\"callback\":null},\"id\":\"1900\",\"type\":\"DataRange1d\"}],\"root_ids\":[\"2076\"]},\"title\":\"Bokeh Application\",\"version\":\"1.4.0\"}};\n",
       "  var render_items = [{\"docid\":\"8b5f184a-5c7a-4e13-8083-f64f8610ca4a\",\"roots\":{\"2076\":\"1cd66838-511e-4219-aa17-5602944471b9\"}}];\n",
       "  root.Bokeh.embed.embed_items_notebook(docs_json, render_items);\n",
       "\n",
       "  }\n",
       "  if (root.Bokeh !== undefined) {\n",
       "    embed_document(root);\n",
       "  } else {\n",
       "    var attempts = 0;\n",
       "    var timer = setInterval(function(root) {\n",
       "      if (root.Bokeh !== undefined) {\n",
       "        clearInterval(timer);\n",
       "        embed_document(root);\n",
       "      } else {\n",
       "        attempts++;\n",
       "        if (attempts > 100) {\n",
       "          clearInterval(timer);\n",
       "          console.log(\"Bokeh: ERROR: Unable to run BokehJS code because BokehJS library is missing\");\n",
       "        }\n",
       "      }\n",
       "    }, 10, root)\n",
       "  }\n",
       "})(window);"
      ],
      "application/vnd.bokehjs_exec.v0+json": ""
     },
     "metadata": {
      "application/vnd.bokehjs_exec.v0+json": {
       "id": "2076"
      }
     },
     "output_type": "display_data"
    }
   ],
   "source": [
    "# model comparisions\n",
    "vm = MultiPlot()\n",
    "vm.add_plot(p)\n",
    "\n",
    "# SIS\n",
    "sis_model = ep.SISModel(g)\n",
    "config = mc.Configuration()\n",
    "config.add_model_parameter('beta', 0.001)\n",
    "config.add_model_parameter('lambda', 0.01)\n",
    "config.add_model_parameter(\"fraction_infected\", 0.05)\n",
    "sis_model.set_initial_status(config)\n",
    "iterations = sis_model.iteration_bunch(200)\n",
    "trends = sis_model.build_trends(iterations)\n",
    "\n",
    "viz = DiffusionTrend(sis_model, trends)\n",
    "p3 = viz.plot(width=400, height=400)\n",
    "vm.add_plot(p3)\n",
    "\n",
    "# SI\n",
    "si_model = ep.SIModel(g)\n",
    "config = mc.Configuration()\n",
    "config.add_model_parameter('beta', 0.001)\n",
    "config.add_model_parameter(\"fraction_infected\", 0.05)\n",
    "si_model.set_initial_status(config)\n",
    "iterations = si_model.iteration_bunch(200)\n",
    "trends = si_model.build_trends(iterations)\n",
    "\n",
    "viz = DiffusionTrend(si_model, trends)\n",
    "p4 = viz.plot(width=400, height=400)\n",
    "vm.add_plot(p4)\n",
    "\n",
    "# Threshold\n",
    "th_model = ep.ThresholdModel(g)\n",
    "config = mc.Configuration()\n",
    "\n",
    "# Set individual node threshold\n",
    "threshold = 0.40\n",
    "for n in g.nodes():\n",
    "    config.add_node_configuration(\"threshold\", n, threshold)\n",
    "\n",
    "config.add_model_parameter(\"fraction_infected\", 0.30)\n",
    "th_model.set_initial_status(config)\n",
    "iterations = th_model.iteration_bunch(60)\n",
    "trends = th_model.build_trends(iterations)\n",
    "\n",
    "viz = DiffusionTrend(th_model, trends)\n",
    "p5 = viz.plot(width=400, height=400)\n",
    "vm.add_plot(p5)\n",
    "\n",
    "m = vm.plot()\n",
    "show(m)"
   ]
  },
  {
   "cell_type": "markdown",
   "metadata": {
    "slideshow": {
     "slide_type": "slide"
    }
   },
   "source": [
    "# Threshold model\n",
    "The threshold model was introduced in 1978 by Granovetter [1]. A node has two distinct and mutually exclusive behavioral alternatives, e.g., the decision to do or not do something. Individual decision depends on the percentage of `its neighbors` have made the same choice, thus imposing a threshold.\n",
    "- each node has its own threshold; \n",
    "- during a generic iteration every node is observed: \n",
    "    - if the percentage of its infected neighbors is grater than its threshold it becomes infected as well.\n",
    "    \n",
    "Granovetter, “Threshold models of collective behavior,” The American Journal of Sociology, vol. 83, no. 6, pp. 1420–1443, 1978."
   ]
  },
  {
   "cell_type": "markdown",
   "metadata": {
    "slideshow": {
     "slide_type": "subslide"
    }
   },
   "source": [
    "![image.png](img/si7.png)"
   ]
  },
  {
   "cell_type": "markdown",
   "metadata": {
    "cell_style": "split",
    "slideshow": {
     "slide_type": "subslide"
    }
   },
   "source": [
    "![image.png](img/si8.png)"
   ]
  },
  {
   "cell_type": "markdown",
   "metadata": {
    "cell_style": "split",
    "slideshow": {
     "slide_type": "fragment"
    }
   },
   "source": [
    "![image.png](img/si9.png)"
   ]
  },
  {
   "cell_type": "markdown",
   "metadata": {
    "cell_style": "center",
    "slideshow": {
     "slide_type": "subslide"
    }
   },
   "source": [
    "![image.png](img/si10.png)"
   ]
  },
  {
   "cell_type": "code",
   "execution_count": 16,
   "metadata": {
    "ExecuteTime": {
     "end_time": "2020-08-09T13:57:14.012917Z",
     "start_time": "2020-08-09T13:57:14.007801Z"
    },
    "slideshow": {
     "slide_type": "subslide"
    }
   },
   "outputs": [],
   "source": [
    "import networkx as nx\n",
    "import ndlib.models.ModelConfig as mc\n",
    "import ndlib.models.epidemics as ep\n",
    "\n",
    "def watts_model_ba_network(m, threshold, fraction_infected, iteration_num):\n",
    "    # change these two parameters\n",
    "    # num_neighbors = 1\n",
    "    # threshold = 0.5\n",
    "    # fraction_infected = 0.1\n",
    "    # iteration_num = 30\n",
    "\n",
    "    # Network topology\n",
    "    #g = nx.erdos_renyi_graph(1000, 0.1)\n",
    "    g = nx.barabasi_albert_graph(1000, m)\n",
    "    # Model selection\n",
    "    model = ep.ThresholdModel(g)\n",
    "    # Model Configuration\n",
    "    config = mc.Configuration()\n",
    "    config.add_model_parameter('fraction_infected', fraction_infected)\n",
    "    # Setting node parameters\n",
    "    for i in g.nodes():\n",
    "        config.add_node_configuration(\"threshold\", i, threshold)\n",
    "\n",
    "    model.set_initial_status(config)\n",
    "    # Simulation execution\n",
    "    iterations = model.iteration_bunch(iteration_num)\n",
    "    return model, iterations\n",
    "\n",
    "\n"
   ]
  },
  {
   "cell_type": "code",
   "execution_count": 11,
   "metadata": {
    "ExecuteTime": {
     "end_time": "2020-08-09T13:55:31.615421Z",
     "start_time": "2020-08-09T13:55:31.611095Z"
    },
    "slideshow": {
     "slide_type": "subslide"
    }
   },
   "outputs": [],
   "source": [
    "def plot_diffusion(model, iterations):\n",
    "    output_notebook() # show bokeh in notebook\n",
    "    trends = model.build_trends(iterations)\n",
    "    viz = DiffusionTrend(model, trends)\n",
    "    p = viz.plot(width=400, height=400)\n",
    "\n",
    "    viz2 = DiffusionPrevalence(model, trends)\n",
    "    p2 = viz2.plot(width=400, height=400)\n",
    "\n",
    "    vm = MultiPlot()\n",
    "    vm.add_plot(p)\n",
    "    vm.add_plot(p2)\n",
    "    m = vm.plot()\n",
    "    show(m)\n",
    "\n"
   ]
  },
  {
   "cell_type": "code",
   "execution_count": 17,
   "metadata": {
    "ExecuteTime": {
     "end_time": "2020-08-09T13:57:20.240542Z",
     "start_time": "2020-08-09T13:57:20.024662Z"
    }
   },
   "outputs": [
    {
     "name": "stderr",
     "output_type": "stream",
     "text": [
      "100%|██████████| 30/30 [00:00<00:00, 465.02it/s]\n"
     ]
    },
    {
     "data": {
      "text/html": [
       "\n",
       "    <div class=\"bk-root\">\n",
       "        <a href=\"https://bokeh.org\" target=\"_blank\" class=\"bk-logo bk-logo-small bk-logo-notebook\"></a>\n",
       "        <span id=\"3185\">Loading BokehJS ...</span>\n",
       "    </div>"
      ]
     },
     "metadata": {},
     "output_type": "display_data"
    },
    {
     "data": {
      "application/javascript": [
       "\n",
       "(function(root) {\n",
       "  function now() {\n",
       "    return new Date();\n",
       "  }\n",
       "\n",
       "  var force = true;\n",
       "\n",
       "  if (typeof root._bokeh_onload_callbacks === \"undefined\" || force === true) {\n",
       "    root._bokeh_onload_callbacks = [];\n",
       "    root._bokeh_is_loading = undefined;\n",
       "  }\n",
       "\n",
       "  var JS_MIME_TYPE = 'application/javascript';\n",
       "  var HTML_MIME_TYPE = 'text/html';\n",
       "  var EXEC_MIME_TYPE = 'application/vnd.bokehjs_exec.v0+json';\n",
       "  var CLASS_NAME = 'output_bokeh rendered_html';\n",
       "\n",
       "  /**\n",
       "   * Render data to the DOM node\n",
       "   */\n",
       "  function render(props, node) {\n",
       "    var script = document.createElement(\"script\");\n",
       "    node.appendChild(script);\n",
       "  }\n",
       "\n",
       "  /**\n",
       "   * Handle when an output is cleared or removed\n",
       "   */\n",
       "  function handleClearOutput(event, handle) {\n",
       "    var cell = handle.cell;\n",
       "\n",
       "    var id = cell.output_area._bokeh_element_id;\n",
       "    var server_id = cell.output_area._bokeh_server_id;\n",
       "    // Clean up Bokeh references\n",
       "    if (id != null && id in Bokeh.index) {\n",
       "      Bokeh.index[id].model.document.clear();\n",
       "      delete Bokeh.index[id];\n",
       "    }\n",
       "\n",
       "    if (server_id !== undefined) {\n",
       "      // Clean up Bokeh references\n",
       "      var cmd = \"from bokeh.io.state import curstate; print(curstate().uuid_to_server['\" + server_id + \"'].get_sessions()[0].document.roots[0]._id)\";\n",
       "      cell.notebook.kernel.execute(cmd, {\n",
       "        iopub: {\n",
       "          output: function(msg) {\n",
       "            var id = msg.content.text.trim();\n",
       "            if (id in Bokeh.index) {\n",
       "              Bokeh.index[id].model.document.clear();\n",
       "              delete Bokeh.index[id];\n",
       "            }\n",
       "          }\n",
       "        }\n",
       "      });\n",
       "      // Destroy server and session\n",
       "      var cmd = \"import bokeh.io.notebook as ion; ion.destroy_server('\" + server_id + \"')\";\n",
       "      cell.notebook.kernel.execute(cmd);\n",
       "    }\n",
       "  }\n",
       "\n",
       "  /**\n",
       "   * Handle when a new output is added\n",
       "   */\n",
       "  function handleAddOutput(event, handle) {\n",
       "    var output_area = handle.output_area;\n",
       "    var output = handle.output;\n",
       "\n",
       "    // limit handleAddOutput to display_data with EXEC_MIME_TYPE content only\n",
       "    if ((output.output_type != \"display_data\") || (!output.data.hasOwnProperty(EXEC_MIME_TYPE))) {\n",
       "      return\n",
       "    }\n",
       "\n",
       "    var toinsert = output_area.element.find(\".\" + CLASS_NAME.split(' ')[0]);\n",
       "\n",
       "    if (output.metadata[EXEC_MIME_TYPE][\"id\"] !== undefined) {\n",
       "      toinsert[toinsert.length - 1].firstChild.textContent = output.data[JS_MIME_TYPE];\n",
       "      // store reference to embed id on output_area\n",
       "      output_area._bokeh_element_id = output.metadata[EXEC_MIME_TYPE][\"id\"];\n",
       "    }\n",
       "    if (output.metadata[EXEC_MIME_TYPE][\"server_id\"] !== undefined) {\n",
       "      var bk_div = document.createElement(\"div\");\n",
       "      bk_div.innerHTML = output.data[HTML_MIME_TYPE];\n",
       "      var script_attrs = bk_div.children[0].attributes;\n",
       "      for (var i = 0; i < script_attrs.length; i++) {\n",
       "        toinsert[toinsert.length - 1].firstChild.setAttribute(script_attrs[i].name, script_attrs[i].value);\n",
       "      }\n",
       "      // store reference to server id on output_area\n",
       "      output_area._bokeh_server_id = output.metadata[EXEC_MIME_TYPE][\"server_id\"];\n",
       "    }\n",
       "  }\n",
       "\n",
       "  function register_renderer(events, OutputArea) {\n",
       "\n",
       "    function append_mime(data, metadata, element) {\n",
       "      // create a DOM node to render to\n",
       "      var toinsert = this.create_output_subarea(\n",
       "        metadata,\n",
       "        CLASS_NAME,\n",
       "        EXEC_MIME_TYPE\n",
       "      );\n",
       "      this.keyboard_manager.register_events(toinsert);\n",
       "      // Render to node\n",
       "      var props = {data: data, metadata: metadata[EXEC_MIME_TYPE]};\n",
       "      render(props, toinsert[toinsert.length - 1]);\n",
       "      element.append(toinsert);\n",
       "      return toinsert\n",
       "    }\n",
       "\n",
       "    /* Handle when an output is cleared or removed */\n",
       "    events.on('clear_output.CodeCell', handleClearOutput);\n",
       "    events.on('delete.Cell', handleClearOutput);\n",
       "\n",
       "    /* Handle when a new output is added */\n",
       "    events.on('output_added.OutputArea', handleAddOutput);\n",
       "\n",
       "    /**\n",
       "     * Register the mime type and append_mime function with output_area\n",
       "     */\n",
       "    OutputArea.prototype.register_mime_type(EXEC_MIME_TYPE, append_mime, {\n",
       "      /* Is output safe? */\n",
       "      safe: true,\n",
       "      /* Index of renderer in `output_area.display_order` */\n",
       "      index: 0\n",
       "    });\n",
       "  }\n",
       "\n",
       "  // register the mime type if in Jupyter Notebook environment and previously unregistered\n",
       "  if (root.Jupyter !== undefined) {\n",
       "    var events = require('base/js/events');\n",
       "    var OutputArea = require('notebook/js/outputarea').OutputArea;\n",
       "\n",
       "    if (OutputArea.prototype.mime_types().indexOf(EXEC_MIME_TYPE) == -1) {\n",
       "      register_renderer(events, OutputArea);\n",
       "    }\n",
       "  }\n",
       "\n",
       "  \n",
       "  if (typeof (root._bokeh_timeout) === \"undefined\" || force === true) {\n",
       "    root._bokeh_timeout = Date.now() + 5000;\n",
       "    root._bokeh_failed_load = false;\n",
       "  }\n",
       "\n",
       "  var NB_LOAD_WARNING = {'data': {'text/html':\n",
       "     \"<div style='background-color: #fdd'>\\n\"+\n",
       "     \"<p>\\n\"+\n",
       "     \"BokehJS does not appear to have successfully loaded. If loading BokehJS from CDN, this \\n\"+\n",
       "     \"may be due to a slow or bad network connection. Possible fixes:\\n\"+\n",
       "     \"</p>\\n\"+\n",
       "     \"<ul>\\n\"+\n",
       "     \"<li>re-rerun `output_notebook()` to attempt to load from CDN again, or</li>\\n\"+\n",
       "     \"<li>use INLINE resources instead, as so:</li>\\n\"+\n",
       "     \"</ul>\\n\"+\n",
       "     \"<code>\\n\"+\n",
       "     \"from bokeh.resources import INLINE\\n\"+\n",
       "     \"output_notebook(resources=INLINE)\\n\"+\n",
       "     \"</code>\\n\"+\n",
       "     \"</div>\"}};\n",
       "\n",
       "  function display_loaded() {\n",
       "    var el = document.getElementById(\"3185\");\n",
       "    if (el != null) {\n",
       "      el.textContent = \"BokehJS is loading...\";\n",
       "    }\n",
       "    if (root.Bokeh !== undefined) {\n",
       "      if (el != null) {\n",
       "        el.textContent = \"BokehJS \" + root.Bokeh.version + \" successfully loaded.\";\n",
       "      }\n",
       "    } else if (Date.now() < root._bokeh_timeout) {\n",
       "      setTimeout(display_loaded, 100)\n",
       "    }\n",
       "  }\n",
       "\n",
       "\n",
       "  function run_callbacks() {\n",
       "    try {\n",
       "      root._bokeh_onload_callbacks.forEach(function(callback) {\n",
       "        if (callback != null)\n",
       "          callback();\n",
       "      });\n",
       "    } finally {\n",
       "      delete root._bokeh_onload_callbacks\n",
       "    }\n",
       "    console.debug(\"Bokeh: all callbacks have finished\");\n",
       "  }\n",
       "\n",
       "  function load_libs(css_urls, js_urls, callback) {\n",
       "    if (css_urls == null) css_urls = [];\n",
       "    if (js_urls == null) js_urls = [];\n",
       "\n",
       "    root._bokeh_onload_callbacks.push(callback);\n",
       "    if (root._bokeh_is_loading > 0) {\n",
       "      console.debug(\"Bokeh: BokehJS is being loaded, scheduling callback at\", now());\n",
       "      return null;\n",
       "    }\n",
       "    if (js_urls == null || js_urls.length === 0) {\n",
       "      run_callbacks();\n",
       "      return null;\n",
       "    }\n",
       "    console.debug(\"Bokeh: BokehJS not loaded, scheduling load and callback at\", now());\n",
       "    root._bokeh_is_loading = css_urls.length + js_urls.length;\n",
       "\n",
       "    function on_load() {\n",
       "      root._bokeh_is_loading--;\n",
       "      if (root._bokeh_is_loading === 0) {\n",
       "        console.debug(\"Bokeh: all BokehJS libraries/stylesheets loaded\");\n",
       "        run_callbacks()\n",
       "      }\n",
       "    }\n",
       "\n",
       "    function on_error() {\n",
       "      console.error(\"failed to load \" + url);\n",
       "    }\n",
       "\n",
       "    for (var i = 0; i < css_urls.length; i++) {\n",
       "      var url = css_urls[i];\n",
       "      const element = document.createElement(\"link\");\n",
       "      element.onload = on_load;\n",
       "      element.onerror = on_error;\n",
       "      element.rel = \"stylesheet\";\n",
       "      element.type = \"text/css\";\n",
       "      element.href = url;\n",
       "      console.debug(\"Bokeh: injecting link tag for BokehJS stylesheet: \", url);\n",
       "      document.body.appendChild(element);\n",
       "    }\n",
       "\n",
       "    for (var i = 0; i < js_urls.length; i++) {\n",
       "      var url = js_urls[i];\n",
       "      var element = document.createElement('script');\n",
       "      element.onload = on_load;\n",
       "      element.onerror = on_error;\n",
       "      element.async = false;\n",
       "      element.src = url;\n",
       "      console.debug(\"Bokeh: injecting script tag for BokehJS library: \", url);\n",
       "      document.head.appendChild(element);\n",
       "    }\n",
       "  };var element = document.getElementById(\"3185\");\n",
       "  if (element == null) {\n",
       "    console.error(\"Bokeh: ERROR: autoload.js configured with elementid '3185' but no matching script tag was found. \")\n",
       "    return false;\n",
       "  }\n",
       "\n",
       "  function inject_raw_css(css) {\n",
       "    const element = document.createElement(\"style\");\n",
       "    element.appendChild(document.createTextNode(css));\n",
       "    document.body.appendChild(element);\n",
       "  }\n",
       "\n",
       "  \n",
       "  var js_urls = [\"https://cdn.pydata.org/bokeh/release/bokeh-1.4.0.min.js\", \"https://cdn.pydata.org/bokeh/release/bokeh-widgets-1.4.0.min.js\", \"https://cdn.pydata.org/bokeh/release/bokeh-tables-1.4.0.min.js\", \"https://cdn.pydata.org/bokeh/release/bokeh-gl-1.4.0.min.js\"];\n",
       "  var css_urls = [];\n",
       "  \n",
       "\n",
       "  var inline_js = [\n",
       "    function(Bokeh) {\n",
       "      Bokeh.set_log_level(\"info\");\n",
       "    },\n",
       "    function(Bokeh) {\n",
       "    \n",
       "    \n",
       "    }\n",
       "  ];\n",
       "\n",
       "  function run_inline_js() {\n",
       "    \n",
       "    if (root.Bokeh !== undefined || force === true) {\n",
       "      \n",
       "    for (var i = 0; i < inline_js.length; i++) {\n",
       "      inline_js[i].call(root, root.Bokeh);\n",
       "    }\n",
       "    if (force === true) {\n",
       "        display_loaded();\n",
       "      }} else if (Date.now() < root._bokeh_timeout) {\n",
       "      setTimeout(run_inline_js, 100);\n",
       "    } else if (!root._bokeh_failed_load) {\n",
       "      console.log(\"Bokeh: BokehJS failed to load within specified timeout.\");\n",
       "      root._bokeh_failed_load = true;\n",
       "    } else if (force !== true) {\n",
       "      var cell = $(document.getElementById(\"3185\")).parents('.cell').data().cell;\n",
       "      cell.output_area.append_execute_result(NB_LOAD_WARNING)\n",
       "    }\n",
       "\n",
       "  }\n",
       "\n",
       "  if (root._bokeh_is_loading === 0) {\n",
       "    console.debug(\"Bokeh: BokehJS loaded, going straight to plotting\");\n",
       "    run_inline_js();\n",
       "  } else {\n",
       "    load_libs(css_urls, js_urls, function() {\n",
       "      console.debug(\"Bokeh: BokehJS plotting callback run at\", now());\n",
       "      run_inline_js();\n",
       "    });\n",
       "  }\n",
       "}(window));"
      ],
      "application/vnd.bokehjs_load.v0+json": "\n(function(root) {\n  function now() {\n    return new Date();\n  }\n\n  var force = true;\n\n  if (typeof root._bokeh_onload_callbacks === \"undefined\" || force === true) {\n    root._bokeh_onload_callbacks = [];\n    root._bokeh_is_loading = undefined;\n  }\n\n  \n\n  \n  if (typeof (root._bokeh_timeout) === \"undefined\" || force === true) {\n    root._bokeh_timeout = Date.now() + 5000;\n    root._bokeh_failed_load = false;\n  }\n\n  var NB_LOAD_WARNING = {'data': {'text/html':\n     \"<div style='background-color: #fdd'>\\n\"+\n     \"<p>\\n\"+\n     \"BokehJS does not appear to have successfully loaded. If loading BokehJS from CDN, this \\n\"+\n     \"may be due to a slow or bad network connection. Possible fixes:\\n\"+\n     \"</p>\\n\"+\n     \"<ul>\\n\"+\n     \"<li>re-rerun `output_notebook()` to attempt to load from CDN again, or</li>\\n\"+\n     \"<li>use INLINE resources instead, as so:</li>\\n\"+\n     \"</ul>\\n\"+\n     \"<code>\\n\"+\n     \"from bokeh.resources import INLINE\\n\"+\n     \"output_notebook(resources=INLINE)\\n\"+\n     \"</code>\\n\"+\n     \"</div>\"}};\n\n  function display_loaded() {\n    var el = document.getElementById(\"3185\");\n    if (el != null) {\n      el.textContent = \"BokehJS is loading...\";\n    }\n    if (root.Bokeh !== undefined) {\n      if (el != null) {\n        el.textContent = \"BokehJS \" + root.Bokeh.version + \" successfully loaded.\";\n      }\n    } else if (Date.now() < root._bokeh_timeout) {\n      setTimeout(display_loaded, 100)\n    }\n  }\n\n\n  function run_callbacks() {\n    try {\n      root._bokeh_onload_callbacks.forEach(function(callback) {\n        if (callback != null)\n          callback();\n      });\n    } finally {\n      delete root._bokeh_onload_callbacks\n    }\n    console.debug(\"Bokeh: all callbacks have finished\");\n  }\n\n  function load_libs(css_urls, js_urls, callback) {\n    if (css_urls == null) css_urls = [];\n    if (js_urls == null) js_urls = [];\n\n    root._bokeh_onload_callbacks.push(callback);\n    if (root._bokeh_is_loading > 0) {\n      console.debug(\"Bokeh: BokehJS is being loaded, scheduling callback at\", now());\n      return null;\n    }\n    if (js_urls == null || js_urls.length === 0) {\n      run_callbacks();\n      return null;\n    }\n    console.debug(\"Bokeh: BokehJS not loaded, scheduling load and callback at\", now());\n    root._bokeh_is_loading = css_urls.length + js_urls.length;\n\n    function on_load() {\n      root._bokeh_is_loading--;\n      if (root._bokeh_is_loading === 0) {\n        console.debug(\"Bokeh: all BokehJS libraries/stylesheets loaded\");\n        run_callbacks()\n      }\n    }\n\n    function on_error() {\n      console.error(\"failed to load \" + url);\n    }\n\n    for (var i = 0; i < css_urls.length; i++) {\n      var url = css_urls[i];\n      const element = document.createElement(\"link\");\n      element.onload = on_load;\n      element.onerror = on_error;\n      element.rel = \"stylesheet\";\n      element.type = \"text/css\";\n      element.href = url;\n      console.debug(\"Bokeh: injecting link tag for BokehJS stylesheet: \", url);\n      document.body.appendChild(element);\n    }\n\n    for (var i = 0; i < js_urls.length; i++) {\n      var url = js_urls[i];\n      var element = document.createElement('script');\n      element.onload = on_load;\n      element.onerror = on_error;\n      element.async = false;\n      element.src = url;\n      console.debug(\"Bokeh: injecting script tag for BokehJS library: \", url);\n      document.head.appendChild(element);\n    }\n  };var element = document.getElementById(\"3185\");\n  if (element == null) {\n    console.error(\"Bokeh: ERROR: autoload.js configured with elementid '3185' but no matching script tag was found. \")\n    return false;\n  }\n\n  function inject_raw_css(css) {\n    const element = document.createElement(\"style\");\n    element.appendChild(document.createTextNode(css));\n    document.body.appendChild(element);\n  }\n\n  \n  var js_urls = [\"https://cdn.pydata.org/bokeh/release/bokeh-1.4.0.min.js\", \"https://cdn.pydata.org/bokeh/release/bokeh-widgets-1.4.0.min.js\", \"https://cdn.pydata.org/bokeh/release/bokeh-tables-1.4.0.min.js\", \"https://cdn.pydata.org/bokeh/release/bokeh-gl-1.4.0.min.js\"];\n  var css_urls = [];\n  \n\n  var inline_js = [\n    function(Bokeh) {\n      Bokeh.set_log_level(\"info\");\n    },\n    function(Bokeh) {\n    \n    \n    }\n  ];\n\n  function run_inline_js() {\n    \n    if (root.Bokeh !== undefined || force === true) {\n      \n    for (var i = 0; i < inline_js.length; i++) {\n      inline_js[i].call(root, root.Bokeh);\n    }\n    if (force === true) {\n        display_loaded();\n      }} else if (Date.now() < root._bokeh_timeout) {\n      setTimeout(run_inline_js, 100);\n    } else if (!root._bokeh_failed_load) {\n      console.log(\"Bokeh: BokehJS failed to load within specified timeout.\");\n      root._bokeh_failed_load = true;\n    } else if (force !== true) {\n      var cell = $(document.getElementById(\"3185\")).parents('.cell').data().cell;\n      cell.output_area.append_execute_result(NB_LOAD_WARNING)\n    }\n\n  }\n\n  if (root._bokeh_is_loading === 0) {\n    console.debug(\"Bokeh: BokehJS loaded, going straight to plotting\");\n    run_inline_js();\n  } else {\n    load_libs(css_urls, js_urls, function() {\n      console.debug(\"Bokeh: BokehJS plotting callback run at\", now());\n      run_inline_js();\n    });\n  }\n}(window));"
     },
     "metadata": {},
     "output_type": "display_data"
    },
    {
     "name": "stderr",
     "output_type": "stream",
     "text": [
      "BokehDeprecationWarning: 'legend' keyword is deprecated, use explicit 'legend_label', 'legend_field', or 'legend_group' keywords instead\n",
      "BokehDeprecationWarning: 'legend' keyword is deprecated, use explicit 'legend_label', 'legend_field', or 'legend_group' keywords instead\n",
      "BokehDeprecationWarning: 'legend' keyword is deprecated, use explicit 'legend_label', 'legend_field', or 'legend_group' keywords instead\n",
      "BokehDeprecationWarning: 'legend' keyword is deprecated, use explicit 'legend_label', 'legend_field', or 'legend_group' keywords instead\n"
     ]
    },
    {
     "data": {
      "text/html": [
       "\n",
       "\n",
       "\n",
       "\n",
       "\n",
       "\n",
       "  <div class=\"bk-root\" id=\"274e15de-82fe-4266-84ed-57cd31cb1507\" data-root-id=\"3339\"></div>\n"
      ]
     },
     "metadata": {},
     "output_type": "display_data"
    },
    {
     "data": {
      "application/javascript": [
       "(function(root) {\n",
       "  function embed_document(root) {\n",
       "    \n",
       "  var docs_json = {\"e784d739-8e4b-4904-aa67-67cce5637a1f\":{\"roots\":{\"references\":[{\"attributes\":{\"children\":[{\"id\":\"3338\",\"type\":\"ToolbarBox\"},{\"id\":\"3336\",\"type\":\"GridBox\"}]},\"id\":\"3339\",\"type\":\"Column\"},{\"attributes\":{\"align\":\"center\",\"text\":\"fraction infected: 0.1\"},\"id\":\"3248\",\"type\":\"Title\"},{\"attributes\":{\"line_alpha\":0.1,\"line_color\":\"#1f77b4\",\"line_width\":2,\"x\":{\"field\":\"x\"},\"y\":{\"field\":\"y\"}},\"id\":\"3297\",\"type\":\"Line\"},{\"attributes\":{},\"id\":\"3254\",\"type\":\"LinearScale\"},{\"attributes\":{\"data_source\":{\"id\":\"3295\",\"type\":\"ColumnDataSource\"},\"glyph\":{\"id\":\"3296\",\"type\":\"Line\"},\"hover_glyph\":null,\"muted_glyph\":null,\"nonselection_glyph\":{\"id\":\"3297\",\"type\":\"Line\"},\"selection_glyph\":null,\"view\":{\"id\":\"3299\",\"type\":\"CDSView\"}},\"id\":\"3298\",\"type\":\"GlyphRenderer\"},{\"attributes\":{\"callback\":null},\"id\":\"3252\",\"type\":\"DataRange1d\"},{\"attributes\":{\"source\":{\"id\":\"3295\",\"type\":\"ColumnDataSource\"}},\"id\":\"3299\",\"type\":\"CDSView\"},{\"attributes\":{},\"id\":\"3307\",\"type\":\"Selection\"},{\"attributes\":{},\"id\":\"3256\",\"type\":\"LinearScale\"},{\"attributes\":{\"label\":{\"value\":\"Infected\"},\"renderers\":[{\"id\":\"3298\",\"type\":\"GlyphRenderer\"}]},\"id\":\"3309\",\"type\":\"LegendItem\"},{\"attributes\":{\"data_source\":{\"id\":\"3218\",\"type\":\"ColumnDataSource\"},\"glyph\":{\"id\":\"3219\",\"type\":\"Line\"},\"hover_glyph\":null,\"muted_glyph\":null,\"nonselection_glyph\":{\"id\":\"3220\",\"type\":\"Line\"},\"selection_glyph\":null,\"view\":{\"id\":\"3222\",\"type\":\"CDSView\"}},\"id\":\"3221\",\"type\":\"GlyphRenderer\"},{\"attributes\":{\"axis_label\":\"Iterations\",\"formatter\":{\"id\":\"3289\",\"type\":\"BasicTickFormatter\"},\"ticker\":{\"id\":\"3259\",\"type\":\"BasicTicker\"}},\"id\":\"3258\",\"type\":\"LinearAxis\"},{\"attributes\":{},\"id\":\"3205\",\"type\":\"PanTool\"},{\"attributes\":{},\"id\":\"3264\",\"type\":\"BasicTicker\"},{\"attributes\":{},\"id\":\"3320\",\"type\":\"UnionRenderers\"},{\"attributes\":{\"tools\":[{\"id\":\"3205\",\"type\":\"PanTool\"},{\"id\":\"3206\",\"type\":\"WheelZoomTool\"},{\"id\":\"3207\",\"type\":\"BoxZoomTool\"},{\"id\":\"3208\",\"type\":\"SaveTool\"},{\"id\":\"3209\",\"type\":\"ResetTool\"},{\"id\":\"3210\",\"type\":\"HelpTool\"},{\"id\":\"3268\",\"type\":\"PanTool\"},{\"id\":\"3269\",\"type\":\"WheelZoomTool\"},{\"id\":\"3270\",\"type\":\"BoxZoomTool\"},{\"id\":\"3271\",\"type\":\"SaveTool\"},{\"id\":\"3272\",\"type\":\"ResetTool\"},{\"id\":\"3273\",\"type\":\"HelpTool\"}]},\"id\":\"3337\",\"type\":\"ProxyToolbar\"},{\"attributes\":{},\"id\":\"3206\",\"type\":\"WheelZoomTool\"},{\"attributes\":{},\"id\":\"3259\",\"type\":\"BasicTicker\"},{\"attributes\":{\"children\":[[{\"id\":\"3186\",\"subtype\":\"Figure\",\"type\":\"Plot\"},0,0],[{\"id\":\"3249\",\"subtype\":\"Figure\",\"type\":\"Plot\"},0,1]]},\"id\":\"3336\",\"type\":\"GridBox\"},{\"attributes\":{\"align\":\"center\",\"text\":\"fraction infected: 0.1\"},\"id\":\"3311\",\"type\":\"Title\"},{\"attributes\":{\"grid_line_alpha\":0.5,\"ticker\":{\"id\":\"3259\",\"type\":\"BasicTicker\"}},\"id\":\"3262\",\"type\":\"Grid\"},{\"attributes\":{\"toolbar\":{\"id\":\"3337\",\"type\":\"ProxyToolbar\"},\"toolbar_location\":\"above\"},\"id\":\"3338\",\"type\":\"ToolbarBox\"},{\"attributes\":{\"active_drag\":\"auto\",\"active_inspect\":\"auto\",\"active_multi\":null,\"active_scroll\":\"auto\",\"active_tap\":\"auto\",\"tools\":[{\"id\":\"3205\",\"type\":\"PanTool\"},{\"id\":\"3206\",\"type\":\"WheelZoomTool\"},{\"id\":\"3207\",\"type\":\"BoxZoomTool\"},{\"id\":\"3208\",\"type\":\"SaveTool\"},{\"id\":\"3209\",\"type\":\"ResetTool\"},{\"id\":\"3210\",\"type\":\"HelpTool\"}]},\"id\":\"3211\",\"type\":\"Toolbar\"},{\"attributes\":{\"line_alpha\":0.1,\"line_color\":\"#1f77b4\",\"line_width\":2,\"x\":{\"field\":\"x\"},\"y\":{\"field\":\"y\"}},\"id\":\"3283\",\"type\":\"Line\"},{\"attributes\":{\"overlay\":{\"id\":\"3229\",\"type\":\"BoxAnnotation\"}},\"id\":\"3207\",\"type\":\"BoxZoomTool\"},{\"attributes\":{\"dimension\":1,\"grid_line_alpha\":0.5,\"ticker\":{\"id\":\"3264\",\"type\":\"BasicTicker\"}},\"id\":\"3267\",\"type\":\"Grid\"},{\"attributes\":{\"axis_label\":\"#Delta Nodes\",\"formatter\":{\"id\":\"3291\",\"type\":\"BasicTickFormatter\"},\"ticker\":{\"id\":\"3264\",\"type\":\"BasicTicker\"}},\"id\":\"3263\",\"type\":\"LinearAxis\"},{\"attributes\":{\"callback\":null},\"id\":\"3187\",\"type\":\"DataRange1d\"},{\"attributes\":{},\"id\":\"3321\",\"type\":\"Selection\"},{\"attributes\":{},\"id\":\"3333\",\"type\":\"Selection\"},{\"attributes\":{},\"id\":\"3208\",\"type\":\"SaveTool\"},{\"attributes\":{},\"id\":\"3210\",\"type\":\"HelpTool\"},{\"attributes\":{\"active_drag\":\"auto\",\"active_inspect\":\"auto\",\"active_multi\":null,\"active_scroll\":\"auto\",\"active_tap\":\"auto\",\"tools\":[{\"id\":\"3268\",\"type\":\"PanTool\"},{\"id\":\"3269\",\"type\":\"WheelZoomTool\"},{\"id\":\"3270\",\"type\":\"BoxZoomTool\"},{\"id\":\"3271\",\"type\":\"SaveTool\"},{\"id\":\"3272\",\"type\":\"ResetTool\"},{\"id\":\"3273\",\"type\":\"HelpTool\"}]},\"id\":\"3274\",\"type\":\"Toolbar\"},{\"attributes\":{\"callback\":null,\"data\":{\"x\":[0,1,2,3,4,5,6,7,8,9,10,11,12,13,14,15,16,17,18,19,20,21,22,23,24,25,26,27,28,29],\"y\":{\"__ndarray__\":\"AAAAAAAAAAAAAAAAAIBWwAAAAAAAADnAAAAAAAAAFMAAAAAAAAAAwAAAAAAAAAAAAAAAAAAAAAAAAAAAAAAAAAAAAAAAAAAAAAAAAAAAAAAAAAAAAAAAAAAAAAAAAAAAAAAAAAAAAAAAAAAAAAAAAAAAAAAAAAAAAAAAAAAAAAAAAAAAAAAAAAAAAAAAAAAAAAAAAAAAAAAAAAAAAAAAAAAAAAAAAAAAAAAAAAAAAAAAAAAAAAAAAAAAAAAAAAAAAAAAAAAAAAAAAAAAAAAAAAAAAAAAAAAAAAAAAAAAAAAAAAAAAAAAAAAAAAAAAAAA\",\"dtype\":\"float64\",\"shape\":[30]}},\"selected\":{\"id\":\"3307\",\"type\":\"Selection\"},\"selection_policy\":{\"id\":\"3306\",\"type\":\"UnionRenderers\"}},\"id\":\"3281\",\"type\":\"ColumnDataSource\"},{\"attributes\":{\"data_source\":{\"id\":\"3281\",\"type\":\"ColumnDataSource\"},\"glyph\":{\"id\":\"3282\",\"type\":\"Line\"},\"hover_glyph\":null,\"muted_glyph\":null,\"nonselection_glyph\":{\"id\":\"3283\",\"type\":\"Line\"},\"selection_glyph\":null,\"view\":{\"id\":\"3285\",\"type\":\"CDSView\"}},\"id\":\"3284\",\"type\":\"GlyphRenderer\"},{\"attributes\":{},\"id\":\"3209\",\"type\":\"ResetTool\"},{\"attributes\":{},\"id\":\"3268\",\"type\":\"PanTool\"},{\"attributes\":{\"items\":[{\"id\":\"3231\",\"type\":\"LegendItem\"},{\"id\":\"3246\",\"type\":\"LegendItem\"}],\"orientation\":\"horizontal\"},\"id\":\"3230\",\"type\":\"Legend\"},{\"attributes\":{},\"id\":\"3269\",\"type\":\"WheelZoomTool\"},{\"attributes\":{\"overlay\":{\"id\":\"3292\",\"type\":\"BoxAnnotation\"}},\"id\":\"3270\",\"type\":\"BoxZoomTool\"},{\"attributes\":{\"source\":{\"id\":\"3218\",\"type\":\"ColumnDataSource\"}},\"id\":\"3222\",\"type\":\"CDSView\"},{\"attributes\":{},\"id\":\"3226\",\"type\":\"BasicTickFormatter\"},{\"attributes\":{},\"id\":\"3271\",\"type\":\"SaveTool\"},{\"attributes\":{\"bottom_units\":\"screen\",\"fill_alpha\":{\"value\":0.5},\"fill_color\":{\"value\":\"lightgrey\"},\"left_units\":\"screen\",\"level\":\"overlay\",\"line_alpha\":{\"value\":1.0},\"line_color\":{\"value\":\"black\"},\"line_dash\":[4,4],\"line_width\":{\"value\":2},\"render_mode\":\"css\",\"right_units\":\"screen\",\"top_units\":\"screen\"},\"id\":\"3229\",\"type\":\"BoxAnnotation\"},{\"attributes\":{},\"id\":\"3272\",\"type\":\"ResetTool\"},{\"attributes\":{},\"id\":\"3228\",\"type\":\"BasicTickFormatter\"},{\"attributes\":{},\"id\":\"3273\",\"type\":\"HelpTool\"},{\"attributes\":{\"label\":{\"value\":\"Susceptible\"},\"renderers\":[{\"id\":\"3221\",\"type\":\"GlyphRenderer\"}]},\"id\":\"3231\",\"type\":\"LegendItem\"},{\"attributes\":{\"callback\":null},\"id\":\"3250\",\"type\":\"DataRange1d\"},{\"attributes\":{\"text\":\"Threshold - Prevalence\"},\"id\":\"3287\",\"type\":\"Title\"},{\"attributes\":{\"items\":[{\"id\":\"3294\",\"type\":\"LegendItem\"},{\"id\":\"3309\",\"type\":\"LegendItem\"}],\"orientation\":\"horizontal\"},\"id\":\"3293\",\"type\":\"Legend\"},{\"attributes\":{\"line_alpha\":0.5,\"line_color\":\"#aec7e8\",\"line_width\":2,\"x\":{\"field\":\"x\"},\"y\":{\"field\":\"y\"}},\"id\":\"3233\",\"type\":\"Line\"},{\"attributes\":{\"callback\":null,\"data\":{\"x\":[0,1,2,3,4,5,6,7,8,9,10,11,12,13,14,15,16,17,18,19,20,21,22,23,24,25,26,27,28,29],\"y\":{\"__ndarray__\":\"mpmZmZmZuT9SuB6F61HIP4XrUbgehcs/KVyPwvUozD/RItv5fmrMP9Ei2/l+asw/0SLb+X5qzD/RItv5fmrMP9Ei2/l+asw/0SLb+X5qzD/RItv5fmrMP9Ei2/l+asw/0SLb+X5qzD/RItv5fmrMP9Ei2/l+asw/0SLb+X5qzD/RItv5fmrMP9Ei2/l+asw/0SLb+X5qzD/RItv5fmrMP9Ei2/l+asw/0SLb+X5qzD/RItv5fmrMP9Ei2/l+asw/0SLb+X5qzD/RItv5fmrMP9Ei2/l+asw/0SLb+X5qzD/RItv5fmrMP9Ei2/l+asw/\",\"dtype\":\"float64\",\"shape\":[30]}},\"selected\":{\"id\":\"3321\",\"type\":\"Selection\"},\"selection_policy\":{\"id\":\"3320\",\"type\":\"UnionRenderers\"}},\"id\":\"3232\",\"type\":\"ColumnDataSource\"},{\"attributes\":{\"line_alpha\":0.5,\"line_color\":\"#1f77b4\",\"line_width\":2,\"x\":{\"field\":\"x\"},\"y\":{\"field\":\"y\"}},\"id\":\"3282\",\"type\":\"Line\"},{\"attributes\":{\"line_alpha\":0.1,\"line_color\":\"#1f77b4\",\"line_width\":2,\"x\":{\"field\":\"x\"},\"y\":{\"field\":\"y\"}},\"id\":\"3234\",\"type\":\"Line\"},{\"attributes\":{\"source\":{\"id\":\"3281\",\"type\":\"ColumnDataSource\"}},\"id\":\"3285\",\"type\":\"CDSView\"},{\"attributes\":{},\"id\":\"3289\",\"type\":\"BasicTickFormatter\"},{\"attributes\":{\"below\":[{\"id\":\"3258\",\"type\":\"LinearAxis\"},{\"id\":\"3311\",\"type\":\"Title\"}],\"center\":[{\"id\":\"3262\",\"type\":\"Grid\"},{\"id\":\"3267\",\"type\":\"Grid\"},{\"id\":\"3293\",\"type\":\"Legend\"}],\"left\":[{\"id\":\"3263\",\"type\":\"LinearAxis\"}],\"plot_height\":400,\"plot_width\":400,\"renderers\":[{\"id\":\"3284\",\"type\":\"GlyphRenderer\"},{\"id\":\"3298\",\"type\":\"GlyphRenderer\"}],\"title\":{\"id\":\"3287\",\"type\":\"Title\"},\"toolbar\":{\"id\":\"3274\",\"type\":\"Toolbar\"},\"toolbar_location\":null,\"x_range\":{\"id\":\"3250\",\"type\":\"DataRange1d\"},\"x_scale\":{\"id\":\"3254\",\"type\":\"LinearScale\"},\"y_range\":{\"id\":\"3252\",\"type\":\"DataRange1d\"},\"y_scale\":{\"id\":\"3256\",\"type\":\"LinearScale\"}},\"id\":\"3249\",\"subtype\":\"Figure\",\"type\":\"Plot\"},{\"attributes\":{\"bottom_units\":\"screen\",\"fill_alpha\":{\"value\":0.5},\"fill_color\":{\"value\":\"lightgrey\"},\"left_units\":\"screen\",\"level\":\"overlay\",\"line_alpha\":{\"value\":1.0},\"line_color\":{\"value\":\"black\"},\"line_dash\":[4,4],\"line_width\":{\"value\":2},\"render_mode\":\"css\",\"right_units\":\"screen\",\"top_units\":\"screen\"},\"id\":\"3292\",\"type\":\"BoxAnnotation\"},{\"attributes\":{\"data_source\":{\"id\":\"3232\",\"type\":\"ColumnDataSource\"},\"glyph\":{\"id\":\"3233\",\"type\":\"Line\"},\"hover_glyph\":null,\"muted_glyph\":null,\"nonselection_glyph\":{\"id\":\"3234\",\"type\":\"Line\"},\"selection_glyph\":null,\"view\":{\"id\":\"3236\",\"type\":\"CDSView\"}},\"id\":\"3235\",\"type\":\"GlyphRenderer\"},{\"attributes\":{},\"id\":\"3291\",\"type\":\"BasicTickFormatter\"},{\"attributes\":{\"source\":{\"id\":\"3232\",\"type\":\"ColumnDataSource\"}},\"id\":\"3236\",\"type\":\"CDSView\"},{\"attributes\":{\"label\":{\"value\":\"Susceptible\"},\"renderers\":[{\"id\":\"3284\",\"type\":\"GlyphRenderer\"}]},\"id\":\"3294\",\"type\":\"LegendItem\"},{\"attributes\":{},\"id\":\"3243\",\"type\":\"UnionRenderers\"},{\"attributes\":{\"callback\":null},\"id\":\"3189\",\"type\":\"DataRange1d\"},{\"attributes\":{},\"id\":\"3332\",\"type\":\"UnionRenderers\"},{\"attributes\":{\"label\":{\"value\":\"Infected\"},\"renderers\":[{\"id\":\"3235\",\"type\":\"GlyphRenderer\"}]},\"id\":\"3246\",\"type\":\"LegendItem\"},{\"attributes\":{},\"id\":\"3306\",\"type\":\"UnionRenderers\"},{\"attributes\":{\"line_alpha\":0.5,\"line_color\":\"#aec7e8\",\"line_width\":2,\"x\":{\"field\":\"x\"},\"y\":{\"field\":\"y\"}},\"id\":\"3296\",\"type\":\"Line\"},{\"attributes\":{},\"id\":\"3244\",\"type\":\"Selection\"},{\"attributes\":{\"callback\":null,\"data\":{\"x\":[0,1,2,3,4,5,6,7,8,9,10,11,12,13,14,15,16,17,18,19,20,21,22,23,24,25,26,27,28,29],\"y\":{\"__ndarray__\":\"AAAAAAAAAAAAAAAAAIBWQAAAAAAAADlAAAAAAAAAFEAAAAAAAAAAQAAAAAAAAAAAAAAAAAAAAAAAAAAAAAAAAAAAAAAAAAAAAAAAAAAAAAAAAAAAAAAAAAAAAAAAAAAAAAAAAAAAAAAAAAAAAAAAAAAAAAAAAAAAAAAAAAAAAAAAAAAAAAAAAAAAAAAAAAAAAAAAAAAAAAAAAAAAAAAAAAAAAAAAAAAAAAAAAAAAAAAAAAAAAAAAAAAAAAAAAAAAAAAAAAAAAAAAAAAAAAAAAAAAAAAAAAAAAAAAAAAAAAAAAAAAAAAAAAAAAAAAAAAA\",\"dtype\":\"float64\",\"shape\":[30]}},\"selected\":{\"id\":\"3333\",\"type\":\"Selection\"},\"selection_policy\":{\"id\":\"3332\",\"type\":\"UnionRenderers\"}},\"id\":\"3295\",\"type\":\"ColumnDataSource\"},{\"attributes\":{\"axis_label\":\"Iterations\",\"formatter\":{\"id\":\"3226\",\"type\":\"BasicTickFormatter\"},\"ticker\":{\"id\":\"3196\",\"type\":\"BasicTicker\"}},\"id\":\"3195\",\"type\":\"LinearAxis\"},{\"attributes\":{\"line_alpha\":0.1,\"line_color\":\"#1f77b4\",\"line_width\":2,\"x\":{\"field\":\"x\"},\"y\":{\"field\":\"y\"}},\"id\":\"3220\",\"type\":\"Line\"},{\"attributes\":{},\"id\":\"3193\",\"type\":\"LinearScale\"},{\"attributes\":{\"line_alpha\":0.5,\"line_color\":\"#1f77b4\",\"line_width\":2,\"x\":{\"field\":\"x\"},\"y\":{\"field\":\"y\"}},\"id\":\"3219\",\"type\":\"Line\"},{\"attributes\":{},\"id\":\"3201\",\"type\":\"BasicTicker\"},{\"attributes\":{\"axis_label\":\"#Nodes\",\"formatter\":{\"id\":\"3228\",\"type\":\"BasicTickFormatter\"},\"ticker\":{\"id\":\"3201\",\"type\":\"BasicTicker\"}},\"id\":\"3200\",\"type\":\"LinearAxis\"},{\"attributes\":{\"callback\":null,\"data\":{\"x\":[0,1,2,3,4,5,6,7,8,9,10,11,12,13,14,15,16,17,18,19,20,21,22,23,24,25,26,27,28,29],\"y\":{\"__ndarray__\":\"zczMzMzM7D/sUbgehevpPx+F61G4Huk/9ihcj8L16D9MN4lBYOXoP0w3iUFg5eg/TDeJQWDl6D9MN4lBYOXoP0w3iUFg5eg/TDeJQWDl6D9MN4lBYOXoP0w3iUFg5eg/TDeJQWDl6D9MN4lBYOXoP0w3iUFg5eg/TDeJQWDl6D9MN4lBYOXoP0w3iUFg5eg/TDeJQWDl6D9MN4lBYOXoP0w3iUFg5eg/TDeJQWDl6D9MN4lBYOXoP0w3iUFg5eg/TDeJQWDl6D9MN4lBYOXoP0w3iUFg5eg/TDeJQWDl6D9MN4lBYOXoP0w3iUFg5eg/\",\"dtype\":\"float64\",\"shape\":[30]}},\"selected\":{\"id\":\"3244\",\"type\":\"Selection\"},\"selection_policy\":{\"id\":\"3243\",\"type\":\"UnionRenderers\"}},\"id\":\"3218\",\"type\":\"ColumnDataSource\"},{\"attributes\":{\"grid_line_alpha\":0.5,\"ticker\":{\"id\":\"3196\",\"type\":\"BasicTicker\"}},\"id\":\"3199\",\"type\":\"Grid\"},{\"attributes\":{\"below\":[{\"id\":\"3195\",\"type\":\"LinearAxis\"},{\"id\":\"3248\",\"type\":\"Title\"}],\"center\":[{\"id\":\"3199\",\"type\":\"Grid\"},{\"id\":\"3204\",\"type\":\"Grid\"},{\"id\":\"3230\",\"type\":\"Legend\"}],\"left\":[{\"id\":\"3200\",\"type\":\"LinearAxis\"}],\"plot_height\":400,\"plot_width\":400,\"renderers\":[{\"id\":\"3221\",\"type\":\"GlyphRenderer\"},{\"id\":\"3235\",\"type\":\"GlyphRenderer\"}],\"title\":{\"id\":\"3224\",\"type\":\"Title\"},\"toolbar\":{\"id\":\"3211\",\"type\":\"Toolbar\"},\"toolbar_location\":null,\"x_range\":{\"id\":\"3187\",\"type\":\"DataRange1d\"},\"x_scale\":{\"id\":\"3191\",\"type\":\"LinearScale\"},\"y_range\":{\"id\":\"3189\",\"type\":\"DataRange1d\"},\"y_scale\":{\"id\":\"3193\",\"type\":\"LinearScale\"}},\"id\":\"3186\",\"subtype\":\"Figure\",\"type\":\"Plot\"},{\"attributes\":{},\"id\":\"3196\",\"type\":\"BasicTicker\"},{\"attributes\":{},\"id\":\"3191\",\"type\":\"LinearScale\"},{\"attributes\":{\"text\":\"Threshold - Diffusion Trend\"},\"id\":\"3224\",\"type\":\"Title\"},{\"attributes\":{\"dimension\":1,\"grid_line_alpha\":0.5,\"ticker\":{\"id\":\"3201\",\"type\":\"BasicTicker\"}},\"id\":\"3204\",\"type\":\"Grid\"}],\"root_ids\":[\"3339\"]},\"title\":\"Bokeh Application\",\"version\":\"1.4.0\"}};\n",
       "  var render_items = [{\"docid\":\"e784d739-8e4b-4904-aa67-67cce5637a1f\",\"roots\":{\"3339\":\"274e15de-82fe-4266-84ed-57cd31cb1507\"}}];\n",
       "  root.Bokeh.embed.embed_items_notebook(docs_json, render_items);\n",
       "\n",
       "  }\n",
       "  if (root.Bokeh !== undefined) {\n",
       "    embed_document(root);\n",
       "  } else {\n",
       "    var attempts = 0;\n",
       "    var timer = setInterval(function(root) {\n",
       "      if (root.Bokeh !== undefined) {\n",
       "        clearInterval(timer);\n",
       "        embed_document(root);\n",
       "      } else {\n",
       "        attempts++;\n",
       "        if (attempts > 100) {\n",
       "          clearInterval(timer);\n",
       "          console.log(\"Bokeh: ERROR: Unable to run BokehJS code because BokehJS library is missing\");\n",
       "        }\n",
       "      }\n",
       "    }, 10, root)\n",
       "  }\n",
       "})(window);"
      ],
      "application/vnd.bokehjs_exec.v0+json": ""
     },
     "metadata": {
      "application/vnd.bokehjs_exec.v0+json": {
       "id": "3339"
      }
     },
     "output_type": "display_data"
    }
   ],
   "source": [
    "model, iterations = watts_model_ba_network(1, 0.5, 0.1, 30)\n",
    "plot_diffusion(model, iterations)"
   ]
  },
  {
   "cell_type": "code",
   "execution_count": 18,
   "metadata": {
    "ExecuteTime": {
     "end_time": "2020-08-09T13:57:31.361301Z",
     "start_time": "2020-08-09T13:57:31.104213Z"
    }
   },
   "outputs": [
    {
     "name": "stderr",
     "output_type": "stream",
     "text": [
      "100%|██████████| 30/30 [00:00<00:00, 308.63it/s]\n"
     ]
    },
    {
     "data": {
      "text/html": [
       "\n",
       "    <div class=\"bk-root\">\n",
       "        <a href=\"https://bokeh.org\" target=\"_blank\" class=\"bk-logo bk-logo-small bk-logo-notebook\"></a>\n",
       "        <span id=\"3626\">Loading BokehJS ...</span>\n",
       "    </div>"
      ]
     },
     "metadata": {},
     "output_type": "display_data"
    },
    {
     "data": {
      "application/javascript": [
       "\n",
       "(function(root) {\n",
       "  function now() {\n",
       "    return new Date();\n",
       "  }\n",
       "\n",
       "  var force = true;\n",
       "\n",
       "  if (typeof root._bokeh_onload_callbacks === \"undefined\" || force === true) {\n",
       "    root._bokeh_onload_callbacks = [];\n",
       "    root._bokeh_is_loading = undefined;\n",
       "  }\n",
       "\n",
       "  var JS_MIME_TYPE = 'application/javascript';\n",
       "  var HTML_MIME_TYPE = 'text/html';\n",
       "  var EXEC_MIME_TYPE = 'application/vnd.bokehjs_exec.v0+json';\n",
       "  var CLASS_NAME = 'output_bokeh rendered_html';\n",
       "\n",
       "  /**\n",
       "   * Render data to the DOM node\n",
       "   */\n",
       "  function render(props, node) {\n",
       "    var script = document.createElement(\"script\");\n",
       "    node.appendChild(script);\n",
       "  }\n",
       "\n",
       "  /**\n",
       "   * Handle when an output is cleared or removed\n",
       "   */\n",
       "  function handleClearOutput(event, handle) {\n",
       "    var cell = handle.cell;\n",
       "\n",
       "    var id = cell.output_area._bokeh_element_id;\n",
       "    var server_id = cell.output_area._bokeh_server_id;\n",
       "    // Clean up Bokeh references\n",
       "    if (id != null && id in Bokeh.index) {\n",
       "      Bokeh.index[id].model.document.clear();\n",
       "      delete Bokeh.index[id];\n",
       "    }\n",
       "\n",
       "    if (server_id !== undefined) {\n",
       "      // Clean up Bokeh references\n",
       "      var cmd = \"from bokeh.io.state import curstate; print(curstate().uuid_to_server['\" + server_id + \"'].get_sessions()[0].document.roots[0]._id)\";\n",
       "      cell.notebook.kernel.execute(cmd, {\n",
       "        iopub: {\n",
       "          output: function(msg) {\n",
       "            var id = msg.content.text.trim();\n",
       "            if (id in Bokeh.index) {\n",
       "              Bokeh.index[id].model.document.clear();\n",
       "              delete Bokeh.index[id];\n",
       "            }\n",
       "          }\n",
       "        }\n",
       "      });\n",
       "      // Destroy server and session\n",
       "      var cmd = \"import bokeh.io.notebook as ion; ion.destroy_server('\" + server_id + \"')\";\n",
       "      cell.notebook.kernel.execute(cmd);\n",
       "    }\n",
       "  }\n",
       "\n",
       "  /**\n",
       "   * Handle when a new output is added\n",
       "   */\n",
       "  function handleAddOutput(event, handle) {\n",
       "    var output_area = handle.output_area;\n",
       "    var output = handle.output;\n",
       "\n",
       "    // limit handleAddOutput to display_data with EXEC_MIME_TYPE content only\n",
       "    if ((output.output_type != \"display_data\") || (!output.data.hasOwnProperty(EXEC_MIME_TYPE))) {\n",
       "      return\n",
       "    }\n",
       "\n",
       "    var toinsert = output_area.element.find(\".\" + CLASS_NAME.split(' ')[0]);\n",
       "\n",
       "    if (output.metadata[EXEC_MIME_TYPE][\"id\"] !== undefined) {\n",
       "      toinsert[toinsert.length - 1].firstChild.textContent = output.data[JS_MIME_TYPE];\n",
       "      // store reference to embed id on output_area\n",
       "      output_area._bokeh_element_id = output.metadata[EXEC_MIME_TYPE][\"id\"];\n",
       "    }\n",
       "    if (output.metadata[EXEC_MIME_TYPE][\"server_id\"] !== undefined) {\n",
       "      var bk_div = document.createElement(\"div\");\n",
       "      bk_div.innerHTML = output.data[HTML_MIME_TYPE];\n",
       "      var script_attrs = bk_div.children[0].attributes;\n",
       "      for (var i = 0; i < script_attrs.length; i++) {\n",
       "        toinsert[toinsert.length - 1].firstChild.setAttribute(script_attrs[i].name, script_attrs[i].value);\n",
       "      }\n",
       "      // store reference to server id on output_area\n",
       "      output_area._bokeh_server_id = output.metadata[EXEC_MIME_TYPE][\"server_id\"];\n",
       "    }\n",
       "  }\n",
       "\n",
       "  function register_renderer(events, OutputArea) {\n",
       "\n",
       "    function append_mime(data, metadata, element) {\n",
       "      // create a DOM node to render to\n",
       "      var toinsert = this.create_output_subarea(\n",
       "        metadata,\n",
       "        CLASS_NAME,\n",
       "        EXEC_MIME_TYPE\n",
       "      );\n",
       "      this.keyboard_manager.register_events(toinsert);\n",
       "      // Render to node\n",
       "      var props = {data: data, metadata: metadata[EXEC_MIME_TYPE]};\n",
       "      render(props, toinsert[toinsert.length - 1]);\n",
       "      element.append(toinsert);\n",
       "      return toinsert\n",
       "    }\n",
       "\n",
       "    /* Handle when an output is cleared or removed */\n",
       "    events.on('clear_output.CodeCell', handleClearOutput);\n",
       "    events.on('delete.Cell', handleClearOutput);\n",
       "\n",
       "    /* Handle when a new output is added */\n",
       "    events.on('output_added.OutputArea', handleAddOutput);\n",
       "\n",
       "    /**\n",
       "     * Register the mime type and append_mime function with output_area\n",
       "     */\n",
       "    OutputArea.prototype.register_mime_type(EXEC_MIME_TYPE, append_mime, {\n",
       "      /* Is output safe? */\n",
       "      safe: true,\n",
       "      /* Index of renderer in `output_area.display_order` */\n",
       "      index: 0\n",
       "    });\n",
       "  }\n",
       "\n",
       "  // register the mime type if in Jupyter Notebook environment and previously unregistered\n",
       "  if (root.Jupyter !== undefined) {\n",
       "    var events = require('base/js/events');\n",
       "    var OutputArea = require('notebook/js/outputarea').OutputArea;\n",
       "\n",
       "    if (OutputArea.prototype.mime_types().indexOf(EXEC_MIME_TYPE) == -1) {\n",
       "      register_renderer(events, OutputArea);\n",
       "    }\n",
       "  }\n",
       "\n",
       "  \n",
       "  if (typeof (root._bokeh_timeout) === \"undefined\" || force === true) {\n",
       "    root._bokeh_timeout = Date.now() + 5000;\n",
       "    root._bokeh_failed_load = false;\n",
       "  }\n",
       "\n",
       "  var NB_LOAD_WARNING = {'data': {'text/html':\n",
       "     \"<div style='background-color: #fdd'>\\n\"+\n",
       "     \"<p>\\n\"+\n",
       "     \"BokehJS does not appear to have successfully loaded. If loading BokehJS from CDN, this \\n\"+\n",
       "     \"may be due to a slow or bad network connection. Possible fixes:\\n\"+\n",
       "     \"</p>\\n\"+\n",
       "     \"<ul>\\n\"+\n",
       "     \"<li>re-rerun `output_notebook()` to attempt to load from CDN again, or</li>\\n\"+\n",
       "     \"<li>use INLINE resources instead, as so:</li>\\n\"+\n",
       "     \"</ul>\\n\"+\n",
       "     \"<code>\\n\"+\n",
       "     \"from bokeh.resources import INLINE\\n\"+\n",
       "     \"output_notebook(resources=INLINE)\\n\"+\n",
       "     \"</code>\\n\"+\n",
       "     \"</div>\"}};\n",
       "\n",
       "  function display_loaded() {\n",
       "    var el = document.getElementById(\"3626\");\n",
       "    if (el != null) {\n",
       "      el.textContent = \"BokehJS is loading...\";\n",
       "    }\n",
       "    if (root.Bokeh !== undefined) {\n",
       "      if (el != null) {\n",
       "        el.textContent = \"BokehJS \" + root.Bokeh.version + \" successfully loaded.\";\n",
       "      }\n",
       "    } else if (Date.now() < root._bokeh_timeout) {\n",
       "      setTimeout(display_loaded, 100)\n",
       "    }\n",
       "  }\n",
       "\n",
       "\n",
       "  function run_callbacks() {\n",
       "    try {\n",
       "      root._bokeh_onload_callbacks.forEach(function(callback) {\n",
       "        if (callback != null)\n",
       "          callback();\n",
       "      });\n",
       "    } finally {\n",
       "      delete root._bokeh_onload_callbacks\n",
       "    }\n",
       "    console.debug(\"Bokeh: all callbacks have finished\");\n",
       "  }\n",
       "\n",
       "  function load_libs(css_urls, js_urls, callback) {\n",
       "    if (css_urls == null) css_urls = [];\n",
       "    if (js_urls == null) js_urls = [];\n",
       "\n",
       "    root._bokeh_onload_callbacks.push(callback);\n",
       "    if (root._bokeh_is_loading > 0) {\n",
       "      console.debug(\"Bokeh: BokehJS is being loaded, scheduling callback at\", now());\n",
       "      return null;\n",
       "    }\n",
       "    if (js_urls == null || js_urls.length === 0) {\n",
       "      run_callbacks();\n",
       "      return null;\n",
       "    }\n",
       "    console.debug(\"Bokeh: BokehJS not loaded, scheduling load and callback at\", now());\n",
       "    root._bokeh_is_loading = css_urls.length + js_urls.length;\n",
       "\n",
       "    function on_load() {\n",
       "      root._bokeh_is_loading--;\n",
       "      if (root._bokeh_is_loading === 0) {\n",
       "        console.debug(\"Bokeh: all BokehJS libraries/stylesheets loaded\");\n",
       "        run_callbacks()\n",
       "      }\n",
       "    }\n",
       "\n",
       "    function on_error() {\n",
       "      console.error(\"failed to load \" + url);\n",
       "    }\n",
       "\n",
       "    for (var i = 0; i < css_urls.length; i++) {\n",
       "      var url = css_urls[i];\n",
       "      const element = document.createElement(\"link\");\n",
       "      element.onload = on_load;\n",
       "      element.onerror = on_error;\n",
       "      element.rel = \"stylesheet\";\n",
       "      element.type = \"text/css\";\n",
       "      element.href = url;\n",
       "      console.debug(\"Bokeh: injecting link tag for BokehJS stylesheet: \", url);\n",
       "      document.body.appendChild(element);\n",
       "    }\n",
       "\n",
       "    for (var i = 0; i < js_urls.length; i++) {\n",
       "      var url = js_urls[i];\n",
       "      var element = document.createElement('script');\n",
       "      element.onload = on_load;\n",
       "      element.onerror = on_error;\n",
       "      element.async = false;\n",
       "      element.src = url;\n",
       "      console.debug(\"Bokeh: injecting script tag for BokehJS library: \", url);\n",
       "      document.head.appendChild(element);\n",
       "    }\n",
       "  };var element = document.getElementById(\"3626\");\n",
       "  if (element == null) {\n",
       "    console.error(\"Bokeh: ERROR: autoload.js configured with elementid '3626' but no matching script tag was found. \")\n",
       "    return false;\n",
       "  }\n",
       "\n",
       "  function inject_raw_css(css) {\n",
       "    const element = document.createElement(\"style\");\n",
       "    element.appendChild(document.createTextNode(css));\n",
       "    document.body.appendChild(element);\n",
       "  }\n",
       "\n",
       "  \n",
       "  var js_urls = [\"https://cdn.pydata.org/bokeh/release/bokeh-1.4.0.min.js\", \"https://cdn.pydata.org/bokeh/release/bokeh-widgets-1.4.0.min.js\", \"https://cdn.pydata.org/bokeh/release/bokeh-tables-1.4.0.min.js\", \"https://cdn.pydata.org/bokeh/release/bokeh-gl-1.4.0.min.js\"];\n",
       "  var css_urls = [];\n",
       "  \n",
       "\n",
       "  var inline_js = [\n",
       "    function(Bokeh) {\n",
       "      Bokeh.set_log_level(\"info\");\n",
       "    },\n",
       "    function(Bokeh) {\n",
       "    \n",
       "    \n",
       "    }\n",
       "  ];\n",
       "\n",
       "  function run_inline_js() {\n",
       "    \n",
       "    if (root.Bokeh !== undefined || force === true) {\n",
       "      \n",
       "    for (var i = 0; i < inline_js.length; i++) {\n",
       "      inline_js[i].call(root, root.Bokeh);\n",
       "    }\n",
       "    if (force === true) {\n",
       "        display_loaded();\n",
       "      }} else if (Date.now() < root._bokeh_timeout) {\n",
       "      setTimeout(run_inline_js, 100);\n",
       "    } else if (!root._bokeh_failed_load) {\n",
       "      console.log(\"Bokeh: BokehJS failed to load within specified timeout.\");\n",
       "      root._bokeh_failed_load = true;\n",
       "    } else if (force !== true) {\n",
       "      var cell = $(document.getElementById(\"3626\")).parents('.cell').data().cell;\n",
       "      cell.output_area.append_execute_result(NB_LOAD_WARNING)\n",
       "    }\n",
       "\n",
       "  }\n",
       "\n",
       "  if (root._bokeh_is_loading === 0) {\n",
       "    console.debug(\"Bokeh: BokehJS loaded, going straight to plotting\");\n",
       "    run_inline_js();\n",
       "  } else {\n",
       "    load_libs(css_urls, js_urls, function() {\n",
       "      console.debug(\"Bokeh: BokehJS plotting callback run at\", now());\n",
       "      run_inline_js();\n",
       "    });\n",
       "  }\n",
       "}(window));"
      ],
      "application/vnd.bokehjs_load.v0+json": "\n(function(root) {\n  function now() {\n    return new Date();\n  }\n\n  var force = true;\n\n  if (typeof root._bokeh_onload_callbacks === \"undefined\" || force === true) {\n    root._bokeh_onload_callbacks = [];\n    root._bokeh_is_loading = undefined;\n  }\n\n  \n\n  \n  if (typeof (root._bokeh_timeout) === \"undefined\" || force === true) {\n    root._bokeh_timeout = Date.now() + 5000;\n    root._bokeh_failed_load = false;\n  }\n\n  var NB_LOAD_WARNING = {'data': {'text/html':\n     \"<div style='background-color: #fdd'>\\n\"+\n     \"<p>\\n\"+\n     \"BokehJS does not appear to have successfully loaded. If loading BokehJS from CDN, this \\n\"+\n     \"may be due to a slow or bad network connection. Possible fixes:\\n\"+\n     \"</p>\\n\"+\n     \"<ul>\\n\"+\n     \"<li>re-rerun `output_notebook()` to attempt to load from CDN again, or</li>\\n\"+\n     \"<li>use INLINE resources instead, as so:</li>\\n\"+\n     \"</ul>\\n\"+\n     \"<code>\\n\"+\n     \"from bokeh.resources import INLINE\\n\"+\n     \"output_notebook(resources=INLINE)\\n\"+\n     \"</code>\\n\"+\n     \"</div>\"}};\n\n  function display_loaded() {\n    var el = document.getElementById(\"3626\");\n    if (el != null) {\n      el.textContent = \"BokehJS is loading...\";\n    }\n    if (root.Bokeh !== undefined) {\n      if (el != null) {\n        el.textContent = \"BokehJS \" + root.Bokeh.version + \" successfully loaded.\";\n      }\n    } else if (Date.now() < root._bokeh_timeout) {\n      setTimeout(display_loaded, 100)\n    }\n  }\n\n\n  function run_callbacks() {\n    try {\n      root._bokeh_onload_callbacks.forEach(function(callback) {\n        if (callback != null)\n          callback();\n      });\n    } finally {\n      delete root._bokeh_onload_callbacks\n    }\n    console.debug(\"Bokeh: all callbacks have finished\");\n  }\n\n  function load_libs(css_urls, js_urls, callback) {\n    if (css_urls == null) css_urls = [];\n    if (js_urls == null) js_urls = [];\n\n    root._bokeh_onload_callbacks.push(callback);\n    if (root._bokeh_is_loading > 0) {\n      console.debug(\"Bokeh: BokehJS is being loaded, scheduling callback at\", now());\n      return null;\n    }\n    if (js_urls == null || js_urls.length === 0) {\n      run_callbacks();\n      return null;\n    }\n    console.debug(\"Bokeh: BokehJS not loaded, scheduling load and callback at\", now());\n    root._bokeh_is_loading = css_urls.length + js_urls.length;\n\n    function on_load() {\n      root._bokeh_is_loading--;\n      if (root._bokeh_is_loading === 0) {\n        console.debug(\"Bokeh: all BokehJS libraries/stylesheets loaded\");\n        run_callbacks()\n      }\n    }\n\n    function on_error() {\n      console.error(\"failed to load \" + url);\n    }\n\n    for (var i = 0; i < css_urls.length; i++) {\n      var url = css_urls[i];\n      const element = document.createElement(\"link\");\n      element.onload = on_load;\n      element.onerror = on_error;\n      element.rel = \"stylesheet\";\n      element.type = \"text/css\";\n      element.href = url;\n      console.debug(\"Bokeh: injecting link tag for BokehJS stylesheet: \", url);\n      document.body.appendChild(element);\n    }\n\n    for (var i = 0; i < js_urls.length; i++) {\n      var url = js_urls[i];\n      var element = document.createElement('script');\n      element.onload = on_load;\n      element.onerror = on_error;\n      element.async = false;\n      element.src = url;\n      console.debug(\"Bokeh: injecting script tag for BokehJS library: \", url);\n      document.head.appendChild(element);\n    }\n  };var element = document.getElementById(\"3626\");\n  if (element == null) {\n    console.error(\"Bokeh: ERROR: autoload.js configured with elementid '3626' but no matching script tag was found. \")\n    return false;\n  }\n\n  function inject_raw_css(css) {\n    const element = document.createElement(\"style\");\n    element.appendChild(document.createTextNode(css));\n    document.body.appendChild(element);\n  }\n\n  \n  var js_urls = [\"https://cdn.pydata.org/bokeh/release/bokeh-1.4.0.min.js\", \"https://cdn.pydata.org/bokeh/release/bokeh-widgets-1.4.0.min.js\", \"https://cdn.pydata.org/bokeh/release/bokeh-tables-1.4.0.min.js\", \"https://cdn.pydata.org/bokeh/release/bokeh-gl-1.4.0.min.js\"];\n  var css_urls = [];\n  \n\n  var inline_js = [\n    function(Bokeh) {\n      Bokeh.set_log_level(\"info\");\n    },\n    function(Bokeh) {\n    \n    \n    }\n  ];\n\n  function run_inline_js() {\n    \n    if (root.Bokeh !== undefined || force === true) {\n      \n    for (var i = 0; i < inline_js.length; i++) {\n      inline_js[i].call(root, root.Bokeh);\n    }\n    if (force === true) {\n        display_loaded();\n      }} else if (Date.now() < root._bokeh_timeout) {\n      setTimeout(run_inline_js, 100);\n    } else if (!root._bokeh_failed_load) {\n      console.log(\"Bokeh: BokehJS failed to load within specified timeout.\");\n      root._bokeh_failed_load = true;\n    } else if (force !== true) {\n      var cell = $(document.getElementById(\"3626\")).parents('.cell').data().cell;\n      cell.output_area.append_execute_result(NB_LOAD_WARNING)\n    }\n\n  }\n\n  if (root._bokeh_is_loading === 0) {\n    console.debug(\"Bokeh: BokehJS loaded, going straight to plotting\");\n    run_inline_js();\n  } else {\n    load_libs(css_urls, js_urls, function() {\n      console.debug(\"Bokeh: BokehJS plotting callback run at\", now());\n      run_inline_js();\n    });\n  }\n}(window));"
     },
     "metadata": {},
     "output_type": "display_data"
    },
    {
     "name": "stderr",
     "output_type": "stream",
     "text": [
      "BokehDeprecationWarning: 'legend' keyword is deprecated, use explicit 'legend_label', 'legend_field', or 'legend_group' keywords instead\n",
      "BokehDeprecationWarning: 'legend' keyword is deprecated, use explicit 'legend_label', 'legend_field', or 'legend_group' keywords instead\n",
      "BokehDeprecationWarning: 'legend' keyword is deprecated, use explicit 'legend_label', 'legend_field', or 'legend_group' keywords instead\n",
      "BokehDeprecationWarning: 'legend' keyword is deprecated, use explicit 'legend_label', 'legend_field', or 'legend_group' keywords instead\n"
     ]
    },
    {
     "data": {
      "text/html": [
       "\n",
       "\n",
       "\n",
       "\n",
       "\n",
       "\n",
       "  <div class=\"bk-root\" id=\"00d6429b-564d-4508-a820-8047cfe0c073\" data-root-id=\"3780\"></div>\n"
      ]
     },
     "metadata": {},
     "output_type": "display_data"
    },
    {
     "data": {
      "application/javascript": [
       "(function(root) {\n",
       "  function embed_document(root) {\n",
       "    \n",
       "  var docs_json = {\"8e447537-5c2b-4a65-922b-e5d4727cc4ad\":{\"roots\":{\"references\":[{\"attributes\":{\"children\":[{\"id\":\"3779\",\"type\":\"ToolbarBox\"},{\"id\":\"3777\",\"type\":\"GridBox\"}]},\"id\":\"3780\",\"type\":\"Column\"},{\"attributes\":{\"callback\":null},\"id\":\"3693\",\"type\":\"DataRange1d\"},{\"attributes\":{},\"id\":\"3748\",\"type\":\"Selection\"},{\"attributes\":{\"line_alpha\":0.1,\"line_color\":\"#1f77b4\",\"line_width\":2,\"x\":{\"field\":\"x\"},\"y\":{\"field\":\"y\"}},\"id\":\"3661\",\"type\":\"Line\"},{\"attributes\":{},\"id\":\"3695\",\"type\":\"LinearScale\"},{\"attributes\":{\"callback\":null,\"data\":{\"x\":[0,1,2,3,4,5,6,7,8,9,10,11,12,13,14,15,16,17,18,19,20,21,22,23,24,25,26,27,28,29],\"y\":{\"__ndarray__\":\"AAAAAAAAAAAAAAAAAAAQQAAAAAAAAAAAAAAAAAAAAAAAAAAAAAAAAAAAAAAAAAAAAAAAAAAAAAAAAAAAAAAAAAAAAAAAAAAAAAAAAAAAAAAAAAAAAAAAAAAAAAAAAAAAAAAAAAAAAAAAAAAAAAAAAAAAAAAAAAAAAAAAAAAAAAAAAAAAAAAAAAAAAAAAAAAAAAAAAAAAAAAAAAAAAAAAAAAAAAAAAAAAAAAAAAAAAAAAAAAAAAAAAAAAAAAAAAAAAAAAAAAAAAAAAAAAAAAAAAAAAAAAAAAAAAAAAAAAAAAAAAAAAAAAAAAAAAAAAAAA\",\"dtype\":\"float64\",\"shape\":[30]}},\"selected\":{\"id\":\"3774\",\"type\":\"Selection\"},\"selection_policy\":{\"id\":\"3773\",\"type\":\"UnionRenderers\"}},\"id\":\"3736\",\"type\":\"ColumnDataSource\"},{\"attributes\":{\"toolbar\":{\"id\":\"3778\",\"type\":\"ProxyToolbar\"},\"toolbar_location\":\"above\"},\"id\":\"3779\",\"type\":\"ToolbarBox\"},{\"attributes\":{\"tools\":[{\"id\":\"3646\",\"type\":\"PanTool\"},{\"id\":\"3647\",\"type\":\"WheelZoomTool\"},{\"id\":\"3648\",\"type\":\"BoxZoomTool\"},{\"id\":\"3649\",\"type\":\"SaveTool\"},{\"id\":\"3650\",\"type\":\"ResetTool\"},{\"id\":\"3651\",\"type\":\"HelpTool\"},{\"id\":\"3709\",\"type\":\"PanTool\"},{\"id\":\"3710\",\"type\":\"WheelZoomTool\"},{\"id\":\"3711\",\"type\":\"BoxZoomTool\"},{\"id\":\"3712\",\"type\":\"SaveTool\"},{\"id\":\"3713\",\"type\":\"ResetTool\"},{\"id\":\"3714\",\"type\":\"HelpTool\"}]},\"id\":\"3778\",\"type\":\"ProxyToolbar\"},{\"attributes\":{\"active_drag\":\"auto\",\"active_inspect\":\"auto\",\"active_multi\":null,\"active_scroll\":\"auto\",\"active_tap\":\"auto\",\"tools\":[{\"id\":\"3646\",\"type\":\"PanTool\"},{\"id\":\"3647\",\"type\":\"WheelZoomTool\"},{\"id\":\"3648\",\"type\":\"BoxZoomTool\"},{\"id\":\"3649\",\"type\":\"SaveTool\"},{\"id\":\"3650\",\"type\":\"ResetTool\"},{\"id\":\"3651\",\"type\":\"HelpTool\"}]},\"id\":\"3652\",\"type\":\"Toolbar\"},{\"attributes\":{},\"id\":\"3761\",\"type\":\"UnionRenderers\"},{\"attributes\":{\"data_source\":{\"id\":\"3659\",\"type\":\"ColumnDataSource\"},\"glyph\":{\"id\":\"3660\",\"type\":\"Line\"},\"hover_glyph\":null,\"muted_glyph\":null,\"nonselection_glyph\":{\"id\":\"3661\",\"type\":\"Line\"},\"selection_glyph\":null,\"view\":{\"id\":\"3663\",\"type\":\"CDSView\"}},\"id\":\"3662\",\"type\":\"GlyphRenderer\"},{\"attributes\":{},\"id\":\"3646\",\"type\":\"PanTool\"},{\"attributes\":{},\"id\":\"3697\",\"type\":\"LinearScale\"},{\"attributes\":{\"items\":[{\"id\":\"3735\",\"type\":\"LegendItem\"},{\"id\":\"3750\",\"type\":\"LegendItem\"}],\"orientation\":\"horizontal\"},\"id\":\"3734\",\"type\":\"Legend\"},{\"attributes\":{},\"id\":\"3774\",\"type\":\"Selection\"},{\"attributes\":{},\"id\":\"3647\",\"type\":\"WheelZoomTool\"},{\"attributes\":{\"axis_label\":\"Iterations\",\"formatter\":{\"id\":\"3730\",\"type\":\"BasicTickFormatter\"},\"ticker\":{\"id\":\"3700\",\"type\":\"BasicTicker\"}},\"id\":\"3699\",\"type\":\"LinearAxis\"},{\"attributes\":{},\"id\":\"3762\",\"type\":\"Selection\"},{\"attributes\":{},\"id\":\"3705\",\"type\":\"BasicTicker\"},{\"attributes\":{\"overlay\":{\"id\":\"3670\",\"type\":\"BoxAnnotation\"}},\"id\":\"3648\",\"type\":\"BoxZoomTool\"},{\"attributes\":{},\"id\":\"3700\",\"type\":\"BasicTicker\"},{\"attributes\":{},\"id\":\"3773\",\"type\":\"UnionRenderers\"},{\"attributes\":{},\"id\":\"3649\",\"type\":\"SaveTool\"},{\"attributes\":{\"grid_line_alpha\":0.5,\"ticker\":{\"id\":\"3700\",\"type\":\"BasicTicker\"}},\"id\":\"3703\",\"type\":\"Grid\"},{\"attributes\":{\"line_alpha\":0.1,\"line_color\":\"#1f77b4\",\"line_width\":2,\"x\":{\"field\":\"x\"},\"y\":{\"field\":\"y\"}},\"id\":\"3724\",\"type\":\"Line\"},{\"attributes\":{},\"id\":\"3650\",\"type\":\"ResetTool\"},{\"attributes\":{\"dimension\":1,\"grid_line_alpha\":0.5,\"ticker\":{\"id\":\"3705\",\"type\":\"BasicTicker\"}},\"id\":\"3708\",\"type\":\"Grid\"},{\"attributes\":{\"axis_label\":\"#Delta Nodes\",\"formatter\":{\"id\":\"3732\",\"type\":\"BasicTickFormatter\"},\"ticker\":{\"id\":\"3705\",\"type\":\"BasicTicker\"}},\"id\":\"3704\",\"type\":\"LinearAxis\"},{\"attributes\":{\"label\":{\"value\":\"Susceptible\"},\"renderers\":[{\"id\":\"3725\",\"type\":\"GlyphRenderer\"}]},\"id\":\"3735\",\"type\":\"LegendItem\"},{\"attributes\":{},\"id\":\"3651\",\"type\":\"HelpTool\"},{\"attributes\":{},\"id\":\"3632\",\"type\":\"LinearScale\"},{\"attributes\":{\"active_drag\":\"auto\",\"active_inspect\":\"auto\",\"active_multi\":null,\"active_scroll\":\"auto\",\"active_tap\":\"auto\",\"tools\":[{\"id\":\"3709\",\"type\":\"PanTool\"},{\"id\":\"3710\",\"type\":\"WheelZoomTool\"},{\"id\":\"3711\",\"type\":\"BoxZoomTool\"},{\"id\":\"3712\",\"type\":\"SaveTool\"},{\"id\":\"3713\",\"type\":\"ResetTool\"},{\"id\":\"3714\",\"type\":\"HelpTool\"}]},\"id\":\"3715\",\"type\":\"Toolbar\"},{\"attributes\":{\"line_alpha\":0.5,\"line_color\":\"#aec7e8\",\"line_width\":2,\"x\":{\"field\":\"x\"},\"y\":{\"field\":\"y\"}},\"id\":\"3737\",\"type\":\"Line\"},{\"attributes\":{\"callback\":null,\"data\":{\"x\":[0,1,2,3,4,5,6,7,8,9,10,11,12,13,14,15,16,17,18,19,20,21,22,23,24,25,26,27,28,29],\"y\":{\"__ndarray__\":\"AAAAAAAAAAAAAAAAAAAQwAAAAAAAAAAAAAAAAAAAAAAAAAAAAAAAAAAAAAAAAAAAAAAAAAAAAAAAAAAAAAAAAAAAAAAAAAAAAAAAAAAAAAAAAAAAAAAAAAAAAAAAAAAAAAAAAAAAAAAAAAAAAAAAAAAAAAAAAAAAAAAAAAAAAAAAAAAAAAAAAAAAAAAAAAAAAAAAAAAAAAAAAAAAAAAAAAAAAAAAAAAAAAAAAAAAAAAAAAAAAAAAAAAAAAAAAAAAAAAAAAAAAAAAAAAAAAAAAAAAAAAAAAAAAAAAAAAAAAAAAAAAAAAAAAAAAAAAAAAA\",\"dtype\":\"float64\",\"shape\":[30]}},\"selected\":{\"id\":\"3748\",\"type\":\"Selection\"},\"selection_policy\":{\"id\":\"3747\",\"type\":\"UnionRenderers\"}},\"id\":\"3722\",\"type\":\"ColumnDataSource\"},{\"attributes\":{\"data_source\":{\"id\":\"3722\",\"type\":\"ColumnDataSource\"},\"glyph\":{\"id\":\"3723\",\"type\":\"Line\"},\"hover_glyph\":null,\"muted_glyph\":null,\"nonselection_glyph\":{\"id\":\"3724\",\"type\":\"Line\"},\"selection_glyph\":null,\"view\":{\"id\":\"3726\",\"type\":\"CDSView\"}},\"id\":\"3725\",\"type\":\"GlyphRenderer\"},{\"attributes\":{},\"id\":\"3667\",\"type\":\"BasicTickFormatter\"},{\"attributes\":{},\"id\":\"3709\",\"type\":\"PanTool\"},{\"attributes\":{\"source\":{\"id\":\"3659\",\"type\":\"ColumnDataSource\"}},\"id\":\"3663\",\"type\":\"CDSView\"},{\"attributes\":{},\"id\":\"3710\",\"type\":\"WheelZoomTool\"},{\"attributes\":{\"bottom_units\":\"screen\",\"fill_alpha\":{\"value\":0.5},\"fill_color\":{\"value\":\"lightgrey\"},\"left_units\":\"screen\",\"level\":\"overlay\",\"line_alpha\":{\"value\":1.0},\"line_color\":{\"value\":\"black\"},\"line_dash\":[4,4],\"line_width\":{\"value\":2},\"render_mode\":\"css\",\"right_units\":\"screen\",\"top_units\":\"screen\"},\"id\":\"3670\",\"type\":\"BoxAnnotation\"},{\"attributes\":{\"overlay\":{\"id\":\"3733\",\"type\":\"BoxAnnotation\"}},\"id\":\"3711\",\"type\":\"BoxZoomTool\"},{\"attributes\":{},\"id\":\"3712\",\"type\":\"SaveTool\"},{\"attributes\":{},\"id\":\"3669\",\"type\":\"BasicTickFormatter\"},{\"attributes\":{},\"id\":\"3713\",\"type\":\"ResetTool\"},{\"attributes\":{\"label\":{\"value\":\"Susceptible\"},\"renderers\":[{\"id\":\"3662\",\"type\":\"GlyphRenderer\"}]},\"id\":\"3672\",\"type\":\"LegendItem\"},{\"attributes\":{\"dimension\":1,\"grid_line_alpha\":0.5,\"ticker\":{\"id\":\"3642\",\"type\":\"BasicTicker\"}},\"id\":\"3645\",\"type\":\"Grid\"},{\"attributes\":{},\"id\":\"3714\",\"type\":\"HelpTool\"},{\"attributes\":{\"line_alpha\":0.5,\"line_color\":\"#aec7e8\",\"line_width\":2,\"x\":{\"field\":\"x\"},\"y\":{\"field\":\"y\"}},\"id\":\"3674\",\"type\":\"Line\"},{\"attributes\":{\"children\":[[{\"id\":\"3627\",\"subtype\":\"Figure\",\"type\":\"Plot\"},0,0],[{\"id\":\"3690\",\"subtype\":\"Figure\",\"type\":\"Plot\"},0,1]]},\"id\":\"3777\",\"type\":\"GridBox\"},{\"attributes\":{\"axis_label\":\"#Nodes\",\"formatter\":{\"id\":\"3669\",\"type\":\"BasicTickFormatter\"},\"ticker\":{\"id\":\"3642\",\"type\":\"BasicTicker\"}},\"id\":\"3641\",\"type\":\"LinearAxis\"},{\"attributes\":{},\"id\":\"3642\",\"type\":\"BasicTicker\"},{\"attributes\":{\"text\":\"Threshold - Prevalence\"},\"id\":\"3728\",\"type\":\"Title\"},{\"attributes\":{\"callback\":null,\"data\":{\"x\":[0,1,2,3,4,5,6,7,8,9,10,11,12,13,14,15,16,17,18,19,20,21,22,23,24,25,26,27,28,29],\"y\":{\"__ndarray__\":\"mpmZmZmZuT85tMh2vp+6Pzm0yHa+n7o/ObTIdr6fuj85tMh2vp+6Pzm0yHa+n7o/ObTIdr6fuj85tMh2vp+6Pzm0yHa+n7o/ObTIdr6fuj85tMh2vp+6Pzm0yHa+n7o/ObTIdr6fuj85tMh2vp+6Pzm0yHa+n7o/ObTIdr6fuj85tMh2vp+6Pzm0yHa+n7o/ObTIdr6fuj85tMh2vp+6Pzm0yHa+n7o/ObTIdr6fuj85tMh2vp+6Pzm0yHa+n7o/ObTIdr6fuj85tMh2vp+6Pzm0yHa+n7o/ObTIdr6fuj85tMh2vp+6Pzm0yHa+n7o/\",\"dtype\":\"float64\",\"shape\":[30]}},\"selected\":{\"id\":\"3762\",\"type\":\"Selection\"},\"selection_policy\":{\"id\":\"3761\",\"type\":\"UnionRenderers\"}},\"id\":\"3673\",\"type\":\"ColumnDataSource\"},{\"attributes\":{\"grid_line_alpha\":0.5,\"ticker\":{\"id\":\"3637\",\"type\":\"BasicTicker\"}},\"id\":\"3640\",\"type\":\"Grid\"},{\"attributes\":{\"align\":\"center\",\"text\":\"fraction infected: 0.1\"},\"id\":\"3752\",\"type\":\"Title\"},{\"attributes\":{\"text\":\"Threshold - Diffusion Trend\"},\"id\":\"3665\",\"type\":\"Title\"},{\"attributes\":{\"line_alpha\":0.1,\"line_color\":\"#1f77b4\",\"line_width\":2,\"x\":{\"field\":\"x\"},\"y\":{\"field\":\"y\"}},\"id\":\"3675\",\"type\":\"Line\"},{\"attributes\":{\"line_alpha\":0.5,\"line_color\":\"#1f77b4\",\"line_width\":2,\"x\":{\"field\":\"x\"},\"y\":{\"field\":\"y\"}},\"id\":\"3660\",\"type\":\"Line\"},{\"attributes\":{\"data_source\":{\"id\":\"3673\",\"type\":\"ColumnDataSource\"},\"glyph\":{\"id\":\"3674\",\"type\":\"Line\"},\"hover_glyph\":null,\"muted_glyph\":null,\"nonselection_glyph\":{\"id\":\"3675\",\"type\":\"Line\"},\"selection_glyph\":null,\"view\":{\"id\":\"3677\",\"type\":\"CDSView\"}},\"id\":\"3676\",\"type\":\"GlyphRenderer\"},{\"attributes\":{\"source\":{\"id\":\"3722\",\"type\":\"ColumnDataSource\"}},\"id\":\"3726\",\"type\":\"CDSView\"},{\"attributes\":{},\"id\":\"3730\",\"type\":\"BasicTickFormatter\"},{\"attributes\":{\"bottom_units\":\"screen\",\"fill_alpha\":{\"value\":0.5},\"fill_color\":{\"value\":\"lightgrey\"},\"left_units\":\"screen\",\"level\":\"overlay\",\"line_alpha\":{\"value\":1.0},\"line_color\":{\"value\":\"black\"},\"line_dash\":[4,4],\"line_width\":{\"value\":2},\"render_mode\":\"css\",\"right_units\":\"screen\",\"top_units\":\"screen\"},\"id\":\"3733\",\"type\":\"BoxAnnotation\"},{\"attributes\":{\"source\":{\"id\":\"3673\",\"type\":\"ColumnDataSource\"}},\"id\":\"3677\",\"type\":\"CDSView\"},{\"attributes\":{},\"id\":\"3684\",\"type\":\"UnionRenderers\"},{\"attributes\":{},\"id\":\"3637\",\"type\":\"BasicTicker\"},{\"attributes\":{\"label\":{\"value\":\"Infected\"},\"renderers\":[{\"id\":\"3676\",\"type\":\"GlyphRenderer\"}]},\"id\":\"3687\",\"type\":\"LegendItem\"},{\"attributes\":{},\"id\":\"3732\",\"type\":\"BasicTickFormatter\"},{\"attributes\":{},\"id\":\"3685\",\"type\":\"Selection\"},{\"attributes\":{\"align\":\"center\",\"text\":\"fraction infected: 0.1\"},\"id\":\"3689\",\"type\":\"Title\"},{\"attributes\":{\"below\":[{\"id\":\"3699\",\"type\":\"LinearAxis\"},{\"id\":\"3752\",\"type\":\"Title\"}],\"center\":[{\"id\":\"3703\",\"type\":\"Grid\"},{\"id\":\"3708\",\"type\":\"Grid\"},{\"id\":\"3734\",\"type\":\"Legend\"}],\"left\":[{\"id\":\"3704\",\"type\":\"LinearAxis\"}],\"plot_height\":400,\"plot_width\":400,\"renderers\":[{\"id\":\"3725\",\"type\":\"GlyphRenderer\"},{\"id\":\"3739\",\"type\":\"GlyphRenderer\"}],\"title\":{\"id\":\"3728\",\"type\":\"Title\"},\"toolbar\":{\"id\":\"3715\",\"type\":\"Toolbar\"},\"toolbar_location\":null,\"x_range\":{\"id\":\"3691\",\"type\":\"DataRange1d\"},\"x_scale\":{\"id\":\"3695\",\"type\":\"LinearScale\"},\"y_range\":{\"id\":\"3693\",\"type\":\"DataRange1d\"},\"y_scale\":{\"id\":\"3697\",\"type\":\"LinearScale\"}},\"id\":\"3690\",\"subtype\":\"Figure\",\"type\":\"Plot\"},{\"attributes\":{\"line_alpha\":0.1,\"line_color\":\"#1f77b4\",\"line_width\":2,\"x\":{\"field\":\"x\"},\"y\":{\"field\":\"y\"}},\"id\":\"3738\",\"type\":\"Line\"},{\"attributes\":{\"callback\":null},\"id\":\"3628\",\"type\":\"DataRange1d\"},{\"attributes\":{\"callback\":null,\"data\":{\"x\":[0,1,2,3,4,5,6,7,8,9,10,11,12,13,14,15,16,17,18,19,20,21,22,23,24,25,26,27,28,29],\"y\":{\"__ndarray__\":\"zczMzMzM7D956SYxCKzsP3npJjEIrOw/eekmMQis7D956SYxCKzsP3npJjEIrOw/eekmMQis7D956SYxCKzsP3npJjEIrOw/eekmMQis7D956SYxCKzsP3npJjEIrOw/eekmMQis7D956SYxCKzsP3npJjEIrOw/eekmMQis7D956SYxCKzsP3npJjEIrOw/eekmMQis7D956SYxCKzsP3npJjEIrOw/eekmMQis7D956SYxCKzsP3npJjEIrOw/eekmMQis7D956SYxCKzsP3npJjEIrOw/eekmMQis7D956SYxCKzsP3npJjEIrOw/\",\"dtype\":\"float64\",\"shape\":[30]}},\"selected\":{\"id\":\"3685\",\"type\":\"Selection\"},\"selection_policy\":{\"id\":\"3684\",\"type\":\"UnionRenderers\"}},\"id\":\"3659\",\"type\":\"ColumnDataSource\"},{\"attributes\":{\"callback\":null},\"id\":\"3691\",\"type\":\"DataRange1d\"},{\"attributes\":{\"data_source\":{\"id\":\"3736\",\"type\":\"ColumnDataSource\"},\"glyph\":{\"id\":\"3737\",\"type\":\"Line\"},\"hover_glyph\":null,\"muted_glyph\":null,\"nonselection_glyph\":{\"id\":\"3738\",\"type\":\"Line\"},\"selection_glyph\":null,\"view\":{\"id\":\"3740\",\"type\":\"CDSView\"}},\"id\":\"3739\",\"type\":\"GlyphRenderer\"},{\"attributes\":{\"source\":{\"id\":\"3736\",\"type\":\"ColumnDataSource\"}},\"id\":\"3740\",\"type\":\"CDSView\"},{\"attributes\":{\"line_alpha\":0.5,\"line_color\":\"#1f77b4\",\"line_width\":2,\"x\":{\"field\":\"x\"},\"y\":{\"field\":\"y\"}},\"id\":\"3723\",\"type\":\"Line\"},{\"attributes\":{\"label\":{\"value\":\"Infected\"},\"renderers\":[{\"id\":\"3739\",\"type\":\"GlyphRenderer\"}]},\"id\":\"3750\",\"type\":\"LegendItem\"},{\"attributes\":{\"axis_label\":\"Iterations\",\"formatter\":{\"id\":\"3667\",\"type\":\"BasicTickFormatter\"},\"ticker\":{\"id\":\"3637\",\"type\":\"BasicTicker\"}},\"id\":\"3636\",\"type\":\"LinearAxis\"},{\"attributes\":{},\"id\":\"3747\",\"type\":\"UnionRenderers\"},{\"attributes\":{\"items\":[{\"id\":\"3672\",\"type\":\"LegendItem\"},{\"id\":\"3687\",\"type\":\"LegendItem\"}],\"orientation\":\"horizontal\"},\"id\":\"3671\",\"type\":\"Legend\"},{\"attributes\":{\"callback\":null},\"id\":\"3630\",\"type\":\"DataRange1d\"},{\"attributes\":{},\"id\":\"3634\",\"type\":\"LinearScale\"},{\"attributes\":{\"below\":[{\"id\":\"3636\",\"type\":\"LinearAxis\"},{\"id\":\"3689\",\"type\":\"Title\"}],\"center\":[{\"id\":\"3640\",\"type\":\"Grid\"},{\"id\":\"3645\",\"type\":\"Grid\"},{\"id\":\"3671\",\"type\":\"Legend\"}],\"left\":[{\"id\":\"3641\",\"type\":\"LinearAxis\"}],\"plot_height\":400,\"plot_width\":400,\"renderers\":[{\"id\":\"3662\",\"type\":\"GlyphRenderer\"},{\"id\":\"3676\",\"type\":\"GlyphRenderer\"}],\"title\":{\"id\":\"3665\",\"type\":\"Title\"},\"toolbar\":{\"id\":\"3652\",\"type\":\"Toolbar\"},\"toolbar_location\":null,\"x_range\":{\"id\":\"3628\",\"type\":\"DataRange1d\"},\"x_scale\":{\"id\":\"3632\",\"type\":\"LinearScale\"},\"y_range\":{\"id\":\"3630\",\"type\":\"DataRange1d\"},\"y_scale\":{\"id\":\"3634\",\"type\":\"LinearScale\"}},\"id\":\"3627\",\"subtype\":\"Figure\",\"type\":\"Plot\"}],\"root_ids\":[\"3780\"]},\"title\":\"Bokeh Application\",\"version\":\"1.4.0\"}};\n",
       "  var render_items = [{\"docid\":\"8e447537-5c2b-4a65-922b-e5d4727cc4ad\",\"roots\":{\"3780\":\"00d6429b-564d-4508-a820-8047cfe0c073\"}}];\n",
       "  root.Bokeh.embed.embed_items_notebook(docs_json, render_items);\n",
       "\n",
       "  }\n",
       "  if (root.Bokeh !== undefined) {\n",
       "    embed_document(root);\n",
       "  } else {\n",
       "    var attempts = 0;\n",
       "    var timer = setInterval(function(root) {\n",
       "      if (root.Bokeh !== undefined) {\n",
       "        clearInterval(timer);\n",
       "        embed_document(root);\n",
       "      } else {\n",
       "        attempts++;\n",
       "        if (attempts > 100) {\n",
       "          clearInterval(timer);\n",
       "          console.log(\"Bokeh: ERROR: Unable to run BokehJS code because BokehJS library is missing\");\n",
       "        }\n",
       "      }\n",
       "    }, 10, root)\n",
       "  }\n",
       "})(window);"
      ],
      "application/vnd.bokehjs_exec.v0+json": ""
     },
     "metadata": {
      "application/vnd.bokehjs_exec.v0+json": {
       "id": "3780"
      }
     },
     "output_type": "display_data"
    }
   ],
   "source": [
    "model, iterations = watts_model_ba_network(5, 0.5, 0.1, 30)\n",
    "plot_diffusion(model, iterations)"
   ]
  },
  {
   "cell_type": "code",
   "execution_count": 23,
   "metadata": {
    "ExecuteTime": {
     "end_time": "2020-08-09T13:58:23.188076Z",
     "start_time": "2020-08-09T13:58:22.977876Z"
    }
   },
   "outputs": [
    {
     "name": "stderr",
     "output_type": "stream",
     "text": [
      "100%|██████████| 30/30 [00:00<00:00, 1237.37it/s]\n"
     ]
    },
    {
     "data": {
      "text/html": [
       "\n",
       "    <div class=\"bk-root\">\n",
       "        <a href=\"https://bokeh.org\" target=\"_blank\" class=\"bk-logo bk-logo-small bk-logo-notebook\"></a>\n",
       "        <span id=\"6161\">Loading BokehJS ...</span>\n",
       "    </div>"
      ]
     },
     "metadata": {},
     "output_type": "display_data"
    },
    {
     "data": {
      "application/javascript": [
       "\n",
       "(function(root) {\n",
       "  function now() {\n",
       "    return new Date();\n",
       "  }\n",
       "\n",
       "  var force = true;\n",
       "\n",
       "  if (typeof root._bokeh_onload_callbacks === \"undefined\" || force === true) {\n",
       "    root._bokeh_onload_callbacks = [];\n",
       "    root._bokeh_is_loading = undefined;\n",
       "  }\n",
       "\n",
       "  var JS_MIME_TYPE = 'application/javascript';\n",
       "  var HTML_MIME_TYPE = 'text/html';\n",
       "  var EXEC_MIME_TYPE = 'application/vnd.bokehjs_exec.v0+json';\n",
       "  var CLASS_NAME = 'output_bokeh rendered_html';\n",
       "\n",
       "  /**\n",
       "   * Render data to the DOM node\n",
       "   */\n",
       "  function render(props, node) {\n",
       "    var script = document.createElement(\"script\");\n",
       "    node.appendChild(script);\n",
       "  }\n",
       "\n",
       "  /**\n",
       "   * Handle when an output is cleared or removed\n",
       "   */\n",
       "  function handleClearOutput(event, handle) {\n",
       "    var cell = handle.cell;\n",
       "\n",
       "    var id = cell.output_area._bokeh_element_id;\n",
       "    var server_id = cell.output_area._bokeh_server_id;\n",
       "    // Clean up Bokeh references\n",
       "    if (id != null && id in Bokeh.index) {\n",
       "      Bokeh.index[id].model.document.clear();\n",
       "      delete Bokeh.index[id];\n",
       "    }\n",
       "\n",
       "    if (server_id !== undefined) {\n",
       "      // Clean up Bokeh references\n",
       "      var cmd = \"from bokeh.io.state import curstate; print(curstate().uuid_to_server['\" + server_id + \"'].get_sessions()[0].document.roots[0]._id)\";\n",
       "      cell.notebook.kernel.execute(cmd, {\n",
       "        iopub: {\n",
       "          output: function(msg) {\n",
       "            var id = msg.content.text.trim();\n",
       "            if (id in Bokeh.index) {\n",
       "              Bokeh.index[id].model.document.clear();\n",
       "              delete Bokeh.index[id];\n",
       "            }\n",
       "          }\n",
       "        }\n",
       "      });\n",
       "      // Destroy server and session\n",
       "      var cmd = \"import bokeh.io.notebook as ion; ion.destroy_server('\" + server_id + \"')\";\n",
       "      cell.notebook.kernel.execute(cmd);\n",
       "    }\n",
       "  }\n",
       "\n",
       "  /**\n",
       "   * Handle when a new output is added\n",
       "   */\n",
       "  function handleAddOutput(event, handle) {\n",
       "    var output_area = handle.output_area;\n",
       "    var output = handle.output;\n",
       "\n",
       "    // limit handleAddOutput to display_data with EXEC_MIME_TYPE content only\n",
       "    if ((output.output_type != \"display_data\") || (!output.data.hasOwnProperty(EXEC_MIME_TYPE))) {\n",
       "      return\n",
       "    }\n",
       "\n",
       "    var toinsert = output_area.element.find(\".\" + CLASS_NAME.split(' ')[0]);\n",
       "\n",
       "    if (output.metadata[EXEC_MIME_TYPE][\"id\"] !== undefined) {\n",
       "      toinsert[toinsert.length - 1].firstChild.textContent = output.data[JS_MIME_TYPE];\n",
       "      // store reference to embed id on output_area\n",
       "      output_area._bokeh_element_id = output.metadata[EXEC_MIME_TYPE][\"id\"];\n",
       "    }\n",
       "    if (output.metadata[EXEC_MIME_TYPE][\"server_id\"] !== undefined) {\n",
       "      var bk_div = document.createElement(\"div\");\n",
       "      bk_div.innerHTML = output.data[HTML_MIME_TYPE];\n",
       "      var script_attrs = bk_div.children[0].attributes;\n",
       "      for (var i = 0; i < script_attrs.length; i++) {\n",
       "        toinsert[toinsert.length - 1].firstChild.setAttribute(script_attrs[i].name, script_attrs[i].value);\n",
       "      }\n",
       "      // store reference to server id on output_area\n",
       "      output_area._bokeh_server_id = output.metadata[EXEC_MIME_TYPE][\"server_id\"];\n",
       "    }\n",
       "  }\n",
       "\n",
       "  function register_renderer(events, OutputArea) {\n",
       "\n",
       "    function append_mime(data, metadata, element) {\n",
       "      // create a DOM node to render to\n",
       "      var toinsert = this.create_output_subarea(\n",
       "        metadata,\n",
       "        CLASS_NAME,\n",
       "        EXEC_MIME_TYPE\n",
       "      );\n",
       "      this.keyboard_manager.register_events(toinsert);\n",
       "      // Render to node\n",
       "      var props = {data: data, metadata: metadata[EXEC_MIME_TYPE]};\n",
       "      render(props, toinsert[toinsert.length - 1]);\n",
       "      element.append(toinsert);\n",
       "      return toinsert\n",
       "    }\n",
       "\n",
       "    /* Handle when an output is cleared or removed */\n",
       "    events.on('clear_output.CodeCell', handleClearOutput);\n",
       "    events.on('delete.Cell', handleClearOutput);\n",
       "\n",
       "    /* Handle when a new output is added */\n",
       "    events.on('output_added.OutputArea', handleAddOutput);\n",
       "\n",
       "    /**\n",
       "     * Register the mime type and append_mime function with output_area\n",
       "     */\n",
       "    OutputArea.prototype.register_mime_type(EXEC_MIME_TYPE, append_mime, {\n",
       "      /* Is output safe? */\n",
       "      safe: true,\n",
       "      /* Index of renderer in `output_area.display_order` */\n",
       "      index: 0\n",
       "    });\n",
       "  }\n",
       "\n",
       "  // register the mime type if in Jupyter Notebook environment and previously unregistered\n",
       "  if (root.Jupyter !== undefined) {\n",
       "    var events = require('base/js/events');\n",
       "    var OutputArea = require('notebook/js/outputarea').OutputArea;\n",
       "\n",
       "    if (OutputArea.prototype.mime_types().indexOf(EXEC_MIME_TYPE) == -1) {\n",
       "      register_renderer(events, OutputArea);\n",
       "    }\n",
       "  }\n",
       "\n",
       "  \n",
       "  if (typeof (root._bokeh_timeout) === \"undefined\" || force === true) {\n",
       "    root._bokeh_timeout = Date.now() + 5000;\n",
       "    root._bokeh_failed_load = false;\n",
       "  }\n",
       "\n",
       "  var NB_LOAD_WARNING = {'data': {'text/html':\n",
       "     \"<div style='background-color: #fdd'>\\n\"+\n",
       "     \"<p>\\n\"+\n",
       "     \"BokehJS does not appear to have successfully loaded. If loading BokehJS from CDN, this \\n\"+\n",
       "     \"may be due to a slow or bad network connection. Possible fixes:\\n\"+\n",
       "     \"</p>\\n\"+\n",
       "     \"<ul>\\n\"+\n",
       "     \"<li>re-rerun `output_notebook()` to attempt to load from CDN again, or</li>\\n\"+\n",
       "     \"<li>use INLINE resources instead, as so:</li>\\n\"+\n",
       "     \"</ul>\\n\"+\n",
       "     \"<code>\\n\"+\n",
       "     \"from bokeh.resources import INLINE\\n\"+\n",
       "     \"output_notebook(resources=INLINE)\\n\"+\n",
       "     \"</code>\\n\"+\n",
       "     \"</div>\"}};\n",
       "\n",
       "  function display_loaded() {\n",
       "    var el = document.getElementById(\"6161\");\n",
       "    if (el != null) {\n",
       "      el.textContent = \"BokehJS is loading...\";\n",
       "    }\n",
       "    if (root.Bokeh !== undefined) {\n",
       "      if (el != null) {\n",
       "        el.textContent = \"BokehJS \" + root.Bokeh.version + \" successfully loaded.\";\n",
       "      }\n",
       "    } else if (Date.now() < root._bokeh_timeout) {\n",
       "      setTimeout(display_loaded, 100)\n",
       "    }\n",
       "  }\n",
       "\n",
       "\n",
       "  function run_callbacks() {\n",
       "    try {\n",
       "      root._bokeh_onload_callbacks.forEach(function(callback) {\n",
       "        if (callback != null)\n",
       "          callback();\n",
       "      });\n",
       "    } finally {\n",
       "      delete root._bokeh_onload_callbacks\n",
       "    }\n",
       "    console.debug(\"Bokeh: all callbacks have finished\");\n",
       "  }\n",
       "\n",
       "  function load_libs(css_urls, js_urls, callback) {\n",
       "    if (css_urls == null) css_urls = [];\n",
       "    if (js_urls == null) js_urls = [];\n",
       "\n",
       "    root._bokeh_onload_callbacks.push(callback);\n",
       "    if (root._bokeh_is_loading > 0) {\n",
       "      console.debug(\"Bokeh: BokehJS is being loaded, scheduling callback at\", now());\n",
       "      return null;\n",
       "    }\n",
       "    if (js_urls == null || js_urls.length === 0) {\n",
       "      run_callbacks();\n",
       "      return null;\n",
       "    }\n",
       "    console.debug(\"Bokeh: BokehJS not loaded, scheduling load and callback at\", now());\n",
       "    root._bokeh_is_loading = css_urls.length + js_urls.length;\n",
       "\n",
       "    function on_load() {\n",
       "      root._bokeh_is_loading--;\n",
       "      if (root._bokeh_is_loading === 0) {\n",
       "        console.debug(\"Bokeh: all BokehJS libraries/stylesheets loaded\");\n",
       "        run_callbacks()\n",
       "      }\n",
       "    }\n",
       "\n",
       "    function on_error() {\n",
       "      console.error(\"failed to load \" + url);\n",
       "    }\n",
       "\n",
       "    for (var i = 0; i < css_urls.length; i++) {\n",
       "      var url = css_urls[i];\n",
       "      const element = document.createElement(\"link\");\n",
       "      element.onload = on_load;\n",
       "      element.onerror = on_error;\n",
       "      element.rel = \"stylesheet\";\n",
       "      element.type = \"text/css\";\n",
       "      element.href = url;\n",
       "      console.debug(\"Bokeh: injecting link tag for BokehJS stylesheet: \", url);\n",
       "      document.body.appendChild(element);\n",
       "    }\n",
       "\n",
       "    for (var i = 0; i < js_urls.length; i++) {\n",
       "      var url = js_urls[i];\n",
       "      var element = document.createElement('script');\n",
       "      element.onload = on_load;\n",
       "      element.onerror = on_error;\n",
       "      element.async = false;\n",
       "      element.src = url;\n",
       "      console.debug(\"Bokeh: injecting script tag for BokehJS library: \", url);\n",
       "      document.head.appendChild(element);\n",
       "    }\n",
       "  };var element = document.getElementById(\"6161\");\n",
       "  if (element == null) {\n",
       "    console.error(\"Bokeh: ERROR: autoload.js configured with elementid '6161' but no matching script tag was found. \")\n",
       "    return false;\n",
       "  }\n",
       "\n",
       "  function inject_raw_css(css) {\n",
       "    const element = document.createElement(\"style\");\n",
       "    element.appendChild(document.createTextNode(css));\n",
       "    document.body.appendChild(element);\n",
       "  }\n",
       "\n",
       "  \n",
       "  var js_urls = [\"https://cdn.pydata.org/bokeh/release/bokeh-1.4.0.min.js\", \"https://cdn.pydata.org/bokeh/release/bokeh-widgets-1.4.0.min.js\", \"https://cdn.pydata.org/bokeh/release/bokeh-tables-1.4.0.min.js\", \"https://cdn.pydata.org/bokeh/release/bokeh-gl-1.4.0.min.js\"];\n",
       "  var css_urls = [];\n",
       "  \n",
       "\n",
       "  var inline_js = [\n",
       "    function(Bokeh) {\n",
       "      Bokeh.set_log_level(\"info\");\n",
       "    },\n",
       "    function(Bokeh) {\n",
       "    \n",
       "    \n",
       "    }\n",
       "  ];\n",
       "\n",
       "  function run_inline_js() {\n",
       "    \n",
       "    if (root.Bokeh !== undefined || force === true) {\n",
       "      \n",
       "    for (var i = 0; i < inline_js.length; i++) {\n",
       "      inline_js[i].call(root, root.Bokeh);\n",
       "    }\n",
       "    if (force === true) {\n",
       "        display_loaded();\n",
       "      }} else if (Date.now() < root._bokeh_timeout) {\n",
       "      setTimeout(run_inline_js, 100);\n",
       "    } else if (!root._bokeh_failed_load) {\n",
       "      console.log(\"Bokeh: BokehJS failed to load within specified timeout.\");\n",
       "      root._bokeh_failed_load = true;\n",
       "    } else if (force !== true) {\n",
       "      var cell = $(document.getElementById(\"6161\")).parents('.cell').data().cell;\n",
       "      cell.output_area.append_execute_result(NB_LOAD_WARNING)\n",
       "    }\n",
       "\n",
       "  }\n",
       "\n",
       "  if (root._bokeh_is_loading === 0) {\n",
       "    console.debug(\"Bokeh: BokehJS loaded, going straight to plotting\");\n",
       "    run_inline_js();\n",
       "  } else {\n",
       "    load_libs(css_urls, js_urls, function() {\n",
       "      console.debug(\"Bokeh: BokehJS plotting callback run at\", now());\n",
       "      run_inline_js();\n",
       "    });\n",
       "  }\n",
       "}(window));"
      ],
      "application/vnd.bokehjs_load.v0+json": "\n(function(root) {\n  function now() {\n    return new Date();\n  }\n\n  var force = true;\n\n  if (typeof root._bokeh_onload_callbacks === \"undefined\" || force === true) {\n    root._bokeh_onload_callbacks = [];\n    root._bokeh_is_loading = undefined;\n  }\n\n  \n\n  \n  if (typeof (root._bokeh_timeout) === \"undefined\" || force === true) {\n    root._bokeh_timeout = Date.now() + 5000;\n    root._bokeh_failed_load = false;\n  }\n\n  var NB_LOAD_WARNING = {'data': {'text/html':\n     \"<div style='background-color: #fdd'>\\n\"+\n     \"<p>\\n\"+\n     \"BokehJS does not appear to have successfully loaded. If loading BokehJS from CDN, this \\n\"+\n     \"may be due to a slow or bad network connection. Possible fixes:\\n\"+\n     \"</p>\\n\"+\n     \"<ul>\\n\"+\n     \"<li>re-rerun `output_notebook()` to attempt to load from CDN again, or</li>\\n\"+\n     \"<li>use INLINE resources instead, as so:</li>\\n\"+\n     \"</ul>\\n\"+\n     \"<code>\\n\"+\n     \"from bokeh.resources import INLINE\\n\"+\n     \"output_notebook(resources=INLINE)\\n\"+\n     \"</code>\\n\"+\n     \"</div>\"}};\n\n  function display_loaded() {\n    var el = document.getElementById(\"6161\");\n    if (el != null) {\n      el.textContent = \"BokehJS is loading...\";\n    }\n    if (root.Bokeh !== undefined) {\n      if (el != null) {\n        el.textContent = \"BokehJS \" + root.Bokeh.version + \" successfully loaded.\";\n      }\n    } else if (Date.now() < root._bokeh_timeout) {\n      setTimeout(display_loaded, 100)\n    }\n  }\n\n\n  function run_callbacks() {\n    try {\n      root._bokeh_onload_callbacks.forEach(function(callback) {\n        if (callback != null)\n          callback();\n      });\n    } finally {\n      delete root._bokeh_onload_callbacks\n    }\n    console.debug(\"Bokeh: all callbacks have finished\");\n  }\n\n  function load_libs(css_urls, js_urls, callback) {\n    if (css_urls == null) css_urls = [];\n    if (js_urls == null) js_urls = [];\n\n    root._bokeh_onload_callbacks.push(callback);\n    if (root._bokeh_is_loading > 0) {\n      console.debug(\"Bokeh: BokehJS is being loaded, scheduling callback at\", now());\n      return null;\n    }\n    if (js_urls == null || js_urls.length === 0) {\n      run_callbacks();\n      return null;\n    }\n    console.debug(\"Bokeh: BokehJS not loaded, scheduling load and callback at\", now());\n    root._bokeh_is_loading = css_urls.length + js_urls.length;\n\n    function on_load() {\n      root._bokeh_is_loading--;\n      if (root._bokeh_is_loading === 0) {\n        console.debug(\"Bokeh: all BokehJS libraries/stylesheets loaded\");\n        run_callbacks()\n      }\n    }\n\n    function on_error() {\n      console.error(\"failed to load \" + url);\n    }\n\n    for (var i = 0; i < css_urls.length; i++) {\n      var url = css_urls[i];\n      const element = document.createElement(\"link\");\n      element.onload = on_load;\n      element.onerror = on_error;\n      element.rel = \"stylesheet\";\n      element.type = \"text/css\";\n      element.href = url;\n      console.debug(\"Bokeh: injecting link tag for BokehJS stylesheet: \", url);\n      document.body.appendChild(element);\n    }\n\n    for (var i = 0; i < js_urls.length; i++) {\n      var url = js_urls[i];\n      var element = document.createElement('script');\n      element.onload = on_load;\n      element.onerror = on_error;\n      element.async = false;\n      element.src = url;\n      console.debug(\"Bokeh: injecting script tag for BokehJS library: \", url);\n      document.head.appendChild(element);\n    }\n  };var element = document.getElementById(\"6161\");\n  if (element == null) {\n    console.error(\"Bokeh: ERROR: autoload.js configured with elementid '6161' but no matching script tag was found. \")\n    return false;\n  }\n\n  function inject_raw_css(css) {\n    const element = document.createElement(\"style\");\n    element.appendChild(document.createTextNode(css));\n    document.body.appendChild(element);\n  }\n\n  \n  var js_urls = [\"https://cdn.pydata.org/bokeh/release/bokeh-1.4.0.min.js\", \"https://cdn.pydata.org/bokeh/release/bokeh-widgets-1.4.0.min.js\", \"https://cdn.pydata.org/bokeh/release/bokeh-tables-1.4.0.min.js\", \"https://cdn.pydata.org/bokeh/release/bokeh-gl-1.4.0.min.js\"];\n  var css_urls = [];\n  \n\n  var inline_js = [\n    function(Bokeh) {\n      Bokeh.set_log_level(\"info\");\n    },\n    function(Bokeh) {\n    \n    \n    }\n  ];\n\n  function run_inline_js() {\n    \n    if (root.Bokeh !== undefined || force === true) {\n      \n    for (var i = 0; i < inline_js.length; i++) {\n      inline_js[i].call(root, root.Bokeh);\n    }\n    if (force === true) {\n        display_loaded();\n      }} else if (Date.now() < root._bokeh_timeout) {\n      setTimeout(run_inline_js, 100);\n    } else if (!root._bokeh_failed_load) {\n      console.log(\"Bokeh: BokehJS failed to load within specified timeout.\");\n      root._bokeh_failed_load = true;\n    } else if (force !== true) {\n      var cell = $(document.getElementById(\"6161\")).parents('.cell').data().cell;\n      cell.output_area.append_execute_result(NB_LOAD_WARNING)\n    }\n\n  }\n\n  if (root._bokeh_is_loading === 0) {\n    console.debug(\"Bokeh: BokehJS loaded, going straight to plotting\");\n    run_inline_js();\n  } else {\n    load_libs(css_urls, js_urls, function() {\n      console.debug(\"Bokeh: BokehJS plotting callback run at\", now());\n      run_inline_js();\n    });\n  }\n}(window));"
     },
     "metadata": {},
     "output_type": "display_data"
    },
    {
     "name": "stderr",
     "output_type": "stream",
     "text": [
      "BokehDeprecationWarning: 'legend' keyword is deprecated, use explicit 'legend_label', 'legend_field', or 'legend_group' keywords instead\n",
      "BokehDeprecationWarning: 'legend' keyword is deprecated, use explicit 'legend_label', 'legend_field', or 'legend_group' keywords instead\n",
      "BokehDeprecationWarning: 'legend' keyword is deprecated, use explicit 'legend_label', 'legend_field', or 'legend_group' keywords instead\n",
      "BokehDeprecationWarning: 'legend' keyword is deprecated, use explicit 'legend_label', 'legend_field', or 'legend_group' keywords instead\n"
     ]
    },
    {
     "data": {
      "text/html": [
       "\n",
       "\n",
       "\n",
       "\n",
       "\n",
       "\n",
       "  <div class=\"bk-root\" id=\"9661559e-d3cc-4453-abcf-d2b148331648\" data-root-id=\"6315\"></div>\n"
      ]
     },
     "metadata": {},
     "output_type": "display_data"
    },
    {
     "data": {
      "application/javascript": [
       "(function(root) {\n",
       "  function embed_document(root) {\n",
       "    \n",
       "  var docs_json = {\"04606982-d725-4adf-95d8-617fbf55dc15\":{\"roots\":{\"references\":[{\"attributes\":{\"children\":[{\"id\":\"6314\",\"type\":\"ToolbarBox\"},{\"id\":\"6312\",\"type\":\"GridBox\"}]},\"id\":\"6315\",\"type\":\"Column\"},{\"attributes\":{\"line_alpha\":0.1,\"line_color\":\"#1f77b4\",\"line_width\":2,\"x\":{\"field\":\"x\"},\"y\":{\"field\":\"y\"}},\"id\":\"6273\",\"type\":\"Line\"},{\"attributes\":{\"data_source\":{\"id\":\"6271\",\"type\":\"ColumnDataSource\"},\"glyph\":{\"id\":\"6272\",\"type\":\"Line\"},\"hover_glyph\":null,\"muted_glyph\":null,\"nonselection_glyph\":{\"id\":\"6273\",\"type\":\"Line\"},\"selection_glyph\":null,\"view\":{\"id\":\"6275\",\"type\":\"CDSView\"}},\"id\":\"6274\",\"type\":\"GlyphRenderer\"},{\"attributes\":{\"source\":{\"id\":\"6271\",\"type\":\"ColumnDataSource\"}},\"id\":\"6275\",\"type\":\"CDSView\"},{\"attributes\":{},\"id\":\"6282\",\"type\":\"UnionRenderers\"},{\"attributes\":{\"label\":{\"value\":\"Infected\"},\"renderers\":[{\"id\":\"6274\",\"type\":\"GlyphRenderer\"}]},\"id\":\"6285\",\"type\":\"LegendItem\"},{\"attributes\":{},\"id\":\"6283\",\"type\":\"Selection\"},{\"attributes\":{\"align\":\"center\",\"text\":\"fraction infected: 0.1\"},\"id\":\"6287\",\"type\":\"Title\"},{\"attributes\":{\"children\":[[{\"id\":\"6162\",\"subtype\":\"Figure\",\"type\":\"Plot\"},0,0],[{\"id\":\"6225\",\"subtype\":\"Figure\",\"type\":\"Plot\"},0,1]]},\"id\":\"6312\",\"type\":\"GridBox\"},{\"attributes\":{\"callback\":null},\"id\":\"6165\",\"type\":\"DataRange1d\"},{\"attributes\":{\"tools\":[{\"id\":\"6181\",\"type\":\"PanTool\"},{\"id\":\"6182\",\"type\":\"WheelZoomTool\"},{\"id\":\"6183\",\"type\":\"BoxZoomTool\"},{\"id\":\"6184\",\"type\":\"SaveTool\"},{\"id\":\"6185\",\"type\":\"ResetTool\"},{\"id\":\"6186\",\"type\":\"HelpTool\"},{\"id\":\"6244\",\"type\":\"PanTool\"},{\"id\":\"6245\",\"type\":\"WheelZoomTool\"},{\"id\":\"6246\",\"type\":\"BoxZoomTool\"},{\"id\":\"6247\",\"type\":\"SaveTool\"},{\"id\":\"6248\",\"type\":\"ResetTool\"},{\"id\":\"6249\",\"type\":\"HelpTool\"}]},\"id\":\"6313\",\"type\":\"ProxyToolbar\"},{\"attributes\":{},\"id\":\"6167\",\"type\":\"LinearScale\"},{\"attributes\":{},\"id\":\"6296\",\"type\":\"UnionRenderers\"},{\"attributes\":{\"toolbar\":{\"id\":\"6313\",\"type\":\"ProxyToolbar\"},\"toolbar_location\":\"above\"},\"id\":\"6314\",\"type\":\"ToolbarBox\"},{\"attributes\":{},\"id\":\"6297\",\"type\":\"Selection\"},{\"attributes\":{},\"id\":\"6309\",\"type\":\"Selection\"},{\"attributes\":{\"below\":[{\"id\":\"6171\",\"type\":\"LinearAxis\"},{\"id\":\"6224\",\"type\":\"Title\"}],\"center\":[{\"id\":\"6175\",\"type\":\"Grid\"},{\"id\":\"6180\",\"type\":\"Grid\"},{\"id\":\"6206\",\"type\":\"Legend\"}],\"left\":[{\"id\":\"6176\",\"type\":\"LinearAxis\"}],\"plot_height\":400,\"plot_width\":400,\"renderers\":[{\"id\":\"6197\",\"type\":\"GlyphRenderer\"},{\"id\":\"6211\",\"type\":\"GlyphRenderer\"}],\"title\":{\"id\":\"6200\",\"type\":\"Title\"},\"toolbar\":{\"id\":\"6187\",\"type\":\"Toolbar\"},\"toolbar_location\":null,\"x_range\":{\"id\":\"6163\",\"type\":\"DataRange1d\"},\"x_scale\":{\"id\":\"6167\",\"type\":\"LinearScale\"},\"y_range\":{\"id\":\"6165\",\"type\":\"DataRange1d\"},\"y_scale\":{\"id\":\"6169\",\"type\":\"LinearScale\"}},\"id\":\"6162\",\"subtype\":\"Figure\",\"type\":\"Plot\"},{\"attributes\":{},\"id\":\"6308\",\"type\":\"UnionRenderers\"},{\"attributes\":{\"line_alpha\":0.1,\"line_color\":\"#1f77b4\",\"line_width\":2,\"x\":{\"field\":\"x\"},\"y\":{\"field\":\"y\"}},\"id\":\"6196\",\"type\":\"Line\"},{\"attributes\":{\"dimension\":1,\"grid_line_alpha\":0.5,\"ticker\":{\"id\":\"6177\",\"type\":\"BasicTicker\"}},\"id\":\"6180\",\"type\":\"Grid\"},{\"attributes\":{\"callback\":null},\"id\":\"6226\",\"type\":\"DataRange1d\"},{\"attributes\":{\"below\":[{\"id\":\"6234\",\"type\":\"LinearAxis\"},{\"id\":\"6287\",\"type\":\"Title\"}],\"center\":[{\"id\":\"6238\",\"type\":\"Grid\"},{\"id\":\"6243\",\"type\":\"Grid\"},{\"id\":\"6269\",\"type\":\"Legend\"}],\"left\":[{\"id\":\"6239\",\"type\":\"LinearAxis\"}],\"plot_height\":400,\"plot_width\":400,\"renderers\":[{\"id\":\"6260\",\"type\":\"GlyphRenderer\"},{\"id\":\"6274\",\"type\":\"GlyphRenderer\"}],\"title\":{\"id\":\"6263\",\"type\":\"Title\"},\"toolbar\":{\"id\":\"6250\",\"type\":\"Toolbar\"},\"toolbar_location\":null,\"x_range\":{\"id\":\"6226\",\"type\":\"DataRange1d\"},\"x_scale\":{\"id\":\"6230\",\"type\":\"LinearScale\"},\"y_range\":{\"id\":\"6228\",\"type\":\"DataRange1d\"},\"y_scale\":{\"id\":\"6232\",\"type\":\"LinearScale\"}},\"id\":\"6225\",\"subtype\":\"Figure\",\"type\":\"Plot\"},{\"attributes\":{\"callback\":null},\"id\":\"6228\",\"type\":\"DataRange1d\"},{\"attributes\":{},\"id\":\"6230\",\"type\":\"LinearScale\"},{\"attributes\":{\"callback\":null},\"id\":\"6163\",\"type\":\"DataRange1d\"},{\"attributes\":{\"active_drag\":\"auto\",\"active_inspect\":\"auto\",\"active_multi\":null,\"active_scroll\":\"auto\",\"active_tap\":\"auto\",\"tools\":[{\"id\":\"6181\",\"type\":\"PanTool\"},{\"id\":\"6182\",\"type\":\"WheelZoomTool\"},{\"id\":\"6183\",\"type\":\"BoxZoomTool\"},{\"id\":\"6184\",\"type\":\"SaveTool\"},{\"id\":\"6185\",\"type\":\"ResetTool\"},{\"id\":\"6186\",\"type\":\"HelpTool\"}]},\"id\":\"6187\",\"type\":\"Toolbar\"},{\"attributes\":{\"callback\":null,\"data\":{\"x\":[0,1,2,3,4,5,6,7,8,9,10,11,12,13,14,15,16,17,18,19,20,21,22,23,24,25,26,27,28,29],\"y\":{\"__ndarray__\":\"zczMzMzM7D8X2c73U+PlP9NNYhBYOdw/ObTIdr6fuj/8qfHSTWJgPwAAAAAAAAAAAAAAAAAAAAAAAAAAAAAAAAAAAAAAAAAAAAAAAAAAAAAAAAAAAAAAAAAAAAAAAAAAAAAAAAAAAAAAAAAAAAAAAAAAAAAAAAAAAAAAAAAAAAAAAAAAAAAAAAAAAAAAAAAAAAAAAAAAAAAAAAAAAAAAAAAAAAAAAAAAAAAAAAAAAAAAAAAAAAAAAAAAAAAAAAAAAAAAAAAAAAAAAAAAAAAAAAAAAAAAAAAAAAAAAAAAAAAAAAAAAAAAAAAAAAAAAAAA\",\"dtype\":\"float64\",\"shape\":[30]}},\"selected\":{\"id\":\"6220\",\"type\":\"Selection\"},\"selection_policy\":{\"id\":\"6219\",\"type\":\"UnionRenderers\"}},\"id\":\"6194\",\"type\":\"ColumnDataSource\"},{\"attributes\":{\"data_source\":{\"id\":\"6194\",\"type\":\"ColumnDataSource\"},\"glyph\":{\"id\":\"6195\",\"type\":\"Line\"},\"hover_glyph\":null,\"muted_glyph\":null,\"nonselection_glyph\":{\"id\":\"6196\",\"type\":\"Line\"},\"selection_glyph\":null,\"view\":{\"id\":\"6198\",\"type\":\"CDSView\"}},\"id\":\"6197\",\"type\":\"GlyphRenderer\"},{\"attributes\":{},\"id\":\"6181\",\"type\":\"PanTool\"},{\"attributes\":{},\"id\":\"6232\",\"type\":\"LinearScale\"},{\"attributes\":{},\"id\":\"6182\",\"type\":\"WheelZoomTool\"},{\"attributes\":{\"axis_label\":\"Iterations\",\"formatter\":{\"id\":\"6265\",\"type\":\"BasicTickFormatter\"},\"ticker\":{\"id\":\"6235\",\"type\":\"BasicTicker\"}},\"id\":\"6234\",\"type\":\"LinearAxis\"},{\"attributes\":{\"overlay\":{\"id\":\"6205\",\"type\":\"BoxAnnotation\"}},\"id\":\"6183\",\"type\":\"BoxZoomTool\"},{\"attributes\":{},\"id\":\"6240\",\"type\":\"BasicTicker\"},{\"attributes\":{},\"id\":\"6235\",\"type\":\"BasicTicker\"},{\"attributes\":{},\"id\":\"6184\",\"type\":\"SaveTool\"},{\"attributes\":{\"grid_line_alpha\":0.5,\"ticker\":{\"id\":\"6235\",\"type\":\"BasicTicker\"}},\"id\":\"6238\",\"type\":\"Grid\"},{\"attributes\":{},\"id\":\"6185\",\"type\":\"ResetTool\"},{\"attributes\":{\"dimension\":1,\"grid_line_alpha\":0.5,\"ticker\":{\"id\":\"6240\",\"type\":\"BasicTicker\"}},\"id\":\"6243\",\"type\":\"Grid\"},{\"attributes\":{\"axis_label\":\"#Delta Nodes\",\"formatter\":{\"id\":\"6267\",\"type\":\"BasicTickFormatter\"},\"ticker\":{\"id\":\"6240\",\"type\":\"BasicTicker\"}},\"id\":\"6239\",\"type\":\"LinearAxis\"},{\"attributes\":{},\"id\":\"6186\",\"type\":\"HelpTool\"},{\"attributes\":{\"grid_line_alpha\":0.5,\"ticker\":{\"id\":\"6172\",\"type\":\"BasicTicker\"}},\"id\":\"6175\",\"type\":\"Grid\"},{\"attributes\":{\"callback\":null,\"data\":{\"x\":[0,1,2,3,4,5,6,7,8,9,10,11,12,13,14,15,16,17,18,19,20,21,22,23,24,25,26,27,28,29],\"y\":{\"__ndarray__\":\"AAAAAAAAAAAAAAAAAABrwAAAAAAAYG7AAAAAAAAQdcAAAAAAAIBZwAAAAAAAAADAAAAAAAAAAAAAAAAAAAAAAAAAAAAAAAAAAAAAAAAAAAAAAAAAAAAAAAAAAAAAAAAAAAAAAAAAAAAAAAAAAAAAAAAAAAAAAAAAAAAAAAAAAAAAAAAAAAAAAAAAAAAAAAAAAAAAAAAAAAAAAAAAAAAAAAAAAAAAAAAAAAAAAAAAAAAAAAAAAAAAAAAAAAAAAAAAAAAAAAAAAAAAAAAAAAAAAAAAAAAAAAAAAAAAAAAAAAAAAAAAAAAAAAAAAAAAAAAA\",\"dtype\":\"float64\",\"shape\":[30]}},\"selected\":{\"id\":\"6283\",\"type\":\"Selection\"},\"selection_policy\":{\"id\":\"6282\",\"type\":\"UnionRenderers\"}},\"id\":\"6257\",\"type\":\"ColumnDataSource\"},{\"attributes\":{\"items\":[{\"id\":\"6207\",\"type\":\"LegendItem\"},{\"id\":\"6222\",\"type\":\"LegendItem\"}],\"orientation\":\"horizontal\"},\"id\":\"6206\",\"type\":\"Legend\"},{\"attributes\":{\"active_drag\":\"auto\",\"active_inspect\":\"auto\",\"active_multi\":null,\"active_scroll\":\"auto\",\"active_tap\":\"auto\",\"tools\":[{\"id\":\"6244\",\"type\":\"PanTool\"},{\"id\":\"6245\",\"type\":\"WheelZoomTool\"},{\"id\":\"6246\",\"type\":\"BoxZoomTool\"},{\"id\":\"6247\",\"type\":\"SaveTool\"},{\"id\":\"6248\",\"type\":\"ResetTool\"},{\"id\":\"6249\",\"type\":\"HelpTool\"}]},\"id\":\"6250\",\"type\":\"Toolbar\"},{\"attributes\":{\"line_alpha\":0.5,\"line_color\":\"#1f77b4\",\"line_width\":2,\"x\":{\"field\":\"x\"},\"y\":{\"field\":\"y\"}},\"id\":\"6258\",\"type\":\"Line\"},{\"attributes\":{},\"id\":\"6202\",\"type\":\"BasicTickFormatter\"},{\"attributes\":{\"data_source\":{\"id\":\"6257\",\"type\":\"ColumnDataSource\"},\"glyph\":{\"id\":\"6258\",\"type\":\"Line\"},\"hover_glyph\":null,\"muted_glyph\":null,\"nonselection_glyph\":{\"id\":\"6259\",\"type\":\"Line\"},\"selection_glyph\":null,\"view\":{\"id\":\"6261\",\"type\":\"CDSView\"}},\"id\":\"6260\",\"type\":\"GlyphRenderer\"},{\"attributes\":{},\"id\":\"6244\",\"type\":\"PanTool\"},{\"attributes\":{\"source\":{\"id\":\"6194\",\"type\":\"ColumnDataSource\"}},\"id\":\"6198\",\"type\":\"CDSView\"},{\"attributes\":{\"bottom_units\":\"screen\",\"fill_alpha\":{\"value\":0.5},\"fill_color\":{\"value\":\"lightgrey\"},\"left_units\":\"screen\",\"level\":\"overlay\",\"line_alpha\":{\"value\":1.0},\"line_color\":{\"value\":\"black\"},\"line_dash\":[4,4],\"line_width\":{\"value\":2},\"render_mode\":\"css\",\"right_units\":\"screen\",\"top_units\":\"screen\"},\"id\":\"6205\",\"type\":\"BoxAnnotation\"},{\"attributes\":{},\"id\":\"6245\",\"type\":\"WheelZoomTool\"},{\"attributes\":{\"overlay\":{\"id\":\"6268\",\"type\":\"BoxAnnotation\"}},\"id\":\"6246\",\"type\":\"BoxZoomTool\"},{\"attributes\":{},\"id\":\"6204\",\"type\":\"BasicTickFormatter\"},{\"attributes\":{},\"id\":\"6247\",\"type\":\"SaveTool\"},{\"attributes\":{},\"id\":\"6172\",\"type\":\"BasicTicker\"},{\"attributes\":{\"label\":{\"value\":\"Susceptible\"},\"renderers\":[{\"id\":\"6197\",\"type\":\"GlyphRenderer\"}]},\"id\":\"6207\",\"type\":\"LegendItem\"},{\"attributes\":{},\"id\":\"6248\",\"type\":\"ResetTool\"},{\"attributes\":{\"axis_label\":\"Iterations\",\"formatter\":{\"id\":\"6202\",\"type\":\"BasicTickFormatter\"},\"ticker\":{\"id\":\"6172\",\"type\":\"BasicTicker\"}},\"id\":\"6171\",\"type\":\"LinearAxis\"},{\"attributes\":{\"line_alpha\":0.1,\"line_color\":\"#1f77b4\",\"line_width\":2,\"x\":{\"field\":\"x\"},\"y\":{\"field\":\"y\"}},\"id\":\"6259\",\"type\":\"Line\"},{\"attributes\":{},\"id\":\"6249\",\"type\":\"HelpTool\"},{\"attributes\":{\"line_alpha\":0.5,\"line_color\":\"#aec7e8\",\"line_width\":2,\"x\":{\"field\":\"x\"},\"y\":{\"field\":\"y\"}},\"id\":\"6209\",\"type\":\"Line\"},{\"attributes\":{\"callback\":null,\"data\":{\"x\":[0,1,2,3,4,5,6,7,8,9,10,11,12,13,14,15,16,17,18,19,20,21,22,23,24,25,26,27,28,29],\"y\":{\"__ndarray__\":\"mpmZmZmZuT/TTWIQWDnUPxfZzvdT4+E/eekmMQis7D9WDi2yne/vPwAAAAAAAPA/AAAAAAAA8D8AAAAAAADwPwAAAAAAAPA/AAAAAAAA8D8AAAAAAADwPwAAAAAAAPA/AAAAAAAA8D8AAAAAAADwPwAAAAAAAPA/AAAAAAAA8D8AAAAAAADwPwAAAAAAAPA/AAAAAAAA8D8AAAAAAADwPwAAAAAAAPA/AAAAAAAA8D8AAAAAAADwPwAAAAAAAPA/AAAAAAAA8D8AAAAAAADwPwAAAAAAAPA/AAAAAAAA8D8AAAAAAADwPwAAAAAAAPA/\",\"dtype\":\"float64\",\"shape\":[30]}},\"selected\":{\"id\":\"6297\",\"type\":\"Selection\"},\"selection_policy\":{\"id\":\"6296\",\"type\":\"UnionRenderers\"}},\"id\":\"6208\",\"type\":\"ColumnDataSource\"},{\"attributes\":{\"text\":\"Threshold - Prevalence\"},\"id\":\"6263\",\"type\":\"Title\"},{\"attributes\":{\"text\":\"Threshold - Diffusion Trend\"},\"id\":\"6200\",\"type\":\"Title\"},{\"attributes\":{\"items\":[{\"id\":\"6270\",\"type\":\"LegendItem\"},{\"id\":\"6285\",\"type\":\"LegendItem\"}],\"orientation\":\"horizontal\"},\"id\":\"6269\",\"type\":\"Legend\"},{\"attributes\":{\"line_alpha\":0.1,\"line_color\":\"#1f77b4\",\"line_width\":2,\"x\":{\"field\":\"x\"},\"y\":{\"field\":\"y\"}},\"id\":\"6210\",\"type\":\"Line\"},{\"attributes\":{\"data_source\":{\"id\":\"6208\",\"type\":\"ColumnDataSource\"},\"glyph\":{\"id\":\"6209\",\"type\":\"Line\"},\"hover_glyph\":null,\"muted_glyph\":null,\"nonselection_glyph\":{\"id\":\"6210\",\"type\":\"Line\"},\"selection_glyph\":null,\"view\":{\"id\":\"6212\",\"type\":\"CDSView\"}},\"id\":\"6211\",\"type\":\"GlyphRenderer\"},{\"attributes\":{},\"id\":\"6177\",\"type\":\"BasicTicker\"},{\"attributes\":{\"source\":{\"id\":\"6257\",\"type\":\"ColumnDataSource\"}},\"id\":\"6261\",\"type\":\"CDSView\"},{\"attributes\":{\"source\":{\"id\":\"6208\",\"type\":\"ColumnDataSource\"}},\"id\":\"6212\",\"type\":\"CDSView\"},{\"attributes\":{},\"id\":\"6265\",\"type\":\"BasicTickFormatter\"},{\"attributes\":{\"bottom_units\":\"screen\",\"fill_alpha\":{\"value\":0.5},\"fill_color\":{\"value\":\"lightgrey\"},\"left_units\":\"screen\",\"level\":\"overlay\",\"line_alpha\":{\"value\":1.0},\"line_color\":{\"value\":\"black\"},\"line_dash\":[4,4],\"line_width\":{\"value\":2},\"render_mode\":\"css\",\"right_units\":\"screen\",\"top_units\":\"screen\"},\"id\":\"6268\",\"type\":\"BoxAnnotation\"},{\"attributes\":{},\"id\":\"6219\",\"type\":\"UnionRenderers\"},{\"attributes\":{\"axis_label\":\"#Nodes\",\"formatter\":{\"id\":\"6204\",\"type\":\"BasicTickFormatter\"},\"ticker\":{\"id\":\"6177\",\"type\":\"BasicTicker\"}},\"id\":\"6176\",\"type\":\"LinearAxis\"},{\"attributes\":{\"label\":{\"value\":\"Infected\"},\"renderers\":[{\"id\":\"6211\",\"type\":\"GlyphRenderer\"}]},\"id\":\"6222\",\"type\":\"LegendItem\"},{\"attributes\":{},\"id\":\"6220\",\"type\":\"Selection\"},{\"attributes\":{},\"id\":\"6267\",\"type\":\"BasicTickFormatter\"},{\"attributes\":{\"line_alpha\":0.5,\"line_color\":\"#aec7e8\",\"line_width\":2,\"x\":{\"field\":\"x\"},\"y\":{\"field\":\"y\"}},\"id\":\"6272\",\"type\":\"Line\"},{\"attributes\":{},\"id\":\"6169\",\"type\":\"LinearScale\"},{\"attributes\":{\"line_alpha\":0.5,\"line_color\":\"#1f77b4\",\"line_width\":2,\"x\":{\"field\":\"x\"},\"y\":{\"field\":\"y\"}},\"id\":\"6195\",\"type\":\"Line\"},{\"attributes\":{\"label\":{\"value\":\"Susceptible\"},\"renderers\":[{\"id\":\"6260\",\"type\":\"GlyphRenderer\"}]},\"id\":\"6270\",\"type\":\"LegendItem\"},{\"attributes\":{\"align\":\"center\",\"text\":\"fraction infected: 0.1\"},\"id\":\"6224\",\"type\":\"Title\"},{\"attributes\":{\"callback\":null,\"data\":{\"x\":[0,1,2,3,4,5,6,7,8,9,10,11,12,13,14,15,16,17,18,19,20,21,22,23,24,25,26,27,28,29],\"y\":{\"__ndarray__\":\"AAAAAAAAAAAAAAAAAABrQAAAAAAAYG5AAAAAAAAQdUAAAAAAAIBZQAAAAAAAAABAAAAAAAAAAAAAAAAAAAAAAAAAAAAAAAAAAAAAAAAAAAAAAAAAAAAAAAAAAAAAAAAAAAAAAAAAAAAAAAAAAAAAAAAAAAAAAAAAAAAAAAAAAAAAAAAAAAAAAAAAAAAAAAAAAAAAAAAAAAAAAAAAAAAAAAAAAAAAAAAAAAAAAAAAAAAAAAAAAAAAAAAAAAAAAAAAAAAAAAAAAAAAAAAAAAAAAAAAAAAAAAAAAAAAAAAAAAAAAAAAAAAAAAAAAAAAAAAA\",\"dtype\":\"float64\",\"shape\":[30]}},\"selected\":{\"id\":\"6309\",\"type\":\"Selection\"},\"selection_policy\":{\"id\":\"6308\",\"type\":\"UnionRenderers\"}},\"id\":\"6271\",\"type\":\"ColumnDataSource\"}],\"root_ids\":[\"6315\"]},\"title\":\"Bokeh Application\",\"version\":\"1.4.0\"}};\n",
       "  var render_items = [{\"docid\":\"04606982-d725-4adf-95d8-617fbf55dc15\",\"roots\":{\"6315\":\"9661559e-d3cc-4453-abcf-d2b148331648\"}}];\n",
       "  root.Bokeh.embed.embed_items_notebook(docs_json, render_items);\n",
       "\n",
       "  }\n",
       "  if (root.Bokeh !== undefined) {\n",
       "    embed_document(root);\n",
       "  } else {\n",
       "    var attempts = 0;\n",
       "    var timer = setInterval(function(root) {\n",
       "      if (root.Bokeh !== undefined) {\n",
       "        clearInterval(timer);\n",
       "        embed_document(root);\n",
       "      } else {\n",
       "        attempts++;\n",
       "        if (attempts > 100) {\n",
       "          clearInterval(timer);\n",
       "          console.log(\"Bokeh: ERROR: Unable to run BokehJS code because BokehJS library is missing\");\n",
       "        }\n",
       "      }\n",
       "    }, 10, root)\n",
       "  }\n",
       "})(window);"
      ],
      "application/vnd.bokehjs_exec.v0+json": ""
     },
     "metadata": {
      "application/vnd.bokehjs_exec.v0+json": {
       "id": "6315"
      }
     },
     "output_type": "display_data"
    }
   ],
   "source": [
    "model, iterations = watts_model_ba_network(2, 0.2, 0.1, 30)\n",
    "plot_diffusion(model, iterations)"
   ]
  },
  {
   "cell_type": "code",
   "execution_count": 3,
   "metadata": {
    "ExecuteTime": {
     "end_time": "2020-08-09T13:47:11.981708Z",
     "start_time": "2020-08-09T13:47:05.410231Z"
    },
    "slideshow": {
     "slide_type": "subslide"
    }
   },
   "outputs": [
    {
     "data": {
      "image/png": "[encoded data removed]",
      "text/plain": [
       "<Figure size 432x288 with 1 Axes>"
      ]
     },
     "metadata": {},
     "output_type": "display_data"
    }
   ],
   "source": [
    "nx.draw(g, node_size = 10)\n"
   ]
  },
  {
   "cell_type": "markdown",
   "metadata": {
    "slideshow": {
     "slide_type": "slide"
    }
   },
   "source": [
    "# General Threshold\n",
    "The General Threshold model was introduced in 2003 by Kempe [1].\n",
    "\n",
    "In this model, during an epidemics, a node is allowed to change its status from Susceptible to Infected.\n",
    "\n",
    "At time t nodes become Infected if the sum of the weight of the infected neighbors is greater than the threshold\n",
    "\n",
    "- David Kempe , Jon Kleinberg, and Éva Tardos. “Maximizing the spread of influence through a social network.” Proceedings of the ninth ACM SIGKDD international conference on Knowledge discovery and data mining. ACM, 2003.\n",
    "\n",
    "https://ndlib.readthedocs.io/en/latest/reference/models/epidemics/GeneralThreshold.html"
   ]
  },
  {
   "cell_type": "markdown",
   "metadata": {
    "slideshow": {
     "slide_type": "slide"
    }
   },
   "source": [
    "# Generalised Threshold\n",
    "It was introduced in 2017 by Török and Kertesz [1]. In this model, a node is allowed to change its status from Susceptible to Infected. The model is instantiated on a graph having a non-empty set of infected nodes. \n",
    "\n",
    "- At time `t` nodes become Infected with rate `mu t/tau`\n",
    "- Nodes for which the ratio of the active friends dropped below the threshold are moved to the Infected queue\n",
    "- Nodes in the Infected queue become infected with rate tau. If this happens check all its friends for threshold\n",
    "\n",
    "\n",
    "> János Török and János Kertész “Cascading collapse of online social networks” Scientific reports, vol. 7 no. 1, 2017 \n",
    "\n",
    "\n",
    "https://ndlib.readthedocs.io/en/latest/reference/models/epidemics/GeneralisedThreshold.html"
   ]
  },
  {
   "cell_type": "markdown",
   "metadata": {
    "slideshow": {
     "slide_type": "slide"
    }
   },
   "source": [
    "![image.png](img/chengjun2.png)"
   ]
  }
 ],
 "metadata": {
  "celltoolbar": "Slideshow",
  "kernelspec": {
   "display_name": "Python 3",
   "language": "python",
   "name": "python3"
  },
  "language_info": {
   "codemirror_mode": {
    "name": "ipython",
    "version": 3
   },
   "file_extension": ".py",
   "mimetype": "text/x-python",
   "name": "python",
   "nbconvert_exporter": "python",
   "pygments_lexer": "ipython3",
   "version": "3.7.6"
  },
  "toc": {
   "base_numbering": 1,
   "nav_menu": {},
   "number_sections": false,
   "sideBar": true,
   "skip_h1_title": false,
   "title_cell": "Table of Contents",
   "title_sidebar": "Contents",
   "toc_cell": false,
   "toc_position": {
    "height": "calc(100% - 180px)",
    "left": "10px",
    "top": "150px",
    "width": "165px"
   },
   "toc_section_display": true,
   "toc_window_display": false
  }
 },
 "nbformat": 4,
 "nbformat_minor": 4
}
