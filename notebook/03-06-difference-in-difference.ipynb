{
 "cells": [
  {
   "attachments": {},
   "cell_type": "markdown",
   "metadata": {
    "slideshow": {
     "slide_type": "slide"
    }
   },
   "source": [
    "---\n",
    "---\n",
    "\n",
    "# Differences in Differences\n",
    "\n",
    "\n",
    "## The Path from Cause to Effect\n",
    "\n",
    "\n",
    "---\n",
    "---\n",
    "\n",
    "![image.png](img/chengjun.png)"
   ]
  },
  {
   "attachments": {},
   "cell_type": "markdown",
   "metadata": {
    "slideshow": {
     "slide_type": "subslide"
    }
   },
   "source": [
    "http://www.masteringmetrics.com/resources/\n",
    "\n",
    "![image.png](img/metric.png)"
   ]
  },
  {
   "cell_type": "markdown",
   "metadata": {
    "slideshow": {
     "slide_type": "subslide"
    }
   },
   "source": [
    "Credible instrumental variables and dramatic policy discontinuities can be hard to find; you’ll need other ’metrics tools in your kit too.\n",
    "\n",
    "- Treatment and control outcomes move in parallel in the absence of treatment. \n",
    "- The divergence of a post-treatment path from the trend established by a comparison group may signal a treatment effect.\n"
   ]
  },
  {
   "attachments": {},
   "cell_type": "markdown",
   "metadata": {
    "slideshow": {
     "slide_type": "subslide"
    }
   },
   "source": [
    "![image.png](img/me12.png)"
   ]
  },
  {
   "cell_type": "markdown",
   "metadata": {
    "slideshow": {
     "slide_type": "subslide"
    }
   },
   "source": [
    "Compare across time\n",
    "\n",
    "\\begin{align}\n",
    "  \\delta_{DD} &= (Y_{6,1931} - Y_{6,1930}) - (Y_{8,1931} - Y_{8,1930}) \\notag\\\\\n",
    "   &= (121-135)-(132-165) \\notag\\\\\n",
    "   &= 19 \\notag\n",
    "\\end{align}\n",
    "\n",
    "Compare across space\n",
    "\n",
    "\\begin{align}\n",
    "  \\delta_{DD} &= (Y_{6,1931} - Y_{8,1931}) - (Y_{6,1930} - Y_{8,1930}) \\notag\\\\\n",
    "   &= (121-132)-(135-165) \\notag\\\\\n",
    "   &= 19 \\notag\n",
    "\\end{align}"
   ]
  },
  {
   "attachments": {},
   "cell_type": "markdown",
   "metadata": {
    "slideshow": {
     "slide_type": "subslide"
    }
   },
   "source": [
    "![image.png](img/me13.png)"
   ]
  },
  {
   "attachments": {},
   "cell_type": "markdown",
   "metadata": {
    "slideshow": {
     "slide_type": "subslide"
    }
   },
   "source": [
    "$$Y_{dt} = \\alpha + \\beta TREAT_d + \\gamma POST_t + \\delta_{rDD} (TREAT_d \\times POST_t) + \\epsilon_{dt}$$\n",
    "\n",
    "- $TREAT_d$: a dummy for the treatmeng district\n",
    "- $POST_t$: a dummy for the post-treatment periods\n",
    "- $TREAT_d \\times POST_t$: the interaction term\n",
    "- $\\delta$ is the DD causal effect\n",
    "\n",
    "![image.png](img/me14.png)"
   ]
  },
  {
   "attachments": {},
   "cell_type": "markdown",
   "metadata": {
    "slideshow": {
     "slide_type": "subslide"
    }
   },
   "source": [
    "**Diff-in-Diff estimates of the effect of the minimum legal drinking age (MLDA) on mortality**\n",
    "\n",
    "![image.png](img/me15.png)"
   ]
  },
  {
   "cell_type": "code",
   "execution_count": 1,
   "metadata": {
    "ExecuteTime": {
     "end_time": "2020-04-11T12:40:46.642791Z",
     "start_time": "2020-04-11T12:40:02.247625Z"
    },
    "slideshow": {
     "slide_type": "subslide"
    }
   },
   "outputs": [
    {
     "name": "stdout",
     "output_type": "stream",
     "text": [
      "checking diff consistency and verifying not already installed...\n",
      "installing into /Users/datalab/Library/Application Support/Stata/ado/plus/...\n",
      "installation complete.\n"
     ]
    }
   ],
   "source": [
    "ssc install diff"
   ]
  },
  {
   "cell_type": "markdown",
   "metadata": {
    "slideshow": {
     "slide_type": "slide"
    }
   },
   "source": [
    "** ReadMe_MLDA_DD.txt **\n",
    "\n",
    "This folder contains the data and programs used to generate Tables 5.2 and 5.3 in Mastering Metrics, which present Diff-in-Diff estimates of the effect of the minimum legal drinking age (MLDA) on mortality.\n",
    "\n",
    "Data: \n",
    "* /MLDA (DD)/Data/deaths.dta\n",
    "\n",
    "Code: \n",
    "* /MLDA (DD)/Code/analysis.do"
   ]
  },
  {
   "cell_type": "code",
   "execution_count": 10,
   "metadata": {
    "ExecuteTime": {
     "end_time": "2020-04-11T16:53:10.351879Z",
     "start_time": "2020-04-11T16:53:10.286517Z"
    },
    "slideshow": {
     "slide_type": "subslide"
    }
   },
   "outputs": [
    {
     "name": "stdout",
     "output_type": "stream",
     "text": [
      "\n",
      "\n",
      "\n",
      "/Users/datalab/bigdata/mastering_metrics_data\n",
      "\n"
     ]
    }
   ],
   "source": [
    "* Filename: analysis.do\n",
    "* Description: This program generates Tables 5.2 and 5.3 in Mastering 'Metrics.\n",
    "* Modified lightly by Jon Petkun, January 20, 2015\n",
    "\n",
    "set more off\n",
    "\n",
    "clear all\n",
    "* Set directory to location of data\n",
    "cd \"/Users/datalab/bigdata/mastering_metrics_data/\"\n",
    "use \"deaths.dta\""
   ]
  },
  {
   "cell_type": "markdown",
   "metadata": {
    "ExecuteTime": {
     "end_time": "2020-04-11T16:54:37.999737Z",
     "start_time": "2020-04-11T16:54:37.915022Z"
    },
    "slideshow": {
     "slide_type": "subslide"
    }
   },
   "source": [
    "* help xi\n",
    "\n",
    "xi -- Interaction expansion"
   ]
  },
  {
   "cell_type": "code",
   "execution_count": 12,
   "metadata": {
    "ExecuteTime": {
     "end_time": "2020-04-11T16:55:12.479636Z",
     "start_time": "2020-04-11T16:55:12.404009Z"
    },
    "slideshow": {
     "slide_type": "subslide"
    }
   },
   "outputs": [
    {
     "name": "stdout",
     "output_type": "stream",
     "text": [
      "\n",
      "      Source |       SS           df       MS      Number of obs   =    24,786\n",
      "-------------+----------------------------------   F(1, 24784)     =    401.34\n",
      "       Model |  696332.008         1  696332.008   Prob > F        =    0.0000\n",
      "    Residual |  43000748.2    24,784   1735.0205   R-squared       =    0.0159\n",
      "-------------+----------------------------------   Adj R-squared   =    0.0159\n",
      "       Total |  43697080.2    24,785   1763.0454   Root MSE        =    41.654\n",
      "\n",
      "------------------------------------------------------------------------------\n",
      "       mrate |      Coef.   Std. Err.      t    P>|t|     [95% Conf. Interval]\n",
      "-------------+----------------------------------------------------------------\n",
      "       legal |   10.98997   .5485808    20.03   0.000     9.914719    12.06522\n",
      "       _cons |   32.42324   .3606016    89.91   0.000     31.71644    33.13004\n",
      "------------------------------------------------------------------------------\n"
     ]
    }
   ],
   "source": [
    "xi: reg mrate legal"
   ]
  },
  {
   "cell_type": "code",
   "execution_count": 15,
   "metadata": {
    "ExecuteTime": {
     "end_time": "2020-04-11T16:56:23.082746Z",
     "start_time": "2020-04-11T16:56:22.635086Z"
    },
    "slideshow": {
     "slide_type": "subslide"
    }
   },
   "outputs": [
    {
     "name": "stdout",
     "output_type": "stream",
     "text": [
      "i.state           _Istate_1-56        (naturally coded; _Istate_1 omitted)\n",
      "i.year            _Iyear_1970-1996    (naturally coded; _Iyear_1970 omitted)\n",
      "note: _Iyear_1984 omitted because of collinearity\n",
      "note: _Iyear_1985 omitted because of collinearity\n",
      "note: _Iyear_1986 omitted because of collinearity\n",
      "note: _Iyear_1987 omitted because of collinearity\n",
      "note: _Iyear_1988 omitted because of collinearity\n",
      "note: _Iyear_1989 omitted because of collinearity\n",
      "note: _Iyear_1990 omitted because of collinearity\n",
      "note: _Iyear_1991 omitted because of collinearity\n",
      "note: _Iyear_1992 omitted because of collinearity\n",
      "note: _Iyear_1993 omitted because of collinearity\n",
      "note: _Iyear_1994 omitted because of collinearity\n",
      "note: _Iyear_1995 omitted because of collinearity\n",
      "note: _Iyear_1996 omitted because of collinearity\n",
      "\n",
      "Linear regression                               Number of obs     =        714\n",
      "                                                F(13, 50)         =          .\n",
      "                                                Prob > F          =          .\n",
      "                                                R-squared         =     0.8212\n",
      "                                                Root MSE          =     17.339\n",
      "\n",
      "                                 (Std. Err. adjusted for 51 clusters in state)\n",
      "------------------------------------------------------------------------------\n",
      "             |               Robust\n",
      "       mrate |      Coef.   Std. Err.      t    P>|t|     [95% Conf. Interval]\n",
      "-------------+----------------------------------------------------------------\n",
      "       legal |   10.80414   4.592205     2.35   0.023     1.580427    20.02786\n",
      "   _Istate_2 |   107.8866   1.182838    91.21   0.000     105.5108    110.2624\n",
      "   _Istate_4 |   37.80343   .6717837    56.27   0.000     36.45411    39.15275\n",
      "   _Istate_5 |   6.025991   1.859783     3.24   0.002     2.290507    9.761475\n",
      "   _Istate_6 |  -.7372832   1.859783    -0.40   0.693    -4.472767    2.998201\n",
      "   _Istate_8 |  -12.38367   2.732422    -4.53   0.000     -17.8719   -6.895437\n",
      "   _Istate_9 |    -45.214   1.671308   -27.05   0.000    -48.57093   -41.85708\n",
      "  _Istate_10 |   -32.0451    .603678   -53.08   0.000    -33.25763   -30.83258\n",
      "  _Istate_11 |   4.287941   2.732422     1.57   0.123     -1.20029    9.776171\n",
      "  _Istate_12 |   5.064865   1.243184     4.07   0.000     2.567857    7.561874\n",
      "  _Istate_13 |  -.0799703   1.562334    -0.05   0.959     -3.21801    3.058069\n",
      "  _Istate_15 |  -35.50059   2.023371   -17.55   0.000    -39.56465   -31.43653\n",
      "  _Istate_16 |   14.68553    .888939    16.52   0.000     12.90005    16.47102\n",
      "  _Istate_17 |   -15.0397   .4949709   -30.39   0.000    -16.03388   -14.04552\n",
      "  _Istate_18 |  -17.51377   1.859783    -9.42   0.000    -21.24926   -13.77829\n",
      "  _Istate_19 |  -20.04347   1.328507   -15.09   0.000    -22.71185   -17.37508\n",
      "  _Istate_20 |  -18.53731   2.732422    -6.78   0.000    -24.02554   -13.04907\n",
      "  _Istate_21 |  -4.341999   1.859783    -2.33   0.024    -8.077483   -.6065156\n",
      "  _Istate_22 |   9.558125   2.732422     3.50   0.001     4.069894    15.04636\n",
      "  _Istate_23 |  -14.12129   .8315934   -16.98   0.000    -15.79159   -12.45099\n",
      "  _Istate_24 |  -23.11767   1.138244   -20.31   0.000     -25.4039   -20.83144\n",
      "  _Istate_25 |  -42.47554   .6774253   -62.70   0.000    -43.83619    -41.1149\n",
      "  _Istate_26 |  -16.57777   .4264341   -38.88   0.000    -17.43429   -15.72125\n",
      "  _Istate_27 |  -21.73711   .8831879   -24.61   0.000    -23.51104   -19.96317\n",
      "  _Istate_28 |  -.3545842   2.732422    -0.13   0.897    -5.842815    5.133646\n",
      "  _Istate_29 |  -1.323874   1.859783    -0.71   0.480    -5.059358     2.41161\n",
      "  _Istate_30 |   62.01656   1.050544    59.03   0.000     59.90648    64.12664\n",
      "  _Istate_31 |  -15.59184   .5711132   -27.30   0.000    -16.73895   -14.44472\n",
      "  _Istate_32 |   91.12532   1.859783    49.00   0.000     87.38983     94.8608\n",
      "  _Istate_33 |  -23.06905   .6144682   -37.54   0.000    -24.30324   -21.83485\n",
      "  _Istate_34 |  -39.86891   1.310928   -30.41   0.000    -42.50199   -37.23584\n",
      "  _Istate_35 |   66.89355   1.859783    35.97   0.000     63.15806    70.62903\n",
      "  _Istate_36 |  -28.38621   2.619152   -10.84   0.000    -33.64693   -23.12549\n",
      "  _Istate_37 |  -12.41205   2.706896    -4.59   0.000    -17.84901   -6.975086\n",
      "  _Istate_38 |    2.40488   1.859783     1.29   0.202    -1.330604    6.140363\n",
      "  _Istate_39 |  -33.72298   2.588328   -13.03   0.000    -38.92179   -28.52417\n",
      "  _Istate_40 |    .810581   .3734125     2.17   0.035     .0605599    1.560602\n",
      "  _Istate_41 |   2.239689   1.859783     1.20   0.234    -1.495795    5.975173\n",
      "  _Istate_42 |  -29.90546   1.859783   -16.08   0.000    -33.64094   -26.16997\n",
      "  _Istate_44 |  -55.80438    1.39001   -40.15   0.000     -58.5963   -53.01246\n",
      "  _Istate_45 |  -17.43539   2.732422    -6.38   0.000    -22.92362   -11.94716\n",
      "  _Istate_46 |   -7.50698   2.441776    -3.07   0.003    -12.41143   -2.602529\n",
      "  _Istate_47 |   8.003223   1.812318     4.42   0.000     4.363075    11.64337\n",
      "  _Istate_48 |   7.820965   1.316417     5.94   0.000     5.176864    10.46507\n",
      "  _Istate_49 |  -18.74897   1.859783   -10.08   0.000    -22.48445   -15.01348\n",
      "  _Istate_50 |  -14.42592   2.131211    -6.77   0.000    -18.70658   -10.14526\n",
      "  _Istate_51 |  -29.32559   1.207125   -24.29   0.000    -31.75017   -26.90101\n",
      "  _Istate_53 |  -7.709439   1.859783    -4.15   0.000    -11.44492   -3.973955\n",
      "  _Istate_54 |  -3.773879   2.718674    -1.39   0.171    -9.234498    1.686739\n",
      "  _Istate_55 |  -21.53499   2.732422    -7.88   0.000    -27.02322   -16.04676\n",
      "  _Istate_56 |   92.05335   .5216655   176.46   0.000     91.00555    93.10114\n",
      " _Iyear_1971 |  -5.501817   3.064216    -1.80   0.079    -11.65648    .6528407\n",
      " _Iyear_1972 |  -6.561624   3.038597    -2.16   0.036    -12.66483   -.4584212\n",
      " _Iyear_1973 |  -5.057369   3.368965    -1.50   0.140    -11.82414    1.709397\n",
      " _Iyear_1974 |  -14.68617   4.200102    -3.50   0.001    -23.12232   -6.250013\n",
      " _Iyear_1975 |  -19.98143   3.739625    -5.34   0.000    -27.49268   -12.47017\n",
      " _Iyear_1976 |  -23.39756   3.981172    -5.88   0.000    -31.39398   -15.40114\n",
      " _Iyear_1977 |  -21.09633   3.720866    -5.67   0.000    -28.56991   -13.62275\n",
      " _Iyear_1978 |  -23.06671   4.572546    -5.04   0.000    -32.25094   -13.88248\n",
      " _Iyear_1979 |  -21.61766   4.300183    -5.03   0.000    -30.25483   -12.98049\n",
      " _Iyear_1980 |  -20.24873     4.0125    -5.05   0.000    -28.30808   -12.18939\n",
      " _Iyear_1981 |  -33.26336   3.221473   -10.33   0.000    -39.73388   -26.79284\n",
      " _Iyear_1982 |  -41.55333   3.831132   -10.85   0.000    -49.24838   -33.85827\n",
      " _Iyear_1983 |  -45.01881   3.263042   -13.80   0.000    -51.57282    -38.4648\n",
      " _Iyear_1984 |          0  (omitted)\n",
      " _Iyear_1985 |          0  (omitted)\n",
      " _Iyear_1986 |          0  (omitted)\n",
      " _Iyear_1987 |          0  (omitted)\n",
      " _Iyear_1988 |          0  (omitted)\n",
      " _Iyear_1989 |          0  (omitted)\n",
      " _Iyear_1990 |          0  (omitted)\n",
      " _Iyear_1991 |          0  (omitted)\n",
      " _Iyear_1992 |          0  (omitted)\n",
      " _Iyear_1993 |          0  (omitted)\n",
      " _Iyear_1994 |          0  (omitted)\n",
      " _Iyear_1995 |          0  (omitted)\n",
      " _Iyear_1996 |          0  (omitted)\n",
      "       _cons |   153.6692   1.981361    77.56   0.000     149.6895    157.6488\n",
      "------------------------------------------------------------------------------\n"
     ]
    }
   ],
   "source": [
    "* no trends, no weights\n",
    "* death cause: 1=all, 2=MVA, 3=suicide, 6=internal\n",
    "xi: reg mrate legal i.state i.year if year <= 1983 & agegr == 2 & dtype == 1, cluster(state)"
   ]
  },
  {
   "cell_type": "code",
   "execution_count": 18,
   "metadata": {
    "ExecuteTime": {
     "end_time": "2020-04-11T16:58:42.050768Z",
     "start_time": "2020-04-11T16:58:31.802622Z"
    },
    "slideshow": {
     "slide_type": "subslide"
    }
   },
   "outputs": [
    {
     "name": "stdout",
     "output_type": "stream",
     "text": [
      "\n",
      "\n",
      "table52.xls\n",
      "dir : seeout\n",
      "\n",
      "table52.xls\n",
      "dir : seeout\n",
      "table52.xls\n",
      "dir : seeout\n",
      "table52.xls\n",
      "dir : seeout\n",
      "table52.xls\n",
      "dir : seeout\n",
      "table52.xls\n",
      "dir : seeout\n",
      "table52.xls\n",
      "dir : seeout\n",
      "table52.xls\n",
      "dir : seeout\n",
      "table52.xls\n",
      "dir : seeout\n",
      "table52.xls\n",
      "dir : seeout\n",
      "table52.xls\n",
      "dir : seeout\n",
      "table52.xls\n",
      "dir : seeout\n",
      "table52.xls\n",
      "dir : seeout\n",
      "table52.xls\n",
      "dir : seeout\n",
      "table52.xls\n",
      "dir : seeout\n",
      "table52.xls\n",
      "dir : seeout\n",
      "table52.xls\n",
      "dir : seeout\n"
     ]
    }
   ],
   "source": [
    "* construct table 5.2 in 'Metrics\n",
    "* Regression DD Estimates of MLDA-Induced Deaths among 18-20 Year Olds, from 1970-1983\n",
    "\n",
    "qui xi: reg mrate legal\n",
    "outreg2 beertax using \"table52.xls\", replace bdec(2) sdec(2) excel noaster\n",
    "\n",
    "* death cause: 1=all, 2=MVA, 3=suicide, 6=internal\n",
    "foreach i in 1 2 3 6{\n",
    "\n",
    "* no trends, no weights\n",
    "qui xi: reg mrate legal i.state i.year if year <= 1983 & agegr == 2 & dtype == `i', cluster(state)\n",
    "outreg2 legal using \"table52.xls\", append bdec(2) sdec(2) excel noaster cttop(\"`i'\") cttop(\" no tr, no w\")\n",
    "\n",
    "* time trends, no weights\n",
    "qui xi: reg mrate legal i.state*year i.year if year <= 1983 & agegr == 2 & dtype == `i', cluster(state)\n",
    "outreg2 legal using \"table52.xls\", append bdec(2) sdec(2) excel noaster cttop(\"`i'\") cttop(\" tr, no w\")\n",
    "\n",
    "* no trends, weights\n",
    "qui xi: reg mrate legal i.state i.year if year <= 1983 & agegr == 2 & dtype == `i' [aw=pop], cluster(state)\n",
    "outreg2 legal using \"table52.xls\", append bdec(2) sdec(2) excel noaster cttop(\"`i'\") cttop(\" no tr, w\")\n",
    "\n",
    "* time trends, weights\n",
    "qui xi: reg mrate legal i.state*year i.year if year <= 1983 & agegr == 2 & dtype == `i' [aw=pop], cluster(state)\n",
    "outreg2 legal using \"table52.xls\", append bdec(2) sdec(2) excel noaster cttop(\"`i'\") cttop(\" tr, w\")\n",
    "}\n",
    "// */"
   ]
  },
  {
   "cell_type": "markdown",
   "metadata": {
    "slideshow": {
     "slide_type": "subslide"
    }
   },
   "source": [
    "|           | (1)    | (2)    | (3)    | (4)    | (5)    | (6)    | (7)    | (8)    | (9)    | (10)   | (11)   | (12)   | (13)   | (14)   | (15)   | (16)   | (17)   |\n",
    "| --------- | ------ | ------ | ------ | ------ | ------ | ------ | ------ | ------ | ------ | ------ | ------ | ------ | ------ | ------ | ------ | ------ | ------ |\n",
    "|           |        | 1      | 1      | 1      | 1      | 2      | 2      | 2      | 2      | 3      | 3      | 3      | 3      | 6      | 6      | 6      | 6      |\n",
    "|           |        | no tr  | tr     | no tr  | tr     | no tr  | tr     | no tr  | tr     | no tr  | tr     | no tr  | tr     | no tr  | tr     | no tr  | tr     |\n",
    "|           |        | no w   | no w   | w      | w      | no w   | no w   | w      | w      | no w   | no w   | w      | w      | no w   | no w   | w      | w      |\n",
    "| VARIABLES | mrate  | mrate  | mrate  | mrate  | mrate  | mrate  | mrate  | mrate  | mrate  | mrate  | mrate  | mrate  | mrate  | mrate  | mrate  | mrate  | mrate  |\n",
    "|           |        |        |        |        |        |        |        |        |        |        |        |        |        |        |        |        |        |\n",
    "| legal     | 10.99  | 10.80  | 8.47   | 12.41  | 9.65   | 7.59   | 6.64   | 7.50   | 6.46   | 0.59   | 0.47   | 1.49   | 1.26   | 1.33   | 0.08   | 1.89   | 1.28   |\n",
    "|           | (0.55) | (4.59) | (5.10) | (4.60) | (4.64) | (2.50) | (2.66) | (2.27) | (2.24) | (0.59) | (0.79) | (0.88) | (0.89) | (1.59) | (1.93) | (1.78) | (1.45) |"
   ]
  },
  {
   "cell_type": "code",
   "execution_count": 19,
   "metadata": {
    "ExecuteTime": {
     "end_time": "2020-04-11T17:01:42.260729Z",
     "start_time": "2020-04-11T17:01:37.359077Z"
    },
    "slideshow": {
     "slide_type": "subslide"
    }
   },
   "outputs": [
    {
     "name": "stdout",
     "output_type": "stream",
     "text": [
      "\n",
      "\n",
      "      Source |       SS           df       MS      Number of obs   =    24,786\n",
      "-------------+----------------------------------   F(1, 24784)     =    401.34\n",
      "       Model |  696332.008         1  696332.008   Prob > F        =    0.0000\n",
      "    Residual |  43000748.2    24,784   1735.0205   R-squared       =    0.0159\n",
      "-------------+----------------------------------   Adj R-squared   =    0.0159\n",
      "       Total |  43697080.2    24,785   1763.0454   Root MSE        =    41.654\n",
      "\n",
      "------------------------------------------------------------------------------\n",
      "       mrate |      Coef.   Std. Err.      t    P>|t|     [95% Conf. Interval]\n",
      "-------------+----------------------------------------------------------------\n",
      "       legal |   10.98997   .5485808    20.03   0.000     9.914719    12.06522\n",
      "       _cons |   32.42324   .3606016    89.91   0.000     31.71644    33.13004\n",
      "------------------------------------------------------------------------------\n",
      "\n",
      "table53.xls\n",
      "dir : seeout\n",
      "\n",
      "table53.xls\n",
      "dir : seeout\n",
      "table53.xls\n",
      "dir : seeout\n",
      "table53.xls\n",
      "dir : seeout\n",
      "table53.xls\n",
      "dir : seeout\n",
      "\n",
      "table53.xls\n",
      "dir : seeout\n",
      "table53.xls\n",
      "dir : seeout\n",
      "table53.xls\n",
      "dir : seeout\n",
      "table53.xls\n",
      "dir : seeout\n"
     ]
    }
   ],
   "source": [
    "* Table 5.3.\n",
    "* Regression DD Estimates of MLDA-Induced Deaths among 18-20 Year Olds, from 1970-1983, controlling for Beer Taxes\n",
    "\n",
    "xi: reg mrate legal \n",
    "outreg2  beertax using \"table53.xls\", replace bdec(2) sdec(2) excel noaster cttop(\"`i'\")\n",
    "\n",
    "* no time trends\n",
    "foreach i in 1 2 3 6 {\n",
    "\tqui xi: reg mrate legal beertax i.state i.year if year <= 1983 & agegr == 2 & dtype == `i', cluster(state)\n",
    "\toutreg2 legal beertax using \"table53.xls\", append bdec(2) sdec(2) excel noaster cttop(\"`i'\") cttop(\"no t\")\n",
    "}\n",
    "\n",
    "* with time trends\n",
    "foreach i in 1 2 3 6 {\n",
    "\tqui xi: reg mrate legal beertax i.state*year i.year if year <= 1983 & agegr == 2 & dtype == `i', cluster(state)\n",
    "\toutreg2 legal beertax using \"table53.xls\", append bdec(2) sdec(2) excel noaster cttop(\"`i'\") cttop(\"t\")\n",
    "}\n"
   ]
  },
  {
   "cell_type": "markdown",
   "metadata": {
    "slideshow": {
     "slide_type": "subslide"
    }
   },
   "source": [
    "|           | (1)    | (2)    | (3)    | (4)    | (5)    | (6)     | (7)     | (8)    | (9)     |\n",
    "| --------- | ------ | ------ | ------ | ------ | ------ | ------- | ------- | ------ | ------- |\n",
    "|           |        | 1      | 2      | 3      | 6      | 1       | 2       | 3      | 6       |\n",
    "|           |        | no t   | no t   | no t   | no t   | t       | t       | t      | t       |\n",
    "| VARIABLES | mrate  | mrate  | mrate  | mrate  | mrate  | mrate   | mrate   | mrate  | mrate   |\n",
    "|           |        |        |        |        |        |         |         |        |         |\n",
    "| legal     | 10.99  | **10.98**  | 7.59   | 0.45   | 1.46   | **10.03**   | 6.89    | 0.38   | 0.88    |\n",
    "|           | (0.55) | (4.69) | (2.56) | (0.60) | (1.61) | (4.92)  | (2.66)  | (0.77) | (1.81)  |\n",
    "| beertaxa  |        | **1.51**   | 3.82   | -3.05  | -1.36  | **-5.52**   | 26.88   | -12.13 | -10.31  |\n",
    "|           |        | (9.07) | (5.40) | (1.63) | (3.07) | (32.24) | (20.12) | (8.82) | (11.64) |"
   ]
  },
  {
   "attachments": {},
   "cell_type": "markdown",
   "metadata": {
    "slideshow": {
     "slide_type": "subslide"
    }
   },
   "source": [
    "![image.png](img/me16.png)"
   ]
  },
  {
   "cell_type": "code",
   "execution_count": 2,
   "metadata": {
    "ExecuteTime": {
     "end_time": "2020-04-11T15:29:28.423474Z",
     "start_time": "2020-04-11T15:29:28.398473Z"
    },
    "slideshow": {
     "slide_type": "slide"
    }
   },
   "outputs": [
    {
     "name": "stdout",
     "output_type": "stream",
     "text": [
      "\n",
      "\n",
      "/Users/datalab/github/css/data\n",
      "\n",
      "(Dataset from Card&Krueger (1994))\n"
     ]
    }
   ],
   "source": [
    "clear\n",
    "// set to directory where data is located\n",
    "cd \"/Users/datalab/github/css/data/\"\n",
    "\n",
    "use cardkrueger1994"
   ]
  },
  {
   "cell_type": "code",
   "execution_count": 3,
   "metadata": {
    "ExecuteTime": {
     "end_time": "2020-04-11T15:29:54.637039Z",
     "start_time": "2020-04-11T15:29:54.604205Z"
    },
    "slideshow": {
     "slide_type": "subslide"
    }
   },
   "outputs": [
    {
     "name": "stdout",
     "output_type": "stream",
     "text": [
      "\n",
      "Contains data from cardkrueger1994.dta\n",
      "  obs:           820                          Dataset from Card&Krueger (1994)\n",
      " vars:             8                          8 Jul 2019 00:00\n",
      " size:        12,300                          \n",
      "--------------------------------------------------------------------------------\n",
      "              storage   display    value\n",
      "variable name   type    format     label      variable label\n",
      "--------------------------------------------------------------------------------\n",
      "id              int     %8.0g                 Store ID\n",
      "t               byte    %8.0g                 Feb. 1992 = 0; Nov. 1992 = 1\n",
      "treated         long    %8.0g      treated    New Jersey = 1; Pennsylvania = 0\n",
      "fte             float   %9.0g                 Output: Full Time Employment\n",
      "bk              byte    %8.0g                 Burger King == 1\n",
      "kfc             byte    %8.0g                 Kentuky Fried Chiken == 1\n",
      "roys            byte    %8.0g                 Roy Rogers == 1\n",
      "wendys          byte    %8.0g                 Wendy's == 1\n",
      "--------------------------------------------------------------------------------\n",
      "Sorted by: id  t\n"
     ]
    }
   ],
   "source": [
    "d"
   ]
  },
  {
   "cell_type": "code",
   "execution_count": 4,
   "metadata": {
    "ExecuteTime": {
     "end_time": "2020-04-11T15:30:16.035068Z",
     "start_time": "2020-04-11T15:30:16.013104Z"
    },
    "slideshow": {
     "slide_type": "subslide"
    }
   },
   "outputs": [],
   "source": [
    "* defining interation terms\n",
    "gen gd = t* treated"
   ]
  },
  {
   "cell_type": "code",
   "execution_count": 5,
   "metadata": {
    "ExecuteTime": {
     "end_time": "2020-04-11T15:30:52.893211Z",
     "start_time": "2020-04-11T15:30:52.798966Z"
    },
    "slideshow": {
     "slide_type": "subslide"
    }
   },
   "outputs": [
    {
     "name": "stdout",
     "output_type": "stream",
     "text": [
      "\n",
      "Linear regression                               Number of obs     =        801\n",
      "                                                F(3, 797)         =       1.43\n",
      "                                                Prob > F          =     0.2330\n",
      "                                                R-squared         =     0.0080\n",
      "                                                Root MSE          =      9.003\n",
      "\n",
      "------------------------------------------------------------------------------\n",
      "             |               Robust\n",
      "         fte |      Coef.   Std. Err.      t    P>|t|     [95% Conf. Interval]\n",
      "-------------+----------------------------------------------------------------\n",
      "          gd |   2.913982   1.736818     1.68   0.094    -.4952963    6.323261\n",
      "     treated |  -2.883534   1.403338    -2.05   0.040    -5.638209   -.1288592\n",
      "           t |   -2.40651   1.594091    -1.51   0.132    -5.535623    .7226031\n",
      "       _cons |   19.94872   1.317281    15.14   0.000     17.36297    22.53447\n",
      "------------------------------------------------------------------------------\n"
     ]
    }
   ],
   "source": [
    "reg fte gd treated t,r"
   ]
  },
  {
   "cell_type": "code",
   "execution_count": 6,
   "metadata": {
    "ExecuteTime": {
     "end_time": "2020-04-11T15:31:23.922001Z",
     "start_time": "2020-04-11T15:31:23.869987Z"
    },
    "slideshow": {
     "slide_type": "subslide"
    }
   },
   "outputs": [
    {
     "name": "stdout",
     "output_type": "stream",
     "text": [
      "\n",
      "DIFFERENCE-IN-DIFFERENCES ESTIMATION RESULTS\n",
      "--------------------------------------------\n",
      "Number of observations in the DIFF-IN-DIFF: 801\n",
      "            Before         After    \n",
      "   Control: 78             77          155\n",
      "   Treated: 326            320         646\n",
      "            404            397\n",
      "--------------------------------------------------------\n",
      " Outcome var.   | fte     | S. Err. |   |t|   |  P>|t|\n",
      "----------------+---------+---------+---------+---------\n",
      "Before          |         |         |         | \n",
      "   Control      | 19.949  |         |         | \n",
      "   Treated      | 17.065  |         |         | \n",
      "   Diff (T-C)   | -2.884  | 1.403   | -2.05   | 0.040**\n",
      "After           |         |         |         | \n",
      "   Control      | 17.542  |         |         | \n",
      "   Treated      | 17.573  |         |         | \n",
      "   Diff (T-C)   | 0.030   | 1.023   | 0.03    | 0.976\n",
      "                |         |         |         | \n",
      "Diff-in-Diff    | 2.914   | 1.737   | 1.68    | 0.094*\n",
      "--------------------------------------------------------\n",
      "R-square:    0.01\n",
      "* Means and Standard Errors are estimated by linear regression\n",
      "**Robust Std. Errors\n",
      "**Inference: *** p<0.01; ** p<0.05; * p<0.1\n"
     ]
    }
   ],
   "source": [
    "diff fte, t(treated) p(t) robust"
   ]
  },
  {
   "cell_type": "code",
   "execution_count": 7,
   "metadata": {
    "ExecuteTime": {
     "end_time": "2020-04-11T15:33:01.151273Z",
     "start_time": "2020-04-11T15:33:01.114919Z"
    },
    "slideshow": {
     "slide_type": "subslide"
    }
   },
   "outputs": [
    {
     "name": "stdout",
     "output_type": "stream",
     "text": [
      "\n",
      "Linear regression                               Number of obs     =        801\n",
      "                                                F(6, 794)         =      57.30\n",
      "                                                Prob > F          =     0.0000\n",
      "                                                R-squared         =     0.1878\n",
      "                                                Root MSE          =     8.1617\n",
      "\n",
      "------------------------------------------------------------------------------\n",
      "             |               Robust\n",
      "         fte |      Coef.   Std. Err.      t    P>|t|     [95% Conf. Interval]\n",
      "-------------+----------------------------------------------------------------\n",
      "          gd |    2.93502   1.543422     1.90   0.058    -.0946504     5.96469\n",
      "     treated |  -2.323906   1.253701    -1.85   0.064    -4.784867    .1370549\n",
      "           t |  -2.402678   1.410265    -1.70   0.089    -5.170966    .3656108\n",
      "          bk |   .9168795   .9382545     0.98   0.329    -.9248729    2.758632\n",
      "         kfc |  -9.204856   .8991089   -10.24   0.000    -10.96977   -7.439945\n",
      "        roys |  -.8970458   1.041071    -0.86   0.389    -2.940623    1.146532\n",
      "       _cons |   21.16069   1.307146    16.19   0.000     18.59482    23.72656\n",
      "------------------------------------------------------------------------------\n"
     ]
    }
   ],
   "source": [
    "reg fte gd treated t bk kfc roys, r"
   ]
  },
  {
   "cell_type": "code",
   "execution_count": 8,
   "metadata": {
    "ExecuteTime": {
     "end_time": "2020-04-11T15:33:52.193338Z",
     "start_time": "2020-04-11T15:33:52.149971Z"
    },
    "slideshow": {
     "slide_type": "subslide"
    }
   },
   "outputs": [
    {
     "name": "stdout",
     "output_type": "stream",
     "text": [
      "DIFFERENCE-IN-DIFFERENCES WITH COVARIATES\n",
      "-----------------------------------------\n",
      "\n",
      "DIFFERENCE-IN-DIFFERENCES ESTIMATION RESULTS\n",
      "--------------------------------------------\n",
      "Number of observations in the DIFF-IN-DIFF: 801\n",
      "            Before         After    \n",
      "   Control: 78             77          155\n",
      "   Treated: 326            320         646\n",
      "            404            397\n",
      "--------------------------------------------------------\n",
      " Outcome var.   | fte     | S. Err. |   |t|   |  P>|t|\n",
      "----------------+---------+---------+---------+---------\n",
      "Before          |         |         |         | \n",
      "   Control      | 21.161  |         |         | \n",
      "   Treated      | 18.837  |         |         | \n",
      "   Diff (T-C)   | -2.324  | 1.254   | -1.85   | 0.064*\n",
      "After           |         |         |         | \n",
      "   Control      | 18.758  |         |         | \n",
      "   Treated      | 19.369  |         |         | \n",
      "   Diff (T-C)   | 0.611   | 0.900   | 0.68    | 0.497\n",
      "                |         |         |         | \n",
      "Diff-in-Diff    | 2.935   | 1.543   | 1.90    | 0.058*\n",
      "--------------------------------------------------------\n",
      "R-square:    0.19\n",
      "* Means and Standard Errors are estimated by linear regression\n",
      "**Robust Std. Errors\n",
      "**Inference: *** p<0.01; ** p<0.05; * p<0.1\n"
     ]
    }
   ],
   "source": [
    "diff fte,t(treated) p(t) cov(bk kfc roys) robust"
   ]
  },
  {
   "cell_type": "code",
   "execution_count": 9,
   "metadata": {
    "ExecuteTime": {
     "end_time": "2020-04-11T15:35:02.893978Z",
     "start_time": "2020-04-11T15:35:02.830925Z"
    },
    "slideshow": {
     "slide_type": "subslide"
    }
   },
   "outputs": [
    {
     "name": "stdout",
     "output_type": "stream",
     "text": [
      "TWO-SAMPLE T TEST\n",
      "-----------------\n",
      "\n",
      "Number of observations (baseline): 404\n",
      "            Before         After    \n",
      "   Control: 78             -           78\n",
      "   Treated: 326            -           326\n",
      "            404            -\n",
      "\n",
      "t-test at period = 0:\n",
      "--------------------------------------------------------------------------------\n",
      "> --------------\n",
      " Variable(s)         |   Mean Control   | Mean Treated |    Diff.   |   |t|   | \n",
      ">  Pr(|T|>|t|)\n",
      "---------------------+------------------+--------------+------------+---------+-\n",
      "> --------------\n",
      "fte                  | 19.949           | 17.065       | -2.884     |  2.44   | \n",
      "> 0.0150**\n",
      "bk                   | 0.436            | 0.408        | -0.028     |  0.45   | \n",
      "> 0.6538\n",
      "kfc                  | 0.154            | 0.209        | 0.055      |  1.09   | \n",
      "> 0.2769\n",
      "roys                 | 0.218            | 0.252        | 0.034      |  0.62   | \n",
      "> 0.5368\n",
      "wendys               | 0.192            | 0.132        | -0.060     |  1.37   | \n",
      "> 0.1726\n",
      "--------------------------------------------------------------------------------\n",
      "> --------------\n",
      "*** p<0.01; ** p<0.05; * p<0.1\n",
      "\n"
     ]
    }
   ],
   "source": [
    "diff fte, t(treated) p(t) cov(bk kfc roys wendys) test"
   ]
  },
  {
   "attachments": {},
   "cell_type": "markdown",
   "metadata": {
    "slideshow": {
     "slide_type": "subslide"
    }
   },
   "source": [
    "![image.png](img/chengjun2.png)"
   ]
  }
 ],
 "metadata": {
  "celltoolbar": "Slideshow",
  "kernelspec": {
   "display_name": "Stata",
   "language": "stata",
   "name": "stata"
  },
  "language_info": {
   "codemirror_mode": "stata",
   "file_extension": ".do",
   "mimetype": "text/x-stata",
   "name": "stata",
   "version": "15.1"
  },
  "toc": {
   "base_numbering": 1,
   "nav_menu": {},
   "number_sections": false,
   "sideBar": true,
   "skip_h1_title": false,
   "title_cell": "Table of Contents",
   "title_sidebar": "Contents",
   "toc_cell": false,
   "toc_position": {},
   "toc_section_display": true,
   "toc_window_display": false
  }
 },
 "nbformat": 4,
 "nbformat_minor": 4
}
