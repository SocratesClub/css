{
 "cells": [
  {
   "attachments": {},
   "cell_type": "markdown",
   "metadata": {
    "slideshow": {
     "slide_type": "slide"
    }
   },
   "source": [
    "---\n",
    "---\n",
    "\n",
    "\n",
    "# Agent Based Models\n",
    "\n",
    "\n",
    "---\n",
    "---\n",
    "\n",
    "\n",
    "![chengjun.png](./img/chengjun.png)"
   ]
  },
  {
   "cell_type": "markdown",
   "metadata": {
    "slideshow": {
     "slide_type": "subslide"
    }
   },
   "source": [
    "Chris Bail\n",
    "\n",
    "Duke University\n",
    "\n",
    "<div><img src=./img/bail.png align = 'right' width = '400px'></div>\n",
    "\n",
    "- website: https://www.chrisbail.net\n",
    "- github: https://github.com/cbail\n",
    "- Twitter: https://www.twitter.com/chris_bail"
   ]
  },
  {
   "cell_type": "markdown",
   "metadata": {
    "slideshow": {
     "slide_type": "slide"
    }
   },
   "source": [
    "## Why Agent-Based Models?\n",
    " \n",
    "\n",
    "Agent-based models, by contrast, assume that prediction is inherently impossible because most social systems are complex and adapative or “stochastic.”\n",
    "\n",
    "Instead of predicting an outcome, we therefore use ABMs to simulate many different possible outcomes, and use these simulations to both \n",
    "- A) develop better theories; \n",
    "- B) create better ways of testing them."
   ]
  },
  {
   "cell_type": "markdown",
   "metadata": {
    "slideshow": {
     "slide_type": "subslide"
    }
   },
   "source": [
    "Agent-based models have a long history \n",
    "- Thomas Schelling's model in the Journal of Mathematical Sociology)\n",
    "- Michael Macy and his students remain top leaders in this field as well: e.g. James Kitts, Damon Centola, Arnout Van de Rijt, etc.\n"
   ]
  },
  {
   "attachments": {},
   "cell_type": "markdown",
   "metadata": {
    "slideshow": {
     "slide_type": "subslide"
    }
   },
   "source": [
    "\n",
    "\n",
    "<div><img src=./img/schelling.png width ='1000px'></div>"
   ]
  },
  {
   "attachments": {},
   "cell_type": "markdown",
   "metadata": {
    "slideshow": {
     "slide_type": "subslide"
    }
   },
   "source": [
    "![image.png](./img/schelling2.png)"
   ]
  },
  {
   "attachments": {},
   "cell_type": "markdown",
   "metadata": {
    "slideshow": {
     "slide_type": "subslide"
    }
   },
   "source": [
    "![image.png](./img/schelling3.png)"
   ]
  },
  {
   "attachments": {},
   "cell_type": "markdown",
   "metadata": {
    "slideshow": {
     "slide_type": "subslide"
    }
   },
   "source": [
    "![image.png](./img/schelling4.png)"
   ]
  },
  {
   "cell_type": "markdown",
   "metadata": {
    "slideshow": {
     "slide_type": "subslide"
    }
   },
   "source": [
    "Agenda for Today\n",
    " \n",
    "\n",
    "- 1) An Introduction to Complexity Theory\n",
    "- 2) An Introduction to Agent-Based Models\n",
    "- 3) Coding Agent-Based Models in Net Logo"
   ]
  },
  {
   "cell_type": "markdown",
   "metadata": {
    "slideshow": {
     "slide_type": "subslide"
    }
   },
   "source": [
    "Complex Adaptive Sytems\n",
    " \n",
    "\n",
    "Basic characteristics of complex adaptive systems:\n",
    "\n",
    "- 1) Made up of a network of interacting agents\n",
    "\n",
    "- 2) Agents are always acting and reacting to the behavior of others, as well as the entire system.\n",
    "\n",
    "- 3) Individuals can change the environment, which in turn affects the behavior of other individuals."
   ]
  },
  {
   "attachments": {},
   "cell_type": "markdown",
   "metadata": {
    "slideshow": {
     "slide_type": "subslide"
    }
   },
   "source": [
    "![image.png](./img/abm1.png)"
   ]
  },
  {
   "attachments": {},
   "cell_type": "markdown",
   "metadata": {
    "slideshow": {
     "slide_type": "subslide"
    }
   },
   "source": [
    "![image.png](./img/abm2.png)"
   ]
  },
  {
   "attachments": {},
   "cell_type": "markdown",
   "metadata": {
    "slideshow": {
     "slide_type": "subslide"
    }
   },
   "source": [
    "![image.png](./img/abm3.png)"
   ]
  },
  {
   "attachments": {},
   "cell_type": "markdown",
   "metadata": {
    "slideshow": {
     "slide_type": "subslide"
    }
   },
   "source": [
    "![image.png](./img/abm4.png)"
   ]
  },
  {
   "cell_type": "markdown",
   "metadata": {
    "slideshow": {
     "slide_type": "subslide"
    }
   },
   "source": [
    "### Emergence\n",
    " \n",
    "\n",
    "Situations where micro-level patterns of interaction generate macro-level social structures that cannot be explained by individual behavior alone.\n",
    "\n",
    "Examples abound: segregation, protests, improvisation, diffusion of innovations, political polarization, scientific revolutions, etc."
   ]
  },
  {
   "cell_type": "markdown",
   "metadata": {
    "slideshow": {
     "slide_type": "subslide"
    }
   },
   "source": [
    "Much of science still rests on **mechanistic** or **reductionist** approaches in which scholars attempt `to derive universal laws`.\n",
    "\n",
    "Mechanistic approaches use very elegant `mathematical models`, but these models are generally unable to account for complex interactions and non-linear interactions between units of analysis."
   ]
  },
  {
   "cell_type": "markdown",
   "metadata": {
    "slideshow": {
     "slide_type": "subslide"
    }
   },
   "source": [
    "The ground is always moving...\n",
    " \n",
    "\n",
    "What is more, interactions can change the agents themselves in unpredictable ways \n",
    "- making mechanistic approaches unable to account for the full range of different outcomes that might occur, or making highly inaccurate predictions \n",
    "- because `shifting relationships between actors and their environment can transform the behavior` of the actors themselves."
   ]
  },
  {
   "cell_type": "markdown",
   "metadata": {
    "slideshow": {
     "slide_type": "subslide"
    }
   },
   "source": [
    "**It's Complicated...**\n",
    " \n",
    "\n",
    "Complex adaptive systems, by contrast, assume such deduction or prediction is impossible, or that most systems are highly “stochastic.”\n",
    "\n",
    "Note that this is not just a fringe idea: this is a central tenet of quantum physics and evolutionary biology."
   ]
  },
  {
   "cell_type": "markdown",
   "metadata": {
    "slideshow": {
     "slide_type": "subslide"
    }
   },
   "source": [
    "**What about the Social Sciences?**\n",
    " \n",
    "\n",
    "Why hasn't social science caught on?\n",
    "\n",
    "One can argue that human behavior is even more unpredictable than that of animals!"
   ]
  },
  {
   "cell_type": "markdown",
   "metadata": {
    "slideshow": {
     "slide_type": "subslide"
    }
   },
   "source": [
    "**Combining Inductive and Deductive Approaches**\n",
    " \n",
    "ABM enables both inductive and deductive approaches, and is perhaps most fruitful when the two approaches are combined. Michael Macy has called this “theory mining.”"
   ]
  },
  {
   "cell_type": "markdown",
   "metadata": {
    "slideshow": {
     "slide_type": "subslide"
    }
   },
   "source": [
    "**Getting inside Black Boxes**\n",
    " \n",
    "ABMs are particularly useful for `theorizing processes that we cannot observe`. \n",
    "\n",
    "For example, many of the issues we often talk about surrounding culture and cognition cannot be easily measured in surveys or by observing behavior. \n",
    "\n",
    "- Whereas a survey might use repeated observation to try to develop a proxy measure for what an individual is thinking, \n",
    "- an ABM would explicitly describe a decision making process (or interpretation process), and examine different outcomes when individuals are faced with different circumstances/choices."
   ]
  },
  {
   "cell_type": "markdown",
   "metadata": {
    "slideshow": {
     "slide_type": "slide"
    }
   },
   "source": [
    "**An agent-based model** is a computer program where individual agents or actors follow rules. \n",
    "\n",
    "- These rules range from very simple (e.g. people will always maximize their self interest) to very complex (people only maximize their self interest if they think other people are doing the same thing)."
   ]
  },
  {
   "attachments": {},
   "cell_type": "markdown",
   "metadata": {
    "slideshow": {
     "slide_type": "slide"
    }
   },
   "source": [
    "![image.png](./img/model.png)"
   ]
  },
  {
   "cell_type": "markdown",
   "metadata": {
    "slideshow": {
     "slide_type": "slide"
    }
   },
   "source": [
    "Models are a simplification of reality. \n",
    "- The question is how wrong are they? \n",
    "- And what can we learn from the discrepancy between observed and simulated data?"
   ]
  },
  {
   "cell_type": "markdown",
   "metadata": {
    "slideshow": {
     "slide_type": "slide"
    }
   },
   "source": [
    "Many approaches\n",
    "There are many different ways to simplify reality.\n",
    "\n",
    "In order to simplify reality, we need to `make assumptions`. \n",
    "- These are usually too simple, \n",
    "- but we can `change the assumptions` and see how they affect the model\n",
    "    - once again, this gives us important information about how fragile the assumptions are."
   ]
  },
  {
   "attachments": {},
   "cell_type": "markdown",
   "metadata": {
    "slideshow": {
     "slide_type": "slide"
    }
   },
   "source": [
    "**Parsimony**\n",
    "\n",
    "<div><img src=./img/model1.png width = '400px' align = 'left'></div>\n",
    "<br>\n",
    "<br>\n",
    "<p style=\"text-indent:2em\">On the other hand, making too many assumptions can be problematic, some assumptions may be more important than others. \n",
    "<p style=\"text-indent:2em\">Once again, however, we can build Agent-Based models in an iterative fashion, constantly tweaking our assumptions, or giving them different amounts of influence within the model."
   ]
  },
  {
   "cell_type": "markdown",
   "metadata": {
    "slideshow": {
     "slide_type": "subslide"
    }
   },
   "source": [
    "## Cellular Automaton\n",
    "In 1970, the British mathematician **John Horton Conway** created a cellular automaton that he called the “Game of Life.” "
   ]
  },
  {
   "cell_type": "markdown",
   "metadata": {
    "slideshow": {
     "slide_type": "fragment"
    }
   },
   "source": [
    "- (1) If the cell has less than two (2) alive neighbors, it dies (figure 2.1).\n",
    "- (2) If it has more than three (3) alive neighbors, it also dies (figure 2.2).\n",
    "- (3) If it has exactly two (2) alive neighbors, the cell remains in the state it is in (figure 2.3).\n",
    "- (4) If it has exactly three (3) alive neighbors, the cell becomes alive if it is dead, or stays alive if it is already alive"
   ]
  },
  {
   "attachments": {},
   "cell_type": "markdown",
   "metadata": {
    "slideshow": {
     "slide_type": "subslide"
    }
   },
   "source": [
    "![Gospers_glider_gun.gif](./img/abm5.gif)\n",
    "\n",
    "The Gosper glider gun is the first known gun, and indeed the first known finite pattern with unbounded growth, found by Bill Gosper in November 1970."
   ]
  },
  {
   "cell_type": "code",
   "execution_count": 4,
   "metadata": {
    "ExecuteTime": {
     "end_time": "2020-08-09T06:54:04.997150Z",
     "start_time": "2020-08-09T06:54:04.991983Z"
    },
    "code_folding": [],
    "scrolled": true,
    "slideshow": {
     "slide_type": "subslide"
    }
   },
   "outputs": [
    {
     "data": {
      "text/html": [
       "<iframe frameborder=\"no\" border=\"0\" marginwidth=\"0\" marginheight=\"0\" \n",
       "    width=1200 height=800 \n",
       "    src=\"https://netlogoweb.org/launch#https://netlogoweb.org/assets/modelslib/IABM%20Textbook/chapter%202/Life%20Simple.nlogo\">\n",
       "</iframe>\n"
      ],
      "text/plain": [
       "<IPython.core.display.HTML object>"
      ]
     },
     "metadata": {},
     "output_type": "display_data"
    }
   ],
   "source": [
    "%%html\n",
    "<iframe frameborder=\"no\" border=\"0\" marginwidth=\"0\" marginheight=\"0\" \n",
    "    width=1200 height=800 \n",
    "    src=\"https://netlogoweb.org/launch#https://netlogoweb.org/assets/modelslib/IABM%20Textbook/chapter%202/Life%20Simple.nlogo\">\n",
    "</iframe>"
   ]
  },
  {
   "cell_type": "markdown",
   "metadata": {
    "slideshow": {
     "slide_type": "slide"
    }
   },
   "source": [
    "## **NetLogo**\n",
    " \n",
    "Please go here to download NetLogo:\n",
    "\n",
    "https://ccl.northwestern.edu/netlogo/\n",
    "\n",
    "If you are on a Mac and unable to open the program, use this patch:\n",
    "\n",
    "https://support.apple.com/kb/DL1572?locale=en_US"
   ]
  },
  {
   "attachments": {},
   "cell_type": "markdown",
   "metadata": {
    "slideshow": {
     "slide_type": "subslide"
    }
   },
   "source": [
    "<div><img src=./img/abm6.png width = 500px align=right></div>\n",
    "A new textbook from the creator and author of NetLogo\n",
    "\n",
    "https://www.intro-to-abm.com/#models"
   ]
  },
  {
   "attachments": {},
   "cell_type": "markdown",
   "metadata": {
    "slideshow": {
     "slide_type": "slide"
    }
   },
   "source": [
    "Let's Look at Some Examples\n",
    "\n",
    "Let's take a few minutes to examine some examples of agent based models using the NetLogo software.\n",
    "\n",
    "![image.png](./img/abm7.png)"
   ]
  },
  {
   "cell_type": "markdown",
   "metadata": {
    "slideshow": {
     "slide_type": "slide"
    }
   },
   "source": [
    "### **The Schelling Model**\n",
    " \n",
    "Developed by the economist Thomas Schelling in order to explain the persistance of racial segregation in the US\n",
    "\n",
    "Explains why racial segregation can occur even if only a small number of people in a society have a preference for living near people of their own race/ethnicity."
   ]
  },
  {
   "attachments": {},
   "cell_type": "markdown",
   "metadata": {
    "slideshow": {
     "slide_type": "slide"
    }
   },
   "source": [
    "**The Models Library**\n",
    "\n",
    "![image.png](./img/abm8.png)"
   ]
  },
  {
   "attachments": {},
   "cell_type": "markdown",
   "metadata": {
    "slideshow": {
     "slide_type": "slide"
    }
   },
   "source": [
    "<div><img src=./img/abm9.png width = '800px'></div>"
   ]
  },
  {
   "attachments": {},
   "cell_type": "markdown",
   "metadata": {
    "slideshow": {
     "slide_type": "slide"
    }
   },
   "source": [
    "![image.png](./img/abm10.png)"
   ]
  },
  {
   "attachments": {},
   "cell_type": "markdown",
   "metadata": {
    "slideshow": {
     "slide_type": "slide"
    }
   },
   "source": [
    "Press the “setup” button in order to initialize the simulation\n",
    "\n",
    "![image.png](./img/abm11.png)"
   ]
  },
  {
   "attachments": {},
   "cell_type": "markdown",
   "metadata": {
    "slideshow": {
     "slide_type": "slide"
    }
   },
   "source": [
    "Press the “go once” button in order to simulate one step through time, or the “go” button to simulate an entire time period.\n",
    "\n",
    "![image.png](./img/abm11.png)"
   ]
  },
  {
   "attachments": {},
   "cell_type": "markdown",
   "metadata": {
    "slideshow": {
     "slide_type": "slide"
    }
   },
   "source": [
    "**Vary the Model Parameters**\n",
    "\n",
    "Use the “% similar wanted” slider in order to explore different assumptions about how often people self segregate\n",
    "\n",
    "![image.png](./img/abm11.png)"
   ]
  },
  {
   "attachments": {},
   "cell_type": "markdown",
   "metadata": {
    "slideshow": {
     "slide_type": "slide"
    }
   },
   "source": [
    "**Vary the Model Parameters**\n",
    "\n",
    "The output appears here in the lower left corner of the screen, and you can export it by “right clicking” on these graphs:\n",
    "\n",
    "<div><img src=./img/abm12.png width = '500px'></div>"
   ]
  },
  {
   "cell_type": "markdown",
   "metadata": {
    "slideshow": {
     "slide_type": "slide"
    }
   },
   "source": [
    "### HIV Model\n",
    "Let's Look at Another Example\n",
    " \n",
    "Please load the `HIV model` from the Models Library"
   ]
  },
  {
   "attachments": {},
   "cell_type": "markdown",
   "metadata": {
    "slideshow": {
     "slide_type": "slide"
    }
   },
   "source": [
    "How does HIV Spread?\n",
    "<div><img src=./img/abm13.png width ='800px'></div>"
   ]
  },
  {
   "attachments": {},
   "cell_type": "markdown",
   "metadata": {
    "slideshow": {
     "slide_type": "slide"
    }
   },
   "source": [
    "### Ethnocentricsm\n",
    "\n",
    "<div><img src=./img/abm14.png width ='800px'></div>\n"
   ]
  },
  {
   "attachments": {},
   "cell_type": "markdown",
   "metadata": {
    "slideshow": {
     "slide_type": "slide"
    }
   },
   "source": [
    "### Networks\n",
    "\n",
    "<div><img src=./img/abm15.png width ='800px'></div>\n"
   ]
  },
  {
   "cell_type": "markdown",
   "metadata": {
    "slideshow": {
     "slide_type": "slide"
    }
   },
   "source": [
    "### Models Galore\n",
    " \n",
    "\n",
    "There are many more models within the Modelling Commons:\n",
    "\n",
    "http://modelingcommons.org/account/login\n",
    "\n",
    "“Agent-Based” Modelling Resources with netlogo models for many of the most recent papers in AJS and ASR that use ABM (Most of these are authored by James Kitts and his students-thanks James!)\n",
    "\n",
    "Chris Bail also searched through the Modelling Commons in order to pick out some interesting social science models and put them in a folder entitled: “Random Social Science Agent Based Models that are not in the Models Library.”- Thank Chris!\n",
    "\n",
    "https://github.com/computational-class/css/issues/5"
   ]
  },
  {
   "cell_type": "markdown",
   "metadata": {
    "slideshow": {
     "slide_type": "subslide"
    }
   },
   "source": [
    "Great List of ABM Code in R and Other Languages\n",
    " \n",
    "\n",
    "From James Kitts:\n",
    "\n",
    "http://socdynamics.org/id4.html\n",
    "\n",
    "Lots of great stuff by Carter Butts for you network folks! "
   ]
  },
  {
   "attachments": {},
   "cell_type": "markdown",
   "metadata": {
    "slideshow": {
     "slide_type": "subslide"
    }
   },
   "source": [
    "![image.png](./img/abm16.png)\n",
    "\n",
    "http://modelingcommons.org/browse/one_model/6227#model_tabs_browse_nlw"
   ]
  },
  {
   "cell_type": "markdown",
   "metadata": {
    "slideshow": {
     "slide_type": "slide"
    }
   },
   "source": [
    "## CODING AGENT-BASED MODELS"
   ]
  },
  {
   "cell_type": "markdown",
   "metadata": {
    "slideshow": {
     "slide_type": "subslide"
    }
   },
   "source": [
    "**Ways to Code Agent-Based Models**\n",
    " \n",
    "Most papers that use ABM do not describe how they implement the code. \n",
    "- This is unfortunate \n",
    "    - because it makes it seem like very high-level computing knowledge is necessary to perform ABM. \n",
    "    - This is emphatically NOT the case."
   ]
  },
  {
   "cell_type": "markdown",
   "metadata": {
    "slideshow": {
     "slide_type": "subslide"
    }
   },
   "source": [
    "Ways to Code Agent-Based Models\n",
    " \n",
    "\n",
    "- 1) In NetLogo\n",
    "- 2) Within R"
   ]
  },
  {
   "cell_type": "markdown",
   "metadata": {
    "slideshow": {
     "slide_type": "subslide"
    }
   },
   "source": [
    "RNetLogo\n",
    " \n",
    "3) New package RNetLogo enables you to load NetLogo from within R and export the output directly. This is advantageous if you want to do a large number of simulations that differ in slight ways and assess how sensitivity the model is to different assumptions/paramaters. However, some of you may prefer to just keep everything in R- it depends how important it is for you to interact with your visualization, and view it changing over time (r can graph these things, but it's animation capabilities are much tricker to use than those in NetLogo)"
   ]
  },
  {
   "cell_type": "markdown",
   "metadata": {
    "slideshow": {
     "slide_type": "subslide"
    }
   },
   "source": [
    "The Modeling Process\n",
    "\n",
    "The Modeling process usually does not begin with a research typing code into a computer program."
   ]
  },
  {
   "cell_type": "markdown",
   "metadata": {
    "slideshow": {
     "slide_type": "subslide"
    }
   },
   "source": [
    "### The Modeling Process\n",
    " \n",
    "\n",
    "Before you start coding you will have to answer a series of extremely important questions:\n",
    "\n",
    "1) What is your research question?\n",
    "\n",
    "2) Who are the agents in your model?\n",
    "\n",
    "3) What type of rules might they follow?\n",
    "\n",
    "4) What are your hypotheses?\n",
    "\n",
    "5) Do you need to produce visual output in one “run,” or are you interested in using simualations to assess error across hundreds or thousands of runs?"
   ]
  },
  {
   "cell_type": "markdown",
   "metadata": {
    "slideshow": {
     "slide_type": "subslide"
    }
   },
   "source": [
    "Splitting up your code into Objects\n",
    " \n",
    "\n",
    "NetLogo is an object-oriented language. As a result, one must first define a set of objects that work together in order to form an agent-based model: \n",
    "- a list of the set of the actors and their attributes, \n",
    "- rules for decision making that they might follow,\n",
    "- “global” variables that help you identify how such micro-level behavioral rules bubble up into the macro-level patterns you might care about (such as the overall segregation rate in the Schelling Model.)"
   ]
  },
  {
   "cell_type": "markdown",
   "metadata": {
    "slideshow": {
     "slide_type": "subslide"
    }
   },
   "source": [
    "Let's walk through the code in the \n",
    "\n",
    "### Schelling Model"
   ]
  },
  {
   "attachments": {},
   "cell_type": "markdown",
   "metadata": {
    "slideshow": {
     "slide_type": "subslide"
    }
   },
   "source": [
    "<div><img src=./img/abm17.png width ='800px'></div>"
   ]
  },
  {
   "attachments": {},
   "cell_type": "markdown",
   "metadata": {
    "slideshow": {
     "slide_type": "subslide"
    }
   },
   "source": [
    "#### Turtles\n",
    "\n",
    "<div><img src=./img/abm18.png width ='500px' align='left'></div>\n",
    "<br>\n",
    "<br>\n",
    "NetLogo was originally designed to analyze patterns of emergence within ecological systems.\n",
    "\n",
    "Instead of using the term “agents,” the author of NetLogo opted for the term “turtles.”"
   ]
  },
  {
   "cell_type": "markdown",
   "metadata": {
    "slideshow": {
     "slide_type": "subslide"
    }
   },
   "source": [
    "#### Comments/Annotating code\n",
    " \n",
    "IN NetLogo, you use the “;;” sign to indicate a comment, and comments usually occur on the same line as the code\n",
    "\n",
    "> some code here ;; this is a comment\n"
   ]
  },
  {
   "cell_type": "markdown",
   "metadata": {
    "slideshow": {
     "slide_type": "slide"
    }
   },
   "source": [
    "#### Basic Steps\n",
    " \n",
    "1) Define Global Variables;\n",
    "\n",
    "2) Define Attributes of Agents (Turtles);\n",
    "\n",
    "2) Define Society or Social Space where Agents Interact;\n",
    "\n",
    "3) Define Interaction Rules for Agents;\n",
    "\n",
    "4) Add Buttons or Sliders to Visualization Window to faciliate experimenting with different paramaters/assumptions"
   ]
  },
  {
   "cell_type": "markdown",
   "metadata": {
    "slideshow": {
     "slide_type": "subslide"
    }
   },
   "source": [
    "\n",
    "\n",
    "![image.png](./img/ABM7steps.png)"
   ]
  },
  {
   "cell_type": "code",
   "execution_count": 1,
   "metadata": {
    "ExecuteTime": {
     "end_time": "2021-03-23T16:46:06.334691Z",
     "start_time": "2021-03-23T16:46:06.322940Z"
    },
    "slideshow": {
     "slide_type": "subslide"
    }
   },
   "outputs": [
    {
     "data": {
      "text/html": [
       "<iframe frameborder=\"no\" border=\"0\" marginwidth=\"0\" marginheight=\"0\" \n",
       "    width=1200 height=800 \n",
       "    src=\"https://socrateslab.github.io/sos/index.html\">\n",
       "</iframe>\n"
      ],
      "text/plain": [
       "<IPython.core.display.HTML object>"
      ]
     },
     "metadata": {},
     "output_type": "display_data"
    }
   ],
   "source": [
    "%%html\n",
    "<iframe frameborder=\"no\" border=\"0\" marginwidth=\"0\" marginheight=\"0\" \n",
    "    width=1200 height=800 \n",
    "    src=\"https://socrateslab.github.io/sos/index.html\">\n",
    "</iframe>"
   ]
  },
  {
   "cell_type": "markdown",
   "metadata": {
    "slideshow": {
     "slide_type": "subslide"
    }
   },
   "source": [
    "#### Global Variables\n",
    "These are the macro-level variables we want to observe from our model and/or output to analyze or visualize. For the Schelling Model, we have two global variables: `percent similar people` within the population, and `percent unhappy` with their current residential location vis-a-vis members of the opposite group:\n",
    "\n",
    "```\n",
    "globals [\n",
    "  percent-similar  ;; on the average, what percent of a turtle's neighbors\n",
    "                   ;; are the same color as that turtle?\n",
    "  percent-unhappy  ;; what percent of the turtles are unhappy?\n",
    "]\n",
    "```"
   ]
  },
  {
   "cell_type": "markdown",
   "metadata": {
    "slideshow": {
     "slide_type": "subslide"
    }
   },
   "source": [
    "#### Describing the Turtles (Agents)\n",
    "To describe attributes of the turtles, we use the `turtles-own[]` operator. For each turtle we are going to need to know the following information:\n",
    "\n",
    "```\n",
    "turtles-own [\n",
    "  happy?           ;; for each turtle, indicates whether at least %-similar-wanted percent of\n",
    "                   ;; that turtles' neighbors are the same color as the turtle\n",
    "  similar-nearby   ;; how many neighboring patches have a turtle with my color?\n",
    "  other-nearby     ;; how many have a turtle of another color?\n",
    "  total-nearby     ;; sum of previous two variables\n",
    "]\n",
    "```"
   ]
  },
  {
   "cell_type": "markdown",
   "metadata": {
    "slideshow": {
     "slide_type": "subslide"
    }
   },
   "source": [
    "#### Initializing the Model\n",
    "The `to setup function` describes how you want the society or system to be created.\n",
    "\n",
    "```\n",
    "to setup\n",
    "  clear-all\n",
    "  ;; create turtles on random patches.\n",
    "  ask patches [\n",
    "    if random 100 < density [   ;; set the occupancy density\n",
    "      sprout 1 [\n",
    "        set color one-of [red green]\n",
    "      ]\n",
    "    ]\n",
    "  ]\n",
    "  update-variables\n",
    "  reset-ticks\n",
    "end\n",
    "```"
   ]
  },
  {
   "attachments": {},
   "cell_type": "markdown",
   "metadata": {
    "slideshow": {
     "slide_type": "subslide"
    }
   },
   "source": [
    "![image.png](./img/abm19.png)"
   ]
  },
  {
   "attachments": {},
   "cell_type": "markdown",
   "metadata": {
    "slideshow": {
     "slide_type": "subslide"
    }
   },
   "source": [
    "![image.png](./img/abm20.png)"
   ]
  },
  {
   "cell_type": "markdown",
   "metadata": {
    "slideshow": {
     "slide_type": "subslide"
    }
   },
   "source": [
    "#### Initializing the Model\n",
    "Note the `ask patches[] function`, which specifies that we want to create the world as a set of patches where actors can move (but we could have defined the world as a network of nodes, among other options.\n",
    "\n",
    "```\n",
    "  ask patches [\n",
    "    if random 100 < density [   ;; set the occupancy density\n",
    "      sprout 1 [\n",
    "        set color one-of [red green]\n",
    "      ]\n",
    "    ]\n",
    "```\n",
    "\n",
    "Density is a variable we've created that describes whether or not all of the patches are occupied by a turtle (or agent)"
   ]
  },
  {
   "cell_type": "markdown",
   "metadata": {
    "slideshow": {
     "slide_type": "subslide"
    }
   },
   "source": [
    "#### Initializing the Model\n",
    "The `sprout command` is randomly determining the color of each patch as either red or green using a random number generator between 1 and 100 that is less than the value of “density” which we are going to define later\n",
    "\n",
    "```\n",
    "  ask patches [\n",
    "    if random 100 < density [   ;; set the occupancy density\n",
    "      sprout 1 [\n",
    "        set color one-of [red green]\n",
    "      ]\n",
    "    ]\n",
    "```"
   ]
  },
  {
   "attachments": {},
   "cell_type": "markdown",
   "metadata": {
    "slideshow": {
     "slide_type": "subslide"
    }
   },
   "source": [
    "#### Summary so Far \n",
    "\n",
    "![image.png](./img/abm21.png)\n",
    " \n",
    "So far we've established\n",
    "\n",
    "- 1) What we want to learn from the model (globals)\n",
    "- 2) Characteristics of the agents in the model (turtles-own)\n",
    "- 3) The boundaries of the society (patches/sprout)\n",
    "\n",
    "Now we need to define the rules that govern the behavior of the agents (turtles) as they chose where to live."
   ]
  },
  {
   "cell_type": "markdown",
   "metadata": {
    "slideshow": {
     "slide_type": "subslide"
    }
   },
   "source": [
    "#### Moving Rules\n",
    "In order to do this, we are going to have to wrap some functions within functions\n",
    "\n",
    "First, we need to learn about the `go command` which corresponds to the “Go” or “Go Once” command on the Graphical User Interface we played with earlier\n",
    "\n",
    "```\n",
    "to go\n",
    "  if all? turtles [ happy? ] [ stop ]\n",
    "  move-unhappy-turtles\n",
    "  update-variables\n",
    "  tick\n",
    "end\n",
    "```"
   ]
  },
  {
   "cell_type": "markdown",
   "metadata": {
    "slideshow": {
     "slide_type": "subslide"
    }
   },
   "source": [
    "#### Moving Rules\n",
    " \n",
    "Remember that we defined “happy” as an attribute of all turtles, so the first line is just saying, “if all the turtles are happy, end the simuatlion.\n",
    "```\n",
    "  if all? turtles [ happy? ] [ stop ]\n",
    "```"
   ]
  },
  {
   "cell_type": "markdown",
   "metadata": {
    "slideshow": {
     "slide_type": "subslide"
    }
   },
   "source": [
    "#### Moving Rules\n",
    " \n",
    "The rest of this section calls other functions established later in the code called `move-unhappy-turtles` and `update-variables` a tick refers to one unit of time- perhaps a second.\n",
    "\n",
    "```\n",
    "  move-unhappy-turtles\n",
    "  update-variables\n",
    "  tick\n",
    "end\n",
    "```"
   ]
  },
  {
   "cell_type": "markdown",
   "metadata": {
    "slideshow": {
     "slide_type": "subslide"
    }
   },
   "source": [
    "#### Moving Rules\n",
    "The `move-unhappy-turtles` function is going to create a lot of action in this simulation because most of the time there are at least some people/agents who are not happy with where they live because they live people who are from the other group.\n",
    "\n",
    "```\n",
    "to move-unhappy-turtles\n",
    "  ask turtles with [ not happy? ]\n",
    "    [ find-new-spot ]\n",
    "end\n",
    "```\n",
    "\n",
    "Note the `to` here defines this as a separate function….`find-new-spotis` yet another function that is created further down the page of code.\n"
   ]
  },
  {
   "cell_type": "markdown",
   "metadata": {
    "slideshow": {
     "slide_type": "subslide"
    }
   },
   "source": [
    "#### Moving Rules\n",
    "Next, we randomly move the turtles to patches in the “society” until we find one that is not occupied.\n",
    "\n",
    "```\n",
    "to find-new-spot\n",
    "  rt random-float 360\n",
    "  fd random-float 10\n",
    "  if any? other turtles-here [ find-new-spot ] ;; keep going until we find an unoccupied patch\n",
    "  move-to patch-here  ;; move to center of patch\n",
    "end\n",
    "```\n",
    "\n",
    "the random-float function is creating a number between zero and the number that follows it (in this case 0-360 and 0-10)\n"
   ]
  },
  {
   "attachments": {},
   "cell_type": "markdown",
   "metadata": {
    "slideshow": {
     "slide_type": "subslide"
    }
   },
   "source": [
    "![image.png](./img/abm22.png)\n",
    "\n",
    "the random-float function is creating a number between zero and the number that follows it (in this case 0-360 and 0-10)\n"
   ]
  },
  {
   "cell_type": "markdown",
   "metadata": {
    "slideshow": {
     "slide_type": "subslide"
    }
   },
   "source": [
    "#### Moving Rules\n",
    " \n",
    "`rt` means move the turtle to the right a random number of patches, and `fd` means move the turtle forward a random number of patches (remember that the patches are defined by cardinal directions using the patches set up).\n",
    "\n",
    "```\n",
    "  rt random-float 360\n",
    "  fd random-float 10\n",
    "```"
   ]
  },
  {
   "cell_type": "markdown",
   "metadata": {
    "slideshow": {
     "slide_type": "subslide"
    }
   },
   "source": [
    "#### Updating\n",
    " \n",
    "Next, we need to periodically change the characteristics of our turtles/agents (whether they are happy with their location or not), as well as our global variables (e.g. the number of turtles/agents who are happy)\n",
    "```\n",
    "to update-variables\n",
    "  update-turtles\n",
    "  update-globals\n",
    "end\n",
    "```\n",
    "Once again, we are calling functions that are further down the page of code called update-turtles and update-globals"
   ]
  },
  {
   "attachments": {},
   "cell_type": "markdown",
   "metadata": {
    "slideshow": {
     "slide_type": "subslide"
    }
   },
   "source": [
    "#### Updating\n",
    "\n",
    "<div><img src=./img/abm23.png width='2000px'></div>\n"
   ]
  },
  {
   "attachments": {},
   "cell_type": "markdown",
   "metadata": {
    "slideshow": {
     "slide_type": "subslide"
    }
   },
   "source": [
    "#### Updating\n",
    "Here we are simply testing whether the turtles nearby each turtle are the same color, and whether the proportion of similar turtles corresponds to the preferences we will set up in a later stage (a variable called `%similar-wanted`)\n",
    "\n",
    "<div><img src=./img/abm24.png width='2000px'></div>\n",
    "\n",
    "Note that the code is able to check the color of nearby turtles because we defined color as an attribute of turtles at an earlier stage"
   ]
  },
  {
   "cell_type": "markdown",
   "metadata": {
    "slideshow": {
     "slide_type": "subslide"
    }
   },
   "source": [
    "#### Visualizing Changes in Real Time\n",
    "\n",
    "The code is also changing the shapes used to describe the turtles state of happiness\n",
    "\n",
    "we are using an “x” to describe turtles that are unhappy with this code:\n",
    "\n",
    "    if visualization = \"old\" [ set shape \"default\" ]\n",
    "    if visualization = \"square-x\" [\n",
    "      ifelse happy? [set shape \"square\" ] [set shape \"square-x\" ]\n",
    "The first line is allowing the user to decide whether or not she or he wants to turn on this visualization function or not."
   ]
  },
  {
   "cell_type": "markdown",
   "metadata": {
    "slideshow": {
     "slide_type": "subslide"
    }
   },
   "source": [
    "#### Updating Global Variables\n",
    "Finally, we update the global variables so that we can generate our output (the graphs in the lower left hand side of the GUI)\n",
    "\n",
    "```\n",
    "to update-globals\n",
    "  let similar-neighbors sum [similar-nearby] of turtles\n",
    "  let total-neighbors sum [total-nearby] of turtles\n",
    "  set percent-similar (similar-neighbors/total-neighbors)*100\n",
    "  set percent-unhappy (count turtles with [not happy?])/(count turtles)*100\n",
    "end\n",
    "```\n"
   ]
  },
  {
   "cell_type": "markdown",
   "metadata": {
    "slideshow": {
     "slide_type": "subslide"
    }
   },
   "source": [
    "#### Add Sliders/Buttons\n",
    "\n",
    "Remember we did not define the `density` variable or the `%similar-wanted` variable? \n",
    "\n",
    "We can do that by adding “sliders” within the GUI's “Interface” pain (the main visualization window)\n",
    "\n"
   ]
  },
  {
   "attachments": {},
   "cell_type": "markdown",
   "metadata": {
    "slideshow": {
     "slide_type": "subslide"
    }
   },
   "source": [
    "<div><img src=./img/abm25.png width='800px' align='left'></div>\n",
    "\n",
    "1) Select the type of interactive feature you want (slider, button, plot etc)\n",
    "\n",
    "2) Click the “add” button\n",
    "\n",
    "3) Place the cursor where you want to put the button/slider and click the mouse"
   ]
  },
  {
   "attachments": {},
   "cell_type": "markdown",
   "metadata": {
    "slideshow": {
     "slide_type": "subslide"
    }
   },
   "source": [
    "\n",
    "\n",
    "### Virus on a Network\n",
    "\n",
    "Let's try another one\n",
    "\n",
    "<div><img src=./img/abm26.png width='600px' align='left'></div>\n",
    "\n"
   ]
  },
  {
   "attachments": {},
   "cell_type": "markdown",
   "metadata": {
    "slideshow": {
     "slide_type": "subslide"
    }
   },
   "source": [
    "![image.png](./img/abm27.png)"
   ]
  },
  {
   "attachments": {},
   "cell_type": "markdown",
   "metadata": {
    "slideshow": {
     "slide_type": "subslide"
    }
   },
   "source": [
    "![image.png](./img/abm28.png)"
   ]
  },
  {
   "attachments": {},
   "cell_type": "markdown",
   "metadata": {
    "slideshow": {
     "slide_type": "subslide"
    }
   },
   "source": [
    "#### Define Attributes of Agents\n",
    "Agents can either become infected with the virus or resistant to the virus, and they get a virus check within a regular time period defined by the user.\n",
    "\n",
    "<div><img src=./img/abm29.png width='1200px'></div>"
   ]
  },
  {
   "cell_type": "markdown",
   "metadata": {
    "slideshow": {
     "slide_type": "subslide"
    }
   },
   "source": [
    "#### Setup the Network\n",
    "Once again, in order to set-up this “world”, which is a network, we are going to call some functions that are defined later on in the code.\n",
    "\n",
    "```\n",
    "to setup\n",
    "  clear-all\n",
    "  setup-nodes\n",
    "  setup-spatially-clustered-network\n",
    "  ask n-of initial-outbreak-size turtles\n",
    "    [ become-infected ]\n",
    "  ask links [ set color white ]\n",
    "  reset-ticks\n",
    "end\n",
    "```"
   ]
  },
  {
   "attachments": {},
   "cell_type": "markdown",
   "metadata": {
    "slideshow": {
     "slide_type": "subslide"
    }
   },
   "source": [
    "<div><img src=./img/abm30.png width='1200px'></div>"
   ]
  },
  {
   "attachments": {},
   "cell_type": "markdown",
   "metadata": {
    "slideshow": {
     "slide_type": "subslide"
    }
   },
   "source": [
    "<div><img src=./img/abm31.png width='1200px'></div>"
   ]
  },
  {
   "attachments": {},
   "cell_type": "markdown",
   "metadata": {
    "slideshow": {
     "slide_type": "subslide"
    }
   },
   "source": [
    "#### Defining \"Go\"\n",
    "\n",
    "<div><img src=./img/abm32.png width='1000px'></div>\n",
    "\n"
   ]
  },
  {
   "cell_type": "markdown",
   "metadata": {
    "slideshow": {
     "slide_type": "subslide"
    }
   },
   "source": [
    "#### become-infected\n",
    "```\n",
    "to become-infected  ;; turtle procedure\n",
    "  set infected? true\n",
    "  set resistant? false\n",
    "  set color red\n",
    "end\n",
    "```"
   ]
  },
  {
   "cell_type": "markdown",
   "metadata": {
    "slideshow": {
     "slide_type": "subslide"
    }
   },
   "source": [
    "#### become-susceptible\n",
    "```\n",
    "to become-susceptible  ;; turtle procedure\n",
    "  set infected? false\n",
    "  set resistant? false\n",
    "  set color green\n",
    "end\n",
    "```"
   ]
  },
  {
   "cell_type": "markdown",
   "metadata": {
    "slideshow": {
     "slide_type": "subslide"
    }
   },
   "source": [
    "#### become-resistant\n",
    "\n",
    "```\n",
    "to become-resistant  ;; turtle procedure\n",
    "  set infected? false\n",
    "  set resistant? true\n",
    "  set color gray\n",
    "  ask my-links [ set color gray - 2 ]\n",
    "end\n",
    "```\n"
   ]
  },
  {
   "cell_type": "markdown",
   "metadata": {
    "slideshow": {
     "slide_type": "subslide"
    }
   },
   "source": [
    "#### spread-virus\n",
    "While this line is short, this is a key stage in the code:\n",
    "\n",
    "```\n",
    "to spread-virus\n",
    "  ask turtles with [infected?]\n",
    "    [ ask link-neighbors with [not resistant?]\n",
    "        [ if random-float 100 < virus-spread-chance\n",
    "            [ become-infected ] ] ]\n",
    "end\n",
    "```"
   ]
  },
  {
   "attachments": {},
   "cell_type": "markdown",
   "metadata": {
    "slideshow": {
     "slide_type": "subslide"
    }
   },
   "source": [
    "#### do \"virus checks\"\n",
    "\n",
    "<div><img src=./img/abm33.png align = 'left' width='1200px'></div>\n",
    "\n"
   ]
  },
  {
   "cell_type": "markdown",
   "metadata": {
    "slideshow": {
     "slide_type": "subslide"
    }
   },
   "source": [
    "if the recovery-chance larger than random: \n",
    "- if gain-resistance-chance larger than random:\n",
    "    - become-resistant\n",
    "- else:\n",
    "    - become-susceptible\n",
    "    \n",
    "ifelse boolean1 [ commands1 ] [ elsecommands ]"
   ]
  },
  {
   "cell_type": "markdown",
   "metadata": {
    "slideshow": {
     "slide_type": "subslide"
    }
   },
   "source": [
    "#### Add Sliders\n",
    "We need the following sliders:\n",
    "\n",
    "- 1) number-of-nodes;\n",
    "- 2) average-node-degree;\n",
    "- 3) initial-outbreak-size;\n",
    "- 4) virus-spread-chance;\n",
    "- 5) recovery-chance;\n",
    "- 6) gain-resistance-chance."
   ]
  },
  {
   "cell_type": "markdown",
   "metadata": {
    "slideshow": {
     "slide_type": "subslide"
    }
   },
   "source": [
    "#### Add Buttons\n",
    " \n",
    "We need the following buttons:\n",
    "\n",
    "- 1) Setup;\n",
    "- 2) Go."
   ]
  },
  {
   "cell_type": "markdown",
   "metadata": {
    "slideshow": {
     "slide_type": "subslide"
    }
   },
   "source": [
    "Let's pick another model to work through as a group...\n",
    "\n",
    "Baby Steps!\n",
    "\n",
    "Remember...\n",
    " \n",
    "\n",
    "Even though it would take a lot of work to write this from scratch, you probably won't have to given how many “sample” models are already out there!"
   ]
  },
  {
   "cell_type": "markdown",
   "metadata": {
    "slideshow": {
     "slide_type": "subslide"
    }
   },
   "source": [
    "The NetLogo User's Manual\n",
    " \n",
    "\n",
    "To tweak other people's code, you will first need to understand each step in their code. This site lists all the different functions/commands available within NetLogo:\n",
    "\n",
    "https://ccl.northwestern.edu/netlogo/docs/dictionary.html"
   ]
  },
  {
   "cell_type": "markdown",
   "metadata": {
    "slideshow": {
     "slide_type": "subslide"
    }
   },
   "source": [
    "Be Patient!\n",
    " \n",
    "The downside of NetLogo is that you have to learn new commands and new syntax. The up-side is that the brilliant author of this program has saved you from doing much more complicated coding in Java! be grateful :)"
   ]
  },
  {
   "cell_type": "markdown",
   "metadata": {
    "slideshow": {
     "slide_type": "subslide"
    }
   },
   "source": [
    "Coding Agent Based Models in R\n",
    " \n",
    "\n",
    "Advantages:\n",
    "\n",
    "1) No need to move back and forth between NetLogo and R;\n",
    "2) Faster computation if code is moved to Amazon AWS;\n",
    "3) Ability to integrate stats functions from R into your simulations.\n",
    "\n",
    "Disadvantages:\n",
    "\n",
    "1) Potentially harder to code depending upon how intuitive NetLogo is to you."
   ]
  },
  {
   "cell_type": "markdown",
   "metadata": {
    "slideshow": {
     "slide_type": "subslide"
    }
   },
   "source": [
    "### PyNetLogo: Linking NetLogo with Python\n",
    "Marc Jaxa-Rozen and Jan H. Kwakkel\n",
    "\n",
    "Delft University of Technology, Netherlands \n",
    "\n",
    "\n",
    "Journal of Artificial Societies and Social Simulation 21 (2) 4\n",
    "<http://jasss.soc.surrey.ac.uk/21/2/4.html>"
   ]
  },
  {
   "cell_type": "code",
   "execution_count": 2,
   "metadata": {
    "ExecuteTime": {
     "end_time": "2020-08-01T08:51:04.379162Z",
     "start_time": "2020-08-01T08:50:56.513032Z"
    },
    "slideshow": {
     "slide_type": "subslide"
    }
   },
   "outputs": [
    {
     "name": "stdout",
     "output_type": "stream",
     "text": [
      "Collecting pyNetLogo\n",
      "  Downloading pyNetLogo-0.4.1.tar.gz (48 kB)\n",
      "\u001b[K     |████████████████████████████████| 48 kB 113 kB/s eta 0:00:011\n",
      "\u001b[?25hBuilding wheels for collected packages: pyNetLogo\n",
      "  Building wheel for pyNetLogo (setup.py) ... \u001b[?25ldone\n",
      "\u001b[?25h  Created wheel for pyNetLogo: filename=pyNetLogo-0.4.1-py3-none-any.whl size=64516 sha256=c777780cde743ed03556c67b8c1418c3fbd71f0d9c7b57213fe91eb8530cfb46\n",
      "  Stored in directory: /Users/datalab/Library/Caches/pip/wheels/08/8a/9c/3cdf0124bed0bb4876ae3fc4270ff5336b49b7ab081fb95072\n",
      "Successfully built pyNetLogo\n",
      "Installing collected packages: pyNetLogo\n",
      "Successfully installed pyNetLogo-0.4.1\n",
      "Note: you may need to restart the kernel to use updated packages.\n"
     ]
    }
   ],
   "source": [
    "pip install pyNetLogo"
   ]
  },
  {
   "cell_type": "code",
   "execution_count": 5,
   "metadata": {
    "ExecuteTime": {
     "end_time": "2020-08-01T08:58:15.844025Z",
     "start_time": "2020-08-01T08:58:13.330348Z"
    },
    "slideshow": {
     "slide_type": "subslide"
    }
   },
   "outputs": [
    {
     "name": "stdout",
     "output_type": "stream",
     "text": [
      "Requirement already satisfied: jpype1 in /opt/anaconda3/lib/python3.7/site-packages (1.0.1)\r\n",
      "Requirement already satisfied: typing-extensions; python_version < \"3.8\" in /opt/anaconda3/lib/python3.7/site-packages (from jpype1) (3.7.4.2)\r\n"
     ]
    }
   ],
   "source": [
    "!python3 -m pip install jpype1\n"
   ]
  },
  {
   "attachments": {},
   "cell_type": "markdown",
   "metadata": {
    "slideshow": {
     "slide_type": "subslide"
    }
   },
   "source": [
    "![image.png](./img/abm34.png)\n",
    "\n",
    "https://www.oracle.com/java/technologies/javase-downloads.html\n",
    "\n",
    "Netlogo can't open the model? Solved!\n",
    "\n",
    "https://github.com/SocratesAcademy/css/issues/17"
   ]
  },
  {
   "cell_type": "code",
   "execution_count": 155,
   "metadata": {
    "ExecuteTime": {
     "end_time": "2020-08-01T10:09:29.627565Z",
     "start_time": "2020-08-01T10:09:29.442679Z"
    },
    "slideshow": {
     "slide_type": "subslide"
    }
   },
   "outputs": [],
   "source": [
    "import pandas as pd\n",
    "import matplotlib.pyplot as plt\n",
    "import seaborn as sns\n",
    "sns.set_style('white')\n",
    "sns.set_context('talk')\n",
    "\n",
    "netlogo = pyNetLogo.NetLogoLink(gui=True) #Show NetLogo GUI\n",
    "netlogo.load_model(r'../data/Wolf Sheep Predation_v6.nlogo')\n",
    "netlogo.command('setup')\n",
    "# https://pynetlogo.readthedocs.io/en/latest/_docs/introduction.html"
   ]
  },
  {
   "cell_type": "code",
   "execution_count": null,
   "metadata": {},
   "outputs": [],
   "source": []
  },
  {
   "cell_type": "code",
   "execution_count": 156,
   "metadata": {
    "ExecuteTime": {
     "end_time": "2020-08-01T10:09:30.612433Z",
     "start_time": "2020-08-01T10:09:30.592876Z"
    },
    "slideshow": {
     "slide_type": "subslide"
    }
   },
   "outputs": [
    {
     "data": {
      "text/html": [
       "<div>\n",
       "<style scoped>\n",
       "    .dataframe tbody tr th:only-of-type {\n",
       "        vertical-align: middle;\n",
       "    }\n",
       "\n",
       "    .dataframe tbody tr th {\n",
       "        vertical-align: top;\n",
       "    }\n",
       "\n",
       "    .dataframe thead th {\n",
       "        text-align: right;\n",
       "    }\n",
       "</style>\n",
       "<table border=\"1\" class=\"dataframe\">\n",
       "  <thead>\n",
       "    <tr style=\"text-align: right;\">\n",
       "      <th></th>\n",
       "      <th>who</th>\n",
       "      <th>xcor</th>\n",
       "      <th>ycor</th>\n",
       "    </tr>\n",
       "  </thead>\n",
       "  <tbody>\n",
       "    <tr>\n",
       "      <th>0</th>\n",
       "      <td>0</td>\n",
       "      <td>-24.000000</td>\n",
       "      <td>-24.000000</td>\n",
       "    </tr>\n",
       "    <tr>\n",
       "      <th>1</th>\n",
       "      <td>1</td>\n",
       "      <td>-23.666667</td>\n",
       "      <td>-23.666667</td>\n",
       "    </tr>\n",
       "    <tr>\n",
       "      <th>2</th>\n",
       "      <td>2</td>\n",
       "      <td>-23.333333</td>\n",
       "      <td>-23.333333</td>\n",
       "    </tr>\n",
       "    <tr>\n",
       "      <th>3</th>\n",
       "      <td>3</td>\n",
       "      <td>-23.000000</td>\n",
       "      <td>-23.000000</td>\n",
       "    </tr>\n",
       "    <tr>\n",
       "      <th>4</th>\n",
       "      <td>4</td>\n",
       "      <td>-22.666667</td>\n",
       "      <td>-22.666667</td>\n",
       "    </tr>\n",
       "  </tbody>\n",
       "</table>\n",
       "</div>"
      ],
      "text/plain": [
       "   who       xcor       ycor\n",
       "0    0 -24.000000 -24.000000\n",
       "1    1 -23.666667 -23.666667\n",
       "2    2 -23.333333 -23.333333\n",
       "3    3 -23.000000 -23.000000\n",
       "4    4 -22.666667 -22.666667"
      ]
     },
     "execution_count": 156,
     "metadata": {},
     "output_type": "execute_result"
    }
   ],
   "source": [
    "agent_xy = pd.read_excel('../data/xy_DataFrame.xlsx')\n",
    "agent_xy[['who','xcor','ycor']].head(5)"
   ]
  },
  {
   "cell_type": "code",
   "execution_count": 157,
   "metadata": {
    "ExecuteTime": {
     "end_time": "2020-08-01T10:09:31.604401Z",
     "start_time": "2020-08-01T10:09:31.600816Z"
    },
    "slideshow": {
     "slide_type": "subslide"
    }
   },
   "outputs": [
    {
     "data": {
      "text/plain": [
       "'6.1'"
      ]
     },
     "execution_count": 157,
     "metadata": {},
     "output_type": "execute_result"
    }
   ],
   "source": [
    "netlogo.netlogo_version "
   ]
  },
  {
   "cell_type": "code",
   "execution_count": 158,
   "metadata": {
    "ExecuteTime": {
     "end_time": "2020-08-01T10:09:32.777610Z",
     "start_time": "2020-08-01T10:09:32.560482Z"
    },
    "slideshow": {
     "slide_type": "subslide"
    }
   },
   "outputs": [],
   "source": [
    "netlogo.command('repeat 100 [go]')\n",
    "#netlogo.repeat_command('go', 100)\n",
    "#Return sorted arrays so that the x, y and energy properties of each agent are in the same order\n",
    "x = netlogo.report('map [s -> [xcor] of s] sort sheep')\n",
    "y = netlogo.report('map [s -> [ycor] of s] sort sheep')\n",
    "energy_sheep = netlogo.report('map [s -> [energy] of s] sort sheep')\n",
    "energy_wolves = netlogo.report('[energy] of wolves') #NetLogo returns these in random order"
   ]
  },
  {
   "cell_type": "code",
   "execution_count": 159,
   "metadata": {
    "ExecuteTime": {
     "end_time": "2020-08-01T10:09:33.876327Z",
     "start_time": "2020-08-01T10:09:33.472732Z"
    },
    "slideshow": {
     "slide_type": "subslide"
    }
   },
   "outputs": [
    {
     "data": {
      "image/png": "[encoded data removed]",
      "text/plain": [
       "<Figure size 360x360 with 1 Axes>"
      ]
     },
     "metadata": {},
     "output_type": "display_data"
    }
   ],
   "source": [
    "fig, ax = plt.subplots(1)\n",
    "\n",
    "ax.scatter(x, y, s=4)\n",
    "ax.set_xlabel('xcor')\n",
    "ax.set_ylabel('ycor')\n",
    "ax.set_aspect('equal')\n",
    "fig.set_size_inches(5,5)\n",
    "\n",
    "plt.show()"
   ]
  },
  {
   "cell_type": "code",
   "execution_count": 160,
   "metadata": {
    "ExecuteTime": {
     "end_time": "2020-08-01T10:09:34.975640Z",
     "start_time": "2020-08-01T10:09:34.680617Z"
    },
    "slideshow": {
     "slide_type": "subslide"
    }
   },
   "outputs": [
    {
     "data": {
      "image/png": "[encoded data removed]",
      "text/plain": [
       "<Figure size 432x288 with 1 Axes>"
      ]
     },
     "metadata": {},
     "output_type": "display_data"
    }
   ],
   "source": [
    "plt.hist(energy_sheep, label='sheep')\n",
    "plt.hist(energy_wolves, label='wolf', alpha = 0.3)\n",
    "plt.xlabel('Energy')\n",
    "plt.ylabel('Counts')\n",
    "plt.legend()\n",
    "plt.show()"
   ]
  },
  {
   "cell_type": "code",
   "execution_count": 163,
   "metadata": {
    "ExecuteTime": {
     "end_time": "2020-08-01T10:10:05.181396Z",
     "start_time": "2020-08-01T10:10:04.601333Z"
    },
    "code_folding": [
     0
    ],
    "slideshow": {
     "slide_type": "subslide"
    }
   },
   "outputs": [
    {
     "data": {
      "image/png": "[encoded data removed]",
      "text/plain": [
       "<Figure size 1008x360 with 3 Axes>"
      ]
     },
     "metadata": {},
     "output_type": "display_data"
    }
   ],
   "source": [
    "# plot\n",
    "from mpl_toolkits.axes_grid1 import make_axes_locatable\n",
    "\n",
    "fig, ax = plt.subplots(1, 2)\n",
    "\n",
    "sc = ax[0].scatter(x, y, s=50, c=energy_sheep, cmap=plt.cm.coolwarm)\n",
    "ax[0].set_xlabel('xcor')\n",
    "ax[0].set_ylabel('ycor')\n",
    "ax[0].set_aspect('equal')\n",
    "divider = make_axes_locatable(ax[0])\n",
    "cax = divider.append_axes('right', size='5%', pad=0.1)\n",
    "cbar = plt.colorbar(sc, cax=cax, orientation='vertical')\n",
    "cbar.set_label('Energy of sheep')\n",
    "\n",
    "sns.distplot(energy_sheep, kde=False, bins=10, ax=ax[1], label='Sheep')\n",
    "sns.distplot(energy_wolves, kde=False, bins=10, ax=ax[1], label='Wolves')\n",
    "ax[1].set_xlabel('Energy')\n",
    "ax[1].set_ylabel('Counts')\n",
    "ax[1].legend()\n",
    "fig.set_size_inches(14,5)\n",
    "\n",
    "plt.show()"
   ]
  },
  {
   "cell_type": "code",
   "execution_count": 161,
   "metadata": {
    "ExecuteTime": {
     "end_time": "2020-08-01T10:09:37.608589Z",
     "start_time": "2020-08-01T10:09:37.418317Z"
    },
    "slideshow": {
     "slide_type": "subslide"
    }
   },
   "outputs": [],
   "source": [
    "counts = netlogo.repeat_report(['count wolves','count sheep'], 200, go='go')"
   ]
  },
  {
   "cell_type": "code",
   "execution_count": 162,
   "metadata": {
    "ExecuteTime": {
     "end_time": "2020-08-01T10:09:38.866827Z",
     "start_time": "2020-08-01T10:09:38.328515Z"
    },
    "slideshow": {
     "slide_type": "subslide"
    }
   },
   "outputs": [
    {
     "data": {
      "image/png": "[encoded data removed]",
      "text/plain": [
       "<Figure size 864x360 with 2 Axes>"
      ]
     },
     "metadata": {},
     "output_type": "display_data"
    }
   ],
   "source": [
    "fig, (ax1, ax2) = plt.subplots(1, 2)\n",
    "\n",
    "counts.plot(ax=ax1, use_index=True, legend=True)\n",
    "ax1.set_xlabel('Ticks')\n",
    "ax1.set_ylabel('Counts')\n",
    "\n",
    "ax2.plot(counts['count wolves'], counts['count sheep'])\n",
    "ax2.set_xlabel('Wolves')\n",
    "ax2.set_ylabel('Sheep')\n",
    "fig.set_size_inches(12,5)\n",
    "plt.tight_layout()\n",
    "plt.show()"
   ]
  },
  {
   "cell_type": "code",
   "execution_count": 164,
   "metadata": {
    "ExecuteTime": {
     "end_time": "2020-08-01T10:10:36.185852Z",
     "start_time": "2020-08-01T10:10:35.827485Z"
    },
    "slideshow": {
     "slide_type": "subslide"
    }
   },
   "outputs": [
    {
     "data": {
      "image/png": "[encoded data removed]",
      "text/plain": [
       "<Figure size 288x288 with 1 Axes>"
      ]
     },
     "metadata": {},
     "output_type": "display_data"
    }
   ],
   "source": [
    "energy_df = netlogo.repeat_report(['[energy] of wolves',\n",
    "                                   '[energy] of sheep',\n",
    "                                   '[sheep_str] of sheep',\n",
    "                                   'count sheep',\n",
    "                                   'glob_str'], 5)\n",
    "\n",
    "fig, ax = plt.subplots(1)\n",
    "\n",
    "sns.distplot(energy_df['[energy] of wolves'].iloc[-1], kde=False, bins=20, ax=ax)\n",
    "ax.set_xlabel('Energy')\n",
    "ax.set_ylabel('Counts')\n",
    "fig.set_size_inches(4,4)\n",
    "\n",
    "plt.show()\n"
   ]
  },
  {
   "cell_type": "code",
   "execution_count": 165,
   "metadata": {
    "ExecuteTime": {
     "end_time": "2020-08-01T10:10:49.295188Z",
     "start_time": "2020-08-01T10:10:49.265373Z"
    },
    "slideshow": {
     "slide_type": "subslide"
    }
   },
   "outputs": [
    {
     "data": {
      "text/html": [
       "<div>\n",
       "<style scoped>\n",
       "    .dataframe tbody tr th:only-of-type {\n",
       "        vertical-align: middle;\n",
       "    }\n",
       "\n",
       "    .dataframe tbody tr th {\n",
       "        vertical-align: top;\n",
       "    }\n",
       "\n",
       "    .dataframe thead th {\n",
       "        text-align: right;\n",
       "    }\n",
       "</style>\n",
       "<table border=\"1\" class=\"dataframe\">\n",
       "  <thead>\n",
       "    <tr style=\"text-align: right;\">\n",
       "      <th></th>\n",
       "      <th>[energy] of wolves</th>\n",
       "      <th>[energy] of sheep</th>\n",
       "      <th>[sheep_str] of sheep</th>\n",
       "      <th>count sheep</th>\n",
       "      <th>glob_str</th>\n",
       "    </tr>\n",
       "  </thead>\n",
       "  <tbody>\n",
       "    <tr>\n",
       "      <th>300.0</th>\n",
       "      <td>[13.464951265603304, 0.25043006241321564, 1.25...</td>\n",
       "      <td>[12.1265869140625, 6.882669448852539, 33.50634...</td>\n",
       "      <td>[sheep, sheep, sheep, sheep, sheep, sheep, she...</td>\n",
       "      <td>83</td>\n",
       "      <td>global</td>\n",
       "    </tr>\n",
       "    <tr>\n",
       "      <th>301.0</th>\n",
       "      <td>[1.296982515603304, 8.921803534030914, 3.47632...</td>\n",
       "      <td>[81.74761962890625, 5.4413347244262695, 2.5640...</td>\n",
       "      <td>[sheep, sheep, sheep, sheep, sheep, sheep, she...</td>\n",
       "      <td>82</td>\n",
       "      <td>global</td>\n",
       "    </tr>\n",
       "    <tr>\n",
       "      <th>302.0</th>\n",
       "      <td>[5.567893981933594, 7.921803534030914, 3.49313...</td>\n",
       "      <td>[36.934654235839844, 48.44219970703125, 19.024...</td>\n",
       "      <td>[sheep, sheep, sheep, sheep, sheep, sheep, she...</td>\n",
       "      <td>83</td>\n",
       "      <td>global</td>\n",
       "    </tr>\n",
       "    <tr>\n",
       "      <th>303.0</th>\n",
       "      <td>[33.24313485994935, 10.464951265603304, 15.500...</td>\n",
       "      <td>[24.0601806640625, 31.04644775390625, 17.94329...</td>\n",
       "      <td>[sheep, sheep, sheep, sheep, sheep, sheep, she...</td>\n",
       "      <td>84</td>\n",
       "      <td>global</td>\n",
       "    </tr>\n",
       "    <tr>\n",
       "      <th>304.0</th>\n",
       "      <td>[23.246567429974675, 8.24313485994935, 13.2816...</td>\n",
       "      <td>[24.1265869140625, 56.934654235839844, 27.4686...</td>\n",
       "      <td>[sheep, sheep, sheep, sheep, sheep, sheep, she...</td>\n",
       "      <td>80</td>\n",
       "      <td>global</td>\n",
       "    </tr>\n",
       "  </tbody>\n",
       "</table>\n",
       "</div>"
      ],
      "text/plain": [
       "                                      [energy] of wolves  \\\n",
       "300.0  [13.464951265603304, 0.25043006241321564, 1.25...   \n",
       "301.0  [1.296982515603304, 8.921803534030914, 3.47632...   \n",
       "302.0  [5.567893981933594, 7.921803534030914, 3.49313...   \n",
       "303.0  [33.24313485994935, 10.464951265603304, 15.500...   \n",
       "304.0  [23.246567429974675, 8.24313485994935, 13.2816...   \n",
       "\n",
       "                                       [energy] of sheep  \\\n",
       "300.0  [12.1265869140625, 6.882669448852539, 33.50634...   \n",
       "301.0  [81.74761962890625, 5.4413347244262695, 2.5640...   \n",
       "302.0  [36.934654235839844, 48.44219970703125, 19.024...   \n",
       "303.0  [24.0601806640625, 31.04644775390625, 17.94329...   \n",
       "304.0  [24.1265869140625, 56.934654235839844, 27.4686...   \n",
       "\n",
       "                                    [sheep_str] of sheep count sheep glob_str  \n",
       "300.0  [sheep, sheep, sheep, sheep, sheep, sheep, she...          83   global  \n",
       "301.0  [sheep, sheep, sheep, sheep, sheep, sheep, she...          82   global  \n",
       "302.0  [sheep, sheep, sheep, sheep, sheep, sheep, she...          83   global  \n",
       "303.0  [sheep, sheep, sheep, sheep, sheep, sheep, she...          84   global  \n",
       "304.0  [sheep, sheep, sheep, sheep, sheep, sheep, she...          80   global  "
      ]
     },
     "execution_count": 165,
     "metadata": {},
     "output_type": "execute_result"
    }
   ],
   "source": [
    "energy_df.head()\n"
   ]
  },
  {
   "cell_type": "code",
   "execution_count": 167,
   "metadata": {
    "ExecuteTime": {
     "end_time": "2020-08-01T10:11:56.352004Z",
     "start_time": "2020-08-01T10:11:56.320477Z"
    },
    "slideshow": {
     "slide_type": "skip"
    }
   },
   "outputs": [
    {
     "ename": "AttributeError",
     "evalue": "'DataFrame' object has no attribute 'ix'",
     "output_type": "error",
     "traceback": [
      "\u001b[0;31m---------------------------------------------------------------------------\u001b[0m",
      "\u001b[0;31mAttributeError\u001b[0m                            Traceback (most recent call last)",
      "\u001b[0;32m<ipython-input-167-51403e25301f>\u001b[0m in \u001b[0;36m<module>\u001b[0;34m\u001b[0m\n\u001b[0;32m----> 1\u001b[0;31m \u001b[0mcountdown_df\u001b[0m \u001b[0;34m=\u001b[0m \u001b[0mnetlogo\u001b[0m\u001b[0;34m.\u001b[0m\u001b[0mpatch_report\u001b[0m\u001b[0;34m(\u001b[0m\u001b[0;34m'countdown'\u001b[0m\u001b[0;34m)\u001b[0m\u001b[0;34m\u001b[0m\u001b[0;34m\u001b[0m\u001b[0m\n\u001b[0m\u001b[1;32m      2\u001b[0m \u001b[0;34m\u001b[0m\u001b[0m\n\u001b[1;32m      3\u001b[0m \u001b[0mfig\u001b[0m\u001b[0;34m,\u001b[0m \u001b[0max\u001b[0m \u001b[0;34m=\u001b[0m \u001b[0mplt\u001b[0m\u001b[0;34m.\u001b[0m\u001b[0msubplots\u001b[0m\u001b[0;34m(\u001b[0m\u001b[0;36m1\u001b[0m\u001b[0;34m)\u001b[0m\u001b[0;34m\u001b[0m\u001b[0;34m\u001b[0m\u001b[0m\n\u001b[1;32m      4\u001b[0m \u001b[0;34m\u001b[0m\u001b[0m\n\u001b[1;32m      5\u001b[0m patches = sns.heatmap(countdown_df, xticklabels=5, yticklabels=5,\n",
      "\u001b[0;32m/opt/anaconda3/lib/python3.7/site-packages/pyNetLogo/core.py\u001b[0m in \u001b[0;36mpatch_report\u001b[0;34m(self, attribute)\u001b[0m\n\u001b[1;32m    433\u001b[0m                                                sort patches'.format(attribute))    \n\u001b[1;32m    434\u001b[0m             \u001b[0mresultsvec\u001b[0m \u001b[0;34m=\u001b[0m \u001b[0mself\u001b[0m\u001b[0;34m.\u001b[0m\u001b[0m_cast_results\u001b[0m\u001b[0;34m(\u001b[0m\u001b[0mresultsvec\u001b[0m\u001b[0;34m)\u001b[0m\u001b[0;34m\u001b[0m\u001b[0;34m\u001b[0m\u001b[0m\n\u001b[0;32m--> 435\u001b[0;31m             \u001b[0mresults_df\u001b[0m\u001b[0;34m.\u001b[0m\u001b[0mix\u001b[0m\u001b[0;34m[\u001b[0m\u001b[0;34m:\u001b[0m\u001b[0;34m,\u001b[0m \u001b[0;34m:\u001b[0m\u001b[0;34m]\u001b[0m \u001b[0;34m=\u001b[0m \u001b[0mresultsvec\u001b[0m\u001b[0;34m.\u001b[0m\u001b[0mreshape\u001b[0m\u001b[0;34m(\u001b[0m\u001b[0mresults_df\u001b[0m\u001b[0;34m.\u001b[0m\u001b[0mshape\u001b[0m\u001b[0;34m)\u001b[0m\u001b[0;34m\u001b[0m\u001b[0;34m\u001b[0m\u001b[0m\n\u001b[0m\u001b[1;32m    436\u001b[0m \u001b[0;34m\u001b[0m\u001b[0m\n\u001b[1;32m    437\u001b[0m             \u001b[0;32mreturn\u001b[0m \u001b[0mresults_df\u001b[0m\u001b[0;34m\u001b[0m\u001b[0;34m\u001b[0m\u001b[0m\n",
      "\u001b[0;32m/opt/anaconda3/lib/python3.7/site-packages/pandas/core/generic.py\u001b[0m in \u001b[0;36m__getattr__\u001b[0;34m(self, name)\u001b[0m\n\u001b[1;32m   5272\u001b[0m             \u001b[0;32mif\u001b[0m \u001b[0mself\u001b[0m\u001b[0;34m.\u001b[0m\u001b[0m_info_axis\u001b[0m\u001b[0;34m.\u001b[0m\u001b[0m_can_hold_identifiers_and_holds_name\u001b[0m\u001b[0;34m(\u001b[0m\u001b[0mname\u001b[0m\u001b[0;34m)\u001b[0m\u001b[0;34m:\u001b[0m\u001b[0;34m\u001b[0m\u001b[0;34m\u001b[0m\u001b[0m\n\u001b[1;32m   5273\u001b[0m                 \u001b[0;32mreturn\u001b[0m \u001b[0mself\u001b[0m\u001b[0;34m[\u001b[0m\u001b[0mname\u001b[0m\u001b[0;34m]\u001b[0m\u001b[0;34m\u001b[0m\u001b[0;34m\u001b[0m\u001b[0m\n\u001b[0;32m-> 5274\u001b[0;31m             \u001b[0;32mreturn\u001b[0m \u001b[0mobject\u001b[0m\u001b[0;34m.\u001b[0m\u001b[0m__getattribute__\u001b[0m\u001b[0;34m(\u001b[0m\u001b[0mself\u001b[0m\u001b[0;34m,\u001b[0m \u001b[0mname\u001b[0m\u001b[0;34m)\u001b[0m\u001b[0;34m\u001b[0m\u001b[0;34m\u001b[0m\u001b[0m\n\u001b[0m\u001b[1;32m   5275\u001b[0m \u001b[0;34m\u001b[0m\u001b[0m\n\u001b[1;32m   5276\u001b[0m     \u001b[0;32mdef\u001b[0m \u001b[0m__setattr__\u001b[0m\u001b[0;34m(\u001b[0m\u001b[0mself\u001b[0m\u001b[0;34m,\u001b[0m \u001b[0mname\u001b[0m\u001b[0;34m:\u001b[0m \u001b[0mstr\u001b[0m\u001b[0;34m,\u001b[0m \u001b[0mvalue\u001b[0m\u001b[0;34m)\u001b[0m \u001b[0;34m->\u001b[0m \u001b[0;32mNone\u001b[0m\u001b[0;34m:\u001b[0m\u001b[0;34m\u001b[0m\u001b[0;34m\u001b[0m\u001b[0m\n",
      "\u001b[0;31mAttributeError\u001b[0m: 'DataFrame' object has no attribute 'ix'"
     ]
    }
   ],
   "source": [
    "countdown_df = netlogo.patch_report('countdown')\n",
    "\n",
    "fig, ax = plt.subplots(1)\n",
    "\n",
    "patches = sns.heatmap(countdown_df, xticklabels=5, yticklabels=5,\n",
    "                      cbar_kws={'label':'countdown'}, ax=ax)\n",
    "ax.set_xlabel('pxcor')\n",
    "ax.set_ylabel('pycor')\n",
    "ax.set_aspect('equal')\n",
    "fig.set_size_inches(8,4)\n",
    "\n",
    "plt.show()"
   ]
  },
  {
   "cell_type": "code",
   "execution_count": 79,
   "metadata": {
    "ExecuteTime": {
     "end_time": "2020-08-01T09:43:27.756062Z",
     "start_time": "2020-08-01T09:43:27.661269Z"
    },
    "slideshow": {
     "slide_type": "subslide"
    }
   },
   "outputs": [],
   "source": [
    "netlogo.kill_workspace()"
   ]
  },
  {
   "attachments": {},
   "cell_type": "markdown",
   "metadata": {
    "slideshow": {
     "slide_type": "slide"
    }
   },
   "source": [
    "![image.png](./img/abm35.png)"
   ]
  },
  {
   "attachments": {},
   "cell_type": "markdown",
   "metadata": {
    "slideshow": {
     "slide_type": "subslide"
    }
   },
   "source": [
    "![image.png](./img/chengjun2.png)"
   ]
  }
 ],
 "metadata": {
  "celltoolbar": "幻灯片",
  "kernelspec": {
   "display_name": "Python 3",
   "language": "python",
   "name": "python3"
  },
  "language_info": {
   "codemirror_mode": {
    "name": "ipython",
    "version": 3
   },
   "file_extension": ".py",
   "mimetype": "text/x-python",
   "name": "python",
   "nbconvert_exporter": "python",
   "pygments_lexer": "ipython3",
   "version": "3.7.6"
  },
  "toc": {
   "base_numbering": 1,
   "nav_menu": {},
   "number_sections": false,
   "sideBar": true,
   "skip_h1_title": false,
   "title_cell": "Table of Contents",
   "title_sidebar": "Contents",
   "toc_cell": false,
   "toc_position": {
    "height": "calc(100% - 180px)",
    "left": "10px",
    "top": "150px",
    "width": "203px"
   },
   "toc_section_display": true,
   "toc_window_display": false
  }
 },
 "nbformat": 4,
 "nbformat_minor": 4
}
