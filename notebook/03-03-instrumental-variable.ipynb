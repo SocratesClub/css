{
 "cells": [
  {
   "attachments": {},
   "cell_type": "markdown",
   "metadata": {
    "slideshow": {
     "slide_type": "slide"
    }
   },
   "source": [
    "---\n",
    "---\n",
    "# Applying the Instrumental Variable Method with Stata\n",
    "---\n",
    "---\n",
    "\n",
    "![image.png](img/chengjun.png)\n"
   ]
  },
  {
   "attachments": {},
   "cell_type": "markdown",
   "metadata": {
    "slideshow": {
     "slide_type": "subslide"
    }
   },
   "source": [
    "![image.png](img/c9.png)\n",
    "\n",
    "$$Z\\rightarrow X \\rightarrow Y$$\n",
    "\n",
    "- Z与X相关， $cov(Z, X) \\not= 0$\n",
    "- Z与$\\epsilon$不相关， $cov(Z, \\epsilon) = 0$"
   ]
  },
  {
   "cell_type": "markdown",
   "metadata": {
    "slideshow": {
     "slide_type": "subslide"
    }
   },
   "source": [
    "The first stage regression:\n",
    "\n",
    "$$X_i = \\alpha_1 + \\phi_1*Z_i + \\epsilon_{1i}    \\space \\space \\space \\space (1) $$\n",
    "\n",
    "The reduced form links instrument and outcomes:\n",
    "\n",
    "$$Y_i = \\alpha_0 + \\rho_0*X_i + \\epsilon_{0i}   $$  \n",
    "\n",
    "The 2SLS second stage is the regression of outcomes $Y_i$ on first-stage fitted values $\\hat{X}_i$:\n",
    "\n",
    "$$Y_i = \\alpha_2 + \\lambda \\hat{X}_i + \\epsilon_{2i}   \\space \\space \\space \\space (2)$$"
   ]
  },
  {
   "cell_type": "markdown",
   "metadata": {
    "slideshow": {
     "slide_type": "subslide"
    }
   },
   "source": [
    "$$\\lambda = \\frac{\\rho}{\\phi} = \\frac{C(Y_i, Z_i)/V(Z_i)}{C(X_i, Z_i)/V(Z_i)} = \\frac{C(Y_i, Z_i)}{C(X_i, Z_i)} $$"
   ]
  },
  {
   "cell_type": "markdown",
   "metadata": {
    "slideshow": {
     "slide_type": "subslide"
    }
   },
   "source": [
    "Mincer (1958) studied the impact of education on salary, but omitted the variable of capability.\n",
    "\n",
    "Griliches (1796) solve this problem using the instrumental variable method.\n",
    "\n",
    "```stata\n",
    "* 2sls iv regression\n",
    "ivregress 2sls wages union (education = meducation feducation)\n",
    "\n",
    "* 检验工具变量是外生变量\n",
    "estat overid\n",
    "* 弱相关检验\n",
    "estat firststage\n",
    "* 检验因变量是否内生\n",
    "estat endog\n",
    "```\n",
    "\n",
    "\n",
    "陈强 (2014) 高级计量经济学及stata应用（第二版）.高等教育出版社.PP153-167."
   ]
  },
  {
   "cell_type": "code",
   "execution_count": 1,
   "metadata": {
    "ExecuteTime": {
     "end_time": "2020-08-07T15:55:19.209847Z",
     "start_time": "2020-08-07T15:55:19.183494Z"
    },
    "slideshow": {
     "slide_type": "subslide"
    }
   },
   "outputs": [
    {
     "name": "stdout",
     "output_type": "stream",
     "text": [
      "\n",
      "/Users/datalab/github/css/data\n",
      "\n"
     ]
    }
   ],
   "source": [
    "cd \"/Users/datalab/github/css/data/\" \n",
    "use grilic.dta, clear"
   ]
  },
  {
   "cell_type": "code",
   "execution_count": 2,
   "metadata": {
    "ExecuteTime": {
     "end_time": "2020-08-07T15:55:20.687535Z",
     "start_time": "2020-08-07T15:55:20.659980Z"
    },
    "slideshow": {
     "slide_type": "subslide"
    }
   },
   "outputs": [
    {
     "name": "stdout",
     "output_type": "stream",
     "text": [
      "\n",
      "Contains data from grilic.dta\n",
      "  obs:           758                          \n",
      " vars:            12                          1 Feb 2016 09:25\n",
      " size:        16,676                          \n",
      "--------------------------------------------------------------------------------\n",
      "              storage   display    value\n",
      "variable name   type    format     label      variable label\n",
      "--------------------------------------------------------------------------------\n",
      "rns             byte    %8.0g                 south = 1\n",
      "mrt             byte    %8.0g                 married = 1\n",
      "smsa            byte    %8.0g                 big cities =1\n",
      "med             byte    %8.0g                 mother's education\n",
      "iq              int     %8.0g                 IQ\n",
      "kww             byte    %8.0g                 KWW\n",
      "age             byte    %8.0g                 age\n",
      "s               byte    %8.0g                 schooling\n",
      "expr            float   %9.0g                 experience\n",
      "tenure          byte    %8.0g                 tenure\n",
      "lnw             float   %9.0g                 ln(wage)\n",
      "wage            float   %9.0g                 wage\n",
      "--------------------------------------------------------------------------------\n",
      "Sorted by: \n"
     ]
    }
   ],
   "source": [
    "describe"
   ]
  },
  {
   "cell_type": "code",
   "execution_count": 3,
   "metadata": {
    "ExecuteTime": {
     "end_time": "2020-08-07T15:55:27.038020Z",
     "start_time": "2020-08-07T15:55:27.012417Z"
    },
    "slideshow": {
     "slide_type": "subslide"
    }
   },
   "outputs": [
    {
     "name": "stdout",
     "output_type": "stream",
     "text": [
      "\n",
      "    Variable |        Obs        Mean    Std. Dev.       Min        Max\n",
      "-------------+---------------------------------------------------------\n",
      "         rns |        758    .2691293    .4438001          0          1\n",
      "         mrt |        758    .5145119    .5001194          0          1\n",
      "        smsa |        758    .7044855     .456575          0          1\n",
      "         med |        758    10.91029     2.74112          0         18\n",
      "          iq |        758    103.8562    13.61867         54        145\n",
      "-------------+---------------------------------------------------------\n",
      "         kww |        758    36.57388    7.302247         12         56\n",
      "         age |        758    21.83509    2.981756         16         30\n",
      "           s |        758    13.40501    2.231828          9         18\n",
      "        expr |        758    1.735429    2.105542          0     11.444\n",
      "      tenure |        758    1.831135     1.67363          0         10\n",
      "-------------+---------------------------------------------------------\n",
      "         lnw |        758    5.686739    .4289494      4.605      7.051\n",
      "        wage |        758    323.9161    148.6858   99.98299   1154.012\n"
     ]
    }
   ],
   "source": [
    "sum"
   ]
  },
  {
   "cell_type": "code",
   "execution_count": 4,
   "metadata": {
    "ExecuteTime": {
     "end_time": "2020-08-07T15:55:28.357846Z",
     "start_time": "2020-08-07T15:55:28.331661Z"
    },
    "slideshow": {
     "slide_type": "subslide"
    }
   },
   "outputs": [
    {
     "name": "stdout",
     "output_type": "stream",
     "text": [
      "\n",
      "             |       iq        s\n",
      "-------------+------------------\n",
      "          iq |   1.0000 \n",
      "             |\n",
      "             |\n",
      "           s |   0.5131   1.0000 \n",
      "             |   0.0000\n",
      "             |\n"
     ]
    }
   ],
   "source": [
    "* correlation between iq and education\n",
    "pwcorr iq s, sig"
   ]
  },
  {
   "cell_type": "code",
   "execution_count": 5,
   "metadata": {
    "ExecuteTime": {
     "end_time": "2020-04-11T07:56:08.643353Z",
     "start_time": "2020-04-11T07:56:08.572236Z"
    },
    "slideshow": {
     "slide_type": "subslide"
    }
   },
   "outputs": [
    {
     "name": "stdout",
     "output_type": "stream",
     "text": [
      "\n",
      "Linear regression                               Number of obs     =        758\n",
      "                                                F(7, 750)         =      47.74\n",
      "                                                Prob > F          =     0.0000\n",
      "                                                R-squared         =     0.3066\n",
      "                                                Root MSE          =     11.393\n",
      "\n",
      "------------------------------------------------------------------------------\n",
      "             |               Robust\n",
      "          iq |      Coef.   Std. Err.      t    P>|t|     [95% Conf. Interval]\n",
      "-------------+----------------------------------------------------------------\n",
      "           s |   2.467021   .2327755    10.60   0.000     2.010052     2.92399\n",
      "         med |   .3470133   .1681356     2.06   0.039     .0169409    .6770857\n",
      "         kww |   .3081811   .0646794     4.76   0.000     .1812068    .4351553\n",
      "        expr |  -.4501353   .2391647    -1.88   0.060    -.9196471    .0193766\n",
      "      tenure |   .2059531    .269562     0.76   0.445    -.3232327    .7351388\n",
      "         rns |  -2.689831   .8921335    -3.02   0.003    -4.441207    -.938455\n",
      "        smsa |   .2627416   .9465309     0.28   0.781    -1.595424    2.120907\n",
      "       _cons |   56.67122   3.076955    18.42   0.000     50.63075    62.71169\n",
      "------------------------------------------------------------------------------\n"
     ]
    }
   ],
   "source": [
    "reg iq s med kww expr tenure rns smsa, r"
   ]
  },
  {
   "cell_type": "code",
   "execution_count": 6,
   "metadata": {
    "ExecuteTime": {
     "end_time": "2020-04-11T07:56:10.947076Z",
     "start_time": "2020-04-11T07:56:10.925038Z"
    },
    "slideshow": {
     "slide_type": "subslide"
    }
   },
   "outputs": [
    {
     "name": "stdout",
     "output_type": "stream",
     "text": [
      "(option xb assumed; fitted values)\n"
     ]
    }
   ],
   "source": [
    "predict iq_hat"
   ]
  },
  {
   "cell_type": "code",
   "execution_count": 12,
   "metadata": {
    "ExecuteTime": {
     "end_time": "2020-04-11T08:04:21.606661Z",
     "start_time": "2020-04-11T08:04:21.570217Z"
    },
    "slideshow": {
     "slide_type": "subslide"
    }
   },
   "outputs": [
    {
     "name": "stdout",
     "output_type": "stream",
     "text": [
      "\n",
      "Linear regression                               Number of obs     =        758\n",
      "                                                F(6, 751)         =      71.38\n",
      "                                                Prob > F          =     0.0000\n",
      "                                                R-squared         =     0.3575\n",
      "                                                Root MSE          =     .34519\n",
      "\n",
      "------------------------------------------------------------------------------\n",
      "             |               Robust\n",
      "         lnw |      Coef.   Std. Err.      t    P>|t|     [95% Conf. Interval]\n",
      "-------------+----------------------------------------------------------------\n",
      "      iq_hat |   .0139284   .0058153     2.40   0.017     .0025123    .0253446\n",
      "           s |   .0607803    .018068     3.36   0.001     .0253106    .0962501\n",
      "        expr |   .0433237   .0068103     6.36   0.000     .0299542    .0566932\n",
      "      tenure |   .0296442   .0083202     3.56   0.000     .0133106    .0459778\n",
      "         rns |  -.0435271    .033056    -1.32   0.188    -.1084202     .021366\n",
      "        smsa |   .1272224   .0287088     4.43   0.000     .0708634    .1835814\n",
      "       _cons |   3.218043   .3840714     8.38   0.000     2.464062    3.972024\n",
      "------------------------------------------------------------------------------\n"
     ]
    }
   ],
   "source": [
    "reg lnw iq_hat s expr tenure rns smsa, r"
   ]
  },
  {
   "cell_type": "code",
   "execution_count": 8,
   "metadata": {
    "ExecuteTime": {
     "end_time": "2020-04-11T07:56:32.423965Z",
     "start_time": "2020-04-11T07:56:32.325532Z"
    },
    "slideshow": {
     "slide_type": "subslide"
    }
   },
   "outputs": [
    {
     "name": "stdout",
     "output_type": "stream",
     "text": [
      "\n",
      "First-stage regressions\n",
      "-----------------------\n",
      "\n",
      "                                                Number of obs     =        758\n",
      "                                                F(   7,    750)   =      47.74\n",
      "                                                Prob > F          =     0.0000\n",
      "                                                R-squared         =     0.3066\n",
      "                                                Adj R-squared     =     0.3001\n",
      "                                                Root MSE          =    11.3931\n",
      "\n",
      "------------------------------------------------------------------------------\n",
      "             |               Robust\n",
      "          iq |      Coef.   Std. Err.      t    P>|t|     [95% Conf. Interval]\n",
      "-------------+----------------------------------------------------------------\n",
      "           s |   2.467021   .2327755    10.60   0.000     2.010052     2.92399\n",
      "        expr |  -.4501353   .2391647    -1.88   0.060    -.9196471    .0193766\n",
      "      tenure |   .2059531    .269562     0.76   0.445    -.3232327    .7351388\n",
      "         rns |  -2.689831   .8921335    -3.02   0.003    -4.441207    -.938455\n",
      "        smsa |   .2627416   .9465309     0.28   0.781    -1.595424    2.120907\n",
      "         med |   .3470133   .1681356     2.06   0.039     .0169409    .6770857\n",
      "         kww |   .3081811   .0646794     4.76   0.000     .1812068    .4351553\n",
      "       _cons |   56.67122   3.076955    18.42   0.000     50.63075    62.71169\n",
      "------------------------------------------------------------------------------\n",
      "\n",
      "\n",
      "Instrumental variables (2SLS) regression          Number of obs   =        758\n",
      "                                                  Wald chi2(6)    =     370.04\n",
      "                                                  Prob > chi2     =     0.0000\n",
      "                                                  R-squared       =     0.2775\n",
      "                                                  Root MSE        =     .36436\n",
      "\n",
      "------------------------------------------------------------------------------\n",
      "             |               Robust\n",
      "         lnw |      Coef.   Std. Err.      z    P>|z|     [95% Conf. Interval]\n",
      "-------------+----------------------------------------------------------------\n",
      "          iq |   .0139284   .0060393     2.31   0.021     .0020916    .0257653\n",
      "           s |   .0607803   .0189505     3.21   0.001      .023638    .0979227\n",
      "        expr |   .0433237   .0074118     5.85   0.000     .0287968    .0578505\n",
      "      tenure |   .0296442    .008317     3.56   0.000     .0133432    .0459452\n",
      "         rns |  -.0435271   .0344779    -1.26   0.207    -.1111026    .0240483\n",
      "        smsa |   .1272224   .0297414     4.28   0.000     .0689303    .1855146\n",
      "       _cons |   3.218043   .3983683     8.08   0.000     2.437256    3.998831\n",
      "------------------------------------------------------------------------------\n",
      "Instrumented:  iq\n",
      "Instruments:   s expr tenure rns smsa med kww\n"
     ]
    }
   ],
   "source": [
    "ivregress 2sls lnw s expr tenure rns smsa (iq = med kww), r first"
   ]
  },
  {
   "cell_type": "code",
   "execution_count": 9,
   "metadata": {
    "ExecuteTime": {
     "end_time": "2020-04-11T07:57:58.097368Z",
     "start_time": "2020-04-11T07:57:58.045614Z"
    },
    "slideshow": {
     "slide_type": "subslide"
    }
   },
   "outputs": [
    {
     "name": "stdout",
     "output_type": "stream",
     "text": [
      "\n",
      "  Test of overidentifying restrictions:\n",
      "\n",
      "  Score chi2(1)          =  .151451  (p = 0.6972)\n"
     ]
    }
   ],
   "source": [
    "* 工具变量是外生变量的过度识别检验\n",
    "estat overid"
   ]
  },
  {
   "cell_type": "markdown",
   "metadata": {
    "slideshow": {
     "slide_type": "fragment"
    }
   },
   "source": [
    "p = 0.697，故接受原假设，认为iq为外生变量，与扰动项不相关。"
   ]
  },
  {
   "cell_type": "code",
   "execution_count": 10,
   "metadata": {
    "ExecuteTime": {
     "end_time": "2020-04-11T07:58:02.961817Z",
     "start_time": "2020-04-11T07:58:02.813939Z"
    },
    "slideshow": {
     "slide_type": "subslide"
    }
   },
   "outputs": [
    {
     "name": "stdout",
     "output_type": "stream",
     "text": [
      "\n",
      "\n",
      "\n",
      "  First-stage regression summary statistics\n",
      "  --------------------------------------------------------------------------\n",
      "               |            Adjusted      Partial\n",
      "      Variable |   R-sq.       R-sq.        R-sq.      F(2,750)   Prob > F\n",
      "  -------------+------------------------------------------------------------\n",
      "            iq |  0.3066      0.3001       0.0382       14.9058    0.0000\n",
      "  --------------------------------------------------------------------------\n",
      "\n",
      "\n",
      "  Minimum eigenvalue statistic = 14.9058     \n",
      "\n",
      "  Critical Values                      # of endogenous regressors:    1\n",
      "  Ho: Instruments are weak             # of excluded instruments:     2\n",
      "  ---------------------------------------------------------------------\n",
      "                                     |    5%     10%     20%     30%\n",
      "  2SLS relative bias                 |         (not available)\n",
      "  -----------------------------------+---------------------------------\n",
      "                                     |   10%     15%     20%     25%\n",
      "  2SLS Size of nominal 5% Wald test  |  19.93   11.59    8.75    7.25\n",
      "  LIML Size of nominal 5% Wald test  |   8.68    5.33    4.42    3.92\n",
      "  ---------------------------------------------------------------------\n",
      "\n"
     ]
    }
   ],
   "source": [
    "* 弱相关检验\n",
    "quietly ivregress 2sls lnw s expr tenure rns smsa (iq = med kww)\n",
    "estat firststage"
   ]
  },
  {
   "cell_type": "markdown",
   "metadata": {
    "slideshow": {
     "slide_type": "subslide"
    }
   },
   "source": [
    "F统计量为14.91， 超过10，故认为不存在弱工具变量"
   ]
  },
  {
   "cell_type": "code",
   "execution_count": 11,
   "metadata": {
    "ExecuteTime": {
     "end_time": "2020-04-11T07:58:06.258335Z",
     "start_time": "2020-04-11T07:58:06.213200Z"
    },
    "slideshow": {
     "slide_type": "subslide"
    }
   },
   "outputs": [
    {
     "name": "stdout",
     "output_type": "stream",
     "text": [
      "\n",
      "  Tests of endogeneity\n",
      "  Ho: variables are exogenous\n",
      "\n",
      "  Durbin (score) chi2(1)          =  3.87962  (p = 0.0489)\n",
      "  Wu-Hausman F(1,750)             =  3.85842  (p = 0.0499)\n"
     ]
    }
   ],
   "source": [
    "* 检验是否存在内生解释变量\n",
    "estat endog"
   ]
  },
  {
   "cell_type": "markdown",
   "metadata": {
    "slideshow": {
     "slide_type": "fragment"
    }
   },
   "source": [
    "P值小于0.05，故认为iq为内生解释变量"
   ]
  },
  {
   "attachments": {},
   "cell_type": "markdown",
   "metadata": {
    "slideshow": {
     "slide_type": "slide"
    }
   },
   "source": [
    "![image.png](img/chengjun2.png)"
   ]
  },
  {
   "cell_type": "code",
   "execution_count": 15,
   "metadata": {
    "ExecuteTime": {
     "end_time": "2020-04-07T09:26:05.795225Z",
     "start_time": "2020-04-07T09:26:05.673475Z"
    },
    "slideshow": {
     "slide_type": "subslide"
    }
   },
   "outputs": [
    {
     "name": "stdout",
     "output_type": "stream",
     "text": [
      "\n",
      "Instrumental variables (2SLS) regression          Number of obs   =        758\n",
      "                                                  Wald chi2(6)    =     355.73\n",
      "                                                  Prob > chi2     =     0.0000\n",
      "                                                  R-squared       =     0.2002\n",
      "                                                  Root MSE        =     .38336\n",
      "\n",
      "------------------------------------------------------------------------------\n",
      "             |               Robust\n",
      "         lnw |      Coef.   Std. Err.      z    P>|z|     [95% Conf. Interval]\n",
      "-------------+----------------------------------------------------------------\n",
      "          iq |  -.0115468   .0056376    -2.05   0.041    -.0225962   -.0004974\n",
      "           s |   .1373477   .0174989     7.85   0.000     .1030506    .1716449\n",
      "        expr |   .0338041   .0074844     4.52   0.000      .019135    .0484732\n",
      "      tenure |    .040564   .0095848     4.23   0.000     .0217781      .05935\n",
      "         rns |  -.1176984   .0359582    -3.27   0.001    -.1881751   -.0472216\n",
      "        smsa |    .149983   .0322276     4.65   0.000     .0868182    .2131479\n",
      "       _cons |   4.837875   .3799432    12.73   0.000       4.0932     5.58255\n",
      "------------------------------------------------------------------------------\n",
      "Instrumented:  iq\n",
      "Instruments:   s expr tenure rns smsa med kww mrt age\n"
     ]
    }
   ],
   "source": [
    "ivregress 2sls lnw s expr tenure rns smsa (iq = med kww mrt age), r"
   ]
  },
  {
   "cell_type": "code",
   "execution_count": 16,
   "metadata": {
    "ExecuteTime": {
     "end_time": "2020-04-07T09:26:44.108823Z",
     "start_time": "2020-04-07T09:26:44.039969Z"
    },
    "slideshow": {
     "slide_type": "subslide"
    }
   },
   "outputs": [
    {
     "name": "stdout",
     "output_type": "stream",
     "text": [
      "\n",
      "  Test of overidentifying restrictions:\n",
      "\n",
      "  Score chi2(3)          =  51.5449  (p = 0.0000)\n"
     ]
    }
   ],
   "source": [
    "estat overid"
   ]
  },
  {
   "cell_type": "code",
   "execution_count": 40,
   "metadata": {
    "ExecuteTime": {
     "end_time": "2020-04-07T10:35:28.048253Z",
     "start_time": "2020-04-07T10:29:49.773895Z"
    },
    "slideshow": {
     "slide_type": "subslide"
    }
   },
   "outputs": [
    {
     "name": "stdout",
     "output_type": "stream",
     "text": [
      "checking ivreg2 consistency and verifying not already installed...\n",
      "installing into /Users/datalab/Library/Application Support/Stata/ado/plus/...\n",
      "installation complete.\n"
     ]
    }
   ],
   "source": [
    "ssc install ivreg2, replace"
   ]
  },
  {
   "cell_type": "code",
   "execution_count": 43,
   "metadata": {
    "ExecuteTime": {
     "end_time": "2020-04-07T10:37:49.991441Z",
     "start_time": "2020-04-07T10:36:12.978476Z"
    },
    "slideshow": {
     "slide_type": "fragment"
    }
   },
   "outputs": [
    {
     "name": "stdout",
     "output_type": "stream",
     "text": [
      "checking ranktest consistency and verifying not already installed...\n",
      "installing into /Users/datalab/Library/Application Support/Stata/ado/plus/...\n",
      "installation complete.\n"
     ]
    }
   ],
   "source": [
    "ssc install ranktest, replace"
   ]
  },
  {
   "cell_type": "code",
   "execution_count": 45,
   "metadata": {
    "ExecuteTime": {
     "end_time": "2020-04-07T10:38:05.287097Z",
     "start_time": "2020-04-07T10:38:05.155926Z"
    },
    "slideshow": {
     "slide_type": "subslide"
    }
   },
   "outputs": [
    {
     "name": "stdout",
     "output_type": "stream",
     "text": [
      "\n",
      "IV (2SLS) estimation\n",
      "--------------------\n",
      "\n",
      "Estimates efficient for homoskedasticity only\n",
      "Statistics robust to heteroskedasticity\n",
      "\n",
      "                                                      Number of obs =      758\n",
      "                                                      F(  6,   751) =    58.74\n",
      "                                                      Prob > F      =   0.0000\n",
      "Total (centered) SS     =  139.2861498                Centered R2   =   0.2002\n",
      "Total (uncentered) SS   =  24652.24662                Uncentered R2 =   0.9955\n",
      "Residual SS             =    111.39959                Root MSE      =    .3834\n",
      "\n",
      "------------------------------------------------------------------------------\n",
      "             |               Robust\n",
      "         lnw |      Coef.   Std. Err.      z    P>|z|     [95% Conf. Interval]\n",
      "-------------+----------------------------------------------------------------\n",
      "          iq |  -.0115468   .0056376    -2.05   0.041    -.0225962   -.0004974\n",
      "           s |   .1373477   .0174989     7.85   0.000     .1030506    .1716449\n",
      "        expr |   .0338041   .0074844     4.52   0.000      .019135    .0484732\n",
      "      tenure |    .040564   .0095848     4.23   0.000     .0217781      .05935\n",
      "         rns |  -.1176984   .0359582    -3.27   0.001    -.1881751   -.0472216\n",
      "        smsa |    .149983   .0322276     4.65   0.000     .0868182    .2131479\n",
      "       _cons |   4.837875   .3799432    12.73   0.000       4.0932     5.58255\n",
      "------------------------------------------------------------------------------\n",
      "Underidentification test (Kleibergen-Paap rk LM statistic):             33.294\n",
      "                                                   Chi-sq(4) P-val =    0.0000\n",
      "------------------------------------------------------------------------------\n",
      "Weak identification test (Cragg-Donald Wald F statistic):               10.538\n",
      "                         (Kleibergen-Paap rk Wald F statistic):          9.585\n",
      "Stock-Yogo weak ID test critical values:  5% maximal IV relative bias    16.85\n",
      "                                         10% maximal IV relative bias    10.27\n",
      "                                         20% maximal IV relative bias     6.71\n",
      "                                         30% maximal IV relative bias     5.34\n",
      "                                         10% maximal IV size             24.58\n",
      "                                         15% maximal IV size             13.96\n",
      "                                         20% maximal IV size             10.26\n",
      "                                         25% maximal IV size              8.31\n",
      "Source: Stock-Yogo (2005).  Reproduced by permission.\n",
      "NB: Critical values are for Cragg-Donald F statistic and i.i.d. errors.\n",
      "------------------------------------------------------------------------------\n",
      "Hansen J statistic (overidentification test of all instruments):        51.545\n",
      "                                                   Chi-sq(3) P-val =    0.0000\n",
      "------------------------------------------------------------------------------\n",
      "Instrumented:         iq\n",
      "Included instruments: s expr tenure rns smsa\n",
      "Excluded instruments: med kww mrt age\n",
      "------------------------------------------------------------------------------\n"
     ]
    }
   ],
   "source": [
    "* https://fmwww.bc.edu/RePEc/bocode/i/ivreg2.ado\n",
    "ivreg2 lnw s expr tenure rns smsa (iq = med kww mrt age), r"
   ]
  },
  {
   "cell_type": "code",
   "execution_count": 25,
   "metadata": {
    "ExecuteTime": {
     "end_time": "2020-04-07T09:39:08.104830Z",
     "start_time": "2020-04-07T09:39:08.043676Z"
    },
    "slideshow": {
     "slide_type": "subslide"
    }
   },
   "outputs": [
    {
     "name": "stdout",
     "output_type": "stream",
     "text": [
      "\n",
      "Instrumental variables (2SLS) regression          Number of obs   =        758\n",
      "                                                  Wald chi2(6)    =     370.04\n",
      "                                                  Prob > chi2     =     0.0000\n",
      "                                                  R-squared       =     0.2775\n",
      "                                                  Root MSE        =     .36436\n",
      "\n",
      "------------------------------------------------------------------------------\n",
      "             |               Robust\n",
      "         lnw |      Coef.   Std. Err.      z    P>|z|     [95% Conf. Interval]\n",
      "-------------+----------------------------------------------------------------\n",
      "          iq |   .0139284   .0060393     2.31   0.021     .0020916    .0257653\n",
      "           s |   .0607803   .0189505     3.21   0.001      .023638    .0979227\n",
      "        expr |   .0433237   .0074118     5.85   0.000     .0287968    .0578505\n",
      "      tenure |   .0296442    .008317     3.56   0.000     .0133432    .0459452\n",
      "         rns |  -.0435271   .0344779    -1.26   0.207    -.1111026    .0240483\n",
      "        smsa |   .1272224   .0297414     4.28   0.000     .0689303    .1855146\n",
      "       _cons |   3.218043   .3983683     8.08   0.000     2.437256    3.998831\n",
      "------------------------------------------------------------------------------\n",
      "Instrumented:  iq\n",
      "Instruments:   s expr tenure rns smsa med kww\n"
     ]
    }
   ],
   "source": [
    "ivregress 2sls lnw s expr tenure rns smsa (iq = med kww), r"
   ]
  },
  {
   "cell_type": "code",
   "execution_count": 26,
   "metadata": {
    "ExecuteTime": {
     "end_time": "2020-04-07T09:40:00.493196Z",
     "start_time": "2020-04-07T09:40:00.448316Z"
    },
    "slideshow": {
     "slide_type": "subslide"
    }
   },
   "outputs": [
    {
     "name": "stdout",
     "output_type": "stream",
     "text": [
      "\n",
      "  Test of overidentifying restrictions:\n",
      "\n",
      "  Score chi2(1)          =  .151451  (p = 0.6972)\n"
     ]
    }
   ],
   "source": [
    "estat overid"
   ]
  },
  {
   "cell_type": "code",
   "execution_count": 27,
   "metadata": {
    "ExecuteTime": {
     "end_time": "2020-04-07T09:40:26.951507Z",
     "start_time": "2020-04-07T09:40:26.784552Z"
    },
    "slideshow": {
     "slide_type": "subslide"
    }
   },
   "outputs": [
    {
     "name": "stdout",
     "output_type": "stream",
     "text": [
      "\n",
      "  First-stage regression summary statistics\n",
      "  --------------------------------------------------------------------------\n",
      "               |            Adjusted      Partial       Robust\n",
      "      Variable |   R-sq.       R-sq.        R-sq.      F(2,750)   Prob > F\n",
      "  -------------+------------------------------------------------------------\n",
      "            iq |  0.3066      0.3001       0.0382       13.4028    0.0000\n",
      "  --------------------------------------------------------------------------\n",
      "\n",
      "\n",
      "  Shea's partial R-squared\n",
      "  --------------------------------------------------\n",
      "               |     Shea's             Shea's\n",
      "      Variable |  Partial R-sq.   Adj. Partial R-sq.\n",
      "  -------------+------------------------------------\n",
      "            iq |     0.0382             0.0305\n",
      "  --------------------------------------------------\n",
      "\n",
      "\n",
      "  Minimum eigenvalue statistic = 14.9058     \n",
      "\n",
      "  Critical Values                      # of endogenous regressors:    1\n",
      "  Ho: Instruments are weak             # of excluded instruments:     2\n",
      "  ---------------------------------------------------------------------\n",
      "                                     |    5%     10%     20%     30%\n",
      "  2SLS relative bias                 |         (not available)\n",
      "  -----------------------------------+---------------------------------\n",
      "                                     |   10%     15%     20%     25%\n",
      "  2SLS Size of nominal 5% Wald test  |  19.93   11.59    8.75    7.25\n",
      "  LIML Size of nominal 5% Wald test  |   8.68    5.33    4.42    3.92\n",
      "  ---------------------------------------------------------------------\n",
      "\n"
     ]
    }
   ],
   "source": [
    "estat firststage, all forcenonrobust"
   ]
  },
  {
   "cell_type": "code",
   "execution_count": 28,
   "metadata": {
    "ExecuteTime": {
     "end_time": "2020-04-07T09:41:34.059567Z",
     "start_time": "2020-04-07T09:41:33.960571Z"
    },
    "slideshow": {
     "slide_type": "subslide"
    }
   },
   "outputs": [
    {
     "name": "stdout",
     "output_type": "stream",
     "text": [
      "\n",
      "Instrumental variables (LIML) regression          Number of obs   =        758\n",
      "                                                  Wald chi2(6)    =     369.62\n",
      "                                                  Prob > chi2     =     0.0000\n",
      "                                                  R-squared       =     0.2768\n",
      "                                                  Root MSE        =     .36454\n",
      "\n",
      "------------------------------------------------------------------------------\n",
      "             |               Robust\n",
      "         lnw |      Coef.   Std. Err.      z    P>|z|     [95% Conf. Interval]\n",
      "-------------+----------------------------------------------------------------\n",
      "          iq |   .0139764   .0060681     2.30   0.021     .0020831    .0258697\n",
      "           s |   .0606362    .019034     3.19   0.001     .0233303    .0979421\n",
      "        expr |   .0433416   .0074185     5.84   0.000     .0288016    .0578816\n",
      "      tenure |   .0296237    .008323     3.56   0.000     .0133109    .0459364\n",
      "         rns |  -.0433875    .034529    -1.26   0.209    -.1110631    .0242881\n",
      "        smsa |   .1271796   .0297599     4.27   0.000     .0688512     .185508\n",
      "       _cons |   3.214994   .4001492     8.03   0.000     2.430716    3.999272\n",
      "------------------------------------------------------------------------------\n",
      "Instrumented:  iq\n",
      "Instruments:   s expr tenure rns smsa med kww\n"
     ]
    }
   ],
   "source": [
    "ivregress liml lnw s expr tenure rns smsa (iq = med kww), r"
   ]
  },
  {
   "cell_type": "code",
   "execution_count": 46,
   "metadata": {
    "ExecuteTime": {
     "end_time": "2020-04-07T10:39:03.776867Z",
     "start_time": "2020-04-07T10:39:03.670439Z"
    },
    "slideshow": {
     "slide_type": "subslide"
    }
   },
   "outputs": [
    {
     "name": "stdout",
     "output_type": "stream",
     "text": [
      "\n",
      "IV (2SLS) estimation\n",
      "--------------------\n",
      "\n",
      "Estimates efficient for homoskedasticity only\n",
      "Statistics robust to heteroskedasticity\n",
      "\n",
      "                                                      Number of obs =      758\n",
      "                                                      F(  6,   751) =    61.10\n",
      "                                                      Prob > F      =   0.0000\n",
      "Total (centered) SS     =  139.2861498                Centered R2   =   0.2775\n",
      "Total (uncentered) SS   =  24652.24662                Uncentered R2 =   0.9959\n",
      "Residual SS             =  100.6291971                Root MSE      =    .3644\n",
      "\n",
      "------------------------------------------------------------------------------\n",
      "             |               Robust\n",
      "         lnw |      Coef.   Std. Err.      z    P>|z|     [95% Conf. Interval]\n",
      "-------------+----------------------------------------------------------------\n",
      "          iq |   .0139284   .0060393     2.31   0.021     .0020916    .0257653\n",
      "           s |   .0607803   .0189505     3.21   0.001      .023638    .0979227\n",
      "        expr |   .0433237   .0074118     5.85   0.000     .0287968    .0578505\n",
      "      tenure |   .0296442    .008317     3.56   0.000     .0133432    .0459452\n",
      "         rns |  -.0435271   .0344779    -1.26   0.207    -.1111026    .0240483\n",
      "        smsa |   .1272224   .0297414     4.28   0.000     .0689303    .1855146\n",
      "       _cons |   3.218043   .3983683     8.08   0.000     2.437256    3.998831\n",
      "------------------------------------------------------------------------------\n",
      "Underidentification test (Kleibergen-Paap rk LM statistic):             24.223\n",
      "                                                   Chi-sq(2) P-val =    0.0000\n",
      "-redundant- option:\n",
      "IV redundancy test (LM test of redundancy of specified instruments):    22.222\n",
      "                                                   Chi-sq(1) P-val =    0.0000\n",
      "Instruments tested:   kww\n",
      "------------------------------------------------------------------------------\n",
      "Weak identification test (Cragg-Donald Wald F statistic):               14.906\n",
      "                         (Kleibergen-Paap rk Wald F statistic):         13.403\n",
      "Stock-Yogo weak ID test critical values: 10% maximal IV size             19.93\n",
      "                                         15% maximal IV size             11.59\n",
      "                                         20% maximal IV size              8.75\n",
      "                                         25% maximal IV size              7.25\n",
      "Source: Stock-Yogo (2005).  Reproduced by permission.\n",
      "NB: Critical values are for Cragg-Donald F statistic and i.i.d. errors.\n",
      "------------------------------------------------------------------------------\n",
      "Hansen J statistic (overidentification test of all instruments):         0.151\n",
      "                                                   Chi-sq(1) P-val =    0.6972\n",
      "------------------------------------------------------------------------------\n",
      "Instrumented:         iq\n",
      "Included instruments: s expr tenure rns smsa\n",
      "Excluded instruments: med kww\n",
      "------------------------------------------------------------------------------\n"
     ]
    }
   ],
   "source": [
    "ivreg2 lnw s expr tenure rns smsa (iq = med kww), r redundant (kww)"
   ]
  },
  {
   "cell_type": "code",
   "execution_count": 47,
   "metadata": {
    "ExecuteTime": {
     "end_time": "2020-04-07T10:39:14.888859Z",
     "start_time": "2020-04-07T10:39:14.810564Z"
    },
    "slideshow": {
     "slide_type": "subslide"
    }
   },
   "outputs": [
    {
     "name": "stdout",
     "output_type": "stream",
     "text": [
      "\n",
      "IV (2SLS) estimation\n",
      "--------------------\n",
      "\n",
      "Estimates efficient for homoskedasticity only\n",
      "Statistics consistent for homoskedasticity only\n",
      "\n",
      "                                                      Number of obs =      758\n",
      "                                                      F(  6,   751) =    61.94\n",
      "                                                      Prob > F      =   0.0000\n",
      "Total (centered) SS     =  139.2861498                Centered R2   =   0.2775\n",
      "Total (uncentered) SS   =  24652.24662                Uncentered R2 =   0.9959\n",
      "Residual SS             =  100.6291971                Root MSE      =    .3644\n",
      "\n",
      "------------------------------------------------------------------------------\n",
      "         lnw |      Coef.   Std. Err.      z    P>|z|     [95% Conf. Interval]\n",
      "-------------+----------------------------------------------------------------\n",
      "          iq |   .0139284   .0058572     2.38   0.017     .0024485    .0254084\n",
      "           s |   .0607803   .0186481     3.26   0.001     .0242306    .0973301\n",
      "        expr |   .0433237   .0070053     6.18   0.000     .0295935    .0570539\n",
      "      tenure |   .0296442   .0085218     3.48   0.001     .0129418    .0463466\n",
      "         rns |  -.0435271   .0347602    -1.25   0.210    -.1116558    .0246016\n",
      "        smsa |   .1272224   .0299973     4.24   0.000     .0684288    .1860161\n",
      "       _cons |   3.218043   .3830327     8.40   0.000     2.467313    3.968774\n",
      "------------------------------------------------------------------------------\n",
      "Underidentification test (Anderson canon. corr. LM statistic):          28.978\n",
      "                                                   Chi-sq(2) P-val =    0.0000\n",
      "------------------------------------------------------------------------------\n",
      "Weak identification test (Cragg-Donald Wald F statistic):               14.906\n",
      "Stock-Yogo weak ID test critical values: 10% maximal IV size             19.93\n",
      "                                         15% maximal IV size             11.59\n",
      "                                         20% maximal IV size              8.75\n",
      "                                         25% maximal IV size              7.25\n",
      "Source: Stock-Yogo (2005).  Reproduced by permission.\n",
      "------------------------------------------------------------------------------\n",
      "Sargan statistic (overidentification test of all instruments):           0.130\n",
      "                                                   Chi-sq(1) P-val =    0.7185\n",
      "------------------------------------------------------------------------------\n",
      "Instrumented:         iq\n",
      "Included instruments: s expr tenure rns smsa\n",
      "Excluded instruments: med kww\n",
      "------------------------------------------------------------------------------\n"
     ]
    }
   ],
   "source": [
    "ivreg2 lnw s expr tenure rns smsa (iq = med kww)"
   ]
  },
  {
   "cell_type": "code",
   "execution_count": 48,
   "metadata": {
    "ExecuteTime": {
     "end_time": "2020-04-07T10:41:55.595065Z",
     "start_time": "2020-04-07T10:41:55.486696Z"
    },
    "slideshow": {
     "slide_type": "subslide"
    }
   },
   "outputs": [
    {
     "name": "stdout",
     "output_type": "stream",
     "text": [
      "\n",
      "\n",
      "\n",
      "\n",
      "\n",
      "\n",
      "Note: the rank of the differenced variance matrix (1) does not equal the number\n",
      "        of coefficients being tested (7); be sure this is what you expect, or\n",
      "        there may be problems computing the test.  Examine the output of your\n",
      "        estimators for anything unexpected and possibly consider scaling your\n",
      "        variables so that the coefficients are on a similar scale.\n",
      "\n",
      "                 ---- Coefficients ----\n",
      "             |      (b)          (B)            (b-B)     sqrt(diag(V_b-V_B))\n",
      "             |       iv          ols         Difference          S.E.\n",
      "-------------+----------------------------------------------------------------\n",
      "          iq |    .0139284     .0032792        .0106493        .0054318\n",
      "           s |    .0607803     .0927874        -.032007        .0163254\n",
      "        expr |    .0433237     .0393443        .0039794        .0020297\n",
      "      tenure |    .0296442      .034209       -.0045648        .0023283\n",
      "         rns |   -.0435271    -.0745325        .0310054        .0158145\n",
      "        smsa |    .1272224     .1367369       -.0095145        .0048529\n",
      "       _cons |    3.218043     3.895172       -.6771285        .3453751\n",
      "------------------------------------------------------------------------------\n",
      "                       b = consistent under Ho and Ha; obtained from ivregress\n",
      "          B = inconsistent under Ha, efficient under Ho; obtained from regress\n",
      "\n",
      "    Test:  Ho:  difference in coefficients not systematic\n",
      "\n",
      "                  chi2(1) = (b-B)'[(V_b-V_B)^(-1)](b-B)\n",
      "                          =        3.84\n",
      "                Prob>chi2 =      0.0499\n",
      "                (V_b-V_B is not positive definite)\n"
     ]
    }
   ],
   "source": [
    "qui reg lnw iq s expr tenure rns smsa\n",
    "estimates store ols\n",
    "qui ivregress 2sls lnw s expr tenure rns smsa (iq = med kww)\n",
    "estimates store iv\n",
    "hausman iv ols, constant sigmamore"
   ]
  },
  {
   "cell_type": "code",
   "execution_count": 49,
   "metadata": {
    "ExecuteTime": {
     "end_time": "2020-04-07T10:42:41.640954Z",
     "start_time": "2020-04-07T10:42:41.580911Z"
    },
    "slideshow": {
     "slide_type": "subslide"
    }
   },
   "outputs": [
    {
     "name": "stdout",
     "output_type": "stream",
     "text": [
      "\n",
      "  Tests of endogeneity\n",
      "  Ho: variables are exogenous\n",
      "\n",
      "  Durbin (score) chi2(1)          =  3.87962  (p = 0.0489)\n",
      "  Wu-Hausman F(1,750)             =  3.85842  (p = 0.0499)\n"
     ]
    }
   ],
   "source": [
    "estat endogenous"
   ]
  },
  {
   "cell_type": "code",
   "execution_count": 50,
   "metadata": {
    "ExecuteTime": {
     "end_time": "2020-04-07T10:43:38.646193Z",
     "start_time": "2020-04-07T10:43:38.504075Z"
    },
    "slideshow": {
     "slide_type": "subslide"
    }
   },
   "outputs": [
    {
     "name": "stdout",
     "output_type": "stream",
     "text": [
      "\n",
      "IV (2SLS) estimation\n",
      "--------------------\n",
      "\n",
      "Estimates efficient for homoskedasticity only\n",
      "Statistics robust to heteroskedasticity\n",
      "\n",
      "                                                      Number of obs =      758\n",
      "                                                      F(  6,   751) =    61.10\n",
      "                                                      Prob > F      =   0.0000\n",
      "Total (centered) SS     =  139.2861498                Centered R2   =   0.2775\n",
      "Total (uncentered) SS   =  24652.24662                Uncentered R2 =   0.9959\n",
      "Residual SS             =  100.6291971                Root MSE      =    .3644\n",
      "\n",
      "------------------------------------------------------------------------------\n",
      "             |               Robust\n",
      "         lnw |      Coef.   Std. Err.      z    P>|z|     [95% Conf. Interval]\n",
      "-------------+----------------------------------------------------------------\n",
      "          iq |   .0139284   .0060393     2.31   0.021     .0020916    .0257653\n",
      "           s |   .0607803   .0189505     3.21   0.001      .023638    .0979227\n",
      "        expr |   .0433237   .0074118     5.85   0.000     .0287968    .0578505\n",
      "      tenure |   .0296442    .008317     3.56   0.000     .0133432    .0459452\n",
      "         rns |  -.0435271   .0344779    -1.26   0.207    -.1111026    .0240483\n",
      "        smsa |   .1272224   .0297414     4.28   0.000     .0689303    .1855146\n",
      "       _cons |   3.218043   .3983683     8.08   0.000     2.437256    3.998831\n",
      "------------------------------------------------------------------------------\n",
      "Underidentification test (Kleibergen-Paap rk LM statistic):             24.223\n",
      "                                                   Chi-sq(2) P-val =    0.0000\n",
      "------------------------------------------------------------------------------\n",
      "Weak identification test (Cragg-Donald Wald F statistic):               14.906\n",
      "                         (Kleibergen-Paap rk Wald F statistic):         13.403\n",
      "Stock-Yogo weak ID test critical values: 10% maximal IV size             19.93\n",
      "                                         15% maximal IV size             11.59\n",
      "                                         20% maximal IV size              8.75\n",
      "                                         25% maximal IV size              7.25\n",
      "Source: Stock-Yogo (2005).  Reproduced by permission.\n",
      "NB: Critical values are for Cragg-Donald F statistic and i.i.d. errors.\n",
      "------------------------------------------------------------------------------\n",
      "Hansen J statistic (overidentification test of all instruments):         0.151\n",
      "                                                   Chi-sq(1) P-val =    0.6972\n",
      "-endog- option:\n",
      "Endogeneity test of endogenous regressors:                               3.615\n",
      "                                                   Chi-sq(1) P-val =    0.0573\n",
      "Regressors tested:    iq\n",
      "------------------------------------------------------------------------------\n",
      "Instrumented:         iq\n",
      "Included instruments: s expr tenure rns smsa\n",
      "Excluded instruments: med kww\n",
      "------------------------------------------------------------------------------\n"
     ]
    }
   ],
   "source": [
    "ivreg2 lnw s expr tenure rns smsa (iq = med kww), r endog(iq)"
   ]
  },
  {
   "cell_type": "code",
   "execution_count": 51,
   "metadata": {
    "ExecuteTime": {
     "end_time": "2020-04-07T10:44:14.313199Z",
     "start_time": "2020-04-07T10:44:14.199214Z"
    },
    "slideshow": {
     "slide_type": "subslide"
    }
   },
   "outputs": [
    {
     "name": "stdout",
     "output_type": "stream",
     "text": [
      "\n",
      "Instrumental variables (GMM) regression           Number of obs   =        758\n",
      "                                                  Wald chi2(6)    =     372.75\n",
      "                                                  Prob > chi2     =     0.0000\n",
      "                                                  R-squared       =     0.2750\n",
      "GMM weight matrix: Robust                         Root MSE        =     .36499\n",
      "\n",
      "------------------------------------------------------------------------------\n",
      "             |               Robust\n",
      "         lnw |      Coef.   Std. Err.      z    P>|z|     [95% Conf. Interval]\n",
      "-------------+----------------------------------------------------------------\n",
      "          iq |   .0140888   .0060357     2.33   0.020     .0022591    .0259185\n",
      "           s |   .0603672   .0189545     3.18   0.001     .0232171    .0975174\n",
      "        expr |   .0431117   .0074112     5.82   0.000     .0285861    .0576373\n",
      "      tenure |   .0299764   .0082728     3.62   0.000      .013762    .0461908\n",
      "         rns |   -.044516   .0344404    -1.29   0.196    -.1120179    .0229859\n",
      "        smsa |   .1267368   .0297633     4.26   0.000     .0684018    .1850718\n",
      "       _cons |   3.207298    .398083     8.06   0.000     2.427069    3.987526\n",
      "------------------------------------------------------------------------------\n",
      "Instrumented:  iq\n",
      "Instruments:   s expr tenure rns smsa med kww\n"
     ]
    }
   ],
   "source": [
    "ivregress gmm lnw s expr tenure rns smsa (iq = med kww)"
   ]
  },
  {
   "cell_type": "code",
   "execution_count": 52,
   "metadata": {
    "ExecuteTime": {
     "end_time": "2020-04-07T10:44:29.468182Z",
     "start_time": "2020-04-07T10:44:29.435081Z"
    },
    "slideshow": {
     "slide_type": "subslide"
    }
   },
   "outputs": [
    {
     "name": "stdout",
     "output_type": "stream",
     "text": [
      "\n",
      "  Test of overidentifying restriction:\n",
      "\n",
      "  Hansen's J chi2(1) = .151451 (p = 0.6972)\n"
     ]
    }
   ],
   "source": [
    "estat overid"
   ]
  },
  {
   "cell_type": "code",
   "execution_count": 53,
   "metadata": {
    "ExecuteTime": {
     "end_time": "2020-04-07T10:44:48.485580Z",
     "start_time": "2020-04-07T10:44:48.422394Z"
    },
    "slideshow": {
     "slide_type": "subslide"
    }
   },
   "outputs": [
    {
     "name": "stdout",
     "output_type": "stream",
     "text": [
      "Iteration 1: change in beta =  1.753e-05   change in W =  1.100e-02\n",
      "Iteration 2: change in beta =  4.872e-08   change in W =  7.880e-05\n",
      "Iteration 3: change in beta =  2.501e-10   change in W =  2.304e-07\n",
      "\n",
      "Instrumental variables (GMM) regression           Number of obs   =        758\n",
      "                                                  Wald chi2(6)    =     372.73\n",
      "                                                  Prob > chi2     =     0.0000\n",
      "                                                  R-squared       =     0.2750\n",
      "GMM weight matrix: Robust                         Root MSE        =     .36499\n",
      "\n",
      "------------------------------------------------------------------------------\n",
      "             |               Robust\n",
      "         lnw |      Coef.   Std. Err.      z    P>|z|     [95% Conf. Interval]\n",
      "-------------+----------------------------------------------------------------\n",
      "          iq |   .0140901   .0060357     2.33   0.020     .0022603      .02592\n",
      "           s |   .0603629   .0189548     3.18   0.001     .0232122    .0975135\n",
      "        expr |   .0431101   .0074113     5.82   0.000     .0285841     .057636\n",
      "      tenure |   .0299752   .0082729     3.62   0.000     .0137606    .0461898\n",
      "         rns |  -.0445114   .0344408    -1.29   0.196    -.1120142    .0229913\n",
      "        smsa |   .1267399   .0297637     4.26   0.000     .0684041    .1850757\n",
      "       _cons |   3.207224   .3980878     8.06   0.000     2.426986    3.987462\n",
      "------------------------------------------------------------------------------\n",
      "Instrumented:  iq\n",
      "Instruments:   s expr tenure rns smsa med kww\n"
     ]
    }
   ],
   "source": [
    "ivregress gmm lnw s expr tenure rns smsa (iq = med kww), igmm"
   ]
  },
  {
   "cell_type": "code",
   "execution_count": 57,
   "metadata": {
    "ExecuteTime": {
     "end_time": "2020-04-07T11:00:26.194462Z",
     "start_time": "2020-04-07T11:00:25.966268Z"
    },
    "slideshow": {
     "slide_type": "subslide"
    }
   },
   "outputs": [
    {
     "name": "stdout",
     "output_type": "stream",
     "text": [
      "\n",
      "\n",
      "\n",
      "\n",
      "\n",
      "\n",
      "\n",
      "\n",
      "\n",
      "\n",
      "\n",
      "\n",
      "\n",
      "\n",
      "-------------------------------------------------------------------------------\n",
      "    Variable | ols_no_iq    olw_with~q      tsls         liml         gmm      \n",
      "-------------+-----------------------------------------------------------------\n",
      "           s |  .10264304    .09278735    .06078035    .06063623    .06036723  \n",
      "             |  .00620988    .00666594    .01895051    .01903397    .01895452  \n",
      "        expr |   .0381189    .03934425    .04332367    .04334159    .04311171  \n",
      "             |  .00661439    .00630571    .00741179     .0074185    .00741117  \n",
      "      tenure |  .03561456    .03420896    .02964421    .02962365    .02997643  \n",
      "             |  .00799884    .00771464    .00831697    .00832297    .00827281  \n",
      "         rns | -.08407974   -.07453249   -.04352713   -.04338751   -.04451599  \n",
      "             |  .02953295    .02881515    .03447789    .03452902    .03444039  \n",
      "        smsa |  .13966664    .13673691    .12722244     .1271796    .12673682  \n",
      "             |  .02805598     .0279476    .02974144    .02975994     .0297633  \n",
      "          iq |               .00327916    .01392844    .01397639    .01408883  \n",
      "             |               .00108293    .00603931    .00606812    .00603567  \n",
      "       _cons |   4.103675    3.8951718    3.2180433    3.2149943    3.2072978  \n",
      "             |  .08766646    .10911033    .39836829    .40014925    .39808304  \n",
      "-------------------------------------------------------------------------------\n",
      "                                                                   legend: b/se\n",
      "\n",
      "\n",
      "---------------------------\n",
      "    Variable |    igmm     \n",
      "-------------+-------------\n",
      "           s |  .06036285  \n",
      "             |  .01895478  \n",
      "        expr |  .04311006  \n",
      "             |  .00741133  \n",
      "      tenure |  .02997521  \n",
      "             |  .00827289  \n",
      "         rns | -.04451145  \n",
      "             |  .03444082  \n",
      "        smsa |  .12673991  \n",
      "             |  .02976369  \n",
      "          iq |  .01409011  \n",
      "             |  .00603575  \n",
      "       _cons |  3.2072239  \n",
      "             |  .39808779  \n",
      "---------------------------\n",
      "               legend: b/se\n"
     ]
    }
   ],
   "source": [
    "qui reg lnw s expr tenure rns smsa, r\n",
    "est sto ols_no_iq\n",
    "qui reg lnw iq s expr tenure rns smsa\n",
    "est sto olw_with_iq\n",
    "qui ivregress 2sls lnw s expr tenure rns smsa (iq = med kww), r\n",
    "est sto tsls\n",
    "qui ivregress liml lnw s expr tenure rns smsa (iq = med kww), r\n",
    "est sto liml\n",
    "qui ivregress gmm lnw s expr tenure rns smsa (iq = med kww)\n",
    "est sto gmm\n",
    "qui ivregress gmm lnw s expr tenure rns smsa (iq = med kww), igmm\n",
    "est sto igmm\n",
    "estimates table ols_no_iq olw_with_iq tsls liml gmm igmm, b se"
   ]
  },
  {
   "cell_type": "code",
   "execution_count": 60,
   "metadata": {
    "ExecuteTime": {
     "end_time": "2020-04-07T11:01:33.895776Z",
     "start_time": "2020-04-07T11:01:33.818668Z"
    },
    "slideshow": {
     "slide_type": "subslide"
    }
   },
   "outputs": [
    {
     "name": "stdout",
     "output_type": "stream",
     "text": [
      "\n",
      "------------------------------------------------------------------------------\n",
      "    Variable |   ols_no_iq      olw_with_iq        tsls            liml       \n",
      "-------------+----------------------------------------------------------------\n",
      "           s |  .10264304***    .09278735***    .06078035***    .06063623***  \n",
      "        expr |   .0381189***    .03934425***    .04332367***    .04334159***  \n",
      "      tenure |  .03561456***    .03420896***    .02964421***    .02962365***  \n",
      "         rns | -.08407974***   -.07453249***   -.04352713      -.04338751     \n",
      "        smsa |  .13966664***    .13673691***    .12722244***     .1271796***  \n",
      "          iq |                  .00327916***    .01392844**     .01397639**   \n",
      "       _cons |   4.103675***    3.8951718***    3.2180433***    3.2149943***  \n",
      "------------------------------------------------------------------------------\n",
      "                                           legend: * p<.1; ** p<.05; *** p<.01\n",
      "\n",
      "\n",
      "----------------------------------------------\n",
      "    Variable |      gmm            igmm       \n",
      "-------------+--------------------------------\n",
      "           s |  .06036723***    .06036285***  \n",
      "        expr |  .04311171***    .04311006***  \n",
      "      tenure |  .02997643***    .02997521***  \n",
      "         rns | -.04451599      -.04451145     \n",
      "        smsa |  .12673682***    .12673991***  \n",
      "          iq |  .01408883**     .01409011**   \n",
      "       _cons |  3.2072978***    3.2072239***  \n",
      "----------------------------------------------\n",
      "           legend: * p<.1; ** p<.05; *** p<.01\n"
     ]
    }
   ],
   "source": [
    "estimates table ols_no_iq olw_with_iq tsls liml gmm igmm,star(0.1 0.05 0.01)"
   ]
  },
  {
   "cell_type": "code",
   "execution_count": 63,
   "metadata": {
    "ExecuteTime": {
     "end_time": "2020-04-07T11:03:24.650115Z",
     "start_time": "2020-04-07T11:03:24.527041Z"
    },
    "slideshow": {
     "slide_type": "subslide"
    }
   },
   "outputs": [
    {
     "name": "stdout",
     "output_type": "stream",
     "text": [
      "\n",
      "--------------------------------------------------------------------------------\n",
      "> ----------------------------\n",
      "                      (1)             (2)             (3)             (4)       \n",
      ">       (5)             (6)   \n",
      "                ols_no_iq     olw_with_iq            tsls            liml       \n",
      ">       gmm            igmm   \n",
      "--------------------------------------------------------------------------------\n",
      "> ----------------------------\n",
      "s                   0.103***       0.0928***       0.0608***       0.0606***    \n",
      ">    0.0604***       0.0604***\n",
      "                (0.00621)       (0.00667)        (0.0190)        (0.0190)       \n",
      ">  (0.0190)        (0.0190)   \n",
      "\n",
      "expr               0.0381***       0.0393***       0.0433***       0.0433***    \n",
      ">    0.0431***       0.0431***\n",
      "                (0.00661)       (0.00631)       (0.00741)       (0.00742)       \n",
      "> (0.00741)       (0.00741)   \n",
      "\n",
      "tenure             0.0356***       0.0342***       0.0296***       0.0296***    \n",
      ">    0.0300***       0.0300***\n",
      "                (0.00800)       (0.00771)       (0.00832)       (0.00832)       \n",
      "> (0.00827)       (0.00827)   \n",
      "\n",
      "rns               -0.0841***      -0.0745***      -0.0435         -0.0434       \n",
      ">   -0.0445         -0.0445   \n",
      "                 (0.0295)        (0.0288)        (0.0345)        (0.0345)       \n",
      ">  (0.0344)        (0.0344)   \n",
      "\n",
      "smsa                0.140***        0.137***        0.127***        0.127***    \n",
      ">     0.127***        0.127***\n",
      "                 (0.0281)        (0.0279)        (0.0297)        (0.0298)       \n",
      ">  (0.0298)        (0.0298)   \n",
      "\n",
      "iq                                0.00328***       0.0139**        0.0140**     \n",
      ">    0.0141**        0.0141** \n",
      "                                (0.00108)       (0.00604)       (0.00607)       \n",
      "> (0.00604)       (0.00604)   \n",
      "\n",
      "_cons               4.104***        3.895***        3.218***        3.215***    \n",
      ">     3.207***        3.207***\n",
      "                 (0.0877)         (0.109)         (0.398)         (0.400)       \n",
      ">   (0.398)         (0.398)   \n",
      "--------------------------------------------------------------------------------\n",
      "> ----------------------------\n",
      "N                     758             758             758             758       \n",
      ">       758             758   \n",
      "R-sq                0.352           0.360           0.278           0.277       \n",
      ">     0.275           0.275   \n",
      "--------------------------------------------------------------------------------\n",
      "> ----------------------------\n",
      "Standard errors in parentheses\n",
      "* p<0.1, ** p<0.05, *** p<0.01\n"
     ]
    }
   ],
   "source": [
    "esttab ols_no_iq olw_with_iq tsls liml gmm igmm,se r2 mtitle star(* 0.1 ** 0.05 *** 0.01)"
   ]
  },
  {
   "cell_type": "code",
   "execution_count": 64,
   "metadata": {
    "ExecuteTime": {
     "end_time": "2020-04-07T11:04:04.047615Z",
     "start_time": "2020-04-07T11:04:03.934189Z"
    },
    "slideshow": {
     "slide_type": "subslide"
    }
   },
   "outputs": [
    {
     "name": "stdout",
     "output_type": "stream",
     "text": [
      "(output written to iv.rtf)\n"
     ]
    }
   ],
   "source": [
    "esttab ols_no_iq olw_with_iq tsls liml gmm igmm using iv.rtf,se r2 mtitle star(* 0.1 ** 0.05 *** 0.01)"
   ]
  },
  {
   "cell_type": "markdown",
   "metadata": {
    "slideshow": {
     "slide_type": "slide"
    }
   },
   "source": [
    "|        | (1)        | (2)         | (3)       | (4)       | (5)       | (6)       |\n",
    "| ------ | ---------- | ----------- | --------- | --------- | --------- | --------- |\n",
    "|        | ols_no_iq  | olw_with_iq | tsls      | liml      | gmm       | igmm      |\n",
    "| s      | 0.103***   | 0.0928***   | 0.0608*** | 0.0606*** | 0.0604*** | 0.0604*** |\n",
    "|        | (0.00621)  | (0.00667)   | (0.0190)  | (0.0190)  | (0.0190)  | (0.0190)  |\n",
    "|        |            |             |           |           |           |           |\n",
    "| expr   | 0.0381***  | 0.0393***   | 0.0433*** | 0.0433*** | 0.0431*** | 0.0431*** |\n",
    "|        | (0.00661)  | (0.00631)   | (0.00741) | (0.00742) | (0.00741) | (0.00741) |\n",
    "|        |            |             |           |           |           |           |\n",
    "| tenure | 0.0356***  | 0.0342***   | 0.0296*** | 0.0296*** | 0.0300*** | 0.0300*** |\n",
    "|        | (0.00800)  | (0.00771)   | (0.00832) | (0.00832) | (0.00827) | (0.00827) |\n",
    "|        |            |             |           |           |           |           |\n",
    "| rns    | -0.0841*** | -0.0745***  | -0.0435   | -0.0434   | -0.0445   | -0.0445   |\n",
    "|        | (0.0295)   | (0.0288)    | (0.0345)  | (0.0345)  | (0.0344)  | (0.0344)  |\n",
    "|        |            |             |           |           |           |           |\n",
    "| smsa   | 0.140***   | 0.137***    | 0.127***  | 0.127***  | 0.127***  | 0.127***  |\n",
    "|        | (0.0281)   | (0.0279)    | (0.0297)  | (0.0298)  | (0.0298)  | (0.0298)  |\n",
    "|        |            |             |           |           |           |           |\n",
    "| iq     |            | 0.00328***  | 0.0139**  | 0.0140**  | 0.0141**  | 0.0141**  |\n",
    "|        |            | (0.00108)   | (0.00604) | (0.00607) | (0.00604) | (0.00604) |\n",
    "|        |            |             |           |           |           |           |\n",
    "| _cons  | 4.104***   | 3.895***    | 3.218***  | 3.215***  | 3.207***  | 3.207***  |\n",
    "|        | (0.0877)   | (0.109)     | (0.398)   | (0.400)   | (0.398)   | (0.398)   |\n",
    "| *N*    | 758        | 758         | 758       | 758       | 758       | 758       |\n",
    "| *R*2   | 0.352      | 0.360       | 0.278     | 0.277     | 0.275     | 0.275     |\n",
    "\n",
    "Standard errors in parentheses\n",
    "\n",
    "\\* *p* < 0.1, ** *p* < 0.05, *** *p* < 0.01"
   ]
  }
 ],
 "metadata": {
  "celltoolbar": "Slideshow",
  "kernelspec": {
   "display_name": "Stata",
   "language": "stata",
   "name": "stata"
  },
  "language_info": {
   "codemirror_mode": "stata",
   "file_extension": ".do",
   "mimetype": "text/x-stata",
   "name": "stata",
   "version": "15.1"
  },
  "toc": {
   "base_numbering": 1,
   "nav_menu": {},
   "number_sections": false,
   "sideBar": true,
   "skip_h1_title": false,
   "title_cell": "Table of Contents",
   "title_sidebar": "Contents",
   "toc_cell": false,
   "toc_position": {},
   "toc_section_display": true,
   "toc_window_display": false
  }
 },
 "nbformat": 4,
 "nbformat_minor": 4
}
