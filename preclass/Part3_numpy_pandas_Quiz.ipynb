{
 "cells": [
  {
   "cell_type": "markdown",
   "id": "99e6fb33",
   "metadata": {},
   "source": [
    "# Preparation\n",
    "请在下面导入numpy(用np代替)，以及pandas（用pd代替）"
   ]
  },
  {
   "cell_type": "code",
   "execution_count": 3,
   "id": "8e349d2b",
   "metadata": {
    "ExecuteTime": {
     "end_time": "2021-07-10T13:15:12.364603Z",
     "start_time": "2021-07-10T13:15:12.361070Z"
    }
   },
   "outputs": [],
   "source": [
    "\n",
    "np.random.seed(42)\n",
    "#指定seed以生成固定的随机数"
   ]
  },
  {
   "cell_type": "markdown",
   "id": "ec791424",
   "metadata": {},
   "source": [
    "# \n",
    "\n",
    "##  生成一个 $5 \\times 3 \\times 2$ 的ndarray, 每个element为不同数字\n",
    "\n"
   ]
  },
  {
   "cell_type": "code",
   "execution_count": null,
   "id": "4e912f94",
   "metadata": {},
   "outputs": [],
   "source": []
  },
  {
   "cell_type": "markdown",
   "id": "37efc208",
   "metadata": {},
   "source": [
    "##  把它变成一个shape 为[1,5,3,2]的ndarray; 不改变其中每个element的数值"
   ]
  },
  {
   "cell_type": "code",
   "execution_count": null,
   "id": "e18d1e65",
   "metadata": {},
   "outputs": [],
   "source": []
  },
  {
   "cell_type": "markdown",
   "id": "dd5a7e12",
   "metadata": {},
   "source": [
    "# \n",
    "## 创建一个10*10的ndarray对象，element为随机数字，并打印出最大最小的element\n"
   ]
  },
  {
   "cell_type": "code",
   "execution_count": null,
   "id": "d7f5555c",
   "metadata": {},
   "outputs": [],
   "source": []
  },
  {
   "cell_type": "markdown",
   "id": "57b16721",
   "metadata": {},
   "source": [
    "##  对矩阵的每一行的element都减去该行的平均值"
   ]
  },
  {
   "cell_type": "code",
   "execution_count": null,
   "id": "c8bd2263",
   "metadata": {},
   "outputs": [],
   "source": []
  },
  {
   "cell_type": "markdown",
   "id": "eeed3f7d",
   "metadata": {},
   "source": [
    "# \n",
    "## 创建一个shape 为[2,3,3,3]的4d-array, element为随机数字\n"
   ]
  },
  {
   "cell_type": "markdown",
   "id": "8497a483",
   "metadata": {},
   "source": [
    "## 对其最后的两个维度求和，生成一个新nd-array"
   ]
  },
  {
   "cell_type": "code",
   "execution_count": null,
   "id": "62da2cba",
   "metadata": {},
   "outputs": [],
   "source": []
  },
  {
   "cell_type": "markdown",
   "id": "af700195",
   "metadata": {},
   "source": [
    "# Pandas Basics"
   ]
  },
  {
   "cell_type": "markdown",
   "id": "0ec26b13",
   "metadata": {},
   "source": [
    "## 用pandas导入 Data Science Handbook notebooks/data/中的 state-population.csv 文件，把它命名为df"
   ]
  },
  {
   "cell_type": "code",
   "execution_count": 88,
   "id": "1545452f",
   "metadata": {},
   "outputs": [],
   "source": []
  },
  {
   "cell_type": "markdown",
   "id": "ab16a97f",
   "metadata": {},
   "source": [
    "## 展示df的shape，它有哪些column，每个column的data type是什么？"
   ]
  },
  {
   "cell_type": "code",
   "execution_count": null,
   "id": "29092a38",
   "metadata": {},
   "outputs": [],
   "source": []
  },
  {
   "cell_type": "markdown",
   "id": "6bc7219e",
   "metadata": {},
   "source": [
    "## 展示第2301行（注意index是从0开始的）"
   ]
  },
  {
   "cell_type": "code",
   "execution_count": 96,
   "id": "eeddcd03",
   "metadata": {},
   "outputs": [
    {
     "data": {
      "text/plain": [
       "state/region             WA\n",
       "ages                under18\n",
       "year                   2011\n",
       "population      1.58471e+06\n",
       "Name: 2300, dtype: object"
      ]
     },
     "execution_count": 96,
     "metadata": {},
     "output_type": "execute_result"
    }
   ],
   "source": []
  },
  {
   "cell_type": "markdown",
   "id": "b0bc2270",
   "metadata": {},
   "source": [
    "##  找到2002年伊利诺伊(code: IL)的总人口"
   ]
  },
  {
   "cell_type": "code",
   "execution_count": 104,
   "id": "f99c4508",
   "metadata": {
    "scrolled": true
   },
   "outputs": [
    {
     "data": {
      "text/html": [
       "<div>\n",
       "<style scoped>\n",
       "    .dataframe tbody tr th:only-of-type {\n",
       "        vertical-align: middle;\n",
       "    }\n",
       "\n",
       "    .dataframe tbody tr th {\n",
       "        vertical-align: top;\n",
       "    }\n",
       "\n",
       "    .dataframe thead th {\n",
       "        text-align: right;\n",
       "    }\n",
       "</style>\n",
       "<table border=\"1\" class=\"dataframe\">\n",
       "  <thead>\n",
       "    <tr style=\"text-align: right;\">\n",
       "      <th></th>\n",
       "      <th>state/region</th>\n",
       "      <th>ages</th>\n",
       "      <th>year</th>\n",
       "      <th>population</th>\n",
       "    </tr>\n",
       "  </thead>\n",
       "  <tbody>\n",
       "    <tr>\n",
       "      <th>646</th>\n",
       "      <td>IL</td>\n",
       "      <td>total</td>\n",
       "      <td>2002</td>\n",
       "      <td>12525556.0</td>\n",
       "    </tr>\n",
       "  </tbody>\n",
       "</table>\n",
       "</div>"
      ],
      "text/plain": [
       "    state/region   ages  year  population\n",
       "646           IL  total  2002  12525556.0"
      ]
     },
     "execution_count": 104,
     "metadata": {},
     "output_type": "execute_result"
    }
   ],
   "source": []
  },
  {
   "cell_type": "markdown",
   "id": "6820e790",
   "metadata": {},
   "source": [
    "## 使用groupby等方法，计算2008年以及以后每个州18岁以下人口的平均值，输出前五个人口最多的（不包括USA，可以使用 df.sort_values()等函数 ）。"
   ]
  },
  {
   "cell_type": "code",
   "execution_count": 126,
   "id": "a11123fb",
   "metadata": {},
   "outputs": [
    {
     "data": {
      "text/html": [
       "<div>\n",
       "<style scoped>\n",
       "    .dataframe tbody tr th:only-of-type {\n",
       "        vertical-align: middle;\n",
       "    }\n",
       "\n",
       "    .dataframe tbody tr th {\n",
       "        vertical-align: top;\n",
       "    }\n",
       "\n",
       "    .dataframe thead th {\n",
       "        text-align: right;\n",
       "    }\n",
       "</style>\n",
       "<table border=\"1\" class=\"dataframe\">\n",
       "  <thead>\n",
       "    <tr style=\"text-align: right;\">\n",
       "      <th></th>\n",
       "      <th>year</th>\n",
       "      <th>population</th>\n",
       "    </tr>\n",
       "    <tr>\n",
       "      <th>state/region</th>\n",
       "      <th></th>\n",
       "      <th></th>\n",
       "    </tr>\n",
       "  </thead>\n",
       "  <tbody>\n",
       "    <tr>\n",
       "      <th>USA</th>\n",
       "      <td>2010.5</td>\n",
       "      <td>7.392577e+07</td>\n",
       "    </tr>\n",
       "    <tr>\n",
       "      <th>CA</th>\n",
       "      <td>2010.5</td>\n",
       "      <td>9.256073e+06</td>\n",
       "    </tr>\n",
       "    <tr>\n",
       "      <th>TX</th>\n",
       "      <td>2010.5</td>\n",
       "      <td>6.884565e+06</td>\n",
       "    </tr>\n",
       "    <tr>\n",
       "      <th>NY</th>\n",
       "      <td>2010.5</td>\n",
       "      <td>4.305392e+06</td>\n",
       "    </tr>\n",
       "    <tr>\n",
       "      <th>FL</th>\n",
       "      <td>2010.5</td>\n",
       "      <td>4.009472e+06</td>\n",
       "    </tr>\n",
       "    <tr>\n",
       "      <th>IL</th>\n",
       "      <td>2010.5</td>\n",
       "      <td>3.097347e+06</td>\n",
       "    </tr>\n",
       "  </tbody>\n",
       "</table>\n",
       "</div>"
      ],
      "text/plain": [
       "                year    population\n",
       "state/region                      \n",
       "USA           2010.5  7.392577e+07\n",
       "CA            2010.5  9.256073e+06\n",
       "TX            2010.5  6.884565e+06\n",
       "NY            2010.5  4.305392e+06\n",
       "FL            2010.5  4.009472e+06\n",
       "IL            2010.5  3.097347e+06"
      ]
     },
     "execution_count": 126,
     "metadata": {},
     "output_type": "execute_result"
    }
   ],
   "source": []
  },
  {
   "cell_type": "markdown",
   "id": "53cbe020",
   "metadata": {},
   "source": [
    "## 找到每年总人口的maximum，minimum，以及median (用aggreagate)"
   ]
  },
  {
   "cell_type": "code",
   "execution_count": 131,
   "id": "a236fdef",
   "metadata": {},
   "outputs": [
    {
     "data": {
      "text/html": [
       "<div>\n",
       "<style scoped>\n",
       "    .dataframe tbody tr th:only-of-type {\n",
       "        vertical-align: middle;\n",
       "    }\n",
       "\n",
       "    .dataframe tbody tr th {\n",
       "        vertical-align: top;\n",
       "    }\n",
       "\n",
       "    .dataframe thead tr th {\n",
       "        text-align: left;\n",
       "    }\n",
       "\n",
       "    .dataframe thead tr:last-of-type th {\n",
       "        text-align: right;\n",
       "    }\n",
       "</style>\n",
       "<table border=\"1\" class=\"dataframe\">\n",
       "  <thead>\n",
       "    <tr>\n",
       "      <th></th>\n",
       "      <th colspan=\"3\" halign=\"left\">population</th>\n",
       "    </tr>\n",
       "    <tr>\n",
       "      <th></th>\n",
       "      <th>amin</th>\n",
       "      <th>median</th>\n",
       "      <th>amax</th>\n",
       "    </tr>\n",
       "    <tr>\n",
       "      <th>year</th>\n",
       "      <th></th>\n",
       "      <th></th>\n",
       "      <th></th>\n",
       "    </tr>\n",
       "  </thead>\n",
       "  <tbody>\n",
       "    <tr>\n",
       "      <th>1990</th>\n",
       "      <td>453690.0</td>\n",
       "      <td>3404386.5</td>\n",
       "      <td>249622814.0</td>\n",
       "    </tr>\n",
       "    <tr>\n",
       "      <th>1991</th>\n",
       "      <td>459260.0</td>\n",
       "      <td>3478761.5</td>\n",
       "      <td>252980942.0</td>\n",
       "    </tr>\n",
       "    <tr>\n",
       "      <th>1992</th>\n",
       "      <td>466251.0</td>\n",
       "      <td>3558201.5</td>\n",
       "      <td>256514231.0</td>\n",
       "    </tr>\n",
       "    <tr>\n",
       "      <th>1993</th>\n",
       "      <td>473081.0</td>\n",
       "      <td>3638524.0</td>\n",
       "      <td>259918595.0</td>\n",
       "    </tr>\n",
       "    <tr>\n",
       "      <th>1994</th>\n",
       "      <td>480283.0</td>\n",
       "      <td>3714782.5</td>\n",
       "      <td>263125826.0</td>\n",
       "    </tr>\n",
       "    <tr>\n",
       "      <th>1995</th>\n",
       "      <td>485160.0</td>\n",
       "      <td>3787617.5</td>\n",
       "      <td>266278403.0</td>\n",
       "    </tr>\n",
       "    <tr>\n",
       "      <th>1996</th>\n",
       "      <td>488167.0</td>\n",
       "      <td>3857868.0</td>\n",
       "      <td>269394291.0</td>\n",
       "    </tr>\n",
       "    <tr>\n",
       "      <th>1997</th>\n",
       "      <td>489452.0</td>\n",
       "      <td>3906221.5</td>\n",
       "      <td>272646932.0</td>\n",
       "    </tr>\n",
       "    <tr>\n",
       "      <th>1998</th>\n",
       "      <td>490787.0</td>\n",
       "      <td>3952313.0</td>\n",
       "      <td>275854116.0</td>\n",
       "    </tr>\n",
       "    <tr>\n",
       "      <th>1999</th>\n",
       "      <td>491780.0</td>\n",
       "      <td>3996367.5</td>\n",
       "      <td>279040181.0</td>\n",
       "    </tr>\n",
       "    <tr>\n",
       "      <th>2000</th>\n",
       "      <td>494300.0</td>\n",
       "      <td>4024223.0</td>\n",
       "      <td>282162411.0</td>\n",
       "    </tr>\n",
       "    <tr>\n",
       "      <th>2001</th>\n",
       "      <td>494657.0</td>\n",
       "      <td>4064995.0</td>\n",
       "      <td>284968955.0</td>\n",
       "    </tr>\n",
       "    <tr>\n",
       "      <th>2002</th>\n",
       "      <td>500017.0</td>\n",
       "      <td>4089875.0</td>\n",
       "      <td>287625193.0</td>\n",
       "    </tr>\n",
       "    <tr>\n",
       "      <th>2003</th>\n",
       "      <td>503453.0</td>\n",
       "      <td>4117170.0</td>\n",
       "      <td>290107933.0</td>\n",
       "    </tr>\n",
       "    <tr>\n",
       "      <th>2004</th>\n",
       "      <td>509106.0</td>\n",
       "      <td>4146101.0</td>\n",
       "      <td>292805298.0</td>\n",
       "    </tr>\n",
       "    <tr>\n",
       "      <th>2005</th>\n",
       "      <td>514157.0</td>\n",
       "      <td>4182742.0</td>\n",
       "      <td>295516599.0</td>\n",
       "    </tr>\n",
       "    <tr>\n",
       "      <th>2006</th>\n",
       "      <td>522667.0</td>\n",
       "      <td>4219239.0</td>\n",
       "      <td>298379912.0</td>\n",
       "    </tr>\n",
       "    <tr>\n",
       "      <th>2007</th>\n",
       "      <td>534876.0</td>\n",
       "      <td>4256672.0</td>\n",
       "      <td>301231207.0</td>\n",
       "    </tr>\n",
       "    <tr>\n",
       "      <th>2008</th>\n",
       "      <td>546043.0</td>\n",
       "      <td>4289878.0</td>\n",
       "      <td>304093966.0</td>\n",
       "    </tr>\n",
       "    <tr>\n",
       "      <th>2009</th>\n",
       "      <td>559851.0</td>\n",
       "      <td>4317074.0</td>\n",
       "      <td>306771529.0</td>\n",
       "    </tr>\n",
       "    <tr>\n",
       "      <th>2010</th>\n",
       "      <td>564222.0</td>\n",
       "      <td>4347698.0</td>\n",
       "      <td>309326295.0</td>\n",
       "    </tr>\n",
       "    <tr>\n",
       "      <th>2011</th>\n",
       "      <td>567329.0</td>\n",
       "      <td>4366869.0</td>\n",
       "      <td>311582564.0</td>\n",
       "    </tr>\n",
       "    <tr>\n",
       "      <th>2012</th>\n",
       "      <td>576626.0</td>\n",
       "      <td>4379730.0</td>\n",
       "      <td>313873685.0</td>\n",
       "    </tr>\n",
       "    <tr>\n",
       "      <th>2013</th>\n",
       "      <td>582658.0</td>\n",
       "      <td>4395295.0</td>\n",
       "      <td>316128839.0</td>\n",
       "    </tr>\n",
       "  </tbody>\n",
       "</table>\n",
       "</div>"
      ],
      "text/plain": [
       "     population                        \n",
       "           amin     median         amax\n",
       "year                                   \n",
       "1990   453690.0  3404386.5  249622814.0\n",
       "1991   459260.0  3478761.5  252980942.0\n",
       "1992   466251.0  3558201.5  256514231.0\n",
       "1993   473081.0  3638524.0  259918595.0\n",
       "1994   480283.0  3714782.5  263125826.0\n",
       "1995   485160.0  3787617.5  266278403.0\n",
       "1996   488167.0  3857868.0  269394291.0\n",
       "1997   489452.0  3906221.5  272646932.0\n",
       "1998   490787.0  3952313.0  275854116.0\n",
       "1999   491780.0  3996367.5  279040181.0\n",
       "2000   494300.0  4024223.0  282162411.0\n",
       "2001   494657.0  4064995.0  284968955.0\n",
       "2002   500017.0  4089875.0  287625193.0\n",
       "2003   503453.0  4117170.0  290107933.0\n",
       "2004   509106.0  4146101.0  292805298.0\n",
       "2005   514157.0  4182742.0  295516599.0\n",
       "2006   522667.0  4219239.0  298379912.0\n",
       "2007   534876.0  4256672.0  301231207.0\n",
       "2008   546043.0  4289878.0  304093966.0\n",
       "2009   559851.0  4317074.0  306771529.0\n",
       "2010   564222.0  4347698.0  309326295.0\n",
       "2011   567329.0  4366869.0  311582564.0\n",
       "2012   576626.0  4379730.0  313873685.0\n",
       "2013   582658.0  4395295.0  316128839.0"
      ]
     },
     "execution_count": 131,
     "metadata": {},
     "output_type": "execute_result"
    }
   ],
   "source": []
  },
  {
   "cell_type": "markdown",
   "id": "2259f16d",
   "metadata": {},
   "source": [
    "## 把df state/region  下的 IL 改成 Illinois (可以自己define一个function，也可以查询Python lambda function的使用)"
   ]
  },
  {
   "cell_type": "code",
   "execution_count": 136,
   "id": "0936ff57",
   "metadata": {},
   "outputs": [],
   "source": []
  },
  {
   "cell_type": "markdown",
   "id": "8b4d9aa8",
   "metadata": {},
   "source": [
    "## Do a brief but meaningful analysis to the US population data with the tools you learned. Remember to briefly explain it with comments."
   ]
  },
  {
   "cell_type": "code",
   "execution_count": null,
   "id": "260fe30f",
   "metadata": {},
   "outputs": [],
   "source": []
  },
  {
   "cell_type": "code",
   "execution_count": null,
   "id": "f3247664",
   "metadata": {},
   "outputs": [],
   "source": []
  }
 ],
 "metadata": {
  "kernelspec": {
   "display_name": "Python 3",
   "language": "python",
   "name": "python3"
  },
  "language_info": {
   "codemirror_mode": {
    "name": "ipython",
    "version": 3
   },
   "file_extension": ".py",
   "mimetype": "text/x-python",
   "name": "python",
   "nbconvert_exporter": "python",
   "pygments_lexer": "ipython3",
   "version": "3.8.8"
  },
  "toc": {
   "base_numbering": 1,
   "nav_menu": {},
   "number_sections": true,
   "sideBar": true,
   "skip_h1_title": false,
   "title_cell": "Table of Contents",
   "title_sidebar": "Contents",
   "toc_cell": false,
   "toc_position": {},
   "toc_section_display": true,
   "toc_window_display": false
  },
  "varInspector": {
   "cols": {
    "lenName": 16,
    "lenType": 16,
    "lenVar": 40
   },
   "kernels_config": {
    "python": {
     "delete_cmd_postfix": "",
     "delete_cmd_prefix": "del ",
     "library": "var_list.py",
     "varRefreshCmd": "print(var_dic_list())"
    },
    "r": {
     "delete_cmd_postfix": ") ",
     "delete_cmd_prefix": "rm(",
     "library": "var_list.r",
     "varRefreshCmd": "cat(var_dic_list()) "
    }
   },
   "types_to_exclude": [
    "module",
    "function",
    "builtin_function_or_method",
    "instance",
    "_Feature"
   ],
   "window_display": false
  }
 },
 "nbformat": 4,
 "nbformat_minor": 5
}
